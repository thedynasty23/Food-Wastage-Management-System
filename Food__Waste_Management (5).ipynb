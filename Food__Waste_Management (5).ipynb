{
  "nbformat": 4,
  "nbformat_minor": 0,
  "metadata": {
    "colab": {
      "provenance": []
    },
    "kernelspec": {
      "name": "python3",
      "display_name": "Python 3"
    },
    "language_info": {
      "name": "python"
    }
  },
  "cells": [
    {
      "cell_type": "markdown",
      "source": [
        "## **Project Name**    - Food Waste Management System\n",
        "\n",
        "- **Project Type** - SQL Based Data Storage & Analysis\n",
        "- **Contribution** - RAJVANSH (Individual)\n"
      ],
      "metadata": {
        "id": "xcOe0sHdGYF0"
      }
    },
    {
      "cell_type": "markdown",
      "source": [
        "## Summary"
      ],
      "metadata": {
        "id": "00N48PnMIVNm"
      }
    },
    {
      "cell_type": "markdown",
      "source": [
        "### 📊 Food Waste Management Project — Notebook Summary  \n",
        "\n",
        "This notebook is all about analyzing, cleaning, and visualizing **food waste management data** 🥗📦.  \n",
        "Here’s a friendly walkthrough of what’s inside:\n",
        "\n",
        "---\n",
        "\n",
        "### 🛠 Structure Overview:\n",
        "- **Markdown cells:** 82 (explanations, analysis notes)  \n",
        "- **Code cells:** 63 (functions, SQL, visualizations)  \n",
        "\n",
        "---\n",
        "\n",
        "### 📂 Key Sections:\n",
        "- ### 1. Initialization  \n",
        "- ### 2. Exploratory Data Analysis  \n",
        "- ### 3. Creating Database & ORM Models  \n",
        "- ### 4. Data Ingestion  \n",
        "   - **Ingesting Data**  \n",
        "   - **Validating Ingestion**  \n",
        "- ### 5. EDA on Created Database  \n",
        "   - **Exploring Dataset using SQL**  \n",
        "   - **Performing Joins**  \n",
        "- ### 6. Data Visualization using SQL  \n",
        "   - Histograms, Bar Charts, Pie Charts  \n",
        "   - WordCloud ☁️  \n",
        "   - Heatmaps & Bivariate Plots  \n",
        "\n",
        "---\n",
        "\n",
        "### 📦 Major Libraries Used:\n",
        "`sqlite3, matplotlib, seaborn, pandas, plotly, sqlalchemy, wordcloud, networkx, re, datetime, hashlib`  \n",
        "\n",
        "---\n",
        "\n",
        "## 🔧 Functions Defined (Sample):\n",
        "`print_unique_counts, check_nulls, check_duplicates, clean_contact, clean_dates, ingest_table, show_summary, run_validations` …and more!  \n",
        "\n",
        "---\n",
        "\n",
        "### 🎯 What You’ll See Inside:\n",
        "- **Data Cleaning & Validation** 🧹  \n",
        "- **Database Creation & ORM Models** 🗄  \n",
        "- **Data Ingestion** 📥  \n",
        "- **Exploratory Data Analysis (EDA)** 🔍  \n",
        "- **Data Visualization** 📈  \n",
        "   - Histograms, Bar Charts, Pie Charts  \n",
        "   - WordCloud ☁️  \n",
        "   - Heatmaps, Bivariate Plots  \n",
        "- **Final Insights** 🧠  \n",
        "\n",
        "---\n",
        "\n",
        "✨ **In short:** This notebook takes you from **raw food waste data ➝ cleaned & structured database ➝ rich visual insights** 🚀  \n"
      ],
      "metadata": {
        "id": "AIrzGS5BF_LH"
      }
    },
    {
      "cell_type": "markdown",
      "source": [
        "## 1. Initialization"
      ],
      "metadata": {
        "id": "5f4qEuhDvDpJ"
      }
    },
    {
      "cell_type": "markdown",
      "source": [
        "**Fulfilling Requirements**"
      ],
      "metadata": {
        "id": "lIzq9MD_RqiR"
      }
    },
    {
      "cell_type": "code",
      "source": [
        "!pip install sqlalchemy pandas numpy names\n",
        "print(\" ✅ Installed libraries\")"
      ],
      "metadata": {
        "colab": {
          "base_uri": "https://localhost:8080/"
        },
        "id": "1qG_JlrPvvpe",
        "outputId": "591db0c5-b4f6-47e5-bcf2-f0990cce0a95"
      },
      "execution_count": null,
      "outputs": [
        {
          "output_type": "stream",
          "name": "stdout",
          "text": [
            "Requirement already satisfied: sqlalchemy in /usr/local/lib/python3.11/dist-packages (2.0.42)\n",
            "Requirement already satisfied: pandas in /usr/local/lib/python3.11/dist-packages (2.2.2)\n",
            "Requirement already satisfied: numpy in /usr/local/lib/python3.11/dist-packages (2.0.2)\n",
            "Collecting names\n",
            "  Downloading names-0.3.0.tar.gz (789 kB)\n",
            "\u001b[?25l     \u001b[90m━━━━━━━━━━━━━━━━━━━━━━━━━━━━━━━━━━━━━━━━\u001b[0m \u001b[32m0.0/789.1 kB\u001b[0m \u001b[31m?\u001b[0m eta \u001b[36m-:--:--\u001b[0m\r\u001b[2K     \u001b[91m━━━━━━━━━━━━━━━━━━━━━━━━━━\u001b[0m\u001b[91m╸\u001b[0m\u001b[90m━━━━━━━━━━━\u001b[0m \u001b[32m553.0/789.1 kB\u001b[0m \u001b[31m18.2 MB/s\u001b[0m eta \u001b[36m0:00:01\u001b[0m\r\u001b[2K     \u001b[90m━━━━━━━━━━━━━━━━━━━━━━━━━━━━━━━━━━━━━━\u001b[0m \u001b[32m789.1/789.1 kB\u001b[0m \u001b[31m15.2 MB/s\u001b[0m eta \u001b[36m0:00:00\u001b[0m\n",
            "\u001b[?25h  Preparing metadata (setup.py) ... \u001b[?25l\u001b[?25hdone\n",
            "Requirement already satisfied: greenlet>=1 in /usr/local/lib/python3.11/dist-packages (from sqlalchemy) (3.2.3)\n",
            "Requirement already satisfied: typing-extensions>=4.6.0 in /usr/local/lib/python3.11/dist-packages (from sqlalchemy) (4.14.1)\n",
            "Requirement already satisfied: python-dateutil>=2.8.2 in /usr/local/lib/python3.11/dist-packages (from pandas) (2.9.0.post0)\n",
            "Requirement already satisfied: pytz>=2020.1 in /usr/local/lib/python3.11/dist-packages (from pandas) (2025.2)\n",
            "Requirement already satisfied: tzdata>=2022.7 in /usr/local/lib/python3.11/dist-packages (from pandas) (2025.2)\n",
            "Requirement already satisfied: six>=1.5 in /usr/local/lib/python3.11/dist-packages (from python-dateutil>=2.8.2->pandas) (1.17.0)\n",
            "Building wheels for collected packages: names\n",
            "  Building wheel for names (setup.py) ... \u001b[?25l\u001b[?25hdone\n",
            "  Created wheel for names: filename=names-0.3.0-py3-none-any.whl size=803681 sha256=0ecc3e269add70e00265fecfdbfbee05223f2fe16a3c9829bc7d017893ae10e0\n",
            "  Stored in directory: /root/.cache/pip/wheels/8d/db/fc/50ec19a89a8dcbbd158a4aae44123cb525cda1f07dae287197\n",
            "Successfully built names\n",
            "Installing collected packages: names\n",
            "Successfully installed names-0.3.0\n",
            " ✅ Installed libraries\n"
          ]
        }
      ]
    },
    {
      "cell_type": "markdown",
      "source": [
        "**Importing Libraries**"
      ],
      "metadata": {
        "id": "_TSLn1EIRxRP"
      }
    },
    {
      "cell_type": "code",
      "execution_count": null,
      "metadata": {
        "id": "TSCB1kyIpe-A",
        "colab": {
          "base_uri": "https://localhost:8080/"
        },
        "outputId": "67bb28d4-cd10-4f81-a83f-360113cfddfd"
      },
      "outputs": [
        {
          "output_type": "stream",
          "name": "stdout",
          "text": [
            " ✅ Imported libraries\n"
          ]
        }
      ],
      "source": [
        "# Importing Libraries\n",
        "import sqlite3\n",
        "from datetime import datetime, timedelta\n",
        "import random\n",
        "import hashlib\n",
        "from sqlalchemy import (create_engine, Column, Integer, String, DateTime,\n",
        "                        Boolean, Text, ForeignKey, DECIMAL, func)\n",
        "from sqlalchemy.orm import declarative_base, sessionmaker\n",
        "import pandas as pd\n",
        "import re\n",
        "\n",
        "from sqlalchemy import Date\n",
        "from sqlalchemy.orm import relationship\n",
        "import os\n",
        "import time\n",
        "print(\" ✅ Imported libraries\")\n",
        "import seaborn as sns\n",
        "import matplotlib.pyplot as plt\n",
        "import pandas as pd\n",
        "from sqlalchemy import create_engine, text\n",
        "import plotly.express as px"
      ]
    },
    {
      "cell_type": "markdown",
      "source": [
        "## 2. Exploratory Data Analysis"
      ],
      "metadata": {
        "id": "0-lRg9k2vKqS"
      }
    },
    {
      "cell_type": "markdown",
      "source": [
        "**Loading Dataset**"
      ],
      "metadata": {
        "id": "XD8Ph6pNvSTz"
      }
    },
    {
      "cell_type": "code",
      "source": [
        "claims_dir = '/content/drive/MyDrive/Waste Man. SQL/claims_data.csv'\n",
        "food_listings_dir = '/content/drive/MyDrive/Waste Man. SQL/food_listings_data.csv'\n",
        "providers_dir = '/content/drive/MyDrive/Waste Man. SQL/providers_data.csv'\n",
        "receivers_dir = '/content/drive/MyDrive/Waste Man. SQL/receivers_data.csv'"
      ],
      "metadata": {
        "id": "R9tEr6mQTSJc"
      },
      "execution_count": null,
      "outputs": []
    },
    {
      "cell_type": "code",
      "source": [
        "# Loading CSV File to DataFrame\n",
        "claims = pd.read_csv(claims_dir)\n",
        "food_listings = pd.read_csv(food_listings_dir)\n",
        "providers = pd.read_csv(providers_dir)\n",
        "receivers = pd.read_csv(receivers_dir)\n",
        "print(\"✅ Loaded CSV files to DataFrames\")"
      ],
      "metadata": {
        "id": "VwCNKWc3rNWq",
        "colab": {
          "base_uri": "https://localhost:8080/"
        },
        "outputId": "126432f7-24ad-4fce-ad74-2c48bb71f3be"
      },
      "execution_count": null,
      "outputs": [
        {
          "output_type": "stream",
          "name": "stdout",
          "text": [
            "✅ Loaded CSV files to DataFrames\n"
          ]
        }
      ]
    },
    {
      "cell_type": "markdown",
      "source": [
        "**Basic Info of Datasets**"
      ],
      "metadata": {
        "id": "glnGuZiavVuA"
      }
    },
    {
      "cell_type": "code",
      "source": [
        "# Display basic info for each\n",
        "print(\"Providers:\")\n",
        "print(providers.info(), providers.head(), sep=\"\\n\\n\")\n",
        "\n",
        "print(\"\\nReceivers:\")\n",
        "print(receivers.info(), receivers.head(), sep=\"\\n\\n\")\n",
        "\n",
        "print(\"\\nFood Listings:\")\n",
        "print(food_listings.info(), food_listings.head(), sep=\"\\n\\n\")\n",
        "\n",
        "print(\"\\nClaims:\")\n",
        "print(claims.info(), claims.head(), sep=\"\\n\\n\")"
      ],
      "metadata": {
        "colab": {
          "base_uri": "https://localhost:8080/"
        },
        "id": "SKjrSCDli5a9",
        "outputId": "963a2cc4-3dd4-462e-c239-8dcb285b32c2"
      },
      "execution_count": null,
      "outputs": [
        {
          "output_type": "stream",
          "name": "stdout",
          "text": [
            "Providers:\n",
            "<class 'pandas.core.frame.DataFrame'>\n",
            "RangeIndex: 1000 entries, 0 to 999\n",
            "Data columns (total 6 columns):\n",
            " #   Column       Non-Null Count  Dtype \n",
            "---  ------       --------------  ----- \n",
            " 0   Provider_ID  1000 non-null   int64 \n",
            " 1   Name         1000 non-null   object\n",
            " 2   Type         1000 non-null   object\n",
            " 3   Address      1000 non-null   object\n",
            " 4   City         1000 non-null   object\n",
            " 5   Contact      1000 non-null   object\n",
            "dtypes: int64(1), object(5)\n",
            "memory usage: 47.0+ KB\n",
            "None\n",
            "\n",
            "   Provider_ID                         Name           Type  \\\n",
            "0            1             Gonzales-Cochran    Supermarket   \n",
            "1            2  Nielsen, Johnson and Fuller  Grocery Store   \n",
            "2            3                 Miller-Black    Supermarket   \n",
            "3            4   Clark, Prince and Williams  Grocery Store   \n",
            "4            5               Coleman-Farley  Grocery Store   \n",
            "\n",
            "                                             Address            City  \\\n",
            "0  74347 Christopher Extensions\\nAndreamouth, OK ...     New Jessica   \n",
            "1           91228 Hanson Stream\\nWelchtown, OR 27136     East Sheena   \n",
            "2  561 Martinez Point Suite 507\\nGuzmanchester, W...  Lake Jesusview   \n",
            "3     467 Bell Trail Suite 409\\nPort Jesus, IA 61188     Mendezmouth   \n",
            "4  078 Matthew Creek Apt. 319\\nSaraborough, MA 53978   Valentineside   \n",
            "\n",
            "                Contact  \n",
            "0       +1-600-220-0480  \n",
            "1  +1-925-283-8901x6297  \n",
            "2      001-517-295-2206  \n",
            "3      556.944.8935x401  \n",
            "4          193.714.6577  \n",
            "\n",
            "Receivers:\n",
            "<class 'pandas.core.frame.DataFrame'>\n",
            "RangeIndex: 1000 entries, 0 to 999\n",
            "Data columns (total 5 columns):\n",
            " #   Column       Non-Null Count  Dtype \n",
            "---  ------       --------------  ----- \n",
            " 0   Receiver_ID  1000 non-null   int64 \n",
            " 1   Name         1000 non-null   object\n",
            " 2   Type         1000 non-null   object\n",
            " 3   City         1000 non-null   object\n",
            " 4   Contact      1000 non-null   object\n",
            "dtypes: int64(1), object(4)\n",
            "memory usage: 39.2+ KB\n",
            "None\n",
            "\n",
            "   Receiver_ID          Name        Type               City           Contact\n",
            "0            1  Donald Gomez     Shelter     Port Carlburgh     (955)922-5295\n",
            "1            2  Laurie Ramos  Individual         Lewisburgh      761.042.1570\n",
            "2            3  Ashley Mckee         NGO  South Randalltown  691-023-0094x856\n",
            "3            4    Erika Rose         NGO   South Shaneville        8296491111\n",
            "4            5   John Romero  Individual          Bakerport      067.491.0154\n",
            "\n",
            "Food Listings:\n",
            "<class 'pandas.core.frame.DataFrame'>\n",
            "RangeIndex: 1000 entries, 0 to 999\n",
            "Data columns (total 9 columns):\n",
            " #   Column         Non-Null Count  Dtype \n",
            "---  ------         --------------  ----- \n",
            " 0   Food_ID        1000 non-null   int64 \n",
            " 1   Food_Name      1000 non-null   object\n",
            " 2   Quantity       1000 non-null   int64 \n",
            " 3   Expiry_Date    1000 non-null   object\n",
            " 4   Provider_ID    1000 non-null   int64 \n",
            " 5   Provider_Type  1000 non-null   object\n",
            " 6   Location       1000 non-null   object\n",
            " 7   Food_Type      1000 non-null   object\n",
            " 8   Meal_Type      1000 non-null   object\n",
            "dtypes: int64(3), object(6)\n",
            "memory usage: 70.4+ KB\n",
            "None\n",
            "\n",
            "   Food_ID Food_Name  Quantity Expiry_Date  Provider_ID     Provider_Type  \\\n",
            "0        1     Bread        43   3/17/2025          110     Grocery Store   \n",
            "1        2      Soup        22   3/24/2025          791     Grocery Store   \n",
            "2        3    Fruits        46   3/28/2025          478  Catering Service   \n",
            "3        4    Fruits        15   3/16/2025          930        Restaurant   \n",
            "4        5      Soup        14   3/19/2025          279        Restaurant   \n",
            "\n",
            "           Location       Food_Type  Meal_Type  \n",
            "0  South Kellyville  Non-Vegetarian  Breakfast  \n",
            "1        West James  Non-Vegetarian     Dinner  \n",
            "2       Lake Regina           Vegan  Breakfast  \n",
            "3         Kellytown           Vegan      Lunch  \n",
            "4        Garciaport           Vegan     Dinner  \n",
            "\n",
            "Claims:\n",
            "<class 'pandas.core.frame.DataFrame'>\n",
            "RangeIndex: 1000 entries, 0 to 999\n",
            "Data columns (total 5 columns):\n",
            " #   Column       Non-Null Count  Dtype \n",
            "---  ------       --------------  ----- \n",
            " 0   Claim_ID     1000 non-null   int64 \n",
            " 1   Food_ID      1000 non-null   int64 \n",
            " 2   Receiver_ID  1000 non-null   int64 \n",
            " 3   Status       1000 non-null   object\n",
            " 4   Timestamp    1000 non-null   object\n",
            "dtypes: int64(3), object(2)\n",
            "memory usage: 39.2+ KB\n",
            "None\n",
            "\n",
            "   Claim_ID  Food_ID  Receiver_ID     Status        Timestamp\n",
            "0         1      164          908    Pending    3/5/2025 5:26\n",
            "1         2      353          391  Cancelled  3/11/2025 10:24\n",
            "2         3      626          492  Completed   3/21/2025 0:59\n",
            "3         4       61          933  Cancelled    3/4/2025 9:08\n",
            "4         5      345          229    Pending  3/14/2025 15:17\n"
          ]
        }
      ]
    },
    {
      "cell_type": "markdown",
      "source": [
        "---\n",
        "**📂 DATASETS & THEIR MEANING**\n",
        "\n",
        "You have 4 main tables that together can create a full Food Donation & Claim tracking system:\n",
        "\n",
        "\n",
        "---\n",
        "\n",
        "\n",
        "\n",
        "**1️⃣ Providers Table (providers)**\n",
        "\n",
        "- 📦 1000 records\n",
        "\n",
        "- Each row = a food provider (e.g. supermarket, grocery store, restaurant, catering service).\n",
        "\n",
        "- Important columns:\n",
        "\n",
        "  - Provider_ID → Unique ID for the provider 🔑\n",
        "\n",
        "  - Name, Type → Who they are & what kind of business it is 🏢\n",
        "\n",
        "  - ddress, City → Where they operate 📍\n",
        "\n",
        "  - Contact → Phone or email 📞\n",
        "\n",
        "---\n",
        "\n",
        "\n",
        "\n",
        "**2️⃣ Receivers Table (receivers)**\n",
        "\n",
        "- 🤝 1000 records\n",
        "\n",
        "- Represents recipients of donated food (NGOs, shelters, individuals).\n",
        "\n",
        "- Important columns:\n",
        "\n",
        "   - Receiver_ID → Unique ID for receiver 🔑\n",
        "\n",
        "   - Name, Type → Name & category (NGO, Individual, Shelter) 🏘\n",
        "\n",
        "   - City, Contact → Where they are located & how to reach them 📍☎\n",
        "\n",
        "\n",
        "---\n",
        "\n",
        "\n",
        "\n",
        "\n",
        "\n",
        "\n",
        "\n",
        "3️⃣ Food Listings Table (food_listings)\n",
        "\n",
        "- 🍲 1000 records\n",
        "\n",
        "- Lists available food donation entries.\n",
        "\n",
        "- Important columns:\n",
        "\n",
        "     - Food_ID → Unique ID for the food listing 🔑\n",
        "\n",
        "     - Food_Name → What the food is (Bread, Soup, Fruits, etc.) 🍞🥣🍎\n",
        "\n",
        "     - Quantity → Amount available 🏷\n",
        "\n",
        "     - Expiry_Date → When it must be used by ⏳\n",
        "\n",
        "     - Provider_ID & Provider_Type → Who is offering it 🏭\n",
        "\n",
        "     - Location → Where to pick it up 📍\n",
        "\n",
        "     - Food_Type → Vegetarian / Non-Vegetarian / Vegan 🌱🍗\n",
        "\n",
        "     - Meal_Type → Breakfast / Lunch / Dinner 🍳🥗🍛\n",
        "\n",
        "---\n",
        "\n",
        "4️⃣ Claims Table (claims)\n",
        "\n",
        "- 📜 1000 records\n",
        "\n",
        "- Represents requests made by receivers for food.\n",
        "\n",
        "- Important columns:\n",
        "\n",
        "    - Claim_ID → Unique ID 🔑\n",
        "\n",
        "    - Food_ID → Which food listing is being claimed 🍽\n",
        "\n",
        "    - Receiver_ID → Who is requesting 📥\n",
        "\n",
        "    - Status → Pending, Completed, Cancelled ✅❌⏳\n",
        "\n",
        "    - Timestamp → When the claim was made 🕒\n",
        "---    "
      ],
      "metadata": {
        "id": "1RwUeX0NkjA7"
      }
    },
    {
      "cell_type": "markdown",
      "source": [
        "**Checking for Unique Values**"
      ],
      "metadata": {
        "id": "wgW6yGqmvckw"
      }
    },
    {
      "cell_type": "code",
      "source": [
        "# Number of Unique Values\n",
        "def print_unique_counts(df, name, emoji):\n",
        "    print(f\"\\n{emoji}  ===== {name.upper()} =====\")\n",
        "    for col in df.columns:\n",
        "        count = df[col].nunique()\n",
        "        print(f\"    {col:<25} →  {count} unique values\")\n",
        "\n",
        "# Display with emojis\n",
        "print_unique_counts(providers, \"Providers Dataset\", \"🏢\")\n",
        "print_unique_counts(receivers, \"Receivers Dataset\", \"🙋‍♂️\")\n",
        "print_unique_counts(food_listings, \"Food Listings Dataset\", \"🍽️\")\n",
        "print_unique_counts(claims, \"Claims Dataset\", \"📄\")"
      ],
      "metadata": {
        "colab": {
          "base_uri": "https://localhost:8080/"
        },
        "id": "JidD5FrOnX70",
        "outputId": "686108fa-2c8c-4ef8-d1c7-eff4ba6981fc"
      },
      "execution_count": null,
      "outputs": [
        {
          "output_type": "stream",
          "name": "stdout",
          "text": [
            "\n",
            "🏢  ===== PROVIDERS DATASET =====\n",
            "    Provider_ID               →  1000 unique values\n",
            "    Name                      →  973 unique values\n",
            "    Type                      →  4 unique values\n",
            "    Address                   →  1000 unique values\n",
            "    City                      →  963 unique values\n",
            "    Contact                   →  1000 unique values\n",
            "\n",
            "🙋‍♂️  ===== RECEIVERS DATASET =====\n",
            "    Receiver_ID               →  1000 unique values\n",
            "    Name                      →  992 unique values\n",
            "    Type                      →  4 unique values\n",
            "    City                      →  966 unique values\n",
            "    Contact                   →  1000 unique values\n",
            "\n",
            "🍽️  ===== FOOD LISTINGS DATASET =====\n",
            "    Food_ID                   →  1000 unique values\n",
            "    Food_Name                 →  10 unique values\n",
            "    Quantity                  →  50 unique values\n",
            "    Expiry_Date               →  15 unique values\n",
            "    Provider_ID               →  637 unique values\n",
            "    Provider_Type             →  4 unique values\n",
            "    Location                  →  624 unique values\n",
            "    Food_Type                 →  3 unique values\n",
            "    Meal_Type                 →  4 unique values\n",
            "\n",
            "📄  ===== CLAIMS DATASET =====\n",
            "    Claim_ID                  →  1000 unique values\n",
            "    Food_ID                   →  647 unique values\n",
            "    Receiver_ID               →  624 unique values\n",
            "    Status                    →  3 unique values\n",
            "    Timestamp                 →  976 unique values\n"
          ]
        }
      ]
    },
    {
      "cell_type": "markdown",
      "source": [
        "---\n",
        "**Key Insights From This**\n",
        "\n",
        "- IDs are unique in all tables  →  Good for database keys.\n",
        "\n",
        "- Names and cities repeat  →  This can be normal but should be checked for duplicates vs legitimate repeats.\n",
        "\n",
        "- Food listings  →  Limited variety in food names & types → suggests categorization is coarse.\n",
        "\n",
        "- Claims data  →  Multiple claims on same food item and by same receiver is possible → business rule check needed.\n",
        "\n",
        "- Dates  →  Few unique expiry dates → likely data entry pattern (bulk uploads)\n",
        "\n",
        "---"
      ],
      "metadata": {
        "id": "Yw5ZgPtvqJyN"
      }
    },
    {
      "cell_type": "markdown",
      "source": [
        "**Checking Null Values**"
      ],
      "metadata": {
        "id": "37U8g7d3vhQt"
      }
    },
    {
      "cell_type": "code",
      "source": [
        "# Function to check null values\n",
        "def check_nulls(df, name, emoji):\n",
        "    null_counts = df.isnull().sum()\n",
        "    total_rows = len(df)\n",
        "\n",
        "    print(f\"\\n{emoji} ===== {name.upper()} =====\")\n",
        "    if null_counts.sum() == 0:\n",
        "        print(\"✅ No missing values found!\")\n",
        "    else:\n",
        "        for col, count in null_counts.items():\n",
        "            if count > 0:\n",
        "                pct = (count / total_rows) * 100\n",
        "                print(f\"⚠️ {col:<20} → {count} missing values ({pct:.2f}%)\")\n",
        "\n",
        "# Run checks\n",
        "check_nulls(providers, \"Providers Dataset\", \"🏢\")\n",
        "check_nulls(receivers, \"Receivers Dataset\", \"🙋‍♂️\")\n",
        "check_nulls(food_listings, \"Food Listings Dataset\", \"🍽️\")\n",
        "check_nulls(claims, \"Claims Dataset\", \"📄\")"
      ],
      "metadata": {
        "colab": {
          "base_uri": "https://localhost:8080/"
        },
        "id": "56HldMb8ukix",
        "outputId": "cf815d8d-7445-4b5d-ef95-711fc7c2bebb"
      },
      "execution_count": null,
      "outputs": [
        {
          "output_type": "stream",
          "name": "stdout",
          "text": [
            "\n",
            "🏢 ===== PROVIDERS DATASET =====\n",
            "✅ No missing values found!\n",
            "\n",
            "🙋‍♂️ ===== RECEIVERS DATASET =====\n",
            "✅ No missing values found!\n",
            "\n",
            "🍽️ ===== FOOD LISTINGS DATASET =====\n",
            "✅ No missing values found!\n",
            "\n",
            "📄 ===== CLAIMS DATASET =====\n",
            "✅ No missing values found!\n"
          ]
        }
      ]
    },
    {
      "cell_type": "markdown",
      "source": [
        "**Checking Duplicate Values**"
      ],
      "metadata": {
        "id": "XDiAFCcwvl4P"
      }
    },
    {
      "cell_type": "code",
      "source": [
        "# Function to check duplicates\n",
        "def check_duplicates(df, name, emoji):\n",
        "    dup_count = df.duplicated().sum()\n",
        "    if dup_count > 0:\n",
        "        print(f\"\\n{emoji}  ===== {name.upper()} =====\")\n",
        "        print(f\"⚠️  Found {dup_count} duplicate rows!\")\n",
        "        display(df[df.duplicated()])\n",
        "    else:\n",
        "        print(f\"\\n{emoji}  ===== {name.upper()} =====\")\n",
        "        print(\"✅  No duplicate rows found!\")\n",
        "\n",
        "# Run checks\n",
        "check_duplicates(providers, \"Providers Dataset\", \"🏢\")\n",
        "check_duplicates(receivers, \"Receivers Dataset\", \"🙋‍♂️\")\n",
        "check_duplicates(food_listings, \"Food Listings Dataset\", \"🍽️\")\n",
        "check_duplicates(claims, \"Claims Dataset\", \"📄\")"
      ],
      "metadata": {
        "colab": {
          "base_uri": "https://localhost:8080/"
        },
        "id": "VxcYYcL3oNRc",
        "outputId": "0d553893-7265-439e-8bf5-0c57ea585b60"
      },
      "execution_count": null,
      "outputs": [
        {
          "output_type": "stream",
          "name": "stdout",
          "text": [
            "\n",
            "🏢  ===== PROVIDERS DATASET =====\n",
            "✅  No duplicate rows found!\n",
            "\n",
            "🙋‍♂️  ===== RECEIVERS DATASET =====\n",
            "✅  No duplicate rows found!\n",
            "\n",
            "🍽️  ===== FOOD LISTINGS DATASET =====\n",
            "✅  No duplicate rows found!\n",
            "\n",
            "📄  ===== CLAIMS DATASET =====\n",
            "✅  No duplicate rows found!\n"
          ]
        }
      ]
    },
    {
      "cell_type": "markdown",
      "source": [
        "**Checking Data Consistency and Formatting**\n",
        "- Data types are correct.\n",
        "\n",
        "- Formatting of strings (case, spacing, special characters) is consistent.\n",
        "\n",
        "- Numeric and date values are in valid ranges.\n",
        "\n",
        "- Categorical values use a standard set (no duplicates due to typos)."
      ],
      "metadata": {
        "id": "bziLkwCCwBqZ"
      }
    },
    {
      "cell_type": "code",
      "source": [
        "def check_formatting(df, name):\n",
        "    print(f\"\\n🔍 Checking formatting for {name}...\")\n",
        "\n",
        "    # 1️⃣ Data type check\n",
        "    print(\"📌 Data types:\")\n",
        "    print(df.dtypes)\n",
        "\n",
        "    # 2️⃣ Leading/trailing spaces check for string columns\n",
        "    str_cols = df.select_dtypes(include='object').columns\n",
        "    for col in str_cols:\n",
        "        spaces = df[col].str.startswith(\" \") | df[col].str.endswith(\" \")\n",
        "        if spaces.any():\n",
        "            print(f\"⚠️ Column '{col}' has values with leading/trailing spaces.\")\n",
        "\n",
        "    # 3️⃣ Case consistency (for text categories)\n",
        "    for col in str_cols:\n",
        "        unique_vals = df[col].dropna().unique()\n",
        "        if len(unique_vals) > 0:\n",
        "            case_types = set([val for val in unique_vals if isinstance(val, str) and not val.islower() and not val.isupper()])\n",
        "            if len(case_types) > 0:\n",
        "                print(f\"⚠️ Column '{col}' might have inconsistent capitalization: {list(unique_vals)[:5]}\")\n",
        "\n",
        "    # 4️⃣ Categorical consistency — find close matches (typos)\n",
        "    for col in str_cols:\n",
        "        if df[col].nunique() < 20:  # limit to categorical-like columns\n",
        "            print(f\"✅ '{col}' unique values:\", df[col].dropna().unique())\n",
        "\n",
        "    # 5️⃣ Date format consistency\n",
        "    date_cols = df.select_dtypes(include='datetime').columns\n",
        "    if len(date_cols) == 0:\n",
        "        # Try converting any date-like column\n",
        "        for col in df.columns:\n",
        "            try:\n",
        "                pd.to_datetime(df[col])\n",
        "            except:\n",
        "                continue\n",
        "\n",
        "# Run for all datasets\n",
        "check_formatting(providers, \"Providers\")\n",
        "check_formatting(receivers, \"Receivers\")\n",
        "check_formatting(food_listings, \"Food Listings\")\n",
        "check_formatting(claims, \"Claims\")"
      ],
      "metadata": {
        "colab": {
          "base_uri": "https://localhost:8080/"
        },
        "id": "j5HAe-OHoiLh",
        "outputId": "afbc3eca-e422-43d1-8844-99505f9548ae"
      },
      "execution_count": null,
      "outputs": [
        {
          "output_type": "stream",
          "name": "stdout",
          "text": [
            "\n",
            "🔍 Checking formatting for Providers...\n",
            "📌 Data types:\n",
            "Provider_ID     int64\n",
            "Name           object\n",
            "Type           object\n",
            "Address        object\n",
            "City           object\n",
            "Contact        object\n",
            "dtype: object\n",
            "⚠️ Column 'Name' might have inconsistent capitalization: ['Gonzales-Cochran', 'Nielsen, Johnson and Fuller', 'Miller-Black', 'Clark, Prince and Williams', 'Coleman-Farley']\n",
            "⚠️ Column 'Type' might have inconsistent capitalization: ['Supermarket', 'Grocery Store', 'Restaurant', 'Catering Service']\n",
            "⚠️ Column 'Address' might have inconsistent capitalization: ['74347 Christopher Extensions\\nAndreamouth, OK 91839', '91228 Hanson Stream\\nWelchtown, OR 27136', '561 Martinez Point Suite 507\\nGuzmanchester, WA 94320', '467 Bell Trail Suite 409\\nPort Jesus, IA 61188', '078 Matthew Creek Apt. 319\\nSaraborough, MA 53978']\n",
            "⚠️ Column 'City' might have inconsistent capitalization: ['New Jessica', 'East Sheena', 'Lake Jesusview', 'Mendezmouth', 'Valentineside']\n",
            "⚠️ Column 'Contact' might have inconsistent capitalization: ['+1-600-220-0480', '+1-925-283-8901x6297', '001-517-295-2206', '556.944.8935x401', '193.714.6577']\n",
            "✅ 'Type' unique values: ['Supermarket' 'Grocery Store' 'Restaurant' 'Catering Service']\n",
            "\n",
            "🔍 Checking formatting for Receivers...\n",
            "📌 Data types:\n",
            "Receiver_ID     int64\n",
            "Name           object\n",
            "Type           object\n",
            "City           object\n",
            "Contact        object\n",
            "dtype: object\n",
            "⚠️ Column 'Name' might have inconsistent capitalization: ['Donald Gomez', 'Laurie Ramos', 'Ashley Mckee', 'Erika Rose', 'John Romero']\n",
            "⚠️ Column 'Type' might have inconsistent capitalization: ['Shelter', 'Individual', 'NGO', 'Charity']\n",
            "⚠️ Column 'City' might have inconsistent capitalization: ['Port Carlburgh', 'Lewisburgh', 'South Randalltown', 'South Shaneville', 'Bakerport']\n",
            "⚠️ Column 'Contact' might have inconsistent capitalization: ['(955)922-5295', '761.042.1570', '691-023-0094x856', '8296491111', '067.491.0154']\n",
            "✅ 'Type' unique values: ['Shelter' 'Individual' 'NGO' 'Charity']\n",
            "\n",
            "🔍 Checking formatting for Food Listings...\n",
            "📌 Data types:\n",
            "Food_ID           int64\n",
            "Food_Name        object\n",
            "Quantity          int64\n",
            "Expiry_Date      object\n",
            "Provider_ID       int64\n",
            "Provider_Type    object\n",
            "Location         object\n",
            "Food_Type        object\n",
            "Meal_Type        object\n",
            "dtype: object\n",
            "⚠️ Column 'Food_Name' might have inconsistent capitalization: ['Bread', 'Soup', 'Fruits', 'Vegetables', 'Dairy']\n",
            "⚠️ Column 'Expiry_Date' might have inconsistent capitalization: ['3/17/2025', '3/24/2025', '3/28/2025', '3/16/2025', '3/19/2025']\n",
            "⚠️ Column 'Provider_Type' might have inconsistent capitalization: ['Grocery Store', 'Catering Service', 'Restaurant', 'Supermarket']\n",
            "⚠️ Column 'Location' might have inconsistent capitalization: ['South Kellyville', 'West James', 'Lake Regina', 'Kellytown', 'Garciaport']\n",
            "⚠️ Column 'Food_Type' might have inconsistent capitalization: ['Non-Vegetarian', 'Vegan', 'Vegetarian']\n",
            "⚠️ Column 'Meal_Type' might have inconsistent capitalization: ['Breakfast', 'Dinner', 'Lunch', 'Snacks']\n",
            "✅ 'Food_Name' unique values: ['Bread' 'Soup' 'Fruits' 'Vegetables' 'Dairy' 'Rice' 'Pasta' 'Salad'\n",
            " 'Chicken' 'Fish']\n",
            "✅ 'Expiry_Date' unique values: ['3/17/2025' '3/24/2025' '3/28/2025' '3/16/2025' '3/19/2025' '3/25/2025'\n",
            " '3/20/2025' '3/22/2025' '3/30/2025' '3/26/2025' '3/27/2025' '3/21/2025'\n",
            " '3/23/2025' '3/29/2025' '3/18/2025']\n",
            "✅ 'Provider_Type' unique values: ['Grocery Store' 'Catering Service' 'Restaurant' 'Supermarket']\n",
            "✅ 'Food_Type' unique values: ['Non-Vegetarian' 'Vegan' 'Vegetarian']\n",
            "✅ 'Meal_Type' unique values: ['Breakfast' 'Dinner' 'Lunch' 'Snacks']\n",
            "\n",
            "🔍 Checking formatting for Claims...\n",
            "📌 Data types:\n",
            "Claim_ID        int64\n",
            "Food_ID         int64\n",
            "Receiver_ID     int64\n",
            "Status         object\n",
            "Timestamp      object\n",
            "dtype: object\n",
            "⚠️ Column 'Status' might have inconsistent capitalization: ['Pending', 'Cancelled', 'Completed']\n",
            "⚠️ Column 'Timestamp' might have inconsistent capitalization: ['3/5/2025 5:26', '3/11/2025 10:24', '3/21/2025 0:59', '3/4/2025 9:08', '3/14/2025 15:17']\n",
            "✅ 'Status' unique values: ['Pending' 'Cancelled' 'Completed']\n"
          ]
        },
        {
          "output_type": "stream",
          "name": "stderr",
          "text": [
            "/tmp/ipython-input-1724669193.py:34: UserWarning: Could not infer format, so each element will be parsed individually, falling back to `dateutil`. To ensure parsing is consistent and as-expected, please specify a format.\n",
            "  pd.to_datetime(df[col])\n",
            "/tmp/ipython-input-1724669193.py:34: UserWarning: Could not infer format, so each element will be parsed individually, falling back to `dateutil`. To ensure parsing is consistent and as-expected, please specify a format.\n",
            "  pd.to_datetime(df[col])\n",
            "/tmp/ipython-input-1724669193.py:34: UserWarning: Could not infer format, so each element will be parsed individually, falling back to `dateutil`. To ensure parsing is consistent and as-expected, please specify a format.\n",
            "  pd.to_datetime(df[col])\n",
            "/tmp/ipython-input-1724669193.py:34: UserWarning: Could not infer format, so each element will be parsed individually, falling back to `dateutil`. To ensure parsing is consistent and as-expected, please specify a format.\n",
            "  pd.to_datetime(df[col])\n",
            "/tmp/ipython-input-1724669193.py:34: UserWarning: Could not infer format, so each element will be parsed individually, falling back to `dateutil`. To ensure parsing is consistent and as-expected, please specify a format.\n",
            "  pd.to_datetime(df[col])\n",
            "/tmp/ipython-input-1724669193.py:34: UserWarning: Could not infer format, so each element will be parsed individually, falling back to `dateutil`. To ensure parsing is consistent and as-expected, please specify a format.\n",
            "  pd.to_datetime(df[col])\n",
            "/tmp/ipython-input-1724669193.py:34: UserWarning: Could not infer format, so each element will be parsed individually, falling back to `dateutil`. To ensure parsing is consistent and as-expected, please specify a format.\n",
            "  pd.to_datetime(df[col])\n",
            "/tmp/ipython-input-1724669193.py:34: UserWarning: Could not infer format, so each element will be parsed individually, falling back to `dateutil`. To ensure parsing is consistent and as-expected, please specify a format.\n",
            "  pd.to_datetime(df[col])\n",
            "/tmp/ipython-input-1724669193.py:34: UserWarning: Could not infer format, so each element will be parsed individually, falling back to `dateutil`. To ensure parsing is consistent and as-expected, please specify a format.\n",
            "  pd.to_datetime(df[col])\n",
            "/tmp/ipython-input-1724669193.py:34: UserWarning: Could not infer format, so each element will be parsed individually, falling back to `dateutil`. To ensure parsing is consistent and as-expected, please specify a format.\n",
            "  pd.to_datetime(df[col])\n",
            "/tmp/ipython-input-1724669193.py:34: UserWarning: Could not infer format, so each element will be parsed individually, falling back to `dateutil`. To ensure parsing is consistent and as-expected, please specify a format.\n",
            "  pd.to_datetime(df[col])\n",
            "/tmp/ipython-input-1724669193.py:34: UserWarning: Could not infer format, so each element will be parsed individually, falling back to `dateutil`. To ensure parsing is consistent and as-expected, please specify a format.\n",
            "  pd.to_datetime(df[col])\n",
            "/tmp/ipython-input-1724669193.py:34: UserWarning: Could not infer format, so each element will be parsed individually, falling back to `dateutil`. To ensure parsing is consistent and as-expected, please specify a format.\n",
            "  pd.to_datetime(df[col])\n",
            "/tmp/ipython-input-1724669193.py:34: UserWarning: Could not infer format, so each element will be parsed individually, falling back to `dateutil`. To ensure parsing is consistent and as-expected, please specify a format.\n",
            "  pd.to_datetime(df[col])\n",
            "/tmp/ipython-input-1724669193.py:34: UserWarning: Could not infer format, so each element will be parsed individually, falling back to `dateutil`. To ensure parsing is consistent and as-expected, please specify a format.\n",
            "  pd.to_datetime(df[col])\n"
          ]
        }
      ]
    },
    {
      "cell_type": "markdown",
      "source": [
        "**📊 General Observations**\n",
        "\n",
        "- 🆔 All datasets have well-defined unique IDs — perfect for setting up primary keys in the database.\n",
        "\n",
        "- ☎️ Contact fields are the messiest formatting-wise — will need standardization into a single format (e.g., +1XXXXXXXXXX) and removal of special characters.\n",
        "\n",
        "- 🗂️ Categorical fields are already quite clean — only minor capitalization fixes needed for consistency.\n",
        "\n",
        "- ⏳ Date/time fields must be converted to proper formats before running any SQL queries or time-series analysis.\n",
        "\n"
      ],
      "metadata": {
        "id": "67LyHxtCrawV"
      }
    },
    {
      "cell_type": "code",
      "source": [
        "# ===  Helper functions ===\n",
        "def title_case(s):\n",
        "    if pd.isna(s): return s\n",
        "    return str(s).strip().title()\n",
        "\n",
        "def lower_case(s):\n",
        "    if pd.isna(s): return s\n",
        "    return str(s).strip().lower()\n",
        "\n",
        "def clean_contact(contact):\n",
        "    if pd.isna(contact): return contact\n",
        "    digits = re.sub(r'\\D', '', str(contact))  # keep only digits\n",
        "    if digits.startswith(\"1\") and len(digits) == 11:\n",
        "        return f\"+{digits}\"\n",
        "    elif len(digits) == 10:\n",
        "        return f\"+1{digits}\"\n",
        "    else:\n",
        "        return f\"+{digits}\"  # fallback\n",
        "\n",
        "def clean_dates(df, col):\n",
        "    df[col] = pd.to_datetime(df[col], errors='coerce').dt.strftime(\"%Y-%m-%d\")\n",
        "    return df\n",
        "\n",
        "# ===  Standardize Providers ===\n",
        "for col in ['Name', 'City']:\n",
        "    providers[col] = providers[col].apply(title_case)\n",
        "providers['Type'] = providers['Type'].apply(title_case)\n",
        "providers['Contact'] = providers['Contact'].apply(clean_contact)\n",
        "\n",
        "# ===  Standardize Receivers ===\n",
        "for col in ['Name', 'City']:\n",
        "    receivers[col] = receivers[col].apply(title_case)\n",
        "receivers['Type'] = receivers['Type'].apply(title_case)\n",
        "receivers['Contact'] = receivers['Contact'].apply(clean_contact)\n",
        "\n",
        "# ===  Standardize Food Listings ===\n",
        "food_listings['Food_Name'] = food_listings['Food_Name'].apply(title_case)\n",
        "food_listings['Provider_Type'] = food_listings['Provider_Type'].apply(title_case)\n",
        "food_listings['Location'] = food_listings['Location'].apply(title_case)\n",
        "food_listings['Food_Type'] = food_listings['Food_Type'].apply(title_case)\n",
        "food_listings['Meal_Type'] = food_listings['Meal_Type'].apply(title_case)\n",
        "food_listings['Expiry_Date'] = pd.to_datetime(food_listings['Expiry_Date'], errors='coerce').dt.strftime(\"%Y-%m-%d\")\n",
        "\n",
        "# ===  Standardize Claims ===\n",
        "claims['Status'] = claims['Status'].apply(title_case)\n",
        "claims['Timestamp'] = pd.to_datetime(claims['Timestamp'], errors='coerce').dt.strftime(\"%Y-%m-%d %H:%M:%S\")\n",
        "\n",
        "# ===  Validate Foreign Keys ===\n",
        "missing_providers = set(food_listings['Provider_ID']) - set(providers['Provider_ID'])\n",
        "missing_receivers = set(claims['Receiver_ID']) - set(receivers['Receiver_ID'])\n",
        "missing_food_ids = set(claims['Food_ID']) - set(food_listings['Food_ID'])\n",
        "\n",
        "print(\"\\n🔍 Foreign Key Validation:\")\n",
        "print(f\"❌ Missing Provider_IDs in providers: {missing_providers if missing_providers else 'None ✅'}\")\n",
        "print(f\"❌ Missing Receiver_IDs in receivers: {missing_receivers if missing_receivers else 'None ✅'}\")\n",
        "print(f\"❌ Missing Food_IDs in food_listings: {missing_food_ids if missing_food_ids else 'None ✅'}\")\n",
        "\n",
        "print(\"\\n✅ Data cleaned\")"
      ],
      "metadata": {
        "colab": {
          "base_uri": "https://localhost:8080/"
        },
        "id": "w1JrvPQSsitK",
        "outputId": "af0bdf3d-648b-47a6-ead1-6fa64b56fc93"
      },
      "execution_count": null,
      "outputs": [
        {
          "output_type": "stream",
          "name": "stdout",
          "text": [
            "\n",
            "🔍 Foreign Key Validation:\n",
            "❌ Missing Provider_IDs in providers: None ✅\n",
            "❌ Missing Receiver_IDs in receivers: None ✅\n",
            "❌ Missing Food_IDs in food_listings: None ✅\n",
            "\n",
            "✅ Data cleaned\n"
          ]
        }
      ]
    },
    {
      "cell_type": "markdown",
      "source": [
        "---\n",
        "\n",
        "**🛠 What this code does**\n",
        "\n",
        "- **📝Capitalization:**\n",
        "\n",
        "     - Names & cities → Title Case\n",
        "\n",
        "     - Categorical types → Title Case for consistency\n",
        "\n",
        "- **✂️Whitespace** : Automatically stripped in .title() and .lower() functions.\n",
        "\n",
        "- **☎️Contacts:** Strips non-digits, standardizes to +1XXXXXXXXXX style if possible.\n",
        "\n",
        "- **📅Dates/Timestamps:**\n",
        "\n",
        "     - Expiry dates → ISO date YYYY-MM-DD\n",
        "\n",
        "     - Timestamps → ISO datetime YYYY-MM-DD HH:MM:SS\n",
        "\n",
        "- **🔗Foreign Keys :** Reports if any IDs in one table are missing from the parent table.\n",
        "\n",
        "---"
      ],
      "metadata": {
        "id": "iWzU64ZStRTn"
      }
    },
    {
      "cell_type": "markdown",
      "source": [
        "## 3. Creating Database & ORM Models"
      ],
      "metadata": {
        "id": "F_fKs_WEwgwh"
      }
    },
    {
      "cell_type": "markdown",
      "source": [
        "**🌐 What is Database?**"
      ],
      "metadata": {
        "id": "MEFYvY6avM97"
      }
    },
    {
      "cell_type": "markdown",
      "source": [
        "A database is basically a smart way to organize and store information so computers can easily find, update, and manage it.\n",
        "\n",
        "Think of it like a supercharged spreadsheet:\n",
        "\n",
        "- Tables → Like different sheets in Excel, each table holds data about a specific thing. Example: In a social media app, you might have a Users table and a Posts table.\n",
        "\n",
        "- Rows → Each row is one record (like one entry in the table). In the Users table, a row could be you as a user.\n",
        "\n",
        "- Columns → Each column is a property (or attribute) of that record. For a user, columns might be username, email, and password.\n",
        "\n",
        "👉 When you design a database, you decide what tables you need, and what columns each table should have.\n",
        "\n",
        "👉 To manage all this, we often use SQL (Structured Query Language) — a special language that lets you create, update, and query data."
      ],
      "metadata": {
        "id": "Tbs1ywhpvTTB"
      }
    },
    {
      "cell_type": "markdown",
      "source": [
        "**⚙️ What are ORM Models?**"
      ],
      "metadata": {
        "id": "U6p5m9Q3vkJi"
      }
    },
    {
      "cell_type": "markdown",
      "source": [
        "An ORM (Object-Relational Mapping) is a programming technique that allows you to interact with your database, like you would with objects in your preferred programming language (like Python, Java, or JavaScript). It acts as a translator between your application's code and the database.\n",
        "\n",
        "Instead of writing raw SQL queries, you work with objects. The ORM then converts your object-oriented code into SQL statements that the database can understand.\n",
        "\n",
        "Creating ORM models involves defining classes in your code that map to the tables in your database. Each class represents a table, and the attributes of the class represent the columns of that table. An instance of the class represents a row in the table."
      ],
      "metadata": {
        "id": "d4Be2t5Mvfif"
      }
    },
    {
      "cell_type": "markdown",
      "source": [
        "**Dropping Database If Exists**"
      ],
      "metadata": {
        "id": "adrSiVrhzBMK"
      }
    },
    {
      "cell_type": "code",
      "source": [
        "db_path = \"food_waste.db\"  # path used in DATABASE_URL\n",
        "\n",
        "def drop_database():\n",
        "    if os.path.exists(db_path):\n",
        "        os.remove(db_path)\n",
        "        print(f\"🗑 Database '{db_path}' deleted successfully.\")\n",
        "    else:\n",
        "        print(f\"✅ Database '{db_path}' does not exist.\")\n",
        "\n",
        "# Example usage\n",
        "drop_database()"
      ],
      "metadata": {
        "colab": {
          "base_uri": "https://localhost:8080/"
        },
        "id": "DMbfAfbMyII8",
        "outputId": "6c966692-4697-4b5d-ce8b-e2f18ecde938"
      },
      "execution_count": null,
      "outputs": [
        {
          "output_type": "stream",
          "name": "stdout",
          "text": [
            "✅ Database 'food_waste.db' does not exist.\n"
          ]
        }
      ]
    },
    {
      "cell_type": "code",
      "source": [
        "# ============================================\n",
        "# 🗄️ Step 1: Database Setup (SQLite in Colab)\n",
        "# ============================================\n",
        "DATABASE_URL = \"sqlite:///food_waste.db\"  # 📁 SQLite file stored in current directory\n",
        "print(\"🔌 Connecting to database...\")\n",
        "engine = create_engine(DATABASE_URL, echo=False)  # echo=True will print all SQL executed\n",
        "print(\"✅ Database engine created!\")\n",
        "\n",
        "# ============================================\n",
        "# 📦 Step 2: Base class for ORM Models\n",
        "# ============================================\n",
        "Base = declarative_base()\n",
        "print(\"🆕 ORM base class created.\")\n",
        "\n",
        "# ============================================\n",
        "# 🏢 Step 3: Define the 'providers' table\n",
        "# ============================================\n",
        "class Provider(Base):\n",
        "    __tablename__ = \"providers\"  # Table name\n",
        "    provider_id = Column(Integer, primary_key=True)  # 🔑 Primary Key\n",
        "    name = Column(String)  # 🏷️ Provider Name\n",
        "    type = Column(String)  # 🗂️ Category (Supermarket, Restaurant, etc.)\n",
        "    address = Column(String)  # 📍 Address\n",
        "    city = Column(String)  # 🌆 City\n",
        "    contact = Column(String)  # ☎️ Contact Number\n",
        "\n",
        "# ============================================\n",
        "# 🙋 Step 4: Define the 'receivers' table\n",
        "# ============================================\n",
        "class Receiver(Base):\n",
        "    __tablename__ = \"receivers\"\n",
        "    receiver_id = Column(Integer, primary_key=True)  # 🔑 Primary Key\n",
        "    name = Column(String)\n",
        "    type = Column(String)\n",
        "    city = Column(String)\n",
        "    contact = Column(String)\n",
        "\n",
        "# ============================================\n",
        "# 🍽️ Step 5: Define the 'food_listings' table\n",
        "# ============================================\n",
        "class FoodListing(Base):\n",
        "    __tablename__ = \"food_listings\"\n",
        "    food_id = Column(Integer, primary_key=True)  # 🔑 Primary Key\n",
        "    food_name = Column(String)  # 🍲 Food Name\n",
        "    quantity = Column(Integer)  # 📦 Quantity\n",
        "    expiry_date = Column(Date)  # ⏳ Expiry Date\n",
        "    provider_id = Column(Integer, ForeignKey(\"providers.provider_id\"))  # 🔗 Linked to providers\n",
        "    provider_type = Column(String)  # 🏷️ Provider category\n",
        "    location = Column(String)  # 📍 Location of food\n",
        "    food_type = Column(String)  # 🥗 Vegetarian, Vegan, etc.\n",
        "    meal_type = Column(String)  # 🍽️ Breakfast, Lunch, Dinner\n",
        "    provider = relationship(\"Provider\")  # 🔄 ORM relationship for easy access\n",
        "\n",
        "# ============================================\n",
        "# 📄 Step 6: Define the 'claims' table\n",
        "# ============================================\n",
        "class Claim(Base):\n",
        "    __tablename__ = \"claims\"\n",
        "    claim_id = Column(Integer, primary_key=True)  # 🔑 Primary Key\n",
        "    food_id = Column(Integer, ForeignKey(\"food_listings.food_id\"))  # 🔗 Linked to food_listings\n",
        "    receiver_id = Column(Integer, ForeignKey(\"receivers.receiver_id\"))  # 🔗 Linked to receivers\n",
        "    status = Column(String)  # 📊 Claim status (Pending, Completed, Cancelled)\n",
        "    timestamp = Column(DateTime, default=func.now())  # ⏱️ Auto timestamp\n",
        "    receiver = relationship(\"Receiver\")  # 🔄 ORM relationship\n",
        "    food = relationship(\"FoodListing\")  # 🔄 ORM relationship\n",
        "\n",
        "# ============================================\n",
        "# 🛠️ Step 7: Create all tables in the database\n",
        "# ============================================\n",
        "print(\"📑 Creating tables in the database...\")\n",
        "Base.metadata.create_all(engine)\n",
        "print(\"✅ Tables created successfully!\")\n",
        "\n",
        "# ============================================\n",
        "# 🔄 Step 8: Create a Session to interact with DB\n",
        "# ============================================\n",
        "SessionLocal = sessionmaker(bind=engine)\n",
        "print(\"🗝️ Session factory ready! You can now perform CRUD operations.\")"
      ],
      "metadata": {
        "colab": {
          "base_uri": "https://localhost:8080/"
        },
        "id": "wuZpCOa8zich",
        "outputId": "8804c396-3277-4429-bb5d-ea55016cc53d"
      },
      "execution_count": null,
      "outputs": [
        {
          "output_type": "stream",
          "name": "stdout",
          "text": [
            "🔌 Connecting to database...\n",
            "✅ Database engine created!\n",
            "🆕 ORM base class created.\n",
            "📑 Creating tables in the database...\n",
            "✅ Tables created successfully!\n",
            "🗝️ Session factory ready! You can now perform CRUD operations.\n"
          ]
        }
      ]
    },
    {
      "cell_type": "markdown",
      "source": [
        "## 4. Data Ingestion"
      ],
      "metadata": {
        "id": "JvDq7rTgQkhI"
      }
    },
    {
      "cell_type": "markdown",
      "source": [
        "#### **Ingesting Data**"
      ],
      "metadata": {
        "id": "hxVg4eJoXCup"
      }
    },
    {
      "cell_type": "code",
      "source": [
        "# ============================================\n",
        "# 🛡 Table Existence Check\n",
        "# ============================================\n",
        "from sqlalchemy import inspect\n",
        "\n",
        "def table_exists(table_name):\n",
        "    inspector = inspect(engine)\n",
        "    return table_name in inspector.get_table_names()\n",
        "\n",
        "# ============================================\n",
        "# 📥 Data Ingestion with Duplicate Check + Stats\n",
        "# ============================================\n",
        "def progress_bar(message, total_steps=10):\n",
        "    \"\"\"Simple emoji-based progress bar\"\"\"\n",
        "    print(message, end=\" \")\n",
        "    for _ in range(total_steps):\n",
        "        print(\"⬜\", end=\"\", flush=True)\n",
        "        time.sleep(0.05)\n",
        "    print(\" ✅\")\n",
        "\n",
        "def row_exists(session, model, pk_field, pk_value):\n",
        "    \"\"\"Check if a row with the given primary key exists\"\"\"\n",
        "    return session.query(model).filter(pk_field == pk_value).first() is not None\n",
        "\n",
        "def ingest_table(session, table_name, model, pk_field, csv_path, transform_fn=None):\n",
        "    \"\"\"Generic function to ingest data into a table\"\"\"\n",
        "    inserted_count = 0\n",
        "    skipped_count = 0\n",
        "\n",
        "    if table_exists(table_name):\n",
        "        progress_bar(f\"📂 Loading {table_name.title()}...\")\n",
        "        df = pd.read_csv(csv_path)\n",
        "\n",
        "        if transform_fn:\n",
        "            df = transform_fn(df)\n",
        "\n",
        "        # Define mapping from DataFrame column names to SQLAlchemy model attribute names\n",
        "        column_mapping = {\n",
        "            'Provider_ID': 'provider_id',\n",
        "            'Name': 'name',\n",
        "            'Type': 'type',\n",
        "            'Address': 'address',\n",
        "            'City': 'city',\n",
        "            'Contact': 'contact',\n",
        "            'Receiver_ID': 'receiver_id',\n",
        "            'Food_ID': 'food_id',\n",
        "            'Food_Name': 'food_name',\n",
        "            'Quantity': 'quantity',\n",
        "            'Expiry_Date': 'expiry_date',\n",
        "            'Provider_Type': 'provider_type',\n",
        "            'Location': 'location',\n",
        "            'Food_Type': 'food_type',\n",
        "            'Meal_Type': 'meal_type',\n",
        "            'Claim_ID': 'claim_id',\n",
        "            'Status': 'status',\n",
        "            'Timestamp': 'timestamp'\n",
        "        }\n",
        "\n",
        "        for _, r in df.iterrows():\n",
        "            # Create a dictionary with keys matching SQLAlchemy model attribute names\n",
        "            model_data = {column_mapping[col]: r[col] for col in df.columns if col in column_mapping}\n",
        "\n",
        "            if not row_exists(session, model, pk_field, int(model_data[pk_field.name])):\n",
        "                session.add(model(**model_data))\n",
        "                inserted_count += 1\n",
        "            else:\n",
        "                skipped_count += 1\n",
        "\n",
        "        print(f\"✅ {inserted_count} inserted, ⏭️ {skipped_count} skipped (already existed).\")\n",
        "    else:\n",
        "        print(f\"⚠️ Table '{table_name}' does not exist. Skipping ingestion.\")\n",
        "\n",
        "def show_summary(session):\n",
        "    \"\"\"📊 Show record counts for all tables\"\"\"\n",
        "    print(\"\\n📊 Database Summary:\")\n",
        "    print(\"━━━━━━━━━━━━━━━━━━━━━━━━━━━━━━\")\n",
        "    summary = []\n",
        "    for model, emoji in [\n",
        "        (Provider, \"🏢\"),\n",
        "        (Receiver, \"🙋\"),\n",
        "        (FoodListing, \"🍽️\"),\n",
        "        (Claim, \"📄\")\n",
        "    ]:\n",
        "        if table_exists(model.__tablename__):\n",
        "            count = session.query(func.count('*')).select_from(model).scalar()\n",
        "            summary.append(f\"{emoji} {model.__tablename__.title():<15} → {count} records\")\n",
        "        else:\n",
        "            summary.append(f\"⚠️ {model.__tablename__.title():<15} → Table missing\")\n",
        "    print(\"\\n\".join(summary))\n",
        "    print(\"━━━━━━━━━━━━━━━━━━━━━━━━━━━━━━\\n\")\n",
        "\n",
        "def ingest_data():\n",
        "    session = SessionLocal()\n",
        "\n",
        "    # Providers\n",
        "    ingest_table(session, \"providers\", Provider, Provider.provider_id, providers_dir)\n",
        "\n",
        "    # Receivers\n",
        "    ingest_table(session, \"receivers\", Receiver, Receiver.receiver_id, receivers_dir)\n",
        "\n",
        "    # Food Listings (with date conversion)\n",
        "    ingest_table(\n",
        "        session,\n",
        "        \"food_listings\",\n",
        "        FoodListing,\n",
        "        FoodListing.food_id,\n",
        "        food_listings_dir,\n",
        "        transform_fn=lambda df: df.assign(\n",
        "            Expiry_Date=pd.to_datetime(df['Expiry_Date'], errors='coerce').dt.date\n",
        "        )\n",
        "    )\n",
        "\n",
        "    # Claims (with timestamp conversion)\n",
        "    ingest_table(\n",
        "        session,\n",
        "        \"claims\",\n",
        "        Claim,\n",
        "        Claim.claim_id,\n",
        "        claims_dir,\n",
        "        transform_fn=lambda df: df.assign(\n",
        "            Timestamp=pd.to_datetime(df['Timestamp'], errors='coerce')\n",
        "        )\n",
        "    )\n",
        "\n",
        "    session.commit()\n",
        "\n",
        "    # Show summary after ingestion\n",
        "    show_summary(session)\n",
        "\n",
        "    session.close()\n",
        "    print(\"🎉 Ingestion completed with duplicate row tracking!\")\n",
        "\n",
        "# Run the ingestion\n",
        "ingest_data()"
      ],
      "metadata": {
        "colab": {
          "base_uri": "https://localhost:8080/"
        },
        "id": "q985Q1JDS43b",
        "outputId": "c5a626e1-8bb9-4c35-8d98-6d86e0439b3b"
      },
      "execution_count": null,
      "outputs": [
        {
          "output_type": "stream",
          "name": "stdout",
          "text": [
            "📂 Loading Providers... ⬜⬜⬜⬜⬜⬜⬜⬜⬜⬜ ✅\n",
            "✅ 1000 inserted, ⏭️ 0 skipped (already existed).\n",
            "📂 Loading Receivers... ⬜⬜⬜⬜⬜⬜⬜⬜⬜⬜ ✅\n",
            "✅ 1000 inserted, ⏭️ 0 skipped (already existed).\n",
            "📂 Loading Food_Listings... ⬜⬜⬜⬜⬜⬜⬜⬜⬜⬜ ✅\n",
            "✅ 1000 inserted, ⏭️ 0 skipped (already existed).\n",
            "📂 Loading Claims... ⬜⬜⬜⬜⬜⬜⬜⬜⬜⬜ ✅\n",
            "✅ 1000 inserted, ⏭️ 0 skipped (already existed).\n",
            "\n",
            "📊 Database Summary:\n",
            "━━━━━━━━━━━━━━━━━━━━━━━━━━━━━━\n",
            "🏢 Providers       → 1000 records\n",
            "🙋 Receivers       → 1000 records\n",
            "🍽️ Food_Listings   → 1000 records\n",
            "📄 Claims          → 1000 records\n",
            "━━━━━━━━━━━━━━━━━━━━━━━━━━━━━━\n",
            "\n",
            "🎉 Ingestion completed with duplicate row tracking!\n"
          ]
        }
      ]
    },
    {
      "cell_type": "markdown",
      "source": [
        "#### **Validating Ingestion**"
      ],
      "metadata": {
        "id": "HMqB-eoVXeNh"
      }
    },
    {
      "cell_type": "code",
      "source": [
        "from sqlalchemy import create_engine, text\n",
        "import pandas as pd\n",
        "\n",
        "# =====================================\n",
        "# 🗄️ Connect to Database\n",
        "# =====================================\n",
        "DATABASE_URL = \"sqlite:///food_waste.db\"\n",
        "engine = create_engine(DATABASE_URL, echo=False)\n",
        "\n",
        "# =====================================\n",
        "# 🔍 1. Row Count Per Table\n",
        "# =====================================\n",
        "def check_row_counts():\n",
        "    print(\"\\n📦 Row Counts:\")\n",
        "    query = \"\"\"\n",
        "    SELECT 'providers' AS table_name, COUNT(*) AS total_rows FROM providers\n",
        "    UNION ALL\n",
        "    SELECT 'receivers', COUNT(*) FROM receivers\n",
        "    UNION ALL\n",
        "    SELECT 'food_listings', COUNT(*) FROM food_listings\n",
        "    UNION ALL\n",
        "    SELECT 'claims', COUNT(*) FROM claims;\n",
        "    \"\"\"\n",
        "    with engine.connect() as conn:\n",
        "        df = pd.read_sql(text(query), conn)\n",
        "    for _, row in df.iterrows():\n",
        "        print(f\"   ✅ {row['table_name'].title():<15} → {row['total_rows']} rows\")\n",
        "\n",
        "# =====================================\n",
        "# 🚫 2. NULL Checks\n",
        "# =====================================\n",
        "def check_nulls():\n",
        "    print(\"\\n🔎 NULL Value Checks:\")\n",
        "    checks = {\n",
        "        \"providers\": [\"name\", \"type\", \"address\", \"city\", \"contact\"],\n",
        "        \"receivers\": [\"name\", \"type\", \"city\", \"contact\"],\n",
        "        \"food_listings\": [\"food_name\", \"quantity\", \"expiry_date\", \"provider_id\"],\n",
        "        \"claims\": [\"food_id\", \"receiver_id\", \"status\", \"timestamp\"]\n",
        "    }\n",
        "\n",
        "    with engine.connect() as conn:\n",
        "        for table, columns in checks.items():\n",
        "            for col in columns:\n",
        "                query = text(f\"SELECT COUNT(*) as null_count FROM {table} WHERE {col} IS NULL\")\n",
        "                result = conn.execute(query).scalar()\n",
        "                if result > 0:\n",
        "                    print(f\"   ❌ {table}.{col} → {result} NULL(s) found\")\n",
        "                else:\n",
        "                    print(f\"   ✅ {table}.{col} → No NULLs\")\n",
        "\n",
        "# =====================================\n",
        "# 🔗 3. Foreign Key Checks\n",
        "# =====================================\n",
        "def check_foreign_keys():\n",
        "    print(\"\\n🔗 Foreign Key Integrity Checks:\")\n",
        "\n",
        "    fk_checks = [\n",
        "        (\"food_listings\", \"provider_id\", \"providers\", \"provider_id\"),\n",
        "        (\"claims\", \"receiver_id\", \"receivers\", \"receiver_id\"),\n",
        "        (\"claims\", \"food_id\", \"food_listings\", \"food_id\")\n",
        "    ]\n",
        "\n",
        "    with engine.connect() as conn:\n",
        "        for child_table, child_col, parent_table, parent_col in fk_checks:\n",
        "            query = text(f\"\"\"\n",
        "            SELECT COUNT(*)\n",
        "            FROM {child_table} c\n",
        "            LEFT JOIN {parent_table} p ON c.{child_col} = p.{parent_col}\n",
        "            WHERE p.{parent_col} IS NULL;\n",
        "            \"\"\")\n",
        "            missing_count = conn.execute(query).scalar()\n",
        "            if missing_count > 0:\n",
        "                print(f\"   ❌ {child_table}.{child_col} → {missing_count} missing references in {parent_table}.{parent_col}\")\n",
        "            else:\n",
        "                print(f\"   ✅ {child_table}.{child_col} → All references valid\")\n",
        "\n",
        "# =====================================\n",
        "# 🧪 4. Sample Join Check\n",
        "# =====================================\n",
        "def sample_join():\n",
        "    print(\"\\n🧪 Sample Join Preview:\")\n",
        "    query = \"\"\"\n",
        "    SELECT\n",
        "        c.claim_id,\n",
        "        p.name AS provider_name,\n",
        "        r.name AS receiver_name,\n",
        "        f.food_name,\n",
        "        c.status\n",
        "    FROM claims c\n",
        "    JOIN food_listings f ON c.food_id = f.food_id\n",
        "    JOIN providers p ON f.provider_id = p.provider_id\n",
        "    JOIN receivers r ON c.receiver_id = r.receiver_id\n",
        "    LIMIT 10;\n",
        "    \"\"\"\n",
        "    with engine.connect() as conn:\n",
        "        df = pd.read_sql(text(query), conn)\n",
        "    print(df)\n",
        "\n",
        "# =====================================\n",
        "# 🚀 Run All Checks\n",
        "# =====================================\n",
        "def run_validations():\n",
        "    print(\"🔍 Running Database Validation Checks...\")\n",
        "    check_row_counts()\n",
        "    print(\"_\"*100)\n",
        "    check_nulls()\n",
        "    print(\"_\"*100)\n",
        "    check_foreign_keys()\n",
        "    print(\"_\"*100)\n",
        "    sample_join()\n",
        "    print(\"_\"*100)\n",
        "    print(\"\\n🎉 Validation completed!\")\n",
        "\n",
        "# Execute\n",
        "run_validations()"
      ],
      "metadata": {
        "colab": {
          "base_uri": "https://localhost:8080/"
        },
        "id": "EXMFEbJpXJpi",
        "outputId": "f3914799-db3a-4841-c2b5-2cb70d976407"
      },
      "execution_count": null,
      "outputs": [
        {
          "output_type": "stream",
          "name": "stdout",
          "text": [
            "🔍 Running Database Validation Checks...\n",
            "\n",
            "📦 Row Counts:\n",
            "   ✅ Providers       → 1000 rows\n",
            "   ✅ Receivers       → 1000 rows\n",
            "   ✅ Food_Listings   → 1000 rows\n",
            "   ✅ Claims          → 1000 rows\n",
            "____________________________________________________________________________________________________\n",
            "\n",
            "🔎 NULL Value Checks:\n",
            "   ✅ providers.name → No NULLs\n",
            "   ✅ providers.type → No NULLs\n",
            "   ✅ providers.address → No NULLs\n",
            "   ✅ providers.city → No NULLs\n",
            "   ✅ providers.contact → No NULLs\n",
            "   ✅ receivers.name → No NULLs\n",
            "   ✅ receivers.type → No NULLs\n",
            "   ✅ receivers.city → No NULLs\n",
            "   ✅ receivers.contact → No NULLs\n",
            "   ✅ food_listings.food_name → No NULLs\n",
            "   ✅ food_listings.quantity → No NULLs\n",
            "   ✅ food_listings.expiry_date → No NULLs\n",
            "   ✅ food_listings.provider_id → No NULLs\n",
            "   ✅ claims.food_id → No NULLs\n",
            "   ✅ claims.receiver_id → No NULLs\n",
            "   ✅ claims.status → No NULLs\n",
            "   ✅ claims.timestamp → No NULLs\n",
            "____________________________________________________________________________________________________\n",
            "\n",
            "🔗 Foreign Key Integrity Checks:\n",
            "   ✅ food_listings.provider_id → All references valid\n",
            "   ✅ claims.receiver_id → All references valid\n",
            "   ✅ claims.food_id → All references valid\n",
            "____________________________________________________________________________________________________\n",
            "\n",
            "🧪 Sample Join Preview:\n",
            "   claim_id                   provider_name     receiver_name   food_name  \\\n",
            "0         1                  Meyer and Sons  Abigail Crawford       Dairy   \n",
            "1         2  Schwartz, Odonnell and Padilla      Regina Munoz      Fruits   \n",
            "2         3                   Shields-Moore       Julie Lewis       Salad   \n",
            "3         4                    Davis-Hurley          Jodi Lee      Fruits   \n",
            "4         5      Phillips, Wolfe and Martin      Tina Watkins       Pasta   \n",
            "5         6                  Nichols-Barnes         Sean Wolf       Salad   \n",
            "6         7                       Brown Ltd      Derek Wilson        Fish   \n",
            "7         8   Miller, Johnson and Fernandez   Hannah Reynolds       Salad   \n",
            "8         9                  Lambert-Wilson     Taylor Miller        Soup   \n",
            "9        10                    Yu-Rodriguez  Danielle Bullock  Vegetables   \n",
            "\n",
            "      status  \n",
            "0    Pending  \n",
            "1  Cancelled  \n",
            "2  Completed  \n",
            "3  Cancelled  \n",
            "4    Pending  \n",
            "5  Cancelled  \n",
            "6  Cancelled  \n",
            "7    Pending  \n",
            "8  Completed  \n",
            "9  Completed  \n",
            "____________________________________________________________________________________________________\n",
            "\n",
            "🎉 Validation completed!\n"
          ]
        }
      ]
    },
    {
      "cell_type": "markdown",
      "source": [
        "## 5. EDA on Created DataBase"
      ],
      "metadata": {
        "id": "wZf4x_LxYXSK"
      }
    },
    {
      "cell_type": "markdown",
      "source": [
        "#### **Exploring Dataset using SQL**"
      ],
      "metadata": {
        "id": "kDFbOB0JZfwW"
      }
    },
    {
      "cell_type": "code",
      "source": [
        "from sqlalchemy import create_engine, text\n",
        "import pandas as pd\n",
        "\n",
        "# 🗄 Connect to DB\n",
        "DATABASE_URL = \"sqlite:///food_waste.db\"\n",
        "engine = create_engine(DATABASE_URL, echo=False)\n",
        "\n",
        "# 📌 1. Basic Stats\n",
        "def basic_stats():\n",
        "    print(\"\\n📌 BASIC STATS:\")\n",
        "    queries = {\n",
        "        \"Total Providers\": \"SELECT COUNT(*) FROM providers;\",\n",
        "        \"Total Receivers\": \"SELECT COUNT(*) FROM receivers;\",\n",
        "        \"Total Food Listings\": \"SELECT COUNT(*) FROM food_listings;\",\n",
        "        \"Total Claims\": \"SELECT COUNT(*) FROM claims;\",\n",
        "        \"Avg Quantity per Food Listing\": \"SELECT AVG(quantity) FROM food_listings;\",\n",
        "        \"Min Quantity\": \"SELECT MIN(quantity) FROM food_listings;\",\n",
        "        \"Max Quantity\": \"SELECT MAX(quantity) FROM food_listings;\"\n",
        "    }\n",
        "    with engine.connect() as conn:\n",
        "        for name, query in queries.items():\n",
        "            value = conn.execute(text(query)).scalar()\n",
        "            print(f\"   ✅ {name}: {value}\")\n",
        "\n",
        "# 🔍 2. Filtering\n",
        "def filtering_examples():\n",
        "    print(\"\\n🔍 FILTERING EXAMPLES:\")\n",
        "\n",
        "    expired_food_query = \"\"\"\n",
        "    SELECT food_id, food_name, expiry_date\n",
        "    FROM food_listings\n",
        "    WHERE DATE(expiry_date) < DATE('now');\n",
        "    \"\"\"\n",
        "\n",
        "    pending_claims_query = \"\"\"\n",
        "    SELECT claim_id, food_id, receiver_id, status\n",
        "    FROM claims\n",
        "    WHERE LOWER(status) = 'pending';\n",
        "    \"\"\"\n",
        "\n",
        "    with engine.connect() as conn:\n",
        "        expired_df = pd.read_sql(text(expired_food_query), conn)\n",
        "        pending_df = pd.read_sql(text(pending_claims_query), conn)\n",
        "\n",
        "    print(f\"   ⚠️ Expired Food Items: {len(expired_df)} found\")\n",
        "    print(expired_df.head(), \"\\n\")\n",
        "\n",
        "    print(f\"   ⏳ Pending Claims: {len(pending_df)} found\")\n",
        "    print(pending_df.head())\n",
        "\n",
        "# 📊 3. Grouping\n",
        "def grouping_examples():\n",
        "    print(\"\\n📊 GROUPING EXAMPLES:\")\n",
        "\n",
        "    donations_per_type = \"\"\"\n",
        "    SELECT provider_type, COUNT(*) AS total_donations\n",
        "    FROM food_listings\n",
        "    GROUP BY provider_type\n",
        "    ORDER BY total_donations DESC;\n",
        "    \"\"\"\n",
        "\n",
        "    with engine.connect() as conn:\n",
        "        df = pd.read_sql(text(donations_per_type), conn)\n",
        "\n",
        "    print(df)\n",
        "\n",
        "# 🕒 4. Time Analysis\n",
        "def time_analysis():\n",
        "    print(\"\\n🕒 TIME ANALYSIS:\")\n",
        "\n",
        "    claims_per_day = \"\"\"\n",
        "    SELECT DATE(timestamp) AS claim_date, COUNT(*) AS total_claims\n",
        "    FROM claims\n",
        "    GROUP BY claim_date\n",
        "    ORDER BY claim_date;\n",
        "    \"\"\"\n",
        "\n",
        "    with engine.connect() as conn:\n",
        "        df = pd.read_sql(text(claims_per_day), conn)\n",
        "\n",
        "    print(df)\n",
        "\n",
        "# 🚀 Run all EDA queries\n",
        "def run_sql_eda():\n",
        "    print(\"📊 Running EDA in SQL...\")\n",
        "    basic_stats()\n",
        "    print('_'*100)\n",
        "    filtering_examples()\n",
        "    print('_'*100)\n",
        "    grouping_examples()\n",
        "    print('_'*100)\n",
        "    time_analysis()\n",
        "    print('_'*100)\n",
        "    print(\"\\n🎯 EDA Completed!\")\n",
        "\n",
        "# Execute\n",
        "run_sql_eda()"
      ],
      "metadata": {
        "colab": {
          "base_uri": "https://localhost:8080/"
        },
        "id": "9qPswqsiYaS3",
        "outputId": "b4ae54f0-a04c-475e-9714-f115261253bd"
      },
      "execution_count": null,
      "outputs": [
        {
          "output_type": "stream",
          "name": "stdout",
          "text": [
            "📊 Running EDA in SQL...\n",
            "\n",
            "📌 BASIC STATS:\n",
            "   ✅ Total Providers: 1000\n",
            "   ✅ Total Receivers: 1000\n",
            "   ✅ Total Food Listings: 1000\n",
            "   ✅ Total Claims: 1000\n",
            "   ✅ Avg Quantity per Food Listing: 25.794\n",
            "   ✅ Min Quantity: 1\n",
            "   ✅ Max Quantity: 50\n",
            "____________________________________________________________________________________________________\n",
            "\n",
            "🔍 FILTERING EXAMPLES:\n",
            "   ⚠️ Expired Food Items: 1000 found\n",
            "   food_id food_name expiry_date\n",
            "0        1     Bread  2025-03-17\n",
            "1        2      Soup  2025-03-24\n",
            "2        3    Fruits  2025-03-28\n",
            "3        4    Fruits  2025-03-16\n",
            "4        5      Soup  2025-03-19 \n",
            "\n",
            "   ⏳ Pending Claims: 325 found\n",
            "   claim_id  food_id  receiver_id   status\n",
            "0         1      164          908  Pending\n",
            "1         5      345          229  Pending\n",
            "2         8      382          900  Pending\n",
            "3        11      290          118  Pending\n",
            "4        13      951          959  Pending\n",
            "____________________________________________________________________________________________________\n",
            "\n",
            "📊 GROUPING EXAMPLES:\n",
            "      provider_type  total_donations\n",
            "0       Supermarket              267\n",
            "1        Restaurant              258\n",
            "2     Grocery Store              243\n",
            "3  Catering Service              232\n",
            "____________________________________________________________________________________________________\n",
            "\n",
            "🕒 TIME ANALYSIS:\n",
            "    claim_date  total_claims\n",
            "0   2025-03-01            40\n",
            "1   2025-03-02            47\n",
            "2   2025-03-03            46\n",
            "3   2025-03-04            44\n",
            "4   2025-03-05            47\n",
            "5   2025-03-06            37\n",
            "6   2025-03-07            53\n",
            "7   2025-03-08            56\n",
            "8   2025-03-09            40\n",
            "9   2025-03-10            60\n",
            "10  2025-03-11            44\n",
            "11  2025-03-12            52\n",
            "12  2025-03-13            62\n",
            "13  2025-03-14            51\n",
            "14  2025-03-15            51\n",
            "15  2025-03-16            45\n",
            "16  2025-03-17            54\n",
            "17  2025-03-18            57\n",
            "18  2025-03-19            50\n",
            "19  2025-03-20            45\n",
            "20  2025-03-21            19\n",
            "____________________________________________________________________________________________________\n",
            "\n",
            "🎯 EDA Completed!\n"
          ]
        }
      ]
    },
    {
      "cell_type": "markdown",
      "source": [
        "#### **Performing Joins**"
      ],
      "metadata": {
        "id": "iWvMvb-6dY4E"
      }
    },
    {
      "cell_type": "markdown",
      "source": [
        "\n",
        "**Providers with Food_listings**\n",
        "\n",
        "**Receivers with Claims**"
      ],
      "metadata": {
        "id": "j4yeHHT7ZmEO"
      }
    },
    {
      "cell_type": "code",
      "source": [
        "from sqlalchemy import create_engine, text\n",
        "import pandas as pd\n",
        "\n",
        "# 🗄 Connect to Database\n",
        "DATABASE_URL = \"sqlite:///food_waste.db\"\n",
        "engine = create_engine(DATABASE_URL, echo=False)\n",
        "\n",
        "# 🔗 1. Food Listings ↔ Providers\n",
        "def join_food_providers():\n",
        "    new_table_name = \"food_provider_join\"\n",
        "\n",
        "    with engine.connect() as conn:\n",
        "        # Row counts before join\n",
        "        food_count = conn.execute(text(\"SELECT COUNT(*) FROM food_listings\")).scalar()\n",
        "        provider_count = conn.execute(text(\"SELECT COUNT(*) FROM providers\")).scalar()\n",
        "        print(f\"\\n🥗 FOOD LISTINGS WITH PROVIDERS\")\n",
        "        print(f\"   📦 Before Join → food_listings: {food_count}, providers: {provider_count}\")\n",
        "\n",
        "        # Perform join\n",
        "        query = f\"\"\"\n",
        "        CREATE TEMP TABLE {new_table_name} AS\n",
        "        SELECT\n",
        "            f.food_id,\n",
        "            f.food_name,\n",
        "            f.quantity,\n",
        "            f.expiry_date,\n",
        "            p.name AS provider_name,\n",
        "            p.type AS provider_type,\n",
        "            p.city AS provider_city\n",
        "        FROM food_listings f\n",
        "        INNER JOIN providers p\n",
        "            ON f.provider_id = p.provider_id;\n",
        "        \"\"\"\n",
        "        conn.execute(text(query))\n",
        "\n",
        "        # Row count after join\n",
        "        join_count = conn.execute(text(f\"SELECT COUNT(*) FROM {new_table_name}\")).scalar()\n",
        "        print(f\"   ✅ After Join → {new_table_name}: {join_count} rows\")\n",
        "\n",
        "        # Preview\n",
        "        df = pd.read_sql(text(f\"SELECT * FROM {new_table_name} LIMIT 10\"), conn)\n",
        "        print(df)\n",
        "\n",
        "# 🔗 2. Claims ↔ Receivers\n",
        "def join_claims_receivers():\n",
        "    new_table_name = \"claim_receiver_join\"\n",
        "\n",
        "    with engine.connect() as conn:\n",
        "        # Row counts before join\n",
        "        claims_count = conn.execute(text(\"SELECT COUNT(*) FROM claims\")).scalar()\n",
        "        receivers_count = conn.execute(text(\"SELECT COUNT(*) FROM receivers\")).scalar()\n",
        "        print(f\"\\n📦 CLAIMS WITH RECEIVERS\")\n",
        "        print(f\"   📦 Before Join → claims: {claims_count}, receivers: {receivers_count}\")\n",
        "\n",
        "        # Perform join\n",
        "        query = f\"\"\"\n",
        "        CREATE TEMP TABLE {new_table_name} AS\n",
        "        SELECT\n",
        "            c.claim_id,\n",
        "            c.status,\n",
        "            c.timestamp,\n",
        "            r.name AS receiver_name,\n",
        "            r.type AS receiver_type,\n",
        "            r.city AS receiver_city\n",
        "        FROM claims c\n",
        "        INNER JOIN receivers r\n",
        "            ON c.receiver_id = r.receiver_id;\n",
        "        \"\"\"\n",
        "        conn.execute(text(query))\n",
        "\n",
        "        # Row count after join\n",
        "        join_count = conn.execute(text(f\"SELECT COUNT(*) FROM {new_table_name}\")).scalar()\n",
        "        print(f\"   ✅ After Join → {new_table_name}: {join_count} rows\")\n",
        "\n",
        "        # Preview\n",
        "        df = pd.read_sql(text(f\"SELECT * FROM {new_table_name} LIMIT 10\"), conn)\n",
        "        print(df)\n",
        "\n",
        "# 🚀 Run Join Examples\n",
        "def run_joins():\n",
        "    print(\"🔗 Running SQL JOIN Examples...\")\n",
        "    join_food_providers()\n",
        "    print('_'*100)\n",
        "    join_claims_receivers()\n",
        "    print('_'*100)\n",
        "    print(\"\\n🎯 Joins Completed!\")\n",
        "\n",
        "# Execute\n",
        "run_joins()"
      ],
      "metadata": {
        "colab": {
          "base_uri": "https://localhost:8080/"
        },
        "id": "GsGtgasdcNVj",
        "outputId": "56ac29e5-ab95-417f-90ee-e1eb9313d45b"
      },
      "execution_count": null,
      "outputs": [
        {
          "output_type": "stream",
          "name": "stdout",
          "text": [
            "🔗 Running SQL JOIN Examples...\n",
            "\n",
            "🥗 FOOD LISTINGS WITH PROVIDERS\n",
            "   📦 Before Join → food_listings: 1000, providers: 1000\n",
            "   ✅ After Join → food_provider_join: 1000 rows\n",
            "   food_id   food_name  quantity expiry_date                   provider_name  \\\n",
            "0        1       Bread        43  2025-03-17                   Figueroa-Soto   \n",
            "1        2        Soup        22  2025-03-24                   Aguilar Group   \n",
            "2        3      Fruits        46  2025-03-28          Lopez, Roach and Roach   \n",
            "3        4      Fruits        15  2025-03-16                   Cannon-Garcia   \n",
            "4        5        Soup        14  2025-03-19      Greene, Wood and Hernandez   \n",
            "5        6  Vegetables         4  2025-03-24                      Foster Ltd   \n",
            "6        7       Dairy        29  2025-03-25  White, Hutchinson and Williams   \n",
            "7        8        Rice        49  2025-03-28        Harris, Perez and Willis   \n",
            "8        9       Bread        46  2025-03-25                      Wong-Reese   \n",
            "9       10        Rice        41  2025-03-20                       Baird PLC   \n",
            "\n",
            "      provider_type             provider_city  \n",
            "0     Grocery Store          South Kellyville  \n",
            "1     Grocery Store                West James  \n",
            "2  Catering Service               Lake Regina  \n",
            "3        Restaurant                 Kellytown  \n",
            "4        Restaurant                Garciaport  \n",
            "5       Supermarket           South Johnshire  \n",
            "6     Grocery Store                Nolanmouth  \n",
            "7  Catering Service  South Christopherborough  \n",
            "8       Supermarket           East Andrewland  \n",
            "9       Supermarket                  Markport  \n",
            "____________________________________________________________________________________________________\n",
            "\n",
            "📦 CLAIMS WITH RECEIVERS\n",
            "   📦 Before Join → claims: 1000, receivers: 1000\n",
            "   ✅ After Join → claim_receiver_join: 1000 rows\n",
            "   claim_id     status                   timestamp     receiver_name  \\\n",
            "0         1    Pending  2025-03-05 05:26:00.000000  Abigail Crawford   \n",
            "1         2  Cancelled  2025-03-11 10:24:00.000000      Regina Munoz   \n",
            "2         3  Completed  2025-03-21 00:59:00.000000       Julie Lewis   \n",
            "3         4  Cancelled  2025-03-04 09:08:00.000000          Jodi Lee   \n",
            "4         5    Pending  2025-03-14 15:17:00.000000      Tina Watkins   \n",
            "5         6  Cancelled  2025-03-02 02:50:00.000000         Sean Wolf   \n",
            "6         7  Cancelled  2025-03-07 23:58:00.000000      Derek Wilson   \n",
            "7         8    Pending  2025-03-05 07:07:00.000000   Hannah Reynolds   \n",
            "8         9  Completed  2025-03-18 02:26:00.000000     Taylor Miller   \n",
            "9        10  Completed  2025-03-06 19:57:00.000000  Danielle Bullock   \n",
            "\n",
            "  receiver_type    receiver_city  \n",
            "0           NGO       Lake Shawn  \n",
            "1           NGO     Lake Clinton  \n",
            "2           NGO     South Steven  \n",
            "3           NGO    West Paulfort  \n",
            "4       Shelter         Bushview  \n",
            "5           NGO   Mcfarlandhaven  \n",
            "6    Individual  Christopherland  \n",
            "7       Charity   East Kevinberg  \n",
            "8           NGO       Josephside  \n",
            "9    Individual       Amandafurt  \n",
            "____________________________________________________________________________________________________\n",
            "\n",
            "🎯 Joins Completed!\n"
          ]
        }
      ]
    },
    {
      "cell_type": "markdown",
      "source": [
        "**Full Donation Join**"
      ],
      "metadata": {
        "id": "ie_HRN3CczQl"
      }
    },
    {
      "cell_type": "code",
      "source": [
        "from sqlalchemy import create_engine, text\n",
        "import pandas as pd\n",
        "\n",
        "# 🗄 Connect to DB\n",
        "DATABASE_URL = \"sqlite:///food_waste.db\"\n",
        "engine = create_engine(DATABASE_URL, echo=False)\n",
        "\n",
        "def full_donation_chain():\n",
        "    new_table_name = \"full_donation_chain\"\n",
        "\n",
        "    with engine.connect() as conn:\n",
        "        # Row counts before join\n",
        "        claims_count = conn.execute(text(\"SELECT COUNT(*) FROM claims\")).scalar()\n",
        "        food_count = conn.execute(text(\"SELECT COUNT(*) FROM food_listings\")).scalar()\n",
        "        provider_count = conn.execute(text(\"SELECT COUNT(*) FROM providers\")).scalar()\n",
        "        receiver_count = conn.execute(text(\"SELECT COUNT(*) FROM receivers\")).scalar()\n",
        "\n",
        "        print(\"\\n🔗 FULL DONATION CHAIN JOIN\")\n",
        "        print(f\"   📦 Before Join → claims: {claims_count}, food_listings: {food_count}, providers: {provider_count}, receivers: {receiver_count}\")\n",
        "\n",
        "        # Drop table if exists\n",
        "        conn.execute(text(f\"DROP TABLE IF EXISTS {new_table_name}\"))\n",
        "\n",
        "        # Create new join table\n",
        "        query = f\"\"\"\n",
        "        CREATE TABLE {new_table_name} AS\n",
        "        SELECT\n",
        "            c.claim_id,\n",
        "            f.food_id,\n",
        "            f.food_name,\n",
        "            f.quantity,\n",
        "            f.expiry_date,\n",
        "            p.name AS provider_name,\n",
        "            p.type AS provider_type,\n",
        "            p.city AS provider_city,\n",
        "            r.name AS receiver_name,\n",
        "            r.type AS receiver_type,\n",
        "            r.city AS receiver_city,\n",
        "            c.status,\n",
        "            c.timestamp\n",
        "        FROM claims c\n",
        "        INNER JOIN food_listings f ON c.food_id = f.food_id\n",
        "        INNER JOIN providers p ON f.provider_id = p.provider_id\n",
        "        INNER JOIN receivers r ON c.receiver_id = r.receiver_id;\n",
        "        \"\"\"\n",
        "        conn.execute(text(query))\n",
        "\n",
        "        # Row count after join\n",
        "        join_count = conn.execute(text(f\"SELECT COUNT(*) FROM {new_table_name}\")).scalar()\n",
        "        print(f\"   ✅ After Join → {new_table_name}: {join_count} rows\")\n",
        "\n",
        "        # Preview\n",
        "        df = pd.read_sql(text(f\"SELECT * FROM {new_table_name} LIMIT 10\"), conn)\n",
        "        print(df)\n",
        "\n",
        "# 🚀 Run Full Chain Join\n",
        "full_donation_chain()"
      ],
      "metadata": {
        "colab": {
          "base_uri": "https://localhost:8080/"
        },
        "id": "wdjk9xHXc6B3",
        "outputId": "06b6ac54-a501-4455-d15b-f933ced333f2"
      },
      "execution_count": null,
      "outputs": [
        {
          "output_type": "stream",
          "name": "stdout",
          "text": [
            "\n",
            "🔗 FULL DONATION CHAIN JOIN\n",
            "   📦 Before Join → claims: 1000, food_listings: 1000, providers: 1000, receivers: 1000\n",
            "   ✅ After Join → full_donation_chain: 1000 rows\n",
            "   claim_id  food_id   food_name  quantity expiry_date  \\\n",
            "0         1      164       Dairy        22  2025-03-27   \n",
            "1         2      353      Fruits         5  2025-03-29   \n",
            "2         3      626       Salad        37  2025-03-29   \n",
            "3         4       61      Fruits        33  2025-03-22   \n",
            "4         5      345       Pasta        14  2025-03-20   \n",
            "5         6      273       Salad        32  2025-03-16   \n",
            "6         7      735        Fish         2  2025-03-19   \n",
            "7         8      382       Salad        42  2025-03-20   \n",
            "8         9      278        Soup        35  2025-03-24   \n",
            "9        10      669  Vegetables        14  2025-03-27   \n",
            "\n",
            "                    provider_name     provider_type      provider_city  \\\n",
            "0                  Meyer and Sons        Restaurant       Carolchester   \n",
            "1  Schwartz, Odonnell and Padilla        Restaurant        Deborahfurt   \n",
            "2                   Shields-Moore       Supermarket    New Dawnborough   \n",
            "3                    Davis-Hurley  Catering Service     West Catherine   \n",
            "4      Phillips, Wolfe and Martin     Grocery Store        Thomasville   \n",
            "5                  Nichols-Barnes  Catering Service  Port Richardshire   \n",
            "6                       Brown Ltd       Supermarket       Castilloport   \n",
            "7   Miller, Johnson and Fernandez        Restaurant       East Garyton   \n",
            "8                  Lambert-Wilson        Restaurant   Lake Michaelfurt   \n",
            "9                    Yu-Rodriguez     Grocery Store         Sylviabury   \n",
            "\n",
            "      receiver_name receiver_type    receiver_city     status  \\\n",
            "0  Abigail Crawford           NGO       Lake Shawn    Pending   \n",
            "1      Regina Munoz           NGO     Lake Clinton  Cancelled   \n",
            "2       Julie Lewis           NGO     South Steven  Completed   \n",
            "3          Jodi Lee           NGO    West Paulfort  Cancelled   \n",
            "4      Tina Watkins       Shelter         Bushview    Pending   \n",
            "5         Sean Wolf           NGO   Mcfarlandhaven  Cancelled   \n",
            "6      Derek Wilson    Individual  Christopherland  Cancelled   \n",
            "7   Hannah Reynolds       Charity   East Kevinberg    Pending   \n",
            "8     Taylor Miller           NGO       Josephside  Completed   \n",
            "9  Danielle Bullock    Individual       Amandafurt  Completed   \n",
            "\n",
            "                    timestamp  \n",
            "0  2025-03-05 05:26:00.000000  \n",
            "1  2025-03-11 10:24:00.000000  \n",
            "2  2025-03-21 00:59:00.000000  \n",
            "3  2025-03-04 09:08:00.000000  \n",
            "4  2025-03-14 15:17:00.000000  \n",
            "5  2025-03-02 02:50:00.000000  \n",
            "6  2025-03-07 23:58:00.000000  \n",
            "7  2025-03-05 07:07:00.000000  \n",
            "8  2025-03-18 02:26:00.000000  \n",
            "9  2025-03-06 19:57:00.000000  \n"
          ]
        }
      ]
    },
    {
      "cell_type": "markdown",
      "source": [
        "## 6. Data Visualization using SQL"
      ],
      "metadata": {
        "id": "sNa_LCidd-KP"
      }
    },
    {
      "cell_type": "markdown",
      "source": [
        "### 1. Univariate Analysis"
      ],
      "metadata": {
        "id": "FI5jK0_reECv"
      }
    },
    {
      "cell_type": "markdown",
      "source": [
        "#### 1. Histogram : Quantity Distribution"
      ],
      "metadata": {
        "id": "otIvLUW_fPfR"
      }
    },
    {
      "cell_type": "code",
      "source": [
        "# 📊 SQL Query for Quantity Distribution\n",
        "df = pd.read_sql(\"SELECT quantity FROM food_listings\", engine)"
      ],
      "metadata": {
        "id": "01R5Q2pWfFDq"
      },
      "execution_count": null,
      "outputs": []
    },
    {
      "cell_type": "code",
      "source": [
        "# Plotting Histogram\n",
        "fig = px.histogram(\n",
        "    df,\n",
        "    x=\"quantity\",\n",
        "    nbins=20,\n",
        "    title=\"📊 Quantity Distribution\",\n",
        "    labels={\"quantity\": \"Quantity\"},\n",
        "    color_discrete_sequence=[\"skyblue\"]\n",
        ")\n",
        "\n",
        "# Customize hover & layout\n",
        "fig.update_traces(hovertemplate=\"Quantity: %{x}<br>Count: %{y}\")\n",
        "fig.update_layout(\n",
        "    bargap=0.05,\n",
        "    title_x=0.5\n",
        ")\n",
        "\n",
        "# Show interactive chart\n",
        "fig.show()"
      ],
      "metadata": {
        "colab": {
          "base_uri": "https://localhost:8080/",
          "height": 542
        },
        "id": "J65StXdnft9h",
        "outputId": "a44ce890-5df7-4fba-f453-b57200a4352a"
      },
      "execution_count": null,
      "outputs": [
        {
          "output_type": "display_data",
          "data": {
            "text/html": [
              "<html>\n",
              "<head><meta charset=\"utf-8\" /></head>\n",
              "<body>\n",
              "    <div>            <script src=\"https://cdnjs.cloudflare.com/ajax/libs/mathjax/2.7.5/MathJax.js?config=TeX-AMS-MML_SVG\"></script><script type=\"text/javascript\">if (window.MathJax && window.MathJax.Hub && window.MathJax.Hub.Config) {window.MathJax.Hub.Config({SVG: {font: \"STIX-Web\"}});}</script>                <script type=\"text/javascript\">window.PlotlyConfig = {MathJaxConfig: 'local'};</script>\n",
              "        <script charset=\"utf-8\" src=\"https://cdn.plot.ly/plotly-2.35.2.min.js\"></script>                <div id=\"976cfe98-891d-4455-b900-21cef792682b\" class=\"plotly-graph-div\" style=\"height:525px; width:100%;\"></div>            <script type=\"text/javascript\">                                    window.PLOTLYENV=window.PLOTLYENV || {};                                    if (document.getElementById(\"976cfe98-891d-4455-b900-21cef792682b\")) {                    Plotly.newPlot(                        \"976cfe98-891d-4455-b900-21cef792682b\",                        [{\"alignmentgroup\":\"True\",\"bingroup\":\"x\",\"hovertemplate\":\"Quantity: %{x}\\u003cbr\\u003eCount: %{y}\",\"legendgroup\":\"\",\"marker\":{\"color\":\"skyblue\",\"pattern\":{\"shape\":\"\"}},\"name\":\"\",\"nbinsx\":20,\"offsetgroup\":\"\",\"orientation\":\"v\",\"showlegend\":false,\"x\":[43,22,46,15,14,4,29,49,46,41,39,15,33,19,3,6,42,28,13,41,38,46,43,20,48,34,12,5,18,4,42,27,9,3,6,35,19,48,48,12,14,50,44,39,17,25,3,30,41,28,14,23,13,15,19,9,23,39,38,49,33,21,6,41,45,6,50,15,47,7,45,11,48,12,35,40,4,1,25,36,33,26,44,25,28,13,37,22,3,29,9,42,49,35,19,5,44,26,8,22,35,35,35,3,2,31,29,22,7,49,13,32,14,28,8,32,32,42,49,30,16,7,11,50,21,27,48,39,26,47,16,20,28,1,44,29,29,24,3,18,33,41,18,18,12,17,47,16,18,50,19,46,20,46,20,24,37,22,7,27,32,50,45,22,22,9,4,26,18,49,25,45,17,23,26,19,22,47,11,35,35,29,15,7,19,48,38,4,7,25,13,5,25,39,31,27,21,50,16,3,35,17,8,11,13,28,42,27,31,17,37,33,20,9,50,33,42,38,26,18,11,23,38,29,26,26,25,12,26,17,33,19,19,10,38,50,39,2,26,46,4,17,30,17,5,50,17,32,39,8,12,18,20,30,44,33,41,24,44,50,15,47,21,49,32,30,6,21,36,29,22,30,32,37,35,47,30,35,3,44,28,27,7,36,44,37,20,48,31,19,12,16,32,40,39,24,46,2,14,16,35,31,2,5,14,27,20,11,47,13,3,11,3,27,47,4,22,48,47,26,20,12,31,39,32,25,24,36,42,49,8,12,41,17,38,36,5,7,40,3,48,5,40,44,14,16,45,21,33,8,45,31,5,3,10,27,1,41,6,12,17,29,24,33,48,25,38,1,23,35,34,11,39,44,15,47,22,39,14,26,35,42,48,14,7,30,31,41,30,19,40,34,50,30,36,5,14,27,16,42,42,11,25,10,16,28,32,42,46,21,39,10,31,7,18,49,49,19,26,13,24,2,6,41,19,6,34,35,34,33,21,34,50,20,26,6,29,46,41,34,2,20,34,27,13,9,21,25,21,9,14,47,21,4,17,16,30,16,2,45,10,22,36,27,32,6,7,1,7,38,15,21,19,5,13,2,40,43,2,25,16,32,36,15,50,9,43,22,39,3,23,30,26,41,34,22,48,28,6,14,27,40,40,28,12,37,43,42,18,33,25,20,49,20,10,24,4,46,43,23,23,7,29,25,30,11,3,6,48,32,42,50,25,34,24,13,9,18,14,33,12,7,9,36,23,33,26,26,34,16,4,44,36,31,47,48,20,32,18,41,47,3,37,29,36,8,3,11,20,8,39,46,40,17,15,35,30,27,44,21,8,44,44,16,3,37,22,31,49,11,19,13,2,35,42,44,12,19,19,39,9,15,37,47,20,36,23,27,38,13,40,45,42,43,11,35,27,9,46,7,23,17,38,10,7,37,26,5,33,39,49,45,19,40,18,11,49,12,5,2,9,38,8,21,34,44,1,42,8,40,36,44,50,2,46,26,14,4,4,42,12,47,42,34,7,47,30,48,14,37,49,2,28,34,25,15,43,8,24,47,28,30,28,39,39,15,5,6,34,43,21,8,6,50,17,26,42,16,32,10,33,6,35,43,39,45,29,17,15,41,25,31,7,5,21,29,40,45,44,1,20,43,2,44,47,27,3,28,42,15,42,29,31,5,2,33,3,5,2,6,21,3,46,13,34,31,39,17,32,17,18,12,19,37,4,5,42,4,36,28,46,4,33,21,1,17,17,39,27,30,9,37,40,2,7,33,5,7,43,48,45,49,4,1,10,4,48,26,10,2,23,15,5,21,3,8,40,3,5,15,50,25,13,47,1,12,35,7,48,34,19,49,33,18,50,2,23,50,35,46,9,27,27,12,25,39,3,21,44,3,24,19,44,43,17,49,50,38,6,43,15,40,46,46,14,34,29,32,29,22,35,49,18,33,28,44,47,13,1,37,45,4,30,11,25,7,1,4,27,3,7,50,49,45,19,38,8,23,21,35,43,43,8,27,44,48,12,6,21,40,9,42,3,43,38,32,5,28,44,31,38,34,25,40,37,17,17,16,10,37,5,6,39,18,35,47,15,8,35,2,6,32,42,3,12,41,39,20,23,33,49,11,17,50,24,32,18,7,45,36,1,44,13,41,16,29,29,50,15,3,20,32,2,36,26,39,39,19,26,46,22,13,33,46,44,41,34,45,50,26,7,21,7,45,48,41,12,14,43,2,47,36,43,26,31,23,6,44,31,11,7,25,8,17,37,15,22,6,15,18],\"xaxis\":\"x\",\"yaxis\":\"y\",\"type\":\"histogram\"}],                        {\"template\":{\"data\":{\"histogram2dcontour\":[{\"type\":\"histogram2dcontour\",\"colorbar\":{\"outlinewidth\":0,\"ticks\":\"\"},\"colorscale\":[[0.0,\"#0d0887\"],[0.1111111111111111,\"#46039f\"],[0.2222222222222222,\"#7201a8\"],[0.3333333333333333,\"#9c179e\"],[0.4444444444444444,\"#bd3786\"],[0.5555555555555556,\"#d8576b\"],[0.6666666666666666,\"#ed7953\"],[0.7777777777777778,\"#fb9f3a\"],[0.8888888888888888,\"#fdca26\"],[1.0,\"#f0f921\"]]}],\"choropleth\":[{\"type\":\"choropleth\",\"colorbar\":{\"outlinewidth\":0,\"ticks\":\"\"}}],\"histogram2d\":[{\"type\":\"histogram2d\",\"colorbar\":{\"outlinewidth\":0,\"ticks\":\"\"},\"colorscale\":[[0.0,\"#0d0887\"],[0.1111111111111111,\"#46039f\"],[0.2222222222222222,\"#7201a8\"],[0.3333333333333333,\"#9c179e\"],[0.4444444444444444,\"#bd3786\"],[0.5555555555555556,\"#d8576b\"],[0.6666666666666666,\"#ed7953\"],[0.7777777777777778,\"#fb9f3a\"],[0.8888888888888888,\"#fdca26\"],[1.0,\"#f0f921\"]]}],\"heatmap\":[{\"type\":\"heatmap\",\"colorbar\":{\"outlinewidth\":0,\"ticks\":\"\"},\"colorscale\":[[0.0,\"#0d0887\"],[0.1111111111111111,\"#46039f\"],[0.2222222222222222,\"#7201a8\"],[0.3333333333333333,\"#9c179e\"],[0.4444444444444444,\"#bd3786\"],[0.5555555555555556,\"#d8576b\"],[0.6666666666666666,\"#ed7953\"],[0.7777777777777778,\"#fb9f3a\"],[0.8888888888888888,\"#fdca26\"],[1.0,\"#f0f921\"]]}],\"heatmapgl\":[{\"type\":\"heatmapgl\",\"colorbar\":{\"outlinewidth\":0,\"ticks\":\"\"},\"colorscale\":[[0.0,\"#0d0887\"],[0.1111111111111111,\"#46039f\"],[0.2222222222222222,\"#7201a8\"],[0.3333333333333333,\"#9c179e\"],[0.4444444444444444,\"#bd3786\"],[0.5555555555555556,\"#d8576b\"],[0.6666666666666666,\"#ed7953\"],[0.7777777777777778,\"#fb9f3a\"],[0.8888888888888888,\"#fdca26\"],[1.0,\"#f0f921\"]]}],\"contourcarpet\":[{\"type\":\"contourcarpet\",\"colorbar\":{\"outlinewidth\":0,\"ticks\":\"\"}}],\"contour\":[{\"type\":\"contour\",\"colorbar\":{\"outlinewidth\":0,\"ticks\":\"\"},\"colorscale\":[[0.0,\"#0d0887\"],[0.1111111111111111,\"#46039f\"],[0.2222222222222222,\"#7201a8\"],[0.3333333333333333,\"#9c179e\"],[0.4444444444444444,\"#bd3786\"],[0.5555555555555556,\"#d8576b\"],[0.6666666666666666,\"#ed7953\"],[0.7777777777777778,\"#fb9f3a\"],[0.8888888888888888,\"#fdca26\"],[1.0,\"#f0f921\"]]}],\"surface\":[{\"type\":\"surface\",\"colorbar\":{\"outlinewidth\":0,\"ticks\":\"\"},\"colorscale\":[[0.0,\"#0d0887\"],[0.1111111111111111,\"#46039f\"],[0.2222222222222222,\"#7201a8\"],[0.3333333333333333,\"#9c179e\"],[0.4444444444444444,\"#bd3786\"],[0.5555555555555556,\"#d8576b\"],[0.6666666666666666,\"#ed7953\"],[0.7777777777777778,\"#fb9f3a\"],[0.8888888888888888,\"#fdca26\"],[1.0,\"#f0f921\"]]}],\"mesh3d\":[{\"type\":\"mesh3d\",\"colorbar\":{\"outlinewidth\":0,\"ticks\":\"\"}}],\"scatter\":[{\"fillpattern\":{\"fillmode\":\"overlay\",\"size\":10,\"solidity\":0.2},\"type\":\"scatter\"}],\"parcoords\":[{\"type\":\"parcoords\",\"line\":{\"colorbar\":{\"outlinewidth\":0,\"ticks\":\"\"}}}],\"scatterpolargl\":[{\"type\":\"scatterpolargl\",\"marker\":{\"colorbar\":{\"outlinewidth\":0,\"ticks\":\"\"}}}],\"bar\":[{\"error_x\":{\"color\":\"#2a3f5f\"},\"error_y\":{\"color\":\"#2a3f5f\"},\"marker\":{\"line\":{\"color\":\"#E5ECF6\",\"width\":0.5},\"pattern\":{\"fillmode\":\"overlay\",\"size\":10,\"solidity\":0.2}},\"type\":\"bar\"}],\"scattergeo\":[{\"type\":\"scattergeo\",\"marker\":{\"colorbar\":{\"outlinewidth\":0,\"ticks\":\"\"}}}],\"scatterpolar\":[{\"type\":\"scatterpolar\",\"marker\":{\"colorbar\":{\"outlinewidth\":0,\"ticks\":\"\"}}}],\"histogram\":[{\"marker\":{\"pattern\":{\"fillmode\":\"overlay\",\"size\":10,\"solidity\":0.2}},\"type\":\"histogram\"}],\"scattergl\":[{\"type\":\"scattergl\",\"marker\":{\"colorbar\":{\"outlinewidth\":0,\"ticks\":\"\"}}}],\"scatter3d\":[{\"type\":\"scatter3d\",\"line\":{\"colorbar\":{\"outlinewidth\":0,\"ticks\":\"\"}},\"marker\":{\"colorbar\":{\"outlinewidth\":0,\"ticks\":\"\"}}}],\"scattermapbox\":[{\"type\":\"scattermapbox\",\"marker\":{\"colorbar\":{\"outlinewidth\":0,\"ticks\":\"\"}}}],\"scatterternary\":[{\"type\":\"scatterternary\",\"marker\":{\"colorbar\":{\"outlinewidth\":0,\"ticks\":\"\"}}}],\"scattercarpet\":[{\"type\":\"scattercarpet\",\"marker\":{\"colorbar\":{\"outlinewidth\":0,\"ticks\":\"\"}}}],\"carpet\":[{\"aaxis\":{\"endlinecolor\":\"#2a3f5f\",\"gridcolor\":\"white\",\"linecolor\":\"white\",\"minorgridcolor\":\"white\",\"startlinecolor\":\"#2a3f5f\"},\"baxis\":{\"endlinecolor\":\"#2a3f5f\",\"gridcolor\":\"white\",\"linecolor\":\"white\",\"minorgridcolor\":\"white\",\"startlinecolor\":\"#2a3f5f\"},\"type\":\"carpet\"}],\"table\":[{\"cells\":{\"fill\":{\"color\":\"#EBF0F8\"},\"line\":{\"color\":\"white\"}},\"header\":{\"fill\":{\"color\":\"#C8D4E3\"},\"line\":{\"color\":\"white\"}},\"type\":\"table\"}],\"barpolar\":[{\"marker\":{\"line\":{\"color\":\"#E5ECF6\",\"width\":0.5},\"pattern\":{\"fillmode\":\"overlay\",\"size\":10,\"solidity\":0.2}},\"type\":\"barpolar\"}],\"pie\":[{\"automargin\":true,\"type\":\"pie\"}]},\"layout\":{\"autotypenumbers\":\"strict\",\"colorway\":[\"#636efa\",\"#EF553B\",\"#00cc96\",\"#ab63fa\",\"#FFA15A\",\"#19d3f3\",\"#FF6692\",\"#B6E880\",\"#FF97FF\",\"#FECB52\"],\"font\":{\"color\":\"#2a3f5f\"},\"hovermode\":\"closest\",\"hoverlabel\":{\"align\":\"left\"},\"paper_bgcolor\":\"white\",\"plot_bgcolor\":\"#E5ECF6\",\"polar\":{\"bgcolor\":\"#E5ECF6\",\"angularaxis\":{\"gridcolor\":\"white\",\"linecolor\":\"white\",\"ticks\":\"\"},\"radialaxis\":{\"gridcolor\":\"white\",\"linecolor\":\"white\",\"ticks\":\"\"}},\"ternary\":{\"bgcolor\":\"#E5ECF6\",\"aaxis\":{\"gridcolor\":\"white\",\"linecolor\":\"white\",\"ticks\":\"\"},\"baxis\":{\"gridcolor\":\"white\",\"linecolor\":\"white\",\"ticks\":\"\"},\"caxis\":{\"gridcolor\":\"white\",\"linecolor\":\"white\",\"ticks\":\"\"}},\"coloraxis\":{\"colorbar\":{\"outlinewidth\":0,\"ticks\":\"\"}},\"colorscale\":{\"sequential\":[[0.0,\"#0d0887\"],[0.1111111111111111,\"#46039f\"],[0.2222222222222222,\"#7201a8\"],[0.3333333333333333,\"#9c179e\"],[0.4444444444444444,\"#bd3786\"],[0.5555555555555556,\"#d8576b\"],[0.6666666666666666,\"#ed7953\"],[0.7777777777777778,\"#fb9f3a\"],[0.8888888888888888,\"#fdca26\"],[1.0,\"#f0f921\"]],\"sequentialminus\":[[0.0,\"#0d0887\"],[0.1111111111111111,\"#46039f\"],[0.2222222222222222,\"#7201a8\"],[0.3333333333333333,\"#9c179e\"],[0.4444444444444444,\"#bd3786\"],[0.5555555555555556,\"#d8576b\"],[0.6666666666666666,\"#ed7953\"],[0.7777777777777778,\"#fb9f3a\"],[0.8888888888888888,\"#fdca26\"],[1.0,\"#f0f921\"]],\"diverging\":[[0,\"#8e0152\"],[0.1,\"#c51b7d\"],[0.2,\"#de77ae\"],[0.3,\"#f1b6da\"],[0.4,\"#fde0ef\"],[0.5,\"#f7f7f7\"],[0.6,\"#e6f5d0\"],[0.7,\"#b8e186\"],[0.8,\"#7fbc41\"],[0.9,\"#4d9221\"],[1,\"#276419\"]]},\"xaxis\":{\"gridcolor\":\"white\",\"linecolor\":\"white\",\"ticks\":\"\",\"title\":{\"standoff\":15},\"zerolinecolor\":\"white\",\"automargin\":true,\"zerolinewidth\":2},\"yaxis\":{\"gridcolor\":\"white\",\"linecolor\":\"white\",\"ticks\":\"\",\"title\":{\"standoff\":15},\"zerolinecolor\":\"white\",\"automargin\":true,\"zerolinewidth\":2},\"scene\":{\"xaxis\":{\"backgroundcolor\":\"#E5ECF6\",\"gridcolor\":\"white\",\"linecolor\":\"white\",\"showbackground\":true,\"ticks\":\"\",\"zerolinecolor\":\"white\",\"gridwidth\":2},\"yaxis\":{\"backgroundcolor\":\"#E5ECF6\",\"gridcolor\":\"white\",\"linecolor\":\"white\",\"showbackground\":true,\"ticks\":\"\",\"zerolinecolor\":\"white\",\"gridwidth\":2},\"zaxis\":{\"backgroundcolor\":\"#E5ECF6\",\"gridcolor\":\"white\",\"linecolor\":\"white\",\"showbackground\":true,\"ticks\":\"\",\"zerolinecolor\":\"white\",\"gridwidth\":2}},\"shapedefaults\":{\"line\":{\"color\":\"#2a3f5f\"}},\"annotationdefaults\":{\"arrowcolor\":\"#2a3f5f\",\"arrowhead\":0,\"arrowwidth\":1},\"geo\":{\"bgcolor\":\"white\",\"landcolor\":\"#E5ECF6\",\"subunitcolor\":\"white\",\"showland\":true,\"showlakes\":true,\"lakecolor\":\"white\"},\"title\":{\"x\":0.05},\"mapbox\":{\"style\":\"light\"}}},\"xaxis\":{\"anchor\":\"y\",\"domain\":[0.0,1.0],\"title\":{\"text\":\"Quantity\"}},\"yaxis\":{\"anchor\":\"x\",\"domain\":[0.0,1.0],\"title\":{\"text\":\"count\"}},\"legend\":{\"tracegroupgap\":0},\"title\":{\"text\":\"📊 Quantity Distribution\",\"x\":0.5},\"barmode\":\"relative\",\"bargap\":0.05},                        {\"responsive\": true}                    ).then(function(){\n",
              "                            \n",
              "var gd = document.getElementById('976cfe98-891d-4455-b900-21cef792682b');\n",
              "var x = new MutationObserver(function (mutations, observer) {{\n",
              "        var display = window.getComputedStyle(gd).display;\n",
              "        if (!display || display === 'none') {{\n",
              "            console.log([gd, 'removed!']);\n",
              "            Plotly.purge(gd);\n",
              "            observer.disconnect();\n",
              "        }}\n",
              "}});\n",
              "\n",
              "// Listen for the removal of the full notebook cells\n",
              "var notebookContainer = gd.closest('#notebook-container');\n",
              "if (notebookContainer) {{\n",
              "    x.observe(notebookContainer, {childList: true});\n",
              "}}\n",
              "\n",
              "// Listen for the clearing of the current output cell\n",
              "var outputEl = gd.closest('.output');\n",
              "if (outputEl) {{\n",
              "    x.observe(outputEl, {childList: true});\n",
              "}}\n",
              "\n",
              "                        })                };                            </script>        </div>\n",
              "</body>\n",
              "</html>"
            ]
          },
          "metadata": {}
        }
      ]
    },
    {
      "cell_type": "markdown",
      "source": [
        "\n",
        "**1️⃣ Why did you pick the specific chart?**\n",
        "\n",
        "👉 Histogram is chosen because it shows the distribution of food quantities across donations.\n",
        "\n",
        "**2️⃣ Insights from the chart:**\n",
        "\n",
        "\n",
        "- 📦 Most donations are small-sized.\n",
        "\n",
        "- 📊 Some large outliers exist (bulk donations).\n",
        "\n",
        "- 📉 Distribution is right-skewed (mean > median).\n",
        "\n",
        "**3️⃣ Positive / Negative Business Impact:**\n",
        "\n",
        "- ✅ Positive: Helps plan logistics for the most common donation sizes.\n",
        "\n",
        "- ⚠️ Risk: Too many small donations may increase logistical costs."
      ],
      "metadata": {
        "id": "ZbWSKnRwwt7L"
      }
    },
    {
      "cell_type": "markdown",
      "source": [
        "#### 2. Histogram : Claims per day"
      ],
      "metadata": {
        "id": "aiGfIbCSgsqS"
      }
    },
    {
      "cell_type": "code",
      "source": [
        "# 📊 SQL Query for Claims per Day\n",
        "df = pd.read_sql(\"SELECT DATE(timestamp) AS claim_date FROM claims\", engine)\n",
        "df_counts = df.groupby(\"claim_date\").size().reset_index(name=\"count\")"
      ],
      "metadata": {
        "id": "Mgo7tDBFhaE7"
      },
      "execution_count": null,
      "outputs": []
    },
    {
      "cell_type": "code",
      "source": [
        "# Create interactive bar chart\n",
        "fig = px.bar(\n",
        "    df_counts,\n",
        "    x=\"claim_date\",\n",
        "    y=\"count\",\n",
        "    title=\"📊 Claims per Day\",\n",
        "    labels={\"claim_date\": \"Claim Date\", \"count\": \"Number of Claims\"},\n",
        "    color_discrete_sequence=[\"orange\"]\n",
        ")\n",
        "\n",
        "# Improve hover & layout\n",
        "fig.update_traces(hovertemplate=\"Date: %{x}<br>Claims: %{y}\")\n",
        "fig.update_layout(\n",
        "    xaxis_title=\"Date\",\n",
        "    yaxis_title=\"Number of Claims\",\n",
        "    xaxis=dict(tickangle=45),\n",
        "    title_x=0.5\n",
        ")\n",
        "\n",
        "fig.show()"
      ],
      "metadata": {
        "colab": {
          "base_uri": "https://localhost:8080/",
          "height": 542
        },
        "id": "6ib5GhVehn3n",
        "outputId": "036f3cf5-f1fe-49cb-ff85-195382f419ec"
      },
      "execution_count": null,
      "outputs": [
        {
          "output_type": "display_data",
          "data": {
            "text/html": [
              "<html>\n",
              "<head><meta charset=\"utf-8\" /></head>\n",
              "<body>\n",
              "    <div>            <script src=\"https://cdnjs.cloudflare.com/ajax/libs/mathjax/2.7.5/MathJax.js?config=TeX-AMS-MML_SVG\"></script><script type=\"text/javascript\">if (window.MathJax && window.MathJax.Hub && window.MathJax.Hub.Config) {window.MathJax.Hub.Config({SVG: {font: \"STIX-Web\"}});}</script>                <script type=\"text/javascript\">window.PlotlyConfig = {MathJaxConfig: 'local'};</script>\n",
              "        <script charset=\"utf-8\" src=\"https://cdn.plot.ly/plotly-2.35.2.min.js\"></script>                <div id=\"6bb123bd-cd77-444a-a764-6c73438c93b6\" class=\"plotly-graph-div\" style=\"height:525px; width:100%;\"></div>            <script type=\"text/javascript\">                                    window.PLOTLYENV=window.PLOTLYENV || {};                                    if (document.getElementById(\"6bb123bd-cd77-444a-a764-6c73438c93b6\")) {                    Plotly.newPlot(                        \"6bb123bd-cd77-444a-a764-6c73438c93b6\",                        [{\"alignmentgroup\":\"True\",\"hovertemplate\":\"Date: %{x}\\u003cbr\\u003eClaims: %{y}\",\"legendgroup\":\"\",\"marker\":{\"color\":\"orange\",\"pattern\":{\"shape\":\"\"}},\"name\":\"\",\"offsetgroup\":\"\",\"orientation\":\"v\",\"showlegend\":false,\"textposition\":\"auto\",\"x\":[\"2025-03-01\",\"2025-03-02\",\"2025-03-03\",\"2025-03-04\",\"2025-03-05\",\"2025-03-06\",\"2025-03-07\",\"2025-03-08\",\"2025-03-09\",\"2025-03-10\",\"2025-03-11\",\"2025-03-12\",\"2025-03-13\",\"2025-03-14\",\"2025-03-15\",\"2025-03-16\",\"2025-03-17\",\"2025-03-18\",\"2025-03-19\",\"2025-03-20\",\"2025-03-21\"],\"xaxis\":\"x\",\"y\":[40,47,46,44,47,37,53,56,40,60,44,52,62,51,51,45,54,57,50,45,19],\"yaxis\":\"y\",\"type\":\"bar\"}],                        {\"template\":{\"data\":{\"histogram2dcontour\":[{\"type\":\"histogram2dcontour\",\"colorbar\":{\"outlinewidth\":0,\"ticks\":\"\"},\"colorscale\":[[0.0,\"#0d0887\"],[0.1111111111111111,\"#46039f\"],[0.2222222222222222,\"#7201a8\"],[0.3333333333333333,\"#9c179e\"],[0.4444444444444444,\"#bd3786\"],[0.5555555555555556,\"#d8576b\"],[0.6666666666666666,\"#ed7953\"],[0.7777777777777778,\"#fb9f3a\"],[0.8888888888888888,\"#fdca26\"],[1.0,\"#f0f921\"]]}],\"choropleth\":[{\"type\":\"choropleth\",\"colorbar\":{\"outlinewidth\":0,\"ticks\":\"\"}}],\"histogram2d\":[{\"type\":\"histogram2d\",\"colorbar\":{\"outlinewidth\":0,\"ticks\":\"\"},\"colorscale\":[[0.0,\"#0d0887\"],[0.1111111111111111,\"#46039f\"],[0.2222222222222222,\"#7201a8\"],[0.3333333333333333,\"#9c179e\"],[0.4444444444444444,\"#bd3786\"],[0.5555555555555556,\"#d8576b\"],[0.6666666666666666,\"#ed7953\"],[0.7777777777777778,\"#fb9f3a\"],[0.8888888888888888,\"#fdca26\"],[1.0,\"#f0f921\"]]}],\"heatmap\":[{\"type\":\"heatmap\",\"colorbar\":{\"outlinewidth\":0,\"ticks\":\"\"},\"colorscale\":[[0.0,\"#0d0887\"],[0.1111111111111111,\"#46039f\"],[0.2222222222222222,\"#7201a8\"],[0.3333333333333333,\"#9c179e\"],[0.4444444444444444,\"#bd3786\"],[0.5555555555555556,\"#d8576b\"],[0.6666666666666666,\"#ed7953\"],[0.7777777777777778,\"#fb9f3a\"],[0.8888888888888888,\"#fdca26\"],[1.0,\"#f0f921\"]]}],\"heatmapgl\":[{\"type\":\"heatmapgl\",\"colorbar\":{\"outlinewidth\":0,\"ticks\":\"\"},\"colorscale\":[[0.0,\"#0d0887\"],[0.1111111111111111,\"#46039f\"],[0.2222222222222222,\"#7201a8\"],[0.3333333333333333,\"#9c179e\"],[0.4444444444444444,\"#bd3786\"],[0.5555555555555556,\"#d8576b\"],[0.6666666666666666,\"#ed7953\"],[0.7777777777777778,\"#fb9f3a\"],[0.8888888888888888,\"#fdca26\"],[1.0,\"#f0f921\"]]}],\"contourcarpet\":[{\"type\":\"contourcarpet\",\"colorbar\":{\"outlinewidth\":0,\"ticks\":\"\"}}],\"contour\":[{\"type\":\"contour\",\"colorbar\":{\"outlinewidth\":0,\"ticks\":\"\"},\"colorscale\":[[0.0,\"#0d0887\"],[0.1111111111111111,\"#46039f\"],[0.2222222222222222,\"#7201a8\"],[0.3333333333333333,\"#9c179e\"],[0.4444444444444444,\"#bd3786\"],[0.5555555555555556,\"#d8576b\"],[0.6666666666666666,\"#ed7953\"],[0.7777777777777778,\"#fb9f3a\"],[0.8888888888888888,\"#fdca26\"],[1.0,\"#f0f921\"]]}],\"surface\":[{\"type\":\"surface\",\"colorbar\":{\"outlinewidth\":0,\"ticks\":\"\"},\"colorscale\":[[0.0,\"#0d0887\"],[0.1111111111111111,\"#46039f\"],[0.2222222222222222,\"#7201a8\"],[0.3333333333333333,\"#9c179e\"],[0.4444444444444444,\"#bd3786\"],[0.5555555555555556,\"#d8576b\"],[0.6666666666666666,\"#ed7953\"],[0.7777777777777778,\"#fb9f3a\"],[0.8888888888888888,\"#fdca26\"],[1.0,\"#f0f921\"]]}],\"mesh3d\":[{\"type\":\"mesh3d\",\"colorbar\":{\"outlinewidth\":0,\"ticks\":\"\"}}],\"scatter\":[{\"fillpattern\":{\"fillmode\":\"overlay\",\"size\":10,\"solidity\":0.2},\"type\":\"scatter\"}],\"parcoords\":[{\"type\":\"parcoords\",\"line\":{\"colorbar\":{\"outlinewidth\":0,\"ticks\":\"\"}}}],\"scatterpolargl\":[{\"type\":\"scatterpolargl\",\"marker\":{\"colorbar\":{\"outlinewidth\":0,\"ticks\":\"\"}}}],\"bar\":[{\"error_x\":{\"color\":\"#2a3f5f\"},\"error_y\":{\"color\":\"#2a3f5f\"},\"marker\":{\"line\":{\"color\":\"#E5ECF6\",\"width\":0.5},\"pattern\":{\"fillmode\":\"overlay\",\"size\":10,\"solidity\":0.2}},\"type\":\"bar\"}],\"scattergeo\":[{\"type\":\"scattergeo\",\"marker\":{\"colorbar\":{\"outlinewidth\":0,\"ticks\":\"\"}}}],\"scatterpolar\":[{\"type\":\"scatterpolar\",\"marker\":{\"colorbar\":{\"outlinewidth\":0,\"ticks\":\"\"}}}],\"histogram\":[{\"marker\":{\"pattern\":{\"fillmode\":\"overlay\",\"size\":10,\"solidity\":0.2}},\"type\":\"histogram\"}],\"scattergl\":[{\"type\":\"scattergl\",\"marker\":{\"colorbar\":{\"outlinewidth\":0,\"ticks\":\"\"}}}],\"scatter3d\":[{\"type\":\"scatter3d\",\"line\":{\"colorbar\":{\"outlinewidth\":0,\"ticks\":\"\"}},\"marker\":{\"colorbar\":{\"outlinewidth\":0,\"ticks\":\"\"}}}],\"scattermapbox\":[{\"type\":\"scattermapbox\",\"marker\":{\"colorbar\":{\"outlinewidth\":0,\"ticks\":\"\"}}}],\"scatterternary\":[{\"type\":\"scatterternary\",\"marker\":{\"colorbar\":{\"outlinewidth\":0,\"ticks\":\"\"}}}],\"scattercarpet\":[{\"type\":\"scattercarpet\",\"marker\":{\"colorbar\":{\"outlinewidth\":0,\"ticks\":\"\"}}}],\"carpet\":[{\"aaxis\":{\"endlinecolor\":\"#2a3f5f\",\"gridcolor\":\"white\",\"linecolor\":\"white\",\"minorgridcolor\":\"white\",\"startlinecolor\":\"#2a3f5f\"},\"baxis\":{\"endlinecolor\":\"#2a3f5f\",\"gridcolor\":\"white\",\"linecolor\":\"white\",\"minorgridcolor\":\"white\",\"startlinecolor\":\"#2a3f5f\"},\"type\":\"carpet\"}],\"table\":[{\"cells\":{\"fill\":{\"color\":\"#EBF0F8\"},\"line\":{\"color\":\"white\"}},\"header\":{\"fill\":{\"color\":\"#C8D4E3\"},\"line\":{\"color\":\"white\"}},\"type\":\"table\"}],\"barpolar\":[{\"marker\":{\"line\":{\"color\":\"#E5ECF6\",\"width\":0.5},\"pattern\":{\"fillmode\":\"overlay\",\"size\":10,\"solidity\":0.2}},\"type\":\"barpolar\"}],\"pie\":[{\"automargin\":true,\"type\":\"pie\"}]},\"layout\":{\"autotypenumbers\":\"strict\",\"colorway\":[\"#636efa\",\"#EF553B\",\"#00cc96\",\"#ab63fa\",\"#FFA15A\",\"#19d3f3\",\"#FF6692\",\"#B6E880\",\"#FF97FF\",\"#FECB52\"],\"font\":{\"color\":\"#2a3f5f\"},\"hovermode\":\"closest\",\"hoverlabel\":{\"align\":\"left\"},\"paper_bgcolor\":\"white\",\"plot_bgcolor\":\"#E5ECF6\",\"polar\":{\"bgcolor\":\"#E5ECF6\",\"angularaxis\":{\"gridcolor\":\"white\",\"linecolor\":\"white\",\"ticks\":\"\"},\"radialaxis\":{\"gridcolor\":\"white\",\"linecolor\":\"white\",\"ticks\":\"\"}},\"ternary\":{\"bgcolor\":\"#E5ECF6\",\"aaxis\":{\"gridcolor\":\"white\",\"linecolor\":\"white\",\"ticks\":\"\"},\"baxis\":{\"gridcolor\":\"white\",\"linecolor\":\"white\",\"ticks\":\"\"},\"caxis\":{\"gridcolor\":\"white\",\"linecolor\":\"white\",\"ticks\":\"\"}},\"coloraxis\":{\"colorbar\":{\"outlinewidth\":0,\"ticks\":\"\"}},\"colorscale\":{\"sequential\":[[0.0,\"#0d0887\"],[0.1111111111111111,\"#46039f\"],[0.2222222222222222,\"#7201a8\"],[0.3333333333333333,\"#9c179e\"],[0.4444444444444444,\"#bd3786\"],[0.5555555555555556,\"#d8576b\"],[0.6666666666666666,\"#ed7953\"],[0.7777777777777778,\"#fb9f3a\"],[0.8888888888888888,\"#fdca26\"],[1.0,\"#f0f921\"]],\"sequentialminus\":[[0.0,\"#0d0887\"],[0.1111111111111111,\"#46039f\"],[0.2222222222222222,\"#7201a8\"],[0.3333333333333333,\"#9c179e\"],[0.4444444444444444,\"#bd3786\"],[0.5555555555555556,\"#d8576b\"],[0.6666666666666666,\"#ed7953\"],[0.7777777777777778,\"#fb9f3a\"],[0.8888888888888888,\"#fdca26\"],[1.0,\"#f0f921\"]],\"diverging\":[[0,\"#8e0152\"],[0.1,\"#c51b7d\"],[0.2,\"#de77ae\"],[0.3,\"#f1b6da\"],[0.4,\"#fde0ef\"],[0.5,\"#f7f7f7\"],[0.6,\"#e6f5d0\"],[0.7,\"#b8e186\"],[0.8,\"#7fbc41\"],[0.9,\"#4d9221\"],[1,\"#276419\"]]},\"xaxis\":{\"gridcolor\":\"white\",\"linecolor\":\"white\",\"ticks\":\"\",\"title\":{\"standoff\":15},\"zerolinecolor\":\"white\",\"automargin\":true,\"zerolinewidth\":2},\"yaxis\":{\"gridcolor\":\"white\",\"linecolor\":\"white\",\"ticks\":\"\",\"title\":{\"standoff\":15},\"zerolinecolor\":\"white\",\"automargin\":true,\"zerolinewidth\":2},\"scene\":{\"xaxis\":{\"backgroundcolor\":\"#E5ECF6\",\"gridcolor\":\"white\",\"linecolor\":\"white\",\"showbackground\":true,\"ticks\":\"\",\"zerolinecolor\":\"white\",\"gridwidth\":2},\"yaxis\":{\"backgroundcolor\":\"#E5ECF6\",\"gridcolor\":\"white\",\"linecolor\":\"white\",\"showbackground\":true,\"ticks\":\"\",\"zerolinecolor\":\"white\",\"gridwidth\":2},\"zaxis\":{\"backgroundcolor\":\"#E5ECF6\",\"gridcolor\":\"white\",\"linecolor\":\"white\",\"showbackground\":true,\"ticks\":\"\",\"zerolinecolor\":\"white\",\"gridwidth\":2}},\"shapedefaults\":{\"line\":{\"color\":\"#2a3f5f\"}},\"annotationdefaults\":{\"arrowcolor\":\"#2a3f5f\",\"arrowhead\":0,\"arrowwidth\":1},\"geo\":{\"bgcolor\":\"white\",\"landcolor\":\"#E5ECF6\",\"subunitcolor\":\"white\",\"showland\":true,\"showlakes\":true,\"lakecolor\":\"white\"},\"title\":{\"x\":0.05},\"mapbox\":{\"style\":\"light\"}}},\"xaxis\":{\"anchor\":\"y\",\"domain\":[0.0,1.0],\"title\":{\"text\":\"Date\"},\"tickangle\":45},\"yaxis\":{\"anchor\":\"x\",\"domain\":[0.0,1.0],\"title\":{\"text\":\"Number of Claims\"}},\"legend\":{\"tracegroupgap\":0},\"title\":{\"text\":\"📊 Claims per Day\",\"x\":0.5},\"barmode\":\"relative\"},                        {\"responsive\": true}                    ).then(function(){\n",
              "                            \n",
              "var gd = document.getElementById('6bb123bd-cd77-444a-a764-6c73438c93b6');\n",
              "var x = new MutationObserver(function (mutations, observer) {{\n",
              "        var display = window.getComputedStyle(gd).display;\n",
              "        if (!display || display === 'none') {{\n",
              "            console.log([gd, 'removed!']);\n",
              "            Plotly.purge(gd);\n",
              "            observer.disconnect();\n",
              "        }}\n",
              "}});\n",
              "\n",
              "// Listen for the removal of the full notebook cells\n",
              "var notebookContainer = gd.closest('#notebook-container');\n",
              "if (notebookContainer) {{\n",
              "    x.observe(notebookContainer, {childList: true});\n",
              "}}\n",
              "\n",
              "// Listen for the clearing of the current output cell\n",
              "var outputEl = gd.closest('.output');\n",
              "if (outputEl) {{\n",
              "    x.observe(outputEl, {childList: true});\n",
              "}}\n",
              "\n",
              "                        })                };                            </script>        </div>\n",
              "</body>\n",
              "</html>"
            ]
          },
          "metadata": {}
        }
      ]
    },
    {
      "cell_type": "markdown",
      "source": [
        "**1️⃣ Why this chart?**\n",
        "\n",
        "👉 Bar chart is ideal for showing daily variations in claim activity.\n",
        "\n",
        "**2️⃣ Insights from the chart:**\n",
        "\n",
        "- 📅 Certain days see high spikes in claims.\n",
        "\n",
        "- 📉 Other days are relatively quiet.\n",
        "\n",
        "- ⏳ Suggests weekly/seasonal cycles.\n",
        "\n",
        "**3️⃣ Positive / Negative Business Impact:**\n",
        "\n",
        "- ✅ Positive: Resources can be allocated better on peak days.\n",
        "\n",
        "- ⚠️ Risk: Unmanaged spikes may cause delays, reducing trust."
      ],
      "metadata": {
        "id": "l2LeX3XsxF5f"
      }
    },
    {
      "cell_type": "markdown",
      "source": [
        "#### 3. Bar Chart : Number of Providers per City"
      ],
      "metadata": {
        "id": "r36TIW--iArb"
      }
    },
    {
      "cell_type": "code",
      "source": [
        "# Number of Providers per City\n",
        "df = pd.read_sql(\"SELECT city, COUNT(*) AS count FROM providers GROUP BY city ORDER BY count DESC LIMIT 10\", engine)\n"
      ],
      "metadata": {
        "id": "ZZpns1yxiJKF"
      },
      "execution_count": null,
      "outputs": []
    },
    {
      "cell_type": "code",
      "source": [
        "# Create interactive horizontal bar chart\n",
        "fig = px.bar(\n",
        "    df,\n",
        "    x=\"count\",\n",
        "    y=\"city\",\n",
        "    orientation=\"h\",  # horizontal bars\n",
        "    title=\"🏙 Top 10 Cities by Number of Providers\",\n",
        "    labels={\"count\": \"Number of Providers\", \"city\": \"City\"},\n",
        "    color=\"count\",\n",
        "    color_continuous_scale=\"viridis\"\n",
        ")\n",
        "\n",
        "# Hover and layout tweaks\n",
        "fig.update_traces(hovertemplate=\"City: %{y}<br>Providers: %{x}\")\n",
        "fig.update_layout(\n",
        "    yaxis=dict(autorange=\"reversed\"),  # largest at top\n",
        "    title_x=0.5\n",
        ")\n",
        "\n",
        "fig.show()"
      ],
      "metadata": {
        "colab": {
          "base_uri": "https://localhost:8080/",
          "height": 542
        },
        "id": "Jmsfju5TiULL",
        "outputId": "7ea3dd7f-1d4a-45a8-e088-783a4ea52a41"
      },
      "execution_count": null,
      "outputs": [
        {
          "output_type": "display_data",
          "data": {
            "text/html": [
              "<html>\n",
              "<head><meta charset=\"utf-8\" /></head>\n",
              "<body>\n",
              "    <div>            <script src=\"https://cdnjs.cloudflare.com/ajax/libs/mathjax/2.7.5/MathJax.js?config=TeX-AMS-MML_SVG\"></script><script type=\"text/javascript\">if (window.MathJax && window.MathJax.Hub && window.MathJax.Hub.Config) {window.MathJax.Hub.Config({SVG: {font: \"STIX-Web\"}});}</script>                <script type=\"text/javascript\">window.PlotlyConfig = {MathJaxConfig: 'local'};</script>\n",
              "        <script charset=\"utf-8\" src=\"https://cdn.plot.ly/plotly-2.35.2.min.js\"></script>                <div id=\"c10c3833-422a-44d9-baae-c9c0f9b5b592\" class=\"plotly-graph-div\" style=\"height:525px; width:100%;\"></div>            <script type=\"text/javascript\">                                    window.PLOTLYENV=window.PLOTLYENV || {};                                    if (document.getElementById(\"c10c3833-422a-44d9-baae-c9c0f9b5b592\")) {                    Plotly.newPlot(                        \"c10c3833-422a-44d9-baae-c9c0f9b5b592\",                        [{\"alignmentgroup\":\"True\",\"hovertemplate\":\"City: %{y}\\u003cbr\\u003eProviders: %{x}\",\"legendgroup\":\"\",\"marker\":{\"color\":[3,3,2,2,2,2,2,2,2,2],\"coloraxis\":\"coloraxis\",\"pattern\":{\"shape\":\"\"}},\"name\":\"\",\"offsetgroup\":\"\",\"orientation\":\"h\",\"showlegend\":false,\"textposition\":\"auto\",\"x\":[3,3,2,2,2,2,2,2,2,2],\"xaxis\":\"x\",\"y\":[\"South Christopherborough\",\"New Carol\",\"Williamview\",\"West Lauraborough\",\"West Christopher\",\"Tammyside\",\"South Thomas\",\"Port Patrick\",\"Port Melissa\",\"Phillipsfort\"],\"yaxis\":\"y\",\"type\":\"bar\"}],                        {\"template\":{\"data\":{\"histogram2dcontour\":[{\"type\":\"histogram2dcontour\",\"colorbar\":{\"outlinewidth\":0,\"ticks\":\"\"},\"colorscale\":[[0.0,\"#0d0887\"],[0.1111111111111111,\"#46039f\"],[0.2222222222222222,\"#7201a8\"],[0.3333333333333333,\"#9c179e\"],[0.4444444444444444,\"#bd3786\"],[0.5555555555555556,\"#d8576b\"],[0.6666666666666666,\"#ed7953\"],[0.7777777777777778,\"#fb9f3a\"],[0.8888888888888888,\"#fdca26\"],[1.0,\"#f0f921\"]]}],\"choropleth\":[{\"type\":\"choropleth\",\"colorbar\":{\"outlinewidth\":0,\"ticks\":\"\"}}],\"histogram2d\":[{\"type\":\"histogram2d\",\"colorbar\":{\"outlinewidth\":0,\"ticks\":\"\"},\"colorscale\":[[0.0,\"#0d0887\"],[0.1111111111111111,\"#46039f\"],[0.2222222222222222,\"#7201a8\"],[0.3333333333333333,\"#9c179e\"],[0.4444444444444444,\"#bd3786\"],[0.5555555555555556,\"#d8576b\"],[0.6666666666666666,\"#ed7953\"],[0.7777777777777778,\"#fb9f3a\"],[0.8888888888888888,\"#fdca26\"],[1.0,\"#f0f921\"]]}],\"heatmap\":[{\"type\":\"heatmap\",\"colorbar\":{\"outlinewidth\":0,\"ticks\":\"\"},\"colorscale\":[[0.0,\"#0d0887\"],[0.1111111111111111,\"#46039f\"],[0.2222222222222222,\"#7201a8\"],[0.3333333333333333,\"#9c179e\"],[0.4444444444444444,\"#bd3786\"],[0.5555555555555556,\"#d8576b\"],[0.6666666666666666,\"#ed7953\"],[0.7777777777777778,\"#fb9f3a\"],[0.8888888888888888,\"#fdca26\"],[1.0,\"#f0f921\"]]}],\"heatmapgl\":[{\"type\":\"heatmapgl\",\"colorbar\":{\"outlinewidth\":0,\"ticks\":\"\"},\"colorscale\":[[0.0,\"#0d0887\"],[0.1111111111111111,\"#46039f\"],[0.2222222222222222,\"#7201a8\"],[0.3333333333333333,\"#9c179e\"],[0.4444444444444444,\"#bd3786\"],[0.5555555555555556,\"#d8576b\"],[0.6666666666666666,\"#ed7953\"],[0.7777777777777778,\"#fb9f3a\"],[0.8888888888888888,\"#fdca26\"],[1.0,\"#f0f921\"]]}],\"contourcarpet\":[{\"type\":\"contourcarpet\",\"colorbar\":{\"outlinewidth\":0,\"ticks\":\"\"}}],\"contour\":[{\"type\":\"contour\",\"colorbar\":{\"outlinewidth\":0,\"ticks\":\"\"},\"colorscale\":[[0.0,\"#0d0887\"],[0.1111111111111111,\"#46039f\"],[0.2222222222222222,\"#7201a8\"],[0.3333333333333333,\"#9c179e\"],[0.4444444444444444,\"#bd3786\"],[0.5555555555555556,\"#d8576b\"],[0.6666666666666666,\"#ed7953\"],[0.7777777777777778,\"#fb9f3a\"],[0.8888888888888888,\"#fdca26\"],[1.0,\"#f0f921\"]]}],\"surface\":[{\"type\":\"surface\",\"colorbar\":{\"outlinewidth\":0,\"ticks\":\"\"},\"colorscale\":[[0.0,\"#0d0887\"],[0.1111111111111111,\"#46039f\"],[0.2222222222222222,\"#7201a8\"],[0.3333333333333333,\"#9c179e\"],[0.4444444444444444,\"#bd3786\"],[0.5555555555555556,\"#d8576b\"],[0.6666666666666666,\"#ed7953\"],[0.7777777777777778,\"#fb9f3a\"],[0.8888888888888888,\"#fdca26\"],[1.0,\"#f0f921\"]]}],\"mesh3d\":[{\"type\":\"mesh3d\",\"colorbar\":{\"outlinewidth\":0,\"ticks\":\"\"}}],\"scatter\":[{\"fillpattern\":{\"fillmode\":\"overlay\",\"size\":10,\"solidity\":0.2},\"type\":\"scatter\"}],\"parcoords\":[{\"type\":\"parcoords\",\"line\":{\"colorbar\":{\"outlinewidth\":0,\"ticks\":\"\"}}}],\"scatterpolargl\":[{\"type\":\"scatterpolargl\",\"marker\":{\"colorbar\":{\"outlinewidth\":0,\"ticks\":\"\"}}}],\"bar\":[{\"error_x\":{\"color\":\"#2a3f5f\"},\"error_y\":{\"color\":\"#2a3f5f\"},\"marker\":{\"line\":{\"color\":\"#E5ECF6\",\"width\":0.5},\"pattern\":{\"fillmode\":\"overlay\",\"size\":10,\"solidity\":0.2}},\"type\":\"bar\"}],\"scattergeo\":[{\"type\":\"scattergeo\",\"marker\":{\"colorbar\":{\"outlinewidth\":0,\"ticks\":\"\"}}}],\"scatterpolar\":[{\"type\":\"scatterpolar\",\"marker\":{\"colorbar\":{\"outlinewidth\":0,\"ticks\":\"\"}}}],\"histogram\":[{\"marker\":{\"pattern\":{\"fillmode\":\"overlay\",\"size\":10,\"solidity\":0.2}},\"type\":\"histogram\"}],\"scattergl\":[{\"type\":\"scattergl\",\"marker\":{\"colorbar\":{\"outlinewidth\":0,\"ticks\":\"\"}}}],\"scatter3d\":[{\"type\":\"scatter3d\",\"line\":{\"colorbar\":{\"outlinewidth\":0,\"ticks\":\"\"}},\"marker\":{\"colorbar\":{\"outlinewidth\":0,\"ticks\":\"\"}}}],\"scattermapbox\":[{\"type\":\"scattermapbox\",\"marker\":{\"colorbar\":{\"outlinewidth\":0,\"ticks\":\"\"}}}],\"scatterternary\":[{\"type\":\"scatterternary\",\"marker\":{\"colorbar\":{\"outlinewidth\":0,\"ticks\":\"\"}}}],\"scattercarpet\":[{\"type\":\"scattercarpet\",\"marker\":{\"colorbar\":{\"outlinewidth\":0,\"ticks\":\"\"}}}],\"carpet\":[{\"aaxis\":{\"endlinecolor\":\"#2a3f5f\",\"gridcolor\":\"white\",\"linecolor\":\"white\",\"minorgridcolor\":\"white\",\"startlinecolor\":\"#2a3f5f\"},\"baxis\":{\"endlinecolor\":\"#2a3f5f\",\"gridcolor\":\"white\",\"linecolor\":\"white\",\"minorgridcolor\":\"white\",\"startlinecolor\":\"#2a3f5f\"},\"type\":\"carpet\"}],\"table\":[{\"cells\":{\"fill\":{\"color\":\"#EBF0F8\"},\"line\":{\"color\":\"white\"}},\"header\":{\"fill\":{\"color\":\"#C8D4E3\"},\"line\":{\"color\":\"white\"}},\"type\":\"table\"}],\"barpolar\":[{\"marker\":{\"line\":{\"color\":\"#E5ECF6\",\"width\":0.5},\"pattern\":{\"fillmode\":\"overlay\",\"size\":10,\"solidity\":0.2}},\"type\":\"barpolar\"}],\"pie\":[{\"automargin\":true,\"type\":\"pie\"}]},\"layout\":{\"autotypenumbers\":\"strict\",\"colorway\":[\"#636efa\",\"#EF553B\",\"#00cc96\",\"#ab63fa\",\"#FFA15A\",\"#19d3f3\",\"#FF6692\",\"#B6E880\",\"#FF97FF\",\"#FECB52\"],\"font\":{\"color\":\"#2a3f5f\"},\"hovermode\":\"closest\",\"hoverlabel\":{\"align\":\"left\"},\"paper_bgcolor\":\"white\",\"plot_bgcolor\":\"#E5ECF6\",\"polar\":{\"bgcolor\":\"#E5ECF6\",\"angularaxis\":{\"gridcolor\":\"white\",\"linecolor\":\"white\",\"ticks\":\"\"},\"radialaxis\":{\"gridcolor\":\"white\",\"linecolor\":\"white\",\"ticks\":\"\"}},\"ternary\":{\"bgcolor\":\"#E5ECF6\",\"aaxis\":{\"gridcolor\":\"white\",\"linecolor\":\"white\",\"ticks\":\"\"},\"baxis\":{\"gridcolor\":\"white\",\"linecolor\":\"white\",\"ticks\":\"\"},\"caxis\":{\"gridcolor\":\"white\",\"linecolor\":\"white\",\"ticks\":\"\"}},\"coloraxis\":{\"colorbar\":{\"outlinewidth\":0,\"ticks\":\"\"}},\"colorscale\":{\"sequential\":[[0.0,\"#0d0887\"],[0.1111111111111111,\"#46039f\"],[0.2222222222222222,\"#7201a8\"],[0.3333333333333333,\"#9c179e\"],[0.4444444444444444,\"#bd3786\"],[0.5555555555555556,\"#d8576b\"],[0.6666666666666666,\"#ed7953\"],[0.7777777777777778,\"#fb9f3a\"],[0.8888888888888888,\"#fdca26\"],[1.0,\"#f0f921\"]],\"sequentialminus\":[[0.0,\"#0d0887\"],[0.1111111111111111,\"#46039f\"],[0.2222222222222222,\"#7201a8\"],[0.3333333333333333,\"#9c179e\"],[0.4444444444444444,\"#bd3786\"],[0.5555555555555556,\"#d8576b\"],[0.6666666666666666,\"#ed7953\"],[0.7777777777777778,\"#fb9f3a\"],[0.8888888888888888,\"#fdca26\"],[1.0,\"#f0f921\"]],\"diverging\":[[0,\"#8e0152\"],[0.1,\"#c51b7d\"],[0.2,\"#de77ae\"],[0.3,\"#f1b6da\"],[0.4,\"#fde0ef\"],[0.5,\"#f7f7f7\"],[0.6,\"#e6f5d0\"],[0.7,\"#b8e186\"],[0.8,\"#7fbc41\"],[0.9,\"#4d9221\"],[1,\"#276419\"]]},\"xaxis\":{\"gridcolor\":\"white\",\"linecolor\":\"white\",\"ticks\":\"\",\"title\":{\"standoff\":15},\"zerolinecolor\":\"white\",\"automargin\":true,\"zerolinewidth\":2},\"yaxis\":{\"gridcolor\":\"white\",\"linecolor\":\"white\",\"ticks\":\"\",\"title\":{\"standoff\":15},\"zerolinecolor\":\"white\",\"automargin\":true,\"zerolinewidth\":2},\"scene\":{\"xaxis\":{\"backgroundcolor\":\"#E5ECF6\",\"gridcolor\":\"white\",\"linecolor\":\"white\",\"showbackground\":true,\"ticks\":\"\",\"zerolinecolor\":\"white\",\"gridwidth\":2},\"yaxis\":{\"backgroundcolor\":\"#E5ECF6\",\"gridcolor\":\"white\",\"linecolor\":\"white\",\"showbackground\":true,\"ticks\":\"\",\"zerolinecolor\":\"white\",\"gridwidth\":2},\"zaxis\":{\"backgroundcolor\":\"#E5ECF6\",\"gridcolor\":\"white\",\"linecolor\":\"white\",\"showbackground\":true,\"ticks\":\"\",\"zerolinecolor\":\"white\",\"gridwidth\":2}},\"shapedefaults\":{\"line\":{\"color\":\"#2a3f5f\"}},\"annotationdefaults\":{\"arrowcolor\":\"#2a3f5f\",\"arrowhead\":0,\"arrowwidth\":1},\"geo\":{\"bgcolor\":\"white\",\"landcolor\":\"#E5ECF6\",\"subunitcolor\":\"white\",\"showland\":true,\"showlakes\":true,\"lakecolor\":\"white\"},\"title\":{\"x\":0.05},\"mapbox\":{\"style\":\"light\"}}},\"xaxis\":{\"anchor\":\"y\",\"domain\":[0.0,1.0],\"title\":{\"text\":\"Number of Providers\"}},\"yaxis\":{\"anchor\":\"x\",\"domain\":[0.0,1.0],\"title\":{\"text\":\"City\"},\"autorange\":\"reversed\"},\"coloraxis\":{\"colorbar\":{\"title\":{\"text\":\"Number of Providers\"}},\"colorscale\":[[0.0,\"#440154\"],[0.1111111111111111,\"#482878\"],[0.2222222222222222,\"#3e4989\"],[0.3333333333333333,\"#31688e\"],[0.4444444444444444,\"#26828e\"],[0.5555555555555556,\"#1f9e89\"],[0.6666666666666666,\"#35b779\"],[0.7777777777777778,\"#6ece58\"],[0.8888888888888888,\"#b5de2b\"],[1.0,\"#fde725\"]]},\"legend\":{\"tracegroupgap\":0},\"title\":{\"text\":\"🏙 Top 10 Cities by Number of Providers\",\"x\":0.5},\"barmode\":\"relative\"},                        {\"responsive\": true}                    ).then(function(){\n",
              "                            \n",
              "var gd = document.getElementById('c10c3833-422a-44d9-baae-c9c0f9b5b592');\n",
              "var x = new MutationObserver(function (mutations, observer) {{\n",
              "        var display = window.getComputedStyle(gd).display;\n",
              "        if (!display || display === 'none') {{\n",
              "            console.log([gd, 'removed!']);\n",
              "            Plotly.purge(gd);\n",
              "            observer.disconnect();\n",
              "        }}\n",
              "}});\n",
              "\n",
              "// Listen for the removal of the full notebook cells\n",
              "var notebookContainer = gd.closest('#notebook-container');\n",
              "if (notebookContainer) {{\n",
              "    x.observe(notebookContainer, {childList: true});\n",
              "}}\n",
              "\n",
              "// Listen for the clearing of the current output cell\n",
              "var outputEl = gd.closest('.output');\n",
              "if (outputEl) {{\n",
              "    x.observe(outputEl, {childList: true});\n",
              "}}\n",
              "\n",
              "                        })                };                            </script>        </div>\n",
              "</body>\n",
              "</html>"
            ]
          },
          "metadata": {}
        }
      ]
    },
    {
      "cell_type": "markdown",
      "source": [
        "**1️⃣ Why this chart?**\n",
        "\n",
        "👉 Makes it easy to compare providers across cities.\n",
        "\n",
        "**2️⃣ Insights from the chart:**\n",
        "\n",
        "- 🏆 Some cities dominate in provider numbers.\n",
        "\n",
        "- 🌍 Other cities show low participation.\n",
        "\n",
        "- 🛠 Reflects uneven geographical contribution.\n",
        "\n",
        "\n",
        "**3️⃣ Positive / Negative Business Impact:**\n",
        "- ✅ Positive: Optimize logistics in top-provider cities.\n",
        "- ⚠️ Risk: Cities with few providers may be underserved."
      ],
      "metadata": {
        "id": "dzaRmBKSxaA0"
      }
    },
    {
      "cell_type": "markdown",
      "source": [
        "#### 4. Bar Plot : Top Food Types"
      ],
      "metadata": {
        "id": "i4jgTnfcijQs"
      }
    },
    {
      "cell_type": "code",
      "source": [
        "# 🍽 Top Food Types\n",
        "df = pd.read_sql(\"SELECT food_type, COUNT(*) AS count FROM food_listings GROUP BY food_type\", engine)"
      ],
      "metadata": {
        "id": "p5tN1d17iqRm"
      },
      "execution_count": null,
      "outputs": []
    },
    {
      "cell_type": "code",
      "source": [
        "# Create interactive bar chart with numbers on top\n",
        "fig = px.bar(\n",
        "    df,\n",
        "    x=\"food_type\",\n",
        "    y=\"count\",\n",
        "    title=\"🍽 Food Type Distribution\",\n",
        "    labels={\"food_type\": \"Food Type\", \"count\": \"Number of Listings\"},\n",
        "    color=\"count\",\n",
        "    color_continuous_scale=\"Viridis\",\n",
        "    text=\"count\"  # Add text labels\n",
        ")\n",
        "\n",
        "# Improve hover & layout\n",
        "fig.update_traces(\n",
        "    hovertemplate=\"Food Type: %{x}<br>Listings: %{y}\",\n",
        "    textposition=\"outside\"  # Place numbers above bars\n",
        ")\n",
        "\n",
        "fig.update_layout(\n",
        "    xaxis=dict(tickangle=45),\n",
        "    title_x=0.5\n",
        ")\n",
        "\n",
        "fig.show()"
      ],
      "metadata": {
        "colab": {
          "base_uri": "https://localhost:8080/",
          "height": 542
        },
        "id": "D6lbvd0yiwpn",
        "outputId": "f33a89c8-47b3-4ed6-d261-b2225b7f2433"
      },
      "execution_count": null,
      "outputs": [
        {
          "output_type": "display_data",
          "data": {
            "text/html": [
              "<html>\n",
              "<head><meta charset=\"utf-8\" /></head>\n",
              "<body>\n",
              "    <div>            <script src=\"https://cdnjs.cloudflare.com/ajax/libs/mathjax/2.7.5/MathJax.js?config=TeX-AMS-MML_SVG\"></script><script type=\"text/javascript\">if (window.MathJax && window.MathJax.Hub && window.MathJax.Hub.Config) {window.MathJax.Hub.Config({SVG: {font: \"STIX-Web\"}});}</script>                <script type=\"text/javascript\">window.PlotlyConfig = {MathJaxConfig: 'local'};</script>\n",
              "        <script charset=\"utf-8\" src=\"https://cdn.plot.ly/plotly-2.35.2.min.js\"></script>                <div id=\"6e2a0476-c78b-4500-9278-7757184f8909\" class=\"plotly-graph-div\" style=\"height:525px; width:100%;\"></div>            <script type=\"text/javascript\">                                    window.PLOTLYENV=window.PLOTLYENV || {};                                    if (document.getElementById(\"6e2a0476-c78b-4500-9278-7757184f8909\")) {                    Plotly.newPlot(                        \"6e2a0476-c78b-4500-9278-7757184f8909\",                        [{\"alignmentgroup\":\"True\",\"hovertemplate\":\"Food Type: %{x}\\u003cbr\\u003eListings: %{y}\",\"legendgroup\":\"\",\"marker\":{\"color\":[330,334,336],\"coloraxis\":\"coloraxis\",\"pattern\":{\"shape\":\"\"}},\"name\":\"\",\"offsetgroup\":\"\",\"orientation\":\"v\",\"showlegend\":false,\"text\":[330.0,334.0,336.0],\"textposition\":\"outside\",\"x\":[\"Non-Vegetarian\",\"Vegan\",\"Vegetarian\"],\"xaxis\":\"x\",\"y\":[330,334,336],\"yaxis\":\"y\",\"type\":\"bar\"}],                        {\"template\":{\"data\":{\"histogram2dcontour\":[{\"type\":\"histogram2dcontour\",\"colorbar\":{\"outlinewidth\":0,\"ticks\":\"\"},\"colorscale\":[[0.0,\"#0d0887\"],[0.1111111111111111,\"#46039f\"],[0.2222222222222222,\"#7201a8\"],[0.3333333333333333,\"#9c179e\"],[0.4444444444444444,\"#bd3786\"],[0.5555555555555556,\"#d8576b\"],[0.6666666666666666,\"#ed7953\"],[0.7777777777777778,\"#fb9f3a\"],[0.8888888888888888,\"#fdca26\"],[1.0,\"#f0f921\"]]}],\"choropleth\":[{\"type\":\"choropleth\",\"colorbar\":{\"outlinewidth\":0,\"ticks\":\"\"}}],\"histogram2d\":[{\"type\":\"histogram2d\",\"colorbar\":{\"outlinewidth\":0,\"ticks\":\"\"},\"colorscale\":[[0.0,\"#0d0887\"],[0.1111111111111111,\"#46039f\"],[0.2222222222222222,\"#7201a8\"],[0.3333333333333333,\"#9c179e\"],[0.4444444444444444,\"#bd3786\"],[0.5555555555555556,\"#d8576b\"],[0.6666666666666666,\"#ed7953\"],[0.7777777777777778,\"#fb9f3a\"],[0.8888888888888888,\"#fdca26\"],[1.0,\"#f0f921\"]]}],\"heatmap\":[{\"type\":\"heatmap\",\"colorbar\":{\"outlinewidth\":0,\"ticks\":\"\"},\"colorscale\":[[0.0,\"#0d0887\"],[0.1111111111111111,\"#46039f\"],[0.2222222222222222,\"#7201a8\"],[0.3333333333333333,\"#9c179e\"],[0.4444444444444444,\"#bd3786\"],[0.5555555555555556,\"#d8576b\"],[0.6666666666666666,\"#ed7953\"],[0.7777777777777778,\"#fb9f3a\"],[0.8888888888888888,\"#fdca26\"],[1.0,\"#f0f921\"]]}],\"heatmapgl\":[{\"type\":\"heatmapgl\",\"colorbar\":{\"outlinewidth\":0,\"ticks\":\"\"},\"colorscale\":[[0.0,\"#0d0887\"],[0.1111111111111111,\"#46039f\"],[0.2222222222222222,\"#7201a8\"],[0.3333333333333333,\"#9c179e\"],[0.4444444444444444,\"#bd3786\"],[0.5555555555555556,\"#d8576b\"],[0.6666666666666666,\"#ed7953\"],[0.7777777777777778,\"#fb9f3a\"],[0.8888888888888888,\"#fdca26\"],[1.0,\"#f0f921\"]]}],\"contourcarpet\":[{\"type\":\"contourcarpet\",\"colorbar\":{\"outlinewidth\":0,\"ticks\":\"\"}}],\"contour\":[{\"type\":\"contour\",\"colorbar\":{\"outlinewidth\":0,\"ticks\":\"\"},\"colorscale\":[[0.0,\"#0d0887\"],[0.1111111111111111,\"#46039f\"],[0.2222222222222222,\"#7201a8\"],[0.3333333333333333,\"#9c179e\"],[0.4444444444444444,\"#bd3786\"],[0.5555555555555556,\"#d8576b\"],[0.6666666666666666,\"#ed7953\"],[0.7777777777777778,\"#fb9f3a\"],[0.8888888888888888,\"#fdca26\"],[1.0,\"#f0f921\"]]}],\"surface\":[{\"type\":\"surface\",\"colorbar\":{\"outlinewidth\":0,\"ticks\":\"\"},\"colorscale\":[[0.0,\"#0d0887\"],[0.1111111111111111,\"#46039f\"],[0.2222222222222222,\"#7201a8\"],[0.3333333333333333,\"#9c179e\"],[0.4444444444444444,\"#bd3786\"],[0.5555555555555556,\"#d8576b\"],[0.6666666666666666,\"#ed7953\"],[0.7777777777777778,\"#fb9f3a\"],[0.8888888888888888,\"#fdca26\"],[1.0,\"#f0f921\"]]}],\"mesh3d\":[{\"type\":\"mesh3d\",\"colorbar\":{\"outlinewidth\":0,\"ticks\":\"\"}}],\"scatter\":[{\"fillpattern\":{\"fillmode\":\"overlay\",\"size\":10,\"solidity\":0.2},\"type\":\"scatter\"}],\"parcoords\":[{\"type\":\"parcoords\",\"line\":{\"colorbar\":{\"outlinewidth\":0,\"ticks\":\"\"}}}],\"scatterpolargl\":[{\"type\":\"scatterpolargl\",\"marker\":{\"colorbar\":{\"outlinewidth\":0,\"ticks\":\"\"}}}],\"bar\":[{\"error_x\":{\"color\":\"#2a3f5f\"},\"error_y\":{\"color\":\"#2a3f5f\"},\"marker\":{\"line\":{\"color\":\"#E5ECF6\",\"width\":0.5},\"pattern\":{\"fillmode\":\"overlay\",\"size\":10,\"solidity\":0.2}},\"type\":\"bar\"}],\"scattergeo\":[{\"type\":\"scattergeo\",\"marker\":{\"colorbar\":{\"outlinewidth\":0,\"ticks\":\"\"}}}],\"scatterpolar\":[{\"type\":\"scatterpolar\",\"marker\":{\"colorbar\":{\"outlinewidth\":0,\"ticks\":\"\"}}}],\"histogram\":[{\"marker\":{\"pattern\":{\"fillmode\":\"overlay\",\"size\":10,\"solidity\":0.2}},\"type\":\"histogram\"}],\"scattergl\":[{\"type\":\"scattergl\",\"marker\":{\"colorbar\":{\"outlinewidth\":0,\"ticks\":\"\"}}}],\"scatter3d\":[{\"type\":\"scatter3d\",\"line\":{\"colorbar\":{\"outlinewidth\":0,\"ticks\":\"\"}},\"marker\":{\"colorbar\":{\"outlinewidth\":0,\"ticks\":\"\"}}}],\"scattermapbox\":[{\"type\":\"scattermapbox\",\"marker\":{\"colorbar\":{\"outlinewidth\":0,\"ticks\":\"\"}}}],\"scatterternary\":[{\"type\":\"scatterternary\",\"marker\":{\"colorbar\":{\"outlinewidth\":0,\"ticks\":\"\"}}}],\"scattercarpet\":[{\"type\":\"scattercarpet\",\"marker\":{\"colorbar\":{\"outlinewidth\":0,\"ticks\":\"\"}}}],\"carpet\":[{\"aaxis\":{\"endlinecolor\":\"#2a3f5f\",\"gridcolor\":\"white\",\"linecolor\":\"white\",\"minorgridcolor\":\"white\",\"startlinecolor\":\"#2a3f5f\"},\"baxis\":{\"endlinecolor\":\"#2a3f5f\",\"gridcolor\":\"white\",\"linecolor\":\"white\",\"minorgridcolor\":\"white\",\"startlinecolor\":\"#2a3f5f\"},\"type\":\"carpet\"}],\"table\":[{\"cells\":{\"fill\":{\"color\":\"#EBF0F8\"},\"line\":{\"color\":\"white\"}},\"header\":{\"fill\":{\"color\":\"#C8D4E3\"},\"line\":{\"color\":\"white\"}},\"type\":\"table\"}],\"barpolar\":[{\"marker\":{\"line\":{\"color\":\"#E5ECF6\",\"width\":0.5},\"pattern\":{\"fillmode\":\"overlay\",\"size\":10,\"solidity\":0.2}},\"type\":\"barpolar\"}],\"pie\":[{\"automargin\":true,\"type\":\"pie\"}]},\"layout\":{\"autotypenumbers\":\"strict\",\"colorway\":[\"#636efa\",\"#EF553B\",\"#00cc96\",\"#ab63fa\",\"#FFA15A\",\"#19d3f3\",\"#FF6692\",\"#B6E880\",\"#FF97FF\",\"#FECB52\"],\"font\":{\"color\":\"#2a3f5f\"},\"hovermode\":\"closest\",\"hoverlabel\":{\"align\":\"left\"},\"paper_bgcolor\":\"white\",\"plot_bgcolor\":\"#E5ECF6\",\"polar\":{\"bgcolor\":\"#E5ECF6\",\"angularaxis\":{\"gridcolor\":\"white\",\"linecolor\":\"white\",\"ticks\":\"\"},\"radialaxis\":{\"gridcolor\":\"white\",\"linecolor\":\"white\",\"ticks\":\"\"}},\"ternary\":{\"bgcolor\":\"#E5ECF6\",\"aaxis\":{\"gridcolor\":\"white\",\"linecolor\":\"white\",\"ticks\":\"\"},\"baxis\":{\"gridcolor\":\"white\",\"linecolor\":\"white\",\"ticks\":\"\"},\"caxis\":{\"gridcolor\":\"white\",\"linecolor\":\"white\",\"ticks\":\"\"}},\"coloraxis\":{\"colorbar\":{\"outlinewidth\":0,\"ticks\":\"\"}},\"colorscale\":{\"sequential\":[[0.0,\"#0d0887\"],[0.1111111111111111,\"#46039f\"],[0.2222222222222222,\"#7201a8\"],[0.3333333333333333,\"#9c179e\"],[0.4444444444444444,\"#bd3786\"],[0.5555555555555556,\"#d8576b\"],[0.6666666666666666,\"#ed7953\"],[0.7777777777777778,\"#fb9f3a\"],[0.8888888888888888,\"#fdca26\"],[1.0,\"#f0f921\"]],\"sequentialminus\":[[0.0,\"#0d0887\"],[0.1111111111111111,\"#46039f\"],[0.2222222222222222,\"#7201a8\"],[0.3333333333333333,\"#9c179e\"],[0.4444444444444444,\"#bd3786\"],[0.5555555555555556,\"#d8576b\"],[0.6666666666666666,\"#ed7953\"],[0.7777777777777778,\"#fb9f3a\"],[0.8888888888888888,\"#fdca26\"],[1.0,\"#f0f921\"]],\"diverging\":[[0,\"#8e0152\"],[0.1,\"#c51b7d\"],[0.2,\"#de77ae\"],[0.3,\"#f1b6da\"],[0.4,\"#fde0ef\"],[0.5,\"#f7f7f7\"],[0.6,\"#e6f5d0\"],[0.7,\"#b8e186\"],[0.8,\"#7fbc41\"],[0.9,\"#4d9221\"],[1,\"#276419\"]]},\"xaxis\":{\"gridcolor\":\"white\",\"linecolor\":\"white\",\"ticks\":\"\",\"title\":{\"standoff\":15},\"zerolinecolor\":\"white\",\"automargin\":true,\"zerolinewidth\":2},\"yaxis\":{\"gridcolor\":\"white\",\"linecolor\":\"white\",\"ticks\":\"\",\"title\":{\"standoff\":15},\"zerolinecolor\":\"white\",\"automargin\":true,\"zerolinewidth\":2},\"scene\":{\"xaxis\":{\"backgroundcolor\":\"#E5ECF6\",\"gridcolor\":\"white\",\"linecolor\":\"white\",\"showbackground\":true,\"ticks\":\"\",\"zerolinecolor\":\"white\",\"gridwidth\":2},\"yaxis\":{\"backgroundcolor\":\"#E5ECF6\",\"gridcolor\":\"white\",\"linecolor\":\"white\",\"showbackground\":true,\"ticks\":\"\",\"zerolinecolor\":\"white\",\"gridwidth\":2},\"zaxis\":{\"backgroundcolor\":\"#E5ECF6\",\"gridcolor\":\"white\",\"linecolor\":\"white\",\"showbackground\":true,\"ticks\":\"\",\"zerolinecolor\":\"white\",\"gridwidth\":2}},\"shapedefaults\":{\"line\":{\"color\":\"#2a3f5f\"}},\"annotationdefaults\":{\"arrowcolor\":\"#2a3f5f\",\"arrowhead\":0,\"arrowwidth\":1},\"geo\":{\"bgcolor\":\"white\",\"landcolor\":\"#E5ECF6\",\"subunitcolor\":\"white\",\"showland\":true,\"showlakes\":true,\"lakecolor\":\"white\"},\"title\":{\"x\":0.05},\"mapbox\":{\"style\":\"light\"}}},\"xaxis\":{\"anchor\":\"y\",\"domain\":[0.0,1.0],\"title\":{\"text\":\"Food Type\"},\"tickangle\":45},\"yaxis\":{\"anchor\":\"x\",\"domain\":[0.0,1.0],\"title\":{\"text\":\"Number of Listings\"}},\"coloraxis\":{\"colorbar\":{\"title\":{\"text\":\"Number of Listings\"}},\"colorscale\":[[0.0,\"#440154\"],[0.1111111111111111,\"#482878\"],[0.2222222222222222,\"#3e4989\"],[0.3333333333333333,\"#31688e\"],[0.4444444444444444,\"#26828e\"],[0.5555555555555556,\"#1f9e89\"],[0.6666666666666666,\"#35b779\"],[0.7777777777777778,\"#6ece58\"],[0.8888888888888888,\"#b5de2b\"],[1.0,\"#fde725\"]]},\"legend\":{\"tracegroupgap\":0},\"title\":{\"text\":\"🍽 Food Type Distribution\",\"x\":0.5},\"barmode\":\"relative\"},                        {\"responsive\": true}                    ).then(function(){\n",
              "                            \n",
              "var gd = document.getElementById('6e2a0476-c78b-4500-9278-7757184f8909');\n",
              "var x = new MutationObserver(function (mutations, observer) {{\n",
              "        var display = window.getComputedStyle(gd).display;\n",
              "        if (!display || display === 'none') {{\n",
              "            console.log([gd, 'removed!']);\n",
              "            Plotly.purge(gd);\n",
              "            observer.disconnect();\n",
              "        }}\n",
              "}});\n",
              "\n",
              "// Listen for the removal of the full notebook cells\n",
              "var notebookContainer = gd.closest('#notebook-container');\n",
              "if (notebookContainer) {{\n",
              "    x.observe(notebookContainer, {childList: true});\n",
              "}}\n",
              "\n",
              "// Listen for the clearing of the current output cell\n",
              "var outputEl = gd.closest('.output');\n",
              "if (outputEl) {{\n",
              "    x.observe(outputEl, {childList: true});\n",
              "}}\n",
              "\n",
              "                        })                };                            </script>        </div>\n",
              "</body>\n",
              "</html>"
            ]
          },
          "metadata": {}
        }
      ]
    },
    {
      "cell_type": "markdown",
      "source": [
        "**1️⃣ Why this chart?**\n",
        "\n",
        "👉 Bar charts are great for comparing categories like food types.\n",
        "\n",
        "**2️⃣ Insights from the chart:**\n",
        "\n",
        "- 🍞 Staples dominate (e.g., rice, bread).\n",
        "\n",
        "- 🥗 Fresh/perishable foods are fewer.\n",
        "\n",
        "- ⚖️ Uneven distribution across categories.\n",
        "\n",
        "**3️⃣ Positive / Negative Business Impact:**\n",
        "\n",
        "- ✅ Positive: Encourages balanced donations.\n",
        "- ⚠️ Risk: Over-reliance on staples reduces nutritional diversity."
      ],
      "metadata": {
        "id": "vsNExYKyxkjM"
      }
    },
    {
      "cell_type": "markdown",
      "source": [
        "#### 5. Pie Chart : Claims Status Percentage"
      ],
      "metadata": {
        "id": "oCJxAHRAjTAB"
      }
    },
    {
      "cell_type": "code",
      "source": [
        "# 🥧 Pie Chart → Claim Status Percentage\n",
        "df = pd.read_sql(\"SELECT status, COUNT(*) AS count FROM claims GROUP BY status\", engine)"
      ],
      "metadata": {
        "id": "pM_duOFejcLc"
      },
      "execution_count": null,
      "outputs": []
    },
    {
      "cell_type": "code",
      "source": [
        "# Create interactive pie chart\n",
        "fig = px.pie(\n",
        "    df,\n",
        "    names=\"status\",\n",
        "    values=\"count\",\n",
        "    title=\"📊 Claim Status Percentage\",\n",
        "    color_discrete_sequence=px.colors.qualitative.Pastel,  # pastel colors\n",
        "    hole=0  # full pie (set to 0.4 for donut)\n",
        ")\n",
        "\n",
        "# Improve hover & labels\n",
        "fig.update_traces(\n",
        "    hovertemplate=\"Status: %{label}<br>Count: %{value}<br>Percentage: %{percent}\",\n",
        "    textinfo=\"percent+label\"  # show percentage & label on the pie\n",
        ")\n",
        "\n",
        "fig.update_layout(title_x=0.5)\n",
        "\n",
        "fig.show()"
      ],
      "metadata": {
        "colab": {
          "base_uri": "https://localhost:8080/",
          "height": 542
        },
        "id": "HYwOaw98jmiX",
        "outputId": "ccfebd65-7a67-46c0-b4ff-207a376f10dc"
      },
      "execution_count": null,
      "outputs": [
        {
          "output_type": "display_data",
          "data": {
            "text/html": [
              "<html>\n",
              "<head><meta charset=\"utf-8\" /></head>\n",
              "<body>\n",
              "    <div>            <script src=\"https://cdnjs.cloudflare.com/ajax/libs/mathjax/2.7.5/MathJax.js?config=TeX-AMS-MML_SVG\"></script><script type=\"text/javascript\">if (window.MathJax && window.MathJax.Hub && window.MathJax.Hub.Config) {window.MathJax.Hub.Config({SVG: {font: \"STIX-Web\"}});}</script>                <script type=\"text/javascript\">window.PlotlyConfig = {MathJaxConfig: 'local'};</script>\n",
              "        <script charset=\"utf-8\" src=\"https://cdn.plot.ly/plotly-2.35.2.min.js\"></script>                <div id=\"4dc79cc5-98f2-4065-8474-6b320669e3ee\" class=\"plotly-graph-div\" style=\"height:525px; width:100%;\"></div>            <script type=\"text/javascript\">                                    window.PLOTLYENV=window.PLOTLYENV || {};                                    if (document.getElementById(\"4dc79cc5-98f2-4065-8474-6b320669e3ee\")) {                    Plotly.newPlot(                        \"4dc79cc5-98f2-4065-8474-6b320669e3ee\",                        [{\"domain\":{\"x\":[0.0,1.0],\"y\":[0.0,1.0]},\"hole\":0,\"hovertemplate\":\"Status: %{label}\\u003cbr\\u003eCount: %{value}\\u003cbr\\u003ePercentage: %{percent}\",\"labels\":[\"Cancelled\",\"Completed\",\"Pending\"],\"legendgroup\":\"\",\"name\":\"\",\"showlegend\":true,\"values\":[336,339,325],\"type\":\"pie\",\"textinfo\":\"percent+label\"}],                        {\"template\":{\"data\":{\"histogram2dcontour\":[{\"type\":\"histogram2dcontour\",\"colorbar\":{\"outlinewidth\":0,\"ticks\":\"\"},\"colorscale\":[[0.0,\"#0d0887\"],[0.1111111111111111,\"#46039f\"],[0.2222222222222222,\"#7201a8\"],[0.3333333333333333,\"#9c179e\"],[0.4444444444444444,\"#bd3786\"],[0.5555555555555556,\"#d8576b\"],[0.6666666666666666,\"#ed7953\"],[0.7777777777777778,\"#fb9f3a\"],[0.8888888888888888,\"#fdca26\"],[1.0,\"#f0f921\"]]}],\"choropleth\":[{\"type\":\"choropleth\",\"colorbar\":{\"outlinewidth\":0,\"ticks\":\"\"}}],\"histogram2d\":[{\"type\":\"histogram2d\",\"colorbar\":{\"outlinewidth\":0,\"ticks\":\"\"},\"colorscale\":[[0.0,\"#0d0887\"],[0.1111111111111111,\"#46039f\"],[0.2222222222222222,\"#7201a8\"],[0.3333333333333333,\"#9c179e\"],[0.4444444444444444,\"#bd3786\"],[0.5555555555555556,\"#d8576b\"],[0.6666666666666666,\"#ed7953\"],[0.7777777777777778,\"#fb9f3a\"],[0.8888888888888888,\"#fdca26\"],[1.0,\"#f0f921\"]]}],\"heatmap\":[{\"type\":\"heatmap\",\"colorbar\":{\"outlinewidth\":0,\"ticks\":\"\"},\"colorscale\":[[0.0,\"#0d0887\"],[0.1111111111111111,\"#46039f\"],[0.2222222222222222,\"#7201a8\"],[0.3333333333333333,\"#9c179e\"],[0.4444444444444444,\"#bd3786\"],[0.5555555555555556,\"#d8576b\"],[0.6666666666666666,\"#ed7953\"],[0.7777777777777778,\"#fb9f3a\"],[0.8888888888888888,\"#fdca26\"],[1.0,\"#f0f921\"]]}],\"heatmapgl\":[{\"type\":\"heatmapgl\",\"colorbar\":{\"outlinewidth\":0,\"ticks\":\"\"},\"colorscale\":[[0.0,\"#0d0887\"],[0.1111111111111111,\"#46039f\"],[0.2222222222222222,\"#7201a8\"],[0.3333333333333333,\"#9c179e\"],[0.4444444444444444,\"#bd3786\"],[0.5555555555555556,\"#d8576b\"],[0.6666666666666666,\"#ed7953\"],[0.7777777777777778,\"#fb9f3a\"],[0.8888888888888888,\"#fdca26\"],[1.0,\"#f0f921\"]]}],\"contourcarpet\":[{\"type\":\"contourcarpet\",\"colorbar\":{\"outlinewidth\":0,\"ticks\":\"\"}}],\"contour\":[{\"type\":\"contour\",\"colorbar\":{\"outlinewidth\":0,\"ticks\":\"\"},\"colorscale\":[[0.0,\"#0d0887\"],[0.1111111111111111,\"#46039f\"],[0.2222222222222222,\"#7201a8\"],[0.3333333333333333,\"#9c179e\"],[0.4444444444444444,\"#bd3786\"],[0.5555555555555556,\"#d8576b\"],[0.6666666666666666,\"#ed7953\"],[0.7777777777777778,\"#fb9f3a\"],[0.8888888888888888,\"#fdca26\"],[1.0,\"#f0f921\"]]}],\"surface\":[{\"type\":\"surface\",\"colorbar\":{\"outlinewidth\":0,\"ticks\":\"\"},\"colorscale\":[[0.0,\"#0d0887\"],[0.1111111111111111,\"#46039f\"],[0.2222222222222222,\"#7201a8\"],[0.3333333333333333,\"#9c179e\"],[0.4444444444444444,\"#bd3786\"],[0.5555555555555556,\"#d8576b\"],[0.6666666666666666,\"#ed7953\"],[0.7777777777777778,\"#fb9f3a\"],[0.8888888888888888,\"#fdca26\"],[1.0,\"#f0f921\"]]}],\"mesh3d\":[{\"type\":\"mesh3d\",\"colorbar\":{\"outlinewidth\":0,\"ticks\":\"\"}}],\"scatter\":[{\"fillpattern\":{\"fillmode\":\"overlay\",\"size\":10,\"solidity\":0.2},\"type\":\"scatter\"}],\"parcoords\":[{\"type\":\"parcoords\",\"line\":{\"colorbar\":{\"outlinewidth\":0,\"ticks\":\"\"}}}],\"scatterpolargl\":[{\"type\":\"scatterpolargl\",\"marker\":{\"colorbar\":{\"outlinewidth\":0,\"ticks\":\"\"}}}],\"bar\":[{\"error_x\":{\"color\":\"#2a3f5f\"},\"error_y\":{\"color\":\"#2a3f5f\"},\"marker\":{\"line\":{\"color\":\"#E5ECF6\",\"width\":0.5},\"pattern\":{\"fillmode\":\"overlay\",\"size\":10,\"solidity\":0.2}},\"type\":\"bar\"}],\"scattergeo\":[{\"type\":\"scattergeo\",\"marker\":{\"colorbar\":{\"outlinewidth\":0,\"ticks\":\"\"}}}],\"scatterpolar\":[{\"type\":\"scatterpolar\",\"marker\":{\"colorbar\":{\"outlinewidth\":0,\"ticks\":\"\"}}}],\"histogram\":[{\"marker\":{\"pattern\":{\"fillmode\":\"overlay\",\"size\":10,\"solidity\":0.2}},\"type\":\"histogram\"}],\"scattergl\":[{\"type\":\"scattergl\",\"marker\":{\"colorbar\":{\"outlinewidth\":0,\"ticks\":\"\"}}}],\"scatter3d\":[{\"type\":\"scatter3d\",\"line\":{\"colorbar\":{\"outlinewidth\":0,\"ticks\":\"\"}},\"marker\":{\"colorbar\":{\"outlinewidth\":0,\"ticks\":\"\"}}}],\"scattermapbox\":[{\"type\":\"scattermapbox\",\"marker\":{\"colorbar\":{\"outlinewidth\":0,\"ticks\":\"\"}}}],\"scatterternary\":[{\"type\":\"scatterternary\",\"marker\":{\"colorbar\":{\"outlinewidth\":0,\"ticks\":\"\"}}}],\"scattercarpet\":[{\"type\":\"scattercarpet\",\"marker\":{\"colorbar\":{\"outlinewidth\":0,\"ticks\":\"\"}}}],\"carpet\":[{\"aaxis\":{\"endlinecolor\":\"#2a3f5f\",\"gridcolor\":\"white\",\"linecolor\":\"white\",\"minorgridcolor\":\"white\",\"startlinecolor\":\"#2a3f5f\"},\"baxis\":{\"endlinecolor\":\"#2a3f5f\",\"gridcolor\":\"white\",\"linecolor\":\"white\",\"minorgridcolor\":\"white\",\"startlinecolor\":\"#2a3f5f\"},\"type\":\"carpet\"}],\"table\":[{\"cells\":{\"fill\":{\"color\":\"#EBF0F8\"},\"line\":{\"color\":\"white\"}},\"header\":{\"fill\":{\"color\":\"#C8D4E3\"},\"line\":{\"color\":\"white\"}},\"type\":\"table\"}],\"barpolar\":[{\"marker\":{\"line\":{\"color\":\"#E5ECF6\",\"width\":0.5},\"pattern\":{\"fillmode\":\"overlay\",\"size\":10,\"solidity\":0.2}},\"type\":\"barpolar\"}],\"pie\":[{\"automargin\":true,\"type\":\"pie\"}]},\"layout\":{\"autotypenumbers\":\"strict\",\"colorway\":[\"#636efa\",\"#EF553B\",\"#00cc96\",\"#ab63fa\",\"#FFA15A\",\"#19d3f3\",\"#FF6692\",\"#B6E880\",\"#FF97FF\",\"#FECB52\"],\"font\":{\"color\":\"#2a3f5f\"},\"hovermode\":\"closest\",\"hoverlabel\":{\"align\":\"left\"},\"paper_bgcolor\":\"white\",\"plot_bgcolor\":\"#E5ECF6\",\"polar\":{\"bgcolor\":\"#E5ECF6\",\"angularaxis\":{\"gridcolor\":\"white\",\"linecolor\":\"white\",\"ticks\":\"\"},\"radialaxis\":{\"gridcolor\":\"white\",\"linecolor\":\"white\",\"ticks\":\"\"}},\"ternary\":{\"bgcolor\":\"#E5ECF6\",\"aaxis\":{\"gridcolor\":\"white\",\"linecolor\":\"white\",\"ticks\":\"\"},\"baxis\":{\"gridcolor\":\"white\",\"linecolor\":\"white\",\"ticks\":\"\"},\"caxis\":{\"gridcolor\":\"white\",\"linecolor\":\"white\",\"ticks\":\"\"}},\"coloraxis\":{\"colorbar\":{\"outlinewidth\":0,\"ticks\":\"\"}},\"colorscale\":{\"sequential\":[[0.0,\"#0d0887\"],[0.1111111111111111,\"#46039f\"],[0.2222222222222222,\"#7201a8\"],[0.3333333333333333,\"#9c179e\"],[0.4444444444444444,\"#bd3786\"],[0.5555555555555556,\"#d8576b\"],[0.6666666666666666,\"#ed7953\"],[0.7777777777777778,\"#fb9f3a\"],[0.8888888888888888,\"#fdca26\"],[1.0,\"#f0f921\"]],\"sequentialminus\":[[0.0,\"#0d0887\"],[0.1111111111111111,\"#46039f\"],[0.2222222222222222,\"#7201a8\"],[0.3333333333333333,\"#9c179e\"],[0.4444444444444444,\"#bd3786\"],[0.5555555555555556,\"#d8576b\"],[0.6666666666666666,\"#ed7953\"],[0.7777777777777778,\"#fb9f3a\"],[0.8888888888888888,\"#fdca26\"],[1.0,\"#f0f921\"]],\"diverging\":[[0,\"#8e0152\"],[0.1,\"#c51b7d\"],[0.2,\"#de77ae\"],[0.3,\"#f1b6da\"],[0.4,\"#fde0ef\"],[0.5,\"#f7f7f7\"],[0.6,\"#e6f5d0\"],[0.7,\"#b8e186\"],[0.8,\"#7fbc41\"],[0.9,\"#4d9221\"],[1,\"#276419\"]]},\"xaxis\":{\"gridcolor\":\"white\",\"linecolor\":\"white\",\"ticks\":\"\",\"title\":{\"standoff\":15},\"zerolinecolor\":\"white\",\"automargin\":true,\"zerolinewidth\":2},\"yaxis\":{\"gridcolor\":\"white\",\"linecolor\":\"white\",\"ticks\":\"\",\"title\":{\"standoff\":15},\"zerolinecolor\":\"white\",\"automargin\":true,\"zerolinewidth\":2},\"scene\":{\"xaxis\":{\"backgroundcolor\":\"#E5ECF6\",\"gridcolor\":\"white\",\"linecolor\":\"white\",\"showbackground\":true,\"ticks\":\"\",\"zerolinecolor\":\"white\",\"gridwidth\":2},\"yaxis\":{\"backgroundcolor\":\"#E5ECF6\",\"gridcolor\":\"white\",\"linecolor\":\"white\",\"showbackground\":true,\"ticks\":\"\",\"zerolinecolor\":\"white\",\"gridwidth\":2},\"zaxis\":{\"backgroundcolor\":\"#E5ECF6\",\"gridcolor\":\"white\",\"linecolor\":\"white\",\"showbackground\":true,\"ticks\":\"\",\"zerolinecolor\":\"white\",\"gridwidth\":2}},\"shapedefaults\":{\"line\":{\"color\":\"#2a3f5f\"}},\"annotationdefaults\":{\"arrowcolor\":\"#2a3f5f\",\"arrowhead\":0,\"arrowwidth\":1},\"geo\":{\"bgcolor\":\"white\",\"landcolor\":\"#E5ECF6\",\"subunitcolor\":\"white\",\"showland\":true,\"showlakes\":true,\"lakecolor\":\"white\"},\"title\":{\"x\":0.05},\"mapbox\":{\"style\":\"light\"}}},\"legend\":{\"tracegroupgap\":0},\"title\":{\"text\":\"📊 Claim Status Percentage\",\"x\":0.5},\"piecolorway\":[\"rgb(102, 197, 204)\",\"rgb(246, 207, 113)\",\"rgb(248, 156, 116)\",\"rgb(220, 176, 242)\",\"rgb(135, 197, 95)\",\"rgb(158, 185, 243)\",\"rgb(254, 136, 177)\",\"rgb(201, 219, 116)\",\"rgb(139, 224, 164)\",\"rgb(180, 151, 231)\",\"rgb(179, 179, 179)\"]},                        {\"responsive\": true}                    ).then(function(){\n",
              "                            \n",
              "var gd = document.getElementById('4dc79cc5-98f2-4065-8474-6b320669e3ee');\n",
              "var x = new MutationObserver(function (mutations, observer) {{\n",
              "        var display = window.getComputedStyle(gd).display;\n",
              "        if (!display || display === 'none') {{\n",
              "            console.log([gd, 'removed!']);\n",
              "            Plotly.purge(gd);\n",
              "            observer.disconnect();\n",
              "        }}\n",
              "}});\n",
              "\n",
              "// Listen for the removal of the full notebook cells\n",
              "var notebookContainer = gd.closest('#notebook-container');\n",
              "if (notebookContainer) {{\n",
              "    x.observe(notebookContainer, {childList: true});\n",
              "}}\n",
              "\n",
              "// Listen for the clearing of the current output cell\n",
              "var outputEl = gd.closest('.output');\n",
              "if (outputEl) {{\n",
              "    x.observe(outputEl, {childList: true});\n",
              "}}\n",
              "\n",
              "                        })                };                            </script>        </div>\n",
              "</body>\n",
              "</html>"
            ]
          },
          "metadata": {}
        }
      ]
    },
    {
      "cell_type": "markdown",
      "source": [
        "**1️⃣ Why this chart?**\n",
        "\n",
        "👉 Pie chart is best to show proportions (fulfilled, pending, cancelled).\n",
        "\n",
        "**2️⃣ Insights from the chart:**\n",
        "\n",
        "- ✅ Majority of claims are fulfilled.\n",
        "\n",
        "- ⏳ Some are still pending.\n",
        "\n",
        "- ❌ A fraction is cancelled, signaling inefficiencies.\n",
        "\n",
        "3️⃣ Positive / Negative Business Impact:\n",
        "- ✅ Positive: Tracks system efficiency.\n",
        "- ⚠️ Risk: High pending/cancellations erode trust."
      ],
      "metadata": {
        "id": "BXFK6jmpzZe3"
      }
    },
    {
      "cell_type": "markdown",
      "source": [
        "#### 6. WordCloud: Most Popular Names"
      ],
      "metadata": {
        "id": "9OkLE4aLj3ro"
      }
    },
    {
      "cell_type": "code",
      "source": [
        "# ☁️ Word Cloud → Popular Food Names\n",
        "from wordcloud import WordCloud\n",
        "\n",
        "df = pd.read_sql(\"SELECT food_name FROM food_listings\", engine)\n",
        "text_data = \" \".join(df['food_name'].tolist())"
      ],
      "metadata": {
        "id": "n-ZhSOlNj2vO"
      },
      "execution_count": null,
      "outputs": []
    },
    {
      "cell_type": "code",
      "source": [
        "wordcloud = WordCloud(width=800, height=400, background_color='white').generate(text_data)\n",
        "plt.imshow(wordcloud, interpolation='bilinear')\n",
        "plt.axis(\"off\")\n",
        "plt.title(\"☁️ Popular Food Names\")\n",
        "plt.show()"
      ],
      "metadata": {
        "colab": {
          "base_uri": "https://localhost:8080/",
          "height": 307
        },
        "id": "7CHjgGsnkHNg",
        "outputId": "1e5866c8-b648-477b-d2ba-d55d1c32791c"
      },
      "execution_count": null,
      "outputs": [
        {
          "output_type": "display_data",
          "data": {
            "text/plain": [
              "<Figure size 640x480 with 1 Axes>"
            ],
            "image/png": "[encoded data removed]"
          },
          "metadata": {}
        }
      ]
    },
    {
      "cell_type": "markdown",
      "source": [
        "### 2. Bivariate Analysis"
      ],
      "metadata": {
        "id": "j2U6SmyhktR5"
      }
    },
    {
      "cell_type": "markdown",
      "source": [
        "#### 1. Barplot : Avg Quantity per Provider Type"
      ],
      "metadata": {
        "id": "3ifRPY21kx4Z"
      }
    },
    {
      "cell_type": "code",
      "source": [
        "# 📊 Avg Quantity per Provider Type\n",
        "df = pd.read_sql(\"\"\"\n",
        "SELECT provider_type, AVG(quantity) as avg_quantity\n",
        "FROM food_listings GROUP BY provider_type\n",
        "\"\"\", engine)"
      ],
      "metadata": {
        "id": "j37oxhZ-k2lJ"
      },
      "execution_count": null,
      "outputs": []
    },
    {
      "cell_type": "code",
      "source": [
        "fig = px.bar(df, x=\"provider_type\", y=\"avg_quantity\",\n",
        "             title=\"📊 Avg Quantity per Provider Type\",\n",
        "             color=\"avg_quantity\", text_auto='.2f')\n",
        "fig.show()"
      ],
      "metadata": {
        "colab": {
          "base_uri": "https://localhost:8080/",
          "height": 542
        },
        "id": "0LtSpdGelNDf",
        "outputId": "7aa05773-2492-4038-ef49-cf7097376a0a"
      },
      "execution_count": null,
      "outputs": [
        {
          "output_type": "display_data",
          "data": {
            "text/html": [
              "<html>\n",
              "<head><meta charset=\"utf-8\" /></head>\n",
              "<body>\n",
              "    <div>            <script src=\"https://cdnjs.cloudflare.com/ajax/libs/mathjax/2.7.5/MathJax.js?config=TeX-AMS-MML_SVG\"></script><script type=\"text/javascript\">if (window.MathJax && window.MathJax.Hub && window.MathJax.Hub.Config) {window.MathJax.Hub.Config({SVG: {font: \"STIX-Web\"}});}</script>                <script type=\"text/javascript\">window.PlotlyConfig = {MathJaxConfig: 'local'};</script>\n",
              "        <script charset=\"utf-8\" src=\"https://cdn.plot.ly/plotly-2.35.2.min.js\"></script>                <div id=\"6b09f031-0ede-48e2-962b-20e9cae99397\" class=\"plotly-graph-div\" style=\"height:525px; width:100%;\"></div>            <script type=\"text/javascript\">                                    window.PLOTLYENV=window.PLOTLYENV || {};                                    if (document.getElementById(\"6b09f031-0ede-48e2-962b-20e9cae99397\")) {                    Plotly.newPlot(                        \"6b09f031-0ede-48e2-962b-20e9cae99397\",                        [{\"alignmentgroup\":\"True\",\"hovertemplate\":\"provider_type=%{x}\\u003cbr\\u003eavg_quantity=%{marker.color}\\u003cextra\\u003e\\u003c\\u002fextra\\u003e\",\"legendgroup\":\"\",\"marker\":{\"color\":[26.362068965517242,24.93415637860082,26.833333333333332,25.078651685393258],\"coloraxis\":\"coloraxis\",\"pattern\":{\"shape\":\"\"}},\"name\":\"\",\"offsetgroup\":\"\",\"orientation\":\"v\",\"showlegend\":false,\"textposition\":\"auto\",\"texttemplate\":\"%{y:.2f}\",\"x\":[\"Catering Service\",\"Grocery Store\",\"Restaurant\",\"Supermarket\"],\"xaxis\":\"x\",\"y\":[26.362068965517242,24.93415637860082,26.833333333333332,25.078651685393258],\"yaxis\":\"y\",\"type\":\"bar\"}],                        {\"template\":{\"data\":{\"histogram2dcontour\":[{\"type\":\"histogram2dcontour\",\"colorbar\":{\"outlinewidth\":0,\"ticks\":\"\"},\"colorscale\":[[0.0,\"#0d0887\"],[0.1111111111111111,\"#46039f\"],[0.2222222222222222,\"#7201a8\"],[0.3333333333333333,\"#9c179e\"],[0.4444444444444444,\"#bd3786\"],[0.5555555555555556,\"#d8576b\"],[0.6666666666666666,\"#ed7953\"],[0.7777777777777778,\"#fb9f3a\"],[0.8888888888888888,\"#fdca26\"],[1.0,\"#f0f921\"]]}],\"choropleth\":[{\"type\":\"choropleth\",\"colorbar\":{\"outlinewidth\":0,\"ticks\":\"\"}}],\"histogram2d\":[{\"type\":\"histogram2d\",\"colorbar\":{\"outlinewidth\":0,\"ticks\":\"\"},\"colorscale\":[[0.0,\"#0d0887\"],[0.1111111111111111,\"#46039f\"],[0.2222222222222222,\"#7201a8\"],[0.3333333333333333,\"#9c179e\"],[0.4444444444444444,\"#bd3786\"],[0.5555555555555556,\"#d8576b\"],[0.6666666666666666,\"#ed7953\"],[0.7777777777777778,\"#fb9f3a\"],[0.8888888888888888,\"#fdca26\"],[1.0,\"#f0f921\"]]}],\"heatmap\":[{\"type\":\"heatmap\",\"colorbar\":{\"outlinewidth\":0,\"ticks\":\"\"},\"colorscale\":[[0.0,\"#0d0887\"],[0.1111111111111111,\"#46039f\"],[0.2222222222222222,\"#7201a8\"],[0.3333333333333333,\"#9c179e\"],[0.4444444444444444,\"#bd3786\"],[0.5555555555555556,\"#d8576b\"],[0.6666666666666666,\"#ed7953\"],[0.7777777777777778,\"#fb9f3a\"],[0.8888888888888888,\"#fdca26\"],[1.0,\"#f0f921\"]]}],\"heatmapgl\":[{\"type\":\"heatmapgl\",\"colorbar\":{\"outlinewidth\":0,\"ticks\":\"\"},\"colorscale\":[[0.0,\"#0d0887\"],[0.1111111111111111,\"#46039f\"],[0.2222222222222222,\"#7201a8\"],[0.3333333333333333,\"#9c179e\"],[0.4444444444444444,\"#bd3786\"],[0.5555555555555556,\"#d8576b\"],[0.6666666666666666,\"#ed7953\"],[0.7777777777777778,\"#fb9f3a\"],[0.8888888888888888,\"#fdca26\"],[1.0,\"#f0f921\"]]}],\"contourcarpet\":[{\"type\":\"contourcarpet\",\"colorbar\":{\"outlinewidth\":0,\"ticks\":\"\"}}],\"contour\":[{\"type\":\"contour\",\"colorbar\":{\"outlinewidth\":0,\"ticks\":\"\"},\"colorscale\":[[0.0,\"#0d0887\"],[0.1111111111111111,\"#46039f\"],[0.2222222222222222,\"#7201a8\"],[0.3333333333333333,\"#9c179e\"],[0.4444444444444444,\"#bd3786\"],[0.5555555555555556,\"#d8576b\"],[0.6666666666666666,\"#ed7953\"],[0.7777777777777778,\"#fb9f3a\"],[0.8888888888888888,\"#fdca26\"],[1.0,\"#f0f921\"]]}],\"surface\":[{\"type\":\"surface\",\"colorbar\":{\"outlinewidth\":0,\"ticks\":\"\"},\"colorscale\":[[0.0,\"#0d0887\"],[0.1111111111111111,\"#46039f\"],[0.2222222222222222,\"#7201a8\"],[0.3333333333333333,\"#9c179e\"],[0.4444444444444444,\"#bd3786\"],[0.5555555555555556,\"#d8576b\"],[0.6666666666666666,\"#ed7953\"],[0.7777777777777778,\"#fb9f3a\"],[0.8888888888888888,\"#fdca26\"],[1.0,\"#f0f921\"]]}],\"mesh3d\":[{\"type\":\"mesh3d\",\"colorbar\":{\"outlinewidth\":0,\"ticks\":\"\"}}],\"scatter\":[{\"fillpattern\":{\"fillmode\":\"overlay\",\"size\":10,\"solidity\":0.2},\"type\":\"scatter\"}],\"parcoords\":[{\"type\":\"parcoords\",\"line\":{\"colorbar\":{\"outlinewidth\":0,\"ticks\":\"\"}}}],\"scatterpolargl\":[{\"type\":\"scatterpolargl\",\"marker\":{\"colorbar\":{\"outlinewidth\":0,\"ticks\":\"\"}}}],\"bar\":[{\"error_x\":{\"color\":\"#2a3f5f\"},\"error_y\":{\"color\":\"#2a3f5f\"},\"marker\":{\"line\":{\"color\":\"#E5ECF6\",\"width\":0.5},\"pattern\":{\"fillmode\":\"overlay\",\"size\":10,\"solidity\":0.2}},\"type\":\"bar\"}],\"scattergeo\":[{\"type\":\"scattergeo\",\"marker\":{\"colorbar\":{\"outlinewidth\":0,\"ticks\":\"\"}}}],\"scatterpolar\":[{\"type\":\"scatterpolar\",\"marker\":{\"colorbar\":{\"outlinewidth\":0,\"ticks\":\"\"}}}],\"histogram\":[{\"marker\":{\"pattern\":{\"fillmode\":\"overlay\",\"size\":10,\"solidity\":0.2}},\"type\":\"histogram\"}],\"scattergl\":[{\"type\":\"scattergl\",\"marker\":{\"colorbar\":{\"outlinewidth\":0,\"ticks\":\"\"}}}],\"scatter3d\":[{\"type\":\"scatter3d\",\"line\":{\"colorbar\":{\"outlinewidth\":0,\"ticks\":\"\"}},\"marker\":{\"colorbar\":{\"outlinewidth\":0,\"ticks\":\"\"}}}],\"scattermapbox\":[{\"type\":\"scattermapbox\",\"marker\":{\"colorbar\":{\"outlinewidth\":0,\"ticks\":\"\"}}}],\"scatterternary\":[{\"type\":\"scatterternary\",\"marker\":{\"colorbar\":{\"outlinewidth\":0,\"ticks\":\"\"}}}],\"scattercarpet\":[{\"type\":\"scattercarpet\",\"marker\":{\"colorbar\":{\"outlinewidth\":0,\"ticks\":\"\"}}}],\"carpet\":[{\"aaxis\":{\"endlinecolor\":\"#2a3f5f\",\"gridcolor\":\"white\",\"linecolor\":\"white\",\"minorgridcolor\":\"white\",\"startlinecolor\":\"#2a3f5f\"},\"baxis\":{\"endlinecolor\":\"#2a3f5f\",\"gridcolor\":\"white\",\"linecolor\":\"white\",\"minorgridcolor\":\"white\",\"startlinecolor\":\"#2a3f5f\"},\"type\":\"carpet\"}],\"table\":[{\"cells\":{\"fill\":{\"color\":\"#EBF0F8\"},\"line\":{\"color\":\"white\"}},\"header\":{\"fill\":{\"color\":\"#C8D4E3\"},\"line\":{\"color\":\"white\"}},\"type\":\"table\"}],\"barpolar\":[{\"marker\":{\"line\":{\"color\":\"#E5ECF6\",\"width\":0.5},\"pattern\":{\"fillmode\":\"overlay\",\"size\":10,\"solidity\":0.2}},\"type\":\"barpolar\"}],\"pie\":[{\"automargin\":true,\"type\":\"pie\"}]},\"layout\":{\"autotypenumbers\":\"strict\",\"colorway\":[\"#636efa\",\"#EF553B\",\"#00cc96\",\"#ab63fa\",\"#FFA15A\",\"#19d3f3\",\"#FF6692\",\"#B6E880\",\"#FF97FF\",\"#FECB52\"],\"font\":{\"color\":\"#2a3f5f\"},\"hovermode\":\"closest\",\"hoverlabel\":{\"align\":\"left\"},\"paper_bgcolor\":\"white\",\"plot_bgcolor\":\"#E5ECF6\",\"polar\":{\"bgcolor\":\"#E5ECF6\",\"angularaxis\":{\"gridcolor\":\"white\",\"linecolor\":\"white\",\"ticks\":\"\"},\"radialaxis\":{\"gridcolor\":\"white\",\"linecolor\":\"white\",\"ticks\":\"\"}},\"ternary\":{\"bgcolor\":\"#E5ECF6\",\"aaxis\":{\"gridcolor\":\"white\",\"linecolor\":\"white\",\"ticks\":\"\"},\"baxis\":{\"gridcolor\":\"white\",\"linecolor\":\"white\",\"ticks\":\"\"},\"caxis\":{\"gridcolor\":\"white\",\"linecolor\":\"white\",\"ticks\":\"\"}},\"coloraxis\":{\"colorbar\":{\"outlinewidth\":0,\"ticks\":\"\"}},\"colorscale\":{\"sequential\":[[0.0,\"#0d0887\"],[0.1111111111111111,\"#46039f\"],[0.2222222222222222,\"#7201a8\"],[0.3333333333333333,\"#9c179e\"],[0.4444444444444444,\"#bd3786\"],[0.5555555555555556,\"#d8576b\"],[0.6666666666666666,\"#ed7953\"],[0.7777777777777778,\"#fb9f3a\"],[0.8888888888888888,\"#fdca26\"],[1.0,\"#f0f921\"]],\"sequentialminus\":[[0.0,\"#0d0887\"],[0.1111111111111111,\"#46039f\"],[0.2222222222222222,\"#7201a8\"],[0.3333333333333333,\"#9c179e\"],[0.4444444444444444,\"#bd3786\"],[0.5555555555555556,\"#d8576b\"],[0.6666666666666666,\"#ed7953\"],[0.7777777777777778,\"#fb9f3a\"],[0.8888888888888888,\"#fdca26\"],[1.0,\"#f0f921\"]],\"diverging\":[[0,\"#8e0152\"],[0.1,\"#c51b7d\"],[0.2,\"#de77ae\"],[0.3,\"#f1b6da\"],[0.4,\"#fde0ef\"],[0.5,\"#f7f7f7\"],[0.6,\"#e6f5d0\"],[0.7,\"#b8e186\"],[0.8,\"#7fbc41\"],[0.9,\"#4d9221\"],[1,\"#276419\"]]},\"xaxis\":{\"gridcolor\":\"white\",\"linecolor\":\"white\",\"ticks\":\"\",\"title\":{\"standoff\":15},\"zerolinecolor\":\"white\",\"automargin\":true,\"zerolinewidth\":2},\"yaxis\":{\"gridcolor\":\"white\",\"linecolor\":\"white\",\"ticks\":\"\",\"title\":{\"standoff\":15},\"zerolinecolor\":\"white\",\"automargin\":true,\"zerolinewidth\":2},\"scene\":{\"xaxis\":{\"backgroundcolor\":\"#E5ECF6\",\"gridcolor\":\"white\",\"linecolor\":\"white\",\"showbackground\":true,\"ticks\":\"\",\"zerolinecolor\":\"white\",\"gridwidth\":2},\"yaxis\":{\"backgroundcolor\":\"#E5ECF6\",\"gridcolor\":\"white\",\"linecolor\":\"white\",\"showbackground\":true,\"ticks\":\"\",\"zerolinecolor\":\"white\",\"gridwidth\":2},\"zaxis\":{\"backgroundcolor\":\"#E5ECF6\",\"gridcolor\":\"white\",\"linecolor\":\"white\",\"showbackground\":true,\"ticks\":\"\",\"zerolinecolor\":\"white\",\"gridwidth\":2}},\"shapedefaults\":{\"line\":{\"color\":\"#2a3f5f\"}},\"annotationdefaults\":{\"arrowcolor\":\"#2a3f5f\",\"arrowhead\":0,\"arrowwidth\":1},\"geo\":{\"bgcolor\":\"white\",\"landcolor\":\"#E5ECF6\",\"subunitcolor\":\"white\",\"showland\":true,\"showlakes\":true,\"lakecolor\":\"white\"},\"title\":{\"x\":0.05},\"mapbox\":{\"style\":\"light\"}}},\"xaxis\":{\"anchor\":\"y\",\"domain\":[0.0,1.0],\"title\":{\"text\":\"provider_type\"}},\"yaxis\":{\"anchor\":\"x\",\"domain\":[0.0,1.0],\"title\":{\"text\":\"avg_quantity\"}},\"coloraxis\":{\"colorbar\":{\"title\":{\"text\":\"avg_quantity\"}},\"colorscale\":[[0.0,\"#0d0887\"],[0.1111111111111111,\"#46039f\"],[0.2222222222222222,\"#7201a8\"],[0.3333333333333333,\"#9c179e\"],[0.4444444444444444,\"#bd3786\"],[0.5555555555555556,\"#d8576b\"],[0.6666666666666666,\"#ed7953\"],[0.7777777777777778,\"#fb9f3a\"],[0.8888888888888888,\"#fdca26\"],[1.0,\"#f0f921\"]]},\"legend\":{\"tracegroupgap\":0},\"title\":{\"text\":\"📊 Avg Quantity per Provider Type\"},\"barmode\":\"relative\"},                        {\"responsive\": true}                    ).then(function(){\n",
              "                            \n",
              "var gd = document.getElementById('6b09f031-0ede-48e2-962b-20e9cae99397');\n",
              "var x = new MutationObserver(function (mutations, observer) {{\n",
              "        var display = window.getComputedStyle(gd).display;\n",
              "        if (!display || display === 'none') {{\n",
              "            console.log([gd, 'removed!']);\n",
              "            Plotly.purge(gd);\n",
              "            observer.disconnect();\n",
              "        }}\n",
              "}});\n",
              "\n",
              "// Listen for the removal of the full notebook cells\n",
              "var notebookContainer = gd.closest('#notebook-container');\n",
              "if (notebookContainer) {{\n",
              "    x.observe(notebookContainer, {childList: true});\n",
              "}}\n",
              "\n",
              "// Listen for the clearing of the current output cell\n",
              "var outputEl = gd.closest('.output');\n",
              "if (outputEl) {{\n",
              "    x.observe(outputEl, {childList: true});\n",
              "}}\n",
              "\n",
              "                        })                };                            </script>        </div>\n",
              "</body>\n",
              "</html>"
            ]
          },
          "metadata": {}
        }
      ]
    },
    {
      "cell_type": "markdown",
      "source": [
        "**1️⃣ Why did you pick the specific chart?**\n",
        "\n",
        "👉 A bar chart is perfect here because it allows easy comparison of average food quantities across different provider types (Catering Service, Grocery Store, Restaurant, Supermarket).\n",
        "\n",
        "**2️⃣ Insights from the chart:**\n",
        "\n",
        "- 🍴 Catering Services donate the highest average quantity (26.36).\n",
        "\n",
        "- 🛒 Grocery Stores contribute slightly lower averages (~24.93).\n",
        "\n",
        "- 🍽 Restaurants also donate significantly (26.0).\n",
        "\n",
        "- 🏬 Supermarkets are in the mid-range (~25.08).\n",
        "\n",
        "- ⚖️ Overall, all provider types contribute similar ranges, but catering and restaurants lean slightly higher.\n",
        "\n",
        "**3️⃣ Positive / Negative Business Impact:**\n",
        "- ✅ Positive  :  Helps identify which provider types supply larger average donations (Catering & Restaurants). Encourages partnership focus on high-quantity providers for efficiency.\n",
        "\n",
        "- ⚠️ Risk : Over-reliance on a few provider types (like Catering) may create supply vulnerability if they reduce contributions. Other provider types (like Grocery Stores) might be under-utilized potential if not engaged further."
      ],
      "metadata": {
        "id": "SOYs7LA31HO8"
      }
    },
    {
      "cell_type": "markdown",
      "source": [
        "#### 2. Heatmap : Meal Type vs Claim Status"
      ],
      "metadata": {
        "id": "DAN0nNdllTYH"
      }
    },
    {
      "cell_type": "code",
      "source": [
        "# 🍽 Meal Type vs Claim Status (Heatmap)\n",
        "df = pd.read_sql(\"\"\"\n",
        "SELECT f.meal_type, c.status\n",
        "FROM claims c\n",
        "JOIN food_listings f ON c.food_id = f.food_id\n",
        "\"\"\", engine)"
      ],
      "metadata": {
        "id": "MValYpGHlYEF"
      },
      "execution_count": null,
      "outputs": []
    },
    {
      "cell_type": "code",
      "source": [
        "cross_tab = pd.crosstab(df['meal_type'], df['status'])\n",
        "sns.heatmap(cross_tab, annot=True, fmt=\"d\", cmap=\"YlGnBu\")\n",
        "plt.title(\"🍽 Meal Type vs Claim Status\")\n",
        "plt.show()"
      ],
      "metadata": {
        "colab": {
          "base_uri": "https://localhost:8080/",
          "height": 541
        },
        "id": "fpsx26HplnMM",
        "outputId": "009c6b88-f8f3-4d04-8149-727c6a506281"
      },
      "execution_count": null,
      "outputs": [
        {
          "output_type": "stream",
          "name": "stderr",
          "text": [
            "/usr/local/lib/python3.11/dist-packages/IPython/core/pylabtools.py:151: UserWarning:\n",
            "\n",
            "Glyph 127869 (\\N{FORK AND KNIFE WITH PLATE}) missing from font(s) DejaVu Sans.\n",
            "\n"
          ]
        },
        {
          "output_type": "display_data",
          "data": {
            "text/plain": [
              "<Figure size 640x480 with 2 Axes>"
            ],
            "image/png": "[encoded data removed]"
          },
          "metadata": {}
        }
      ]
    },
    {
      "cell_type": "markdown",
      "source": [
        "**1️⃣ Why did you pick the specific chart?**\n",
        "\n",
        "👉 Heatmap is chosen because it clearly shows claim status distribution across different meal types with intensity coloring.\n",
        "\n",
        "**2️⃣ Insights from the chart:**\n",
        "\n",
        "- 🍳 Breakfast has the highest claims across all statuses.\n",
        "\n",
        "- 🍲 Dinner shows comparatively lower counts.\n",
        "\n",
        "- 🥪 Lunch has more pending claims (89).\n",
        "\n",
        "- 🍩 Snacks show high cancellations (88) but fewer completions.\n",
        "\n",
        "**3️⃣ Business Impact:**\n",
        "\n",
        "- ✅ Positive: Helps identify the most demanded meal types (Breakfast) and plan resources accordingly.\n",
        "- ⚠️ Negative: High cancellations in Snacks and low Dinner engagement could waste resources and reduce trust."
      ],
      "metadata": {
        "id": "elPhe6Yt2wlB"
      }
    },
    {
      "cell_type": "markdown",
      "source": [
        "#### 3. Box Plot : Quantity Distribution per Provider Type"
      ],
      "metadata": {
        "id": "gMqs_4Gzl_3r"
      }
    },
    {
      "cell_type": "code",
      "source": [
        "# 📦 Quantity Distribution per Provider Type\n",
        "df = pd.read_sql(\"\"\"\n",
        "SELECT quantity, provider_type FROM food_listings\n",
        "\"\"\", engine)"
      ],
      "metadata": {
        "id": "bjxIfjYQl7mR"
      },
      "execution_count": null,
      "outputs": []
    },
    {
      "cell_type": "code",
      "source": [
        "fig = px.box(df, x=\"provider_type\", y=\"quantity\", points=\"all\",\n",
        "             title=\"📦 Quantity Distribution per Provider Type\")\n",
        "fig.show()"
      ],
      "metadata": {
        "colab": {
          "base_uri": "https://localhost:8080/",
          "height": 542
        },
        "id": "XvAWROHumIpT",
        "outputId": "0368ce46-e97c-4388-b773-8139dbf15731"
      },
      "execution_count": null,
      "outputs": [
        {
          "output_type": "display_data",
          "data": {
            "text/html": [
              "<html>\n",
              "<head><meta charset=\"utf-8\" /></head>\n",
              "<body>\n",
              "    <div>            <script src=\"https://cdnjs.cloudflare.com/ajax/libs/mathjax/2.7.5/MathJax.js?config=TeX-AMS-MML_SVG\"></script><script type=\"text/javascript\">if (window.MathJax && window.MathJax.Hub && window.MathJax.Hub.Config) {window.MathJax.Hub.Config({SVG: {font: \"STIX-Web\"}});}</script>                <script type=\"text/javascript\">window.PlotlyConfig = {MathJaxConfig: 'local'};</script>\n",
              "        <script charset=\"utf-8\" src=\"https://cdn.plot.ly/plotly-2.35.2.min.js\"></script>                <div id=\"8aebf641-57bd-4a15-af24-114742088fe1\" class=\"plotly-graph-div\" style=\"height:525px; width:100%;\"></div>            <script type=\"text/javascript\">                                    window.PLOTLYENV=window.PLOTLYENV || {};                                    if (document.getElementById(\"8aebf641-57bd-4a15-af24-114742088fe1\")) {                    Plotly.newPlot(                        \"8aebf641-57bd-4a15-af24-114742088fe1\",                        [{\"alignmentgroup\":\"True\",\"boxpoints\":\"all\",\"hovertemplate\":\"provider_type=%{x}\\u003cbr\\u003equantity=%{y}\\u003cextra\\u003e\\u003c\\u002fextra\\u003e\",\"legendgroup\":\"\",\"marker\":{\"color\":\"#636efa\"},\"name\":\"\",\"notched\":false,\"offsetgroup\":\"\",\"orientation\":\"v\",\"showlegend\":false,\"x\":[\"Grocery Store\",\"Grocery Store\",\"Catering Service\",\"Restaurant\",\"Restaurant\",\"Supermarket\",\"Grocery Store\",\"Catering Service\",\"Supermarket\",\"Supermarket\",\"Grocery Store\",\"Catering Service\",\"Grocery Store\",\"Supermarket\",\"Catering Service\",\"Grocery Store\",\"Restaurant\",\"Catering Service\",\"Supermarket\",\"Catering Service\",\"Catering Service\",\"Grocery Store\",\"Supermarket\",\"Catering Service\",\"Restaurant\",\"Supermarket\",\"Supermarket\",\"Grocery Store\",\"Restaurant\",\"Restaurant\",\"Grocery Store\",\"Supermarket\",\"Grocery Store\",\"Catering Service\",\"Supermarket\",\"Supermarket\",\"Grocery Store\",\"Grocery Store\",\"Catering Service\",\"Restaurant\",\"Catering Service\",\"Supermarket\",\"Grocery Store\",\"Supermarket\",\"Catering Service\",\"Catering Service\",\"Catering Service\",\"Grocery Store\",\"Supermarket\",\"Supermarket\",\"Catering Service\",\"Grocery Store\",\"Grocery Store\",\"Grocery Store\",\"Grocery Store\",\"Supermarket\",\"Restaurant\",\"Catering Service\",\"Restaurant\",\"Restaurant\",\"Catering Service\",\"Catering Service\",\"Grocery Store\",\"Grocery Store\",\"Grocery Store\",\"Catering Service\",\"Catering Service\",\"Catering Service\",\"Catering Service\",\"Supermarket\",\"Supermarket\",\"Catering Service\",\"Restaurant\",\"Grocery Store\",\"Grocery Store\",\"Restaurant\",\"Restaurant\",\"Grocery Store\",\"Catering Service\",\"Restaurant\",\"Supermarket\",\"Supermarket\",\"Restaurant\",\"Grocery Store\",\"Restaurant\",\"Supermarket\",\"Grocery Store\",\"Supermarket\",\"Grocery Store\",\"Supermarket\",\"Supermarket\",\"Grocery Store\",\"Catering Service\",\"Restaurant\",\"Restaurant\",\"Restaurant\",\"Grocery Store\",\"Supermarket\",\"Restaurant\",\"Restaurant\",\"Restaurant\",\"Supermarket\",\"Supermarket\",\"Supermarket\",\"Grocery Store\",\"Catering Service\",\"Catering Service\",\"Catering Service\",\"Grocery Store\",\"Catering Service\",\"Grocery Store\",\"Catering Service\",\"Supermarket\",\"Supermarket\",\"Supermarket\",\"Supermarket\",\"Catering Service\",\"Restaurant\",\"Catering Service\",\"Catering Service\",\"Restaurant\",\"Supermarket\",\"Grocery Store\",\"Restaurant\",\"Grocery Store\",\"Supermarket\",\"Restaurant\",\"Catering Service\",\"Grocery Store\",\"Catering Service\",\"Catering Service\",\"Restaurant\",\"Catering Service\",\"Supermarket\",\"Restaurant\",\"Supermarket\",\"Grocery Store\",\"Catering Service\",\"Catering Service\",\"Grocery Store\",\"Supermarket\",\"Grocery Store\",\"Restaurant\",\"Catering Service\",\"Restaurant\",\"Grocery Store\",\"Grocery Store\",\"Restaurant\",\"Supermarket\",\"Restaurant\",\"Supermarket\",\"Grocery Store\",\"Restaurant\",\"Grocery Store\",\"Grocery Store\",\"Catering Service\",\"Catering Service\",\"Catering Service\",\"Catering Service\",\"Grocery Store\",\"Supermarket\",\"Supermarket\",\"Restaurant\",\"Restaurant\",\"Supermarket\",\"Grocery Store\",\"Supermarket\",\"Catering Service\",\"Supermarket\",\"Grocery Store\",\"Catering Service\",\"Supermarket\",\"Restaurant\",\"Catering Service\",\"Restaurant\",\"Supermarket\",\"Restaurant\",\"Supermarket\",\"Catering Service\",\"Restaurant\",\"Supermarket\",\"Catering Service\",\"Supermarket\",\"Grocery Store\",\"Grocery Store\",\"Catering Service\",\"Restaurant\",\"Grocery Store\",\"Supermarket\",\"Supermarket\",\"Restaurant\",\"Supermarket\",\"Catering Service\",\"Grocery Store\",\"Supermarket\",\"Grocery Store\",\"Grocery Store\",\"Catering Service\",\"Supermarket\",\"Supermarket\",\"Restaurant\",\"Restaurant\",\"Grocery Store\",\"Grocery Store\",\"Catering Service\",\"Supermarket\",\"Restaurant\",\"Grocery Store\",\"Catering Service\",\"Catering Service\",\"Restaurant\",\"Supermarket\",\"Catering Service\",\"Supermarket\",\"Restaurant\",\"Catering Service\",\"Supermarket\",\"Grocery Store\",\"Restaurant\",\"Restaurant\",\"Restaurant\",\"Restaurant\",\"Grocery Store\",\"Catering Service\",\"Grocery Store\",\"Restaurant\",\"Supermarket\",\"Supermarket\",\"Grocery Store\",\"Restaurant\",\"Supermarket\",\"Supermarket\",\"Grocery Store\",\"Supermarket\",\"Catering Service\",\"Supermarket\",\"Supermarket\",\"Supermarket\",\"Restaurant\",\"Restaurant\",\"Catering Service\",\"Restaurant\",\"Supermarket\",\"Grocery Store\",\"Restaurant\",\"Restaurant\",\"Supermarket\",\"Supermarket\",\"Restaurant\",\"Supermarket\",\"Catering Service\",\"Catering Service\",\"Supermarket\",\"Catering Service\",\"Supermarket\",\"Grocery Store\",\"Catering Service\",\"Restaurant\",\"Grocery Store\",\"Supermarket\",\"Restaurant\",\"Restaurant\",\"Supermarket\",\"Restaurant\",\"Grocery Store\",\"Restaurant\",\"Restaurant\",\"Restaurant\",\"Grocery Store\",\"Catering Service\",\"Restaurant\",\"Restaurant\",\"Catering Service\",\"Restaurant\",\"Supermarket\",\"Grocery Store\",\"Supermarket\",\"Restaurant\",\"Supermarket\",\"Restaurant\",\"Supermarket\",\"Grocery Store\",\"Restaurant\",\"Supermarket\",\"Grocery Store\",\"Supermarket\",\"Supermarket\",\"Catering Service\",\"Supermarket\",\"Restaurant\",\"Catering Service\",\"Supermarket\",\"Supermarket\",\"Catering Service\",\"Catering Service\",\"Restaurant\",\"Grocery Store\",\"Supermarket\",\"Restaurant\",\"Supermarket\",\"Restaurant\",\"Supermarket\",\"Grocery Store\",\"Supermarket\",\"Supermarket\",\"Supermarket\",\"Grocery Store\",\"Supermarket\",\"Restaurant\",\"Supermarket\",\"Catering Service\",\"Grocery Store\",\"Restaurant\",\"Grocery Store\",\"Catering Service\",\"Supermarket\",\"Grocery Store\",\"Catering Service\",\"Supermarket\",\"Restaurant\",\"Supermarket\",\"Catering Service\",\"Grocery Store\",\"Grocery Store\",\"Restaurant\",\"Restaurant\",\"Supermarket\",\"Grocery Store\",\"Catering Service\",\"Restaurant\",\"Catering Service\",\"Restaurant\",\"Supermarket\",\"Supermarket\",\"Catering Service\",\"Restaurant\",\"Supermarket\",\"Restaurant\",\"Grocery Store\",\"Supermarket\",\"Supermarket\",\"Catering Service\",\"Grocery Store\",\"Grocery Store\",\"Grocery Store\",\"Grocery Store\",\"Catering Service\",\"Restaurant\",\"Catering Service\",\"Catering Service\",\"Grocery Store\",\"Supermarket\",\"Restaurant\",\"Restaurant\",\"Supermarket\",\"Restaurant\",\"Catering Service\",\"Catering Service\",\"Grocery Store\",\"Catering Service\",\"Supermarket\",\"Catering Service\",\"Supermarket\",\"Catering Service\",\"Restaurant\",\"Catering Service\",\"Supermarket\",\"Supermarket\",\"Restaurant\",\"Restaurant\",\"Supermarket\",\"Grocery Store\",\"Grocery Store\",\"Restaurant\",\"Grocery Store\",\"Catering Service\",\"Restaurant\",\"Supermarket\",\"Restaurant\",\"Restaurant\",\"Catering Service\",\"Restaurant\",\"Restaurant\",\"Supermarket\",\"Restaurant\",\"Restaurant\",\"Restaurant\",\"Restaurant\",\"Supermarket\",\"Catering Service\",\"Restaurant\",\"Restaurant\",\"Restaurant\",\"Restaurant\",\"Catering Service\",\"Supermarket\",\"Supermarket\",\"Catering Service\",\"Grocery Store\",\"Catering Service\",\"Grocery Store\",\"Grocery Store\",\"Catering Service\",\"Restaurant\",\"Catering Service\",\"Catering Service\",\"Catering Service\",\"Supermarket\",\"Restaurant\",\"Supermarket\",\"Supermarket\",\"Grocery Store\",\"Restaurant\",\"Grocery Store\",\"Restaurant\",\"Supermarket\",\"Restaurant\",\"Supermarket\",\"Grocery Store\",\"Grocery Store\",\"Catering Service\",\"Catering Service\",\"Grocery Store\",\"Restaurant\",\"Grocery Store\",\"Restaurant\",\"Catering Service\",\"Restaurant\",\"Catering Service\",\"Catering Service\",\"Catering Service\",\"Restaurant\",\"Grocery Store\",\"Grocery Store\",\"Grocery Store\",\"Supermarket\",\"Catering Service\",\"Restaurant\",\"Supermarket\",\"Catering Service\",\"Supermarket\",\"Restaurant\",\"Grocery Store\",\"Restaurant\",\"Supermarket\",\"Supermarket\",\"Supermarket\",\"Supermarket\",\"Restaurant\",\"Grocery Store\",\"Grocery Store\",\"Supermarket\",\"Catering Service\",\"Supermarket\",\"Catering Service\",\"Catering Service\",\"Supermarket\",\"Grocery Store\",\"Grocery Store\",\"Supermarket\",\"Grocery Store\",\"Catering Service\",\"Grocery Store\",\"Catering Service\",\"Grocery Store\",\"Grocery Store\",\"Restaurant\",\"Restaurant\",\"Supermarket\",\"Restaurant\",\"Grocery Store\",\"Grocery Store\",\"Supermarket\",\"Grocery Store\",\"Supermarket\",\"Restaurant\",\"Supermarket\",\"Catering Service\",\"Restaurant\",\"Grocery Store\",\"Grocery Store\",\"Catering Service\",\"Catering Service\",\"Catering Service\",\"Restaurant\",\"Catering Service\",\"Catering Service\",\"Supermarket\",\"Grocery Store\",\"Grocery Store\",\"Supermarket\",\"Restaurant\",\"Grocery Store\",\"Restaurant\",\"Supermarket\",\"Catering Service\",\"Restaurant\",\"Grocery Store\",\"Supermarket\",\"Grocery Store\",\"Supermarket\",\"Grocery Store\",\"Grocery Store\",\"Grocery Store\",\"Supermarket\",\"Grocery Store\",\"Restaurant\",\"Restaurant\",\"Restaurant\",\"Restaurant\",\"Supermarket\",\"Restaurant\",\"Supermarket\",\"Catering Service\",\"Grocery Store\",\"Supermarket\",\"Catering Service\",\"Grocery Store\",\"Restaurant\",\"Catering Service\",\"Catering Service\",\"Restaurant\",\"Grocery Store\",\"Grocery Store\",\"Catering Service\",\"Supermarket\",\"Restaurant\",\"Grocery Store\",\"Supermarket\",\"Catering Service\",\"Grocery Store\",\"Catering Service\",\"Supermarket\",\"Restaurant\",\"Grocery Store\",\"Grocery Store\",\"Supermarket\",\"Restaurant\",\"Supermarket\",\"Grocery Store\",\"Catering Service\",\"Grocery Store\",\"Supermarket\",\"Restaurant\",\"Catering Service\",\"Grocery Store\",\"Supermarket\",\"Catering Service\",\"Supermarket\",\"Catering Service\",\"Restaurant\",\"Supermarket\",\"Supermarket\",\"Restaurant\",\"Grocery Store\",\"Restaurant\",\"Grocery Store\",\"Catering Service\",\"Grocery Store\",\"Grocery Store\",\"Grocery Store\",\"Supermarket\",\"Restaurant\",\"Grocery Store\",\"Catering Service\",\"Grocery Store\",\"Catering Service\",\"Restaurant\",\"Supermarket\",\"Restaurant\",\"Supermarket\",\"Supermarket\",\"Supermarket\",\"Grocery Store\",\"Restaurant\",\"Restaurant\",\"Supermarket\",\"Restaurant\",\"Restaurant\",\"Catering Service\",\"Restaurant\",\"Grocery Store\",\"Restaurant\",\"Grocery Store\",\"Supermarket\",\"Supermarket\",\"Catering Service\",\"Restaurant\",\"Catering Service\",\"Catering Service\",\"Supermarket\",\"Grocery Store\",\"Restaurant\",\"Restaurant\",\"Restaurant\",\"Catering Service\",\"Grocery Store\",\"Restaurant\",\"Supermarket\",\"Restaurant\",\"Restaurant\",\"Grocery Store\",\"Restaurant\",\"Catering Service\",\"Grocery Store\",\"Supermarket\",\"Catering Service\",\"Catering Service\",\"Catering Service\",\"Supermarket\",\"Restaurant\",\"Catering Service\",\"Restaurant\",\"Supermarket\",\"Catering Service\",\"Restaurant\",\"Grocery Store\",\"Catering Service\",\"Grocery Store\",\"Catering Service\",\"Restaurant\",\"Supermarket\",\"Catering Service\",\"Catering Service\",\"Supermarket\",\"Supermarket\",\"Restaurant\",\"Catering Service\",\"Supermarket\",\"Catering Service\",\"Supermarket\",\"Grocery Store\",\"Restaurant\",\"Grocery Store\",\"Restaurant\",\"Catering Service\",\"Catering Service\",\"Supermarket\",\"Restaurant\",\"Catering Service\",\"Supermarket\",\"Restaurant\",\"Catering Service\",\"Grocery Store\",\"Supermarket\",\"Restaurant\",\"Grocery Store\",\"Grocery Store\",\"Supermarket\",\"Supermarket\",\"Catering Service\",\"Supermarket\",\"Supermarket\",\"Grocery Store\",\"Supermarket\",\"Restaurant\",\"Grocery Store\",\"Catering Service\",\"Supermarket\",\"Grocery Store\",\"Supermarket\",\"Grocery Store\",\"Restaurant\",\"Restaurant\",\"Catering Service\",\"Catering Service\",\"Restaurant\",\"Supermarket\",\"Grocery Store\",\"Supermarket\",\"Grocery Store\",\"Grocery Store\",\"Grocery Store\",\"Grocery Store\",\"Restaurant\",\"Catering Service\",\"Catering Service\",\"Supermarket\",\"Grocery Store\",\"Catering Service\",\"Restaurant\",\"Grocery Store\",\"Supermarket\",\"Supermarket\",\"Restaurant\",\"Supermarket\",\"Supermarket\",\"Restaurant\",\"Restaurant\",\"Supermarket\",\"Grocery Store\",\"Restaurant\",\"Grocery Store\",\"Supermarket\",\"Restaurant\",\"Grocery Store\",\"Restaurant\",\"Supermarket\",\"Catering Service\",\"Restaurant\",\"Catering Service\",\"Supermarket\",\"Restaurant\",\"Grocery Store\",\"Catering Service\",\"Restaurant\",\"Grocery Store\",\"Catering Service\",\"Restaurant\",\"Catering Service\",\"Supermarket\",\"Grocery Store\",\"Supermarket\",\"Catering Service\",\"Grocery Store\",\"Supermarket\",\"Supermarket\",\"Catering Service\",\"Restaurant\",\"Supermarket\",\"Catering Service\",\"Catering Service\",\"Restaurant\",\"Supermarket\",\"Supermarket\",\"Restaurant\",\"Restaurant\",\"Catering Service\",\"Catering Service\",\"Restaurant\",\"Grocery Store\",\"Catering Service\",\"Supermarket\",\"Supermarket\",\"Supermarket\",\"Catering Service\",\"Restaurant\",\"Grocery Store\",\"Grocery Store\",\"Catering Service\",\"Supermarket\",\"Catering Service\",\"Catering Service\",\"Grocery Store\",\"Restaurant\",\"Catering Service\",\"Grocery Store\",\"Restaurant\",\"Restaurant\",\"Grocery Store\",\"Restaurant\",\"Grocery Store\",\"Grocery Store\",\"Supermarket\",\"Supermarket\",\"Supermarket\",\"Supermarket\",\"Grocery Store\",\"Supermarket\",\"Catering Service\",\"Supermarket\",\"Restaurant\",\"Supermarket\",\"Supermarket\",\"Supermarket\",\"Grocery Store\",\"Grocery Store\",\"Supermarket\",\"Catering Service\",\"Supermarket\",\"Restaurant\",\"Restaurant\",\"Grocery Store\",\"Supermarket\",\"Supermarket\",\"Catering Service\",\"Restaurant\",\"Grocery Store\",\"Catering Service\",\"Restaurant\",\"Restaurant\",\"Catering Service\",\"Catering Service\",\"Grocery Store\",\"Grocery Store\",\"Grocery Store\",\"Restaurant\",\"Grocery Store\",\"Restaurant\",\"Restaurant\",\"Catering Service\",\"Catering Service\",\"Supermarket\",\"Restaurant\",\"Restaurant\",\"Grocery Store\",\"Catering Service\",\"Catering Service\",\"Restaurant\",\"Restaurant\",\"Restaurant\",\"Grocery Store\",\"Catering Service\",\"Catering Service\",\"Catering Service\",\"Supermarket\",\"Catering Service\",\"Grocery Store\",\"Supermarket\",\"Restaurant\",\"Catering Service\",\"Grocery Store\",\"Supermarket\",\"Catering Service\",\"Restaurant\",\"Restaurant\",\"Catering Service\",\"Restaurant\",\"Catering Service\",\"Supermarket\",\"Catering Service\",\"Supermarket\",\"Restaurant\",\"Restaurant\",\"Supermarket\",\"Catering Service\",\"Supermarket\",\"Grocery Store\",\"Supermarket\",\"Supermarket\",\"Restaurant\",\"Grocery Store\",\"Supermarket\",\"Catering Service\",\"Grocery Store\",\"Supermarket\",\"Catering Service\",\"Supermarket\",\"Catering Service\",\"Supermarket\",\"Grocery Store\",\"Grocery Store\",\"Restaurant\",\"Supermarket\",\"Restaurant\",\"Restaurant\",\"Supermarket\",\"Catering Service\",\"Grocery Store\",\"Restaurant\",\"Catering Service\",\"Catering Service\",\"Restaurant\",\"Restaurant\",\"Restaurant\",\"Grocery Store\",\"Supermarket\",\"Catering Service\",\"Restaurant\",\"Grocery Store\",\"Restaurant\",\"Supermarket\",\"Grocery Store\",\"Catering Service\",\"Supermarket\",\"Grocery Store\",\"Supermarket\",\"Catering Service\",\"Restaurant\",\"Catering Service\",\"Grocery Store\",\"Catering Service\",\"Restaurant\",\"Restaurant\",\"Catering Service\",\"Restaurant\",\"Grocery Store\",\"Catering Service\",\"Catering Service\",\"Catering Service\",\"Restaurant\",\"Grocery Store\",\"Supermarket\",\"Grocery Store\",\"Restaurant\",\"Restaurant\",\"Supermarket\",\"Catering Service\",\"Grocery Store\",\"Catering Service\",\"Restaurant\",\"Supermarket\",\"Grocery Store\",\"Grocery Store\",\"Supermarket\",\"Restaurant\",\"Restaurant\",\"Grocery Store\",\"Grocery Store\",\"Supermarket\",\"Grocery Store\",\"Supermarket\",\"Supermarket\",\"Restaurant\",\"Grocery Store\",\"Grocery Store\",\"Catering Service\",\"Grocery Store\",\"Catering Service\",\"Catering Service\",\"Supermarket\",\"Grocery Store\",\"Catering Service\",\"Supermarket\",\"Restaurant\",\"Restaurant\",\"Restaurant\",\"Catering Service\",\"Supermarket\",\"Restaurant\",\"Grocery Store\",\"Restaurant\",\"Supermarket\",\"Restaurant\",\"Catering Service\",\"Catering Service\",\"Grocery Store\",\"Grocery Store\",\"Restaurant\",\"Grocery Store\",\"Supermarket\",\"Supermarket\",\"Catering Service\",\"Grocery Store\",\"Grocery Store\",\"Supermarket\",\"Catering Service\",\"Restaurant\",\"Grocery Store\",\"Restaurant\",\"Grocery Store\",\"Grocery Store\",\"Catering Service\",\"Supermarket\",\"Grocery Store\",\"Supermarket\",\"Restaurant\",\"Supermarket\",\"Supermarket\",\"Grocery Store\",\"Supermarket\",\"Supermarket\",\"Grocery Store\",\"Catering Service\",\"Supermarket\",\"Supermarket\",\"Catering Service\",\"Supermarket\",\"Catering Service\",\"Restaurant\",\"Restaurant\",\"Grocery Store\",\"Grocery Store\",\"Catering Service\",\"Grocery Store\",\"Grocery Store\",\"Supermarket\",\"Grocery Store\",\"Restaurant\",\"Grocery Store\",\"Restaurant\",\"Catering Service\",\"Restaurant\",\"Restaurant\",\"Grocery Store\",\"Grocery Store\",\"Supermarket\",\"Supermarket\",\"Supermarket\",\"Grocery Store\",\"Grocery Store\",\"Restaurant\",\"Supermarket\",\"Catering Service\",\"Grocery Store\",\"Catering Service\",\"Restaurant\",\"Grocery Store\",\"Restaurant\",\"Restaurant\",\"Restaurant\",\"Supermarket\",\"Restaurant\",\"Catering Service\",\"Grocery Store\",\"Catering Service\",\"Grocery Store\",\"Restaurant\",\"Supermarket\",\"Supermarket\"],\"x0\":\" \",\"xaxis\":\"x\",\"y\":[43,22,46,15,14,4,29,49,46,41,39,15,33,19,3,6,42,28,13,41,38,46,43,20,48,34,12,5,18,4,42,27,9,3,6,35,19,48,48,12,14,50,44,39,17,25,3,30,41,28,14,23,13,15,19,9,23,39,38,49,33,21,6,41,45,6,50,15,47,7,45,11,48,12,35,40,4,1,25,36,33,26,44,25,28,13,37,22,3,29,9,42,49,35,19,5,44,26,8,22,35,35,35,3,2,31,29,22,7,49,13,32,14,28,8,32,32,42,49,30,16,7,11,50,21,27,48,39,26,47,16,20,28,1,44,29,29,24,3,18,33,41,18,18,12,17,47,16,18,50,19,46,20,46,20,24,37,22,7,27,32,50,45,22,22,9,4,26,18,49,25,45,17,23,26,19,22,47,11,35,35,29,15,7,19,48,38,4,7,25,13,5,25,39,31,27,21,50,16,3,35,17,8,11,13,28,42,27,31,17,37,33,20,9,50,33,42,38,26,18,11,23,38,29,26,26,25,12,26,17,33,19,19,10,38,50,39,2,26,46,4,17,30,17,5,50,17,32,39,8,12,18,20,30,44,33,41,24,44,50,15,47,21,49,32,30,6,21,36,29,22,30,32,37,35,47,30,35,3,44,28,27,7,36,44,37,20,48,31,19,12,16,32,40,39,24,46,2,14,16,35,31,2,5,14,27,20,11,47,13,3,11,3,27,47,4,22,48,47,26,20,12,31,39,32,25,24,36,42,49,8,12,41,17,38,36,5,7,40,3,48,5,40,44,14,16,45,21,33,8,45,31,5,3,10,27,1,41,6,12,17,29,24,33,48,25,38,1,23,35,34,11,39,44,15,47,22,39,14,26,35,42,48,14,7,30,31,41,30,19,40,34,50,30,36,5,14,27,16,42,42,11,25,10,16,28,32,42,46,21,39,10,31,7,18,49,49,19,26,13,24,2,6,41,19,6,34,35,34,33,21,34,50,20,26,6,29,46,41,34,2,20,34,27,13,9,21,25,21,9,14,47,21,4,17,16,30,16,2,45,10,22,36,27,32,6,7,1,7,38,15,21,19,5,13,2,40,43,2,25,16,32,36,15,50,9,43,22,39,3,23,30,26,41,34,22,48,28,6,14,27,40,40,28,12,37,43,42,18,33,25,20,49,20,10,24,4,46,43,23,23,7,29,25,30,11,3,6,48,32,42,50,25,34,24,13,9,18,14,33,12,7,9,36,23,33,26,26,34,16,4,44,36,31,47,48,20,32,18,41,47,3,37,29,36,8,3,11,20,8,39,46,40,17,15,35,30,27,44,21,8,44,44,16,3,37,22,31,49,11,19,13,2,35,42,44,12,19,19,39,9,15,37,47,20,36,23,27,38,13,40,45,42,43,11,35,27,9,46,7,23,17,38,10,7,37,26,5,33,39,49,45,19,40,18,11,49,12,5,2,9,38,8,21,34,44,1,42,8,40,36,44,50,2,46,26,14,4,4,42,12,47,42,34,7,47,30,48,14,37,49,2,28,34,25,15,43,8,24,47,28,30,28,39,39,15,5,6,34,43,21,8,6,50,17,26,42,16,32,10,33,6,35,43,39,45,29,17,15,41,25,31,7,5,21,29,40,45,44,1,20,43,2,44,47,27,3,28,42,15,42,29,31,5,2,33,3,5,2,6,21,3,46,13,34,31,39,17,32,17,18,12,19,37,4,5,42,4,36,28,46,4,33,21,1,17,17,39,27,30,9,37,40,2,7,33,5,7,43,48,45,49,4,1,10,4,48,26,10,2,23,15,5,21,3,8,40,3,5,15,50,25,13,47,1,12,35,7,48,34,19,49,33,18,50,2,23,50,35,46,9,27,27,12,25,39,3,21,44,3,24,19,44,43,17,49,50,38,6,43,15,40,46,46,14,34,29,32,29,22,35,49,18,33,28,44,47,13,1,37,45,4,30,11,25,7,1,4,27,3,7,50,49,45,19,38,8,23,21,35,43,43,8,27,44,48,12,6,21,40,9,42,3,43,38,32,5,28,44,31,38,34,25,40,37,17,17,16,10,37,5,6,39,18,35,47,15,8,35,2,6,32,42,3,12,41,39,20,23,33,49,11,17,50,24,32,18,7,45,36,1,44,13,41,16,29,29,50,15,3,20,32,2,36,26,39,39,19,26,46,22,13,33,46,44,41,34,45,50,26,7,21,7,45,48,41,12,14,43,2,47,36,43,26,31,23,6,44,31,11,7,25,8,17,37,15,22,6,15,18],\"y0\":\" \",\"yaxis\":\"y\",\"type\":\"box\"}],                        {\"template\":{\"data\":{\"histogram2dcontour\":[{\"type\":\"histogram2dcontour\",\"colorbar\":{\"outlinewidth\":0,\"ticks\":\"\"},\"colorscale\":[[0.0,\"#0d0887\"],[0.1111111111111111,\"#46039f\"],[0.2222222222222222,\"#7201a8\"],[0.3333333333333333,\"#9c179e\"],[0.4444444444444444,\"#bd3786\"],[0.5555555555555556,\"#d8576b\"],[0.6666666666666666,\"#ed7953\"],[0.7777777777777778,\"#fb9f3a\"],[0.8888888888888888,\"#fdca26\"],[1.0,\"#f0f921\"]]}],\"choropleth\":[{\"type\":\"choropleth\",\"colorbar\":{\"outlinewidth\":0,\"ticks\":\"\"}}],\"histogram2d\":[{\"type\":\"histogram2d\",\"colorbar\":{\"outlinewidth\":0,\"ticks\":\"\"},\"colorscale\":[[0.0,\"#0d0887\"],[0.1111111111111111,\"#46039f\"],[0.2222222222222222,\"#7201a8\"],[0.3333333333333333,\"#9c179e\"],[0.4444444444444444,\"#bd3786\"],[0.5555555555555556,\"#d8576b\"],[0.6666666666666666,\"#ed7953\"],[0.7777777777777778,\"#fb9f3a\"],[0.8888888888888888,\"#fdca26\"],[1.0,\"#f0f921\"]]}],\"heatmap\":[{\"type\":\"heatmap\",\"colorbar\":{\"outlinewidth\":0,\"ticks\":\"\"},\"colorscale\":[[0.0,\"#0d0887\"],[0.1111111111111111,\"#46039f\"],[0.2222222222222222,\"#7201a8\"],[0.3333333333333333,\"#9c179e\"],[0.4444444444444444,\"#bd3786\"],[0.5555555555555556,\"#d8576b\"],[0.6666666666666666,\"#ed7953\"],[0.7777777777777778,\"#fb9f3a\"],[0.8888888888888888,\"#fdca26\"],[1.0,\"#f0f921\"]]}],\"heatmapgl\":[{\"type\":\"heatmapgl\",\"colorbar\":{\"outlinewidth\":0,\"ticks\":\"\"},\"colorscale\":[[0.0,\"#0d0887\"],[0.1111111111111111,\"#46039f\"],[0.2222222222222222,\"#7201a8\"],[0.3333333333333333,\"#9c179e\"],[0.4444444444444444,\"#bd3786\"],[0.5555555555555556,\"#d8576b\"],[0.6666666666666666,\"#ed7953\"],[0.7777777777777778,\"#fb9f3a\"],[0.8888888888888888,\"#fdca26\"],[1.0,\"#f0f921\"]]}],\"contourcarpet\":[{\"type\":\"contourcarpet\",\"colorbar\":{\"outlinewidth\":0,\"ticks\":\"\"}}],\"contour\":[{\"type\":\"contour\",\"colorbar\":{\"outlinewidth\":0,\"ticks\":\"\"},\"colorscale\":[[0.0,\"#0d0887\"],[0.1111111111111111,\"#46039f\"],[0.2222222222222222,\"#7201a8\"],[0.3333333333333333,\"#9c179e\"],[0.4444444444444444,\"#bd3786\"],[0.5555555555555556,\"#d8576b\"],[0.6666666666666666,\"#ed7953\"],[0.7777777777777778,\"#fb9f3a\"],[0.8888888888888888,\"#fdca26\"],[1.0,\"#f0f921\"]]}],\"surface\":[{\"type\":\"surface\",\"colorbar\":{\"outlinewidth\":0,\"ticks\":\"\"},\"colorscale\":[[0.0,\"#0d0887\"],[0.1111111111111111,\"#46039f\"],[0.2222222222222222,\"#7201a8\"],[0.3333333333333333,\"#9c179e\"],[0.4444444444444444,\"#bd3786\"],[0.5555555555555556,\"#d8576b\"],[0.6666666666666666,\"#ed7953\"],[0.7777777777777778,\"#fb9f3a\"],[0.8888888888888888,\"#fdca26\"],[1.0,\"#f0f921\"]]}],\"mesh3d\":[{\"type\":\"mesh3d\",\"colorbar\":{\"outlinewidth\":0,\"ticks\":\"\"}}],\"scatter\":[{\"fillpattern\":{\"fillmode\":\"overlay\",\"size\":10,\"solidity\":0.2},\"type\":\"scatter\"}],\"parcoords\":[{\"type\":\"parcoords\",\"line\":{\"colorbar\":{\"outlinewidth\":0,\"ticks\":\"\"}}}],\"scatterpolargl\":[{\"type\":\"scatterpolargl\",\"marker\":{\"colorbar\":{\"outlinewidth\":0,\"ticks\":\"\"}}}],\"bar\":[{\"error_x\":{\"color\":\"#2a3f5f\"},\"error_y\":{\"color\":\"#2a3f5f\"},\"marker\":{\"line\":{\"color\":\"#E5ECF6\",\"width\":0.5},\"pattern\":{\"fillmode\":\"overlay\",\"size\":10,\"solidity\":0.2}},\"type\":\"bar\"}],\"scattergeo\":[{\"type\":\"scattergeo\",\"marker\":{\"colorbar\":{\"outlinewidth\":0,\"ticks\":\"\"}}}],\"scatterpolar\":[{\"type\":\"scatterpolar\",\"marker\":{\"colorbar\":{\"outlinewidth\":0,\"ticks\":\"\"}}}],\"histogram\":[{\"marker\":{\"pattern\":{\"fillmode\":\"overlay\",\"size\":10,\"solidity\":0.2}},\"type\":\"histogram\"}],\"scattergl\":[{\"type\":\"scattergl\",\"marker\":{\"colorbar\":{\"outlinewidth\":0,\"ticks\":\"\"}}}],\"scatter3d\":[{\"type\":\"scatter3d\",\"line\":{\"colorbar\":{\"outlinewidth\":0,\"ticks\":\"\"}},\"marker\":{\"colorbar\":{\"outlinewidth\":0,\"ticks\":\"\"}}}],\"scattermapbox\":[{\"type\":\"scattermapbox\",\"marker\":{\"colorbar\":{\"outlinewidth\":0,\"ticks\":\"\"}}}],\"scatterternary\":[{\"type\":\"scatterternary\",\"marker\":{\"colorbar\":{\"outlinewidth\":0,\"ticks\":\"\"}}}],\"scattercarpet\":[{\"type\":\"scattercarpet\",\"marker\":{\"colorbar\":{\"outlinewidth\":0,\"ticks\":\"\"}}}],\"carpet\":[{\"aaxis\":{\"endlinecolor\":\"#2a3f5f\",\"gridcolor\":\"white\",\"linecolor\":\"white\",\"minorgridcolor\":\"white\",\"startlinecolor\":\"#2a3f5f\"},\"baxis\":{\"endlinecolor\":\"#2a3f5f\",\"gridcolor\":\"white\",\"linecolor\":\"white\",\"minorgridcolor\":\"white\",\"startlinecolor\":\"#2a3f5f\"},\"type\":\"carpet\"}],\"table\":[{\"cells\":{\"fill\":{\"color\":\"#EBF0F8\"},\"line\":{\"color\":\"white\"}},\"header\":{\"fill\":{\"color\":\"#C8D4E3\"},\"line\":{\"color\":\"white\"}},\"type\":\"table\"}],\"barpolar\":[{\"marker\":{\"line\":{\"color\":\"#E5ECF6\",\"width\":0.5},\"pattern\":{\"fillmode\":\"overlay\",\"size\":10,\"solidity\":0.2}},\"type\":\"barpolar\"}],\"pie\":[{\"automargin\":true,\"type\":\"pie\"}]},\"layout\":{\"autotypenumbers\":\"strict\",\"colorway\":[\"#636efa\",\"#EF553B\",\"#00cc96\",\"#ab63fa\",\"#FFA15A\",\"#19d3f3\",\"#FF6692\",\"#B6E880\",\"#FF97FF\",\"#FECB52\"],\"font\":{\"color\":\"#2a3f5f\"},\"hovermode\":\"closest\",\"hoverlabel\":{\"align\":\"left\"},\"paper_bgcolor\":\"white\",\"plot_bgcolor\":\"#E5ECF6\",\"polar\":{\"bgcolor\":\"#E5ECF6\",\"angularaxis\":{\"gridcolor\":\"white\",\"linecolor\":\"white\",\"ticks\":\"\"},\"radialaxis\":{\"gridcolor\":\"white\",\"linecolor\":\"white\",\"ticks\":\"\"}},\"ternary\":{\"bgcolor\":\"#E5ECF6\",\"aaxis\":{\"gridcolor\":\"white\",\"linecolor\":\"white\",\"ticks\":\"\"},\"baxis\":{\"gridcolor\":\"white\",\"linecolor\":\"white\",\"ticks\":\"\"},\"caxis\":{\"gridcolor\":\"white\",\"linecolor\":\"white\",\"ticks\":\"\"}},\"coloraxis\":{\"colorbar\":{\"outlinewidth\":0,\"ticks\":\"\"}},\"colorscale\":{\"sequential\":[[0.0,\"#0d0887\"],[0.1111111111111111,\"#46039f\"],[0.2222222222222222,\"#7201a8\"],[0.3333333333333333,\"#9c179e\"],[0.4444444444444444,\"#bd3786\"],[0.5555555555555556,\"#d8576b\"],[0.6666666666666666,\"#ed7953\"],[0.7777777777777778,\"#fb9f3a\"],[0.8888888888888888,\"#fdca26\"],[1.0,\"#f0f921\"]],\"sequentialminus\":[[0.0,\"#0d0887\"],[0.1111111111111111,\"#46039f\"],[0.2222222222222222,\"#7201a8\"],[0.3333333333333333,\"#9c179e\"],[0.4444444444444444,\"#bd3786\"],[0.5555555555555556,\"#d8576b\"],[0.6666666666666666,\"#ed7953\"],[0.7777777777777778,\"#fb9f3a\"],[0.8888888888888888,\"#fdca26\"],[1.0,\"#f0f921\"]],\"diverging\":[[0,\"#8e0152\"],[0.1,\"#c51b7d\"],[0.2,\"#de77ae\"],[0.3,\"#f1b6da\"],[0.4,\"#fde0ef\"],[0.5,\"#f7f7f7\"],[0.6,\"#e6f5d0\"],[0.7,\"#b8e186\"],[0.8,\"#7fbc41\"],[0.9,\"#4d9221\"],[1,\"#276419\"]]},\"xaxis\":{\"gridcolor\":\"white\",\"linecolor\":\"white\",\"ticks\":\"\",\"title\":{\"standoff\":15},\"zerolinecolor\":\"white\",\"automargin\":true,\"zerolinewidth\":2},\"yaxis\":{\"gridcolor\":\"white\",\"linecolor\":\"white\",\"ticks\":\"\",\"title\":{\"standoff\":15},\"zerolinecolor\":\"white\",\"automargin\":true,\"zerolinewidth\":2},\"scene\":{\"xaxis\":{\"backgroundcolor\":\"#E5ECF6\",\"gridcolor\":\"white\",\"linecolor\":\"white\",\"showbackground\":true,\"ticks\":\"\",\"zerolinecolor\":\"white\",\"gridwidth\":2},\"yaxis\":{\"backgroundcolor\":\"#E5ECF6\",\"gridcolor\":\"white\",\"linecolor\":\"white\",\"showbackground\":true,\"ticks\":\"\",\"zerolinecolor\":\"white\",\"gridwidth\":2},\"zaxis\":{\"backgroundcolor\":\"#E5ECF6\",\"gridcolor\":\"white\",\"linecolor\":\"white\",\"showbackground\":true,\"ticks\":\"\",\"zerolinecolor\":\"white\",\"gridwidth\":2}},\"shapedefaults\":{\"line\":{\"color\":\"#2a3f5f\"}},\"annotationdefaults\":{\"arrowcolor\":\"#2a3f5f\",\"arrowhead\":0,\"arrowwidth\":1},\"geo\":{\"bgcolor\":\"white\",\"landcolor\":\"#E5ECF6\",\"subunitcolor\":\"white\",\"showland\":true,\"showlakes\":true,\"lakecolor\":\"white\"},\"title\":{\"x\":0.05},\"mapbox\":{\"style\":\"light\"}}},\"xaxis\":{\"anchor\":\"y\",\"domain\":[0.0,1.0],\"title\":{\"text\":\"provider_type\"}},\"yaxis\":{\"anchor\":\"x\",\"domain\":[0.0,1.0],\"title\":{\"text\":\"quantity\"}},\"legend\":{\"tracegroupgap\":0},\"title\":{\"text\":\"📦 Quantity Distribution per Provider Type\"},\"boxmode\":\"group\"},                        {\"responsive\": true}                    ).then(function(){\n",
              "                            \n",
              "var gd = document.getElementById('8aebf641-57bd-4a15-af24-114742088fe1');\n",
              "var x = new MutationObserver(function (mutations, observer) {{\n",
              "        var display = window.getComputedStyle(gd).display;\n",
              "        if (!display || display === 'none') {{\n",
              "            console.log([gd, 'removed!']);\n",
              "            Plotly.purge(gd);\n",
              "            observer.disconnect();\n",
              "        }}\n",
              "}});\n",
              "\n",
              "// Listen for the removal of the full notebook cells\n",
              "var notebookContainer = gd.closest('#notebook-container');\n",
              "if (notebookContainer) {{\n",
              "    x.observe(notebookContainer, {childList: true});\n",
              "}}\n",
              "\n",
              "// Listen for the clearing of the current output cell\n",
              "var outputEl = gd.closest('.output');\n",
              "if (outputEl) {{\n",
              "    x.observe(outputEl, {childList: true});\n",
              "}}\n",
              "\n",
              "                        })                };                            </script>        </div>\n",
              "</body>\n",
              "</html>"
            ]
          },
          "metadata": {}
        }
      ]
    },
    {
      "cell_type": "markdown",
      "source": [
        "**1️⃣ Why did you pick the specific chart?**\n",
        "\n",
        "👉 A boxplot with stripplot is used because it shows the spread, median, and outliers of donation quantities across provider types, making comparisons clearer.\n",
        "\n",
        "**2️⃣ Insights from the chart:**\n",
        "\n",
        "- 📊 All provider types (Grocery, Catering, Restaurant, Supermarket) have a similar median quantity (25).\n",
        "\n",
        "- 📦 Donations vary widely, from very small (1) to very large (50).\n",
        "\n",
        "- 🔹 Outliers exist in each category, meaning some providers donate unusually high or low amounts.\n",
        "\n",
        "- ⚖️ The distribution shapes are almost identical, showing consistency across provider types.\n",
        "\n",
        "**3️⃣ Business Impact:**\n",
        "- ✅ Positive: Confirms uniformity in donation behavior across provider types, helping standardize logistics.\n",
        "- ⚠️ Negative: Presence of outliers (very small or very large donations) may complicate planning and resource allocation."
      ],
      "metadata": {
        "id": "3_bA-ULX3LpV"
      }
    },
    {
      "cell_type": "markdown",
      "source": [
        "#### 4. Correlation Heatmap"
      ],
      "metadata": {
        "id": "QF9HOuS3mOMN"
      }
    },
    {
      "cell_type": "code",
      "source": [
        "# 🔥 Correlation Heatmap\n",
        "df = pd.read_sql(\"\"\"\n",
        "SELECT f.quantity, COUNT(c.claim_id) as claim_count\n",
        "FROM food_listings f\n",
        "LEFT JOIN claims c ON f.food_id = c.food_id\n",
        "GROUP BY f.food_id\n",
        "\"\"\", engine)"
      ],
      "metadata": {
        "id": "1FnuTb11mWQT"
      },
      "execution_count": null,
      "outputs": []
    },
    {
      "cell_type": "code",
      "source": [
        "sns.heatmap(df.corr(), annot=True, cmap=\"coolwarm\")\n",
        "plt.title(\"🔥 Correlation Heatmap\")\n",
        "plt.show()"
      ],
      "metadata": {
        "colab": {
          "base_uri": "https://localhost:8080/",
          "height": 521
        },
        "id": "UwMF3O0XmYuV",
        "outputId": "91f3925e-c0a7-44ee-e09e-52f7818d84ca"
      },
      "execution_count": null,
      "outputs": [
        {
          "output_type": "stream",
          "name": "stderr",
          "text": [
            "/usr/local/lib/python3.11/dist-packages/IPython/core/pylabtools.py:151: UserWarning:\n",
            "\n",
            "Glyph 128293 (\\N{FIRE}) missing from font(s) DejaVu Sans.\n",
            "\n"
          ]
        },
        {
          "output_type": "display_data",
          "data": {
            "text/plain": [
              "<Figure size 640x480 with 2 Axes>"
            ],
            "image/png": "[encoded data removed]"
          },
          "metadata": {}
        }
      ]
    },
    {
      "cell_type": "markdown",
      "source": [
        "**1️⃣ Why did you pick the specific chart?**\n",
        "\n",
        "👉 A correlation heatmap is chosen because it visually shows the strength and direction of relationships between numerical variables.\n",
        "\n",
        "**2️⃣ Insights from the chart**:\n",
        "\n",
        "- 📦 The correlation between quantity and claim_count is extremely low (0.012).\n",
        "\n",
        "- ➡️ This means quantity donated does not strongly influence claim activity.\n",
        "\n",
        "- 🔹 Claims and donation size behave mostly independently.\n",
        "\n",
        "**3️⃣ Business Impact:**\n",
        "- ✅ Positive: Confirms that claim activity is not limited by donation size, meaning claims are evenly spread regardless of how big/small donations are.\n",
        "- ⚠️ Negative: Since correlation is negligible, predicting claims based on donation quantity may not be useful for forecasting demand."
      ],
      "metadata": {
        "id": "S4WR92Yj369U"
      }
    },
    {
      "cell_type": "markdown",
      "source": [
        "#### 5. Stacked Bar Plot : City vs Provider Type"
      ],
      "metadata": {
        "id": "NOyPczogmnKt"
      }
    },
    {
      "cell_type": "code",
      "source": [
        "# 📊 City vs Provider Type\n",
        "df = pd.read_sql(\"\"\"\n",
        "SELECT p.city, f.provider_type, COUNT(*) as count\n",
        "FROM providers p\n",
        "JOIN food_listings f ON p.provider_id = f.provider_id\n",
        "GROUP BY p.city, f.provider_type\n",
        "\"\"\", engine)"
      ],
      "metadata": {
        "id": "6GMV6Cj9muWB"
      },
      "execution_count": null,
      "outputs": []
    },
    {
      "cell_type": "code",
      "source": [
        "fig = px.bar(df, x=\"city\", y=\"count\", color=\"provider_type\",\n",
        "             title=\"📊 City vs Provider Type\", barmode=\"stack\")\n",
        "fig.show()"
      ],
      "metadata": {
        "colab": {
          "base_uri": "https://localhost:8080/",
          "height": 542
        },
        "id": "g9ZxXUJjmwlv",
        "outputId": "1e43d92b-2ac2-4eb8-c87f-a521725157e8"
      },
      "execution_count": null,
      "outputs": [
        {
          "output_type": "display_data",
          "data": {
            "text/html": [
              "<html>\n",
              "<head><meta charset=\"utf-8\" /></head>\n",
              "<body>\n",
              "    <div>            <script src=\"https://cdnjs.cloudflare.com/ajax/libs/mathjax/2.7.5/MathJax.js?config=TeX-AMS-MML_SVG\"></script><script type=\"text/javascript\">if (window.MathJax && window.MathJax.Hub && window.MathJax.Hub.Config) {window.MathJax.Hub.Config({SVG: {font: \"STIX-Web\"}});}</script>                <script type=\"text/javascript\">window.PlotlyConfig = {MathJaxConfig: 'local'};</script>\n",
              "        <script charset=\"utf-8\" src=\"https://cdn.plot.ly/plotly-2.35.2.min.js\"></script>                <div id=\"034bf97f-1584-4e84-942a-9f2cf958cdf2\" class=\"plotly-graph-div\" style=\"height:525px; width:100%;\"></div>            <script type=\"text/javascript\">                                    window.PLOTLYENV=window.PLOTLYENV || {};                                    if (document.getElementById(\"034bf97f-1584-4e84-942a-9f2cf958cdf2\")) {                    Plotly.newPlot(                        \"034bf97f-1584-4e84-942a-9f2cf958cdf2\",                        [{\"alignmentgroup\":\"True\",\"hovertemplate\":\"provider_type=Catering Service\\u003cbr\\u003ecity=%{x}\\u003cbr\\u003ecount=%{y}\\u003cextra\\u003e\\u003c\\u002fextra\\u003e\",\"legendgroup\":\"Catering Service\",\"marker\":{\"color\":\"#636efa\",\"pattern\":{\"shape\":\"\"}},\"name\":\"Catering Service\",\"offsetgroup\":\"Catering Service\",\"orientation\":\"v\",\"showlegend\":true,\"textposition\":\"auto\",\"x\":[\"Adambury\",\"Alexanderchester\",\"Andreaborough\",\"Anthonyborough\",\"Anthonyton\",\"Belindaville\",\"Bellport\",\"Bentleyburgh\",\"Bentonfurt\",\"Blaketown\",\"Brittanyland\",\"Brittanyside\",\"Brownberg\",\"Cameronside\",\"Carrport\",\"Chelseyfort\",\"Christinamouth\",\"Christopherstad\",\"Connieside\",\"Cunninghambury\",\"Davidport\",\"Devinmouth\",\"East Amyfurt\",\"East Brittanyland\",\"East Candace\",\"East Deborah\",\"East Deniseborough\",\"East Elizabethberg\",\"East Emilyburgh\",\"East Kevin\",\"East Michelle\",\"East Rossside\",\"East Samantha\",\"East Sonyaport\",\"Edwardsbury\",\"Gaineschester\",\"Garciamouth\",\"Grahamside\",\"Gutierrezshire\",\"Heatherside\",\"Henrychester\",\"Jasonstad\",\"Jefferyside\",\"Jeffreybury\",\"Jeffreyshire\",\"Johnport\",\"Johnsonside\",\"Johnstonhaven\",\"Jonathanmouth\",\"Jonathanstad\",\"Joneshaven\",\"Katherinefurt\",\"Lake Donna\",\"Lake Jamestown\",\"Lake Jasmin\",\"Lake Jason\",\"Lake Kari\",\"Lake Latasha\",\"Lake Regina\",\"Lake Richardhaven\",\"Lake Theresa\",\"Leslieville\",\"Lesterstad\",\"Lewishaven\",\"Lindseybury\",\"Madisonfort\",\"Marcstad\",\"Matthewbury\",\"Meganshire\",\"Michaelview\",\"Mikaylachester\",\"Millerview\",\"Mitchellmouth\",\"Mooreview\",\"Mortonfort\",\"New Aaronberg\",\"New Amanda\",\"New Baileyfort\",\"New Douglas\",\"New Joel\",\"New Michelle\",\"New Monicaside\",\"New Ninashire\",\"New Rachel\",\"New Richard\",\"New Zachary\",\"North Brentbury\",\"North Caitlin\",\"North Crystal\",\"North James\",\"North Joseph\",\"North Katherineshire\",\"North Keith\",\"North Kylestad\",\"North Mariahchester\",\"North Mike\",\"North Nicholas\",\"North Ryan\",\"North Sharonberg\",\"North Steven\",\"North Tracy\",\"North William\",\"Pamelaberg\",\"Patrickfort\",\"Pearsonchester\",\"Phillipsfort\",\"Port Aaron\",\"Port Andre\",\"Port Anita\",\"Port Carrie\",\"Port Emilyburgh\",\"Port Jacob\",\"Port Kevinburgh\",\"Port Lisamouth\",\"Port Marcland\",\"Port Marissachester\",\"Port Michaelshire\",\"Port Patrick\",\"Port Richardshire\",\"Port Staceymouth\",\"Port Troychester\",\"Priceland\",\"Randallchester\",\"Rogersmouth\",\"Roystad\",\"Sandrastad\",\"Scottchester\",\"Sharonton\",\"Sheenashire\",\"Smithfort\",\"South Alicia\",\"South Christopherborough\",\"South Edwardtown\",\"South Jacobport\",\"South Jeffreyburgh\",\"South Michaelberg\",\"South Nicole\",\"Stephanieberg\",\"Taylorchester\",\"Thorntonbury\",\"Timothychester\",\"Torresshire\",\"Tyronebury\",\"Villastad\",\"West Aliciabury\",\"West Anthonymouth\",\"West Billborough\",\"West Catherine\",\"West Cherylfort\",\"West Danielborough\",\"West Dawn\",\"West Karen\",\"West Larry\",\"West Matthew\",\"West Vanessafort\",\"Wilsonview\",\"Zimmermanton\"],\"xaxis\":\"x\",\"y\":[1,1,2,1,1,2,2,3,1,2,2,3,1,2,1,2,1,1,1,1,1,3,1,2,2,1,1,3,1,1,1,1,1,1,1,2,1,1,2,1,1,2,2,2,2,1,1,1,2,4,2,1,2,2,1,2,1,1,3,1,1,3,1,1,3,3,2,1,1,1,1,2,1,1,2,1,2,1,1,2,1,1,1,1,2,1,1,1,1,2,1,1,4,1,1,3,2,1,1,1,1,2,3,1,1,2,1,1,1,1,1,1,1,2,1,1,1,3,2,1,1,2,1,1,1,2,1,2,1,2,2,1,2,1,1,2,1,1,1,2,3,2,1,2,1,1,1,1,1,2,2,1,1,1,1,1,2],\"yaxis\":\"y\",\"type\":\"bar\"},{\"alignmentgroup\":\"True\",\"hovertemplate\":\"provider_type=Grocery Store\\u003cbr\\u003ecity=%{x}\\u003cbr\\u003ecount=%{y}\\u003cextra\\u003e\\u003c\\u002fextra\\u003e\",\"legendgroup\":\"Grocery Store\",\"marker\":{\"color\":\"#EF553B\",\"pattern\":{\"shape\":\"\"}},\"name\":\"Grocery Store\",\"offsetgroup\":\"Grocery Store\",\"orientation\":\"v\",\"showlegend\":true,\"textposition\":\"auto\",\"x\":[\"Allenborough\",\"Andersonmouth\",\"Andersonville\",\"Annahaven\",\"Anneville\",\"Aprilberg\",\"Ashleyhaven\",\"Brookeland\",\"Carlbury\",\"Chambersfort\",\"Charlesmouth\",\"Christinetown\",\"Coleburgh\",\"Collinsmouth\",\"Cordovaborough\",\"Danachester\",\"Darrylchester\",\"Davidborough\",\"Deborahland\",\"Deckermouth\",\"Derekport\",\"East Angela\",\"East Christophertown\",\"East Craig\",\"East Edwinburgh\",\"East Elizabeth\",\"East Emily\",\"East Heatherport\",\"East Kimberly\",\"East Lisa\",\"East Meganfort\",\"East Nicholasbury\",\"East Robert\",\"East Roberthaven\",\"East Shanestad\",\"East Sheena\",\"East Tammy\",\"East Timothy\",\"East Williamshire\",\"Elliottberg\",\"Erikatown\",\"Evansmouth\",\"Floresville\",\"Garciaside\",\"Herbertbury\",\"Jamesfurt\",\"Jeremiahfort\",\"Jordanhaven\",\"Joshuastad\",\"Lake Benjamin\",\"Lake Diane\",\"Lake Jessicamouth\",\"Lake Justin\",\"Lake Kendramouth\",\"Lake Maria\",\"Lake Nathan\",\"Lake Raymondton\",\"Lake Ryanbury\",\"Lake Travis\",\"Lindseyland\",\"Marissaville\",\"Marymouth\",\"Mendezmouth\",\"Moseshaven\",\"Murrayborough\",\"New Curtis\",\"New Evanport\",\"New Leslieport\",\"New Robertstad\",\"Nolanmouth\",\"North Aaron\",\"North Amanda\",\"North Brooke\",\"North Carolfurt\",\"North Catherine\",\"North Chase\",\"North Destiny\",\"North Gary\",\"North Garybury\",\"North Jamesberg\",\"North Julieburgh\",\"North Katelyn\",\"North Katelynland\",\"North Kevinhaven\",\"North Lauren\",\"North Lindseychester\",\"North Melanie\",\"North Nathan\",\"North Sherrimouth\",\"North Stevenbury\",\"North Victoriastad\",\"Olsenstad\",\"Patrickmouth\",\"Paulmouth\",\"Petersonburgh\",\"Phillipsfort\",\"Phillipsmouth\",\"Port Davidshire\",\"Port Donnaton\",\"Port Erin\",\"Port Jeffrey\",\"Port Matthew\",\"Port Robin\",\"Port Ronaldshire\",\"Port Rubenville\",\"Port Timothystad\",\"Ramseyfort\",\"Richchester\",\"Rodriguezview\",\"Russellfurt\",\"Salinasville\",\"Samueltown\",\"Saraburgh\",\"Smithmouth\",\"Solisburgh\",\"South Anne\",\"South Bradleyburgh\",\"South Brenda\",\"South Douglashaven\",\"South Jillshire\",\"South Kellyberg\",\"South Kellyville\",\"South Lisaberg\",\"South Richardhaven\",\"South Russelltown\",\"South Stefanietown\",\"South William\",\"Spenceland\",\"Steeleport\",\"Stevenchester\",\"Steveport\",\"Sylviabury\",\"Tamaraside\",\"Tammyside\",\"Thomasville\",\"Valdezborough\",\"Valentineside\",\"Velazquezview\",\"Wadeville\",\"Weberfurt\",\"West Adam\",\"West Adammouth\",\"West Amandafurt\",\"West Brandon\",\"West Dannyland\",\"West James\",\"West Juliabury\",\"West Kelli\",\"West Miaside\",\"West Omarside\",\"West Samantha\",\"West Tinamouth\",\"Westbury\",\"Wheelermouth\",\"Williamsmouth\"],\"xaxis\":\"x\",\"y\":[1,1,1,1,3,1,1,2,2,1,1,1,3,1,1,1,2,2,1,1,1,5,1,3,2,1,1,4,1,2,1,1,3,1,1,2,2,1,1,1,2,1,1,1,2,3,1,2,1,2,2,1,3,2,1,1,1,1,4,2,1,3,3,1,2,3,2,1,1,1,2,3,1,1,1,2,2,2,2,1,2,1,2,2,2,3,1,1,3,2,1,1,1,3,1,1,2,1,1,1,2,1,3,1,1,1,1,1,2,2,1,1,1,1,2,1,2,1,1,1,2,1,3,1,1,2,1,1,1,2,1,1,1,1,3,1,2,1,2,1,3,1,1,2,1,2,3,1,2,1,1,1,1,1,2],\"yaxis\":\"y\",\"type\":\"bar\"},{\"alignmentgroup\":\"True\",\"hovertemplate\":\"provider_type=Supermarket\\u003cbr\\u003ecity=%{x}\\u003cbr\\u003ecount=%{y}\\u003cextra\\u003e\\u003c\\u002fextra\\u003e\",\"legendgroup\":\"Supermarket\",\"marker\":{\"color\":\"#00cc96\",\"pattern\":{\"shape\":\"\"}},\"name\":\"Supermarket\",\"offsetgroup\":\"Supermarket\",\"orientation\":\"v\",\"showlegend\":true,\"textposition\":\"auto\",\"x\":[\"Allenton\",\"Amandashire\",\"Andrewsmouth\",\"Benjaminstad\",\"Bonillahaven\",\"Boylechester\",\"Bradleyport\",\"Brianside\",\"Brittanyport\",\"Brittanyville\",\"Brownshire\",\"Castilloport\",\"Charlesview\",\"Christinaland\",\"Colemanton\",\"Crystalborough\",\"Davidland\",\"Davidville\",\"Donnaborough\",\"East Andrewland\",\"East Anthony\",\"East Austin\",\"East Bernard\",\"East Jacobchester\",\"East Johnburgh\",\"East Laurashire\",\"East Melissa\",\"East Phillipton\",\"East Sandra\",\"Fowlerbury\",\"Frederickside\",\"Gardnerfort\",\"Ginaview\",\"Harrishaven\",\"Heathermouth\",\"Hestermouth\",\"Jenniferville\",\"Jessicaland\",\"Jonathanhaven\",\"Jonestown\",\"Jordanborough\",\"Justinhaven\",\"Kevinfort\",\"Kylehaven\",\"Lake Alicia\",\"Lake April\",\"Lake Cathy\",\"Lake Coryhaven\",\"Lake Deborah\",\"Lake Jeffreytown\",\"Lake Joseph\",\"Lake Karenfurt\",\"Lake Kristentown\",\"Lake Lauraton\",\"Lake Michael\",\"Lake Mistyton\",\"Lake Rachael\",\"Lake Shelby\",\"Lake Traceyburgh\",\"Lake Vanessa\",\"Latoyaberg\",\"Laurietown\",\"Lisamouth\",\"Lopezport\",\"Louismouth\",\"Madelinechester\",\"Manningshire\",\"Manuelhaven\",\"Markport\",\"Martinville\",\"Maxwellburgh\",\"Maynardstad\",\"Maysside\",\"Mcclainfurt\",\"Michaelton\",\"Mooneybury\",\"Mooremouth\",\"Moralesside\",\"Morriston\",\"Muellermouth\",\"New Bobbytown\",\"New Carol\",\"New Daniel\",\"New Dawnborough\",\"New Denise\",\"New Erica\",\"New Ginaborough\",\"New Hollyfurt\",\"New Jacob\",\"New Jamesburgh\",\"New Jessica\",\"New John\",\"New Larry\",\"New Matthew\",\"New Michaelmouth\",\"New Rodneyville\",\"New Thomasmouth\",\"North Ebony\",\"North Elizabeth\",\"North Julieburgh\",\"North Kevinhaven\",\"North Mary\",\"North Michelle\",\"North Tom\",\"Perezport\",\"Perkinsbury\",\"Port Connie\",\"Port David\",\"Port Dianaberg\",\"Port Eric\",\"Port Gregton\",\"Port Kendraborough\",\"Port Lance\",\"Port Lesliebury\",\"Port Markview\",\"Port Peter\",\"Port Robertport\",\"Port Tanyaburgh\",\"Ramosville\",\"Reyesshire\",\"Riceshire\",\"Richardsonhaven\",\"Robertshire\",\"Samanthabury\",\"Sarahland\",\"Shortfurt\",\"South Allisonburgh\",\"South Andrewport\",\"South Bryan\",\"South Charles\",\"South Christopherborough\",\"South Davidside\",\"South Jerryside\",\"South Johnshire\",\"South Karen\",\"South Kevinhaven\",\"South Marthahaven\",\"South Nicholasville\",\"South Randy\",\"South Richard\",\"South Robert\",\"South Thomasville\",\"South Tylerstad\",\"Strongmouth\",\"Tinamouth\",\"Toddberg\",\"Toddstad\",\"Vazquezshire\",\"Walterborough\",\"West Kevin\",\"West Lauraborough\",\"West Lisamouth\",\"West Melissa\",\"West Melissastad\",\"West Michael\",\"West Samuelfurt\",\"West Sharonview\",\"Williamland\",\"Williamsfort\",\"Williamsonmouth\",\"Williamview\",\"Woodport\",\"Yatesside\"],\"xaxis\":\"x\",\"y\":[3,1,1,1,1,1,3,1,1,2,1,3,1,1,2,1,1,4,3,3,2,3,1,2,1,1,3,1,1,1,4,3,1,2,1,1,1,2,3,1,3,1,1,2,2,2,1,1,1,1,1,3,1,1,1,2,2,1,1,1,1,3,1,1,2,1,4,2,3,1,3,2,2,1,2,1,1,2,1,2,2,6,1,1,3,1,1,1,2,1,2,3,1,1,1,2,1,2,1,1,2,1,1,2,5,1,3,2,1,2,1,1,1,1,1,2,1,1,1,1,1,1,1,2,2,2,1,2,3,1,1,1,3,1,1,1,1,1,1,1,1,4,1,2,1,2,1,1,2,4,1,1,1,1,1,2,3,1,2,3,1,2,1],\"yaxis\":\"y\",\"type\":\"bar\"},{\"alignmentgroup\":\"True\",\"hovertemplate\":\"provider_type=Restaurant\\u003cbr\\u003ecity=%{x}\\u003cbr\\u003ecount=%{y}\\u003cextra\\u003e\\u003c\\u002fextra\\u003e\",\"legendgroup\":\"Restaurant\",\"marker\":{\"color\":\"#ab63fa\",\"pattern\":{\"shape\":\"\"}},\"name\":\"Restaurant\",\"offsetgroup\":\"Restaurant\",\"orientation\":\"v\",\"showlegend\":true,\"textposition\":\"auto\",\"x\":[\"Amberton\",\"Anthonyhaven\",\"Anthonyshire\",\"Bairdfort\",\"Bartonborough\",\"Basstown\",\"Batesstad\",\"Brandyberg\",\"Brendantown\",\"Brownchester\",\"Browntown\",\"Callahanside\",\"Cannonside\",\"Carlborough\",\"Carolchester\",\"Chelseaside\",\"Christopherton\",\"Cisnerostown\",\"Clarkberg\",\"Davisview\",\"Deborahfurt\",\"East Aaron\",\"East Andrea\",\"East Angelafort\",\"East Ashleyshire\",\"East Courtneymouth\",\"East Cynthia\",\"East Garyton\",\"East John\",\"East Lindsayville\",\"East Lori\",\"East Richardside\",\"East Sandratown\",\"East Stephanie\",\"East Terrancemouth\",\"Francisshire\",\"Garciaport\",\"Garciatown\",\"Garzaville\",\"Gibsonfort\",\"Harrisonbury\",\"Hawkinsmouth\",\"Heatherview\",\"Hollyhaven\",\"Huberstad\",\"Jamesport\",\"Janetborough\",\"Jasmineberg\",\"Jasonland\",\"Jasonmouth\",\"Jeffreyport\",\"Jennifertown\",\"Jimmyberg\",\"Johnsonborough\",\"Johnton\",\"Josephburgh\",\"Joseville\",\"Keithburgh\",\"Kellytown\",\"Kentland\",\"Lake Amymouth\",\"Lake Andrewmouth\",\"Lake Anthonyport\",\"Lake Christopherburgh\",\"Lake Christophermouth\",\"Lake George\",\"Lake Heather\",\"Lake James\",\"Lake Lorrainefort\",\"Lake Michael\",\"Lake Michaelfurt\",\"Lake Stephen\",\"Lake Tamara\",\"Lake Vanessaland\",\"Leeburgh\",\"Lewisberg\",\"Linchester\",\"Longland\",\"Marthaside\",\"Medinatown\",\"Meghanfurt\",\"Michaelport\",\"Morganhaven\",\"New Amanda\",\"New Billy\",\"New Calebberg\",\"New Connorfort\",\"New Hannah\",\"New Lisa\",\"New Ricky\",\"New Tiffanystad\",\"New Travisshire\",\"Nicoletown\",\"North Ashley\",\"North Brendaborough\",\"North Charlesside\",\"North Douglasfurt\",\"North Edwinchester\",\"North Ianbury\",\"North Kennethshire\",\"North Lisaland\",\"North Sharonburgh\",\"North Susan\",\"Padillatown\",\"Penabury\",\"Pereztown\",\"Port Amandamouth\",\"Port Andrea\",\"Port Bryce\",\"Port Daniellechester\",\"Port Dustin\",\"Port Emily\",\"Port Heidiland\",\"Port Karen\",\"Port Leahfurt\",\"Port Melanie\",\"Port Melissa\",\"Port Michael\",\"Port Patrick\",\"Port Victoria\",\"Raybury\",\"Rebeccaburgh\",\"Reidland\",\"Roachhaven\",\"Rodriguezfurt\",\"Ruizmouth\",\"Salastown\",\"Sheilaburgh\",\"Shirleyland\",\"Snyderton\",\"South Christopherborough\",\"South Crystalberg\",\"South Danielle\",\"South Donald\",\"South Jessicachester\",\"South Justinborough\",\"South Kathryn\",\"South Michellechester\",\"South Tiffanyfort\",\"Taylormouth\",\"Timothyview\",\"Villaborough\",\"Walkerfurt\",\"Walterton\",\"Watsonstad\",\"Watsonton\",\"West Corey\",\"West Hunter\",\"West Kara\",\"West Lauraborough\",\"West Lucasville\",\"West Robert\",\"West Stevenport\",\"West Whitneymouth\",\"Westmouth\",\"Wilsonport\",\"Youngchester\",\"Zimmermanville\"],\"xaxis\":\"x\",\"y\":[2,1,1,1,2,2,1,2,1,1,1,1,1,1,3,1,1,3,3,1,1,2,3,2,2,1,1,2,3,1,1,2,3,4,3,2,1,2,1,1,1,1,3,3,1,2,1,1,1,2,1,1,5,2,1,1,1,1,2,1,3,4,1,3,2,1,1,1,2,1,2,2,1,1,2,2,1,1,1,2,1,3,1,2,1,2,1,1,1,1,1,2,1,1,1,2,2,1,4,2,1,1,1,2,3,3,1,2,2,1,1,1,1,1,1,3,2,2,1,2,1,1,1,1,1,2,1,1,1,2,2,1,2,1,1,1,6,1,2,1,1,1,1,1,3,1,2,2,1,2,1,2,1,4,2,1,2,3],\"yaxis\":\"y\",\"type\":\"bar\"}],                        {\"template\":{\"data\":{\"histogram2dcontour\":[{\"type\":\"histogram2dcontour\",\"colorbar\":{\"outlinewidth\":0,\"ticks\":\"\"},\"colorscale\":[[0.0,\"#0d0887\"],[0.1111111111111111,\"#46039f\"],[0.2222222222222222,\"#7201a8\"],[0.3333333333333333,\"#9c179e\"],[0.4444444444444444,\"#bd3786\"],[0.5555555555555556,\"#d8576b\"],[0.6666666666666666,\"#ed7953\"],[0.7777777777777778,\"#fb9f3a\"],[0.8888888888888888,\"#fdca26\"],[1.0,\"#f0f921\"]]}],\"choropleth\":[{\"type\":\"choropleth\",\"colorbar\":{\"outlinewidth\":0,\"ticks\":\"\"}}],\"histogram2d\":[{\"type\":\"histogram2d\",\"colorbar\":{\"outlinewidth\":0,\"ticks\":\"\"},\"colorscale\":[[0.0,\"#0d0887\"],[0.1111111111111111,\"#46039f\"],[0.2222222222222222,\"#7201a8\"],[0.3333333333333333,\"#9c179e\"],[0.4444444444444444,\"#bd3786\"],[0.5555555555555556,\"#d8576b\"],[0.6666666666666666,\"#ed7953\"],[0.7777777777777778,\"#fb9f3a\"],[0.8888888888888888,\"#fdca26\"],[1.0,\"#f0f921\"]]}],\"heatmap\":[{\"type\":\"heatmap\",\"colorbar\":{\"outlinewidth\":0,\"ticks\":\"\"},\"colorscale\":[[0.0,\"#0d0887\"],[0.1111111111111111,\"#46039f\"],[0.2222222222222222,\"#7201a8\"],[0.3333333333333333,\"#9c179e\"],[0.4444444444444444,\"#bd3786\"],[0.5555555555555556,\"#d8576b\"],[0.6666666666666666,\"#ed7953\"],[0.7777777777777778,\"#fb9f3a\"],[0.8888888888888888,\"#fdca26\"],[1.0,\"#f0f921\"]]}],\"heatmapgl\":[{\"type\":\"heatmapgl\",\"colorbar\":{\"outlinewidth\":0,\"ticks\":\"\"},\"colorscale\":[[0.0,\"#0d0887\"],[0.1111111111111111,\"#46039f\"],[0.2222222222222222,\"#7201a8\"],[0.3333333333333333,\"#9c179e\"],[0.4444444444444444,\"#bd3786\"],[0.5555555555555556,\"#d8576b\"],[0.6666666666666666,\"#ed7953\"],[0.7777777777777778,\"#fb9f3a\"],[0.8888888888888888,\"#fdca26\"],[1.0,\"#f0f921\"]]}],\"contourcarpet\":[{\"type\":\"contourcarpet\",\"colorbar\":{\"outlinewidth\":0,\"ticks\":\"\"}}],\"contour\":[{\"type\":\"contour\",\"colorbar\":{\"outlinewidth\":0,\"ticks\":\"\"},\"colorscale\":[[0.0,\"#0d0887\"],[0.1111111111111111,\"#46039f\"],[0.2222222222222222,\"#7201a8\"],[0.3333333333333333,\"#9c179e\"],[0.4444444444444444,\"#bd3786\"],[0.5555555555555556,\"#d8576b\"],[0.6666666666666666,\"#ed7953\"],[0.7777777777777778,\"#fb9f3a\"],[0.8888888888888888,\"#fdca26\"],[1.0,\"#f0f921\"]]}],\"surface\":[{\"type\":\"surface\",\"colorbar\":{\"outlinewidth\":0,\"ticks\":\"\"},\"colorscale\":[[0.0,\"#0d0887\"],[0.1111111111111111,\"#46039f\"],[0.2222222222222222,\"#7201a8\"],[0.3333333333333333,\"#9c179e\"],[0.4444444444444444,\"#bd3786\"],[0.5555555555555556,\"#d8576b\"],[0.6666666666666666,\"#ed7953\"],[0.7777777777777778,\"#fb9f3a\"],[0.8888888888888888,\"#fdca26\"],[1.0,\"#f0f921\"]]}],\"mesh3d\":[{\"type\":\"mesh3d\",\"colorbar\":{\"outlinewidth\":0,\"ticks\":\"\"}}],\"scatter\":[{\"fillpattern\":{\"fillmode\":\"overlay\",\"size\":10,\"solidity\":0.2},\"type\":\"scatter\"}],\"parcoords\":[{\"type\":\"parcoords\",\"line\":{\"colorbar\":{\"outlinewidth\":0,\"ticks\":\"\"}}}],\"scatterpolargl\":[{\"type\":\"scatterpolargl\",\"marker\":{\"colorbar\":{\"outlinewidth\":0,\"ticks\":\"\"}}}],\"bar\":[{\"error_x\":{\"color\":\"#2a3f5f\"},\"error_y\":{\"color\":\"#2a3f5f\"},\"marker\":{\"line\":{\"color\":\"#E5ECF6\",\"width\":0.5},\"pattern\":{\"fillmode\":\"overlay\",\"size\":10,\"solidity\":0.2}},\"type\":\"bar\"}],\"scattergeo\":[{\"type\":\"scattergeo\",\"marker\":{\"colorbar\":{\"outlinewidth\":0,\"ticks\":\"\"}}}],\"scatterpolar\":[{\"type\":\"scatterpolar\",\"marker\":{\"colorbar\":{\"outlinewidth\":0,\"ticks\":\"\"}}}],\"histogram\":[{\"marker\":{\"pattern\":{\"fillmode\":\"overlay\",\"size\":10,\"solidity\":0.2}},\"type\":\"histogram\"}],\"scattergl\":[{\"type\":\"scattergl\",\"marker\":{\"colorbar\":{\"outlinewidth\":0,\"ticks\":\"\"}}}],\"scatter3d\":[{\"type\":\"scatter3d\",\"line\":{\"colorbar\":{\"outlinewidth\":0,\"ticks\":\"\"}},\"marker\":{\"colorbar\":{\"outlinewidth\":0,\"ticks\":\"\"}}}],\"scattermapbox\":[{\"type\":\"scattermapbox\",\"marker\":{\"colorbar\":{\"outlinewidth\":0,\"ticks\":\"\"}}}],\"scatterternary\":[{\"type\":\"scatterternary\",\"marker\":{\"colorbar\":{\"outlinewidth\":0,\"ticks\":\"\"}}}],\"scattercarpet\":[{\"type\":\"scattercarpet\",\"marker\":{\"colorbar\":{\"outlinewidth\":0,\"ticks\":\"\"}}}],\"carpet\":[{\"aaxis\":{\"endlinecolor\":\"#2a3f5f\",\"gridcolor\":\"white\",\"linecolor\":\"white\",\"minorgridcolor\":\"white\",\"startlinecolor\":\"#2a3f5f\"},\"baxis\":{\"endlinecolor\":\"#2a3f5f\",\"gridcolor\":\"white\",\"linecolor\":\"white\",\"minorgridcolor\":\"white\",\"startlinecolor\":\"#2a3f5f\"},\"type\":\"carpet\"}],\"table\":[{\"cells\":{\"fill\":{\"color\":\"#EBF0F8\"},\"line\":{\"color\":\"white\"}},\"header\":{\"fill\":{\"color\":\"#C8D4E3\"},\"line\":{\"color\":\"white\"}},\"type\":\"table\"}],\"barpolar\":[{\"marker\":{\"line\":{\"color\":\"#E5ECF6\",\"width\":0.5},\"pattern\":{\"fillmode\":\"overlay\",\"size\":10,\"solidity\":0.2}},\"type\":\"barpolar\"}],\"pie\":[{\"automargin\":true,\"type\":\"pie\"}]},\"layout\":{\"autotypenumbers\":\"strict\",\"colorway\":[\"#636efa\",\"#EF553B\",\"#00cc96\",\"#ab63fa\",\"#FFA15A\",\"#19d3f3\",\"#FF6692\",\"#B6E880\",\"#FF97FF\",\"#FECB52\"],\"font\":{\"color\":\"#2a3f5f\"},\"hovermode\":\"closest\",\"hoverlabel\":{\"align\":\"left\"},\"paper_bgcolor\":\"white\",\"plot_bgcolor\":\"#E5ECF6\",\"polar\":{\"bgcolor\":\"#E5ECF6\",\"angularaxis\":{\"gridcolor\":\"white\",\"linecolor\":\"white\",\"ticks\":\"\"},\"radialaxis\":{\"gridcolor\":\"white\",\"linecolor\":\"white\",\"ticks\":\"\"}},\"ternary\":{\"bgcolor\":\"#E5ECF6\",\"aaxis\":{\"gridcolor\":\"white\",\"linecolor\":\"white\",\"ticks\":\"\"},\"baxis\":{\"gridcolor\":\"white\",\"linecolor\":\"white\",\"ticks\":\"\"},\"caxis\":{\"gridcolor\":\"white\",\"linecolor\":\"white\",\"ticks\":\"\"}},\"coloraxis\":{\"colorbar\":{\"outlinewidth\":0,\"ticks\":\"\"}},\"colorscale\":{\"sequential\":[[0.0,\"#0d0887\"],[0.1111111111111111,\"#46039f\"],[0.2222222222222222,\"#7201a8\"],[0.3333333333333333,\"#9c179e\"],[0.4444444444444444,\"#bd3786\"],[0.5555555555555556,\"#d8576b\"],[0.6666666666666666,\"#ed7953\"],[0.7777777777777778,\"#fb9f3a\"],[0.8888888888888888,\"#fdca26\"],[1.0,\"#f0f921\"]],\"sequentialminus\":[[0.0,\"#0d0887\"],[0.1111111111111111,\"#46039f\"],[0.2222222222222222,\"#7201a8\"],[0.3333333333333333,\"#9c179e\"],[0.4444444444444444,\"#bd3786\"],[0.5555555555555556,\"#d8576b\"],[0.6666666666666666,\"#ed7953\"],[0.7777777777777778,\"#fb9f3a\"],[0.8888888888888888,\"#fdca26\"],[1.0,\"#f0f921\"]],\"diverging\":[[0,\"#8e0152\"],[0.1,\"#c51b7d\"],[0.2,\"#de77ae\"],[0.3,\"#f1b6da\"],[0.4,\"#fde0ef\"],[0.5,\"#f7f7f7\"],[0.6,\"#e6f5d0\"],[0.7,\"#b8e186\"],[0.8,\"#7fbc41\"],[0.9,\"#4d9221\"],[1,\"#276419\"]]},\"xaxis\":{\"gridcolor\":\"white\",\"linecolor\":\"white\",\"ticks\":\"\",\"title\":{\"standoff\":15},\"zerolinecolor\":\"white\",\"automargin\":true,\"zerolinewidth\":2},\"yaxis\":{\"gridcolor\":\"white\",\"linecolor\":\"white\",\"ticks\":\"\",\"title\":{\"standoff\":15},\"zerolinecolor\":\"white\",\"automargin\":true,\"zerolinewidth\":2},\"scene\":{\"xaxis\":{\"backgroundcolor\":\"#E5ECF6\",\"gridcolor\":\"white\",\"linecolor\":\"white\",\"showbackground\":true,\"ticks\":\"\",\"zerolinecolor\":\"white\",\"gridwidth\":2},\"yaxis\":{\"backgroundcolor\":\"#E5ECF6\",\"gridcolor\":\"white\",\"linecolor\":\"white\",\"showbackground\":true,\"ticks\":\"\",\"zerolinecolor\":\"white\",\"gridwidth\":2},\"zaxis\":{\"backgroundcolor\":\"#E5ECF6\",\"gridcolor\":\"white\",\"linecolor\":\"white\",\"showbackground\":true,\"ticks\":\"\",\"zerolinecolor\":\"white\",\"gridwidth\":2}},\"shapedefaults\":{\"line\":{\"color\":\"#2a3f5f\"}},\"annotationdefaults\":{\"arrowcolor\":\"#2a3f5f\",\"arrowhead\":0,\"arrowwidth\":1},\"geo\":{\"bgcolor\":\"white\",\"landcolor\":\"#E5ECF6\",\"subunitcolor\":\"white\",\"showland\":true,\"showlakes\":true,\"lakecolor\":\"white\"},\"title\":{\"x\":0.05},\"mapbox\":{\"style\":\"light\"}}},\"xaxis\":{\"anchor\":\"y\",\"domain\":[0.0,1.0],\"title\":{\"text\":\"city\"}},\"yaxis\":{\"anchor\":\"x\",\"domain\":[0.0,1.0],\"title\":{\"text\":\"count\"}},\"legend\":{\"title\":{\"text\":\"provider_type\"},\"tracegroupgap\":0},\"title\":{\"text\":\"📊 City vs Provider Type\"},\"barmode\":\"stack\"},                        {\"responsive\": true}                    ).then(function(){\n",
              "                            \n",
              "var gd = document.getElementById('034bf97f-1584-4e84-942a-9f2cf958cdf2');\n",
              "var x = new MutationObserver(function (mutations, observer) {{\n",
              "        var display = window.getComputedStyle(gd).display;\n",
              "        if (!display || display === 'none') {{\n",
              "            console.log([gd, 'removed!']);\n",
              "            Plotly.purge(gd);\n",
              "            observer.disconnect();\n",
              "        }}\n",
              "}});\n",
              "\n",
              "// Listen for the removal of the full notebook cells\n",
              "var notebookContainer = gd.closest('#notebook-container');\n",
              "if (notebookContainer) {{\n",
              "    x.observe(notebookContainer, {childList: true});\n",
              "}}\n",
              "\n",
              "// Listen for the clearing of the current output cell\n",
              "var outputEl = gd.closest('.output');\n",
              "if (outputEl) {{\n",
              "    x.observe(outputEl, {childList: true});\n",
              "}}\n",
              "\n",
              "                        })                };                            </script>        </div>\n",
              "</body>\n",
              "</html>"
            ]
          },
          "metadata": {}
        }
      ]
    },
    {
      "cell_type": "markdown",
      "source": [
        "**1️⃣ Why did you pick the specific chart?**\n",
        "\n",
        "👉 A grouped bar chart is chosen because it shows the distribution of provider types across different cities, making it easier to compare categories within each city.\n",
        "\n",
        "**2️⃣ Insights from the chart:**\n",
        "\n",
        "- 🏬 Each city has contributions from different provider types (Catering, Grocery, Supermarket, Restaurant).\n",
        "\n",
        "- 📊 Some cities have a dominant provider type, while others show more balanced mixes.\n",
        "\n",
        "- 🌍 Wide variation across cities indicates geographical differences in supply sources.\n",
        "\n",
        "**3️⃣ Business Impact:**\n",
        "- ✅ Positive: Helps identify which cities rely on which provider types, guiding location-based strategy.\n",
        "- ⚠️ Negative: Over-reliance on a single provider type in certain cities may increase vulnerability if that type reduces participation."
      ],
      "metadata": {
        "id": "Nu3M6Lu04NGY"
      }
    },
    {
      "cell_type": "markdown",
      "source": [
        "### 3. Time Series Analysis"
      ],
      "metadata": {
        "id": "th4MCJ4tnH4b"
      }
    },
    {
      "cell_type": "markdown",
      "source": [
        "#### 1. Line Chart : Claims Per day"
      ],
      "metadata": {
        "id": "yiAF4fzWnTkg"
      }
    },
    {
      "cell_type": "code",
      "source": [
        "# 📅 Claims per Day\n",
        "df = pd.read_sql(\"\"\"\n",
        "SELECT DATE(timestamp) as claim_date, COUNT(*) as total_claims\n",
        "FROM claims GROUP BY claim_date\n",
        "\"\"\", engine)"
      ],
      "metadata": {
        "id": "sFBuLSLJnZeF"
      },
      "execution_count": null,
      "outputs": []
    },
    {
      "cell_type": "code",
      "source": [
        "fig = px.line(df, x=\"claim_date\", y=\"total_claims\", markers=True,\n",
        "              title=\"📅 Claims per Day\")\n",
        "fig.show()"
      ],
      "metadata": {
        "colab": {
          "base_uri": "https://localhost:8080/",
          "height": 542
        },
        "id": "Kgo0Xe5kndAm",
        "outputId": "0dc97b56-2b88-463f-bf55-330b1bcc0a60"
      },
      "execution_count": null,
      "outputs": [
        {
          "output_type": "display_data",
          "data": {
            "text/html": [
              "<html>\n",
              "<head><meta charset=\"utf-8\" /></head>\n",
              "<body>\n",
              "    <div>            <script src=\"https://cdnjs.cloudflare.com/ajax/libs/mathjax/2.7.5/MathJax.js?config=TeX-AMS-MML_SVG\"></script><script type=\"text/javascript\">if (window.MathJax && window.MathJax.Hub && window.MathJax.Hub.Config) {window.MathJax.Hub.Config({SVG: {font: \"STIX-Web\"}});}</script>                <script type=\"text/javascript\">window.PlotlyConfig = {MathJaxConfig: 'local'};</script>\n",
              "        <script charset=\"utf-8\" src=\"https://cdn.plot.ly/plotly-2.35.2.min.js\"></script>                <div id=\"4c920524-12a0-4c4b-9f25-63c2ad08fbc8\" class=\"plotly-graph-div\" style=\"height:525px; width:100%;\"></div>            <script type=\"text/javascript\">                                    window.PLOTLYENV=window.PLOTLYENV || {};                                    if (document.getElementById(\"4c920524-12a0-4c4b-9f25-63c2ad08fbc8\")) {                    Plotly.newPlot(                        \"4c920524-12a0-4c4b-9f25-63c2ad08fbc8\",                        [{\"hovertemplate\":\"claim_date=%{x}\\u003cbr\\u003etotal_claims=%{y}\\u003cextra\\u003e\\u003c\\u002fextra\\u003e\",\"legendgroup\":\"\",\"line\":{\"color\":\"#636efa\",\"dash\":\"solid\"},\"marker\":{\"symbol\":\"circle\"},\"mode\":\"lines+markers\",\"name\":\"\",\"orientation\":\"v\",\"showlegend\":false,\"x\":[\"2025-03-01\",\"2025-03-02\",\"2025-03-03\",\"2025-03-04\",\"2025-03-05\",\"2025-03-06\",\"2025-03-07\",\"2025-03-08\",\"2025-03-09\",\"2025-03-10\",\"2025-03-11\",\"2025-03-12\",\"2025-03-13\",\"2025-03-14\",\"2025-03-15\",\"2025-03-16\",\"2025-03-17\",\"2025-03-18\",\"2025-03-19\",\"2025-03-20\",\"2025-03-21\"],\"xaxis\":\"x\",\"y\":[40,47,46,44,47,37,53,56,40,60,44,52,62,51,51,45,54,57,50,45,19],\"yaxis\":\"y\",\"type\":\"scatter\"}],                        {\"template\":{\"data\":{\"histogram2dcontour\":[{\"type\":\"histogram2dcontour\",\"colorbar\":{\"outlinewidth\":0,\"ticks\":\"\"},\"colorscale\":[[0.0,\"#0d0887\"],[0.1111111111111111,\"#46039f\"],[0.2222222222222222,\"#7201a8\"],[0.3333333333333333,\"#9c179e\"],[0.4444444444444444,\"#bd3786\"],[0.5555555555555556,\"#d8576b\"],[0.6666666666666666,\"#ed7953\"],[0.7777777777777778,\"#fb9f3a\"],[0.8888888888888888,\"#fdca26\"],[1.0,\"#f0f921\"]]}],\"choropleth\":[{\"type\":\"choropleth\",\"colorbar\":{\"outlinewidth\":0,\"ticks\":\"\"}}],\"histogram2d\":[{\"type\":\"histogram2d\",\"colorbar\":{\"outlinewidth\":0,\"ticks\":\"\"},\"colorscale\":[[0.0,\"#0d0887\"],[0.1111111111111111,\"#46039f\"],[0.2222222222222222,\"#7201a8\"],[0.3333333333333333,\"#9c179e\"],[0.4444444444444444,\"#bd3786\"],[0.5555555555555556,\"#d8576b\"],[0.6666666666666666,\"#ed7953\"],[0.7777777777777778,\"#fb9f3a\"],[0.8888888888888888,\"#fdca26\"],[1.0,\"#f0f921\"]]}],\"heatmap\":[{\"type\":\"heatmap\",\"colorbar\":{\"outlinewidth\":0,\"ticks\":\"\"},\"colorscale\":[[0.0,\"#0d0887\"],[0.1111111111111111,\"#46039f\"],[0.2222222222222222,\"#7201a8\"],[0.3333333333333333,\"#9c179e\"],[0.4444444444444444,\"#bd3786\"],[0.5555555555555556,\"#d8576b\"],[0.6666666666666666,\"#ed7953\"],[0.7777777777777778,\"#fb9f3a\"],[0.8888888888888888,\"#fdca26\"],[1.0,\"#f0f921\"]]}],\"heatmapgl\":[{\"type\":\"heatmapgl\",\"colorbar\":{\"outlinewidth\":0,\"ticks\":\"\"},\"colorscale\":[[0.0,\"#0d0887\"],[0.1111111111111111,\"#46039f\"],[0.2222222222222222,\"#7201a8\"],[0.3333333333333333,\"#9c179e\"],[0.4444444444444444,\"#bd3786\"],[0.5555555555555556,\"#d8576b\"],[0.6666666666666666,\"#ed7953\"],[0.7777777777777778,\"#fb9f3a\"],[0.8888888888888888,\"#fdca26\"],[1.0,\"#f0f921\"]]}],\"contourcarpet\":[{\"type\":\"contourcarpet\",\"colorbar\":{\"outlinewidth\":0,\"ticks\":\"\"}}],\"contour\":[{\"type\":\"contour\",\"colorbar\":{\"outlinewidth\":0,\"ticks\":\"\"},\"colorscale\":[[0.0,\"#0d0887\"],[0.1111111111111111,\"#46039f\"],[0.2222222222222222,\"#7201a8\"],[0.3333333333333333,\"#9c179e\"],[0.4444444444444444,\"#bd3786\"],[0.5555555555555556,\"#d8576b\"],[0.6666666666666666,\"#ed7953\"],[0.7777777777777778,\"#fb9f3a\"],[0.8888888888888888,\"#fdca26\"],[1.0,\"#f0f921\"]]}],\"surface\":[{\"type\":\"surface\",\"colorbar\":{\"outlinewidth\":0,\"ticks\":\"\"},\"colorscale\":[[0.0,\"#0d0887\"],[0.1111111111111111,\"#46039f\"],[0.2222222222222222,\"#7201a8\"],[0.3333333333333333,\"#9c179e\"],[0.4444444444444444,\"#bd3786\"],[0.5555555555555556,\"#d8576b\"],[0.6666666666666666,\"#ed7953\"],[0.7777777777777778,\"#fb9f3a\"],[0.8888888888888888,\"#fdca26\"],[1.0,\"#f0f921\"]]}],\"mesh3d\":[{\"type\":\"mesh3d\",\"colorbar\":{\"outlinewidth\":0,\"ticks\":\"\"}}],\"scatter\":[{\"fillpattern\":{\"fillmode\":\"overlay\",\"size\":10,\"solidity\":0.2},\"type\":\"scatter\"}],\"parcoords\":[{\"type\":\"parcoords\",\"line\":{\"colorbar\":{\"outlinewidth\":0,\"ticks\":\"\"}}}],\"scatterpolargl\":[{\"type\":\"scatterpolargl\",\"marker\":{\"colorbar\":{\"outlinewidth\":0,\"ticks\":\"\"}}}],\"bar\":[{\"error_x\":{\"color\":\"#2a3f5f\"},\"error_y\":{\"color\":\"#2a3f5f\"},\"marker\":{\"line\":{\"color\":\"#E5ECF6\",\"width\":0.5},\"pattern\":{\"fillmode\":\"overlay\",\"size\":10,\"solidity\":0.2}},\"type\":\"bar\"}],\"scattergeo\":[{\"type\":\"scattergeo\",\"marker\":{\"colorbar\":{\"outlinewidth\":0,\"ticks\":\"\"}}}],\"scatterpolar\":[{\"type\":\"scatterpolar\",\"marker\":{\"colorbar\":{\"outlinewidth\":0,\"ticks\":\"\"}}}],\"histogram\":[{\"marker\":{\"pattern\":{\"fillmode\":\"overlay\",\"size\":10,\"solidity\":0.2}},\"type\":\"histogram\"}],\"scattergl\":[{\"type\":\"scattergl\",\"marker\":{\"colorbar\":{\"outlinewidth\":0,\"ticks\":\"\"}}}],\"scatter3d\":[{\"type\":\"scatter3d\",\"line\":{\"colorbar\":{\"outlinewidth\":0,\"ticks\":\"\"}},\"marker\":{\"colorbar\":{\"outlinewidth\":0,\"ticks\":\"\"}}}],\"scattermapbox\":[{\"type\":\"scattermapbox\",\"marker\":{\"colorbar\":{\"outlinewidth\":0,\"ticks\":\"\"}}}],\"scatterternary\":[{\"type\":\"scatterternary\",\"marker\":{\"colorbar\":{\"outlinewidth\":0,\"ticks\":\"\"}}}],\"scattercarpet\":[{\"type\":\"scattercarpet\",\"marker\":{\"colorbar\":{\"outlinewidth\":0,\"ticks\":\"\"}}}],\"carpet\":[{\"aaxis\":{\"endlinecolor\":\"#2a3f5f\",\"gridcolor\":\"white\",\"linecolor\":\"white\",\"minorgridcolor\":\"white\",\"startlinecolor\":\"#2a3f5f\"},\"baxis\":{\"endlinecolor\":\"#2a3f5f\",\"gridcolor\":\"white\",\"linecolor\":\"white\",\"minorgridcolor\":\"white\",\"startlinecolor\":\"#2a3f5f\"},\"type\":\"carpet\"}],\"table\":[{\"cells\":{\"fill\":{\"color\":\"#EBF0F8\"},\"line\":{\"color\":\"white\"}},\"header\":{\"fill\":{\"color\":\"#C8D4E3\"},\"line\":{\"color\":\"white\"}},\"type\":\"table\"}],\"barpolar\":[{\"marker\":{\"line\":{\"color\":\"#E5ECF6\",\"width\":0.5},\"pattern\":{\"fillmode\":\"overlay\",\"size\":10,\"solidity\":0.2}},\"type\":\"barpolar\"}],\"pie\":[{\"automargin\":true,\"type\":\"pie\"}]},\"layout\":{\"autotypenumbers\":\"strict\",\"colorway\":[\"#636efa\",\"#EF553B\",\"#00cc96\",\"#ab63fa\",\"#FFA15A\",\"#19d3f3\",\"#FF6692\",\"#B6E880\",\"#FF97FF\",\"#FECB52\"],\"font\":{\"color\":\"#2a3f5f\"},\"hovermode\":\"closest\",\"hoverlabel\":{\"align\":\"left\"},\"paper_bgcolor\":\"white\",\"plot_bgcolor\":\"#E5ECF6\",\"polar\":{\"bgcolor\":\"#E5ECF6\",\"angularaxis\":{\"gridcolor\":\"white\",\"linecolor\":\"white\",\"ticks\":\"\"},\"radialaxis\":{\"gridcolor\":\"white\",\"linecolor\":\"white\",\"ticks\":\"\"}},\"ternary\":{\"bgcolor\":\"#E5ECF6\",\"aaxis\":{\"gridcolor\":\"white\",\"linecolor\":\"white\",\"ticks\":\"\"},\"baxis\":{\"gridcolor\":\"white\",\"linecolor\":\"white\",\"ticks\":\"\"},\"caxis\":{\"gridcolor\":\"white\",\"linecolor\":\"white\",\"ticks\":\"\"}},\"coloraxis\":{\"colorbar\":{\"outlinewidth\":0,\"ticks\":\"\"}},\"colorscale\":{\"sequential\":[[0.0,\"#0d0887\"],[0.1111111111111111,\"#46039f\"],[0.2222222222222222,\"#7201a8\"],[0.3333333333333333,\"#9c179e\"],[0.4444444444444444,\"#bd3786\"],[0.5555555555555556,\"#d8576b\"],[0.6666666666666666,\"#ed7953\"],[0.7777777777777778,\"#fb9f3a\"],[0.8888888888888888,\"#fdca26\"],[1.0,\"#f0f921\"]],\"sequentialminus\":[[0.0,\"#0d0887\"],[0.1111111111111111,\"#46039f\"],[0.2222222222222222,\"#7201a8\"],[0.3333333333333333,\"#9c179e\"],[0.4444444444444444,\"#bd3786\"],[0.5555555555555556,\"#d8576b\"],[0.6666666666666666,\"#ed7953\"],[0.7777777777777778,\"#fb9f3a\"],[0.8888888888888888,\"#fdca26\"],[1.0,\"#f0f921\"]],\"diverging\":[[0,\"#8e0152\"],[0.1,\"#c51b7d\"],[0.2,\"#de77ae\"],[0.3,\"#f1b6da\"],[0.4,\"#fde0ef\"],[0.5,\"#f7f7f7\"],[0.6,\"#e6f5d0\"],[0.7,\"#b8e186\"],[0.8,\"#7fbc41\"],[0.9,\"#4d9221\"],[1,\"#276419\"]]},\"xaxis\":{\"gridcolor\":\"white\",\"linecolor\":\"white\",\"ticks\":\"\",\"title\":{\"standoff\":15},\"zerolinecolor\":\"white\",\"automargin\":true,\"zerolinewidth\":2},\"yaxis\":{\"gridcolor\":\"white\",\"linecolor\":\"white\",\"ticks\":\"\",\"title\":{\"standoff\":15},\"zerolinecolor\":\"white\",\"automargin\":true,\"zerolinewidth\":2},\"scene\":{\"xaxis\":{\"backgroundcolor\":\"#E5ECF6\",\"gridcolor\":\"white\",\"linecolor\":\"white\",\"showbackground\":true,\"ticks\":\"\",\"zerolinecolor\":\"white\",\"gridwidth\":2},\"yaxis\":{\"backgroundcolor\":\"#E5ECF6\",\"gridcolor\":\"white\",\"linecolor\":\"white\",\"showbackground\":true,\"ticks\":\"\",\"zerolinecolor\":\"white\",\"gridwidth\":2},\"zaxis\":{\"backgroundcolor\":\"#E5ECF6\",\"gridcolor\":\"white\",\"linecolor\":\"white\",\"showbackground\":true,\"ticks\":\"\",\"zerolinecolor\":\"white\",\"gridwidth\":2}},\"shapedefaults\":{\"line\":{\"color\":\"#2a3f5f\"}},\"annotationdefaults\":{\"arrowcolor\":\"#2a3f5f\",\"arrowhead\":0,\"arrowwidth\":1},\"geo\":{\"bgcolor\":\"white\",\"landcolor\":\"#E5ECF6\",\"subunitcolor\":\"white\",\"showland\":true,\"showlakes\":true,\"lakecolor\":\"white\"},\"title\":{\"x\":0.05},\"mapbox\":{\"style\":\"light\"}}},\"xaxis\":{\"anchor\":\"y\",\"domain\":[0.0,1.0],\"title\":{\"text\":\"claim_date\"}},\"yaxis\":{\"anchor\":\"x\",\"domain\":[0.0,1.0],\"title\":{\"text\":\"total_claims\"}},\"legend\":{\"tracegroupgap\":0},\"title\":{\"text\":\"📅 Claims per Day\"}},                        {\"responsive\": true}                    ).then(function(){\n",
              "                            \n",
              "var gd = document.getElementById('4c920524-12a0-4c4b-9f25-63c2ad08fbc8');\n",
              "var x = new MutationObserver(function (mutations, observer) {{\n",
              "        var display = window.getComputedStyle(gd).display;\n",
              "        if (!display || display === 'none') {{\n",
              "            console.log([gd, 'removed!']);\n",
              "            Plotly.purge(gd);\n",
              "            observer.disconnect();\n",
              "        }}\n",
              "}});\n",
              "\n",
              "// Listen for the removal of the full notebook cells\n",
              "var notebookContainer = gd.closest('#notebook-container');\n",
              "if (notebookContainer) {{\n",
              "    x.observe(notebookContainer, {childList: true});\n",
              "}}\n",
              "\n",
              "// Listen for the clearing of the current output cell\n",
              "var outputEl = gd.closest('.output');\n",
              "if (outputEl) {{\n",
              "    x.observe(outputEl, {childList: true});\n",
              "}}\n",
              "\n",
              "                        })                };                            </script>        </div>\n",
              "</body>\n",
              "</html>"
            ]
          },
          "metadata": {}
        }
      ]
    },
    {
      "cell_type": "markdown",
      "source": [
        "**1️⃣ Why did you pick the specific chart?**\n",
        "\n",
        "👉 A line chart is best here because it shows how the number of claims changes over time, capturing daily trends and fluctuations.\n",
        "\n",
        "**2️⃣ Insights from the chart:**\n",
        "\n",
        "- 📊 Claims fluctuate daily between ~40 to 60, with a few peaks above 60.\n",
        "\n",
        "- ⬆️ The highest spike occurred around March 13 (62 claims).\n",
        "\n",
        "- 📉 A significant drop appears at the end (March 21 ~19 claims).\n",
        "\n",
        "- 🔹 The pattern suggests high demand cycles followed by sudden dips.\n",
        "\n",
        "**3️⃣ Business Impact:**\n",
        "- ✅ Positive: Helps forecast high-demand days and allocate resources effectively.\n",
        "- ⚠️ Negative: The sharp drop at the end could indicate supply shortages, reduced engagement, or reporting delays."
      ],
      "metadata": {
        "id": "N8kuRiI65ghg"
      }
    },
    {
      "cell_type": "markdown",
      "source": [
        "#### 2. Line Chart : Avg Quantity Donated"
      ],
      "metadata": {
        "id": "aHnLWL7HnnzY"
      }
    },
    {
      "cell_type": "code",
      "source": [
        "# 📈 Avg Quantity Donated Over Time\n",
        "df = pd.read_sql(\"\"\"\n",
        "SELECT expiry_date, AVG(quantity) as avg_quantity\n",
        "FROM food_listings GROUP BY expiry_date\n",
        "\"\"\", engine)"
      ],
      "metadata": {
        "id": "5EKNIxc-nuLq"
      },
      "execution_count": null,
      "outputs": []
    },
    {
      "cell_type": "code",
      "source": [
        "fig = px.line(df, x=\"expiry_date\", y=\"avg_quantity\", markers=True,\n",
        "              title=\"📈 Avg Quantity Donated Over Time\")\n",
        "fig.show()"
      ],
      "metadata": {
        "colab": {
          "base_uri": "https://localhost:8080/",
          "height": 542
        },
        "id": "AhgZ-41InwKM",
        "outputId": "a2385556-dd37-4509-bc38-4538c5b500b2"
      },
      "execution_count": null,
      "outputs": [
        {
          "output_type": "display_data",
          "data": {
            "text/html": [
              "<html>\n",
              "<head><meta charset=\"utf-8\" /></head>\n",
              "<body>\n",
              "    <div>            <script src=\"https://cdnjs.cloudflare.com/ajax/libs/mathjax/2.7.5/MathJax.js?config=TeX-AMS-MML_SVG\"></script><script type=\"text/javascript\">if (window.MathJax && window.MathJax.Hub && window.MathJax.Hub.Config) {window.MathJax.Hub.Config({SVG: {font: \"STIX-Web\"}});}</script>                <script type=\"text/javascript\">window.PlotlyConfig = {MathJaxConfig: 'local'};</script>\n",
              "        <script charset=\"utf-8\" src=\"https://cdn.plot.ly/plotly-2.35.2.min.js\"></script>                <div id=\"7a47c31f-0ba2-4c3a-8161-50b0634817ca\" class=\"plotly-graph-div\" style=\"height:525px; width:100%;\"></div>            <script type=\"text/javascript\">                                    window.PLOTLYENV=window.PLOTLYENV || {};                                    if (document.getElementById(\"7a47c31f-0ba2-4c3a-8161-50b0634817ca\")) {                    Plotly.newPlot(                        \"7a47c31f-0ba2-4c3a-8161-50b0634817ca\",                        [{\"hovertemplate\":\"expiry_date=%{x}\\u003cbr\\u003eavg_quantity=%{y}\\u003cextra\\u003e\\u003c\\u002fextra\\u003e\",\"legendgroup\":\"\",\"line\":{\"color\":\"#636efa\",\"dash\":\"solid\"},\"marker\":{\"symbol\":\"circle\"},\"mode\":\"lines+markers\",\"name\":\"\",\"orientation\":\"v\",\"showlegend\":false,\"x\":[\"2025-03-16\",\"2025-03-17\",\"2025-03-18\",\"2025-03-19\",\"2025-03-20\",\"2025-03-21\",\"2025-03-22\",\"2025-03-23\",\"2025-03-24\",\"2025-03-25\",\"2025-03-26\",\"2025-03-27\",\"2025-03-28\",\"2025-03-29\",\"2025-03-30\"],\"xaxis\":\"x\",\"y\":[25.39344262295082,27.47887323943662,26.363636363636363,26.352941176470587,25.616438356164384,28.12962962962963,25.973684210526315,24.553846153846155,26.210526315789473,25.5,21.618181818181817,23.614285714285714,26.0,28.695652173913043,24.9],\"yaxis\":\"y\",\"type\":\"scatter\"}],                        {\"template\":{\"data\":{\"histogram2dcontour\":[{\"type\":\"histogram2dcontour\",\"colorbar\":{\"outlinewidth\":0,\"ticks\":\"\"},\"colorscale\":[[0.0,\"#0d0887\"],[0.1111111111111111,\"#46039f\"],[0.2222222222222222,\"#7201a8\"],[0.3333333333333333,\"#9c179e\"],[0.4444444444444444,\"#bd3786\"],[0.5555555555555556,\"#d8576b\"],[0.6666666666666666,\"#ed7953\"],[0.7777777777777778,\"#fb9f3a\"],[0.8888888888888888,\"#fdca26\"],[1.0,\"#f0f921\"]]}],\"choropleth\":[{\"type\":\"choropleth\",\"colorbar\":{\"outlinewidth\":0,\"ticks\":\"\"}}],\"histogram2d\":[{\"type\":\"histogram2d\",\"colorbar\":{\"outlinewidth\":0,\"ticks\":\"\"},\"colorscale\":[[0.0,\"#0d0887\"],[0.1111111111111111,\"#46039f\"],[0.2222222222222222,\"#7201a8\"],[0.3333333333333333,\"#9c179e\"],[0.4444444444444444,\"#bd3786\"],[0.5555555555555556,\"#d8576b\"],[0.6666666666666666,\"#ed7953\"],[0.7777777777777778,\"#fb9f3a\"],[0.8888888888888888,\"#fdca26\"],[1.0,\"#f0f921\"]]}],\"heatmap\":[{\"type\":\"heatmap\",\"colorbar\":{\"outlinewidth\":0,\"ticks\":\"\"},\"colorscale\":[[0.0,\"#0d0887\"],[0.1111111111111111,\"#46039f\"],[0.2222222222222222,\"#7201a8\"],[0.3333333333333333,\"#9c179e\"],[0.4444444444444444,\"#bd3786\"],[0.5555555555555556,\"#d8576b\"],[0.6666666666666666,\"#ed7953\"],[0.7777777777777778,\"#fb9f3a\"],[0.8888888888888888,\"#fdca26\"],[1.0,\"#f0f921\"]]}],\"heatmapgl\":[{\"type\":\"heatmapgl\",\"colorbar\":{\"outlinewidth\":0,\"ticks\":\"\"},\"colorscale\":[[0.0,\"#0d0887\"],[0.1111111111111111,\"#46039f\"],[0.2222222222222222,\"#7201a8\"],[0.3333333333333333,\"#9c179e\"],[0.4444444444444444,\"#bd3786\"],[0.5555555555555556,\"#d8576b\"],[0.6666666666666666,\"#ed7953\"],[0.7777777777777778,\"#fb9f3a\"],[0.8888888888888888,\"#fdca26\"],[1.0,\"#f0f921\"]]}],\"contourcarpet\":[{\"type\":\"contourcarpet\",\"colorbar\":{\"outlinewidth\":0,\"ticks\":\"\"}}],\"contour\":[{\"type\":\"contour\",\"colorbar\":{\"outlinewidth\":0,\"ticks\":\"\"},\"colorscale\":[[0.0,\"#0d0887\"],[0.1111111111111111,\"#46039f\"],[0.2222222222222222,\"#7201a8\"],[0.3333333333333333,\"#9c179e\"],[0.4444444444444444,\"#bd3786\"],[0.5555555555555556,\"#d8576b\"],[0.6666666666666666,\"#ed7953\"],[0.7777777777777778,\"#fb9f3a\"],[0.8888888888888888,\"#fdca26\"],[1.0,\"#f0f921\"]]}],\"surface\":[{\"type\":\"surface\",\"colorbar\":{\"outlinewidth\":0,\"ticks\":\"\"},\"colorscale\":[[0.0,\"#0d0887\"],[0.1111111111111111,\"#46039f\"],[0.2222222222222222,\"#7201a8\"],[0.3333333333333333,\"#9c179e\"],[0.4444444444444444,\"#bd3786\"],[0.5555555555555556,\"#d8576b\"],[0.6666666666666666,\"#ed7953\"],[0.7777777777777778,\"#fb9f3a\"],[0.8888888888888888,\"#fdca26\"],[1.0,\"#f0f921\"]]}],\"mesh3d\":[{\"type\":\"mesh3d\",\"colorbar\":{\"outlinewidth\":0,\"ticks\":\"\"}}],\"scatter\":[{\"fillpattern\":{\"fillmode\":\"overlay\",\"size\":10,\"solidity\":0.2},\"type\":\"scatter\"}],\"parcoords\":[{\"type\":\"parcoords\",\"line\":{\"colorbar\":{\"outlinewidth\":0,\"ticks\":\"\"}}}],\"scatterpolargl\":[{\"type\":\"scatterpolargl\",\"marker\":{\"colorbar\":{\"outlinewidth\":0,\"ticks\":\"\"}}}],\"bar\":[{\"error_x\":{\"color\":\"#2a3f5f\"},\"error_y\":{\"color\":\"#2a3f5f\"},\"marker\":{\"line\":{\"color\":\"#E5ECF6\",\"width\":0.5},\"pattern\":{\"fillmode\":\"overlay\",\"size\":10,\"solidity\":0.2}},\"type\":\"bar\"}],\"scattergeo\":[{\"type\":\"scattergeo\",\"marker\":{\"colorbar\":{\"outlinewidth\":0,\"ticks\":\"\"}}}],\"scatterpolar\":[{\"type\":\"scatterpolar\",\"marker\":{\"colorbar\":{\"outlinewidth\":0,\"ticks\":\"\"}}}],\"histogram\":[{\"marker\":{\"pattern\":{\"fillmode\":\"overlay\",\"size\":10,\"solidity\":0.2}},\"type\":\"histogram\"}],\"scattergl\":[{\"type\":\"scattergl\",\"marker\":{\"colorbar\":{\"outlinewidth\":0,\"ticks\":\"\"}}}],\"scatter3d\":[{\"type\":\"scatter3d\",\"line\":{\"colorbar\":{\"outlinewidth\":0,\"ticks\":\"\"}},\"marker\":{\"colorbar\":{\"outlinewidth\":0,\"ticks\":\"\"}}}],\"scattermapbox\":[{\"type\":\"scattermapbox\",\"marker\":{\"colorbar\":{\"outlinewidth\":0,\"ticks\":\"\"}}}],\"scatterternary\":[{\"type\":\"scatterternary\",\"marker\":{\"colorbar\":{\"outlinewidth\":0,\"ticks\":\"\"}}}],\"scattercarpet\":[{\"type\":\"scattercarpet\",\"marker\":{\"colorbar\":{\"outlinewidth\":0,\"ticks\":\"\"}}}],\"carpet\":[{\"aaxis\":{\"endlinecolor\":\"#2a3f5f\",\"gridcolor\":\"white\",\"linecolor\":\"white\",\"minorgridcolor\":\"white\",\"startlinecolor\":\"#2a3f5f\"},\"baxis\":{\"endlinecolor\":\"#2a3f5f\",\"gridcolor\":\"white\",\"linecolor\":\"white\",\"minorgridcolor\":\"white\",\"startlinecolor\":\"#2a3f5f\"},\"type\":\"carpet\"}],\"table\":[{\"cells\":{\"fill\":{\"color\":\"#EBF0F8\"},\"line\":{\"color\":\"white\"}},\"header\":{\"fill\":{\"color\":\"#C8D4E3\"},\"line\":{\"color\":\"white\"}},\"type\":\"table\"}],\"barpolar\":[{\"marker\":{\"line\":{\"color\":\"#E5ECF6\",\"width\":0.5},\"pattern\":{\"fillmode\":\"overlay\",\"size\":10,\"solidity\":0.2}},\"type\":\"barpolar\"}],\"pie\":[{\"automargin\":true,\"type\":\"pie\"}]},\"layout\":{\"autotypenumbers\":\"strict\",\"colorway\":[\"#636efa\",\"#EF553B\",\"#00cc96\",\"#ab63fa\",\"#FFA15A\",\"#19d3f3\",\"#FF6692\",\"#B6E880\",\"#FF97FF\",\"#FECB52\"],\"font\":{\"color\":\"#2a3f5f\"},\"hovermode\":\"closest\",\"hoverlabel\":{\"align\":\"left\"},\"paper_bgcolor\":\"white\",\"plot_bgcolor\":\"#E5ECF6\",\"polar\":{\"bgcolor\":\"#E5ECF6\",\"angularaxis\":{\"gridcolor\":\"white\",\"linecolor\":\"white\",\"ticks\":\"\"},\"radialaxis\":{\"gridcolor\":\"white\",\"linecolor\":\"white\",\"ticks\":\"\"}},\"ternary\":{\"bgcolor\":\"#E5ECF6\",\"aaxis\":{\"gridcolor\":\"white\",\"linecolor\":\"white\",\"ticks\":\"\"},\"baxis\":{\"gridcolor\":\"white\",\"linecolor\":\"white\",\"ticks\":\"\"},\"caxis\":{\"gridcolor\":\"white\",\"linecolor\":\"white\",\"ticks\":\"\"}},\"coloraxis\":{\"colorbar\":{\"outlinewidth\":0,\"ticks\":\"\"}},\"colorscale\":{\"sequential\":[[0.0,\"#0d0887\"],[0.1111111111111111,\"#46039f\"],[0.2222222222222222,\"#7201a8\"],[0.3333333333333333,\"#9c179e\"],[0.4444444444444444,\"#bd3786\"],[0.5555555555555556,\"#d8576b\"],[0.6666666666666666,\"#ed7953\"],[0.7777777777777778,\"#fb9f3a\"],[0.8888888888888888,\"#fdca26\"],[1.0,\"#f0f921\"]],\"sequentialminus\":[[0.0,\"#0d0887\"],[0.1111111111111111,\"#46039f\"],[0.2222222222222222,\"#7201a8\"],[0.3333333333333333,\"#9c179e\"],[0.4444444444444444,\"#bd3786\"],[0.5555555555555556,\"#d8576b\"],[0.6666666666666666,\"#ed7953\"],[0.7777777777777778,\"#fb9f3a\"],[0.8888888888888888,\"#fdca26\"],[1.0,\"#f0f921\"]],\"diverging\":[[0,\"#8e0152\"],[0.1,\"#c51b7d\"],[0.2,\"#de77ae\"],[0.3,\"#f1b6da\"],[0.4,\"#fde0ef\"],[0.5,\"#f7f7f7\"],[0.6,\"#e6f5d0\"],[0.7,\"#b8e186\"],[0.8,\"#7fbc41\"],[0.9,\"#4d9221\"],[1,\"#276419\"]]},\"xaxis\":{\"gridcolor\":\"white\",\"linecolor\":\"white\",\"ticks\":\"\",\"title\":{\"standoff\":15},\"zerolinecolor\":\"white\",\"automargin\":true,\"zerolinewidth\":2},\"yaxis\":{\"gridcolor\":\"white\",\"linecolor\":\"white\",\"ticks\":\"\",\"title\":{\"standoff\":15},\"zerolinecolor\":\"white\",\"automargin\":true,\"zerolinewidth\":2},\"scene\":{\"xaxis\":{\"backgroundcolor\":\"#E5ECF6\",\"gridcolor\":\"white\",\"linecolor\":\"white\",\"showbackground\":true,\"ticks\":\"\",\"zerolinecolor\":\"white\",\"gridwidth\":2},\"yaxis\":{\"backgroundcolor\":\"#E5ECF6\",\"gridcolor\":\"white\",\"linecolor\":\"white\",\"showbackground\":true,\"ticks\":\"\",\"zerolinecolor\":\"white\",\"gridwidth\":2},\"zaxis\":{\"backgroundcolor\":\"#E5ECF6\",\"gridcolor\":\"white\",\"linecolor\":\"white\",\"showbackground\":true,\"ticks\":\"\",\"zerolinecolor\":\"white\",\"gridwidth\":2}},\"shapedefaults\":{\"line\":{\"color\":\"#2a3f5f\"}},\"annotationdefaults\":{\"arrowcolor\":\"#2a3f5f\",\"arrowhead\":0,\"arrowwidth\":1},\"geo\":{\"bgcolor\":\"white\",\"landcolor\":\"#E5ECF6\",\"subunitcolor\":\"white\",\"showland\":true,\"showlakes\":true,\"lakecolor\":\"white\"},\"title\":{\"x\":0.05},\"mapbox\":{\"style\":\"light\"}}},\"xaxis\":{\"anchor\":\"y\",\"domain\":[0.0,1.0],\"title\":{\"text\":\"expiry_date\"}},\"yaxis\":{\"anchor\":\"x\",\"domain\":[0.0,1.0],\"title\":{\"text\":\"avg_quantity\"}},\"legend\":{\"tracegroupgap\":0},\"title\":{\"text\":\"📈 Avg Quantity Donated Over Time\"}},                        {\"responsive\": true}                    ).then(function(){\n",
              "                            \n",
              "var gd = document.getElementById('7a47c31f-0ba2-4c3a-8161-50b0634817ca');\n",
              "var x = new MutationObserver(function (mutations, observer) {{\n",
              "        var display = window.getComputedStyle(gd).display;\n",
              "        if (!display || display === 'none') {{\n",
              "            console.log([gd, 'removed!']);\n",
              "            Plotly.purge(gd);\n",
              "            observer.disconnect();\n",
              "        }}\n",
              "}});\n",
              "\n",
              "// Listen for the removal of the full notebook cells\n",
              "var notebookContainer = gd.closest('#notebook-container');\n",
              "if (notebookContainer) {{\n",
              "    x.observe(notebookContainer, {childList: true});\n",
              "}}\n",
              "\n",
              "// Listen for the clearing of the current output cell\n",
              "var outputEl = gd.closest('.output');\n",
              "if (outputEl) {{\n",
              "    x.observe(outputEl, {childList: true});\n",
              "}}\n",
              "\n",
              "                        })                };                            </script>        </div>\n",
              "</body>\n",
              "</html>"
            ]
          },
          "metadata": {}
        }
      ]
    },
    {
      "cell_type": "markdown",
      "source": [
        "**1️⃣ Why did you pick the specific chart?**\n",
        "\n",
        "👉 A line chart is chosen because it clearly shows how the average donated quantity changes day by day, capturing short-term trends and fluctuations.\n",
        "\n",
        "**2️⃣ Insights from the chart:**\n",
        "\n",
        "- 📊 Average donations mostly range between 24–28 units.\n",
        "\n",
        "- ⬆️ Peaks occur around March 17, March 21, and March 29 (highest ~29).\n",
        "\n",
        "- 📉 A sharp dip happens on March 26 (~21.7 units).\n",
        "\n",
        "- 🔄 The pattern shows regular ups and downs instead of a stable trend.\n",
        "\n",
        "**3️⃣ Business Impact:**\n",
        "- ✅ Positive: Helps forecast daily variations in donation sizes for better planning of storage and transport.\n",
        "- ⚠️ Negative: Sudden dips (like March 26) may cause shortages, while sharp peaks could create logistical strain."
      ],
      "metadata": {
        "id": "d6ncjbAX56C5"
      }
    },
    {
      "cell_type": "markdown",
      "source": [
        "### 4. Advanced EDA"
      ],
      "metadata": {
        "id": "JWedyQNTosLY"
      }
    },
    {
      "cell_type": "markdown",
      "source": [
        "#### 1. Pareto Analysis"
      ],
      "metadata": {
        "id": "uqBD3P1To6QC"
      }
    },
    {
      "cell_type": "code",
      "source": [
        "# 📊 Pareto Analysis\n",
        "df = pd.read_sql(\"\"\"\n",
        "SELECT provider_name, COUNT(*) as total_donations\n",
        "FROM full_donation_chain\n",
        "GROUP BY provider_name ORDER BY total_donations DESC\n",
        "\"\"\", engine)\n",
        "df[\"cum_perc\"] = df[\"total_donations\"].cumsum()/df[\"total_donations\"].sum()*100"
      ],
      "metadata": {
        "id": "pcojnohlov8P"
      },
      "execution_count": null,
      "outputs": []
    },
    {
      "cell_type": "code",
      "source": [
        "fig = px.bar(df, x=\"provider_name\", y=\"total_donations\",\n",
        "             title=\"📊 Pareto Analysis (80/20)\",\n",
        "             color=\"total_donations\")\n",
        "fig.add_scatter(x=df[\"provider_name\"], y=df[\"cum_perc\"], mode=\"lines+markers\", name=\"Cumulative %\")\n",
        "fig.show()"
      ],
      "metadata": {
        "colab": {
          "base_uri": "https://localhost:8080/",
          "height": 542
        },
        "id": "AqWVGKsTpDB8",
        "outputId": "22932147-f6b1-4253-a4d3-d41f142ec2c5"
      },
      "execution_count": null,
      "outputs": [
        {
          "output_type": "display_data",
          "data": {
            "text/html": [
              "<html>\n",
              "<head><meta charset=\"utf-8\" /></head>\n",
              "<body>\n",
              "    <div>            <script src=\"https://cdnjs.cloudflare.com/ajax/libs/mathjax/2.7.5/MathJax.js?config=TeX-AMS-MML_SVG\"></script><script type=\"text/javascript\">if (window.MathJax && window.MathJax.Hub && window.MathJax.Hub.Config) {window.MathJax.Hub.Config({SVG: {font: \"STIX-Web\"}});}</script>                <script type=\"text/javascript\">window.PlotlyConfig = {MathJaxConfig: 'local'};</script>\n",
              "        <script charset=\"utf-8\" src=\"https://cdn.plot.ly/plotly-2.35.2.min.js\"></script>                <div id=\"818979f8-cd5d-4c87-b0c4-0ea00d672921\" class=\"plotly-graph-div\" style=\"height:525px; width:100%;\"></div>            <script type=\"text/javascript\">                                    window.PLOTLYENV=window.PLOTLYENV || {};                                    if (document.getElementById(\"818979f8-cd5d-4c87-b0c4-0ea00d672921\")) {                    Plotly.newPlot(                        \"818979f8-cd5d-4c87-b0c4-0ea00d672921\",                        [{\"alignmentgroup\":\"True\",\"hovertemplate\":\"provider_name=%{x}\\u003cbr\\u003etotal_donations=%{marker.color}\\u003cextra\\u003e\\u003c\\u002fextra\\u003e\",\"legendgroup\":\"\",\"marker\":{\"color\":[12,9,9,7,7,6,6,6,6,6,6,5,5,5,5,5,5,5,5,5,5,5,5,5,5,5,5,5,5,4,4,4,4,4,4,4,4,4,4,4,4,4,4,4,4,4,4,4,4,4,4,4,4,4,4,4,4,4,4,4,4,3,3,3,3,3,3,3,3,3,3,3,3,3,3,3,3,3,3,3,3,3,3,3,3,3,3,3,3,3,3,3,3,3,3,3,3,3,3,3,3,3,3,3,3,3,3,3,3,3,3,3,3,3,3,3,3,3,3,3,3,3,3,3,3,3,3,3,3,3,3,3,3,3,3,3,3,3,3,2,2,2,2,2,2,2,2,2,2,2,2,2,2,2,2,2,2,2,2,2,2,2,2,2,2,2,2,2,2,2,2,2,2,2,2,2,2,2,2,2,2,2,2,2,2,2,2,2,2,2,2,2,2,2,2,2,2,2,2,2,2,2,2,2,2,2,2,2,2,2,2,2,2,2,2,2,2,2,2,2,2,2,2,2,2,2,2,2,2,2,2,2,2,2,2,2,2,2,2,2,2,2,2,2,2,2,2,2,2,2,2,2,2,2,2,2,2,2,2,2,2,2,2,2,2,2,2,2,2,2,2,2,2,2,2,2,2,2,2,2,1,1,1,1,1,1,1,1,1,1,1,1,1,1,1,1,1,1,1,1,1,1,1,1,1,1,1,1,1,1,1,1,1,1,1,1,1,1,1,1,1,1,1,1,1,1,1,1,1,1,1,1,1,1,1,1,1,1,1,1,1,1,1,1,1,1,1,1,1,1,1,1,1,1,1,1,1,1,1,1,1,1,1,1,1,1,1,1,1,1,1,1,1,1,1,1,1,1,1,1,1,1,1,1,1,1,1,1,1,1,1,1,1,1,1,1,1,1,1,1,1,1,1,1,1,1,1,1,1,1,1,1,1,1,1,1,1,1,1,1,1,1,1,1,1,1,1,1,1,1,1,1,1,1,1,1,1,1,1,1,1,1,1,1,1,1,1,1,1,1,1,1,1,1,1,1,1,1,1,1,1,1,1,1,1,1],\"coloraxis\":\"coloraxis\",\"pattern\":{\"shape\":\"\"}},\"name\":\"\",\"offsetgroup\":\"\",\"orientation\":\"v\",\"showlegend\":false,\"textposition\":\"auto\",\"x\":[\"Butler-Richardson\",\"Rogers-Warren\",\"Nelson LLC\",\"Barry Group\",\"Allen-Mccullough\",\"Williams-Cox\",\"Phillips, Wolfe and Martin\",\"Phelps, Graham and Hayes\",\"Miller Inc\",\"Mckinney Ltd\",\"Harper, Blake and Alexander\",\"White, Crawford and Pearson\",\"Spears, Anderson and Huffman\",\"Simmons Ltd\",\"Roy-Hancock\",\"Ramos Group\",\"Moore-Flowers\",\"Moody Ltd\",\"Martin, Tyler and Wilkerson\",\"Jones, Rojas and Brown\",\"Holmes-Schaefer\",\"Hill, Davis and Stewart\",\"Gonzalez, Dunn and Oconnell\",\"Cooper, Osborn and Clark\",\"Carter-Jones\",\"Campbell LLC\",\"Bradford-Martinez\",\"Bowman LLC\",\"Barnes, Castro and Curtis\",\"Zhang LLC\",\"Young, Townsend and Mccarthy\",\"Young, Moran and Morris\",\"Wright LLC\",\"Wilson, Watkins and Moore\",\"Williams Inc\",\"Webb, Phillips and Garcia\",\"Taylor Group\",\"Simpson, Thomas and Smith\",\"Serrano-Lopez\",\"Scott and Sons\",\"Ortega-Webb\",\"Oliver, Ross and Johnson\",\"Obrien-Carr\",\"Meyer and Sons\",\"Kelly, Cummings and Ward\",\"Hunter, Ballard and Caldwell\",\"Hood, Hoffman and Wright\",\"Holland, Caldwell and Oliver\",\"Garcia-Hunter\",\"Fisher, Hernandez and Webster\",\"Elliott-Jones\",\"Dyer Group\",\"Doyle LLC\",\"Davis, Bowen and Miller\",\"Cox LLC\",\"Cook Group\",\"Carey PLC\",\"Caldwell PLC\",\"Berry-Mack\",\"Beck Inc\",\"Anderson, Adams and Roberts\",\"Woodward-Jensen\",\"Wong-Reese\",\"Wilson-Brown\",\"Ward, Shepherd and Krause\",\"Villegas, Chen and Campos\",\"Stanley PLC\",\"Snyder, Caldwell and Campbell\",\"Smith-Turner\",\"Smith Inc\",\"Simpson, Mcguire and Brown\",\"Simmons-Davis\",\"Simmons PLC\",\"Sherman-Garza\",\"Schmidt-Alexander\",\"Rowe-Arias\",\"Rivera Ltd\",\"Richardson Group\",\"Reyes, Houston and Esparza\",\"Perry, Perez and Carter\",\"Perez-Williams\",\"Parsons Ltd\",\"Obrien, King and Robinson\",\"Nguyen, Chan and Brown\",\"Moreno-Melton\",\"Morales, Wood and Cox\",\"Mitchell, Campbell and Jones\",\"Miller, Johnson and Fernandez\",\"Mcdonald-Howell\",\"Marshall Ltd\",\"Lewis-Deleon\",\"Koch Inc\",\"Kelly-Ware\",\"Jones-Miller\",\"Jones, Allison and Ellison\",\"Johnson-Green\",\"Johnson PLC\",\"Jenkins-Carpenter\",\"Jackson-Robinson\",\"Jackson Ltd\",\"Jackson LLC\",\"Ibarra and Sons\",\"Ibarra LLC\",\"Huber Group\",\"Hines-Green\",\"Henry PLC\",\"Harrison-Wilson\",\"Hansen Inc\",\"Hancock-Jackson\",\"Hampton-Lee\",\"Gutierrez LLC\",\"Graham-Peters\",\"Gonzales-Cochran\",\"Galloway, Hall and Oconnell\",\"Frey PLC\",\"Flores-Wade\",\"Figueroa Inc\",\"Fernandez-Bridges\",\"Farmer Ltd\",\"Evans, Wright and Mitchell\",\"Douglas and Sons\",\"Davis and Sons\",\"Davila, Green and Avila\",\"Crosby Group\",\"Crane LLC\",\"Cox-Mcintyre\",\"Coleman, Williams and Nichols\",\"Clark, Prince and Williams\",\"Chan-Elliott\",\"Chambers-Waters\",\"Carey-Richardson\",\"Brown-Grimes\",\"Blankenship-Lewis\",\"Black, Collins and Richard\",\"Barnes and Sons\",\"Barber Ltd\",\"Ayala LLC\",\"Anderson, Nicholson and Bruce\",\"Aguilar-Frederick\",\"Young-Luna\",\"Yoder-Murray\",\"Wilson-Cook\",\"Wilson Group\",\"Wilkerson-Woods\",\"Whitney-Fields\",\"Webster and Sons\",\"Warren Group\",\"Warner, White and Morris\",\"Walter, Gonzales and Potter\",\"Villegas Inc\",\"Tran, Douglas and Harvey\",\"Torres-Dunlap\",\"Torres Ltd\",\"Todd Group\",\"Thompson-Kerr\",\"Terry Inc\",\"Taylor-Matthews\",\"Sutton, Day and Brooks\",\"Stephens-Stephens\",\"Steele Ltd\",\"Smith-Morales\",\"Smith, James and Alvarado\",\"Small Ltd\",\"Shields-Moore\",\"Sherman-Baker\",\"Shepherd and Sons\",\"Shepherd Group\",\"Shaw Group\",\"Schwartz, Odonnell and Padilla\",\"Schwartz, Holland and Mccarthy\",\"Salazar PLC\",\"Rogers-Shaw\",\"Rogers, Harmon and Gordon\",\"Rodriguez, Thomas and Foster\",\"Rodriguez and Sons\",\"Rodriguez Inc\",\"Rocha, Johnson and Dunlap\",\"Robinson, Schaefer and Foster\",\"Roberts, Howard and Bender\",\"Rios Group\",\"Reed LLC\",\"Raymond, Kelly and Yates\",\"Porter Inc\",\"Pollard, Yoder and Martin\",\"Pollard, Collins and Watson\",\"Phillips-Bradley\",\"Phelps-Schmidt\",\"Peterson, Lee and Moore\",\"Patterson, Harris and Kelly\",\"Patel and Sons\",\"Parker Group\",\"Page, Smith and Davis\",\"Owens-Taylor\",\"Owens-Johnson\",\"Ortiz-Lee\",\"Novak Group\",\"Nguyen-Parsons\",\"Newman, Pearson and Mccarthy\",\"Nelson-White\",\"Murphy-Boyd\",\"Munoz, Stone and Wallace\",\"Morse-Hoffman\",\"Morgan-Blackwell\",\"Moore Group\",\"Mills, Smith and Martin\",\"Miller Group\",\"Mcmillan, Gallegos and Perry\",\"Maynard LLC\",\"Love-Montgomery\",\"Lopez, Roach and Roach\",\"Long-Alexander\",\"Livingston Inc\",\"Lewis, Wagner and Solis\",\"Lewis, Preston and Price\",\"Lee PLC\",\"Lawrence-Clark\",\"Lambert-Wilson\",\"Jordan LLC\",\"Jones-Edwards\",\"Jones, Ortega and Rubio\",\"Jones, Calderon and Finley\",\"Jones PLC\",\"Jones Group\",\"Hunt-Lee\",\"Horn, Johnson and Moore\",\"Hopkins, Mora and Green\",\"Holland and Sons\",\"Hodges and Sons\",\"Hodge-Leblanc\",\"Hicks Ltd\",\"Henderson Group\",\"Hammond LLC\",\"Gutierrez, Anthony and Shannon\",\"Grant-Davis\",\"Gonzalez Inc\",\"Gamble-Davis\",\"Galvan Ltd\",\"Galloway-Henderson\",\"Gallagher-Brown\",\"Frederick LLC\",\"Figueroa-Soto\",\"Evans-Harrison\",\"Drake-Martinez\",\"Douglas-Colon\",\"Dennis, Parker and Sanchez\",\"Decker Group\",\"Daniels-Kim\",\"Cole-Stein\",\"Cole LLC\",\"Clark-Estes\",\"Clark, Evans and Navarro\",\"Chandler-Roberts\",\"Carroll-Stanley\",\"Carpenter-Wright\",\"Carlson-Mathis\",\"Butler-Phillips\",\"Bruce Inc\",\"Brown-Stephens\",\"Brown and Sons\",\"Brown Ltd\",\"Blanchard-Parsons\",\"Blair LLC\",\"Black, Montgomery and Hernandez\",\"Bennett, Phillips and Green\",\"Bender, Jordan and Bennett\",\"Barry, Powers and White\",\"Barrera-Ward\",\"Barker, Gibbs and Lopez\",\"Barker LLC\",\"Ballard, Stanley and Hill\",\"Baker-Mcdonald\",\"Baker LLC\",\"Baker Group\",\"Avila Group\",\"Austin, Griffin and Ward\",\"Atkins Group\",\"Alvarado LLC\",\"Allen, Zimmerman and Harrington\",\"Allen, Ramsey and Cortez\",\"Alexander PLC\",\"Yu-Rodriguez\",\"Wright-Hogan\",\"Wong-Wilson\",\"Wolfe, Hull and Richardson\",\"Williams-Strong\",\"Williams-Boyle\",\"Williams and Sons\",\"Wilkerson and Sons\",\"White, Hutchinson and Williams\",\"West, Martinez and Warren\",\"Wells-Davis\",\"Webb, Graves and Harrison\",\"Watson LLC\",\"Valencia, Floyd and Jordan\",\"Townsend Inc\",\"Thompson-Turner\",\"Thompson Group\",\"Thomas-Flores\",\"Stephens-Braun\",\"Spencer, Gibson and Arias\",\"Sparks-Berry\",\"Snyder Ltd\",\"Smith-Thomas\",\"Smith-Paul\",\"Smith PLC\",\"Simmons-Mcdaniel\",\"Simmons Group\",\"Scott, Lopez and Baldwin\",\"Scott, Johnson and Villa\",\"Schmidt Ltd\",\"Sanders-Hale\",\"Sanders and Sons\",\"Sanchez-Fisher\",\"Ruiz-Oneal\",\"Rose-Pearson\",\"Rosario-Porter\",\"Rollins-Mclaughlin\",\"Rojas-Cook\",\"Rogers-Maldonado\",\"Robinson, Rodriguez and Reilly\",\"Roberts Group\",\"Roberson, Marquez and Mcdowell\",\"Roach-Wheeler\",\"Randolph-Bauer\",\"Randall-Wagner\",\"Ramirez LLC\",\"Pugh Group\",\"Preston-Smith\",\"Pratt Ltd\",\"Pierce, Walsh and Rogers\",\"Pierce Group\",\"Phillips PLC\",\"Phelps-Robbins\",\"Petersen, Morrison and Woods\",\"Payne Inc\",\"Patterson-Collins\",\"Patterson Inc\",\"Patel Ltd\",\"Parsons and Sons\",\"Parker-Campbell\",\"Osborne LLC\",\"Oliver, Cross and Gilbert\",\"Oconnor Ltd\",\"Norris-Townsend\",\"Nielsen, Johnson and Fuller\",\"Nichols-Barnes\",\"Nguyen Inc\",\"Nelson PLC\",\"Myers, Kelley and Riley\",\"Murray Inc\",\"Mullins Ltd\",\"Morrison LLC\",\"Morris, Mcpherson and Edwards\",\"Morris, Mcintyre and Austin\",\"Morris Ltd\",\"Moran, Mcmillan and Jones\",\"Moore, Perez and Young\",\"Moore LLC\",\"Montgomery, Dominguez and Hopkins\",\"Mitchell-Watson\",\"Mitchell PLC\",\"Miller-Carter\",\"Miller, Conner and Clark\",\"Miller, Braun and Graham\",\"Miller Ltd\",\"Mendoza LLC\",\"Martinez PLC\",\"Martin-Wright\",\"Martin, Richardson and Snow\",\"Maldonado-Davis\",\"Lyons Inc\",\"Lee, Walker and Woodward\",\"Lee LLC\",\"Larson and Sons\",\"Larson Ltd\",\"Lambert Ltd\",\"Knox and Sons\",\"King, Schneider and Banks\",\"Kennedy-Johnston\",\"Jones-Patterson\",\"Jones-Burnett\",\"Johnson-Ray\",\"Johnson, Harris and White\",\"Johnson Group\",\"Jimenez-Ramirez\",\"Jenkins-Carrillo\",\"James Group\",\"Jackson, Gonzalez and Smith\",\"Hughes, Fuller and Sanchez\",\"Hudson, Spence and Perez\",\"House-Bates\",\"House, James and Miller\",\"Horn-House\",\"Hogan-Oliver\",\"Hogan-Johnston\",\"Hodge, Lee and Washington\",\"Hill PLC\",\"Hester, Bowers and Carpenter\",\"Henry-Terry\",\"Hayes Inc\",\"Harris, Santos and Roberts\",\"Harris, Mcdonald and Taylor\",\"Harrington, Jimenez and Carr\",\"Hanson, Wilkerson and Lee\",\"Hall-Barnett\",\"Greene-Garcia\",\"Green LLC\",\"Goodwin, Acosta and Chan\",\"Gonzales-Keith\",\"Gonzales Group\",\"Glover, Wilson and Hudson\",\"Glenn-York\",\"Giles, Weiss and Brown\",\"Gibson and Sons\",\"Garner PLC\",\"Fuller, Vincent and Fernandez\",\"Freeman, Decker and Johnson\",\"Freeman, Allen and Castaneda\",\"Frazier-Sanders\",\"Foster Ltd\",\"Fisher PLC\",\"Ferguson, Henderson and Watson\",\"Espinoza PLC\",\"Elliott-Stephens\",\"Dunlap Inc\",\"Dixon LLC\",\"Davis-Kennedy\",\"Davis-Hurley\",\"Davis, Vaughan and Shepherd\",\"Davis, Hughes and Leblanc\",\"Davis, Cruz and Schaefer\",\"Daniel, Schroeder and Morse\",\"Cruz-Davis\",\"Cruz, Murphy and Santos\",\"Cooper, Smith and King\",\"Cooper LLC\",\"Cook, Jackson and Griffith\",\"Cook Ltd\",\"Conway-Barr\",\"Chung, Morris and Craig\",\"Chase-Gross\",\"Carey-Ramos\",\"Callahan-Olsen\",\"Butler-Newman\",\"Butler, Kennedy and Cowan\",\"Burns-Davis\",\"Buck-Carey\",\"Bryant, Jacobson and West\",\"Brooks-Mccarty\",\"Brock, Newton and Mccormick\",\"Bray, Nguyen and Christensen\",\"Bowers, Gonzalez and Simmons\",\"Blair Group\",\"Beck Group\",\"Bates-Johnson\",\"Ball-Church\",\"Baker, Gardner and Callahan\",\"Baird PLC\",\"Avery PLC\",\"Austin-Yu\",\"Arroyo-Henderson\",\"Andrews-Wiley\",\"Anderson, Robinson and Phillips\",\"Anderson, Patrick and Scott\",\"Alexander-Mendoza\",\"Abbott, Brooks and Moreno\"],\"xaxis\":\"x\",\"y\":[12,9,9,7,7,6,6,6,6,6,6,5,5,5,5,5,5,5,5,5,5,5,5,5,5,5,5,5,5,4,4,4,4,4,4,4,4,4,4,4,4,4,4,4,4,4,4,4,4,4,4,4,4,4,4,4,4,4,4,4,4,3,3,3,3,3,3,3,3,3,3,3,3,3,3,3,3,3,3,3,3,3,3,3,3,3,3,3,3,3,3,3,3,3,3,3,3,3,3,3,3,3,3,3,3,3,3,3,3,3,3,3,3,3,3,3,3,3,3,3,3,3,3,3,3,3,3,3,3,3,3,3,3,3,3,3,3,3,3,2,2,2,2,2,2,2,2,2,2,2,2,2,2,2,2,2,2,2,2,2,2,2,2,2,2,2,2,2,2,2,2,2,2,2,2,2,2,2,2,2,2,2,2,2,2,2,2,2,2,2,2,2,2,2,2,2,2,2,2,2,2,2,2,2,2,2,2,2,2,2,2,2,2,2,2,2,2,2,2,2,2,2,2,2,2,2,2,2,2,2,2,2,2,2,2,2,2,2,2,2,2,2,2,2,2,2,2,2,2,2,2,2,2,2,2,2,2,2,2,2,2,2,2,2,2,2,2,2,2,2,2,2,2,2,2,2,2,2,2,2,1,1,1,1,1,1,1,1,1,1,1,1,1,1,1,1,1,1,1,1,1,1,1,1,1,1,1,1,1,1,1,1,1,1,1,1,1,1,1,1,1,1,1,1,1,1,1,1,1,1,1,1,1,1,1,1,1,1,1,1,1,1,1,1,1,1,1,1,1,1,1,1,1,1,1,1,1,1,1,1,1,1,1,1,1,1,1,1,1,1,1,1,1,1,1,1,1,1,1,1,1,1,1,1,1,1,1,1,1,1,1,1,1,1,1,1,1,1,1,1,1,1,1,1,1,1,1,1,1,1,1,1,1,1,1,1,1,1,1,1,1,1,1,1,1,1,1,1,1,1,1,1,1,1,1,1,1,1,1,1,1,1,1,1,1,1,1,1,1,1,1,1,1,1,1,1,1,1,1,1,1,1,1,1,1,1],\"yaxis\":\"y\",\"type\":\"bar\"},{\"mode\":\"lines+markers\",\"name\":\"Cumulative %\",\"x\":[\"Butler-Richardson\",\"Rogers-Warren\",\"Nelson LLC\",\"Barry Group\",\"Allen-Mccullough\",\"Williams-Cox\",\"Phillips, Wolfe and Martin\",\"Phelps, Graham and Hayes\",\"Miller Inc\",\"Mckinney Ltd\",\"Harper, Blake and Alexander\",\"White, Crawford and Pearson\",\"Spears, Anderson and Huffman\",\"Simmons Ltd\",\"Roy-Hancock\",\"Ramos Group\",\"Moore-Flowers\",\"Moody Ltd\",\"Martin, Tyler and Wilkerson\",\"Jones, Rojas and Brown\",\"Holmes-Schaefer\",\"Hill, Davis and Stewart\",\"Gonzalez, Dunn and Oconnell\",\"Cooper, Osborn and Clark\",\"Carter-Jones\",\"Campbell LLC\",\"Bradford-Martinez\",\"Bowman LLC\",\"Barnes, Castro and Curtis\",\"Zhang LLC\",\"Young, Townsend and Mccarthy\",\"Young, Moran and Morris\",\"Wright LLC\",\"Wilson, Watkins and Moore\",\"Williams Inc\",\"Webb, Phillips and Garcia\",\"Taylor Group\",\"Simpson, Thomas and Smith\",\"Serrano-Lopez\",\"Scott and Sons\",\"Ortega-Webb\",\"Oliver, Ross and Johnson\",\"Obrien-Carr\",\"Meyer and Sons\",\"Kelly, Cummings and Ward\",\"Hunter, Ballard and Caldwell\",\"Hood, Hoffman and Wright\",\"Holland, Caldwell and Oliver\",\"Garcia-Hunter\",\"Fisher, Hernandez and Webster\",\"Elliott-Jones\",\"Dyer Group\",\"Doyle LLC\",\"Davis, Bowen and Miller\",\"Cox LLC\",\"Cook Group\",\"Carey PLC\",\"Caldwell PLC\",\"Berry-Mack\",\"Beck Inc\",\"Anderson, Adams and Roberts\",\"Woodward-Jensen\",\"Wong-Reese\",\"Wilson-Brown\",\"Ward, Shepherd and Krause\",\"Villegas, Chen and Campos\",\"Stanley PLC\",\"Snyder, Caldwell and Campbell\",\"Smith-Turner\",\"Smith Inc\",\"Simpson, Mcguire and Brown\",\"Simmons-Davis\",\"Simmons PLC\",\"Sherman-Garza\",\"Schmidt-Alexander\",\"Rowe-Arias\",\"Rivera Ltd\",\"Richardson Group\",\"Reyes, Houston and Esparza\",\"Perry, Perez and Carter\",\"Perez-Williams\",\"Parsons Ltd\",\"Obrien, King and Robinson\",\"Nguyen, Chan and Brown\",\"Moreno-Melton\",\"Morales, Wood and Cox\",\"Mitchell, Campbell and Jones\",\"Miller, Johnson and Fernandez\",\"Mcdonald-Howell\",\"Marshall Ltd\",\"Lewis-Deleon\",\"Koch Inc\",\"Kelly-Ware\",\"Jones-Miller\",\"Jones, Allison and Ellison\",\"Johnson-Green\",\"Johnson PLC\",\"Jenkins-Carpenter\",\"Jackson-Robinson\",\"Jackson Ltd\",\"Jackson LLC\",\"Ibarra and Sons\",\"Ibarra LLC\",\"Huber Group\",\"Hines-Green\",\"Henry PLC\",\"Harrison-Wilson\",\"Hansen Inc\",\"Hancock-Jackson\",\"Hampton-Lee\",\"Gutierrez LLC\",\"Graham-Peters\",\"Gonzales-Cochran\",\"Galloway, Hall and Oconnell\",\"Frey PLC\",\"Flores-Wade\",\"Figueroa Inc\",\"Fernandez-Bridges\",\"Farmer Ltd\",\"Evans, Wright and Mitchell\",\"Douglas and Sons\",\"Davis and Sons\",\"Davila, Green and Avila\",\"Crosby Group\",\"Crane LLC\",\"Cox-Mcintyre\",\"Coleman, Williams and Nichols\",\"Clark, Prince and Williams\",\"Chan-Elliott\",\"Chambers-Waters\",\"Carey-Richardson\",\"Brown-Grimes\",\"Blankenship-Lewis\",\"Black, Collins and Richard\",\"Barnes and Sons\",\"Barber Ltd\",\"Ayala LLC\",\"Anderson, Nicholson and Bruce\",\"Aguilar-Frederick\",\"Young-Luna\",\"Yoder-Murray\",\"Wilson-Cook\",\"Wilson Group\",\"Wilkerson-Woods\",\"Whitney-Fields\",\"Webster and Sons\",\"Warren Group\",\"Warner, White and Morris\",\"Walter, Gonzales and Potter\",\"Villegas Inc\",\"Tran, Douglas and Harvey\",\"Torres-Dunlap\",\"Torres Ltd\",\"Todd Group\",\"Thompson-Kerr\",\"Terry Inc\",\"Taylor-Matthews\",\"Sutton, Day and Brooks\",\"Stephens-Stephens\",\"Steele Ltd\",\"Smith-Morales\",\"Smith, James and Alvarado\",\"Small Ltd\",\"Shields-Moore\",\"Sherman-Baker\",\"Shepherd and Sons\",\"Shepherd Group\",\"Shaw Group\",\"Schwartz, Odonnell and Padilla\",\"Schwartz, Holland and Mccarthy\",\"Salazar PLC\",\"Rogers-Shaw\",\"Rogers, Harmon and Gordon\",\"Rodriguez, Thomas and Foster\",\"Rodriguez and Sons\",\"Rodriguez Inc\",\"Rocha, Johnson and Dunlap\",\"Robinson, Schaefer and Foster\",\"Roberts, Howard and Bender\",\"Rios Group\",\"Reed LLC\",\"Raymond, Kelly and Yates\",\"Porter Inc\",\"Pollard, Yoder and Martin\",\"Pollard, Collins and Watson\",\"Phillips-Bradley\",\"Phelps-Schmidt\",\"Peterson, Lee and Moore\",\"Patterson, Harris and Kelly\",\"Patel and Sons\",\"Parker Group\",\"Page, Smith and Davis\",\"Owens-Taylor\",\"Owens-Johnson\",\"Ortiz-Lee\",\"Novak Group\",\"Nguyen-Parsons\",\"Newman, Pearson and Mccarthy\",\"Nelson-White\",\"Murphy-Boyd\",\"Munoz, Stone and Wallace\",\"Morse-Hoffman\",\"Morgan-Blackwell\",\"Moore Group\",\"Mills, Smith and Martin\",\"Miller Group\",\"Mcmillan, Gallegos and Perry\",\"Maynard LLC\",\"Love-Montgomery\",\"Lopez, Roach and Roach\",\"Long-Alexander\",\"Livingston Inc\",\"Lewis, Wagner and Solis\",\"Lewis, Preston and Price\",\"Lee PLC\",\"Lawrence-Clark\",\"Lambert-Wilson\",\"Jordan LLC\",\"Jones-Edwards\",\"Jones, Ortega and Rubio\",\"Jones, Calderon and Finley\",\"Jones PLC\",\"Jones Group\",\"Hunt-Lee\",\"Horn, Johnson and Moore\",\"Hopkins, Mora and Green\",\"Holland and Sons\",\"Hodges and Sons\",\"Hodge-Leblanc\",\"Hicks Ltd\",\"Henderson Group\",\"Hammond LLC\",\"Gutierrez, Anthony and Shannon\",\"Grant-Davis\",\"Gonzalez Inc\",\"Gamble-Davis\",\"Galvan Ltd\",\"Galloway-Henderson\",\"Gallagher-Brown\",\"Frederick LLC\",\"Figueroa-Soto\",\"Evans-Harrison\",\"Drake-Martinez\",\"Douglas-Colon\",\"Dennis, Parker and Sanchez\",\"Decker Group\",\"Daniels-Kim\",\"Cole-Stein\",\"Cole LLC\",\"Clark-Estes\",\"Clark, Evans and Navarro\",\"Chandler-Roberts\",\"Carroll-Stanley\",\"Carpenter-Wright\",\"Carlson-Mathis\",\"Butler-Phillips\",\"Bruce Inc\",\"Brown-Stephens\",\"Brown and Sons\",\"Brown Ltd\",\"Blanchard-Parsons\",\"Blair LLC\",\"Black, Montgomery and Hernandez\",\"Bennett, Phillips and Green\",\"Bender, Jordan and Bennett\",\"Barry, Powers and White\",\"Barrera-Ward\",\"Barker, Gibbs and Lopez\",\"Barker LLC\",\"Ballard, Stanley and Hill\",\"Baker-Mcdonald\",\"Baker LLC\",\"Baker Group\",\"Avila Group\",\"Austin, Griffin and Ward\",\"Atkins Group\",\"Alvarado LLC\",\"Allen, Zimmerman and Harrington\",\"Allen, Ramsey and Cortez\",\"Alexander PLC\",\"Yu-Rodriguez\",\"Wright-Hogan\",\"Wong-Wilson\",\"Wolfe, Hull and Richardson\",\"Williams-Strong\",\"Williams-Boyle\",\"Williams and Sons\",\"Wilkerson and Sons\",\"White, Hutchinson and Williams\",\"West, Martinez and Warren\",\"Wells-Davis\",\"Webb, Graves and Harrison\",\"Watson LLC\",\"Valencia, Floyd and Jordan\",\"Townsend Inc\",\"Thompson-Turner\",\"Thompson Group\",\"Thomas-Flores\",\"Stephens-Braun\",\"Spencer, Gibson and Arias\",\"Sparks-Berry\",\"Snyder Ltd\",\"Smith-Thomas\",\"Smith-Paul\",\"Smith PLC\",\"Simmons-Mcdaniel\",\"Simmons Group\",\"Scott, Lopez and Baldwin\",\"Scott, Johnson and Villa\",\"Schmidt Ltd\",\"Sanders-Hale\",\"Sanders and Sons\",\"Sanchez-Fisher\",\"Ruiz-Oneal\",\"Rose-Pearson\",\"Rosario-Porter\",\"Rollins-Mclaughlin\",\"Rojas-Cook\",\"Rogers-Maldonado\",\"Robinson, Rodriguez and Reilly\",\"Roberts Group\",\"Roberson, Marquez and Mcdowell\",\"Roach-Wheeler\",\"Randolph-Bauer\",\"Randall-Wagner\",\"Ramirez LLC\",\"Pugh Group\",\"Preston-Smith\",\"Pratt Ltd\",\"Pierce, Walsh and Rogers\",\"Pierce Group\",\"Phillips PLC\",\"Phelps-Robbins\",\"Petersen, Morrison and Woods\",\"Payne Inc\",\"Patterson-Collins\",\"Patterson Inc\",\"Patel Ltd\",\"Parsons and Sons\",\"Parker-Campbell\",\"Osborne LLC\",\"Oliver, Cross and Gilbert\",\"Oconnor Ltd\",\"Norris-Townsend\",\"Nielsen, Johnson and Fuller\",\"Nichols-Barnes\",\"Nguyen Inc\",\"Nelson PLC\",\"Myers, Kelley and Riley\",\"Murray Inc\",\"Mullins Ltd\",\"Morrison LLC\",\"Morris, Mcpherson and Edwards\",\"Morris, Mcintyre and Austin\",\"Morris Ltd\",\"Moran, Mcmillan and Jones\",\"Moore, Perez and Young\",\"Moore LLC\",\"Montgomery, Dominguez and Hopkins\",\"Mitchell-Watson\",\"Mitchell PLC\",\"Miller-Carter\",\"Miller, Conner and Clark\",\"Miller, Braun and Graham\",\"Miller Ltd\",\"Mendoza LLC\",\"Martinez PLC\",\"Martin-Wright\",\"Martin, Richardson and Snow\",\"Maldonado-Davis\",\"Lyons Inc\",\"Lee, Walker and Woodward\",\"Lee LLC\",\"Larson and Sons\",\"Larson Ltd\",\"Lambert Ltd\",\"Knox and Sons\",\"King, Schneider and Banks\",\"Kennedy-Johnston\",\"Jones-Patterson\",\"Jones-Burnett\",\"Johnson-Ray\",\"Johnson, Harris and White\",\"Johnson Group\",\"Jimenez-Ramirez\",\"Jenkins-Carrillo\",\"James Group\",\"Jackson, Gonzalez and Smith\",\"Hughes, Fuller and Sanchez\",\"Hudson, Spence and Perez\",\"House-Bates\",\"House, James and Miller\",\"Horn-House\",\"Hogan-Oliver\",\"Hogan-Johnston\",\"Hodge, Lee and Washington\",\"Hill PLC\",\"Hester, Bowers and Carpenter\",\"Henry-Terry\",\"Hayes Inc\",\"Harris, Santos and Roberts\",\"Harris, Mcdonald and Taylor\",\"Harrington, Jimenez and Carr\",\"Hanson, Wilkerson and Lee\",\"Hall-Barnett\",\"Greene-Garcia\",\"Green LLC\",\"Goodwin, Acosta and Chan\",\"Gonzales-Keith\",\"Gonzales Group\",\"Glover, Wilson and Hudson\",\"Glenn-York\",\"Giles, Weiss and Brown\",\"Gibson and Sons\",\"Garner PLC\",\"Fuller, Vincent and Fernandez\",\"Freeman, Decker and Johnson\",\"Freeman, Allen and Castaneda\",\"Frazier-Sanders\",\"Foster Ltd\",\"Fisher PLC\",\"Ferguson, Henderson and Watson\",\"Espinoza PLC\",\"Elliott-Stephens\",\"Dunlap Inc\",\"Dixon LLC\",\"Davis-Kennedy\",\"Davis-Hurley\",\"Davis, Vaughan and Shepherd\",\"Davis, Hughes and Leblanc\",\"Davis, Cruz and Schaefer\",\"Daniel, Schroeder and Morse\",\"Cruz-Davis\",\"Cruz, Murphy and Santos\",\"Cooper, Smith and King\",\"Cooper LLC\",\"Cook, Jackson and Griffith\",\"Cook Ltd\",\"Conway-Barr\",\"Chung, Morris and Craig\",\"Chase-Gross\",\"Carey-Ramos\",\"Callahan-Olsen\",\"Butler-Newman\",\"Butler, Kennedy and Cowan\",\"Burns-Davis\",\"Buck-Carey\",\"Bryant, Jacobson and West\",\"Brooks-Mccarty\",\"Brock, Newton and Mccormick\",\"Bray, Nguyen and Christensen\",\"Bowers, Gonzalez and Simmons\",\"Blair Group\",\"Beck Group\",\"Bates-Johnson\",\"Ball-Church\",\"Baker, Gardner and Callahan\",\"Baird PLC\",\"Avery PLC\",\"Austin-Yu\",\"Arroyo-Henderson\",\"Andrews-Wiley\",\"Anderson, Robinson and Phillips\",\"Anderson, Patrick and Scott\",\"Alexander-Mendoza\",\"Abbott, Brooks and Moreno\"],\"y\":[1.2,2.1,3.0,3.6999999999999997,4.3999999999999995,5.0,5.6000000000000005,6.2,6.800000000000001,7.3999999999999995,8.0,8.5,9.0,9.5,10.0,10.5,11.0,11.5,12.0,12.5,13.0,13.5,14.000000000000002,14.499999999999998,15.0,15.5,16.0,16.5,17.0,17.4,17.8,18.2,18.6,19.0,19.400000000000002,19.8,20.200000000000003,20.599999999999998,21.0,21.4,21.8,22.2,22.6,23.0,23.400000000000002,23.799999999999997,24.2,24.6,25.0,25.4,25.8,26.200000000000003,26.6,27.0,27.400000000000002,27.800000000000004,28.199999999999996,28.599999999999998,28.999999999999996,29.4,29.799999999999997,30.099999999999998,30.4,30.7,31.0,31.3,31.6,31.900000000000002,32.2,32.5,32.800000000000004,33.1,33.4,33.7,34.0,34.300000000000004,34.599999999999994,34.9,35.199999999999996,35.5,35.8,36.1,36.4,36.7,37.0,37.3,37.6,37.9,38.2,38.5,38.800000000000004,39.1,39.4,39.7,40.0,40.300000000000004,40.6,40.9,41.199999999999996,41.5,41.8,42.1,42.4,42.699999999999996,43.0,43.3,43.6,43.9,44.2,44.5,44.800000000000004,45.1,45.4,45.7,46.0,46.300000000000004,46.6,46.9,47.199999999999996,47.5,47.8,48.1,48.4,48.699999999999996,49.0,49.3,49.6,49.9,50.2,50.5,50.8,51.1,51.4,51.7,52.0,52.300000000000004,52.6,52.900000000000006,53.2,53.400000000000006,53.6,53.800000000000004,54.0,54.2,54.400000000000006,54.6,54.800000000000004,55.00000000000001,55.2,55.400000000000006,55.60000000000001,55.800000000000004,56.00000000000001,56.2,56.39999999999999,56.599999999999994,56.8,56.99999999999999,57.199999999999996,57.4,57.599999999999994,57.8,57.99999999999999,58.199999999999996,58.4,58.599999999999994,58.8,59.0,59.199999999999996,59.4,59.599999999999994,59.8,60.0,60.199999999999996,60.4,60.6,60.8,61.0,61.199999999999996,61.4,61.6,61.8,62.0,62.2,62.4,62.6,62.8,63.0,63.2,63.4,63.6,63.800000000000004,64.0,64.2,64.4,64.60000000000001,64.8,65.0,65.2,65.4,65.60000000000001,65.8,66.0,66.2,66.4,66.60000000000001,66.8,67.0,67.2,67.4,67.60000000000001,67.80000000000001,68.0,68.2,68.4,68.60000000000001,68.8,69.0,69.19999999999999,69.39999999999999,69.6,69.8,70.0,70.19999999999999,70.39999999999999,70.6,70.8,71.0,71.2,71.39999999999999,71.6,71.8,72.0,72.2,72.39999999999999,72.6,72.8,73.0,73.2,73.4,73.6,73.8,74.0,74.2,74.4,74.6,74.8,75.0,75.2,75.4,75.6,75.8,76.0,76.2,76.4,76.6,76.8,77.0,77.2,77.4,77.60000000000001,77.8,78.0,78.2,78.4,78.60000000000001,78.8,79.0,79.2,79.4,79.60000000000001,79.80000000000001,80.0,80.2,80.4,80.60000000000001,80.80000000000001,81.0,81.2,81.39999999999999,81.5,81.6,81.69999999999999,81.8,81.89999999999999,82.0,82.1,82.19999999999999,82.3,82.39999999999999,82.5,82.6,82.69999999999999,82.8,82.89999999999999,83.0,83.1,83.2,83.3,83.39999999999999,83.5,83.6,83.7,83.8,83.89999999999999,84.0,84.1,84.2,84.3,84.39999999999999,84.5,84.6,84.7,84.8,84.89999999999999,85.0,85.1,85.2,85.3,85.39999999999999,85.5,85.6,85.7,85.8,85.9,86.0,86.1,86.2,86.3,86.4,86.5,86.6,86.7,86.8,86.9,87.0,87.1,87.2,87.3,87.4,87.5,87.6,87.7,87.8,87.9,88.0,88.1,88.2,88.3,88.4,88.5,88.6,88.7,88.8,88.9,89.0,89.1,89.2,89.3,89.4,89.5,89.60000000000001,89.7,89.8,89.9,90.0,90.10000000000001,90.2,90.3,90.4,90.5,90.60000000000001,90.7,90.8,90.9,91.0,91.10000000000001,91.2,91.3,91.4,91.5,91.60000000000001,91.7,91.8,91.9,92.0,92.10000000000001,92.2,92.30000000000001,92.4,92.5,92.60000000000001,92.7,92.80000000000001,92.9,93.0,93.10000000000001,93.2,93.30000000000001,93.4,93.5,93.60000000000001,93.7,93.8,93.89999999999999,94.0,94.1,94.19999999999999,94.3,94.39999999999999,94.5,94.6,94.69999999999999,94.8,94.89999999999999,95.0,95.1,95.19999999999999,95.3,95.39999999999999,95.5,95.6,95.7,95.8,95.89999999999999,96.0,96.1,96.2,96.3,96.39999999999999,96.5,96.6,96.7,96.8,96.89999999999999,97.0,97.1,97.2,97.3,97.39999999999999,97.5,97.6,97.7,97.8,97.89999999999999,98.0,98.1,98.2,98.3,98.4,98.5,98.6,98.7,98.8,98.9,99.0,99.1,99.2,99.3,99.4,99.5,99.6,99.7,99.8,99.9,100.0],\"type\":\"scatter\"}],                        {\"template\":{\"data\":{\"histogram2dcontour\":[{\"type\":\"histogram2dcontour\",\"colorbar\":{\"outlinewidth\":0,\"ticks\":\"\"},\"colorscale\":[[0.0,\"#0d0887\"],[0.1111111111111111,\"#46039f\"],[0.2222222222222222,\"#7201a8\"],[0.3333333333333333,\"#9c179e\"],[0.4444444444444444,\"#bd3786\"],[0.5555555555555556,\"#d8576b\"],[0.6666666666666666,\"#ed7953\"],[0.7777777777777778,\"#fb9f3a\"],[0.8888888888888888,\"#fdca26\"],[1.0,\"#f0f921\"]]}],\"choropleth\":[{\"type\":\"choropleth\",\"colorbar\":{\"outlinewidth\":0,\"ticks\":\"\"}}],\"histogram2d\":[{\"type\":\"histogram2d\",\"colorbar\":{\"outlinewidth\":0,\"ticks\":\"\"},\"colorscale\":[[0.0,\"#0d0887\"],[0.1111111111111111,\"#46039f\"],[0.2222222222222222,\"#7201a8\"],[0.3333333333333333,\"#9c179e\"],[0.4444444444444444,\"#bd3786\"],[0.5555555555555556,\"#d8576b\"],[0.6666666666666666,\"#ed7953\"],[0.7777777777777778,\"#fb9f3a\"],[0.8888888888888888,\"#fdca26\"],[1.0,\"#f0f921\"]]}],\"heatmap\":[{\"type\":\"heatmap\",\"colorbar\":{\"outlinewidth\":0,\"ticks\":\"\"},\"colorscale\":[[0.0,\"#0d0887\"],[0.1111111111111111,\"#46039f\"],[0.2222222222222222,\"#7201a8\"],[0.3333333333333333,\"#9c179e\"],[0.4444444444444444,\"#bd3786\"],[0.5555555555555556,\"#d8576b\"],[0.6666666666666666,\"#ed7953\"],[0.7777777777777778,\"#fb9f3a\"],[0.8888888888888888,\"#fdca26\"],[1.0,\"#f0f921\"]]}],\"heatmapgl\":[{\"type\":\"heatmapgl\",\"colorbar\":{\"outlinewidth\":0,\"ticks\":\"\"},\"colorscale\":[[0.0,\"#0d0887\"],[0.1111111111111111,\"#46039f\"],[0.2222222222222222,\"#7201a8\"],[0.3333333333333333,\"#9c179e\"],[0.4444444444444444,\"#bd3786\"],[0.5555555555555556,\"#d8576b\"],[0.6666666666666666,\"#ed7953\"],[0.7777777777777778,\"#fb9f3a\"],[0.8888888888888888,\"#fdca26\"],[1.0,\"#f0f921\"]]}],\"contourcarpet\":[{\"type\":\"contourcarpet\",\"colorbar\":{\"outlinewidth\":0,\"ticks\":\"\"}}],\"contour\":[{\"type\":\"contour\",\"colorbar\":{\"outlinewidth\":0,\"ticks\":\"\"},\"colorscale\":[[0.0,\"#0d0887\"],[0.1111111111111111,\"#46039f\"],[0.2222222222222222,\"#7201a8\"],[0.3333333333333333,\"#9c179e\"],[0.4444444444444444,\"#bd3786\"],[0.5555555555555556,\"#d8576b\"],[0.6666666666666666,\"#ed7953\"],[0.7777777777777778,\"#fb9f3a\"],[0.8888888888888888,\"#fdca26\"],[1.0,\"#f0f921\"]]}],\"surface\":[{\"type\":\"surface\",\"colorbar\":{\"outlinewidth\":0,\"ticks\":\"\"},\"colorscale\":[[0.0,\"#0d0887\"],[0.1111111111111111,\"#46039f\"],[0.2222222222222222,\"#7201a8\"],[0.3333333333333333,\"#9c179e\"],[0.4444444444444444,\"#bd3786\"],[0.5555555555555556,\"#d8576b\"],[0.6666666666666666,\"#ed7953\"],[0.7777777777777778,\"#fb9f3a\"],[0.8888888888888888,\"#fdca26\"],[1.0,\"#f0f921\"]]}],\"mesh3d\":[{\"type\":\"mesh3d\",\"colorbar\":{\"outlinewidth\":0,\"ticks\":\"\"}}],\"scatter\":[{\"fillpattern\":{\"fillmode\":\"overlay\",\"size\":10,\"solidity\":0.2},\"type\":\"scatter\"}],\"parcoords\":[{\"type\":\"parcoords\",\"line\":{\"colorbar\":{\"outlinewidth\":0,\"ticks\":\"\"}}}],\"scatterpolargl\":[{\"type\":\"scatterpolargl\",\"marker\":{\"colorbar\":{\"outlinewidth\":0,\"ticks\":\"\"}}}],\"bar\":[{\"error_x\":{\"color\":\"#2a3f5f\"},\"error_y\":{\"color\":\"#2a3f5f\"},\"marker\":{\"line\":{\"color\":\"#E5ECF6\",\"width\":0.5},\"pattern\":{\"fillmode\":\"overlay\",\"size\":10,\"solidity\":0.2}},\"type\":\"bar\"}],\"scattergeo\":[{\"type\":\"scattergeo\",\"marker\":{\"colorbar\":{\"outlinewidth\":0,\"ticks\":\"\"}}}],\"scatterpolar\":[{\"type\":\"scatterpolar\",\"marker\":{\"colorbar\":{\"outlinewidth\":0,\"ticks\":\"\"}}}],\"histogram\":[{\"marker\":{\"pattern\":{\"fillmode\":\"overlay\",\"size\":10,\"solidity\":0.2}},\"type\":\"histogram\"}],\"scattergl\":[{\"type\":\"scattergl\",\"marker\":{\"colorbar\":{\"outlinewidth\":0,\"ticks\":\"\"}}}],\"scatter3d\":[{\"type\":\"scatter3d\",\"line\":{\"colorbar\":{\"outlinewidth\":0,\"ticks\":\"\"}},\"marker\":{\"colorbar\":{\"outlinewidth\":0,\"ticks\":\"\"}}}],\"scattermapbox\":[{\"type\":\"scattermapbox\",\"marker\":{\"colorbar\":{\"outlinewidth\":0,\"ticks\":\"\"}}}],\"scatterternary\":[{\"type\":\"scatterternary\",\"marker\":{\"colorbar\":{\"outlinewidth\":0,\"ticks\":\"\"}}}],\"scattercarpet\":[{\"type\":\"scattercarpet\",\"marker\":{\"colorbar\":{\"outlinewidth\":0,\"ticks\":\"\"}}}],\"carpet\":[{\"aaxis\":{\"endlinecolor\":\"#2a3f5f\",\"gridcolor\":\"white\",\"linecolor\":\"white\",\"minorgridcolor\":\"white\",\"startlinecolor\":\"#2a3f5f\"},\"baxis\":{\"endlinecolor\":\"#2a3f5f\",\"gridcolor\":\"white\",\"linecolor\":\"white\",\"minorgridcolor\":\"white\",\"startlinecolor\":\"#2a3f5f\"},\"type\":\"carpet\"}],\"table\":[{\"cells\":{\"fill\":{\"color\":\"#EBF0F8\"},\"line\":{\"color\":\"white\"}},\"header\":{\"fill\":{\"color\":\"#C8D4E3\"},\"line\":{\"color\":\"white\"}},\"type\":\"table\"}],\"barpolar\":[{\"marker\":{\"line\":{\"color\":\"#E5ECF6\",\"width\":0.5},\"pattern\":{\"fillmode\":\"overlay\",\"size\":10,\"solidity\":0.2}},\"type\":\"barpolar\"}],\"pie\":[{\"automargin\":true,\"type\":\"pie\"}]},\"layout\":{\"autotypenumbers\":\"strict\",\"colorway\":[\"#636efa\",\"#EF553B\",\"#00cc96\",\"#ab63fa\",\"#FFA15A\",\"#19d3f3\",\"#FF6692\",\"#B6E880\",\"#FF97FF\",\"#FECB52\"],\"font\":{\"color\":\"#2a3f5f\"},\"hovermode\":\"closest\",\"hoverlabel\":{\"align\":\"left\"},\"paper_bgcolor\":\"white\",\"plot_bgcolor\":\"#E5ECF6\",\"polar\":{\"bgcolor\":\"#E5ECF6\",\"angularaxis\":{\"gridcolor\":\"white\",\"linecolor\":\"white\",\"ticks\":\"\"},\"radialaxis\":{\"gridcolor\":\"white\",\"linecolor\":\"white\",\"ticks\":\"\"}},\"ternary\":{\"bgcolor\":\"#E5ECF6\",\"aaxis\":{\"gridcolor\":\"white\",\"linecolor\":\"white\",\"ticks\":\"\"},\"baxis\":{\"gridcolor\":\"white\",\"linecolor\":\"white\",\"ticks\":\"\"},\"caxis\":{\"gridcolor\":\"white\",\"linecolor\":\"white\",\"ticks\":\"\"}},\"coloraxis\":{\"colorbar\":{\"outlinewidth\":0,\"ticks\":\"\"}},\"colorscale\":{\"sequential\":[[0.0,\"#0d0887\"],[0.1111111111111111,\"#46039f\"],[0.2222222222222222,\"#7201a8\"],[0.3333333333333333,\"#9c179e\"],[0.4444444444444444,\"#bd3786\"],[0.5555555555555556,\"#d8576b\"],[0.6666666666666666,\"#ed7953\"],[0.7777777777777778,\"#fb9f3a\"],[0.8888888888888888,\"#fdca26\"],[1.0,\"#f0f921\"]],\"sequentialminus\":[[0.0,\"#0d0887\"],[0.1111111111111111,\"#46039f\"],[0.2222222222222222,\"#7201a8\"],[0.3333333333333333,\"#9c179e\"],[0.4444444444444444,\"#bd3786\"],[0.5555555555555556,\"#d8576b\"],[0.6666666666666666,\"#ed7953\"],[0.7777777777777778,\"#fb9f3a\"],[0.8888888888888888,\"#fdca26\"],[1.0,\"#f0f921\"]],\"diverging\":[[0,\"#8e0152\"],[0.1,\"#c51b7d\"],[0.2,\"#de77ae\"],[0.3,\"#f1b6da\"],[0.4,\"#fde0ef\"],[0.5,\"#f7f7f7\"],[0.6,\"#e6f5d0\"],[0.7,\"#b8e186\"],[0.8,\"#7fbc41\"],[0.9,\"#4d9221\"],[1,\"#276419\"]]},\"xaxis\":{\"gridcolor\":\"white\",\"linecolor\":\"white\",\"ticks\":\"\",\"title\":{\"standoff\":15},\"zerolinecolor\":\"white\",\"automargin\":true,\"zerolinewidth\":2},\"yaxis\":{\"gridcolor\":\"white\",\"linecolor\":\"white\",\"ticks\":\"\",\"title\":{\"standoff\":15},\"zerolinecolor\":\"white\",\"automargin\":true,\"zerolinewidth\":2},\"scene\":{\"xaxis\":{\"backgroundcolor\":\"#E5ECF6\",\"gridcolor\":\"white\",\"linecolor\":\"white\",\"showbackground\":true,\"ticks\":\"\",\"zerolinecolor\":\"white\",\"gridwidth\":2},\"yaxis\":{\"backgroundcolor\":\"#E5ECF6\",\"gridcolor\":\"white\",\"linecolor\":\"white\",\"showbackground\":true,\"ticks\":\"\",\"zerolinecolor\":\"white\",\"gridwidth\":2},\"zaxis\":{\"backgroundcolor\":\"#E5ECF6\",\"gridcolor\":\"white\",\"linecolor\":\"white\",\"showbackground\":true,\"ticks\":\"\",\"zerolinecolor\":\"white\",\"gridwidth\":2}},\"shapedefaults\":{\"line\":{\"color\":\"#2a3f5f\"}},\"annotationdefaults\":{\"arrowcolor\":\"#2a3f5f\",\"arrowhead\":0,\"arrowwidth\":1},\"geo\":{\"bgcolor\":\"white\",\"landcolor\":\"#E5ECF6\",\"subunitcolor\":\"white\",\"showland\":true,\"showlakes\":true,\"lakecolor\":\"white\"},\"title\":{\"x\":0.05},\"mapbox\":{\"style\":\"light\"}}},\"xaxis\":{\"anchor\":\"y\",\"domain\":[0.0,1.0],\"title\":{\"text\":\"provider_name\"}},\"yaxis\":{\"anchor\":\"x\",\"domain\":[0.0,1.0],\"title\":{\"text\":\"total_donations\"}},\"coloraxis\":{\"colorbar\":{\"title\":{\"text\":\"total_donations\"}},\"colorscale\":[[0.0,\"#0d0887\"],[0.1111111111111111,\"#46039f\"],[0.2222222222222222,\"#7201a8\"],[0.3333333333333333,\"#9c179e\"],[0.4444444444444444,\"#bd3786\"],[0.5555555555555556,\"#d8576b\"],[0.6666666666666666,\"#ed7953\"],[0.7777777777777778,\"#fb9f3a\"],[0.8888888888888888,\"#fdca26\"],[1.0,\"#f0f921\"]]},\"legend\":{\"tracegroupgap\":0},\"title\":{\"text\":\"📊 Pareto Analysis (80\\u002f20)\"},\"barmode\":\"relative\"},                        {\"responsive\": true}                    ).then(function(){\n",
              "                            \n",
              "var gd = document.getElementById('818979f8-cd5d-4c87-b0c4-0ea00d672921');\n",
              "var x = new MutationObserver(function (mutations, observer) {{\n",
              "        var display = window.getComputedStyle(gd).display;\n",
              "        if (!display || display === 'none') {{\n",
              "            console.log([gd, 'removed!']);\n",
              "            Plotly.purge(gd);\n",
              "            observer.disconnect();\n",
              "        }}\n",
              "}});\n",
              "\n",
              "// Listen for the removal of the full notebook cells\n",
              "var notebookContainer = gd.closest('#notebook-container');\n",
              "if (notebookContainer) {{\n",
              "    x.observe(notebookContainer, {childList: true});\n",
              "}}\n",
              "\n",
              "// Listen for the clearing of the current output cell\n",
              "var outputEl = gd.closest('.output');\n",
              "if (outputEl) {{\n",
              "    x.observe(outputEl, {childList: true});\n",
              "}}\n",
              "\n",
              "                        })                };                            </script>        </div>\n",
              "</body>\n",
              "</html>"
            ]
          },
          "metadata": {}
        }
      ]
    },
    {
      "cell_type": "markdown",
      "source": [
        "**1️⃣ Why did you pick the specific chart?**\n",
        "\n",
        "👉 Pareto Chart is chosen because it highlights the most important contributors (providers) and shows how much of the total donations they account for.\n",
        "\n",
        "**2️⃣ Insights from the chart:**\n",
        "\n",
        "- 🏆 A small group of providers contributes the majority of donations.\n",
        "\n",
        "- 📊 Many providers contribute only small amounts individually.\n",
        "\n",
        "- 📈 The cumulative line confirms the Pareto principle: a few providers (20%) drive most of the supply (80%).\n",
        "\n",
        "**3️⃣ Business Impact:**\n",
        "- ✅ Positive: Helps identify and prioritize top providers for engagement, partnerships, and recognition.\n",
        "- ⚠️ Negative: Heavy reliance on a few key providers means if they reduce contributions, the donation volume could drop drastically."
      ],
      "metadata": {
        "id": "vPLA49Jp6FmM"
      }
    },
    {
      "cell_type": "markdown",
      "source": [
        "#### 2. Churn Analysis"
      ],
      "metadata": {
        "id": "dUpooDdbpJcU"
      }
    },
    {
      "cell_type": "code",
      "source": [
        "# 📉 Churn Analysis\n",
        "df = pd.read_sql(\"\"\"\n",
        "SELECT provider_name, MAX(timestamp) as last_claim\n",
        "FROM full_donation_chain\n",
        "GROUP BY provider_name\n",
        "\"\"\", engine)\n",
        "df['last_claim'] = pd.to_datetime(df['last_claim'])\n",
        "inactive_providers = df[df['last_claim'] < '2025-01-01']"
      ],
      "metadata": {
        "id": "TUUJzlPZpIzb"
      },
      "execution_count": null,
      "outputs": []
    },
    {
      "cell_type": "code",
      "source": [
        "fig = px.bar(inactive_providers, x=\"provider_name\", y=\"last_claim\",\n",
        "             title=\"📉 Inactive Providers\", color=\"last_claim\")\n",
        "fig.show()"
      ],
      "metadata": {
        "colab": {
          "base_uri": "https://localhost:8080/",
          "height": 542
        },
        "id": "5XfrhC48pPzS",
        "outputId": "57c4dc25-7c75-455f-8d57-e87782b6a570"
      },
      "execution_count": null,
      "outputs": [
        {
          "output_type": "display_data",
          "data": {
            "text/html": [
              "<html>\n",
              "<head><meta charset=\"utf-8\" /></head>\n",
              "<body>\n",
              "    <div>            <script src=\"https://cdnjs.cloudflare.com/ajax/libs/mathjax/2.7.5/MathJax.js?config=TeX-AMS-MML_SVG\"></script><script type=\"text/javascript\">if (window.MathJax && window.MathJax.Hub && window.MathJax.Hub.Config) {window.MathJax.Hub.Config({SVG: {font: \"STIX-Web\"}});}</script>                <script type=\"text/javascript\">window.PlotlyConfig = {MathJaxConfig: 'local'};</script>\n",
              "        <script charset=\"utf-8\" src=\"https://cdn.plot.ly/plotly-2.35.2.min.js\"></script>                <div id=\"4b37c8bd-54d1-4e95-add2-bf2ff40edc4b\" class=\"plotly-graph-div\" style=\"height:525px; width:100%;\"></div>            <script type=\"text/javascript\">                                    window.PLOTLYENV=window.PLOTLYENV || {};                                    if (document.getElementById(\"4b37c8bd-54d1-4e95-add2-bf2ff40edc4b\")) {                    Plotly.newPlot(                        \"4b37c8bd-54d1-4e95-add2-bf2ff40edc4b\",                        [],                        {\"template\":{\"data\":{\"histogram2dcontour\":[{\"type\":\"histogram2dcontour\",\"colorbar\":{\"outlinewidth\":0,\"ticks\":\"\"},\"colorscale\":[[0.0,\"#0d0887\"],[0.1111111111111111,\"#46039f\"],[0.2222222222222222,\"#7201a8\"],[0.3333333333333333,\"#9c179e\"],[0.4444444444444444,\"#bd3786\"],[0.5555555555555556,\"#d8576b\"],[0.6666666666666666,\"#ed7953\"],[0.7777777777777778,\"#fb9f3a\"],[0.8888888888888888,\"#fdca26\"],[1.0,\"#f0f921\"]]}],\"choropleth\":[{\"type\":\"choropleth\",\"colorbar\":{\"outlinewidth\":0,\"ticks\":\"\"}}],\"histogram2d\":[{\"type\":\"histogram2d\",\"colorbar\":{\"outlinewidth\":0,\"ticks\":\"\"},\"colorscale\":[[0.0,\"#0d0887\"],[0.1111111111111111,\"#46039f\"],[0.2222222222222222,\"#7201a8\"],[0.3333333333333333,\"#9c179e\"],[0.4444444444444444,\"#bd3786\"],[0.5555555555555556,\"#d8576b\"],[0.6666666666666666,\"#ed7953\"],[0.7777777777777778,\"#fb9f3a\"],[0.8888888888888888,\"#fdca26\"],[1.0,\"#f0f921\"]]}],\"heatmap\":[{\"type\":\"heatmap\",\"colorbar\":{\"outlinewidth\":0,\"ticks\":\"\"},\"colorscale\":[[0.0,\"#0d0887\"],[0.1111111111111111,\"#46039f\"],[0.2222222222222222,\"#7201a8\"],[0.3333333333333333,\"#9c179e\"],[0.4444444444444444,\"#bd3786\"],[0.5555555555555556,\"#d8576b\"],[0.6666666666666666,\"#ed7953\"],[0.7777777777777778,\"#fb9f3a\"],[0.8888888888888888,\"#fdca26\"],[1.0,\"#f0f921\"]]}],\"heatmapgl\":[{\"type\":\"heatmapgl\",\"colorbar\":{\"outlinewidth\":0,\"ticks\":\"\"},\"colorscale\":[[0.0,\"#0d0887\"],[0.1111111111111111,\"#46039f\"],[0.2222222222222222,\"#7201a8\"],[0.3333333333333333,\"#9c179e\"],[0.4444444444444444,\"#bd3786\"],[0.5555555555555556,\"#d8576b\"],[0.6666666666666666,\"#ed7953\"],[0.7777777777777778,\"#fb9f3a\"],[0.8888888888888888,\"#fdca26\"],[1.0,\"#f0f921\"]]}],\"contourcarpet\":[{\"type\":\"contourcarpet\",\"colorbar\":{\"outlinewidth\":0,\"ticks\":\"\"}}],\"contour\":[{\"type\":\"contour\",\"colorbar\":{\"outlinewidth\":0,\"ticks\":\"\"},\"colorscale\":[[0.0,\"#0d0887\"],[0.1111111111111111,\"#46039f\"],[0.2222222222222222,\"#7201a8\"],[0.3333333333333333,\"#9c179e\"],[0.4444444444444444,\"#bd3786\"],[0.5555555555555556,\"#d8576b\"],[0.6666666666666666,\"#ed7953\"],[0.7777777777777778,\"#fb9f3a\"],[0.8888888888888888,\"#fdca26\"],[1.0,\"#f0f921\"]]}],\"surface\":[{\"type\":\"surface\",\"colorbar\":{\"outlinewidth\":0,\"ticks\":\"\"},\"colorscale\":[[0.0,\"#0d0887\"],[0.1111111111111111,\"#46039f\"],[0.2222222222222222,\"#7201a8\"],[0.3333333333333333,\"#9c179e\"],[0.4444444444444444,\"#bd3786\"],[0.5555555555555556,\"#d8576b\"],[0.6666666666666666,\"#ed7953\"],[0.7777777777777778,\"#fb9f3a\"],[0.8888888888888888,\"#fdca26\"],[1.0,\"#f0f921\"]]}],\"mesh3d\":[{\"type\":\"mesh3d\",\"colorbar\":{\"outlinewidth\":0,\"ticks\":\"\"}}],\"scatter\":[{\"fillpattern\":{\"fillmode\":\"overlay\",\"size\":10,\"solidity\":0.2},\"type\":\"scatter\"}],\"parcoords\":[{\"type\":\"parcoords\",\"line\":{\"colorbar\":{\"outlinewidth\":0,\"ticks\":\"\"}}}],\"scatterpolargl\":[{\"type\":\"scatterpolargl\",\"marker\":{\"colorbar\":{\"outlinewidth\":0,\"ticks\":\"\"}}}],\"bar\":[{\"error_x\":{\"color\":\"#2a3f5f\"},\"error_y\":{\"color\":\"#2a3f5f\"},\"marker\":{\"line\":{\"color\":\"#E5ECF6\",\"width\":0.5},\"pattern\":{\"fillmode\":\"overlay\",\"size\":10,\"solidity\":0.2}},\"type\":\"bar\"}],\"scattergeo\":[{\"type\":\"scattergeo\",\"marker\":{\"colorbar\":{\"outlinewidth\":0,\"ticks\":\"\"}}}],\"scatterpolar\":[{\"type\":\"scatterpolar\",\"marker\":{\"colorbar\":{\"outlinewidth\":0,\"ticks\":\"\"}}}],\"histogram\":[{\"marker\":{\"pattern\":{\"fillmode\":\"overlay\",\"size\":10,\"solidity\":0.2}},\"type\":\"histogram\"}],\"scattergl\":[{\"type\":\"scattergl\",\"marker\":{\"colorbar\":{\"outlinewidth\":0,\"ticks\":\"\"}}}],\"scatter3d\":[{\"type\":\"scatter3d\",\"line\":{\"colorbar\":{\"outlinewidth\":0,\"ticks\":\"\"}},\"marker\":{\"colorbar\":{\"outlinewidth\":0,\"ticks\":\"\"}}}],\"scattermapbox\":[{\"type\":\"scattermapbox\",\"marker\":{\"colorbar\":{\"outlinewidth\":0,\"ticks\":\"\"}}}],\"scatterternary\":[{\"type\":\"scatterternary\",\"marker\":{\"colorbar\":{\"outlinewidth\":0,\"ticks\":\"\"}}}],\"scattercarpet\":[{\"type\":\"scattercarpet\",\"marker\":{\"colorbar\":{\"outlinewidth\":0,\"ticks\":\"\"}}}],\"carpet\":[{\"aaxis\":{\"endlinecolor\":\"#2a3f5f\",\"gridcolor\":\"white\",\"linecolor\":\"white\",\"minorgridcolor\":\"white\",\"startlinecolor\":\"#2a3f5f\"},\"baxis\":{\"endlinecolor\":\"#2a3f5f\",\"gridcolor\":\"white\",\"linecolor\":\"white\",\"minorgridcolor\":\"white\",\"startlinecolor\":\"#2a3f5f\"},\"type\":\"carpet\"}],\"table\":[{\"cells\":{\"fill\":{\"color\":\"#EBF0F8\"},\"line\":{\"color\":\"white\"}},\"header\":{\"fill\":{\"color\":\"#C8D4E3\"},\"line\":{\"color\":\"white\"}},\"type\":\"table\"}],\"barpolar\":[{\"marker\":{\"line\":{\"color\":\"#E5ECF6\",\"width\":0.5},\"pattern\":{\"fillmode\":\"overlay\",\"size\":10,\"solidity\":0.2}},\"type\":\"barpolar\"}],\"pie\":[{\"automargin\":true,\"type\":\"pie\"}]},\"layout\":{\"autotypenumbers\":\"strict\",\"colorway\":[\"#636efa\",\"#EF553B\",\"#00cc96\",\"#ab63fa\",\"#FFA15A\",\"#19d3f3\",\"#FF6692\",\"#B6E880\",\"#FF97FF\",\"#FECB52\"],\"font\":{\"color\":\"#2a3f5f\"},\"hovermode\":\"closest\",\"hoverlabel\":{\"align\":\"left\"},\"paper_bgcolor\":\"white\",\"plot_bgcolor\":\"#E5ECF6\",\"polar\":{\"bgcolor\":\"#E5ECF6\",\"angularaxis\":{\"gridcolor\":\"white\",\"linecolor\":\"white\",\"ticks\":\"\"},\"radialaxis\":{\"gridcolor\":\"white\",\"linecolor\":\"white\",\"ticks\":\"\"}},\"ternary\":{\"bgcolor\":\"#E5ECF6\",\"aaxis\":{\"gridcolor\":\"white\",\"linecolor\":\"white\",\"ticks\":\"\"},\"baxis\":{\"gridcolor\":\"white\",\"linecolor\":\"white\",\"ticks\":\"\"},\"caxis\":{\"gridcolor\":\"white\",\"linecolor\":\"white\",\"ticks\":\"\"}},\"coloraxis\":{\"colorbar\":{\"outlinewidth\":0,\"ticks\":\"\"}},\"colorscale\":{\"sequential\":[[0.0,\"#0d0887\"],[0.1111111111111111,\"#46039f\"],[0.2222222222222222,\"#7201a8\"],[0.3333333333333333,\"#9c179e\"],[0.4444444444444444,\"#bd3786\"],[0.5555555555555556,\"#d8576b\"],[0.6666666666666666,\"#ed7953\"],[0.7777777777777778,\"#fb9f3a\"],[0.8888888888888888,\"#fdca26\"],[1.0,\"#f0f921\"]],\"sequentialminus\":[[0.0,\"#0d0887\"],[0.1111111111111111,\"#46039f\"],[0.2222222222222222,\"#7201a8\"],[0.3333333333333333,\"#9c179e\"],[0.4444444444444444,\"#bd3786\"],[0.5555555555555556,\"#d8576b\"],[0.6666666666666666,\"#ed7953\"],[0.7777777777777778,\"#fb9f3a\"],[0.8888888888888888,\"#fdca26\"],[1.0,\"#f0f921\"]],\"diverging\":[[0,\"#8e0152\"],[0.1,\"#c51b7d\"],[0.2,\"#de77ae\"],[0.3,\"#f1b6da\"],[0.4,\"#fde0ef\"],[0.5,\"#f7f7f7\"],[0.6,\"#e6f5d0\"],[0.7,\"#b8e186\"],[0.8,\"#7fbc41\"],[0.9,\"#4d9221\"],[1,\"#276419\"]]},\"xaxis\":{\"gridcolor\":\"white\",\"linecolor\":\"white\",\"ticks\":\"\",\"title\":{\"standoff\":15},\"zerolinecolor\":\"white\",\"automargin\":true,\"zerolinewidth\":2},\"yaxis\":{\"gridcolor\":\"white\",\"linecolor\":\"white\",\"ticks\":\"\",\"title\":{\"standoff\":15},\"zerolinecolor\":\"white\",\"automargin\":true,\"zerolinewidth\":2},\"scene\":{\"xaxis\":{\"backgroundcolor\":\"#E5ECF6\",\"gridcolor\":\"white\",\"linecolor\":\"white\",\"showbackground\":true,\"ticks\":\"\",\"zerolinecolor\":\"white\",\"gridwidth\":2},\"yaxis\":{\"backgroundcolor\":\"#E5ECF6\",\"gridcolor\":\"white\",\"linecolor\":\"white\",\"showbackground\":true,\"ticks\":\"\",\"zerolinecolor\":\"white\",\"gridwidth\":2},\"zaxis\":{\"backgroundcolor\":\"#E5ECF6\",\"gridcolor\":\"white\",\"linecolor\":\"white\",\"showbackground\":true,\"ticks\":\"\",\"zerolinecolor\":\"white\",\"gridwidth\":2}},\"shapedefaults\":{\"line\":{\"color\":\"#2a3f5f\"}},\"annotationdefaults\":{\"arrowcolor\":\"#2a3f5f\",\"arrowhead\":0,\"arrowwidth\":1},\"geo\":{\"bgcolor\":\"white\",\"landcolor\":\"#E5ECF6\",\"subunitcolor\":\"white\",\"showland\":true,\"showlakes\":true,\"lakecolor\":\"white\"},\"title\":{\"x\":0.05},\"mapbox\":{\"style\":\"light\"}}},\"xaxis\":{\"anchor\":\"y\",\"domain\":[0.0,1.0],\"title\":{\"text\":\"provider_name\"}},\"yaxis\":{\"anchor\":\"x\",\"domain\":[0.0,1.0],\"title\":{\"text\":\"last_claim\"},\"categoryorder\":\"array\",\"categoryarray\":[]},\"legend\":{\"tracegroupgap\":0},\"title\":{\"text\":\"📉 Inactive Providers\"},\"barmode\":\"relative\"},                        {\"responsive\": true}                    ).then(function(){\n",
              "                            \n",
              "var gd = document.getElementById('4b37c8bd-54d1-4e95-add2-bf2ff40edc4b');\n",
              "var x = new MutationObserver(function (mutations, observer) {{\n",
              "        var display = window.getComputedStyle(gd).display;\n",
              "        if (!display || display === 'none') {{\n",
              "            console.log([gd, 'removed!']);\n",
              "            Plotly.purge(gd);\n",
              "            observer.disconnect();\n",
              "        }}\n",
              "}});\n",
              "\n",
              "// Listen for the removal of the full notebook cells\n",
              "var notebookContainer = gd.closest('#notebook-container');\n",
              "if (notebookContainer) {{\n",
              "    x.observe(notebookContainer, {childList: true});\n",
              "}}\n",
              "\n",
              "// Listen for the clearing of the current output cell\n",
              "var outputEl = gd.closest('.output');\n",
              "if (outputEl) {{\n",
              "    x.observe(outputEl, {childList: true});\n",
              "}}\n",
              "\n",
              "                        })                };                            </script>        </div>\n",
              "</body>\n",
              "</html>"
            ]
          },
          "metadata": {}
        }
      ]
    },
    {
      "cell_type": "markdown",
      "source": [
        "**1️⃣ Why did you pick the specific chart?**\n",
        "\n",
        "👉 This chart is chosen to identify providers with zero activity, i.e., those who registered but did not contribute.\n",
        "\n",
        "**2️⃣ Insights from the chart:**\n",
        "\n",
        "- 📉 The chart is empty, meaning all providers have some activity.\n",
        "\n",
        "- ✅ There are currently no inactive providers in the dataset.\n",
        "\n",
        "- 🔎 This suggests good engagement from registered providers.\n",
        "\n",
        "**3️⃣ Business Impact:**\n",
        "- ✅ Positive: Ensures that every registered provider is contributing, showing strong engagement.\n",
        "- ⚠️ Negative: None at this stage, but monitoring is essential as providers may become inactive in the future."
      ],
      "metadata": {
        "id": "fFK9IzI-6lSl"
      }
    },
    {
      "cell_type": "markdown",
      "source": [
        "#### 3. Network Graph"
      ],
      "metadata": {
        "id": "ycx0FNkspXDi"
      }
    },
    {
      "cell_type": "code",
      "source": [
        "# 🔗 Network Graph\n",
        "import plotly.graph_objects as go\n",
        "import networkx as nx\n",
        "\n",
        "df = pd.read_sql(\"\"\"\n",
        "SELECT DISTINCT provider_name, receiver_name\n",
        "FROM full_donation_chain\n",
        "\"\"\", engine)\n",
        "\n",
        "G = nx.from_pandas_edgelist(df, 'provider_name', 'receiver_name')"
      ],
      "metadata": {
        "id": "Qhu-xXvEpWLS"
      },
      "execution_count": null,
      "outputs": []
    },
    {
      "cell_type": "code",
      "source": [
        "pos = nx.spring_layout(G, seed=42)\n",
        "edge_x, edge_y = [], []\n",
        "for edge in G.edges():\n",
        "    x0, y0 = pos[edge[0]]\n",
        "    x1, y1 = pos[edge[1]]\n",
        "    edge_x.extend([x0, x1, None])\n",
        "    edge_y.extend([y0, y1, None])\n",
        "\n",
        "node_x, node_y = [], []\n",
        "for node in G.nodes():\n",
        "    x, y = pos[node]\n",
        "    node_x.append(x)\n",
        "    node_y.append(y)\n",
        "\n",
        "fig = go.Figure()\n",
        "fig.add_trace(go.Scatter(x=edge_x, y=edge_y,\n",
        "                         mode='lines', line=dict(width=0.5, color='#888'),\n",
        "                         hoverinfo='none'))\n",
        "fig.add_trace(go.Scatter(x=node_x, y=node_y,\n",
        "                         mode='markers+text', text=list(G.nodes()),\n",
        "                         textposition=\"bottom center\",\n",
        "                         marker=dict(size=10, color='skyblue'),\n",
        "                         hoverinfo='text'))\n",
        "fig.update_layout(title=\"🔗 Provider ↔ Receiver Network (Interactive)\",\n",
        "                  showlegend=False)\n",
        "fig.show()"
      ],
      "metadata": {
        "colab": {
          "base_uri": "https://localhost:8080/",
          "height": 542
        },
        "id": "Cgx0Qt6lpipo",
        "outputId": "c08a66f5-68bb-45c7-e1c8-5f472e572406"
      },
      "execution_count": null,
      "outputs": [
        {
          "output_type": "display_data",
          "data": {
            "text/html": [
              "<html>\n",
              "<head><meta charset=\"utf-8\" /></head>\n",
              "<body>\n",
              "    <div>            <script src=\"https://cdnjs.cloudflare.com/ajax/libs/mathjax/2.7.5/MathJax.js?config=TeX-AMS-MML_SVG\"></script><script type=\"text/javascript\">if (window.MathJax && window.MathJax.Hub && window.MathJax.Hub.Config) {window.MathJax.Hub.Config({SVG: {font: \"STIX-Web\"}});}</script>                <script type=\"text/javascript\">window.PlotlyConfig = {MathJaxConfig: 'local'};</script>\n",
              "        <script charset=\"utf-8\" src=\"https://cdn.plot.ly/plotly-2.35.2.min.js\"></script>                <div id=\"8a7c12a3-21fd-4371-b28b-e7fed2d838e9\" class=\"plotly-graph-div\" style=\"height:525px; width:100%;\"></div>            <script type=\"text/javascript\">                                    window.PLOTLYENV=window.PLOTLYENV || {};                                    if (document.getElementById(\"8a7c12a3-21fd-4371-b28b-e7fed2d838e9\")) {                    Plotly.newPlot(                        \"8a7c12a3-21fd-4371-b28b-e7fed2d838e9\",                        [{\"hoverinfo\":\"none\",\"line\":{\"color\":\"#888\",\"width\":0.5},\"mode\":\"lines\",\"x\":[0.3307678100482212,0.33081278345010035,null,0.3307678100482212,0.3409000061921262,null,0.3307678100482212,0.3247023016224057,null,0.3307678100482212,0.325513533303603,null,0.33081278345010035,0.3518147493709172,null,0.33081278345010035,0.3164288076953243,null,-0.7047587645787554,-0.7554986430760805,null,-0.7047587645787554,-0.6565648185291634,null,-0.7554986430760805,-0.7849171800749779,null,-0.08797263897809435,-0.10685450784628259,null,-0.08797263897809435,-0.0644710243646745,null,-0.10685450784628259,-0.12419121158711167,null,0.0015003262626762269,0.011659226155143778,null,0.011659226155143778,0.0015982076498622646,null,-0.9144868992727367,-0.938969486082005,null,-0.9144868992727367,-0.9358308250359372,null,-0.9144868992727367,-0.9312132903976584,null,-0.9144868992727367,-0.8518331828761513,null,-0.9144868992727367,-0.9599464447058553,null,-0.9144868992727367,-0.9446999176443145,null,0.1845194691742867,0.19808321682235408,null,0.19808321682235408,0.18308338196881854,null,-0.16307821293655156,-0.14160798909459968,null,-0.16307821293655156,-0.164396775937284,null,-0.14160798909459968,-0.1541806910743038,null,0.146150422291523,0.20677365023891145,null,0.146150422291523,0.16061603279479725,null,0.146150422291523,0.08433220945399054,null,0.20677365023891145,0.25155575544771913,null,-0.3205333624833286,-0.3355075289875798,null,-0.3205333624833286,-0.3171480111724146,null,-0.01708950171579516,-0.023673496907935236,null,0.26526883747821095,0.2960343193895119,null,0.26526883747821095,0.2858485095410172,null,0.26526883747821095,0.31083331912346296,null,0.26526883747821095,0.31103347365651135,null,0.26526883747821095,0.3292886978794513,null,0.26526883747821095,0.19635208348628785,null,0.26526883747821095,0.2016752636816486,null,0.26526883747821095,0.2756812007597789,null,0.26526883747821095,0.28512154511234755,null,0.2960343193895119,0.3187298116768438,null,0.2960343193895119,0.3164288076953243,null,-0.9615196236809695,-0.9623151736348051,null,-0.9615196236809695,-0.9446999176443145,null,-0.2716113258214762,-0.30850136816263074,null,-0.2716113258214762,-0.23706791159675542,null,-0.30850136816263074,-0.3307257266911076,null,0.09514412389180966,0.09390021315579057,null,0.09390021315579057,0.09275241756212851,null,0.09390021315579057,0.10865549099608982,null,-0.9827201951661169,-0.9599464447058553,null,-0.9827201951661169,-0.9938182255709073,null,-0.9827201951661169,-1.0,null,-0.13180402660130747,-0.13480664741325574,null,-0.13180402660130747,-0.14621828685682012,null,-0.32030840344352196,-0.3373181615496024,null,-0.32030840344352196,-0.2551056721110929,null,-0.32030840344352196,-0.3562137942089806,null,-0.21171184601808546,-0.23140078146173151,null,-0.21171184601808546,-0.187808555625945,null,-0.21171184601808546,-0.22843792775261879,null,-0.23140078146173151,-0.24579326752272923,null,-0.2241824266756513,-0.15735310365167726,null,-0.2241824266756513,-0.24456007989602216,null,-0.2241824266756513,-0.25626232356932943,null,-0.2241824266756513,-0.2523587213218213,null,-0.15735310365167726,-0.09382418119597576,null,0.07931744482660708,0.06235832662432222,null,0.07931744482660708,-0.04058103992370394,null,0.07931744482660708,0.04777801622589613,null,0.07931744482660708,0.19758408581836584,null,-0.46920884833272636,-0.4580036088599062,null,-0.4580036088599062,-0.4425342238169233,null,-0.4580036088599062,-0.467223046741753,null,-0.4580036088599062,-0.4740130408241581,null,-0.021807168599551386,-0.015842508265303066,null,-0.021807168599551386,-0.025241086143642184,null,-0.021807168599551386,-0.16116988889387793,null,-0.021807168599551386,0.09006056653150375,null,-0.021807168599551386,0.05897365346502596,null,0.39250437312134395,0.4239458508648157,null,0.39250437312134395,0.4314105126816312,null,0.39250437312134395,0.3992774287684399,null,0.39250437312134395,0.3303812128419814,null,0.4239458508648157,0.4044236808429122,null,0.4239458508648157,0.45072055590144755,null,0.2597060183325464,0.21496976019320155,null,0.2597060183325464,0.29851851320931466,null,0.2597060183325464,0.24195938035305437,null,0.21496976019320155,0.17625804943872145,null,0.09275241756212851,0.06457158308627105,null,-0.37600911047110497,-0.4151061744167662,null,-0.37600911047110497,-0.28526295484762737,null,-0.37600911047110497,-0.4569343891384905,null,0.8956936740880092,0.8436329342439938,null,0.8956936740880092,0.9173672474949004,null,0.8436329342439938,0.7836782018119335,null,-0.44204570432775425,-0.39936337894401525,null,-0.44204570432775425,-0.4569343891384905,null,-0.39936337894401525,-0.35428860204752805,null,-0.41702910257304115,-0.41578578710860326,null,-0.41702910257304115,-0.4332370233102123,null,-0.41702910257304115,-0.4177288568190823,null,-0.41578578710860326,-0.4425342238169233,null,-0.41578578710860326,-0.3719569602764213,null,0.07160654842302192,0.07424446911795134,null,0.07160654842302192,0.06663433860057234,null,0.07160654842302192,0.0848103991907712,null,0.33701142644857046,0.30994454183336917,null,0.33701142644857046,0.3568881561219029,null,0.30994454183336917,0.3981042016586064,null,0.30994454183336917,0.20360919508260195,null,0.30994454183336917,0.3307070800449158,null,0.30994454183336917,0.34980410120603,null,0.13926578246360263,0.14474352136008659,null,0.14474352136008659,0.1547765970223093,null,0.19623812176966035,0.20253355229655282,null,0.19623812176966035,0.2537892715716705,null,0.19623812176966035,0.1418894401761124,null,0.19623812176966035,0.14049063634062245,null,0.19623812176966035,0.17616252443684774,null,0.19623812176966035,0.29330032430650965,null,0.2233359551303243,0.13894113240826383,null,0.2233359551303243,0.26167657974122915,null,0.2233359551303243,0.24424369395897144,null,0.2233359551303243,0.16149490664302096,null,0.2233359551303243,0.320032148430841,null,0.13894113240826383,0.16097358975011455,null,0.13894113240826383,0.04501058566589831,null,-0.17513243669930503,-0.1881223016640121,null,-0.17513243669930503,-0.1683134593429653,null,-0.15987419687338097,-0.1610942930029006,null,-0.15987419687338097,-0.28526295484762737,null,-0.15987419687338097,-0.20151082316805338,null,-0.15987419687338097,-0.03957321230137767,null,-0.15987419687338097,-0.14994319123461505,null,-0.15987419687338097,-0.1880609631295173,null,-0.15987419687338097,-0.14621828685682012,null,-0.15987419687338097,-0.032771677875638755,null,-0.15987419687338097,-0.20688763047049907,null,-0.15987419687338097,-0.144753523977677,null,-0.15987419687338097,-0.187808555625945,null,-0.15987419687338097,-0.18513174325090578,null,-0.02300201953281332,-0.03610499190396799,null,-0.28526295484762737,-0.3882227511604113,null,-0.0024451132617755137,-0.021591127075295882,null,-0.0024451132617755137,-0.010870112804391248,null,-0.0024451132617755137,0.019569205934198242,null,-0.021591127075295882,-0.033695154872114476,null,0.18447504541901244,0.22434730356288599,null,0.18447504541901244,0.1418894401761124,null,-0.1541806910743038,-0.1674829298869719,null,-0.1541806910743038,-0.15983782323706316,null,-0.1541806910743038,-0.14048965541360736,null,0.6119841267419595,0.6686671205185142,null,0.6119841267419595,0.6024547004732502,null,0.6119841267419595,0.6413433175236724,null,0.6119841267419595,0.6965129047175014,null,0.6119841267419595,0.5030892379543258,null,0.6686671205185142,0.7176344034782816,null,-0.9446999176443145,-0.959532814464243,null,0.045079621884119236,0.05157378346889654,null,0.045079621884119236,0.08505094938999005,null,0.045079621884119236,0.030382141029216953,null,0.045079621884119236,0.019569205934198242,null,-0.5542961510641282,-0.6695875135544581,null,-0.5542961510641282,-0.43643777805703293,null,-0.6695875135544581,-0.7815280884331322,null,0.7631989488630667,0.735522495786762,null,0.7631989488630667,0.7913257397857941,null,0.7631989488630667,0.7726975761427121,null,0.735522495786762,0.6905576604785737,null,0.09374424830865416,0.05416123837621075,null,0.09374424830865416,0.12178235555444986,null,0.09374424830865416,0.11480299718493596,null,0.05416123837621075,0.020746859658604712,null,0.26167657974122915,0.30266206489934555,null,0.020746859658604712,0.03403086966070705,null,0.020746859658604712,0.005121497773188669,null,0.020746859658604712,-0.0005759456992660656,null,0.020746859658604712,0.0003399789609311975,null,0.020746859658604712,0.01576456889150905,null,0.03403086966070705,0.04827385849922439,null,-0.5649384884195803,-0.5273902864181998,null,-0.5273902864181998,-0.5495551844520137,null,-0.5273902864181998,-0.4823344941340403,null,0.4457573111641036,0.4734960497105778,null,0.4457573111641036,0.4027631050655214,null,0.4734960497105778,0.49887899047789225,null,0.15794361967479675,0.153895673369998,null,0.15794361967479675,0.15607635318940513,null,-0.22336866600176322,-0.25509687767318273,null,-0.22336866600176322,-0.18664215827645486,null,-0.25509687767318273,-0.2739369603805003,null,-0.25509687767318273,-0.2848875790013157,null,-0.4409399890528585,-0.46836864158408836,null,-0.4409399890528585,-0.40881520664758103,null,-0.46836864158408836,-0.502814163876226,null,-0.11142034170791927,-0.10937648997365307,null,-0.11142034170791927,-0.12173790459651695,null,-0.3037485463083076,-0.29968011090809366,null,-0.3037485463083076,-0.2743688225487359,null,0.30266206489934555,0.325513533303603,null,0.30266206489934555,0.32493448396608876,null,0.3981042016586064,0.4318039794338853,null,0.3981042016586064,0.4370115745602352,null,0.3981042016586064,0.45947346379443854,null,-0.7849171800749779,-0.7849730215732361,null,-0.30999242638580493,-0.3884348526361613,null,-0.30999242638580493,-0.2206756650332397,null,-0.3884348526361613,-0.4556274920569032,null,-0.3884348526361613,-0.4050778673340361,null,-0.3050373237018412,-0.33234911483219326,null,-0.3050373237018412,-0.3171480111724146,null,-0.3050373237018412,-0.3230813695110152,null,-0.3050373237018412,-0.2883986088918872,null,-0.04415520770064027,-0.04001318807594942,null,-0.04415520770064027,-0.055593711045448045,null,-0.04415520770064027,-0.043025466513812276,null,-0.04415520770064027,-0.05565798177842482,null,-0.04001318807594942,-0.09382418119597576,null,-0.04001318807594942,-0.001978155145179123,null,-0.04001318807594942,-0.05098731681858883,null,-0.351302325017162,-0.3249336005050416,null,-0.351302325017162,-0.3722564327660278,null,-0.3249336005050416,-0.2704868037085564,null,-0.3249336005050416,-0.3719569602764213,null,0.1694127258217132,0.15056878888906655,null,0.15056878888906655,0.14263669891322078,null,-0.7815280884331322,-0.853790820934208,null,-0.7815280884331322,-0.7970351079160144,null,-0.7815280884331322,-0.8276443477848342,null,-0.7815280884331322,-0.8518331828761513,null,-0.7815280884331322,-0.7916077442019069,null,-0.853790820934208,-0.9162194594195354,null,-0.6241597500566333,-0.580581372490043,null,-0.6241597500566333,-0.6540392531837635,null,-0.580581372490043,-0.5390361756353177,null,-0.4863859187968347,-0.48641154218219385,null,-0.4863859187968347,-0.46395385158305935,null,-0.48641154218219385,-0.4556274920569032,null,-0.48641154218219385,-0.5129623527367436,null,0.388523389382884,0.29330032430650965,null,0.388523389382884,0.4913455987464279,null,0.388523389382884,0.4276537659319756,null,0.388523389382884,0.42098625215467506,null,0.388523389382884,0.3292886978794513,null,-0.35574530788962644,-0.3051048586377546,null,-0.35574530788962644,-0.38069213664408524,null,-0.35574530788962644,-0.38393703137566787,null,-0.3051048586377546,-0.24388110197068424,null,-0.17800610229507918,-0.19788206874075512,null,-0.17800610229507918,-0.15120101968164185,null,0.07445537184247149,0.07675107835979512,null,-0.9162194594195354,-0.948629615580964,null,-0.9162194594195354,-0.9482743686009631,null,-0.948629615580964,-0.972348018973288,null,-0.155381408937574,-0.1500567385280119,null,-0.155381408937574,-0.14342337236492772,null,-0.155381408937574,-0.15415022492454364,null,0.3241464504168346,0.3247023016224057,null,0.3241464504168346,0.30830614549605734,null,0.3247023016224057,0.31628716081010544,null,-0.0770520401558658,-0.04058103992370394,null,-0.0770520401558658,-0.10502350520606364,null,-0.04058103992370394,0.002381418640804721,null,-0.04058103992370394,-0.13143789949117782,null,0.07290314412013678,0.07798794303855705,null,0.07290314412013678,0.08505094938999005,null,-0.5816543176504532,-0.6264105276813036,null,-0.5816543176504532,-0.4847939752872244,null,-0.5816543176504532,-0.6565648185291634,null,-0.6264105276813036,-0.6702411708639574,null,0.0826329496927191,0.0740666213745458,null,0.0826329496927191,0.09165825931070092,null,0.0740666213745458,0.08760613837359672,null,-0.2554306136554027,-0.3154212556559076,null,-0.2554306136554027,-0.2643277286369993,null,-0.2554306136554027,-0.2883986088918872,null,-0.2554306136554027,-0.185036756182174,null,-0.3154212556559076,-0.369356431706113,null,0.05353570788532805,0.049406585155463686,null,0.05353570788532805,0.07114704226589089,null,0.2933228968652887,0.3651313155328621,null,0.2933228968652887,0.2608137815036151,null,0.2933228968652887,0.2537892715716705,null,0.3651313155328621,0.4044236808429122,null,0.3651313155328621,0.4147007141500236,null,-0.12637157686650288,-0.15415022492454364,null,-0.12637157686650288,-0.11226443565707989,null,-0.12637157686650288,-0.09859740379030153,null,-0.12637157686650288,-0.12005559630685998,null,-0.15415022492454364,-0.18712442165683044,null,-0.04830563301041822,-0.04073412004864616,null,-0.055444105634804605,-0.1530604959011769,null,-0.055444105634804605,-0.07089477694832709,null,-0.055444105634804605,-0.0005759456992660656,null,-0.055444105634804605,0.023589957003422736,null,-0.1530604959011769,-0.24388110197068424,null,0.03460995666861777,0.029848112914742826,null,0.03460995666861777,0.03498574814407111,null,0.03460995666861777,0.016993860363743157,null,-0.24445725769761245,-0.23118714970736412,null,-0.24445725769761245,-0.1880609631295173,null,-0.24445725769761245,-0.26350953939728017,null,-0.0253415218554773,0.05459253957041377,null,-0.0253415218554773,-0.10502350520606364,null,0.05459253957041377,0.1253594868609406,null,0.05459253957041377,0.0889108052196038,null,-0.47270843629799525,-0.5205375557754264,null,-0.47270843629799525,-0.4177288568190823,null,-0.5205375557754264,-0.5477573344725394,null,0.13254214830545863,0.11835357130771415,null,0.13254214830545863,0.14658152835019617,null,0.02574549352261439,0.02641335504870215,null,0.02574549352261439,0.0009739629358168329,null,0.02574549352261439,0.012825260086949094,null,0.02574549352261439,0.04939701792599785,null,0.564418474645534,0.5877046173429279,null,0.564418474645534,0.517805189499568,null,0.564418474645534,0.6310151764453026,null,0.564418474645534,0.6062426436962521,null,0.564418474645534,0.4913455987464279,null,0.06663433860057234,0.060850740638821385,null,0.06663433860057234,0.06727426471595703,null,-0.22051001689265268,-0.20236213900702146,null,-0.22051001689265268,-0.19102700335084752,null,-0.012880533023584027,-0.011762230868259822,null,0.4615901674115824,0.43124202844712584,null,0.4615901674115824,0.4799740396108649,null,0.4615901674115824,0.542365593315784,null,0.4615901674115824,0.3802433257883583,null,0.08353850900886368,0.14049063634062245,null,0.08353850900886368,-0.032771677875638755,null,0.08353850900886368,0.18725775797255154,null,0.08353850900886368,0.091297068581275,null,-0.19007975036131913,-0.23706791159675542,null,-0.19007975036131913,-0.1865279182920469,null,-0.19007975036131913,-0.18615467387108608,null,-0.19007975036131913,-0.1026928220277308,null,-0.19007975036131913,-0.1824236154860586,null,-0.19007975036131913,-0.1395992549696379,null,-0.19007975036131913,-0.29351827770823175,null,-0.19007975036131913,-0.1908222879884201,null,-0.19007975036131913,-0.20368675146378667,null,-0.23706791159675542,-0.2561209042465829,null,-0.13363314200243392,-0.11326685286388007,null,-0.13363314200243392,-0.17452555627295463,null,-0.13363314200243392,-0.13762859206848096,null,-0.13363314200243392,-0.11191390974290297,null,-0.13363314200243392,-0.11306451364671907,null,-0.11326685286388007,-0.10332226144181668,null,-0.0920773082889597,-0.07174403684081448,null,-0.0920773082889597,-0.09661383217709504,null,-0.07174403684081448,-0.07365923782293192,null,-0.025241086143642184,-0.041039662797455655,null,0.1253594868609406,0.12824880685687998,null,0.1253594868609406,0.14928190646316974,null,0.1253594868609406,0.104802981793675,null,0.1253594868609406,0.2016752636816486,null,0.1253594868609406,0.0856637153499968,null,0.1253594868609406,0.1305160488071348,null,0.6253171138288338,0.6501407138457886,null,0.6253171138288338,0.542365593315784,null,0.6253171138288338,0.664683165930647,null,0.8343368063815993,0.853730047013381,null,0.8343368063815993,0.7937341981239409,null,0.8343368063815993,0.8336781476633172,null,-0.04674679004915433,-0.06454491125252933,null,-0.04674679004915433,-0.05281245544158705,null,-0.04674679004915433,-0.03652597656997842,null,-0.06454491125252933,-0.07032416844032563,null,0.09820759347193815,0.1003322509694932,null,0.09820759347193815,0.10836772837743917,null,0.1003322509694932,0.09204149233514901,null,0.7431334742693263,0.7210349357987001,null,0.7431334742693263,0.7635386101854329,null,0.7210349357987001,0.6840043502053378,null,0.6117292457295671,0.6215630432680094,null,0.6117292457295671,0.6309048761312291,null,0.6117292457295671,0.5671085872641736,null,0.6215630432680094,0.6344085285336262,null,0.2858485095410172,0.2855781517036328,null,0.3518147493709172,0.3551459147038284,null,-0.14175684021837548,-0.13899312896989718,null,-0.27762997279661095,-0.27081958617008495,null,-0.7080787851120032,-0.74394158607894,null,-0.7080787851120032,-0.6565648185291634,null,-0.7080787851120032,-0.7435626845867755,null,-0.23401539800871551,-0.2460008147745967,null,-0.23401539800871551,-0.23914270459899256,null,-0.23401539800871551,-0.20738811564339976,null,-0.2460008147745967,-0.2632743145557503,null,-0.07349415347051148,-0.1395992549696379,null,-0.07349415347051148,-0.0077671624577793225,null,0.6905576604785737,0.7307300146438239,null,0.6905576604785737,0.6896803099179493,null,0.6905576604785737,0.6310151764453026,null,0.7307300146438239,0.7661103051999382,null,0.14323264586608575,0.09853933727071953,null,0.14323264586608575,0.13286296477011578,null,0.14323264586608575,0.1880850209416925,null,0.09853933727071953,0.055122914981186766,null,0.12715091319980598,0.19635208348628785,null,0.12715091319980598,0.11330494205369221,null,0.12715091319980598,0.1272033961533882,null,0.12715091319980598,0.018576791970876517,null,0.12715091319980598,0.1889483738651795,null,-0.08416381192863928,-0.08438544826064907,null,-0.08416381192863928,-0.07032488649591889,null,-0.08416381192863928,-0.09859740379030153,null,0.013683376558858156,0.022059935420866723,null,0.013683376558858156,0.012825260086949094,null,-0.03588748283062183,-0.04283240419924595,null,-0.04283240419924595,-0.039707611353373785,null,-0.04283240419924595,-0.05282633637852714,null,-0.17452555627295463,-0.20136068294041623,null,-0.17452555627295463,-0.2058766634194494,null,-0.15910818147047978,-0.1448234929364124,null,-0.15910818147047978,-0.1683134593429653,null,-0.1448234929364124,-0.11395843445428927,null,0.49150159393568466,0.5109990567167431,null,0.49150159393568466,0.46450593302658927,null,0.14236229777088702,0.11798492121579433,null,0.14236229777088702,0.17616252443684774,null,0.11798492121579433,0.0889108052196038,null,0.04790503374839454,0.04908937374358318,null,-0.08630721507856703,-0.08854928008161118,null,-0.08854928008161118,-0.08332191773637099,null,0.1368099701832592,0.12815075238837356,null,0.1368099701832592,0.11739211563181137,null,-0.1927135541231256,-0.17063497550403978,null,-0.1927135541231256,-0.20806079960158905,null,-0.1927135541231256,-0.18833241165973758,null,-0.1927135541231256,-0.21033767698075562,null,0.6273820906152308,0.5223705908627759,null,0.6273820906152308,0.6615764265158959,null,0.6273820906152308,0.6379677603543321,null,0.6273820906152308,0.7150874164465237,null,0.6273820906152308,0.6503017974408408,null,0.5223705908627759,0.4009895631356249,null,0.5223705908627759,0.5663527538979504,null,0.057184605094432114,0.06336171572640181,null,0.06336171572640181,0.0705955480140968,null,0.04827385849922439,0.0758618342332911,null,0.0758618342332911,0.07371901774293985,null,0.0758618342332911,0.09905273305168802,null,0.4753859580263745,0.517805189499568,null,0.4753859580263745,0.5400152071178042,null,0.4753859580263745,0.3933359650101766,null,0.08505094938999005,0.12643487397625938,null,0.4044236808429122,0.3851869484994157,null,0.4044236808429122,0.4387465503471059,null,-0.0530786698470612,-0.03810858007261091,null,-0.03810858007261091,-0.11289876013541834,null,-0.03810858007261091,0.03321455829802129,null,-0.8826411106235301,-0.8910331087941742,null,-0.8826411106235301,-0.8518331828761513,null,0.22205967484394443,0.24024749684987864,null,0.22205967484394443,0.18936082931509096,null,0.22205967484394443,0.233067055279494,null,0.3409000061921262,0.3410153464975873,null,0.09322201373894401,0.0856637153499968,null,0.0856637153499968,0.05219411136825651,null,-0.13852159730699207,-0.14805632827807355,null,0.0009739629358168329,-0.008088848348525388,null,0.31083331912346296,0.35020174943709637,null,0.03321455829802129,0.15053317936418942,null,0.03321455829802129,-0.0005759456992660656,null,0.15053317936418942,0.18239119239289642,null,0.15053317936418942,0.24482111036638093,null,0.5485761192837718,0.5768987185226732,null,0.5485761192837718,0.5538601163312381,null,0.5485761192837718,0.5030892379543258,null,-0.11289876013541834,-0.185036756182174,null,0.24482111036638093,0.2694875383087827,null,0.24482111036638093,0.3242170635900171,null,-0.35428860204752805,-0.4177288568190823,null,-0.35428860204752805,-0.40881520664758103,null,-0.35428860204752805,-0.25424067389600613,null,-0.35428860204752805,-0.3798340426611808,null,-0.4177288568190823,-0.45182814246258596,null,0.22684232045973743,0.25249694625148283,null,0.22684232045973743,0.254989554341932,null,0.22684232045973743,0.19758408581836584,null,0.25249694625148283,0.27875802646587855,null,-0.23168231557698116,-0.20688763047049907,null,-0.23168231557698116,-0.2592246603245717,null,0.04461768286802466,0.044897037195228855,null,0.04461768286802466,0.05662138597308587,null,0.04461768286802466,0.03613959432857131,null,-0.12627773013295587,-0.14048965541360736,null,-0.18037813946652473,-0.18833241165973758,null,-0.12828500374217175,-0.25424067389600613,null,-0.12828500374217175,-0.10502350520606364,null,-0.12828500374217175,0.0015760317623315968,null,-0.25424067389600613,-0.31581488876124875,null,-0.4847939752872244,-0.3882227511604113,null,-0.1677721578870997,-0.1738958930356391,null,0.31103347365651135,0.3516074653754038,null,0.09034685399347656,0.07584364087332272,null,0.09034685399347656,0.08442875069046989,null,0.09034685399347656,0.11910919410088114,null,0.3668215541668811,0.3889561183763332,null,0.3668215541668811,0.29851851320931466,null,0.3668215541668811,0.4169336101552576,null,0.17625804943872145,0.1305160488071348,null,0.17625804943872145,0.200313125590225,null,0.17625804943872145,0.17592813534980756,null,0.1305160488071348,0.08639594292528069,null,0.2537892715716705,0.13866859220336197,null,0.2537892715716705,0.28734286261340064,null,0.2537892715716705,0.3803263614966848,null,0.2694881902691599,0.3303812128419814,null,0.2694881902691599,0.27234425163446063,null,0.2694881902691599,0.20502331974467902,null,0.3303812128419814,0.34980410120603,null,-0.2963185264747439,-0.2719225214294938,null,-0.2719225214294938,-0.24388110197068424,null,-0.14810903304717396,-0.14781130480338475,null,-0.14810903304717396,-0.052121769014672976,null,-0.14810903304717396,-0.22338404625469435,null,-0.14810903304717396,-0.19102700335084752,null,-0.14810903304717396,-0.1442220368164284,null,-0.24640533317070287,-0.23551778455514008,null,-0.23551778455514008,-0.22436094386289046,null,-0.2551056721110929,-0.18832925601374156,null,-0.40881520664758103,-0.44632481456621165,null,-0.6269819457034552,-0.5967479751154585,null,-0.6269819457034552,-0.6414661825740094,null,-0.5967479751154585,-0.6218589449092922,null,-0.5967479751154585,-0.5390361756353177,null,0.4520386806109742,0.4169336101552576,null,-0.7970351079160144,-0.8142730203988943,null,0.0908922250547344,0.08663869566722299,null,0.0908922250547344,0.09923160500386732,null,-0.4556274920569032,-0.4960403130038195,null,-0.4556274920569032,-0.48970109634675035,null,-0.4556274920569032,-0.4670838423049633,null,-0.11245463397206687,-0.10658278750338263,null,-0.11245463397206687,-0.1294882581168355,null,0.7765510592917958,0.7768900078464982,null,0.7765510592917958,0.7933394211220598,null,0.7765510592917958,0.7854007519391923,null,0.7765510592917958,0.7635386101854329,null,-0.502814163876226,-0.522134604367606,null,-0.502814163876226,-0.5323493045254036,null,-0.5104555838307662,-0.5220960809315424,null,-0.5220960809315424,-0.5149407675049372,null,0.002381418640804721,0.04355902957909868,null,0.002381418640804721,0.0030935537126496036,null,0.002381418640804721,0.0001424451352465821,null,0.008833491548319918,0.009312734506032778,null,0.009312734506032778,0.025446856858827326,null,0.3187298116768438,0.35376897130974705,null,0.1418894401761124,0.06727426471595703,null,-0.38014197734171995,-0.29351827770823175,null,-0.38014197734171995,-0.46395385158305935,null,-0.29351827770823175,-0.34108944477937875,null,0.6024547004732502,0.5512696103442918,null,0.6024547004732502,0.6342290266756286,null,-0.052121769014672976,0.04501058566589831,null,-0.052121769014672976,-0.06204109794603793,null,0.8724736813352907,0.8346292100094893,null,0.8724736813352907,0.880283282134067,null,0.8346292100094893,0.854838047374289,null,0.8346292100094893,0.7836782018119335,null,-0.4960403130038195,-0.5149407675049372,null,-0.003850627923554576,0.007488823021216455,null,-0.003850627923554576,0.006689803080380991,null,-0.08877100201045764,-0.09648945595181331,null,-0.08877100201045764,-0.08298063369251296,null,0.28911412803291014,0.3256665811816388,null,0.28911412803291014,0.18725775797255154,null,0.28911412803291014,0.3802433257883583,null,0.3256665811816388,0.35020174943709637,null,-0.06204109794603793,-0.09476412914528771,null,-0.09476412914528771,-0.12682867645996107,null,-0.028904329955685173,-0.019598728130022006,null,-0.22585961504910554,-0.22474439824551284,null,-0.22474439824551284,-0.23389449342920335,null,-0.22474439824551284,-0.22577329118530123,null,-0.03260812626846671,-0.026033927091365847,null,-0.03260812626846671,-0.06669453193327537,null,-0.03260812626846671,-0.016159045716603763,null,-0.03260812626846671,0.0003399789609311975,null,0.08639594292528069,0.04355902957909868,null,0.08639594292528069,0.08433220945399054,null,-0.8276443477848342,-0.8505544119857489,null,-0.8276443477848342,-0.8433626165334772,null,0.35020174943709637,0.3851869484994157,null,0.6840043502053378,0.6296522519985296,null,0.6840043502053378,0.7165502375046151,null,0.6840043502053378,0.7157061525950356,null,0.6296522519985296,0.5663527538979504,null,0.6296522519985296,0.6495281609802946,null,-0.09562832163540025,-0.09356706163146948,null,-0.09562832163540025,0.018576791970876517,null,-0.09562832163540025,-0.06669453193327537,null,-0.09562832163540025,-0.2206756650332397,null,-0.09562832163540025,-0.12182498319587441,null,-0.8505544119857489,-0.8495478986782032,null,-0.22338404625469435,-0.2940657245760715,null,0.4913455987464279,0.5512696103442918,null,0.08102845367104144,0.07777899425372492,null,0.7667022124583039,0.7150874164465237,null,0.7667022124583039,0.7937341981239409,null,0.7667022124583039,0.793287330580638,null,0.7667022124583039,0.7925429433174502,null,0.7150874164465237,0.7877014475498229,null,0.22826728734334814,0.1880850209416925,null,0.22826728734334814,0.2608137815036151,null,0.7661103051999382,0.7829169297158468,null,-0.10502350520606364,-0.18832925601374156,null,0.4027631050655214,0.34980410120603,null,0.2268741086961319,0.25297208267380894,null,0.2268741086961319,0.18810598726443134,null,0.07048791758617998,-0.03957321230137767,null,0.07048791758617998,0.18810598726443134,null,0.07048791758617998,0.03880382514225355,null,-0.2847785138996116,-0.31216386814566166,null,-0.2847785138996116,-0.20738811564339976,null,-0.2847785138996116,-0.3555557793564482,null,-0.31216386814566166,-0.32757001987481144,null,-0.5360201098148171,-0.5531063351008934,null,-0.5360201098148171,-0.5671341317187657,null,-0.5360201098148171,-0.5936077260524393,null,-0.5360201098148171,-0.547331383551748,null,-0.5360201098148171,-0.4569343891384905,null,0.4009895631356249,0.4321671997924843,null,0.4009895631356249,0.3242170635900171,null,0.4009895631356249,0.320032148430841,null,0.4009895631356249,0.4335084733113807,null,0.4009895631356249,0.3585983480991345,null,0.4321671997924843,0.46503826840355894,null,0.46098185485383897,0.4599818443313981,null,0.46098185485383897,0.49090659902363126,null,0.46098185485383897,0.46069743937446617,null,0.13866859220336197,0.16449274870646122,null,0.13866859220336197,0.0015760317623315968,null,0.13866859220336197,0.20091647720100392,null,-0.5390361756353177,-0.46395385158305935,null,-0.20151082316805338,-0.23913707949393362,null,-0.4422195775985988,-0.47007165946098817,null,-0.4422195775985988,-0.40394215669048655,null,-0.4422195775985988,-0.4590087073446341,null,-0.47007165946098817,-0.47961349240297385,null,-0.1026928220277308,-0.005787894379711276,null,-0.1026928220277308,-0.08427338868136604,null,0.25095033104043624,0.2659234287412317,null,0.25095033104043624,0.2831375481280027,null,0.25095033104043624,0.20091647720100392,null,0.25095033104043624,0.2756812007597789,null,0.25095033104043624,0.26121004144915855,null,-0.2632743145557503,-0.3090777600562016,null,-0.2632743145557503,-0.24456007989602216,null,-0.2632743145557503,-0.27298794820079575,null,0.28896709000987425,0.18810598726443134,null,0.28896709000987425,0.3616813985914492,null,0.28896709000987425,0.3292886978794513,null,0.28896709000987425,0.30685356798384533,null,-0.021696467121493687,0.0015760317623315968,null,-0.021696467121493687,-0.03404750908086599,null,-0.021696467121493687,-0.012071761485614625,null,-0.005787894379711276,0.08433220945399054,null,-0.005787894379711276,0.03703901074750551,null,0.08433220945399054,0.09426109611349254,null,0.08433220945399054,0.143290044940744,null,-0.185036756182174,-0.17977830782759724,null,-0.02961766307459363,-0.03922832459085318,null,-0.03922832459085318,-0.04655152018683192,null,-0.2986333413165868,-0.43643777805703293,null,-0.2986333413165868,-0.16116988889387793,null,-0.43643777805703293,-0.4823344941340403,null,-0.0077671624577793225,0.06727426471595703,null,-0.0077671624577793225,-0.012678905778909177,null,-0.18712442165683044,-0.20653450842012147,null,0.5671085872641736,0.5101411279337676,null,0.6344085285336262,0.6195077768052851,null,0.6195077768052851,0.6408773526672347,null,0.6195077768052851,0.575691146529881,null,-0.14048169453455367,-0.18664215827645486,null,-0.14048169453455367,-0.09510343473945648,null,-0.17067158938282337,-0.17390731071509954,null,-0.11702663721745019,-0.12132512876884874,null,-0.11702663721745019,-0.08984686673042247,null,-0.11702663721745019,-0.1123072206264385,null,-0.11702663721745019,-0.1288599418761178,null,-0.04184654901274591,-0.02004898300025073,null,-0.41499548612493276,-0.38210416428614247,null,-0.38210416428614247,-0.3488268858223795,null,-0.09485824711350362,-0.10112382254761086,null,-0.09485824711350362,-0.09859740379030153,null,-0.5481507891919847,-0.5303944181656066,null,-0.5303944181656066,-0.5330383394084881,null,-0.5303944181656066,-0.5129623527367436,null,-0.187808555625945,-0.20782435257535317,null,0.49091415362932944,0.4710415157966396,null,0.49091415362932944,0.5037165454503768,null,-0.1922858618122065,-0.1908222879884201,null,0.16149490664302096,0.09426109611349254,null,-0.22436094386289046,-0.22865166899644165,null,-0.22436094386289046,-0.22455600957548616,null,-0.40394215669048655,-0.369356431706113,null,0.055122914981186766,0.012594533823153665,null,0.012594533823153665,-0.028230192051421955,null,0.143290044940744,0.18936082931509096,null,0.143290044940744,0.17725389120442603,null,0.18936082931509096,0.20315068924636828,null,-0.3307257266911076,-0.3348602101361357,null,0.13478867035597264,0.14482379692441386,null,0.14482379692441386,0.14962747959476744,null,-0.3488268858223795,-0.2961010437882128,null,-0.2961010437882128,-0.24388110197068424,null,0.31628716081010544,0.31625170865888597,null,-0.2561209042465829,-0.2663556384544998,null,0.04153315702673249,0.054032722164481815,null,-0.13143789949117782,-0.1736004924701844,null,-0.13143789949117782,-0.20738811564339976,null,-0.1736004924701844,-0.2042477302351525,null,0.05219411136825651,0.03054148086700043,null,-0.08298063369251296,-0.06611358029454878,null,0.16050081809729128,0.1498570589565172,null,0.04501058566589831,0.02717532035931679,null,0.02717532035931679,0.004934753138112135,null,-0.18832925601374156,-0.19092034849516648,null,-0.18832925601374156,-0.22164886480177995,null,0.06361685920792774,0.07494990806046047,null,0.30754537078184985,0.3933359650101766,null,0.30754537078184985,0.3585983480991345,null,0.30754537078184985,0.19758408581836584,null,-0.3171480111724146,-0.32920101769159843,null,0.18239119239289642,0.21813619395638387,null,0.21813619395638387,0.25310423046913616,null,0.18307730568325212,0.1893392019498127,null,0.18307730568325212,0.17524575023034733,null,0.11330494205369221,0.0889108052196038,null,0.11330494205369221,0.14562994586809033,null,-0.12394995004959496,-0.14809923357025936,null,-0.12394995004959496,-0.09510343473945648,null,-0.14809923357025936,-0.17081640693627234,null,-0.04846113608457673,-0.09510343473945648,null,-0.04846113608457673,-0.0005759456992660656,null,-0.24388110197068424,-0.26266782601454114,null,0.1329958034387217,0.05897365346502596,null,0.1329958034387217,0.20502331974467902,null,0.1329958034387217,0.11910919410088114,null,0.1329958034387217,0.15362731445271569,null,0.1329958034387217,0.13086379646986881,null,0.05897365346502596,0.07828343648294313,null,-0.2704868037085564,-0.2206756650332397,null,0.6408773526672347,0.6605118831177348,null,0.6605118831177348,0.6342290266756286,null,0.8923004845920576,0.8490887655688132,null,0.8923004845920576,0.9157100773487523,null,0.8490887655688132,0.8826976697689485,null,0.8490887655688132,0.7877014475498229,null,0.7176344034782816,0.7495533267655807,null,0.028653728499711654,0.039650007103796674,null,-0.31581488876124875,-0.35199533708944464,null,0.6615764265158959,0.7072261310238709,null,-0.369356431706113,-0.38176919532771625,null,0.08366793839838545,0.07035096869351092,null,0.08366793839838545,0.06921472027304394,null,0.07035096869351092,0.054113420328579284,null,0.12643487397625938,0.15258401517634618,null,0.12643487397625938,0.12706485273819326,null,0.12643487397625938,0.12521341958007162,null,0.15258401517634618,0.17575113494269476,null,-0.08097010774246119,-0.09517246832414612,null,-0.4823344941340403,-0.5036070321965702,null,-0.4823344941340403,-0.4954505744990638,null,0.1285673812398403,0.1469237235701829,null,0.1469237235701829,0.15841294072702233,null,-0.16763801950959853,-0.18482447128857,null,-0.18482447128857,-0.19192638187067618,null,-0.38069213664408524,-0.4034379009656163,null,-0.17081640693627234,-0.18242772521719028,null,-0.18242772521719028,-0.1846490140851147,null,0.2831375481280027,0.3136930629095085,null,0.0802034003607563,0.061009670895344946,null,0.0802034003607563,0.08699461161107168,null,-0.19192638187067618,-0.18120987043827597,null,-0.19192638187067618,-0.17470280303732383,null,-0.19192638187067618,-0.1997406087659243,null,-0.19192638187067618,-0.19940899543751817,null,-0.19192638187067618,-0.1880609631295173,null,-0.19192638187067618,-0.18836417421555057,null,0.14104984143035385,0.12402307442273912,null,0.12287600338693502,0.12851997507248036,null,0.12287600338693502,0.13870892872903134,null,0.12287600338693502,0.11480299718493596,null,0.026626463282452044,0.03970559468548697,null,-0.2058766634194494,-0.21833728442022618,null,0.0577479823800523,0.03982621162305323,null,0.027601816673941182,0.024380625268272067,null,0.027601816673941182,0.035863124317449216,null,0.027601816673941182,0.01576456889150905,null,-0.024466405769064312,-0.03652597656997842,null,-0.024466405769064312,-0.019766827223391247,null,-0.024466405769064312,-0.009508244016531813,null,0.289448407086471,0.25635381118633394,null,0.289448407086471,0.32040706149568005,null,0.25635381118633394,0.20360919508260195,null,0.4314105126816312,0.4714036173173123,null,-0.07895777370144604,-0.07405637698188018,null,-0.07405637698188018,-0.07142807491654386,null,-0.07365923782293192,-0.0734061128710666,null,-0.07365923782293192,-0.08095590446106629,null,-0.0734061128710666,-0.05629321640802823,null,-0.5036070321965702,-0.5131757140610513,null,-0.04655152018683192,-0.04031999596112072,null,-0.04031999596112072,-0.03156245849938626,null,0.0362659935883645,0.053346378396874373,null,0.0362659935883645,0.030382141029216953,null,-0.23913707949393362,-0.2743688225487359,null,0.5142937007769335,0.5396153665968715,null,0.5142937007769335,0.49090659902363126,null,0.5142937007769335,0.5034015146507167,null,0.5396153665968715,0.5663527538979504,null,0.4147007141500236,0.46450593302658927,null,0.4147007141500236,0.4318265440825583,null,0.46450593302658927,0.4836831842177268,null,0.1274368032141816,0.1431753589444135,null,0.3516074653754038,0.3583677669357728,null,-0.06669453193327537,-0.06396209987108756,null,-0.08326951146958882,-0.06955899398479125,null,-0.08326951146958882,-0.10579611195242601,null,-0.08458802183444758,-0.09859740379030153,null,-0.08458802183444758,-0.0650439846234299,null,-0.16900400078951192,-0.17616114623962237,null,0.06727426471595703,0.09301036862460811,null,0.06727426471595703,0.03613959432857131,null,-0.29139765822849567,-0.2523587213218213,null,-0.11581729258606999,-0.1159438361894181,null,-0.11581729258606999,-0.11206046661540633,null,-0.1159438361894181,-0.11826386320777288,null,0.04007248375911681,0.048233017779019796,null,-0.2074154870669884,-0.2008112161818502,null,-0.2074154870669884,-0.21033767698075562,null,-0.2074154870669884,-0.1903197908079973,null,-0.2307260036639821,-0.23726374301712438,null,-0.2307260036639821,-0.2168345516296614,null,-0.07142807491654386,-0.054734173248909265,null,-0.07142807491654386,-0.06960368008539071,null,-0.07142807491654386,-0.07310538560631435,null,-0.07142807491654386,-0.08404237651348652,null,-0.23389449342920335,-0.24021184677455182,null,0.03862572924790491,0.03708936821965307,null,0.29851851320931466,0.2430046831529834,null,0.8826976697689485,0.9052014078043158,null,0.7836782018119335,0.6965129047175014,null,-0.2168345516296614,-0.2221933539004023,null,-0.08984686673042247,-0.07098913583860592,null,0.2042675857113233,0.1914672038436763,null,0.2042675857113233,0.1936132504109137,null,-0.09628440265784709,-0.08095590446106629,null,-0.08095590446106629,-0.0856856339167741,null,0.0764294043902214,0.07833943253783307,null,0.0764294043902214,0.05925257387382568,null,0.16302911622809077,0.15370051449603073,null,-0.5131757140610513,-0.5250543697839605,null,-0.0036794910941568694,-0.015024385672505232,null,0.09301036862460811,0.11741209592581335,null,0.4265119232772557,0.3616813985914492,null,0.4265119232772557,0.4745479857137633,null,0.4265119232772557,0.4394733822529636,null,-0.48970109634675035,-0.5088322257387322,null,-0.34108944477937875,-0.3671827647490277,null,0.09006056653150375,0.20360919508260195,null,-0.46395385158305935,-0.4770845555791544,null,0.24846547448560005,0.27123708409689673,null,0.27123708409689673,0.2855781517036328,null,0.25155575544771913,0.2816048494561551,null,-0.08621459110570351,-0.09064031016947334,null,0.07828343648294313,0.0917214588727117,null,-0.06696669312036811,-0.06439257788817948,null,-0.20136068294041623,-0.2076919640429042,null,-0.20136068294041623,-0.2203751972749015,null,-0.12593289687584483,-0.1090707784818623,null,0.1547765970223093,0.15238235784461104,null,0.1547765970223093,0.13676753521159699,null,-0.5088322257387322,-0.5223306343457444,null,-0.23273256786546923,-0.22658711487893105,null,-0.32920101769159843,-0.3485406450648211,null,0.1574648575796708,0.15956979555802156,null,-0.2940657245760715,-0.329412602471582,null,-0.2940657245760715,-0.34835128252307407,null,-0.6314316060470705,-0.5936077260524393,null,-0.12905381671458874,-0.15120101968164185,null,-0.12905381671458874,-0.10579611195242601,null,-0.47961349240297385,-0.4629579894910404,null,-0.09382418119597576,-0.08918297630035192,null,-0.0013242112007289437,0.002525199631775848,null,-0.7916077442019069,-0.8029774029734621,null,0.06457158308627105,0.07114749232302452,null,0.11694140998521017,0.13168819589989483,null,-0.2536844210097049,-0.2555016449310352,null,-0.14713173085030792,-0.1407264776578779,null,0.5512696103442918,0.5801475684120535,null,0.04355902957909868,0.06354665438595135,null,0.04355902957909868,0.03977374970111656,null,0.04355902957909868,0.0100529917869135,null,-0.8142730203988943,-0.8245644268419126,null,-0.8142730203988943,-0.8299571985873907,null,0.12418380735113856,0.10793696321625403,null,0.12418380735113856,0.13091026162095176,null,-0.021085650663018148,-0.026265098471821204,null,0.17166042998677716,0.16890971703722,null,0.20360919508260195,0.16171463882028603,null,0.20360919508260195,0.17786668762849792,null,-0.14621828685682012,-0.13917728087298983,null,-0.08287541807078859,-0.08918297630035192,null,0.09426109611349254,0.023589957003422736,null,0.03613959432857131,-0.001978155145179123,null,0.012571110943161086,0.016993860363743157,null,0.498202364557675,0.5034015146507167,null,0.498202364557675,0.5037165454503768,null,0.004934753138112135,-0.01490109412956485,null,-0.9446149233798925,-0.9482743686009631,null,0.11736590502874401,0.12354022541879706,null,0.4745479857137633,0.5101411279337676,null,-0.5003676211110867,-0.4629579894910404,null,-0.4629579894910404,-0.4149529191282535,null,0.10164535204293657,0.10050590768277451,null,-0.13917728087298983,-0.12182498319587441,null,0.06354665438595135,0.09597431229123266,null,-0.041039662797455655,-0.04240185655050171,null,-0.041039662797455655,-0.037057068109855845,null,-0.041039662797455655,-0.051063562381571885,null,0.5775801069938925,0.5845898260183149,null,0.5775801069938925,0.5400152071178042,null,0.2756812007597789,0.3009875631359833,null,-0.3768189498800275,-0.3555557793564482,null,-0.3555557793564482,-0.4149529191282535,null,-0.08401177219646466,-0.0816255937912686,null,-0.08401177219646466,-0.0731473795496459,null,-0.38068286181116856,-0.34835128252307407,null,-0.34835128252307407,-0.3795250002009912,null,0.28734286261340064,0.2962392746801128,null,0.5101411279337676,0.45947346379443854,null,0.05071380942483442,0.06229371861746608,null,-0.031880583983459665,-0.02891005551456552,null,-0.4050778673340361,-0.4021003996406276,null,-0.0021550455715299665,0.0030924862493632676,null,-0.0021550455715299665,-0.016159045716603763,null,-0.0021550455715299665,0.0018599654680892966,null,0.3802433257883583,0.40198817936801395,null,-0.028230192051421955,-0.0644710243646745,null,-0.10176966737071631,-0.09949911938356136,null,0.44094107869824634,0.4318265440825583,null,0.10163237669307205,0.10741315270306821,null,0.10163237669307205,0.10891598585213533,null,-0.08453939792679062,-0.08413231297556206,null,0.4714036173173123,0.4874764107583018,null,0.2430046831529834,0.24749481016801214,null,0.2430046831529834,0.1889483738651795,null,0.5400152071178042,0.575691146529881,null,0.1307014262447156,0.11668046711810907,null,0.11668046711810907,0.0879811967317285,null,0.020418103761865217,0.01768956295183933,null,0.01768956295183933,0.030804900212647156,null,0.30830614549605734,0.30088359708657353,null,0.060159217232143354,0.06376786250819003,null,0.04939701792599785,0.0879811967317285,null,-0.2834406784548938,-0.27298794820079575,null,-0.05098731681858883,-0.043177368618579515,null,0.5030892379543258,0.3803263614966848,null,0.46503826840355894,0.46529672568139524,null,-0.3915645948143517,-0.35199533708944464,null,0.0003399789609311975,0.010274344835584065,null,-0.6702411708639574,-0.7070854697773026,null,-0.6702411708639574,-0.6928029707392083,null,0.14263669891322078,0.12995768493322507,null,0.10827159829541812,0.11569714510070746,null,-0.02123383718541235,-0.01196212099982168,null,-0.05629321640802823,-0.06015099174587525,null,0.1799797687606026,0.16309848644570293,null,-0.11284358611631598,-0.12439950976410617,null,-0.09684811655891487,-0.09151856443687313,null,0.06638097044185122,0.05854210827302064,null,0.20315068924636828,0.21239795355448876,null,0.9157100773487523,0.9219486174483056,null,-0.15416446757619878,-0.15837545214493576,null,0.01797964323461157,0.025358328936961227,null,0.02350465376743218,0.04580515305310111,null,-0.14130096247173313,-0.14757612930596228,null,-0.12461599241807682,-0.1294882581168355,null,0.22047209546584517,0.2181135943209885,null,-0.10312807705883238,-0.09661383217709504,null,0.7072261310238709,0.7378028416043529,null,0.03339151460572186,0.03859514325659264,null,-0.18680872250257424,-0.18478895640517654,null,-0.004560767837996136,-0.007771583838090103,null,-0.03156245849938626,-0.03128998681661451,null,0.02035122291589884,0.03645464368315703,null,-0.1863493078736275,-0.17916520810614756,null,0.03562775074232512,0.042918285497721496,null],\"y\":[0.3414359354715847,0.2519848180181653,null,0.3414359354715847,0.39732845738297395,null,0.3414359354715847,0.43461224407340004,null,0.3414359354715847,0.2664616947463205,null,0.2519848180181653,0.29445896064443244,null,0.2519848180181653,0.14825485774845173,null,-0.4079939767757919,-0.4327608750741616,null,-0.4079939767757919,-0.38322122506079065,null,-0.4327608750741616,-0.45035556705249236,null,0.8319186008817235,0.8724974629300462,null,0.8319186008817235,0.7998706994571716,null,0.8724974629300462,0.911283484863444,null,-0.1615684376991686,-0.15311225658415475,null,-0.15311225658415475,-0.14879934917796936,null,0.4926826161593109,0.4962356542296795,null,0.4926826161593109,0.49387395698679587,null,0.4926826161593109,0.502176146305384,null,0.4926826161593109,0.5163511049249435,null,0.4926826161593109,0.48251379310199444,null,0.4926826161593109,0.4692721069350518,null,-0.04168223553203603,-0.048449157083018335,null,-0.048449157083018335,-0.045338202306052816,null,0.08957036732566336,0.09702285864367469,null,0.08957036732566336,0.10685016448329439,null,0.09702285864367469,0.10140887604127648,null,-0.27391389430847735,-0.2899120107933166,null,-0.27391389430847735,-0.3063957974603904,null,-0.27391389430847735,-0.2334381287252261,null,-0.2899120107933166,-0.2907150432490564,null,0.4601803625780422,0.4938112354893105,null,0.4601803625780422,0.41706148672513865,null,-0.14594209960889715,-0.15256269441247242,null,-0.06805656187194875,0.0437996307862337,null,-0.06805656187194875,-0.0623456061311932,null,-0.06805656187194875,-0.07561837652759684,null,-0.06805656187194875,-0.08652700269950182,null,-0.06805656187194875,-0.04147389724736311,null,-0.06805656187194875,-0.16174485920983273,null,-0.06805656187194875,-0.11849945910519562,null,-0.06805656187194875,-0.08274800487128434,null,-0.06805656187194875,-0.06849819376841576,null,0.0437996307862337,0.08362813067644245,null,0.0437996307862337,0.14825485774845173,null,0.47050209493914197,0.44511366311630113,null,0.47050209493914197,0.4692721069350518,null,-0.22458049950877754,-0.2764319873367852,null,-0.22458049950877754,-0.1551914744340487,null,-0.2764319873367852,-0.30377184567790205,null,0.1116870871652581,0.07813459348277739,null,0.07813459348277739,0.09117044759693085,null,0.07813459348277739,0.09680652650739413,null,0.46673132513428983,0.48251379310199444,null,0.46673132513428983,0.47913617507601114,null,0.46673132513428983,0.4732415195727477,null,-0.3805242930978359,-0.3926255278914775,null,-0.3805242930978359,-0.35730884918996375,null,-0.20566590582648386,-0.2278989295054185,null,-0.20566590582648386,-0.1832877729575688,null,-0.20566590582648386,-0.22435061402283782,null,-0.4216508328885114,-0.45256623838080484,null,-0.4216508328885114,-0.36867710661126085,null,-0.4216508328885114,-0.4203051781138344,null,-0.45256623838080484,-0.4900584598628222,null,0.7331438927438867,0.7336890148364507,null,0.7331438927438867,0.6718274979805009,null,0.7331438927438867,0.7645993566377638,null,0.7331438927438867,0.7656526249062294,null,0.7336890148364507,0.7140262099803635,null,0.11827434375434105,0.1157882922025619,null,0.11827434375434105,0.09552401775338608,null,0.11827434375434105,0.11616528493837935,null,0.11827434375434105,0.1456002660803034,null,-0.7148356711923214,-0.6756373420834239,null,-0.6756373420834239,-0.6208117548218954,null,-0.6756373420834239,-0.696182415669085,null,-0.6756373420834239,-0.70522539361911,null,0.2306553599688178,0.2292128000408964,null,0.2306553599688178,0.2939204611325442,null,0.2306553599688178,0.3028374352071421,null,0.2306553599688178,0.14777041060503157,null,0.2306553599688178,0.17622036609559155,null,-0.056286901938806165,-0.022897691715041565,null,-0.056286901938806165,-0.09669983873102517,null,-0.056286901938806165,-0.0427436596125049,null,-0.056286901938806165,-0.02972741853794589,null,-0.022897691715041565,0.012399191646482463,null,-0.022897691715041565,-0.04253630741006206,null,-0.3661683682624342,-0.32388269988245333,null,-0.3661683682624342,-0.39622146906323,null,-0.3661683682624342,-0.37871358318151965,null,-0.32388269988245333,-0.2844396665348285,null,0.09117044759693085,0.09010263288339275,null,-0.38376706719705805,-0.38912688826324293,null,-0.38376706719705805,-0.34015238727086833,null,-0.38376706719705805,-0.407564061577207,null,-0.004618201347797919,0.013540036609254813,null,-0.004618201347797919,-0.030930769137610982,null,0.013540036609254813,0.03581188453730203,null,-0.4101525994582612,-0.39919814941136456,null,-0.4101525994582612,-0.407564061577207,null,-0.39919814941136456,-0.37488192810762627,null,-0.502307739985833,-0.5596106423062938,null,-0.502307739985833,-0.524444149941113,null,-0.502307739985833,-0.44137992389174,null,-0.5596106423062938,-0.6208117548218954,null,-0.5596106423062938,-0.529743094536932,null,0.4538190562095625,0.4992917670050459,null,0.4538190562095625,0.3973031946129938,null,0.4538190562095625,0.4890335440780131,null,-0.02658853747711764,-0.013537376553247962,null,-0.02658853747711764,-0.029175220572127635,null,-0.013537376553247962,-0.058062488860366614,null,-0.013537376553247962,0.06327624863524665,null,-0.013537376553247962,-0.038440593396765144,null,-0.013537376553247962,-0.06735159950440246,null,-0.11538273161216657,-0.10942645282073127,null,-0.10942645282073127,-0.12933807001064257,null,0.08330802626273026,0.09873248988224669,null,0.08330802626273026,0.045452789241874875,null,0.08330802626273026,0.22076812342675883,null,0.08330802626273026,-0.017640382247456097,null,0.08330802626273026,0.031008837595730174,null,0.08330802626273026,0.07081171775170622,null,0.01841911036469114,0.03516272789905228,null,0.01841911036469114,0.10547422927502953,null,0.01841911036469114,0.040639942440218776,null,0.01841911036469114,-0.08428520643623551,null,0.01841911036469114,0.03534267521683377,null,0.03516272789905228,0.05382003761199998,null,0.03516272789905228,0.04294531069490375,null,0.046186216908431214,0.04141103220265508,null,0.046186216908431214,0.05651858620581137,null,-0.3131266823063675,-0.33171578698968174,null,-0.3131266823063675,-0.34015238727086833,null,-0.3131266823063675,-0.3291314778174363,null,-0.3131266823063675,-0.26717237576227393,null,-0.3131266823063675,-0.323883742840076,null,-0.3131266823063675,-0.3206933930412931,null,-0.3131266823063675,-0.35730884918996375,null,-0.3131266823063675,-0.2216971927800357,null,-0.3131266823063675,-0.32855915541473585,null,-0.3131266823063675,-0.32611053472654733,null,-0.3131266823063675,-0.36867710661126085,null,-0.3131266823063675,-0.3239247035626726,null,-0.15747796325190386,-0.1563235529570757,null,-0.34015238727086833,-0.34949198558944516,null,-0.18954809404625458,-0.17130110561452241,null,-0.18954809404625458,-0.17456808641681834,null,-0.18954809404625458,-0.2035447020768174,null,-0.17130110561452241,-0.1576943295375234,null,0.2700006934744441,0.2973215559073617,null,0.2700006934744441,0.22076812342675883,null,0.10140887604127648,0.11292854888601385,null,0.10140887604127648,0.09469359401047724,null,0.10140887604127648,0.1138908035715197,null,0.06226755420516394,0.06938087192540411,null,0.06226755420516394,0.10448940575683655,null,0.06226755420516394,0.03228012096026051,null,0.06226755420516394,0.0463003357647052,null,0.06226755420516394,0.06752341825500739,null,0.06938087192540411,0.06981307654527212,null,0.4692721069350518,0.480952209150315,null,-0.23037446953473156,-0.24831372209609306,null,-0.23037446953473156,-0.2218808729380868,null,-0.23037446953473156,-0.24482761246852436,null,-0.23037446953473156,-0.2035447020768174,null,0.46737843135542606,0.5041066348395052,null,0.46737843135542606,0.43615662403285627,null,0.5041066348395052,0.5314470475897393,null,0.33649479512078995,0.3134073150004426,null,0.33649479512078995,0.35665339298547377,null,0.33649479512078995,0.354813527248083,null,0.3134073150004426,0.2943572382099044,null,-0.6584152171710034,-0.5878420171944803,null,-0.6584152171710034,-0.6854107653230445,null,-0.6584152171710034,-0.7225563728421082,null,-0.5878420171944803,-0.5088399730148888,null,0.10547422927502953,0.1858096408839922,null,-0.5088399730148888,-0.5724549939379331,null,-0.5088399730148888,-0.5233605520261347,null,-0.5088399730148888,-0.39438635440634556,null,-0.5088399730148888,-0.5233686108001008,null,-0.5088399730148888,-0.5473151299346154,null,-0.5724549939379331,-0.624051631889483,null,0.5904610271359905,0.5622539620095344,null,0.5622539620095344,0.5833308069877671,null,0.5622539620095344,0.5163416927533067,null,-0.15873524606071557,-0.2036988350852849,null,-0.15873524606071557,-0.1130185998732823,null,-0.2036988350852849,-0.2351555534879992,null,0.19492086788497803,0.183395906725012,null,0.19492086788497803,0.20003938729895632,null,-0.5906271421313345,-0.585524983695288,null,-0.5906271421313345,-0.5843728654012496,null,-0.585524983695288,-0.5765468090949805,null,-0.585524983695288,-0.5747310846436449,null,-0.4924446735114676,-0.5517471168551042,null,-0.4924446735114676,-0.435456242072363,null,-0.5517471168551042,-0.6088870907249632,null,-0.04138799527775112,-0.03535654316478202,null,-0.04138799527775112,-0.03968687443610369,null,-0.37940981273562635,-0.3815387632426957,null,-0.37940981273562635,-0.38161398329028207,null,0.1858096408839922,0.2664616947463205,null,0.1858096408839922,0.2011174532788083,null,-0.058062488860366614,-0.076017771885612,null,-0.058062488860366614,-0.07455413169688907,null,-0.058062488860366614,-0.089950602833819,null,-0.45035556705249236,-0.4707086861552201,null,-0.2764368519757657,-0.19902815186426828,null,-0.2764368519757657,-0.35567301323765005,null,-0.19902815186426828,-0.11233763180678306,null,-0.19902815186426828,-0.2137784193503501,null,0.3411621320972349,0.35522738875165255,null,0.3411621320972349,0.41706148672513865,null,0.3411621320972349,0.33903761979874897,null,0.3411621320972349,0.24957736519446858,null,0.7393153353863674,0.6658874577036129,null,0.7393153353863674,0.7764479391646044,null,0.7393153353863674,0.7682767447545138,null,0.7393153353863674,0.7816855094651811,null,0.6658874577036129,0.7140262099803635,null,0.6658874577036129,0.5663654966331232,null,0.6658874577036129,0.6866960128884458,null,-0.5428352898826576,-0.4929753859335476,null,-0.5428352898826576,-0.5896634787955699,null,-0.4929753859335476,-0.4294563259894522,null,-0.4929753859335476,-0.529743094536932,null,-0.01125088203301941,-0.017022091983252805,null,-0.017022091983252805,-0.03415983694611386,null,0.5314470475897393,0.5373849160345999,null,0.5314470475897393,0.5642554526491975,null,0.5314470475897393,0.5507224227849781,null,0.5314470475897393,0.5163511049249435,null,0.5314470475897393,0.5495971967344009,null,0.5373849160345999,0.5509025910488977,null,0.04479440208908876,0.03862804020695611,null,0.04479440208908876,0.05376832681969453,null,0.03862804020695611,0.009702123070635477,null,-0.016941115037654473,-0.04154797099766075,null,-0.016941115037654473,-0.02155362558142363,null,-0.04154797099766075,-0.11233763180678306,null,-0.04154797099766075,0.020508643099693257,null,0.050882353079678276,0.07081171775170622,null,0.050882353079678276,0.111781587516915,null,0.050882353079678276,0.06554329139319146,null,0.050882353079678276,0.06782056339607218,null,0.050882353079678276,-0.04147389724736311,null,-0.5654319380301448,-0.5242440710909531,null,-0.5654319380301448,-0.5951069938081299,null,-0.5654319380301448,-0.589708172305268,null,-0.5242440710909531,-0.4822142713065645,null,-0.0008030749756946702,-0.01842932169469089,null,-0.0008030749756946702,0.013710021724200274,null,0.08285842540146553,0.11298942702512456,null,0.5509025910488977,0.5684649394641301,null,0.5509025910488977,0.5326430258283582,null,0.5684649394641301,0.5665546889935725,null,0.09031609486655288,0.11681139042365159,null,0.09031609486655288,0.1050734835307178,null,0.09031609486655288,0.07009454550480339,null,0.48944075022879974,0.43461224407340004,null,0.48944075022879974,0.5330142535082624,null,0.43461224407340004,0.4938840085253078,null,-0.005248663464007069,0.09552401775338608,null,-0.005248663464007069,-0.10974383359781317,null,0.09552401775338608,0.0012211560771576147,null,0.09552401775338608,0.2095204773380914,null,-0.20324802048200002,-0.2073832593425849,null,-0.20324802048200002,-0.2218808729380868,null,-0.35885286831185764,-0.33545311929822746,null,-0.35885286831185764,-0.3521808419969664,null,-0.35885286831185764,-0.38322122506079065,null,-0.33545311929822746,-0.3254746941768633,null,-0.11612017558374242,-0.12758860062908528,null,-0.11612017558374242,-0.12355867224269541,null,-0.12758860062908528,-0.1406872508987974,null,0.15506640946418143,0.20300441500945562,null,0.15506640946418143,0.15758550659824558,null,0.15506640946418143,0.24957736519446858,null,0.15506640946418143,0.05254929524372986,null,0.20300441500945562,0.24073723174370845,null,0.10597672763043238,0.09668762041224112,null,0.10597672763043238,0.10488860504766846,null,0.12077805774359918,0.06531968935570527,null,0.12077805774359918,0.22259387399312797,null,0.12077805774359918,0.045452789241874875,null,0.06531968935570527,0.012399191646482463,null,0.06531968935570527,0.03561829228304233,null,0.03034857720732048,0.07009454550480339,null,0.03034857720732048,0.04438329730840602,null,0.03034857720732048,-0.0013963244790153094,null,0.03034857720732048,0.018320966538097266,null,0.07009454550480339,0.0670193518838464,null,-0.10570551698472468,-0.10748292389953,null,-0.3698774958799974,-0.4270992668866267,null,-0.3698774958799974,-0.389994098222573,null,-0.3698774958799974,-0.39438635440634556,null,-0.3698774958799974,-0.2836278755339347,null,-0.4270992668866267,-0.4822142713065645,null,-0.23489650932757458,-0.24202446559811916,null,-0.23489650932757458,-0.2500873127704235,null,-0.23489650932757458,-0.23436086474486512,null,-0.3330809697264566,-0.3202869316949384,null,-0.3330809697264566,-0.3206933930412931,null,-0.3330809697264566,-0.338793156624183,null,-0.13922680512779242,-0.1396926936846895,null,-0.13922680512779242,-0.10974383359781317,null,-0.1396926936846895,-0.15327310190265622,null,-0.1396926936846895,-0.1508152921113012,null,-0.45666800570154004,-0.4641610936362611,null,-0.45666800570154004,-0.44137992389174,null,-0.4641610936362611,-0.4499904715299917,null,0.1000617693268385,0.08925052926741976,null,0.1000617693268385,0.10261663610362795,null,0.13817599869956143,0.12472285142545801,null,0.13817599869956143,0.11246784181676289,null,0.13817599869956143,0.177175226797451,null,0.13817599869956143,0.11932028263475314,null,0.17685579074581287,0.18577154773687926,null,0.17685579074581287,0.17724987104686063,null,0.17685579074581287,0.24148749066740516,null,0.17685579074581287,0.1716859525000618,null,0.17685579074581287,0.111781587516915,null,0.3973031946129938,0.421367394497084,null,0.3973031946129938,0.3343231036260346,null,-0.0023490490272265493,-0.016546021011163838,null,-0.0023490490272265493,0.02434533982559269,null,0.13697606809236415,0.12758609376901603,null,-0.13349374598646777,-0.14275185110054667,null,-0.13349374598646777,-0.12362665649703336,null,-0.13349374598646777,-0.14726788442418035,null,-0.13349374598646777,-0.13632052403668699,null,-0.12958208440253197,-0.017640382247456097,null,-0.12958208440253197,-0.2216971927800357,null,-0.12958208440253197,-0.13468668918296361,null,-0.12958208440253197,-0.10816725590376254,null,-0.0746440767617215,-0.1551914744340487,null,-0.0746440767617215,-0.08411306083020886,null,-0.0746440767617215,-0.08645622786327077,null,-0.0746440767617215,-0.13308979883163757,null,-0.0746440767617215,-0.07378354191244073,null,-0.0746440767617215,0.041259721766194336,null,-0.0746440767617215,-0.06411140339918084,null,-0.0746440767617215,-0.1074099170070789,null,-0.0746440767617215,-0.08065603095580735,null,-0.1551914744340487,-0.198416247747256,null,0.09555212450704223,0.09231171912599502,null,0.09555212450704223,0.10451486009884556,null,0.09555212450704223,0.08583479018542842,null,0.09555212450704223,0.10642867349419823,null,0.09555212450704223,0.08371082815243217,null,0.09231171912599502,0.08115702319558561,null,-0.22751880470983124,-0.21497814296899165,null,-0.22751880470983124,-0.24218467286291978,null,-0.21497814296899165,-0.1958511621782987,null,0.2939204611325442,0.34846178442357395,null,-0.15327310190265622,-0.1591507366566869,null,-0.15327310190265622,-0.1556645386174348,null,-0.15327310190265622,-0.14416206732877274,null,-0.15327310190265622,-0.11849945910519562,null,-0.15327310190265622,-0.18206023881325567,null,-0.15327310190265622,-0.2116634843627369,null,-0.16249807296272306,-0.20311720699151747,null,-0.16249807296272306,-0.14726788442418035,null,-0.16249807296272306,-0.1593591907865659,null,0.37678746998204726,0.39689275892522224,null,0.37678746998204726,0.34383996688097623,null,0.37678746998204726,0.4110843837027509,null,0.16519947099099555,0.14652458480144334,null,0.16519947099099555,0.15125294095510114,null,0.16519947099099555,0.18344497755663067,null,0.14652458480144334,0.12661572929448792,null,-0.13241034235782972,-0.11079363802165916,null,-0.13241034235782972,-0.13353010690689085,null,-0.11079363802165916,-0.10243417413206893,null,0.09482191809984299,0.08143855175790497,null,0.09482191809984299,0.10110898465402857,null,0.08143855175790497,0.06362474837303221,null,-0.12657854212657774,-0.08348314269246111,null,-0.12657854212657774,-0.14760684963431941,null,-0.12657854212657774,-0.13619506249284336,null,-0.08348314269246111,-0.02024443095366961,null,-0.0623456061311932,-0.07166137528273898,null,0.29445896064443244,0.3256811705031747,null,-0.00854098277755854,0.00027012556309180373,null,-0.010280158179350291,-0.03736545145083652,null,-0.37868006908889634,-0.3828328699442706,null,-0.37868006908889634,-0.38322122506079065,null,-0.37868006908889634,-0.3819279352649043,null,0.42723939478190615,0.5229898767732064,null,0.42723939478190615,0.4523135857124202,null,0.42723939478190615,0.32229155809885307,null,0.5229898767732064,0.6071423022926239,null,0.1473974057669671,0.041259721766194336,null,0.1473974057669671,0.2519524163927967,null,0.2943572382099044,0.33836130023718036,null,0.2943572382099044,0.3193657599173207,null,0.2943572382099044,0.24148749066740516,null,0.33836130023718036,0.3770439847889264,null,0.5044371694985093,0.5813392100805373,null,0.5044371694985093,0.5381176880289625,null,0.5044371694985093,0.41535066396339765,null,0.5813392100805373,0.6487268159745592,null,-0.25663925308874713,-0.16174485920983273,null,-0.25663925308874713,-0.20544282825930182,null,-0.25663925308874713,-0.29248332722028253,null,-0.25663925308874713,-0.3195672808226511,null,-0.25663925308874713,-0.311678373787526,null,-0.031149893762542537,-0.05761468866801657,null,-0.031149893762542537,-0.03080714123661898,null,-0.031149893762542537,-0.0013963244790153094,null,0.20963826398333976,0.23668595923335922,null,0.20963826398333976,0.177175226797451,null,0.2373218474446466,0.23417191004073434,null,0.23417191004073434,0.21915893367345587,null,0.23417191004073434,0.24558762783395782,null,0.10451486009884556,0.09745079906821437,null,0.10451486009884556,0.1191216000671124,null,0.061761406968630354,0.0789117234709286,null,0.061761406968630354,0.05651858620581137,null,0.0789117234709286,0.07133316458825958,null,0.00966193100025807,-0.0005230053381437527,null,0.00966193100025807,0.025444379326453617,null,-0.029106210260042096,-0.0879573040194732,null,-0.029106210260042096,0.031008837595730174,null,-0.0879573040194732,-0.1508152921113012,null,0.18036022706432192,0.19171558019760734,null,-0.1735944352098472,-0.15788838575230854,null,-0.15788838575230854,-0.15534455943437345,null,0.03493793091885486,0.040468467180731535,null,0.03493793091885486,0.02446806178611923,null,-0.13525010636325227,-0.15481086177656736,null,-0.13525010636325227,-0.1451362939316241,null,-0.13525010636325227,-0.1185495244791106,null,-0.13525010636325227,-0.1153375357385419,null,0.17786192943577941,0.10439455982935626,null,0.17786192943577941,0.18987443080820465,null,0.17786192943577941,0.17435108885244496,null,0.17786192943577941,0.24834625173793243,null,0.17786192943577941,0.1893841711623307,null,0.10439455982935626,0.05560074416081819,null,0.10439455982935626,0.05845321036282902,null,0.1581648079242914,0.1484889219920906,null,0.1484889219920906,0.15226604268252625,null,-0.624051631889483,-0.6721587640269869,null,-0.6721587640269869,-0.7021329391420207,null,-0.6721587640269869,-0.7018381745711545,null,0.15190388959690862,0.17724987104686063,null,0.15190388959690862,0.13612455446684937,null,0.15190388959690862,0.15301151291837875,null,-0.2218808729380868,-0.21321883202849035,null,0.012399191646482463,-0.03258941658819594,null,0.012399191646482463,0.011509407322359147,null,-0.15895118960399035,-0.15928081835393745,null,-0.15928081835393745,-0.053862344792997986,null,-0.15928081835393745,-0.26286739475749216,null,0.5236404195580626,0.5339207623927044,null,0.5236404195580626,0.5163511049249435,null,-0.4133567689079879,-0.44260163875683195,null,-0.4133567689079879,-0.36262174720855866,null,-0.4133567689079879,-0.44320669925976863,null,0.39732845738297395,0.4467452651887086,null,-0.18978708275450162,-0.18206023881325567,null,-0.18206023881325567,-0.19020622654536043,null,0.16106845294687747,0.16079170501043805,null,0.11246784181676289,0.09000894843896103,null,-0.07561837652759684,-0.06892934954332969,null,-0.26286739475749216,-0.2133368295124271,null,-0.26286739475749216,-0.39438635440634556,null,-0.2133368295124271,-0.25531307078406645,null,-0.2133368295124271,-0.13029574389356657,null,0.08549944879725456,0.09363541096426557,null,0.08549944879725456,0.086809435515805,null,0.08549944879725456,0.06752341825500739,null,-0.053862344792997986,0.05254929524372986,null,-0.13029574389356657,-0.15611258527132174,null,-0.13029574389356657,-0.033880861280587836,null,-0.37488192810762627,-0.44137992389174,null,-0.37488192810762627,-0.435456242072363,null,-0.37488192810762627,-0.2753933385945632,null,-0.37488192810762627,-0.39577456331951055,null,-0.44137992389174,-0.45869658885646936,null,0.1966974562243541,0.2262742762589976,null,0.1966974562243541,0.21876728306583546,null,0.1966974562243541,0.1456002660803034,null,0.2262742762589976,0.2454807244609046,null,-0.3531389350525125,-0.32855915541473585,null,-0.3531389350525125,-0.3796221827890926,null,0.5166708218459515,0.5497518055604192,null,0.5166708218459515,0.5452315018421371,null,0.5166708218459515,0.4607380827914761,null,0.12468768242698494,0.1138908035715197,null,-0.11422392062352922,-0.1185495244791106,null,-0.17745915374138171,-0.2753933385945632,null,-0.17745915374138171,-0.10974383359781317,null,-0.17745915374138171,-0.10706860100363104,null,-0.2753933385945632,-0.29126993662803685,null,-0.3521808419969664,-0.34949198558944516,null,0.008898356497281755,0.0005011368134880013,null,-0.08652700269950182,-0.09782666104513388,null,0.16946915859484377,0.177057880282729,null,0.16946915859484377,0.1852645199909156,null,0.16946915859484377,0.14522546774519302,null,-0.43826384841248706,-0.4478004579154563,null,-0.43826384841248706,-0.39622146906323,null,-0.43826384841248706,-0.4731721354147971,null,-0.2844396665348285,-0.2116634843627369,null,-0.2844396665348285,-0.32695565145498023,null,-0.2844396665348285,-0.32406942350095863,null,-0.2116634843627369,-0.1715934859672182,null,0.045452789241874875,-0.03986500258211636,null,0.045452789241874875,0.04559524808371849,null,0.045452789241874875,0.06211307439504185,null,0.014914596892756874,-0.02972741853794589,null,0.014914596892756874,-0.005352107707564694,null,0.014914596892756874,0.06418679453018693,null,-0.02972741853794589,-0.06735159950440246,null,-0.5451503473372458,-0.5146863268687212,null,-0.5146863268687212,-0.4822142713065645,null,0.04205611214675851,0.05783888280874123,null,0.04205611214675851,0.03835746477523587,null,0.04205611214675851,0.041448059528315415,null,0.04205611214675851,0.02434533982559269,null,0.04205611214675851,0.06706237281495055,null,0.024744829119554494,0.03162445055541944,null,0.03162445055541944,0.025575320341030112,null,-0.1832877729575688,-0.14851907738135395,null,-0.435456242072363,-0.44209901943858754,null,0.02539834743071911,0.026086158302699756,null,0.02539834743071911,0.024868117155183066,null,0.026086158302699756,0.034632432925555,null,0.026086158302699756,0.009702123070635477,null,-0.5049651591714619,-0.4731721354147971,null,0.5642554526491975,0.5930043328360128,null,0.19837902815768788,0.1944872343923326,null,0.19837902815768788,0.19371879506344136,null,-0.11233763180678306,-0.06402951715595281,null,-0.11233763180678306,-0.10899450757275263,null,-0.11233763180678306,-0.09649400572414982,null,-0.07441830712008762,-0.07877627257798994,null,-0.07441830712008762,-0.06830175448449474,null,0.10158592152409744,0.08927742322441261,null,0.10158592152409744,0.08736157398896605,null,0.10158592152409744,0.11529868827327193,null,0.10158592152409744,0.10110898465402857,null,-0.6088870907249632,-0.6470569558857888,null,-0.6088870907249632,-0.6337047788959798,null,0.06901553702286847,0.047701346722145106,null,0.047701346722145106,-0.010120009273245969,null,0.0012211560771576147,-0.08857665018303397,null,0.0012211560771576147,-0.00785764104908726,null,0.0012211560771576147,0.004097538678559902,null,0.17720546415815733,0.1933945724001885,null,0.1933945724001885,0.1979033711960788,null,0.08362813067644245,0.1120094096558205,null,0.22076812342675883,0.3343231036260346,null,-0.04983889324391273,-0.06411140339918084,null,-0.04983889324391273,-0.02155362558142363,null,-0.06411140339918084,-0.08516333726353181,null,0.10448940575683655,0.09927346474853345,null,0.10448940575683655,0.10964624982736398,null,0.03835746477523587,0.04294531069490375,null,0.03835746477523587,0.02478026737963805,null,0.02944628678237186,0.035747370690340195,null,0.02944628678237186,0.03769806352061306,null,0.035747370690340195,-0.0009641845472932807,null,0.035747370690340195,0.03581188453730203,null,-0.06402951715595281,-0.010120009273245969,null,0.20984843003463158,0.21418382803277566,null,0.20984843003463158,0.21846591466570706,null,0.1402173144282242,0.15511689399220133,null,0.1402173144282242,0.13046978386242966,null,-0.12896658405585357,-0.1000288349511391,null,-0.12896658405585357,-0.13468668918296361,null,-0.12896658405585357,-0.13632052403668699,null,-0.1000288349511391,-0.06892934954332969,null,0.02478026737963805,0.02963803149434353,null,0.02963803149434353,0.03687426656541568,null,0.24976256306478847,0.2494777400121867,null,-0.04875361588972421,-0.036117216559207584,null,-0.036117216559207584,-0.022352582874585178,null,-0.036117216559207584,-0.052154703478139275,null,-0.5085861460055002,-0.5356828793291691,null,-0.5085861460055002,-0.44746846684633473,null,-0.5085861460055002,-0.5593775896288773,null,-0.5085861460055002,-0.5233686108001008,null,-0.1715934859672182,-0.08857665018303397,null,-0.1715934859672182,-0.2334381287252261,null,0.5507224227849781,0.5643515990444249,null,0.5507224227849781,0.5659985129537791,null,-0.06892934954332969,-0.03258941658819594,null,0.06362474837303221,0.058875107197576104,null,0.06362474837303221,0.0676200682837942,null,0.06362474837303221,0.064785862033164,null,0.058875107197576104,0.05845321036282902,null,0.058875107197576104,0.052503669095571096,null,-0.37483702399957236,-0.4188151041889856,null,-0.37483702399957236,-0.3195672808226511,null,-0.37483702399957236,-0.44746846684633473,null,-0.37483702399957236,-0.35567301323765005,null,-0.37483702399957236,-0.39618403867725643,null,0.5643515990444249,0.5703726727099617,null,0.041448059528315415,0.04316792462987418,null,0.111781587516915,0.09927346474853345,null,-0.2785724372585334,-0.25498468229130966,null,0.30269019319824836,0.24834625173793243,null,0.30269019319824836,0.34383996688097623,null,0.30269019319824836,0.33154276826463397,null,0.30269019319824836,0.3216171287778097,null,0.24834625173793243,0.29403029030644456,null,0.32099691611745435,0.41535066396339765,null,0.32099691611745435,0.22259387399312797,null,0.3770439847889264,0.40663916358356433,null,-0.10974383359781317,-0.14851907738135395,null,-0.1130185998732823,-0.06735159950440246,null,-0.16889377185403776,-0.15240339177459927,null,-0.16889377185403776,-0.17815803640464678,null,-0.22320154592927685,-0.26717237576227393,null,-0.22320154592927685,-0.17815803640464678,null,-0.22320154592927685,-0.21623199646545369,null,0.35763603773663466,0.3925834924169088,null,0.35763603773663466,0.32229155809885307,null,0.35763603773663466,0.3624227810882521,null,0.3925834924169088,0.42159550027990184,null,-0.4292828032629548,-0.4289774675709194,null,-0.4292828032629548,-0.4303350093094728,null,-0.4292828032629548,-0.44388176078989405,null,-0.4292828032629548,-0.45495461795685693,null,-0.4292828032629548,-0.407564061577207,null,0.05560074416081819,0.09014738201424387,null,0.05560074416081819,-0.033880861280587836,null,0.05560074416081819,0.03534267521683377,null,0.05560074416081819,0.061863811056933386,null,0.05560074416081819,0.10414207010190915,null,0.09014738201424387,0.12133173099811506,null,-0.01504241698566557,0.0013426148375041424,null,-0.01504241698566557,-0.019248393672373628,null,-0.01504241698566557,-0.01155470336891664,null,-0.03986500258211636,-0.030004484578233563,null,-0.03986500258211636,-0.10706860100363104,null,-0.03986500258211636,-0.06287561850197881,null,0.009702123070635477,-0.02155362558142363,null,-0.3291314778174363,-0.35084874019320933,null,0.338847261900554,0.3823184710615289,null,0.338847261900554,0.2923760432307867,null,0.338847261900554,0.34925144371213024,null,0.3823184710615289,0.39383071820450555,null,-0.13308979883163757,-0.18096485835389675,null,-0.13308979883163757,-0.1133726808923043,null,-0.09611174988167497,-0.12705277283025296,null,-0.09611174988167497,-0.11523124572471766,null,-0.09611174988167497,-0.06287561850197881,null,-0.09611174988167497,-0.08274800487128434,null,-0.09611174988167497,-0.11012347947268268,null,0.6071423022926239,0.6092460811861599,null,0.6071423022926239,0.6718274979805009,null,0.6071423022926239,0.6508442215985291,null,-0.12590473029822324,-0.17815803640464678,null,-0.12590473029822324,-0.14710642685888395,null,-0.12590473029822324,-0.04147389724736311,null,-0.12590473029822324,-0.12817885693488204,null,-0.08833396603622523,-0.10706860100363104,null,-0.08833396603622523,-0.0898052400396789,null,-0.08833396603622523,-0.08960856122517294,null,-0.18096485835389675,-0.2334381287252261,null,-0.18096485835389675,-0.20967681628789653,null,-0.2334381287252261,-0.19030842209501886,null,-0.2334381287252261,-0.3067561459102092,null,0.05254929524372986,0.040674479131173495,null,0.171492276723996,0.14835197968161018,null,0.14835197968161018,0.1246176014659965,null,0.368733174216898,0.43615662403285627,null,0.368733174216898,0.3028374352071421,null,0.43615662403285627,0.5163416927533067,null,0.2519524163927967,0.3343231036260346,null,0.2519524163927967,0.29279029066773704,null,0.0670193518838464,0.06315166810758116,null,-0.13619506249284336,-0.1248872376467573,null,-0.02024443095366961,0.045734607073329686,null,0.045734607073329686,0.06870755805116091,null,0.045734607073329686,0.09173895838974268,null,-0.5601786789734653,-0.5843728654012496,null,-0.5601786789734653,-0.5248176766565245,null,0.1496536877865952,0.14885949240825022,null,-0.014680482995945245,-0.019530044223421555,null,-0.014680482995945245,-0.011857713985634118,null,-0.014680482995945245,-0.02268542169527523,null,-0.014680482995945245,-0.027516393139231477,null,0.12131996713375329,0.12646552872453412,null,-0.4850940156490408,-0.4892621124477743,null,-0.4892621124477743,-0.495517980416209,null,-0.015390177334494624,-0.0239129281715566,null,-0.015390177334494624,-0.0013963244790153094,null,0.10552905915132937,0.0699502014305032,null,0.0699502014305032,0.115998096076698,null,0.0699502014305032,0.020508643099693257,null,-0.36867710661126085,-0.39127297574092207,null,-0.1703876268515351,-0.17200822663144144,null,-0.1703876268515351,-0.1572441178230136,null,-0.12445494269294612,-0.1074099170070789,null,-0.08428520643623551,-0.19030842209501886,null,0.025575320341030112,0.04550688096095627,null,0.025575320341030112,0.021746464138111293,null,0.2923760432307867,0.24073723174370845,null,0.6487268159745592,0.7040936506273524,null,0.7040936506273524,0.7527359798786087,null,-0.3067561459102092,-0.36262174720855866,null,-0.3067561459102092,-0.33002138560957117,null,-0.36262174720855866,-0.3717983433553053,null,-0.30377184567790205,-0.32416174556986926,null,0.1360367479078418,0.12757682086760927,null,0.12757682086760927,0.13646748672203624,null,-0.495517980416209,-0.49205001801275083,null,-0.49205001801275083,-0.4822142713065645,null,0.4938840085253078,0.5347952058038443,null,-0.198416247747256,-0.2104959287639696,null,0.22137343199592044,0.21653528080678322,null,0.2095204773380914,0.2214485551483997,null,0.2095204773380914,0.32229155809885307,null,0.2214485551483997,0.23399769307611265,null,-0.19020622654536043,-0.20107426339258813,null,0.13046978386242966,0.13166711285740715,null,0.12237744650513906,0.11950134377196231,null,0.04294531069490375,0.0633316416827143,null,0.0633316416827143,0.07147186816094332,null,-0.14851907738135395,-0.16776572640819193,null,-0.14851907738135395,-0.17472282828613087,null,-0.08045145182545997,-0.0737237222524039,null,0.1422065132566626,0.15301151291837875,null,0.1422065132566626,0.10414207010190915,null,0.1422065132566626,0.1456002660803034,null,0.41706148672513865,0.48170445120395533,null,-0.25531307078406645,-0.2870218756167533,null,-0.2870218756167533,-0.2983816017744699,null,0.015185501742268709,0.0011027182728217462,null,0.015185501742268709,0.01417451217225342,null,-0.20544282825930182,-0.1508152921113012,null,-0.20544282825930182,-0.20006860862851367,null,-0.5671120417923787,-0.5962336954328159,null,-0.5671120417923787,-0.5248176766565245,null,-0.5962336954328159,-0.6299960832571477,null,-0.4641944772419946,-0.5248176766565245,null,-0.4641944772419946,-0.39438635440634556,null,-0.4822142713065645,-0.48897738127543694,null,0.11926234857768081,0.17622036609559155,null,0.11926234857768081,0.06418679453018693,null,0.11926234857768081,0.14522546774519302,null,0.11926234857768081,0.10388685483819624,null,0.11926234857768081,0.09068976723534931,null,0.17622036609559155,0.14229751857933742,null,-0.4294563259894522,-0.35567301323765005,null,0.06870755805116091,0.09327243460352523,null,0.09327243460352523,0.10964624982736398,null,0.3567277126488219,0.33574107439997625,null,0.3567277126488219,0.3776345428029081,null,0.33574107439997625,0.3645181237398136,null,0.33574107439997625,0.29403029030644456,null,0.06981307654527212,0.06922823969737299,null,-0.006684208108773916,-0.015261951137577313,null,-0.29126993662803685,-0.32043748810844336,null,0.18987443080820465,0.1948413631219168,null,0.24073723174370845,0.24652947906300396,null,0.22371102829706538,0.22019611557261948,null,0.22371102829706538,0.21995122120893268,null,0.22019611557261948,0.23943343635550354,null,-0.21321883202849035,-0.19670288504519354,null,-0.21321883202849035,-0.213204791718079,null,-0.21321883202849035,-0.20664768094596206,null,-0.19670288504519354,-0.19669783414024297,null,0.16784888194468775,0.1804256358174299,null,0.5163416927533067,0.566536810620158,null,0.5163416927533067,0.5524285693659289,null,0.08500866977789562,0.08042490822854688,null,0.08042490822854688,0.08402888879064434,null,-0.2747676434193541,-0.2862258923587142,null,-0.2862258923587142,-0.29600595851054345,null,-0.5951069938081299,-0.6202147544405104,null,-0.6299960832571477,-0.663173600077983,null,-0.663173600077983,-0.6864384128396772,null,-0.11523124572471766,-0.1312456683318733,null,0.052412448337438626,0.044157021528784944,null,0.052412448337438626,0.05966037252721667,null,-0.29600595851054345,-0.280212046122388,null,-0.29600595851054345,-0.28853950685057045,null,-0.29600595851054345,-0.3070261566376735,null,-0.29600595851054345,-0.3169496826695691,null,-0.29600595851054345,-0.3206933930412931,null,-0.29600595851054345,-0.30604692893696617,null,0.1974237388923693,0.20165751005992932,null,-0.7845653528536428,-0.8290303393699588,null,-0.7845653528536428,-0.8092931385060905,null,-0.7845653528536428,-0.7225563728421082,null,-0.1782062747078781,-0.1828735937069455,null,0.1191216000671124,0.10808311105047076,null,0.13006211314344868,0.11189350392099905,null,-0.5843146725197982,-0.6189511337269948,null,-0.5843146725197982,-0.6092700164025737,null,-0.5843146725197982,-0.5473151299346154,null,0.21156117849891304,0.18344497755663067,null,0.21156117849891304,0.21071613968807396,null,0.21156117849891304,0.23016628344865347,null,0.09339228552963888,0.07757668441389616,null,0.09339228552963888,0.11196128971626332,null,0.07757668441389616,0.06327624863524665,null,-0.09669983873102517,-0.13213529902901175,null,0.0989495748549438,0.09885680329477363,null,0.09885680329477363,0.07926849707272171,null,-0.1958511621782987,-0.1897228456635982,null,-0.1958511621782987,-0.1970341805839182,null,-0.1897228456635982,-0.18928239966333926,null,0.566536810620158,0.5966070611037292,null,0.1246176014659965,0.10544523121597818,null,0.10544523121597818,0.08958874253698461,null,-0.2589011988894964,-0.25515355511018806,null,-0.2589011988894964,-0.24482761246852436,null,-0.35084874019320933,-0.38161398329028207,null,-0.03682485187072338,0.008857206459725923,null,-0.03682485187072338,-0.019248393672373628,null,-0.03682485187072338,-0.08328722202445706,null,0.008857206459725923,0.05845321036282902,null,0.03561829228304233,0.025444379326453617,null,0.03561829228304233,0.0183754189344639,null,0.025444379326453617,0.023742576267720465,null,0.23267771200170928,0.2297567530466902,null,-0.09782666104513388,-0.09488054970543988,null,-0.44746846684633473,-0.4672204367007351,null,0.03005941126214685,0.029699405313849556,null,0.03005941126214685,0.022888539039291757,null,-0.0016958847007810165,-0.0013963244790153094,null,-0.0016958847007810165,-0.004876814466612378,null,-0.04621042439975868,-0.04104936180367781,null,0.3343231036260346,0.40010610368222055,null,0.3343231036260346,0.4607380827914761,null,0.7744034987332981,0.7656526249062294,null,0.19126914691542204,0.17325003216371185,null,0.19126914691542204,0.19943924315934497,null,0.17325003216371185,0.18715349685834115,null,-0.20154517674741224,-0.21839214523085004,null,-0.099186722624048,-0.10066456118271523,null,-0.099186722624048,-0.1153375357385419,null,-0.099186722624048,-0.09262551434850883,null,-0.03167738088912821,-0.026255771179510053,null,-0.03167738088912821,-0.04024065925674358,null,0.07926849707272171,0.07300409606209038,null,0.07926849707272171,0.09299371380656206,null,0.07926849707272171,0.0660970475979703,null,0.07926849707272171,0.0822215400525679,null,-0.022352582874585178,-0.009721318304265984,null,0.18462248127189898,0.19376351062492184,null,-0.39622146906323,-0.3580759960873834,null,0.3645181237398136,0.392900742807944,null,0.03581188453730203,0.0463003357647052,null,-0.04024065925674358,-0.0321659615414199,null,-0.011857713985634118,-0.0009114904239843017,null,0.04927583413471821,0.04434058900097808,null,0.04927583413471821,0.06085540356329208,null,-0.19296717619342146,-0.1970341805839182,null,-0.1970341805839182,-0.17868226850543328,null,0.220174287443209,0.20442873350157162,null,0.220174287443209,0.23093005511342277,null,0.04308128979496172,0.05304611092100178,null,0.5966070611037292,0.6083806533343763,null,0.11323344937014788,0.09611825489313601,null,0.40010610368222055,0.43983372273349686,null,-0.15255403953075294,-0.14710642685888395,null,-0.15255403953075294,-0.1486142812366523,null,-0.15255403953075294,-0.167857998320141,null,-0.10899450757275263,-0.0933148769154435,null,-0.08516333726353181,-0.08668345748818271,null,0.14777041060503157,0.06327624863524665,null,-0.02155362558142363,-0.02139604061560055,null,-0.07349826494241363,-0.06827451792201096,null,-0.06827451792201096,-0.07166137528273898,null,-0.2907150432490564,-0.29824599265473917,null,0.17983236278503592,0.18498753426526296,null,0.14229751857933742,0.10546304986891317,null,0.24063312932115288,0.22992457008575895,null,0.09745079906821437,0.10946279925765916,null,0.09745079906821437,0.08793351736022884,null,0.01845864058648137,0.02128228067416507,null,-0.12933807001064257,-0.1516209782527399,null,-0.12933807001064257,-0.1307063285452762,null,-0.0933148769154435,-0.07194430677410153,null,0.0595839539771433,0.06491620996133644,null,0.48170445120395533,0.5340900905516008,null,0.03172072170910708,0.03019982586179113,null,0.04316792462987418,0.06032645853635489,null,0.04316792462987418,0.02894402259159598,null,-0.44542559446425156,-0.44388176078989405,null,0.0206147234011403,0.013710021724200274,null,0.0206147234011403,0.022888539039291757,null,0.39383071820450555,0.3709653482408418,null,0.7140262099803635,0.7499258574742699,null,0.08355728746256672,0.08916838686244269,null,0.5495971967344009,0.5436885464032424,null,0.09010263288339275,0.07949840221991301,null,-0.07944463046448272,-0.07863887489637594,null,-0.066593853285227,-0.0642662913745434,null,0.2011099173202235,0.20711212735235468,null,0.09927346474853345,0.11467452721016974,null,-0.08857665018303397,-0.10628940963961019,null,-0.08857665018303397,-0.09918088289772774,null,-0.08857665018303397,-0.08732219436086307,null,0.5930043328360128,0.6201341296498746,null,0.5930043328360128,0.5917905882571419,null,-0.13415520381634755,-0.1488767739061601,null,-0.13415520381634755,-0.11588997011475698,null,0.08072582612750957,0.10308589634286175,null,0.1512721975120996,0.13969372110911818,null,0.06327624863524665,0.051836280243314214,null,0.06327624863524665,0.04480811757252824,null,-0.35730884918996375,-0.38246120519601295,null,0.7827744429574461,0.7499258574742699,null,-0.19030842209501886,-0.2836278755339347,null,0.4607380827914761,0.5663654966331232,null,-0.24624842388292625,-0.23436086474486512,null,-0.12289439736861682,-0.08328722202445706,null,-0.12289439736861682,-0.1572441178230136,null,0.07147186816094332,0.07891621994138931,null,0.5306850297486827,0.5326430258283582,null,0.1794436079684742,0.16970969761513852,null,-0.1486142812366523,-0.1248872376467573,null,0.3796160128953905,0.3709653482408418,null,0.3709653482408418,0.3558870591144058,null,-0.0021090510058151125,-0.008910052247114107,null,-0.38246120519601295,-0.39618403867725643,null,-0.10628940963961019,-0.10103680805094872,null,0.34846178442357395,0.34761049688663054,null,0.34846178442357395,0.3793984732186702,null,0.34846178442357395,0.3781565953480879,null,0.15586781420445467,0.1675061106648977,null,0.15586781420445467,0.13612455446684937,null,-0.08274800487128434,-0.09987261649921902,null,0.38096674506987865,0.3624227810882521,null,0.3624227810882521,0.3558870591144058,null,0.21294158990113765,0.22261890998249345,null,0.21294158990113765,0.2170268931335475,null,0.030138229193202446,0.02894402259159598,null,0.02894402259159598,0.010212002316885842,null,0.04559524808371849,0.05128852487545475,null,-0.1248872376467573,-0.089950602833819,null,0.014878300833347013,0.03222279062286835,null,-0.14373501127147809,-0.1414419037920764,null,-0.2137784193503501,-0.19899313489059642,null,-0.6038995575074478,-0.6084010407495452,null,-0.6038995575074478,-0.5593775896288773,null,-0.6038995575074478,-0.6312473898198796,null,-0.13632052403668699,-0.14455483294134033,null,0.7527359798786087,0.7998706994571716,null,-0.006262583184319167,-0.011177307444050252,null,0.006512395883484659,0.0183754189344639,null,0.23191106050824445,0.22103349940497466,null,0.23191106050824445,0.23427402640422415,null,0.24299722113257052,0.2547942688488846,null,-0.13213529902901175,-0.13949763611532856,null,-0.3580759960873834,-0.3577672218976655,null,-0.3580759960873834,-0.311678373787526,null,0.13612455446684937,0.09173895838974268,null,0.06612524191102068,0.08130598978547807,null,0.08130598978547807,0.10294321666252483,null,0.018162500120675978,0.022693844133969805,null,0.022693844133969805,0.03983593132292643,null,0.5330142535082624,0.5756306030736674,null,0.014218377341392776,0.015157550507221333,null,0.11932028263475314,0.10294321666252483,null,0.6758706140645232,0.6508442215985291,null,0.6866960128884458,0.7018072542138954,null,0.06752341825500739,0.06211307439504185,null,0.12133173099811506,0.14159576146028752,null,-0.33466010577390737,-0.32043748810844336,null,-0.5233686108001008,-0.5543548664128222,null,-0.3254746941768633,-0.32379938699058,null,-0.3254746941768633,-0.308806985430045,null,-0.03415983694611386,-0.029323408308397428,null,0.14770592667107058,0.15122800111517765,null,0.18803172228251164,0.18443753201565163,null,-0.18928239966333926,-0.1969747975109562,null,0.10014759545722972,0.10983661399237875,null,0.10155998821302643,0.07346107171846981,null,-0.09774154942714292,-0.09054631370085733,null,0.13149314864314093,0.1496341495683238,null,-0.3717983433553053,-0.38131289032422555,null,0.3776345428029081,0.4023327353699135,null,0.016588899434151677,0.024105115393894247,null,-0.11851449486778813,-0.11322400868290992,null,0.1508239419252044,0.13679800393219577,null,-0.061646366971295295,-0.0729093955854277,null,-0.06387382909686581,-0.06830175448449474,null,0.09154657402985064,0.10209833379611628,null,-0.25322745235488525,-0.24218467286291978,null,0.1948413631219168,0.19606460009178134,null,0.013808356592329872,0.013137015420599349,null,0.09976198951502592,0.09534202534499212,null,-0.07747517546443099,-0.10199417392842863,null,0.08958874253698461,0.08085242747420059,null,0.07386740621647606,0.06269906357794279,null,0.00839543749073205,0.01296103509691151,null,-0.14020690478758305,-0.15434294283405442,null],\"type\":\"scatter\"},{\"hoverinfo\":\"text\",\"marker\":{\"color\":\"skyblue\",\"size\":10},\"mode\":\"markers+text\",\"text\":[\"Meyer and Sons\",\"Abigail Crawford\",\"Schwartz, Odonnell and Padilla\",\"Regina Munoz\",\"Shields-Moore\",\"Julie Lewis\",\"Davis-Hurley\",\"Jodi Lee\",\"Phillips, Wolfe and Martin\",\"Tina Watkins\",\"Nichols-Barnes\",\"Sean Wolf\",\"Brown Ltd\",\"Derek Wilson\",\"Miller, Johnson and Fernandez\",\"Hannah Reynolds\",\"Lambert-Wilson\",\"Taylor Miller\",\"Yu-Rodriguez\",\"Danielle Bullock\",\"Nelson LLC\",\"Matthew Tran\",\"Moore Group\",\"Nancy Jones\",\"Evans-Harrison\",\"Samantha Gomez\",\"Murray Inc\",\"Alicia Porter\",\"Richardson Group\",\"Nathan May\",\"Nelson-White\",\"Scott Craig\",\"Johnson-Green\",\"Laurie Alvarez\",\"Carey-Richardson\",\"David Spence\",\"Davis, Bowen and Miller\",\"Jennifer Hughes\",\"Doyle LLC\",\"Eric Ryan DDS\",\"Espinoza PLC\",\"Chelsea Powell\",\"Christopher Garcia\",\"Hill, Davis and Stewart\",\"Brian Morales\",\"Zhang LLC\",\"Jonathon Gregory\",\"Smith-Turner\",\"Mary Salazar\",\"Todd Group\",\"Harrison-Wilson\",\"Micheal Peterson\",\"Bennett, Phillips and Green\",\"Stephen Smith\",\"Allen, Ramsey and Cortez\",\"John Warner\",\"Rowe-Arias\",\"Joanna Wilkins\",\"Davis and Sons\",\"Meagan Hughes\",\"Henderson Group\",\"William Frederick\",\"Nielsen, Johnson and Fuller\",\"Mary Hopkins\",\"Williams-Cox\",\"Mark Hartman\",\"Bradford-Martinez\",\"Allison Bray\",\"Daniels-Kim\",\"Antonio Murphy\",\"Butler-Richardson\",\"Gregory Rodriguez\",\"Baker, Gardner and Callahan\",\"Heather Silva\",\"Victor Diaz\",\"Moreno-Melton\",\"Laura Robertson\",\"Jones Group\",\"Laura Marshall\",\"Serrano-Lopez\",\"Mckinney Ltd\",\"Donna Williams\",\"Rose Powell\",\"Hood, Hoffman and Wright\",\"Danny Randolph\",\"Barker LLC\",\"David Carney\",\"Ibarra and Sons\",\"Jennifer Graham\",\"Schmidt-Alexander\",\"Seth Esparza\",\"Joseph Johnson\",\"Harper, Blake and Alexander\",\"Elizabeth Cochran\",\"Harrington, Jimenez and Carr\",\"Walter Myers\",\"Robinson, Schaefer and Foster\",\"Taylor Wolfe\",\"Hunt-Lee\",\"Mrs. Valerie Hartman\",\"Hodges and Sons\",\"James Brown\",\"Atkins Group\",\"Peter Gonzalez\",\"Maynard LLC\",\"Tina Banks\",\"Barry, Powers and White\",\"Joseph Williams\",\"Chambers-Waters\",\"Nathan Willis\",\"Wilson, Watkins and Moore\",\"Holland and Sons\",\"Page, Smith and Davis\",\"Shawn Gibson\",\"Dyer Group\",\"Angela Wyatt\",\"Holland, Caldwell and Oliver\",\"Alvin West\",\"Lee PLC\",\"David Sellers DVM\",\"Baird PLC\",\"Felicia Glover\",\"Phelps, Graham and Hayes\",\"Victoria Torres\",\"Lewis, Wagner and Solis\",\"Wanda Wise\",\"Shaw Group\",\"Derek Potter\",\"Simmons Ltd\",\"Karen Reeves MD\",\"Farmer Ltd\",\"Shelby Rice\",\"Raymond, Kelly and Yates\",\"Andrew Lawson\",\"Hughes, Fuller and Sanchez\",\"Stephanie Jones\",\"Blankenship-Lewis\",\"Nichole Lewis\",\"Figueroa Inc\",\"Mary Nguyen\",\"Pollard, Yoder and Martin\",\"Shannon Pineda\",\"Cole LLC\",\"Kristine Martin\",\"Morse-Hoffman\",\"Lisa Eaton\",\"Wilson-Brown\",\"Caitlin Cobb\",\"Ballard, Stanley and Hill\",\"James Castaneda\",\"Hunter, Ballard and Caldwell\",\"Jeremy Robinson\",\"Rocha, Johnson and Dunlap\",\"Timothy Browning\",\"Gutierrez LLC\",\"Janet Newton\",\"Ortega-Webb\",\"Margaret Mccullough\",\"Moore LLC\",\"Alvin Day Jr.\",\"Cox LLC\",\"Robert Chavez\",\"Katrina Cruz\",\"Hansen Inc\",\"Gary Adams\",\"Cox-Mcintyre\",\"Austin Smith\",\"Bruce Inc\",\"Johnny Page\",\"Butler-Phillips\",\"Cody Gardner\",\"Sutton, Day and Brooks\",\"Denise Martinez\",\"Anderson, Adams and Roberts\",\"William Fox\",\"Gonzalez, Dunn and Oconnell\",\"Cody Martin\",\"Richard Patterson\",\"Murphy-Boyd\",\"Lisa Cruz\",\"Lee, Walker and Woodward\",\"Mark Lee\",\"Beck Inc\",\"Brittany Taylor\",\"Brian Hardy\",\"Obrien-Carr\",\"John Murray\",\"Cassandra Yoder\",\"Rogers-Warren\",\"Christine Bell\",\"Jones, Rojas and Brown\",\"Cheryl Dillon\",\"Gallagher-Brown\",\"Taylor Estrada\",\"Nicole Williams\",\"Barry Group\",\"Nathan Gonzales\",\"Stanley PLC\",\"Matthew Cordova\",\"Rivera Ltd\",\"Tara Bauer\",\"Black, Collins and Richard\",\"Lisa Kim\",\"Sherman-Baker\",\"Brandon Rice\",\"Galloway-Henderson\",\"Robert Abbott\",\"Perry, Perez and Carter\",\"Mary Anderson\",\"Angela Hall\",\"Rogers, Harmon and Gordon\",\"Martin, Richardson and Snow\",\"Anthony Guerra\",\"Smith-Paul\",\"Mary Escobar\",\"Brown-Grimes\",\"Nicholas Smith\",\"Nicole Reid\",\"Graham-Peters\",\"Matthew Mendez\",\"Patel and Sons\",\"Mrs. Emily Smith DVM\",\"Fisher, Hernandez and Webster\",\"Amy Perez\",\"Anderson, Nicholson and Bruce\",\"Joseph Davis\",\"Campbell LLC\",\"Christine Patterson\",\"Davila, Green and Avila\",\"Ricky Harmon\",\"Katherine Houston\",\"Drake-Martinez\",\"Melissa Little\",\"Brock, Newton and Mccormick\",\"Mary Lewis\",\"Oscar Bauer\",\"Wilson-Cook\",\"Matthew Sanchez\",\"Jennifer Wright\",\"Novak Group\",\"Jose Cooper\",\"Carlson-Mathis\",\"Marissa Fischer\",\"Jennifer Bishop\",\"Hester, Bowers and Carpenter\",\"Ashley Mckee\",\"Townsend Inc\",\"Gary Andrews\",\"Smith-Morales\",\"Tracy Douglas\",\"Carey PLC\",\"Samantha Ellison\",\"Ramos Group\",\"Kayla Johnson\",\"Dunlap Inc\",\"Thomas Sanchez\",\"Cole-Stein\",\"Sarah Carter\",\"Wong-Reese\",\"Jacob Horton\",\"Victor Crawford\",\"Wright LLC\",\"Bates-Johnson\",\"Susan Green\",\"Alexander PLC\",\"Timothy Martin\",\"Galloway, Hall and Oconnell\",\"Meredith Griffin\",\"Karen Williamson\",\"Jessica Morris\",\"Hall-Barnett\",\"Teresa Jackson\",\"Kristi Rodriguez\",\"Davis-Kennedy\",\"Julia Madden\",\"Derrick Curtis\",\"Walter Carter\",\"Meredith Hull\",\"Hines-Green\",\"Bruce Alexander\",\"Ayala LLC\",\"Shane Stein\",\"Schwartz, Holland and Mccarthy\",\"Fernandez-Bridges\",\"Michael Lewis\",\"Spears, Anderson and Huffman\",\"Donald Caldwell\",\"Ibarra LLC\",\"Jennifer Schmidt\",\"Rios Group\",\"Daniel Moore\",\"Martin-Wright\",\"Koch Inc\",\"Felicia Wilkinson\",\"Hanson, Wilkerson and Lee\",\"Deanna Daniels\",\"Payne Inc\",\"David Turner\",\"Lewis-Deleon\",\"Alexander Walsh\",\"Mrs. Stacey Morales MD\",\"Green LLC\",\"Ricky Walker\",\"Emily Christian\",\"Aguilar-Frederick\",\"Kristin Scott\",\"Chan-Elliott\",\"Debra Webster\",\"Kelly, Cummings and Ward\",\"Jose Vance\",\"Scott Hunter\",\"Clark, Prince and Williams\",\"Michael Walls\",\"Mitchell-Watson\",\"Autumn Reed\",\"Bowman LLC\",\"Dustin Johnson\",\"Austin-Yu\",\"Joanna Black\",\"Matthew Curtis\",\"Kristina Vargas\",\"Blanchard-Parsons\",\"Patricia Stevens\",\"Kennedy-Johnston\",\"Brian Gonzales\",\"Mark Lewis\",\"Kim Gamble\",\"Barbara Velasquez\",\"Walter, Gonzales and Potter\",\"Heather Stewart\",\"Martin, Tyler and Wilkerson\",\"Phillips-Bradley\",\"Nicholas Harrison\",\"Caldwell PLC\",\"Kristi Wagner\",\"Jenkins-Carpenter\",\"Tammy Brown\",\"Oconnor Ltd\",\"Cynthia Horton\",\"Ernest Cox\",\"Scott and Sons\",\"Frazier-Sanders\",\"Andrea Meyer\",\"Erika Lopez\",\"Sylvia Stanley\",\"Jones, Ortega and Rubio\",\"Timothy Patel DVM\",\"Michael Townsend\",\"Owens-Johnson\",\"Allison Pennington\",\"Lydia Phillips\",\"Alexandra Rogers\",\"Young-Luna\",\"Vanessa Johnson\",\"Alex White\",\"Danny Brown\",\"Sheri Johnson\",\"Nicole Mueller\",\"Tran, Douglas and Harvey\",\"Rachel Rios\",\"Petersen, Morrison and Woods\",\"Rodriguez Inc\",\"Diana Fisher\",\"Simmons-Davis\",\"Carrie Hess\",\"Jordan LLC\",\"Donna Chang\",\"Nelson PLC\",\"Angela Knight\",\"King, Schneider and Banks\",\"Terry Fernandez\",\"Berry-Mack\",\"Brendan Farley\",\"Moran, Mcmillan and Jones\",\"Woodward-Jensen\",\"Phillips PLC\",\"Arthur Thomas\",\"Villegas, Chen and Campos\",\"Webb, Phillips and Garcia\",\"Kristopher Mendoza\",\"Moody Ltd\",\"Rebecca Goodman\",\"Michael Roberson\",\"Bray, Nguyen and Christensen\",\"Small Ltd\",\"Spencer Roberts\",\"Mrs. Kristin Adams DDS\",\"Johnson Group\",\"Amanda Brown\",\"Garcia-Hunter\",\"Ashley Harris\",\"Decker Group\",\"Jessica Stephens\",\"Baker Group\",\"Kristina Simpson\",\"Brady Lopez\",\"Dennis, Parker and Sanchez\",\"Dustin Stark\",\"Erika Rose\",\"Arroyo-Henderson\",\"Sherman-Garza\",\"Karen Cruz\",\"Frey PLC\",\"Thomas Johnson\",\"Brian Cowan\",\"Carter-Jones\",\"Jamie Ferguson\",\"Miller Inc\",\"Amber Arellano\",\"Jackson LLC\",\"Erin Foster\",\"Taylor Group\",\"Christina Potter\",\"Jones-Miller\",\"Amy Brown\",\"Calvin Lucas\",\"Kimberly Ware\",\"Matthew Pearson\",\"Jessica Camacho\",\"Simpson, Mcguire and Brown\",\"Donald Gomez\",\"Jane Davis\",\"White, Crawford and Pearson\",\"Taylor Dean\",\"Goodwin, Acosta and Chan\",\"Young, Moran and Morris\",\"Chad Vaughn\",\"Hogan-Oliver\",\"Young, Townsend and Mccarthy\",\"Jason Moore\",\"Crosby Group\",\"Kyle Scott\",\"Shannon Jensen\",\"Flores-Wade\",\"Anthony Garcia\",\"Alicia Thomas\",\"John Reeves\",\"Thomas-Flores\",\"Martha Flores\",\"Baker-Mcdonald\",\"Kristen Foster\",\"Jorge Young\",\"Natasha Harper\",\"Owens-Taylor\",\"Christopher Gonzalez\",\"Nicole Brown\",\"Chandler-Roberts\",\"Heather Brown\",\"Grant-Davis\",\"Kyle Johnson\",\"Ronald Norton\",\"Carey-Ramos\",\"Rachel Nguyen\",\"Tammy Boone\",\"Cook Group\",\"Pamela Finley\",\"Lisa Pitts\",\"Jimenez-Ramirez\",\"Matthew Brown\",\"Gonzales Group\",\"Robert Burke\",\"Daniel Burton\",\"Rodriguez and Sons\",\"Rebecca Chan\",\"Patel Ltd\",\"Kelly Barber\",\"Paul Carter\",\"Maria Jacobs\",\"Newman, Pearson and Mccarthy\",\"Donald Moore\",\"Ball-Church\",\"Jessica Grant\",\"Miller, Conner and Clark\",\"Melissa Smith\",\"Dennis Schultz\",\"Smith Inc\",\"Michelle Reed\",\"Wilson Group\",\"Gregory Murphy\",\"Hicks Ltd\",\"Steven Griffin\",\"Henry PLC\",\"Courtney Whitney\",\"Allen, Zimmerman and Harrington\",\"Donald Bender\",\"Fisher PLC\",\"Steven Armstrong\",\"Brown-Stephens\",\"Jennifer Johnson\",\"Villegas Inc\",\"Tracy Bass\",\"Austin, Griffin and Ward\",\"Jade Jackson\",\"Aaron Rios\",\"Ramirez LLC\",\"Kathleen Watkins\",\"Ward, Shepherd and Krause\",\"Mr. Jonathan Williams\",\"Alvarado LLC\",\"Megan Alvarez\",\"Mandy Sutton PhD\",\"Foster Ltd\",\"Ashley Bell\",\"Barber Ltd\",\"Amanda Cain\",\"Amy Thomas\",\"Ashley Rivers\",\"Simpson, Thomas and Smith\",\"Patrick Jenkins\",\"Pierce Group\",\"Christopher Diaz\",\"Justin Santos\",\"James Hernandez II\",\"Perez-Williams\",\"Eric Ramos\",\"James Miller\",\"Jones, Calderon and Finley\",\"Randall Robbins\",\"Madison Myers\",\"Victor Reyes\",\"Eileen Scott\",\"Webster and Sons\",\"Amy Barker\",\"Cory Schmidt MD\",\"Nicole Walker\",\"Warren Group\",\"Linda Banks\",\"Carpenter-Wright\",\"Kimberly Nelson\",\"Roy-Hancock\",\"Audrey Perez\",\"Moore-Flowers\",\"Debra Murray\",\"Reed LLC\",\"Scott Schroeder\",\"Mary Morrow\",\"Emma Anderson\",\"Gutierrez, Anthony and Shannon\",\"Miss Jamie Gonzalez DDS\",\"Pugh Group\",\"Rodriguez, Thomas and Foster\",\"Justin Powell\",\"Mills, Smith and Martin\",\"Cheyenne Ramsey\",\"Davis, Vaughan and Shepherd\",\"James Group\",\"Tracy Hartman\",\"Torres Ltd\",\"Tammy Walker MD\",\"Edward Cook\",\"Crane LLC\",\"Salazar PLC\",\"Rebecca Sanchez\",\"Robert Becker\",\"Elliott-Jones\",\"Scott Grant\",\"Miller Ltd\",\"Darius Reid\",\"Williams Inc\",\"House, James and Miller\",\"Michael English\",\"Pratt Ltd\",\"Jason Lowe\",\"Karen Cain\",\"Emily Turner\",\"Bender, Jordan and Bennett\",\"Shawn Mills\",\"Justin Lopez\",\"Roberts, Howard and Bender\",\"Jasmine Miranda\",\"Allen-Mccullough\",\"Brittany Williams\",\"Jeffrey Turner\",\"Cooper, Smith and King\",\"Paige Lewis\",\"Trevor Wilson\",\"Douglas and Sons\",\"Alexander Mullins\",\"Ferguson, Henderson and Watson\",\"Frank Olson\",\"Brown and Sons\",\"Laurie Ramos\",\"Kellie Hart\",\"Parker Group\",\"Patricia Hardy\",\"Elliott-Stephens\",\"Maria Jackson\",\"Amanda Kline\",\"Huber Group\",\"Zachary Lewis\",\"Marshall Ltd\",\"Obrien, King and Robinson\",\"Shelly Castillo\",\"Peterson, Lee and Moore\",\"Glenn Anthony\",\"Timothy Chavez\",\"Sanders-Hale\",\"Scott Proctor\",\"James Kennedy\",\"Miss Mary Turner\",\"Parsons Ltd\",\"Ashley Silva\",\"Dr. Matthew Hughes DDS\",\"Gonzalez Inc\",\"Caitlin Bennett\",\"Kiara Martinez\",\"Laura Leach\",\"Melissa Lee\",\"Jacqueline Turner\",\"Long-Alexander\",\"Whitney Evans\",\"Brandon Riley\",\"Elizabeth Dunn\",\"Blair LLC\",\"Renee Campbell\",\"Lori Peters\",\"Carl Brewer\",\"Jones, Allison and Ellison\",\"Kelly Pierce\",\"Evans, Wright and Mitchell\",\"John Harris\",\"West, Martinez and Warren\",\"Angela Cortez\",\"Mark Miller\",\"Shepherd and Sons\",\"Ashley Martinez\",\"Cassandra Mendoza\",\"Wilkerson-Woods\",\"David Kennedy\",\"Matthew Wright\",\"Horn, Johnson and Moore\",\"Jennifer Nelson\",\"Mendoza LLC\",\"Jacob Orozco\",\"Patricia Joseph\",\"Cooper, Osborn and Clark\",\"Anderson, Patrick and Scott\",\"David Mendoza\",\"Mcmillan, Gallegos and Perry\",\"Pamela Scott\",\"Williams-Strong\",\"Earl Eaton\",\"Cathy Adams\",\"Michael Curtis\",\"Johnson PLC\",\"Alexis Rodriguez\",\"Destiny Maldonado\",\"Conway-Barr\",\"Jones-Edwards\",\"Natalie Navarro\",\"Donald Anderson\",\"Barnes, Castro and Curtis\",\"James Gardner\",\"Jacob Gibbs\",\"Porter Inc\",\"Julie Brown\",\"Karen Stafford\",\"Blair Group\",\"Emily Sandoval\",\"Eric Mays\",\"Marie Andrade\",\"Debbie Cox\",\"Barrera-Ward\",\"Torres-Dunlap\",\"Christopher Wright\",\"Horn-House\",\"Hancock-Jackson\",\"Morgan Massey\",\"Timothy Burns\",\"David Castro\",\"Carroll-Stanley\",\"Donna Terry\",\"Felicia Collier\",\"Lawrence-Clark\",\"Greene-Garcia\",\"Kimberly Wilson\",\"Pollard, Collins and Watson\",\"William Barnes\",\"Wright-Hogan\",\"Patricia Smith\",\"Bridget Hill\",\"Patterson, Harris and Kelly\",\"Stephanie Mathews\",\"Butler, Kennedy and Cowan\",\"Kelly Walls\",\"Mrs. Paula Jones\",\"Stacy Mayo\",\"Giles, Weiss and Brown\",\"Yoder-Murray\",\"Katelyn Proctor\",\"Brian Blankenship\",\"John Martin\",\"Pierce, Walsh and Rogers\",\"Coleman, Williams and Nichols\",\"Matthew Davis\",\"Bowers, Gonzalez and Simmons\",\"Margaret Lloyd\",\"Barker, Gibbs and Lopez\",\"Corey Mitchell\",\"Amber Hobbs\",\"David Henderson\",\"Kelly-Ware\",\"Alexandra Owens\",\"Gonzales-Keith\",\"Wong-Wilson\",\"Mr. Joseph Herring\",\"Thompson-Kerr\",\"Tammy Smith\",\"Nancy Silva\",\"Smith-Thomas\",\"Kimberly Cox\",\"Figueroa-Soto\",\"Mr. William Hunt\",\"Valencia, Floyd and Jordan\",\"Corey Rodriguez\",\"Morales, Wood and Cox\",\"Rebecca Mcbride\",\"Myers, Kelley and Riley\",\"Cory Johnson\",\"Snyder, Caldwell and Campbell\",\"Hampton-Lee\",\"Warner, White and Morris\",\"Juan Spencer\",\"Cindy Green PhD\",\"Carmen Barker\",\"Buck-Carey\",\"Tara Johns\",\"Michael Keller\",\"Jeffrey Wilson\",\"Rogers-Maldonado\",\"Robin Ross\",\"Munoz, Stone and Wallace\",\"Frederick LLC\",\"Cook, Jackson and Griffith\",\"Hayden Hill\",\"Jason Hughes\",\"Allison Martinez\",\"Aaron Keller\",\"Harold Bowen\",\"Simmons PLC\",\"John Williams\",\"Michelle Cook\",\"Mullins Ltd\",\"Leslie Acevedo\",\"Morgan-Blackwell\",\"Diana Blair\",\"Douglas-Colon\",\"Nguyen, Chan and Brown\",\"Brenda Green\",\"Jenkins-Carrillo\",\"Tammy Fletcher\",\"Brian Fischer\",\"Betty Reid\",\"Douglas Baxter\",\"Aimee Stone\",\"Robinson, Rodriguez and Reilly\",\"Joseph Bowman\",\"Ruiz-Oneal\",\"Jasmine Robertson\",\"Webb, Graves and Harrison\",\"Christopher Sellers\",\"Bridget Williams\",\"Melissa Mclaughlin\",\"Mitchell, Campbell and Jones\",\"Amber Cruz\",\"Lee LLC\",\"Steven Shaffer\",\"Matthew Webb\",\"Jackson-Robinson\",\"Taylor Mann\",\"Avila Group\",\"Anita Kerr\",\"Larson and Sons\",\"Roberts Group\",\"Mr. Matthew Johnson DDS\",\"Knox and Sons\",\"Dana Williams\",\"Andrea Hansen\",\"Holmes-Schaefer\",\"Vincent Matthews\",\"Wesley Thompson\",\"Henry-Terry\",\"John Byrd\",\"Lambert Ltd\",\"Savannah Neal\",\"Mcdonald-Howell\",\"Anna Buckley\",\"Scott, Lopez and Baldwin\",\"Clark, Evans and Navarro\",\"Benjamin Soto\",\"Joseph Smith\",\"Simmons Group\",\"Fuller, Vincent and Fernandez\",\"Kylie Young\",\"Nicholas Tucker\",\"Montgomery, Dominguez and Hopkins\",\"Ashley Clark\",\"Baker LLC\",\"Ann Odonnell\",\"Daniel, Schroeder and Morse\",\"Michael Vargas\",\"Miller Group\",\"John Reynolds\",\"Cooper LLC\",\"Sanchez-Fisher\",\"Robert Kim\",\"Rhonda King\",\"Mr. Robert Rivera II\",\"Callahan-Olsen\",\"Mary Harrington\",\"Samuel Hodge\",\"Peggy Knight\",\"Nguyen Inc\",\"Timothy Garrett\",\"Whitney-Fields\",\"Thompson-Turner\",\"Ricardo Roberts\",\"Lopez, Roach and Roach\",\"Edward Lopez\",\"Samuel Mendez\",\"Terry Inc\",\"Oliver, Ross and Johnson\",\"Victor Ward\",\"Stephens-Braun\",\"Stephens-Stephens\",\"Tiffany Rodriguez\",\"Scott Brown\",\"Davis, Cruz and Schaefer\",\"Michael Petersen\",\"Lindsey Lewis\",\"Mary Franklin\",\"Schmidt Ltd\",\"Jordan Hart\",\"Roach-Wheeler\",\"Jonathan Young\",\"Danny Palmer\",\"Sharon Wood\",\"Alexis Hayes\",\"Garner PLC\",\"Robert Moses\",\"April Miller\",\"Jones PLC\",\"Bobby Perry\",\"Osborne LLC\",\"Lewis, Preston and Price\",\"Joshua Hooper\",\"Randolph-Bauer\",\"Adam Moore\",\"Justin Anderson\",\"Rachel Thomas\",\"Michelle Riley\",\"Ortiz-Lee\",\"Mary Evans\",\"Kelsey Smith\",\"Matthew Hughes\",\"Becky Hernandez\",\"Kimberly Wilkins\",\"Reyes, Houston and Esparza\",\"Anthony Cochran\",\"Jimmy Morton\",\"Roberson, Marquez and Mcdowell\",\"Peter Allen\",\"Patterson Inc\",\"Cassandra Owens\",\"Freeman, Allen and Castaneda\",\"Charles Martin\",\"Brendan Vargas\",\"Jackson, Gonzalez and Smith\",\"Avery PLC\",\"Mark Ward\",\"Sharon Martin\",\"Livingston Inc\",\"Megan Freeman\",\"Jackson Ltd\",\"Michael Dixon\",\"Davis, Hughes and Leblanc\",\"Jason Taylor\",\"Rojas-Cook\",\"Phelps-Robbins\",\"Christine Davis\",\"Galvan Ltd\",\"Larson Ltd\",\"Kevin Blair\",\"Thompson Group\",\"Andrea Morris\",\"Katherine Gomez\",\"Beck Group\",\"Donald Kelly\",\"Kelly Howe\",\"Kyle Kerr\",\"Matthew Johnson\",\"Rogers-Shaw\",\"Jeffrey Stafford\",\"Randy Roach\",\"Michael Ford\",\"Wolfe, Hull and Richardson\",\"Stephen Harris\",\"Smith, James and Alvarado\",\"Gonzales-Cochran\",\"Maria Singh\",\"Nicholas Peterson\",\"Donna Hughes\",\"Andrew Gray\",\"Hogan-Johnston\",\"Corey Lamb\",\"Snyder Ltd\",\"Cody Meyer\",\"Watson LLC\",\"Lindsay Garcia\",\"Love-Montgomery\",\"Lee Nunez\",\"Suzanne Velasquez\",\"Robert Stewart\",\"Brian Davis\",\"Kimberly Lindsey\",\"Jennifer Clark\",\"Scott, Johnson and Villa\",\"Jeanne Benjamin\",\"Johnson-Ray\",\"Eric Carrillo\",\"Julie Dickerson\",\"Jennifer Kennedy\",\"Nguyen-Parsons\",\"Chase-Gross\",\"Kenneth Baker\",\"Brian Hill\",\"Alex Rogers\",\"Ronald Gonzalez\",\"Miller-Carter\",\"Kerry Jones\",\"Michael Johnson\",\"Brooks-Mccarty\",\"Freeman, Decker and Johnson\",\"Beth Phillips\",\"Brian Hoffman\",\"Bryant, Jacobson and West\",\"Steele Ltd\",\"Carlos Lawrence\",\"Paul Evans\",\"Randy Martinez\",\"Tyler Christensen\",\"Deborah Smith\",\"Alan Campbell\",\"Taylor-Matthews\",\"Daniel Williams\",\"Yvette Huffman\",\"Jean Woods\",\"Alexander-Mendoza\",\"Tara Graham\",\"Veronica Coleman\",\"James Lewis\",\"Lyons Inc\",\"Monica Phillips\",\"Jones-Burnett\",\"Michael Carter\",\"Hopkins, Mora and Green\",\"Charles Davidson\",\"Hayes Inc\",\"Ronald Miller\",\"Lauren Golden\",\"Harris, Mcdonald and Taylor\",\"Barnes and Sons\",\"Alexander Dean\",\"Black, Montgomery and Hernandez\",\"Christina Caldwell\",\"Spencer, Gibson and Arias\",\"Christopher Lozano\",\"Hodge, Lee and Washington\",\"Thomas Villanueva\",\"Burns-Davis\",\"Rachel Pena\",\"Justin Lee\",\"Morris Ltd\",\"Drew Cline\",\"Hill PLC\",\"Clark-Estes\",\"Glenn-York\",\"Sanders and Sons\",\"Thomas Myers\",\"Wilkerson and Sons\",\"Kelly Buchanan\",\"Rollins-Mclaughlin\",\"Joseph Knapp\",\"Simmons-Mcdaniel\",\"Joshua Mendoza\",\"Cruz, Murphy and Santos\",\"Elizabeth Collins\",\"Maldonado-Davis\",\"Martinez PLC\",\"Trevor Lam\",\"Kristie Townsend\",\"Norris-Townsend\",\"Aaron Scott\",\"Kimberly Duncan\",\"Brandi Buckley\",\"Hammond LLC\",\"Emily Gallagher\",\"David Hull\",\"Patrick Campbell\",\"Samuel Lewis\",\"Elizabeth Lewis\",\"Gary Torres\",\"Rachel Arnold\",\"Mitchell PLC\",\"Rachel Carson\",\"Gamble-Davis\",\"Cassandra Foster\",\"Daniel Kerr\",\"Terrence Wagner\",\"Angelica Simmons\",\"Holly Aguilar\",\"White, Hutchinson and Williams\",\"Charles Morris\",\"Glover, Wilson and Hudson\",\"Cook Ltd\",\"Randall-Wagner\",\"Preston-Smith\",\"Brian Johnson\",\"Hudson, Spence and Perez\",\"Matthew Morgan\",\"Jeremy Christensen\",\"Johnson, Harris and White\",\"Cindy Robinson DDS\",\"Abbott, Brooks and Moreno\",\"Mary Wilson\",\"Wells-Davis\",\"Jo Martinez\",\"Jose Rivas\",\"Moore, Perez and Young\",\"Lindsey Mathis\",\"Chung, Morris and Craig\",\"Dr. Wendy Terrell\",\"Samantha Salinas\",\"Pamela Harris\",\"Morris, Mcintyre and Austin\",\"Cruz-Davis\",\"Miller, Braun and Graham\",\"Phelps-Schmidt\",\"Brian Reed\",\"Hodge-Leblanc\",\"Sparks-Berry\",\"Dixon LLC\",\"Andrews-Wiley\",\"Jones-Patterson\",\"Gibson and Sons\",\"Alex Leon\",\"Matthew Thornton\",\"Morrison LLC\",\"Parker-Campbell\",\"Adam Browning\",\"Anne Stone\",\"House-Bates\",\"Smith PLC\",\"Anderson, Robinson and Phillips\",\"Patterson-Collins\",\"Paul Lee\",\"Morris, Mcpherson and Edwards\",\"Jeffrey Cooper\",\"Williams-Boyle\",\"Robin Pena\",\"Harris, Santos and Roberts\",\"Marcus Gregory\",\"Rose-Pearson\",\"Drew Edwards\",\"Parsons and Sons\",\"Angel Adams\",\"Jennifer Mccoy\",\"Shepherd Group\",\"Kimberly Hamilton\",\"Williams and Sons\",\"Matthew Simmons PhD\",\"Jesse Brown\",\"Oliver, Cross and Gilbert\",\"Sandy Ward\",\"Michael Cox\",\"Veronica Adams\",\"Eugene Beltran\",\"Scott Smith\",\"Butler-Newman\",\"Brent Anderson\",\"Rebecca Lucas\",\"Steve Kirby\",\"Judy Griffith\",\"Rosario-Porter\",\"Kenneth Barnes\",\"Samantha Sherman\"],\"textposition\":\"bottom center\",\"x\":[0.3307678100482212,0.33081278345010035,-0.7047587645787554,-0.7554986430760805,-0.08797263897809435,-0.10685450784628259,0.0015003262626762269,0.011659226155143778,-0.9144868992727367,-0.938969486082005,0.1845194691742867,0.19808321682235408,-0.16307821293655156,-0.14160798909459968,0.146150422291523,0.20677365023891145,-0.3205333624833286,-0.3355075289875798,-0.01708950171579516,-0.023673496907935236,0.26526883747821095,0.2960343193895119,-0.9615196236809695,-0.9623151736348051,-0.2716113258214762,-0.30850136816263074,0.09514412389180966,0.09390021315579057,-0.9827201951661169,-0.9599464447058553,-0.13180402660130747,-0.13480664741325574,-0.32030840344352196,-0.3373181615496024,-0.21171184601808546,-0.23140078146173151,-0.2241824266756513,-0.15735310365167726,0.07931744482660708,0.06235832662432222,-0.46920884833272636,-0.4580036088599062,-0.9358308250359372,-0.021807168599551386,-0.015842508265303066,0.39250437312134395,0.4239458508648157,0.2597060183325464,0.21496976019320155,0.09275241756212851,-0.37600911047110497,-0.4151061744167662,0.8956936740880092,0.8436329342439938,-0.44204570432775425,-0.39936337894401525,-0.41702910257304115,-0.41578578710860326,0.07160654842302192,0.07424446911795134,0.33701142644857046,0.30994454183336917,0.13926578246360263,0.14474352136008659,0.19623812176966035,0.20253355229655282,0.2233359551303243,0.13894113240826383,-0.17513243669930503,-0.1881223016640121,-0.15987419687338097,-0.1610942930029006,-0.02300201953281332,-0.03610499190396799,-0.28526295484762737,-0.0024451132617755137,-0.021591127075295882,0.18447504541901244,0.22434730356288599,-0.1541806910743038,0.6119841267419595,0.6686671205185142,-0.9446999176443145,0.045079621884119236,0.05157378346889654,-0.5542961510641282,-0.6695875135544581,0.7631989488630667,0.735522495786762,0.09374424830865416,0.05416123837621075,0.26167657974122915,0.020746859658604712,0.03403086966070705,-0.5649384884195803,-0.5273902864181998,0.4457573111641036,0.4734960497105778,0.15794361967479675,0.153895673369998,-0.22336866600176322,-0.25509687767318273,-0.4409399890528585,-0.46836864158408836,-0.11142034170791927,-0.10937648997365307,-0.3037485463083076,-0.29968011090809366,0.30266206489934555,0.325513533303603,0.3981042016586064,-0.7849171800749779,-0.30999242638580493,-0.3884348526361613,-0.3050373237018412,-0.33234911483219326,-0.04415520770064027,-0.04001318807594942,-0.351302325017162,-0.3249336005050416,0.1694127258217132,0.15056878888906655,-0.7815280884331322,-0.853790820934208,-0.6241597500566333,-0.580581372490043,-0.4863859187968347,-0.48641154218219385,0.388523389382884,0.29330032430650965,-0.35574530788962644,-0.3051048586377546,-0.17800610229507918,-0.19788206874075512,0.07445537184247149,0.07675107835979512,-0.9162194594195354,-0.948629615580964,-0.155381408937574,-0.1500567385280119,0.3241464504168346,0.3247023016224057,-0.0770520401558658,-0.04058103992370394,0.07290314412013678,0.07798794303855705,-0.5816543176504532,-0.6264105276813036,0.0826329496927191,0.0740666213745458,-0.2554306136554027,-0.3154212556559076,0.05353570788532805,0.049406585155463686,0.2933228968652887,0.3651313155328621,-0.12637157686650288,-0.15415022492454364,-0.04830563301041822,-0.04073412004864616,-0.055444105634804605,-0.1530604959011769,0.24424369395897144,0.03460995666861777,0.029848112914742826,-0.24445725769761245,-0.23118714970736412,-0.0253415218554773,0.05459253957041377,-0.47270843629799525,-0.5205375557754264,0.13254214830545863,0.11835357130771415,0.02574549352261439,0.02641335504870215,0.564418474645534,0.5877046173429279,0.06663433860057234,-0.22051001689265268,-0.20236213900702146,-0.012880533023584027,-0.011762230868259822,0.4615901674115824,0.43124202844712584,0.4799740396108649,0.08353850900886368,0.14049063634062245,-0.4332370233102123,-0.19007975036131913,-0.23706791159675542,-0.13363314200243392,-0.11326685286388007,-0.0920773082889597,-0.07174403684081448,-0.025241086143642184,0.1253594868609406,0.12824880685687998,0.6253171138288338,0.6501407138457886,0.8343368063815993,0.853730047013381,-0.04674679004915433,-0.06454491125252933,0.09820759347193815,0.1003322509694932,0.7431334742693263,0.7210349357987001,0.6117292457295671,0.6215630432680094,0.2858485095410172,0.3518147493709172,-0.14175684021837548,-0.13899312896989718,-0.27762997279661095,-0.27081958617008495,-0.7080787851120032,-0.74394158607894,0.03498574814407111,-0.23401539800871551,-0.2460008147745967,-0.07349415347051148,-0.1395992549696379,0.6905576604785737,0.7307300146438239,0.14323264586608575,0.09853933727071953,0.12715091319980598,0.19635208348628785,-0.08416381192863928,-0.08438544826064907,-0.1865279182920469,0.013683376558858156,0.022059935420866723,-0.03588748283062183,-0.04283240419924595,-0.17452555627295463,-0.15910818147047978,-0.1448234929364124,-0.1683134593429653,0.49150159393568466,0.5109990567167431,0.14236229777088702,0.11798492121579433,-0.18615467387108608,0.04790503374839454,0.04908937374358318,-0.08630721507856703,-0.08854928008161118,0.1368099701832592,0.12815075238837356,-0.1927135541231256,-0.17063497550403978,0.6273820906152308,0.5223705908627759,0.057184605094432114,0.06336171572640181,0.04827385849922439,0.0758618342332911,0.4753859580263745,0.517805189499568,0.08505094938999005,0.4044236808429122,-0.0530786698470612,-0.03810858007261091,-0.8826411106235301,-0.8910331087941742,0.22205967484394443,0.24024749684987864,-0.14342337236492772,0.3409000061921262,0.09322201373894401,0.0856637153499968,0.4318039794338853,-0.13852159730699207,-0.14805632827807355,0.0009739629358168329,0.31083331912346296,0.6309048761312291,0.03321455829802129,0.15053317936418942,0.5485761192837718,0.5768987185226732,-0.11289876013541834,0.24482111036638093,0.2694875383087827,-0.35428860204752805,-0.4177288568190823,0.22684232045973743,0.25249694625148283,-0.23168231557698116,-0.20688763047049907,0.08760613837359672,0.04461768286802466,0.044897037195228855,-0.12627773013295587,-0.14048965541360736,-0.18037813946652473,-0.18833241165973758,-0.12828500374217175,-0.25424067389600613,-0.4847939752872244,-0.1677721578870997,-0.1738958930356391,0.31103347365651135,0.09034685399347656,0.07584364087332272,0.3668215541668811,0.3889561183763332,0.17625804943872145,0.1305160488071348,0.2537892715716705,0.2694881902691599,0.3303812128419814,-0.2963185264747439,-0.2719225214294938,-0.14810903304717396,-0.14781130480338475,-0.24640533317070287,-0.23551778455514008,-0.2551056721110929,-0.40881520664758103,-0.6269819457034552,-0.5967479751154585,0.4520386806109742,0.4169336101552576,-0.7970351079160144,0.09165825931070092,-0.19102700335084752,0.0908922250547344,0.08663869566722299,-0.4556274920569032,-0.11245463397206687,-0.10658278750338263,0.7765510592917958,0.7768900078464982,-0.502814163876226,-0.055593711045448045,-0.5104555838307662,-0.5220960809315424,0.11739211563181137,0.002381418640804721,0.008833491548319918,0.009312734506032778,0.7635386101854329,-0.9312132903976584,0.3187298116768438,0.35376897130974705,0.1418894401761124,-0.38014197734171995,-0.29351827770823175,0.6024547004732502,-0.052121769014672976,0.8724736813352907,0.8346292100094893,0.0848103991907712,-0.4960403130038195,0.6896803099179493,0.200313125590225,-0.003850627923554576,0.007488823021216455,-0.6218589449092922,-0.08877100201045764,-0.09648945595181331,0.28911412803291014,0.3256665811816388,-0.06204109794603793,-0.09476412914528771,-0.028904329955685173,-0.019598728130022006,-0.22585961504910554,-0.22474439824551284,-0.03260812626846671,-0.026033927091365847,-0.5495551844520137,0.08639594292528069,0.854838047374289,-0.8276443477848342,0.35020174943709637,0.6840043502053378,0.6296522519985296,-0.09562832163540025,-0.09356706163146948,-0.11226443565707989,0.18308338196881854,-0.8505544119857489,-0.22338404625469435,0.4913455987464279,0.08102845367104144,0.07777899425372492,0.7667022124583039,0.7150874164465237,0.22826728734334814,0.1880850209416925,0.7661103051999382,-0.10502350520606364,0.4027631050655214,0.2268741086961319,0.25297208267380894,0.012825260086949094,0.09204149233514901,0.07048791758617998,-0.03957321230137767,-0.2847785138996116,-0.31216386814566166,-0.8495478986782032,-0.5360201098148171,-0.5531063351008934,0.4009895631356249,0.4321671997924843,0.46098185485383897,0.4599818443313981,0.13866859220336197,0.16449274870646122,-0.5390361756353177,0.6413433175236724,-0.20806079960158905,-0.20151082316805338,-0.043025466513812276,0.27234425163446063,-0.4422195775985988,-0.47007165946098817,-0.1026928220277308,0.25095033104043624,0.2659234287412317,-0.039707611353373785,-0.2632743145557503,-0.3090777600562016,0.49887899047789225,0.28896709000987425,0.18810598726443134,-0.021696467121493687,0.0015760317623315968,-0.6565648185291634,-0.005787894379711276,0.08433220945399054,-0.185036756182174,0.17592813534980756,-0.02961766307459363,-0.03922832459085318,-0.2986333413165868,-0.43643777805703293,0.14928190646316974,-0.0077671624577793225,-0.18712442165683044,-0.20653450842012147,0.5671085872641736,0.6344085285336262,0.6195077768052851,-0.14048169453455367,-0.18664215827645486,0.542365593315784,-0.17067158938282337,-0.17390731071509954,0.32493448396608876,-0.11702663721745019,-0.12132512876884874,-0.07089477694832709,-0.04184654901274591,-0.02004898300025073,-0.41499548612493276,-0.38210416428614247,-0.8518331828761513,-0.09485824711350362,-0.10112382254761086,-0.5481507891919847,-0.5303944181656066,0.7933394211220598,-0.187808555625945,0.49091415362932944,0.4710415157966396,-0.1922858618122065,-0.1908222879884201,0.060850740638821385,-0.1674829298869719,0.16149490664302096,-0.22436094386289046,-0.22865166899644165,-0.4425342238169233,-0.40394215669048655,0.055122914981186766,0.012594533823153665,0.143290044940744,0.18936082931509096,-0.3307257266911076,-0.3348602101361357,0.13478867035597264,0.14482379692441386,-0.3488268858223795,-0.2961010437882128,0.31628716081010544,0.31625170865888597,-0.2561209042465829,-0.2663556384544998,0.3242170635900171,0.04153315702673249,0.054032722164481815,-0.13143789949117782,-0.1736004924701844,0.05219411136825651,0.03054148086700043,-0.08298063369251296,0.16050081809729128,0.1498570589565172,0.04501058566589831,0.02717532035931679,0.13286296477011578,0.104802981793675,-0.18832925601374156,-0.19092034849516648,0.06361685920792774,0.07494990806046047,0.09923160500386732,0.2608137815036151,0.30754537078184985,0.3933359650101766,-0.3171480111724146,0.18239119239289642,0.21813619395638387,-0.1824236154860586,-0.522134604367606,0.2016752636816486,0.18307730568325212,0.1893392019498127,-0.12173790459651695,0.11330494205369221,-0.12394995004959496,-0.14809923357025936,-0.04846113608457673,-0.09510343473945648,-0.24388110197068424,-0.23914270459899256,0.1329958034387217,0.05897365346502596,-0.2704868037085564,-0.2206756650332397,0.7854007519391923,0.005121497773188669,0.6408773526672347,0.6605118831177348,0.025446856858827326,0.8923004845920576,0.8490887655688132,0.7176344034782816,0.7495533267655807,-0.972348018973288,0.028653728499711654,0.039650007103796674,-0.31581488876124875,0.6615764265158959,-0.16116988889387793,-0.369356431706113,0.08366793839838545,0.07035096869351092,0.254989554341932,0.12643487397625938,0.15258401517634618,-0.08097010774246119,-0.09517246832414612,-0.4823344941340403,0.1285673812398403,0.1469237235701829,-0.16763801950959853,-0.18482447128857,-0.13762859206848096,-0.38069213664408524,-0.17081640693627234,-0.18242772521719028,0.2831375481280027,0.0802034003607563,0.061009670895344946,-0.19192638187067618,-0.18120987043827597,0.06921472027304394,0.14104984143035385,0.12402307442273912,0.320032148430841,0.12287600338693502,0.12851997507248036,0.026626463282452044,0.03970559468548697,-0.2058766634194494,-0.21833728442022618,0.7913257397857941,0.3164288076953243,0.018576791970876517,0.0577479823800523,0.03982621162305323,0.1272033961533882,0.027601816673941182,0.024380625268272067,0.34980410120603,-0.024466405769064312,-0.03652597656997842,0.289448407086471,0.25635381118633394,0.4314105126816312,-0.07895777370144604,-0.07405637698188018,0.880283282134067,-0.032771677875638755,-0.07365923782293192,-0.0734061128710666,-0.5036070321965702,-0.04655152018683192,-0.04031999596112072,-0.7849730215732361,0.08442875069046989,0.20502331974467902,-0.26266782601454114,0.0362659935883645,0.053346378396874373,0.6379677603543321,-0.17470280303732383,-0.23913707949393362,-0.2743688225487359,0.7937341981239409,-0.010870112804391248,0.5142937007769335,0.5396153665968715,0.4147007141500236,0.46450593302658927,0.1274368032141816,0.1431753589444135,0.3851869484994157,0.3516074653754038,0.3583677669357728,-0.06669453193327537,-0.08326951146958882,-0.06955899398479125,0.3585983480991345,-0.08458802183444758,-0.09859740379030153,-0.16900400078951192,-0.17616114623962237,0.20091647720100392,0.06727426471595703,-0.29139765822849567,-0.2523587213218213,-0.11581729258606999,-0.1159438361894181,0.04007248375911681,0.048233017779019796,0.4370115745602352,0.6310151764453026,-0.2074154870669884,-0.2008112161818502,0.19758408581836584,-0.06611358029454878,-0.2307260036639821,-0.23726374301712438,-0.22843792775261879,-0.07142807491654386,-0.054734173248909265,0.030382141029216953,-0.23389449342920335,-0.24021184677455182,0.18725775797255154,0.03862572924790491,0.03708936821965307,0.29851851320931466,-0.6414661825740094,-0.03404750908086599,-0.5149407675049372,0.8826976697689485,0.9052014078043158,-0.467223046741753,0.7836782018119335,0.6965129047175014,-0.2168345516296614,-0.08984686673042247,0.2042675857113233,0.1914672038436763,0.10836772837743917,0.7877014475498229,-0.09628440265784709,-0.08095590446106629,0.0764294043902214,0.07833943253783307,0.16302911622809077,0.15370051449603073,-0.05281245544158705,-0.5131757140610513,-0.5250543697839605,-0.0036794910941568694,-0.015024385672505232,0.49090659902363126,0.09301036862460811,-0.008088848348525388,-0.3882227511604113,0.24195938035305437,-0.019766827223391247,0.3292886978794513,0.27875802646587855,0.4265119232772557,0.3616813985914492,0.17575113494269476,-0.48970109634675035,-0.34108944477937875,-0.3671827647490277,0.6503017974408408,0.09006056653150375,0.5663527538979504,-0.46395385158305935,0.14962747959476744,0.24846547448560005,0.27123708409689673,0.25155575544771913,0.2816048494561551,0.16061603279479725,-0.08621459110570351,-0.09064031016947334,0.07828343648294313,0.0917214588727117,-0.06696669312036811,-0.06439257788817948,-0.20136068294041623,-0.2076919640429042,-0.12593289687584483,-0.1090707784818623,0.0889108052196038,0.1547765970223093,-0.5088322257387322,-0.5223306343457444,-0.07032488649591889,-0.1997406087659243,-0.12682867645996107,0.7165502375046151,-0.4670838423049633,-0.24456007989602216,-0.23273256786546923,-0.22658711487893105,-0.5129623527367436,-0.32920101769159843,0.1574648575796708,0.15956979555802156,0.006689803080380991,0.3568881561219029,-0.11206046661540633,0.035863124317449216,-0.2940657245760715,-0.329412602471582,-0.9938182255709073,-0.6314316060470705,-0.5936077260524393,-0.12905381671458874,-0.15120101968164185,-0.47961349240297385,-0.09382418119597576,-0.5671341317187657,-0.0013242112007289437,0.002525199631775848,-0.7916077442019069,-0.0005759456992660656,-0.21033767698075562,0.06457158308627105,0.11694140998521017,0.13168819589989483,-0.2536844210097049,-0.2555016449310352,-0.14713173085030792,-0.1407264776578779,-0.22164886480177995,-0.3722564327660278,0.5512696103442918,0.7829169297158468,-0.2042477302351525,-0.1903197908079973,0.04355902957909868,-0.8142730203988943,-0.8245644268419126,0.12418380735113856,0.10793696321625403,0.4836831842177268,-0.021085650663018148,-0.026265098471821204,0.17166042998677716,0.16890971703722,0.13870892872903134,0.20360919508260195,-0.19940899543751817,-0.14621828685682012,-0.08287541807078859,-0.08918297630035192,-0.033695154872114476,0.16171463882028603,0.09426109611349254,-0.4569343891384905,-0.44632481456621165,0.2855781517036328,0.03613959432857131,-0.14994319123461505,-0.2221933539004023,0.012571110943161086,0.016993860363743157,-0.11191390974290297,-0.8029774029734621,0.3551459147038284,0.498202364557675,0.5034015146507167,-0.12419121158711167,-0.2643277286369993,0.004934753138112135,-0.009508244016531813,-0.2739369603805003,-0.9446149233798925,-0.9482743686009631,-0.1880609631295173,0.7726975761427121,0.11736590502874401,0.12354022541879706,0.4745479857137633,0.03703901074750551,-0.5003676211110867,-0.4629579894910404,-0.001978155145179123,0.10164535204293657,0.10050590768277451,-0.13917728087298983,0.04777801622589613,0.08699461161107168,0.06354665438595135,-0.041039662797455655,-0.04240185655050171,-0.2848875790013157,0.5775801069938925,0.5845898260183149,0.12178235555444986,0.3136930629095085,0.32040706149568005,0.11480299718493596,0.2756812007597789,-0.4034379009656163,0.13091026162095176,-0.3768189498800275,-0.3555557793564482,-0.037057068109855845,0.12706485273819326,0.8336781476633172,-0.06396209987108756,-0.38176919532771625,0.4335084733113807,-0.08401177219646466,-0.0816255937912686,-0.4770845555791544,-0.4149529191282535,-0.012071761485614625,-0.38068286181116856,-0.34835128252307407,-0.051063562381571885,-0.26350953939728017,0.14658152835019617,0.28734286261340064,0.2962392746801128,0.17524575023034733,0.3992774287684399,-0.01490109412956485,0.17616252443684774,0.5101411279337676,0.45947346379443854,0.5538601163312381,-0.0856856339167741,0.4276537659319756,0.05071380942483442,0.06229371861746608,0.15841294072702233,-0.7435626845867755,-0.3485406450648211,-0.5330383394084881,-0.031880583983459665,-0.02891005551456552,0.05925257387382568,-0.4050778673340361,0.17786668762849792,-0.0021550455715299665,0.0030924862493632676,-0.1846490140851147,-0.016159045716603763,-0.012678905778909177,0.45072055590144755,0.3802433257883583,-0.028230192051421955,-0.10176966737071631,-0.09949911938356136,0.44094107869824634,0.4318265440825583,0.11910919410088114,0.10865549099608982,0.15238235784461104,0.793287330580638,0.01576456889150905,-0.6540392531837635,0.10163237669307205,0.10741315270306821,0.019569205934198242,0.6062426436962521,-0.08453939792679062,-0.08413231297556206,0.4714036173173123,0.2430046831529834,0.24749481016801214,-0.0644710243646745,0.5400152071178042,0.7157061525950356,-0.17977830782759724,0.5037165454503768,-0.08332191773637099,-0.11306451364671907,0.1307014262447156,0.11668046711810907,0.575691146529881,0.023589957003422736,-0.06960368008539071,-0.15983782323706316,-0.38393703137566787,0.7925429433174502,-0.3798340426611808,0.020418103761865217,0.01768956295183933,0.03977374970111656,-0.4954505744990638,-0.20368675146378667,0.4394733822529636,0.6342290266756286,-0.11395843445428927,0.07114704226589089,0.30830614549605734,0.233067055279494,0.1936132504109137,0.060159217232143354,0.06376786250819003,0.04939701792599785,-0.10332226144181668,-0.2834406784548938,-0.27298794820079575,-0.25626232356932943,0.3410153464975873,-0.05098731681858883,-0.043177368618579515,0.5030892379543258,0.1889483738651795,-0.3230813695110152,-0.18836417421555057,0.091297068581275,0.46503826840355894,-0.0650439846234299,-0.10579611195242601,-0.12182498319587441,-0.11826386320777288,-0.8299571985873907,-1.0,0.15362731445271569,0.07114749232302452,-0.2203751972749015,-0.3915645948143517,-0.35199533708944464,0.0879811967317285,0.0003399789609311975,-0.24579326752272923,-0.2883986088918872,0.13676753521159699,0.0100529917869135,-0.6702411708639574,-0.7070854697773026,0.14263669891322078,0.12995768493322507,0.10827159829541812,0.11569714510070746,-0.02123383718541235,-0.01196212099982168,-0.08427338868136604,-0.4590087073446341,-0.2592246603245717,0.030804900212647156,0.9173672474949004,-0.22577329118530123,-0.05629321640802823,-0.07032416844032563,0.1799797687606026,0.16309848644570293,-0.11284358611631598,-0.12439950976410617,0.07371901774293985,0.42098625215467506,-0.09684811655891487,-0.09151856443687313,0.054113420328579284,-0.1123072206264385,-0.20782435257535317,0.06638097044185122,0.05854210827302064,0.30685356798384533,-0.07098913583860592,-0.6928029707392083,0.46529672568139524,-0.4021003996406276,0.20315068924636828,0.0030935537126496036,-0.3562137942089806,0.9157100773487523,-0.20738811564339976,0.13086379646986881,0.5801475684120535,-0.547331383551748,-0.15416446757619878,-0.15837545214493576,-0.3719569602764213,0.664683165930647,0.26121004144915855,0.05662138597308587,-0.144753523977677,-0.05565798177842482,0.01797964323461157,0.025358328936961227,0.40198817936801395,0.11741209592581335,-0.4740130408241581,0.02350465376743218,0.04580515305310111,-0.14130096247173313,-0.14757612930596228,0.4874764107583018,0.0015982076498622646,0.12521341958007162,-0.12461599241807682,-0.1294882581168355,0.3009875631359833,-0.0731473795496459,0.28512154511234755,0.22047209546584517,0.2181135943209885,-0.10312807705883238,-0.09661383217709504,-0.06015099174587525,0.21239795355448876,0.09905273305168802,-0.5477573344725394,0.30088359708657353,0.7072261310238709,0.7378028416043529,0.3803263614966848,-0.32757001987481144,0.0705955480140968,0.010274344835584065,-0.8433626165334772,0.03339151460572186,0.03859514325659264,-0.1288599418761178,0.3307070800449158,-0.05282633637852714,0.17725389120442603,0.15607635318940513,0.6495281609802946,-0.45182814246258596,0.14562994586809033,0.25310423046913616,-0.07310538560631435,-0.959532814464243,0.4387465503471059,-0.18680872250257424,-0.18478895640517654,0.16097358975011455,0.0018599654680892966,0.9219486174483056,0.03880382514225355,-0.004560767837996136,-0.007771583838090103,0.0001424451352465821,-0.03156245849938626,-0.03128998681661451,0.02035122291589884,0.03645464368315703,-0.22455600957548616,-0.3795250002009912,-0.12005559630685998,0.46069743937446617,-0.5323493045254036,-0.164396775937284,-0.1442220368164284,-0.1863493078736275,-0.17916520810614756,0.10891598585213533,0.09597431229123266,-0.08404237651348652,0.03562775074232512,0.042918285497721496,-0.18513174325090578],\"y\":[0.3414359354715847,0.2519848180181653,-0.4079939767757919,-0.4327608750741616,0.8319186008817235,0.8724974629300462,-0.1615684376991686,-0.15311225658415475,0.4926826161593109,0.4962356542296795,-0.04168223553203603,-0.048449157083018335,0.08957036732566336,0.09702285864367469,-0.27391389430847735,-0.2899120107933166,0.4601803625780422,0.4938112354893105,-0.14594209960889715,-0.15256269441247242,-0.06805656187194875,0.0437996307862337,0.47050209493914197,0.44511366311630113,-0.22458049950877754,-0.2764319873367852,0.1116870871652581,0.07813459348277739,0.46673132513428983,0.48251379310199444,-0.3805242930978359,-0.3926255278914775,-0.20566590582648386,-0.2278989295054185,-0.4216508328885114,-0.45256623838080484,0.7331438927438867,0.7336890148364507,0.11827434375434105,0.1157882922025619,-0.7148356711923214,-0.6756373420834239,0.49387395698679587,0.2306553599688178,0.2292128000408964,-0.056286901938806165,-0.022897691715041565,-0.3661683682624342,-0.32388269988245333,0.09117044759693085,-0.38376706719705805,-0.38912688826324293,-0.004618201347797919,0.013540036609254813,-0.4101525994582612,-0.39919814941136456,-0.502307739985833,-0.5596106423062938,0.4538190562095625,0.4992917670050459,-0.02658853747711764,-0.013537376553247962,-0.11538273161216657,-0.10942645282073127,0.08330802626273026,0.09873248988224669,0.01841911036469114,0.03516272789905228,0.046186216908431214,0.04141103220265508,-0.3131266823063675,-0.33171578698968174,-0.15747796325190386,-0.1563235529570757,-0.34015238727086833,-0.18954809404625458,-0.17130110561452241,0.2700006934744441,0.2973215559073617,0.10140887604127648,0.06226755420516394,0.06938087192540411,0.4692721069350518,-0.23037446953473156,-0.24831372209609306,0.46737843135542606,0.5041066348395052,0.33649479512078995,0.3134073150004426,-0.6584152171710034,-0.5878420171944803,0.10547422927502953,-0.5088399730148888,-0.5724549939379331,0.5904610271359905,0.5622539620095344,-0.15873524606071557,-0.2036988350852849,0.19492086788497803,0.183395906725012,-0.5906271421313345,-0.585524983695288,-0.4924446735114676,-0.5517471168551042,-0.04138799527775112,-0.03535654316478202,-0.37940981273562635,-0.3815387632426957,0.1858096408839922,0.2664616947463205,-0.058062488860366614,-0.45035556705249236,-0.2764368519757657,-0.19902815186426828,0.3411621320972349,0.35522738875165255,0.7393153353863674,0.6658874577036129,-0.5428352898826576,-0.4929753859335476,-0.01125088203301941,-0.017022091983252805,0.5314470475897393,0.5373849160345999,0.04479440208908876,0.03862804020695611,-0.016941115037654473,-0.04154797099766075,0.050882353079678276,0.07081171775170622,-0.5654319380301448,-0.5242440710909531,-0.0008030749756946702,-0.01842932169469089,0.08285842540146553,0.11298942702512456,0.5509025910488977,0.5684649394641301,0.09031609486655288,0.11681139042365159,0.48944075022879974,0.43461224407340004,-0.005248663464007069,0.09552401775338608,-0.20324802048200002,-0.2073832593425849,-0.35885286831185764,-0.33545311929822746,-0.11612017558374242,-0.12758860062908528,0.15506640946418143,0.20300441500945562,0.10597672763043238,0.09668762041224112,0.12077805774359918,0.06531968935570527,0.03034857720732048,0.07009454550480339,-0.10570551698472468,-0.10748292389953,-0.3698774958799974,-0.4270992668866267,0.040639942440218776,-0.23489650932757458,-0.24202446559811916,-0.3330809697264566,-0.3202869316949384,-0.13922680512779242,-0.1396926936846895,-0.45666800570154004,-0.4641610936362611,0.1000617693268385,0.08925052926741976,0.13817599869956143,0.12472285142545801,0.17685579074581287,0.18577154773687926,0.3973031946129938,-0.0023490490272265493,-0.016546021011163838,0.13697606809236415,0.12758609376901603,-0.13349374598646777,-0.14275185110054667,-0.12362665649703336,-0.12958208440253197,-0.017640382247456097,-0.524444149941113,-0.0746440767617215,-0.1551914744340487,0.09555212450704223,0.09231171912599502,-0.22751880470983124,-0.21497814296899165,0.2939204611325442,-0.15327310190265622,-0.1591507366566869,-0.16249807296272306,-0.20311720699151747,0.37678746998204726,0.39689275892522224,0.16519947099099555,0.14652458480144334,-0.13241034235782972,-0.11079363802165916,0.09482191809984299,0.08143855175790497,-0.12657854212657774,-0.08348314269246111,-0.0623456061311932,0.29445896064443244,-0.00854098277755854,0.00027012556309180373,-0.010280158179350291,-0.03736545145083652,-0.37868006908889634,-0.3828328699442706,-0.2500873127704235,0.42723939478190615,0.5229898767732064,0.1473974057669671,0.041259721766194336,0.2943572382099044,0.33836130023718036,0.5044371694985093,0.5813392100805373,-0.25663925308874713,-0.16174485920983273,-0.031149893762542537,-0.05761468866801657,-0.08411306083020886,0.20963826398333976,0.23668595923335922,0.2373218474446466,0.23417191004073434,0.10451486009884556,0.061761406968630354,0.0789117234709286,0.05651858620581137,0.00966193100025807,-0.0005230053381437527,-0.029106210260042096,-0.0879573040194732,-0.08645622786327077,0.18036022706432192,0.19171558019760734,-0.1735944352098472,-0.15788838575230854,0.03493793091885486,0.040468467180731535,-0.13525010636325227,-0.15481086177656736,0.17786192943577941,0.10439455982935626,0.1581648079242914,0.1484889219920906,-0.624051631889483,-0.6721587640269869,0.15190388959690862,0.17724987104686063,-0.2218808729380868,0.012399191646482463,-0.15895118960399035,-0.15928081835393745,0.5236404195580626,0.5339207623927044,-0.4133567689079879,-0.44260163875683195,0.1050734835307178,0.39732845738297395,-0.18978708275450162,-0.18206023881325567,-0.076017771885612,0.16106845294687747,0.16079170501043805,0.11246784181676289,-0.07561837652759684,-0.14760684963431941,-0.26286739475749216,-0.2133368295124271,0.08549944879725456,0.09363541096426557,-0.053862344792997986,-0.13029574389356657,-0.15611258527132174,-0.37488192810762627,-0.44137992389174,0.1966974562243541,0.2262742762589976,-0.3531389350525125,-0.32855915541473585,-0.1406872508987974,0.5166708218459515,0.5497518055604192,0.12468768242698494,0.1138908035715197,-0.11422392062352922,-0.1185495244791106,-0.17745915374138171,-0.2753933385945632,-0.3521808419969664,0.008898356497281755,0.0005011368134880013,-0.08652700269950182,0.16946915859484377,0.177057880282729,-0.43826384841248706,-0.4478004579154563,-0.2844396665348285,-0.2116634843627369,0.045452789241874875,0.014914596892756874,-0.02972741853794589,-0.5451503473372458,-0.5146863268687212,0.04205611214675851,0.05783888280874123,0.024744829119554494,0.03162445055541944,-0.1832877729575688,-0.435456242072363,0.02539834743071911,0.026086158302699756,-0.5049651591714619,-0.4731721354147971,0.5642554526491975,-0.12355867224269541,0.02434533982559269,0.19837902815768788,0.1944872343923326,-0.11233763180678306,-0.07441830712008762,-0.07877627257798994,0.10158592152409744,0.08927742322441261,-0.6088870907249632,0.7764479391646044,0.06901553702286847,0.047701346722145106,0.02446806178611923,0.0012211560771576147,0.17720546415815733,0.1933945724001885,0.10110898465402857,0.502176146305384,0.08362813067644245,0.1120094096558205,0.22076812342675883,-0.04983889324391273,-0.06411140339918084,0.10448940575683655,0.03835746477523587,0.02944628678237186,0.035747370690340195,0.4890335440780131,-0.06402951715595281,0.3193657599173207,-0.32695565145498023,0.20984843003463158,0.21418382803277566,0.034632432925555,0.1402173144282242,0.15511689399220133,-0.12896658405585357,-0.1000288349511391,0.02478026737963805,0.02963803149434353,0.24976256306478847,0.2494777400121867,-0.04875361588972421,-0.036117216559207584,-0.5085861460055002,-0.5356828793291691,0.5833308069877671,-0.1715934859672182,-0.0009641845472932807,0.5507224227849781,-0.06892934954332969,0.06362474837303221,0.058875107197576104,-0.37483702399957236,-0.4188151041889856,0.04438329730840602,-0.045338202306052816,0.5643515990444249,0.041448059528315415,0.111781587516915,-0.2785724372585334,-0.25498468229130966,0.30269019319824836,0.24834625173793243,0.32099691611745435,0.41535066396339765,0.3770439847889264,-0.10974383359781317,-0.1130185998732823,-0.16889377185403776,-0.15240339177459927,0.177175226797451,-0.10243417413206893,-0.22320154592927685,-0.26717237576227393,0.35763603773663466,0.3925834924169088,0.5703726727099617,-0.4292828032629548,-0.4289774675709194,0.05560074416081819,0.09014738201424387,-0.01504241698566557,0.0013426148375041424,-0.03986500258211636,-0.030004484578233563,0.009702123070635477,0.03228012096026051,-0.1451362939316241,-0.3291314778174363,0.7682767447545138,-0.005352107707564694,0.338847261900554,0.3823184710615289,-0.13308979883163757,-0.09611174988167497,-0.12705277283025296,0.21915893367345587,0.6071423022926239,0.6092460811861599,-0.2351555534879992,-0.12590473029822324,-0.17815803640464678,-0.08833396603622523,-0.10706860100363104,-0.38322122506079065,-0.18096485835389675,-0.2334381287252261,0.05254929524372986,-0.32406942350095863,0.171492276723996,0.14835197968161018,0.368733174216898,0.43615662403285627,-0.1556645386174348,0.2519524163927967,0.0670193518838464,0.06315166810758116,-0.13619506249284336,-0.02024443095366961,0.045734607073329686,-0.5601786789734653,-0.5843728654012496,-0.14726788442418035,0.1496536877865952,0.14885949240825022,0.2011174532788083,-0.014680482995945245,-0.019530044223421555,-0.389994098222573,0.12131996713375329,0.12646552872453412,-0.4850940156490408,-0.4892621124477743,0.5163511049249435,-0.015390177334494624,-0.0239129281715566,0.10552905915132937,0.0699502014305032,0.08736157398896605,-0.36867710661126085,-0.1703876268515351,-0.17200822663144144,-0.12445494269294612,-0.1074099170070789,0.421367394497084,0.11292854888601385,-0.08428520643623551,0.025575320341030112,0.04550688096095627,-0.6208117548218954,0.2923760432307867,0.6487268159745592,0.7040936506273524,-0.3067561459102092,-0.36262174720855866,-0.30377184567790205,-0.32416174556986926,0.1360367479078418,0.12757682086760927,-0.495517980416209,-0.49205001801275083,0.4938840085253078,0.5347952058038443,-0.198416247747256,-0.2104959287639696,-0.033880861280587836,0.22137343199592044,0.21653528080678322,0.2095204773380914,0.2214485551483997,-0.19020622654536043,-0.20107426339258813,0.13046978386242966,0.12237744650513906,0.11950134377196231,0.04294531069490375,0.0633316416827143,0.5381176880289625,-0.14416206732877274,-0.14851907738135395,-0.16776572640819193,-0.08045145182545997,-0.0737237222524039,0.19371879506344136,0.22259387399312797,0.1422065132566626,0.15301151291837875,0.41706148672513865,-0.25531307078406645,-0.2870218756167533,-0.07378354191244073,-0.6470569558857888,-0.11849945910519562,0.015185501742268709,0.0011027182728217462,-0.03968687443610369,-0.20544282825930182,-0.5671120417923787,-0.5962336954328159,-0.4641944772419946,-0.5248176766565245,-0.4822142713065645,0.4523135857124202,0.11926234857768081,0.17622036609559155,-0.4294563259894522,-0.35567301323765005,0.11529868827327193,-0.5233605520261347,0.06870755805116091,0.09327243460352523,0.1979033711960788,0.3567277126488219,0.33574107439997625,0.06981307654527212,0.06922823969737299,0.5665546889935725,-0.006684208108773916,-0.015261951137577313,-0.29126993662803685,0.18987443080820465,0.3028374352071421,0.24073723174370845,0.22371102829706538,0.22019611557261948,0.21876728306583546,-0.21321883202849035,-0.19670288504519354,0.16784888194468775,0.1804256358174299,0.5163416927533067,0.08500866977789562,0.08042490822854688,-0.2747676434193541,-0.2862258923587142,0.08583479018542842,-0.5951069938081299,-0.6299960832571477,-0.663173600077983,-0.11523124572471766,0.052412448337438626,0.044157021528784944,-0.29600595851054345,-0.280212046122388,0.21995122120893268,0.1974237388923693,0.20165751005992932,0.03534267521683377,-0.7845653528536428,-0.8290303393699588,-0.1782062747078781,-0.1828735937069455,0.1191216000671124,0.10808311105047076,0.35665339298547377,0.14825485774845173,-0.3195672808226511,0.13006211314344868,0.11189350392099905,-0.29248332722028253,-0.5843146725197982,-0.6189511337269948,-0.06735159950440246,0.21156117849891304,0.18344497755663067,0.09339228552963888,0.07757668441389616,-0.09669983873102517,0.0989495748549438,0.09885680329477363,0.03769806352061306,-0.2216971927800357,-0.1958511621782987,-0.1897228456635982,0.566536810620158,0.1246176014659965,0.10544523121597818,-0.4707086861552201,0.1852645199909156,0.06418679453018693,-0.48897738127543694,-0.2589011988894964,-0.25515355511018806,0.17435108885244496,-0.28853950685057045,-0.35084874019320933,-0.38161398329028207,0.34383996688097623,-0.17456808641681834,-0.03682485187072338,0.008857206459725923,0.03561829228304233,0.025444379326453617,0.23267771200170928,0.2297567530466902,-0.03258941658819594,-0.09782666104513388,-0.09488054970543988,-0.44746846684633473,0.03005941126214685,0.029699405313849556,0.10414207010190915,-0.0016958847007810165,-0.0013963244790153094,-0.04621042439975868,-0.04104936180367781,-0.06287561850197881,0.3343231036260346,0.7744034987332981,0.7656526249062294,0.19126914691542204,0.17325003216371185,-0.20154517674741224,-0.21839214523085004,-0.07455413169688907,0.24148749066740516,-0.099186722624048,-0.10066456118271523,0.1456002660803034,0.13166711285740715,-0.03167738088912821,-0.026255771179510053,-0.4203051781138344,0.07926849707272171,0.07300409606209038,-0.24482761246852436,-0.022352582874585178,-0.009721318304265984,-0.13468668918296361,0.18462248127189898,0.19376351062492184,-0.39622146906323,0.024868117155183066,-0.0898052400396789,-0.010120009273245969,0.3645181237398136,0.392900742807944,-0.696182415669085,0.03581188453730203,0.0463003357647052,-0.04024065925674358,-0.011857713985634118,0.04927583413471821,0.04434058900097808,-0.13353010690689085,0.29403029030644456,-0.19296717619342146,-0.1970341805839182,0.220174287443209,0.20442873350157162,0.04308128979496172,0.05304611092100178,0.15125294095510114,0.5966070611037292,0.6083806533343763,0.11323344937014788,0.09611825489313601,-0.019248393672373628,0.40010610368222055,0.09000894843896103,-0.34949198558944516,-0.37871358318151965,0.21071613968807396,-0.04147389724736311,0.2454807244609046,-0.15255403953075294,-0.14710642685888395,-0.19669783414024297,-0.10899450757275263,-0.08516333726353181,-0.08668345748818271,0.1893841711623307,0.14777041060503157,0.05845321036282902,-0.02155362558142363,0.13646748672203624,-0.07349826494241363,-0.06827451792201096,-0.2907150432490564,-0.29824599265473917,-0.3063957974603904,0.17983236278503592,0.18498753426526296,0.14229751857933742,0.10546304986891317,0.24063312932115288,0.22992457008575895,0.09745079906821437,0.10946279925765916,0.01845864058648137,0.02128228067416507,-0.1508152921113012,-0.12933807001064257,-0.0933148769154435,-0.07194430677410153,-0.03080714123661898,-0.3070261566376735,0.03687426656541568,0.0676200682837942,-0.09649400572414982,0.6718274979805009,0.0595839539771433,0.06491620996133644,0.020508643099693257,0.48170445120395533,0.03172072170910708,0.03019982586179113,0.21846591466570706,-0.029175220572127635,0.19943924315934497,-0.6092700164025737,0.04316792462987418,0.06032645853635489,0.47913617507601114,-0.44542559446425156,-0.44388176078989405,0.0206147234011403,0.013710021724200274,0.39383071820450555,0.7140262099803635,-0.4303350093094728,0.08355728746256672,0.08916838686244269,0.5495971967344009,-0.39438635440634556,-0.1153375357385419,0.09010263288339275,-0.07944463046448272,-0.07863887489637594,-0.066593853285227,-0.0642662913745434,0.2011099173202235,0.20711212735235468,-0.17472282828613087,-0.5896634787955699,0.09927346474853345,0.40663916358356433,0.23399769307611265,-0.09262551434850883,-0.08857665018303397,0.5930043328360128,0.6201341296498746,-0.13415520381634755,-0.1488767739061601,0.023742576267720465,0.08072582612750957,0.10308589634286175,0.1512721975120996,0.13969372110911818,-0.8092931385060905,0.06327624863524665,-0.3169496826695691,-0.35730884918996375,0.7827744429574461,0.7499258574742699,-0.1576943295375234,0.051836280243314214,-0.19030842209501886,-0.407564061577207,-0.44209901943858754,-0.07166137528273898,0.4607380827914761,-0.323883742840076,-0.0321659615414199,-0.24624842388292625,-0.23436086474486512,0.10642867349419823,0.5436885464032424,0.3256811705031747,-0.12289439736861682,-0.08328722202445706,0.911283484863444,0.15758550659824558,0.07147186816094332,0.23016628344865347,-0.5765468090949805,0.5306850297486827,0.5326430258283582,-0.3206933930412931,0.354813527248083,0.1794436079684742,0.16970969761513852,-0.1486142812366523,-0.20967681628789653,0.3796160128953905,0.3709653482408418,0.5663654966331232,-0.0021090510058151125,-0.008910052247114107,-0.38246120519601295,0.11616528493837935,0.05966037252721667,-0.10628940963961019,0.34846178442357395,0.34761049688663054,-0.5747310846436449,0.15586781420445467,0.1675061106648977,-0.6854107653230445,-0.1312456683318733,0.11196128971626332,-0.7225563728421082,-0.08274800487128434,-0.6202147544405104,-0.11588997011475698,0.38096674506987865,0.3624227810882521,0.3793984732186702,-0.213204791718079,0.4110843837027509,-0.4672204367007351,0.24652947906300396,0.061863811056933386,0.21294158990113765,0.22261890998249345,-0.02139604061560055,0.3558870591144058,-0.08960856122517294,0.030138229193202446,0.02894402259159598,0.3781565953480879,-0.338793156624183,0.10261663610362795,0.04559524808371849,0.05128852487545475,0.01417451217225342,-0.0427436596125049,0.07891621994138931,0.031008837595730174,-0.1248872376467573,-0.089950602833819,0.086809435515805,-0.17868226850543328,0.06554329139319146,0.014878300833347013,0.03222279062286835,0.08402888879064434,-0.3819279352649043,0.5340900905516008,0.115998096076698,-0.14373501127147809,-0.1414419037920764,0.23093005511342277,-0.2137784193503501,0.04480811757252824,-0.6038995575074478,-0.6084010407495452,-0.6864384128396772,-0.5593775896288773,0.29279029066773704,-0.04253630741006206,-0.13632052403668699,0.7527359798786087,-0.006262583184319167,-0.011177307444050252,0.006512395883484659,0.0183754189344639,0.14522546774519302,0.09680652650739413,-0.1516209782527399,0.33154276826463397,-0.5473151299346154,0.05376832681969453,0.23191106050824445,0.22103349940497466,-0.2035447020768174,0.1716859525000618,0.24299722113257052,0.2547942688488846,-0.13213529902901175,-0.3580759960873834,-0.3577672218976655,0.7998706994571716,0.13612455446684937,0.064785862033164,0.040674479131173495,-0.1572441178230136,-0.15534455943437345,0.08371082815243217,0.06612524191102068,0.08130598978547807,0.09173895838974268,-0.2836278755339347,0.09299371380656206,0.09469359401047724,-0.589708172305268,0.3216171287778097,-0.39577456331951055,0.018162500120675978,0.022693844133969805,-0.09918088289772774,0.5524285693659289,-0.08065603095580735,-0.167857998320141,0.10964624982736398,0.07133316458825958,0.10488860504766846,0.5330142535082624,-0.44320669925976863,0.06085540356329208,0.014218377341392776,0.015157550507221333,0.11932028263475314,0.08115702319558561,0.6758706140645232,0.6508442215985291,0.7645993566377638,0.4467452651887086,0.6866960128884458,0.7018072542138954,0.06752341825500739,-0.311678373787526,0.33903761979874897,-0.30604692893696617,-0.10816725590376254,0.12133173099811506,-0.004876814466612378,0.022888539039291757,-0.39618403867725643,0.18715349685834115,0.5917905882571419,0.4732415195727477,0.10388685483819624,0.07949840221991301,0.08793351736022884,-0.33466010577390737,-0.32043748810844336,0.10294321666252483,-0.5233686108001008,-0.4900584598628222,0.24957736519446858,-0.1307063285452762,-0.08732219436086307,-0.3254746941768633,-0.32379938699058,-0.03415983694611386,-0.029323408308397428,0.14770592667107058,0.15122800111517765,0.18803172228251164,0.18443753201565163,-0.1133726808923043,0.34925144371213024,-0.3796221827890926,0.03983593132292643,-0.030930769137610982,-0.052154703478139275,-0.18928239966333926,0.12661572929448792,0.10014759545722972,0.10983661399237875,0.10155998821302643,0.07346107171846981,-0.7021329391420207,0.06782056339607218,-0.09774154942714292,-0.09054631370085733,0.23943343635550354,-0.02268542169527523,-0.39127297574092207,0.13149314864314093,0.1496341495683238,-0.12817885693488204,-0.0009114904239843017,-0.308806985430045,0.14159576146028752,-0.19899313489059642,-0.3717983433553053,-0.00785764104908726,-0.22435061402283782,0.3776345428029081,0.32229155809885307,0.09068976723534931,0.11467452721016974,-0.45495461795685693,0.016588899434151677,0.024105115393894247,-0.529743094536932,-0.1593591907865659,-0.11012347947268268,0.5452315018421371,-0.32611053472654733,0.7816855094651811,-0.11851449486778813,-0.11322400868290992,-0.14455483294134033,0.43983372273349686,-0.70522539361911,0.1508239419252044,0.13679800393219577,-0.061646366971295295,-0.0729093955854277,-0.13949763611532856,-0.14879934917796936,-0.20664768094596206,-0.06387382909686581,-0.06830175448449474,-0.09987261649921902,0.2170268931335475,-0.06849819376841576,0.09154657402985064,0.10209833379611628,-0.25322745235488525,-0.24218467286291978,-0.1969747975109562,-0.38131289032422555,-0.7018381745711545,-0.4499904715299917,0.5756306030736674,0.1948413631219168,0.19606460009178134,0.06211307439504185,0.42159550027990184,0.15226604268252625,-0.5543548664128222,0.5659985129537791,0.013808356592329872,0.013137015420599349,-0.027516393139231477,-0.038440593396765144,0.24558762783395782,-0.33002138560957117,0.20003938729895632,0.052503669095571096,-0.45869658885646936,-0.20006860862851367,-0.2983816017744699,0.0660970475979703,0.480952209150315,0.011509407322359147,0.09976198951502592,0.09534202534499212,0.05382003761199998,-0.6312473898198796,0.4023327353699135,-0.21623199646545369,-0.07747517546443099,-0.10199417392842863,0.004097538678559902,0.08958874253698461,0.08085242747420059,0.07386740621647606,0.06269906357794279,0.021746464138111293,0.010212002316885842,0.018320966538097266,-0.01155470336891664,-0.6337047788959798,0.10685016448329439,0.06706237281495055,0.00839543749073205,0.01296103509691151,0.23427402640422415,-0.10103680805094872,0.0822215400525679,-0.14020690478758305,-0.15434294283405442,-0.3239247035626726],\"type\":\"scatter\"}],                        {\"template\":{\"data\":{\"histogram2dcontour\":[{\"type\":\"histogram2dcontour\",\"colorbar\":{\"outlinewidth\":0,\"ticks\":\"\"},\"colorscale\":[[0.0,\"#0d0887\"],[0.1111111111111111,\"#46039f\"],[0.2222222222222222,\"#7201a8\"],[0.3333333333333333,\"#9c179e\"],[0.4444444444444444,\"#bd3786\"],[0.5555555555555556,\"#d8576b\"],[0.6666666666666666,\"#ed7953\"],[0.7777777777777778,\"#fb9f3a\"],[0.8888888888888888,\"#fdca26\"],[1.0,\"#f0f921\"]]}],\"choropleth\":[{\"type\":\"choropleth\",\"colorbar\":{\"outlinewidth\":0,\"ticks\":\"\"}}],\"histogram2d\":[{\"type\":\"histogram2d\",\"colorbar\":{\"outlinewidth\":0,\"ticks\":\"\"},\"colorscale\":[[0.0,\"#0d0887\"],[0.1111111111111111,\"#46039f\"],[0.2222222222222222,\"#7201a8\"],[0.3333333333333333,\"#9c179e\"],[0.4444444444444444,\"#bd3786\"],[0.5555555555555556,\"#d8576b\"],[0.6666666666666666,\"#ed7953\"],[0.7777777777777778,\"#fb9f3a\"],[0.8888888888888888,\"#fdca26\"],[1.0,\"#f0f921\"]]}],\"heatmap\":[{\"type\":\"heatmap\",\"colorbar\":{\"outlinewidth\":0,\"ticks\":\"\"},\"colorscale\":[[0.0,\"#0d0887\"],[0.1111111111111111,\"#46039f\"],[0.2222222222222222,\"#7201a8\"],[0.3333333333333333,\"#9c179e\"],[0.4444444444444444,\"#bd3786\"],[0.5555555555555556,\"#d8576b\"],[0.6666666666666666,\"#ed7953\"],[0.7777777777777778,\"#fb9f3a\"],[0.8888888888888888,\"#fdca26\"],[1.0,\"#f0f921\"]]}],\"heatmapgl\":[{\"type\":\"heatmapgl\",\"colorbar\":{\"outlinewidth\":0,\"ticks\":\"\"},\"colorscale\":[[0.0,\"#0d0887\"],[0.1111111111111111,\"#46039f\"],[0.2222222222222222,\"#7201a8\"],[0.3333333333333333,\"#9c179e\"],[0.4444444444444444,\"#bd3786\"],[0.5555555555555556,\"#d8576b\"],[0.6666666666666666,\"#ed7953\"],[0.7777777777777778,\"#fb9f3a\"],[0.8888888888888888,\"#fdca26\"],[1.0,\"#f0f921\"]]}],\"contourcarpet\":[{\"type\":\"contourcarpet\",\"colorbar\":{\"outlinewidth\":0,\"ticks\":\"\"}}],\"contour\":[{\"type\":\"contour\",\"colorbar\":{\"outlinewidth\":0,\"ticks\":\"\"},\"colorscale\":[[0.0,\"#0d0887\"],[0.1111111111111111,\"#46039f\"],[0.2222222222222222,\"#7201a8\"],[0.3333333333333333,\"#9c179e\"],[0.4444444444444444,\"#bd3786\"],[0.5555555555555556,\"#d8576b\"],[0.6666666666666666,\"#ed7953\"],[0.7777777777777778,\"#fb9f3a\"],[0.8888888888888888,\"#fdca26\"],[1.0,\"#f0f921\"]]}],\"surface\":[{\"type\":\"surface\",\"colorbar\":{\"outlinewidth\":0,\"ticks\":\"\"},\"colorscale\":[[0.0,\"#0d0887\"],[0.1111111111111111,\"#46039f\"],[0.2222222222222222,\"#7201a8\"],[0.3333333333333333,\"#9c179e\"],[0.4444444444444444,\"#bd3786\"],[0.5555555555555556,\"#d8576b\"],[0.6666666666666666,\"#ed7953\"],[0.7777777777777778,\"#fb9f3a\"],[0.8888888888888888,\"#fdca26\"],[1.0,\"#f0f921\"]]}],\"mesh3d\":[{\"type\":\"mesh3d\",\"colorbar\":{\"outlinewidth\":0,\"ticks\":\"\"}}],\"scatter\":[{\"fillpattern\":{\"fillmode\":\"overlay\",\"size\":10,\"solidity\":0.2},\"type\":\"scatter\"}],\"parcoords\":[{\"type\":\"parcoords\",\"line\":{\"colorbar\":{\"outlinewidth\":0,\"ticks\":\"\"}}}],\"scatterpolargl\":[{\"type\":\"scatterpolargl\",\"marker\":{\"colorbar\":{\"outlinewidth\":0,\"ticks\":\"\"}}}],\"bar\":[{\"error_x\":{\"color\":\"#2a3f5f\"},\"error_y\":{\"color\":\"#2a3f5f\"},\"marker\":{\"line\":{\"color\":\"#E5ECF6\",\"width\":0.5},\"pattern\":{\"fillmode\":\"overlay\",\"size\":10,\"solidity\":0.2}},\"type\":\"bar\"}],\"scattergeo\":[{\"type\":\"scattergeo\",\"marker\":{\"colorbar\":{\"outlinewidth\":0,\"ticks\":\"\"}}}],\"scatterpolar\":[{\"type\":\"scatterpolar\",\"marker\":{\"colorbar\":{\"outlinewidth\":0,\"ticks\":\"\"}}}],\"histogram\":[{\"marker\":{\"pattern\":{\"fillmode\":\"overlay\",\"size\":10,\"solidity\":0.2}},\"type\":\"histogram\"}],\"scattergl\":[{\"type\":\"scattergl\",\"marker\":{\"colorbar\":{\"outlinewidth\":0,\"ticks\":\"\"}}}],\"scatter3d\":[{\"type\":\"scatter3d\",\"line\":{\"colorbar\":{\"outlinewidth\":0,\"ticks\":\"\"}},\"marker\":{\"colorbar\":{\"outlinewidth\":0,\"ticks\":\"\"}}}],\"scattermapbox\":[{\"type\":\"scattermapbox\",\"marker\":{\"colorbar\":{\"outlinewidth\":0,\"ticks\":\"\"}}}],\"scatterternary\":[{\"type\":\"scatterternary\",\"marker\":{\"colorbar\":{\"outlinewidth\":0,\"ticks\":\"\"}}}],\"scattercarpet\":[{\"type\":\"scattercarpet\",\"marker\":{\"colorbar\":{\"outlinewidth\":0,\"ticks\":\"\"}}}],\"carpet\":[{\"aaxis\":{\"endlinecolor\":\"#2a3f5f\",\"gridcolor\":\"white\",\"linecolor\":\"white\",\"minorgridcolor\":\"white\",\"startlinecolor\":\"#2a3f5f\"},\"baxis\":{\"endlinecolor\":\"#2a3f5f\",\"gridcolor\":\"white\",\"linecolor\":\"white\",\"minorgridcolor\":\"white\",\"startlinecolor\":\"#2a3f5f\"},\"type\":\"carpet\"}],\"table\":[{\"cells\":{\"fill\":{\"color\":\"#EBF0F8\"},\"line\":{\"color\":\"white\"}},\"header\":{\"fill\":{\"color\":\"#C8D4E3\"},\"line\":{\"color\":\"white\"}},\"type\":\"table\"}],\"barpolar\":[{\"marker\":{\"line\":{\"color\":\"#E5ECF6\",\"width\":0.5},\"pattern\":{\"fillmode\":\"overlay\",\"size\":10,\"solidity\":0.2}},\"type\":\"barpolar\"}],\"pie\":[{\"automargin\":true,\"type\":\"pie\"}]},\"layout\":{\"autotypenumbers\":\"strict\",\"colorway\":[\"#636efa\",\"#EF553B\",\"#00cc96\",\"#ab63fa\",\"#FFA15A\",\"#19d3f3\",\"#FF6692\",\"#B6E880\",\"#FF97FF\",\"#FECB52\"],\"font\":{\"color\":\"#2a3f5f\"},\"hovermode\":\"closest\",\"hoverlabel\":{\"align\":\"left\"},\"paper_bgcolor\":\"white\",\"plot_bgcolor\":\"#E5ECF6\",\"polar\":{\"bgcolor\":\"#E5ECF6\",\"angularaxis\":{\"gridcolor\":\"white\",\"linecolor\":\"white\",\"ticks\":\"\"},\"radialaxis\":{\"gridcolor\":\"white\",\"linecolor\":\"white\",\"ticks\":\"\"}},\"ternary\":{\"bgcolor\":\"#E5ECF6\",\"aaxis\":{\"gridcolor\":\"white\",\"linecolor\":\"white\",\"ticks\":\"\"},\"baxis\":{\"gridcolor\":\"white\",\"linecolor\":\"white\",\"ticks\":\"\"},\"caxis\":{\"gridcolor\":\"white\",\"linecolor\":\"white\",\"ticks\":\"\"}},\"coloraxis\":{\"colorbar\":{\"outlinewidth\":0,\"ticks\":\"\"}},\"colorscale\":{\"sequential\":[[0.0,\"#0d0887\"],[0.1111111111111111,\"#46039f\"],[0.2222222222222222,\"#7201a8\"],[0.3333333333333333,\"#9c179e\"],[0.4444444444444444,\"#bd3786\"],[0.5555555555555556,\"#d8576b\"],[0.6666666666666666,\"#ed7953\"],[0.7777777777777778,\"#fb9f3a\"],[0.8888888888888888,\"#fdca26\"],[1.0,\"#f0f921\"]],\"sequentialminus\":[[0.0,\"#0d0887\"],[0.1111111111111111,\"#46039f\"],[0.2222222222222222,\"#7201a8\"],[0.3333333333333333,\"#9c179e\"],[0.4444444444444444,\"#bd3786\"],[0.5555555555555556,\"#d8576b\"],[0.6666666666666666,\"#ed7953\"],[0.7777777777777778,\"#fb9f3a\"],[0.8888888888888888,\"#fdca26\"],[1.0,\"#f0f921\"]],\"diverging\":[[0,\"#8e0152\"],[0.1,\"#c51b7d\"],[0.2,\"#de77ae\"],[0.3,\"#f1b6da\"],[0.4,\"#fde0ef\"],[0.5,\"#f7f7f7\"],[0.6,\"#e6f5d0\"],[0.7,\"#b8e186\"],[0.8,\"#7fbc41\"],[0.9,\"#4d9221\"],[1,\"#276419\"]]},\"xaxis\":{\"gridcolor\":\"white\",\"linecolor\":\"white\",\"ticks\":\"\",\"title\":{\"standoff\":15},\"zerolinecolor\":\"white\",\"automargin\":true,\"zerolinewidth\":2},\"yaxis\":{\"gridcolor\":\"white\",\"linecolor\":\"white\",\"ticks\":\"\",\"title\":{\"standoff\":15},\"zerolinecolor\":\"white\",\"automargin\":true,\"zerolinewidth\":2},\"scene\":{\"xaxis\":{\"backgroundcolor\":\"#E5ECF6\",\"gridcolor\":\"white\",\"linecolor\":\"white\",\"showbackground\":true,\"ticks\":\"\",\"zerolinecolor\":\"white\",\"gridwidth\":2},\"yaxis\":{\"backgroundcolor\":\"#E5ECF6\",\"gridcolor\":\"white\",\"linecolor\":\"white\",\"showbackground\":true,\"ticks\":\"\",\"zerolinecolor\":\"white\",\"gridwidth\":2},\"zaxis\":{\"backgroundcolor\":\"#E5ECF6\",\"gridcolor\":\"white\",\"linecolor\":\"white\",\"showbackground\":true,\"ticks\":\"\",\"zerolinecolor\":\"white\",\"gridwidth\":2}},\"shapedefaults\":{\"line\":{\"color\":\"#2a3f5f\"}},\"annotationdefaults\":{\"arrowcolor\":\"#2a3f5f\",\"arrowhead\":0,\"arrowwidth\":1},\"geo\":{\"bgcolor\":\"white\",\"landcolor\":\"#E5ECF6\",\"subunitcolor\":\"white\",\"showland\":true,\"showlakes\":true,\"lakecolor\":\"white\"},\"title\":{\"x\":0.05},\"mapbox\":{\"style\":\"light\"}}},\"title\":{\"text\":\"🔗 Provider ↔ Receiver Network (Interactive)\"},\"showlegend\":false},                        {\"responsive\": true}                    ).then(function(){\n",
              "                            \n",
              "var gd = document.getElementById('8a7c12a3-21fd-4371-b28b-e7fed2d838e9');\n",
              "var x = new MutationObserver(function (mutations, observer) {{\n",
              "        var display = window.getComputedStyle(gd).display;\n",
              "        if (!display || display === 'none') {{\n",
              "            console.log([gd, 'removed!']);\n",
              "            Plotly.purge(gd);\n",
              "            observer.disconnect();\n",
              "        }}\n",
              "}});\n",
              "\n",
              "// Listen for the removal of the full notebook cells\n",
              "var notebookContainer = gd.closest('#notebook-container');\n",
              "if (notebookContainer) {{\n",
              "    x.observe(notebookContainer, {childList: true});\n",
              "}}\n",
              "\n",
              "// Listen for the clearing of the current output cell\n",
              "var outputEl = gd.closest('.output');\n",
              "if (outputEl) {{\n",
              "    x.observe(outputEl, {childList: true});\n",
              "}}\n",
              "\n",
              "                        })                };                            </script>        </div>\n",
              "</body>\n",
              "</html>"
            ]
          },
          "metadata": {}
        }
      ]
    },
    {
      "cell_type": "markdown",
      "source": [
        "**1️⃣ Why did you pick the specific chart?**\n",
        "\n",
        "👉 A network chart is chosen because it helps visualize the relationships and connections between providers and receivers, showing how food flows across the system.\n",
        "\n",
        "**2️⃣ Insights from the chart:**\n",
        "\n",
        "- 🏢 Providers and 🎯 Receivers are represented as nodes connected by lines.\n",
        "\n",
        "- 🌐 Dense clusters suggest strong interaction networks where certain providers serve many receivers.\n",
        "\n",
        "- 🔀 Some providers are highly connected hubs, while others have fewer links.\n",
        "\n",
        "- 📉 Overlap in the visualization indicates a large, interconnected ecosystem.\n",
        "\n",
        "**3️⃣ Business Impact:**\n",
        "- ✅ Positive: Highlights key providers/receivers with the most connections, useful for strengthening partnerships.\n",
        "- ⚠️ Negative: Over-reliance on central hubs means if a key provider/receiver drops out, the network efficiency could collapse."
      ],
      "metadata": {
        "id": "pgoFxmUX67Tg"
      }
    },
    {
      "cell_type": "markdown",
      "source": [
        "### 5. Domain-Specific Analysis"
      ],
      "metadata": {
        "id": "R-7rzlbhqPct"
      }
    },
    {
      "cell_type": "markdown",
      "source": [
        "#### 1. Bar Plot : Expiry Risk"
      ],
      "metadata": {
        "id": "mIVoHYf-qVeU"
      }
    },
    {
      "cell_type": "code",
      "source": [
        "# ⚠ Expiry Risk\n",
        "df = pd.read_sql(\"\"\"\n",
        "SELECT food_id, food_name, expiry_date\n",
        "FROM food_listings\n",
        "WHERE DATE(expiry_date) <= DATE('now', '+2 day')\n",
        "\"\"\", engine)"
      ],
      "metadata": {
        "id": "s_TN-4Q7qYR_"
      },
      "execution_count": null,
      "outputs": []
    },
    {
      "cell_type": "code",
      "source": [
        "fig = px.bar(df, x=\"food_name\", y=\"food_id\", color=\"expiry_date\",\n",
        "             title=\"⚠ Items Close to Expiry\")\n",
        "fig.show()"
      ],
      "metadata": {
        "colab": {
          "base_uri": "https://localhost:8080/",
          "height": 542
        },
        "id": "MBLGn7gOqabe",
        "outputId": "0e3584f9-ff48-4fcc-8920-c38a06fcc687"
      },
      "execution_count": null,
      "outputs": [
        {
          "output_type": "display_data",
          "data": {
            "text/html": [
              "<html>\n",
              "<head><meta charset=\"utf-8\" /></head>\n",
              "<body>\n",
              "    <div>            <script src=\"https://cdnjs.cloudflare.com/ajax/libs/mathjax/2.7.5/MathJax.js?config=TeX-AMS-MML_SVG\"></script><script type=\"text/javascript\">if (window.MathJax && window.MathJax.Hub && window.MathJax.Hub.Config) {window.MathJax.Hub.Config({SVG: {font: \"STIX-Web\"}});}</script>                <script type=\"text/javascript\">window.PlotlyConfig = {MathJaxConfig: 'local'};</script>\n",
              "        <script charset=\"utf-8\" src=\"https://cdn.plot.ly/plotly-2.35.2.min.js\"></script>                <div id=\"c2796646-4031-40a3-8420-a26be336a05b\" class=\"plotly-graph-div\" style=\"height:525px; width:100%;\"></div>            <script type=\"text/javascript\">                                    window.PLOTLYENV=window.PLOTLYENV || {};                                    if (document.getElementById(\"c2796646-4031-40a3-8420-a26be336a05b\")) {                    Plotly.newPlot(                        \"c2796646-4031-40a3-8420-a26be336a05b\",                        [{\"alignmentgroup\":\"True\",\"hovertemplate\":\"expiry_date=2025-03-17\\u003cbr\\u003efood_name=%{x}\\u003cbr\\u003efood_id=%{y}\\u003cextra\\u003e\\u003c\\u002fextra\\u003e\",\"legendgroup\":\"2025-03-17\",\"marker\":{\"color\":\"#636efa\",\"pattern\":{\"shape\":\"\"}},\"name\":\"2025-03-17\",\"offsetgroup\":\"2025-03-17\",\"orientation\":\"v\",\"showlegend\":true,\"textposition\":\"auto\",\"x\":[\"Bread\",\"Pasta\",\"Pasta\",\"Salad\",\"Fish\",\"Soup\",\"Vegetables\",\"Chicken\",\"Salad\",\"Soup\",\"Rice\",\"Bread\",\"Soup\",\"Fruits\",\"Pasta\",\"Vegetables\",\"Vegetables\",\"Bread\",\"Pasta\",\"Rice\",\"Salad\",\"Vegetables\",\"Chicken\",\"Soup\",\"Pasta\",\"Rice\",\"Dairy\",\"Dairy\",\"Pasta\",\"Dairy\",\"Dairy\",\"Dairy\",\"Soup\",\"Salad\",\"Soup\",\"Dairy\",\"Vegetables\",\"Dairy\",\"Salad\",\"Fruits\",\"Salad\",\"Fish\",\"Vegetables\",\"Vegetables\",\"Pasta\",\"Fruits\",\"Salad\",\"Vegetables\",\"Bread\",\"Dairy\",\"Pasta\",\"Fish\",\"Soup\",\"Soup\",\"Fish\",\"Pasta\",\"Dairy\",\"Chicken\",\"Chicken\",\"Bread\",\"Fruits\",\"Bread\",\"Fruits\",\"Chicken\",\"Pasta\",\"Fish\",\"Bread\",\"Dairy\",\"Vegetables\",\"Rice\",\"Chicken\"],\"xaxis\":\"x\",\"y\":[1,11,20,47,49,54,55,57,110,111,125,136,166,170,186,192,199,223,239,271,287,289,292,295,300,329,396,421,429,432,449,460,463,470,478,509,521,529,531,533,537,566,612,627,640,646,660,674,692,700,711,744,752,755,763,775,780,792,799,814,816,826,833,839,857,860,874,881,944,968,974],\"yaxis\":\"y\",\"type\":\"bar\"},{\"alignmentgroup\":\"True\",\"hovertemplate\":\"expiry_date=2025-03-24\\u003cbr\\u003efood_name=%{x}\\u003cbr\\u003efood_id=%{y}\\u003cextra\\u003e\\u003c\\u002fextra\\u003e\",\"legendgroup\":\"2025-03-24\",\"marker\":{\"color\":\"#EF553B\",\"pattern\":{\"shape\":\"\"}},\"name\":\"2025-03-24\",\"offsetgroup\":\"2025-03-24\",\"orientation\":\"v\",\"showlegend\":true,\"textposition\":\"auto\",\"x\":[\"Soup\",\"Vegetables\",\"Fish\",\"Rice\",\"Dairy\",\"Bread\",\"Pasta\",\"Rice\",\"Fruits\",\"Fish\",\"Fish\",\"Rice\",\"Bread\",\"Pasta\",\"Fish\",\"Pasta\",\"Fish\",\"Fruits\",\"Dairy\",\"Rice\",\"Dairy\",\"Bread\",\"Fish\",\"Soup\",\"Rice\",\"Soup\",\"Vegetables\",\"Fruits\",\"Chicken\",\"Pasta\",\"Chicken\",\"Rice\",\"Soup\",\"Chicken\",\"Salad\",\"Chicken\",\"Bread\",\"Pasta\",\"Salad\",\"Bread\",\"Chicken\",\"Salad\",\"Pasta\",\"Salad\",\"Pasta\",\"Salad\",\"Dairy\",\"Rice\",\"Rice\",\"Fish\",\"Dairy\",\"Salad\",\"Salad\",\"Bread\",\"Pasta\",\"Bread\",\"Chicken\",\"Rice\",\"Fruits\",\"Fruits\",\"Salad\",\"Soup\",\"Fruits\",\"Dairy\",\"Chicken\",\"Chicken\",\"Fish\",\"Fruits\",\"Chicken\",\"Vegetables\",\"Soup\",\"Fruits\",\"Fruits\",\"Dairy\",\"Rice\",\"Soup\"],\"xaxis\":\"x\",\"y\":[2,6,45,67,72,75,95,105,109,143,152,197,200,203,218,220,225,243,251,254,255,264,275,278,301,324,337,340,347,354,366,387,408,409,413,425,446,480,490,494,501,514,546,553,565,576,579,580,600,622,663,670,671,672,678,679,693,696,736,738,740,748,753,761,766,776,787,793,821,828,837,843,923,965,986,988],\"yaxis\":\"y\",\"type\":\"bar\"},{\"alignmentgroup\":\"True\",\"hovertemplate\":\"expiry_date=2025-03-28\\u003cbr\\u003efood_name=%{x}\\u003cbr\\u003efood_id=%{y}\\u003cextra\\u003e\\u003c\\u002fextra\\u003e\",\"legendgroup\":\"2025-03-28\",\"marker\":{\"color\":\"#00cc96\",\"pattern\":{\"shape\":\"\"}},\"name\":\"2025-03-28\",\"offsetgroup\":\"2025-03-28\",\"orientation\":\"v\",\"showlegend\":true,\"textposition\":\"auto\",\"x\":[\"Fruits\",\"Rice\",\"Pasta\",\"Pasta\",\"Pasta\",\"Pasta\",\"Rice\",\"Salad\",\"Bread\",\"Dairy\",\"Bread\",\"Fish\",\"Bread\",\"Rice\",\"Salad\",\"Fish\",\"Fruits\",\"Soup\",\"Soup\",\"Salad\",\"Salad\",\"Rice\",\"Soup\",\"Salad\",\"Chicken\",\"Vegetables\",\"Vegetables\",\"Bread\",\"Vegetables\",\"Bread\",\"Chicken\",\"Dairy\",\"Dairy\",\"Fruits\",\"Pasta\",\"Chicken\",\"Salad\",\"Fish\",\"Bread\",\"Fruits\",\"Fruits\",\"Chicken\",\"Rice\",\"Vegetables\",\"Salad\",\"Rice\",\"Salad\",\"Rice\",\"Vegetables\",\"Dairy\",\"Chicken\",\"Soup\",\"Soup\",\"Rice\",\"Rice\",\"Bread\",\"Soup\",\"Chicken\",\"Chicken\",\"Salad\",\"Fish\",\"Dairy\",\"Soup\",\"Pasta\",\"Soup\",\"Soup\"],\"xaxis\":\"x\",\"y\":[3,8,12,46,58,60,83,87,99,118,119,150,165,172,180,196,210,214,232,246,249,256,269,316,346,352,375,393,395,403,412,430,467,476,492,496,510,564,567,590,591,594,603,608,633,657,686,691,718,728,739,765,768,782,817,819,864,884,890,893,909,912,917,952,962,993],\"yaxis\":\"y\",\"type\":\"bar\"},{\"alignmentgroup\":\"True\",\"hovertemplate\":\"expiry_date=2025-03-16\\u003cbr\\u003efood_name=%{x}\\u003cbr\\u003efood_id=%{y}\\u003cextra\\u003e\\u003c\\u002fextra\\u003e\",\"legendgroup\":\"2025-03-16\",\"marker\":{\"color\":\"#ab63fa\",\"pattern\":{\"shape\":\"\"}},\"name\":\"2025-03-16\",\"offsetgroup\":\"2025-03-16\",\"orientation\":\"v\",\"showlegend\":true,\"textposition\":\"auto\",\"x\":[\"Fruits\",\"Soup\",\"Rice\",\"Rice\",\"Fruits\",\"Bread\",\"Rice\",\"Pasta\",\"Pasta\",\"Rice\",\"Soup\",\"Rice\",\"Chicken\",\"Bread\",\"Rice\",\"Vegetables\",\"Fruits\",\"Rice\",\"Chicken\",\"Bread\",\"Salad\",\"Dairy\",\"Salad\",\"Fruits\",\"Fruits\",\"Dairy\",\"Chicken\",\"Fruits\",\"Rice\",\"Soup\",\"Vegetables\",\"Salad\",\"Fish\",\"Fish\",\"Bread\",\"Soup\",\"Pasta\",\"Dairy\",\"Fruits\",\"Salad\",\"Salad\",\"Fish\",\"Fish\",\"Dairy\",\"Bread\",\"Bread\",\"Fish\",\"Salad\",\"Dairy\",\"Chicken\",\"Soup\",\"Chicken\",\"Rice\",\"Rice\",\"Fish\",\"Vegetables\",\"Fish\",\"Fruits\",\"Fruits\",\"Pasta\",\"Bread\"],\"xaxis\":\"x\",\"y\":[4,30,42,48,53,69,70,76,85,94,113,134,140,163,181,216,230,234,245,250,273,361,368,369,370,428,437,439,498,525,570,614,624,628,634,650,651,677,690,699,717,737,741,774,785,810,832,836,840,871,889,907,916,926,941,951,963,967,973,979,985],\"yaxis\":\"y\",\"type\":\"bar\"},{\"alignmentgroup\":\"True\",\"hovertemplate\":\"expiry_date=2025-03-19\\u003cbr\\u003efood_name=%{x}\\u003cbr\\u003efood_id=%{y}\\u003cextra\\u003e\\u003c\\u002fextra\\u003e\",\"legendgroup\":\"2025-03-19\",\"marker\":{\"color\":\"#FFA15A\",\"pattern\":{\"shape\":\"\"}},\"name\":\"2025-03-19\",\"offsetgroup\":\"2025-03-19\",\"orientation\":\"v\",\"showlegend\":true,\"textposition\":\"auto\",\"x\":[\"Soup\",\"Bread\",\"Fish\",\"Soup\",\"Rice\",\"Rice\",\"Rice\",\"Rice\",\"Salad\",\"Soup\",\"Rice\",\"Pasta\",\"Fish\",\"Soup\",\"Bread\",\"Fruits\",\"Chicken\",\"Rice\",\"Rice\",\"Dairy\",\"Salad\",\"Bread\",\"Dairy\",\"Pasta\",\"Fish\",\"Chicken\",\"Rice\",\"Bread\",\"Chicken\",\"Soup\",\"Vegetables\",\"Soup\",\"Salad\",\"Soup\",\"Rice\",\"Vegetables\",\"Pasta\",\"Rice\",\"Dairy\",\"Fish\",\"Dairy\",\"Rice\",\"Fish\",\"Pasta\",\"Salad\",\"Salad\",\"Soup\",\"Fish\",\"Dairy\",\"Bread\",\"Vegetables\",\"Dairy\",\"Salad\",\"Bread\",\"Salad\",\"Dairy\",\"Bread\",\"Salad\",\"Soup\",\"Bread\",\"Bread\",\"Fish\",\"Vegetables\",\"Vegetables\",\"Soup\",\"Bread\",\"Vegetables\",\"Salad\"],\"xaxis\":\"x\",\"y\":[5,29,71,73,77,79,102,106,124,132,133,137,156,173,221,224,252,253,285,290,291,294,296,297,304,328,330,334,338,378,383,392,410,417,419,456,461,465,481,488,502,536,548,563,595,701,730,735,747,756,764,795,807,812,846,862,892,910,920,943,947,975,976,977,982,989,991,1000],\"yaxis\":\"y\",\"type\":\"bar\"},{\"alignmentgroup\":\"True\",\"hovertemplate\":\"expiry_date=2025-03-25\\u003cbr\\u003efood_name=%{x}\\u003cbr\\u003efood_id=%{y}\\u003cextra\\u003e\\u003c\\u002fextra\\u003e\",\"legendgroup\":\"2025-03-25\",\"marker\":{\"color\":\"#19d3f3\",\"pattern\":{\"shape\":\"\"}},\"name\":\"2025-03-25\",\"offsetgroup\":\"2025-03-25\",\"orientation\":\"v\",\"showlegend\":true,\"textposition\":\"auto\",\"x\":[\"Dairy\",\"Bread\",\"Rice\",\"Dairy\",\"Salad\",\"Fruits\",\"Chicken\",\"Soup\",\"Chicken\",\"Vegetables\",\"Chicken\",\"Vegetables\",\"Chicken\",\"Fruits\",\"Pasta\",\"Chicken\",\"Bread\",\"Pasta\",\"Vegetables\",\"Pasta\",\"Pasta\",\"Soup\",\"Bread\",\"Soup\",\"Chicken\",\"Fish\",\"Fruits\",\"Fish\",\"Fish\",\"Chicken\",\"Bread\",\"Fruits\",\"Fish\",\"Soup\",\"Bread\",\"Bread\",\"Pasta\",\"Bread\",\"Pasta\",\"Pasta\",\"Bread\",\"Chicken\",\"Chicken\",\"Dairy\",\"Salad\",\"Vegetables\",\"Chicken\",\"Dairy\",\"Salad\",\"Chicken\",\"Soup\",\"Salad\",\"Pasta\",\"Bread\",\"Vegetables\",\"Rice\",\"Soup\",\"Rice\",\"Dairy\",\"Pasta\"],\"xaxis\":\"x\",\"y\":[7,9,68,96,107,108,112,123,146,195,257,272,279,282,318,325,351,372,376,377,385,388,391,457,486,489,491,520,569,602,630,632,636,653,656,661,682,702,714,723,750,751,769,822,825,830,841,848,855,879,880,888,894,905,935,954,961,964,966,990],\"yaxis\":\"y\",\"type\":\"bar\"},{\"alignmentgroup\":\"True\",\"hovertemplate\":\"expiry_date=2025-03-20\\u003cbr\\u003efood_name=%{x}\\u003cbr\\u003efood_id=%{y}\\u003cextra\\u003e\\u003c\\u002fextra\\u003e\",\"legendgroup\":\"2025-03-20\",\"marker\":{\"color\":\"#FF6692\",\"pattern\":{\"shape\":\"\"}},\"name\":\"2025-03-20\",\"offsetgroup\":\"2025-03-20\",\"orientation\":\"v\",\"showlegend\":true,\"textposition\":\"auto\",\"x\":[\"Rice\",\"Rice\",\"Fish\",\"Salad\",\"Chicken\",\"Salad\",\"Fruits\",\"Rice\",\"Fish\",\"Fruits\",\"Chicken\",\"Vegetables\",\"Fish\",\"Salad\",\"Fruits\",\"Soup\",\"Salad\",\"Dairy\",\"Salad\",\"Vegetables\",\"Chicken\",\"Rice\",\"Vegetables\",\"Salad\",\"Rice\",\"Pasta\",\"Fish\",\"Salad\",\"Dairy\",\"Bread\",\"Chicken\",\"Soup\",\"Pasta\",\"Dairy\",\"Fish\",\"Salad\",\"Bread\",\"Soup\",\"Dairy\",\"Chicken\",\"Pasta\",\"Salad\",\"Soup\",\"Rice\",\"Dairy\",\"Vegetables\",\"Bread\",\"Fish\",\"Chicken\",\"Bread\",\"Salad\",\"Bread\",\"Salad\",\"Rice\",\"Chicken\",\"Pasta\",\"Fish\",\"Rice\",\"Dairy\",\"Bread\",\"Vegetables\",\"Fruits\",\"Fish\",\"Fish\",\"Salad\",\"Chicken\",\"Bread\",\"Chicken\",\"Fish\",\"Bread\",\"Pasta\",\"Soup\",\"Fruits\"],\"xaxis\":\"x\",\"y\":[10,36,37,63,92,93,122,139,149,155,157,161,167,168,169,188,189,205,212,222,307,310,320,333,335,345,356,382,398,405,407,422,431,438,464,472,532,554,555,558,561,581,582,589,597,607,613,616,620,629,639,664,668,673,709,719,773,783,800,845,852,863,865,869,876,877,886,897,924,928,949,958,970],\"yaxis\":\"y\",\"type\":\"bar\"},{\"alignmentgroup\":\"True\",\"hovertemplate\":\"expiry_date=2025-03-22\\u003cbr\\u003efood_name=%{x}\\u003cbr\\u003efood_id=%{y}\\u003cextra\\u003e\\u003c\\u002fextra\\u003e\",\"legendgroup\":\"2025-03-22\",\"marker\":{\"color\":\"#B6E880\",\"pattern\":{\"shape\":\"\"}},\"name\":\"2025-03-22\",\"offsetgroup\":\"2025-03-22\",\"orientation\":\"v\",\"showlegend\":true,\"textposition\":\"auto\",\"x\":[\"Fruits\",\"Salad\",\"Chicken\",\"Rice\",\"Chicken\",\"Bread\",\"Bread\",\"Bread\",\"Pasta\",\"Bread\",\"Vegetables\",\"Fruits\",\"Fish\",\"Vegetables\",\"Rice\",\"Salad\",\"Chicken\",\"Dairy\",\"Salad\",\"Salad\",\"Chicken\",\"Rice\",\"Pasta\",\"Pasta\",\"Bread\",\"Chicken\",\"Salad\",\"Dairy\",\"Fish\",\"Pasta\",\"Fish\",\"Soup\",\"Salad\",\"Salad\",\"Bread\",\"Chicken\",\"Pasta\",\"Rice\",\"Rice\",\"Bread\",\"Pasta\",\"Pasta\",\"Fruits\",\"Rice\",\"Salad\",\"Vegetables\",\"Soup\",\"Salad\",\"Bread\",\"Pasta\",\"Rice\",\"Salad\",\"Bread\",\"Rice\",\"Dairy\",\"Soup\",\"Rice\",\"Chicken\",\"Vegetables\",\"Soup\",\"Soup\",\"Chicken\",\"Pasta\",\"Pasta\",\"Fish\",\"Fruits\",\"Soup\",\"Rice\",\"Chicken\",\"Fruits\",\"Vegetables\",\"Soup\",\"Vegetables\",\"Fish\",\"Fruits\",\"Fruits\"],\"xaxis\":\"x\",\"y\":[13,15,17,25,28,31,38,39,43,44,59,61,66,91,128,171,174,177,190,191,211,226,229,277,288,298,306,327,331,355,364,380,386,406,426,443,454,459,474,484,495,505,518,522,523,539,540,559,572,606,625,688,694,698,706,707,708,710,721,726,802,805,815,831,854,858,868,885,904,913,915,922,938,957,983,998],\"yaxis\":\"y\",\"type\":\"bar\"},{\"alignmentgroup\":\"True\",\"hovertemplate\":\"expiry_date=2025-03-30\\u003cbr\\u003efood_name=%{x}\\u003cbr\\u003efood_id=%{y}\\u003cextra\\u003e\\u003c\\u002fextra\\u003e\",\"legendgroup\":\"2025-03-30\",\"marker\":{\"color\":\"#FF97FF\",\"pattern\":{\"shape\":\"\"}},\"name\":\"2025-03-30\",\"offsetgroup\":\"2025-03-30\",\"orientation\":\"v\",\"showlegend\":true,\"textposition\":\"auto\",\"x\":[\"Bread\",\"Rice\",\"Bread\",\"Bread\",\"Soup\",\"Bread\",\"Vegetables\",\"Rice\",\"Vegetables\",\"Pasta\",\"Bread\",\"Dairy\",\"Fish\",\"Salad\",\"Bread\",\"Fish\",\"Dairy\",\"Salad\",\"Soup\",\"Dairy\",\"Soup\",\"Chicken\",\"Vegetables\",\"Soup\",\"Vegetables\",\"Fish\",\"Chicken\",\"Rice\",\"Vegetables\",\"Pasta\",\"Chicken\",\"Fish\",\"Pasta\",\"Rice\",\"Rice\",\"Vegetables\",\"Soup\",\"Vegetables\",\"Dairy\",\"Fish\",\"Salad\",\"Fruits\",\"Pasta\",\"Vegetables\",\"Pasta\",\"Chicken\",\"Bread\",\"Dairy\",\"Soup\",\"Fruits\",\"Soup\",\"Rice\",\"Fruits\",\"Dairy\",\"Bread\",\"Dairy\",\"Dairy\",\"Rice\",\"Fish\",\"Fish\",\"Fish\",\"Salad\",\"Rice\",\"Soup\",\"Dairy\",\"Chicken\",\"Rice\",\"Chicken\",\"Fish\",\"Pasta\"],\"xaxis\":\"x\",\"y\":[14,19,24,34,86,103,121,127,147,154,158,175,176,183,215,247,262,263,267,283,305,319,341,411,418,423,435,466,469,471,473,493,500,504,526,534,544,557,562,573,584,599,610,611,631,637,641,649,662,705,725,729,731,742,746,754,770,786,788,798,870,902,903,906,933,936,942,956,996,999],\"yaxis\":\"y\",\"type\":\"bar\"},{\"alignmentgroup\":\"True\",\"hovertemplate\":\"expiry_date=2025-03-26\\u003cbr\\u003efood_name=%{x}\\u003cbr\\u003efood_id=%{y}\\u003cextra\\u003e\\u003c\\u002fextra\\u003e\",\"legendgroup\":\"2025-03-26\",\"marker\":{\"color\":\"#FECB52\",\"pattern\":{\"shape\":\"\"}},\"name\":\"2025-03-26\",\"offsetgroup\":\"2025-03-26\",\"orientation\":\"v\",\"showlegend\":true,\"textposition\":\"auto\",\"x\":[\"Dairy\",\"Rice\",\"Salad\",\"Soup\",\"Fruits\",\"Pasta\",\"Chicken\",\"Fish\",\"Rice\",\"Fish\",\"Fruits\",\"Fish\",\"Fruits\",\"Soup\",\"Fruits\",\"Pasta\",\"Fruits\",\"Fruits\",\"Chicken\",\"Fish\",\"Soup\",\"Soup\",\"Pasta\",\"Soup\",\"Pasta\",\"Chicken\",\"Dairy\",\"Pasta\",\"Bread\",\"Fruits\",\"Chicken\",\"Rice\",\"Pasta\",\"Bread\",\"Vegetables\",\"Soup\",\"Fish\",\"Soup\",\"Pasta\",\"Rice\",\"Dairy\",\"Bread\",\"Chicken\",\"Dairy\",\"Pasta\",\"Dairy\",\"Vegetables\",\"Soup\",\"Chicken\",\"Salad\",\"Fruits\",\"Bread\",\"Vegetables\",\"Soup\",\"Salad\"],\"xaxis\":\"x\",\"y\":[16,21,23,64,65,115,194,204,208,209,213,233,240,244,265,286,312,313,322,384,416,420,436,447,475,507,517,519,542,543,551,585,635,654,658,675,713,722,733,758,760,784,789,850,859,861,901,919,921,925,927,929,946,955,992],\"yaxis\":\"y\",\"type\":\"bar\"},{\"alignmentgroup\":\"True\",\"hovertemplate\":\"expiry_date=2025-03-27\\u003cbr\\u003efood_name=%{x}\\u003cbr\\u003efood_id=%{y}\\u003cextra\\u003e\\u003c\\u002fextra\\u003e\",\"legendgroup\":\"2025-03-27\",\"marker\":{\"color\":\"#636efa\",\"pattern\":{\"shape\":\"\"}},\"name\":\"2025-03-27\",\"offsetgroup\":\"2025-03-27\",\"orientation\":\"v\",\"showlegend\":true,\"textposition\":\"auto\",\"x\":[\"Soup\",\"Vegetables\",\"Salad\",\"Fruits\",\"Chicken\",\"Dairy\",\"Chicken\",\"Vegetables\",\"Pasta\",\"Dairy\",\"Bread\",\"Soup\",\"Salad\",\"Vegetables\",\"Rice\",\"Pasta\",\"Vegetables\",\"Rice\",\"Chicken\",\"Dairy\",\"Vegetables\",\"Bread\",\"Fish\",\"Chicken\",\"Fruits\",\"Soup\",\"Pasta\",\"Dairy\",\"Pasta\",\"Fruits\",\"Salad\",\"Dairy\",\"Salad\",\"Chicken\",\"Dairy\",\"Chicken\",\"Soup\",\"Dairy\",\"Rice\",\"Vegetables\",\"Pasta\",\"Salad\",\"Salad\",\"Vegetables\",\"Bread\",\"Chicken\",\"Dairy\",\"Vegetables\",\"Salad\",\"Salad\",\"Bread\",\"Fruits\",\"Pasta\",\"Dairy\",\"Chicken\",\"Fruits\",\"Soup\",\"Salad\",\"Fruits\",\"Bread\",\"Rice\",\"Fish\",\"Rice\",\"Chicken\",\"Bread\",\"Fish\",\"Pasta\",\"Fish\",\"Dairy\",\"Chicken\"],\"xaxis\":\"x\",\"y\":[18,26,33,40,41,51,89,114,159,164,179,185,237,238,259,280,284,293,309,323,342,343,348,362,365,390,424,444,455,468,482,497,511,512,515,528,530,588,598,601,604,655,659,669,681,704,720,734,749,767,779,794,796,797,803,804,806,811,820,824,853,898,908,914,937,940,950,960,978,980],\"yaxis\":\"y\",\"type\":\"bar\"},{\"alignmentgroup\":\"True\",\"hovertemplate\":\"expiry_date=2025-03-21\\u003cbr\\u003efood_name=%{x}\\u003cbr\\u003efood_id=%{y}\\u003cextra\\u003e\\u003c\\u002fextra\\u003e\",\"legendgroup\":\"2025-03-21\",\"marker\":{\"color\":\"#EF553B\",\"pattern\":{\"shape\":\"\"}},\"name\":\"2025-03-21\",\"offsetgroup\":\"2025-03-21\",\"orientation\":\"v\",\"showlegend\":true,\"textposition\":\"auto\",\"x\":[\"Chicken\",\"Rice\",\"Rice\",\"Vegetables\",\"Rice\",\"Soup\",\"Chicken\",\"Fish\",\"Pasta\",\"Dairy\",\"Dairy\",\"Pasta\",\"Dairy\",\"Soup\",\"Soup\",\"Vegetables\",\"Fish\",\"Pasta\",\"Dairy\",\"Dairy\",\"Rice\",\"Pasta\",\"Fruits\",\"Bread\",\"Rice\",\"Chicken\",\"Fruits\",\"Salad\",\"Vegetables\",\"Pasta\",\"Fish\",\"Dairy\",\"Fish\",\"Fruits\",\"Soup\",\"Rice\",\"Soup\",\"Vegetables\",\"Soup\",\"Pasta\",\"Chicken\",\"Dairy\",\"Dairy\",\"Dairy\",\"Chicken\",\"Chicken\",\"Bread\",\"Pasta\",\"Pasta\",\"Soup\",\"Soup\",\"Fish\",\"Vegetables\",\"Soup\"],\"xaxis\":\"x\",\"y\":[22,32,62,88,97,117,129,153,162,178,187,193,235,236,242,248,258,261,299,317,332,350,358,371,373,374,394,397,414,440,453,552,556,587,621,638,645,666,667,689,697,716,757,778,790,823,842,847,849,867,887,911,945,969],\"yaxis\":\"y\",\"type\":\"bar\"},{\"alignmentgroup\":\"True\",\"hovertemplate\":\"expiry_date=2025-03-23\\u003cbr\\u003efood_name=%{x}\\u003cbr\\u003efood_id=%{y}\\u003cextra\\u003e\\u003c\\u002fextra\\u003e\",\"legendgroup\":\"2025-03-23\",\"marker\":{\"color\":\"#00cc96\",\"pattern\":{\"shape\":\"\"}},\"name\":\"2025-03-23\",\"offsetgroup\":\"2025-03-23\",\"orientation\":\"v\",\"showlegend\":true,\"textposition\":\"auto\",\"x\":[\"Salad\",\"Rice\",\"Salad\",\"Vegetables\",\"Chicken\",\"Vegetables\",\"Rice\",\"Bread\",\"Dairy\",\"Soup\",\"Rice\",\"Chicken\",\"Rice\",\"Bread\",\"Salad\",\"Soup\",\"Fish\",\"Soup\",\"Rice\",\"Bread\",\"Fish\",\"Dairy\",\"Vegetables\",\"Chicken\",\"Bread\",\"Bread\",\"Vegetables\",\"Vegetables\",\"Vegetables\",\"Bread\",\"Vegetables\",\"Dairy\",\"Soup\",\"Salad\",\"Fish\",\"Dairy\",\"Chicken\",\"Rice\",\"Vegetables\",\"Rice\",\"Soup\",\"Vegetables\",\"Bread\",\"Salad\",\"Salad\",\"Rice\",\"Fruits\",\"Soup\",\"Dairy\",\"Fruits\",\"Soup\",\"Soup\",\"Chicken\",\"Salad\",\"Bread\",\"Dairy\",\"Fish\",\"Salad\",\"Rice\",\"Salad\",\"Bread\",\"Vegetables\",\"Vegetables\",\"Chicken\",\"Rice\"],\"xaxis\":\"x\",\"y\":[27,35,50,56,78,82,84,90,101,116,135,151,160,198,207,217,241,266,281,302,314,336,344,357,359,363,415,434,448,450,452,458,462,499,516,527,547,549,583,592,593,605,609,615,643,648,652,676,680,695,715,762,771,772,781,808,813,827,856,882,883,931,972,984,995],\"yaxis\":\"y\",\"type\":\"bar\"},{\"alignmentgroup\":\"True\",\"hovertemplate\":\"expiry_date=2025-03-29\\u003cbr\\u003efood_name=%{x}\\u003cbr\\u003efood_id=%{y}\\u003cextra\\u003e\\u003c\\u002fextra\\u003e\",\"legendgroup\":\"2025-03-29\",\"marker\":{\"color\":\"#ab63fa\",\"pattern\":{\"shape\":\"\"}},\"name\":\"2025-03-29\",\"offsetgroup\":\"2025-03-29\",\"orientation\":\"v\",\"showlegend\":true,\"textposition\":\"auto\",\"x\":[\"Vegetables\",\"Chicken\",\"Dairy\",\"Salad\",\"Dairy\",\"Vegetables\",\"Dairy\",\"Soup\",\"Rice\",\"Salad\",\"Soup\",\"Rice\",\"Vegetables\",\"Rice\",\"Rice\",\"Fruits\",\"Fish\",\"Pasta\",\"Salad\",\"Fruits\",\"Soup\",\"Soup\",\"Pasta\",\"Fruits\",\"Vegetables\",\"Chicken\",\"Rice\",\"Fish\",\"Vegetables\",\"Rice\",\"Fruits\",\"Fish\",\"Dairy\",\"Vegetables\",\"Pasta\",\"Rice\",\"Fruits\",\"Vegetables\",\"Bread\",\"Salad\",\"Fish\",\"Pasta\",\"Salad\",\"Salad\",\"Chicken\",\"Rice\",\"Pasta\",\"Salad\",\"Chicken\",\"Soup\",\"Dairy\",\"Fish\",\"Vegetables\",\"Bread\",\"Fish\",\"Fish\",\"Vegetables\",\"Rice\",\"Bread\",\"Rice\",\"Pasta\",\"Pasta\",\"Dairy\",\"Dairy\",\"Salad\",\"Fruits\",\"Soup\",\"Dairy\",\"Salad\"],\"xaxis\":\"x\",\"y\":[52,74,80,98,104,130,141,142,145,184,201,206,227,228,231,260,268,270,274,276,308,326,339,353,367,399,400,402,483,503,506,535,538,541,545,550,568,574,577,578,596,619,623,626,642,684,687,703,743,791,809,818,835,838,844,866,872,873,875,878,895,899,900,918,934,948,953,987,994],\"yaxis\":\"y\",\"type\":\"bar\"},{\"alignmentgroup\":\"True\",\"hovertemplate\":\"expiry_date=2025-03-18\\u003cbr\\u003efood_name=%{x}\\u003cbr\\u003efood_id=%{y}\\u003cextra\\u003e\\u003c\\u002fextra\\u003e\",\"legendgroup\":\"2025-03-18\",\"marker\":{\"color\":\"#FFA15A\",\"pattern\":{\"shape\":\"\"}},\"name\":\"2025-03-18\",\"offsetgroup\":\"2025-03-18\",\"orientation\":\"v\",\"showlegend\":true,\"textposition\":\"auto\",\"x\":[\"Fruits\",\"Vegetables\",\"Rice\",\"Dairy\",\"Fish\",\"Soup\",\"Bread\",\"Pasta\",\"Soup\",\"Dairy\",\"Fish\",\"Fish\",\"Fish\",\"Salad\",\"Pasta\",\"Vegetables\",\"Chicken\",\"Rice\",\"Pasta\",\"Vegetables\",\"Soup\",\"Salad\",\"Soup\",\"Dairy\",\"Fruits\",\"Fish\",\"Pasta\",\"Fish\",\"Dairy\",\"Salad\",\"Salad\",\"Fruits\",\"Dairy\",\"Fruits\",\"Soup\",\"Fruits\",\"Salad\",\"Pasta\",\"Vegetables\",\"Soup\",\"Soup\",\"Bread\",\"Rice\",\"Pasta\",\"Soup\",\"Rice\",\"Pasta\",\"Dairy\",\"Chicken\",\"Soup\",\"Fruits\",\"Chicken\",\"Fruits\",\"Chicken\",\"Dairy\",\"Pasta\",\"Fruits\",\"Chicken\",\"Vegetables\",\"Chicken\",\"Pasta\",\"Rice\",\"Pasta\",\"Fish\",\"Dairy\",\"Fish\"],\"xaxis\":\"x\",\"y\":[81,100,120,126,131,138,144,148,182,202,219,303,311,315,321,349,360,379,381,389,401,404,427,433,441,442,445,451,477,479,485,487,508,513,524,560,571,575,586,617,618,644,647,665,683,685,712,724,727,732,745,759,777,801,829,834,851,891,896,930,932,939,959,971,981,997],\"yaxis\":\"y\",\"type\":\"bar\"}],                        {\"template\":{\"data\":{\"histogram2dcontour\":[{\"type\":\"histogram2dcontour\",\"colorbar\":{\"outlinewidth\":0,\"ticks\":\"\"},\"colorscale\":[[0.0,\"#0d0887\"],[0.1111111111111111,\"#46039f\"],[0.2222222222222222,\"#7201a8\"],[0.3333333333333333,\"#9c179e\"],[0.4444444444444444,\"#bd3786\"],[0.5555555555555556,\"#d8576b\"],[0.6666666666666666,\"#ed7953\"],[0.7777777777777778,\"#fb9f3a\"],[0.8888888888888888,\"#fdca26\"],[1.0,\"#f0f921\"]]}],\"choropleth\":[{\"type\":\"choropleth\",\"colorbar\":{\"outlinewidth\":0,\"ticks\":\"\"}}],\"histogram2d\":[{\"type\":\"histogram2d\",\"colorbar\":{\"outlinewidth\":0,\"ticks\":\"\"},\"colorscale\":[[0.0,\"#0d0887\"],[0.1111111111111111,\"#46039f\"],[0.2222222222222222,\"#7201a8\"],[0.3333333333333333,\"#9c179e\"],[0.4444444444444444,\"#bd3786\"],[0.5555555555555556,\"#d8576b\"],[0.6666666666666666,\"#ed7953\"],[0.7777777777777778,\"#fb9f3a\"],[0.8888888888888888,\"#fdca26\"],[1.0,\"#f0f921\"]]}],\"heatmap\":[{\"type\":\"heatmap\",\"colorbar\":{\"outlinewidth\":0,\"ticks\":\"\"},\"colorscale\":[[0.0,\"#0d0887\"],[0.1111111111111111,\"#46039f\"],[0.2222222222222222,\"#7201a8\"],[0.3333333333333333,\"#9c179e\"],[0.4444444444444444,\"#bd3786\"],[0.5555555555555556,\"#d8576b\"],[0.6666666666666666,\"#ed7953\"],[0.7777777777777778,\"#fb9f3a\"],[0.8888888888888888,\"#fdca26\"],[1.0,\"#f0f921\"]]}],\"heatmapgl\":[{\"type\":\"heatmapgl\",\"colorbar\":{\"outlinewidth\":0,\"ticks\":\"\"},\"colorscale\":[[0.0,\"#0d0887\"],[0.1111111111111111,\"#46039f\"],[0.2222222222222222,\"#7201a8\"],[0.3333333333333333,\"#9c179e\"],[0.4444444444444444,\"#bd3786\"],[0.5555555555555556,\"#d8576b\"],[0.6666666666666666,\"#ed7953\"],[0.7777777777777778,\"#fb9f3a\"],[0.8888888888888888,\"#fdca26\"],[1.0,\"#f0f921\"]]}],\"contourcarpet\":[{\"type\":\"contourcarpet\",\"colorbar\":{\"outlinewidth\":0,\"ticks\":\"\"}}],\"contour\":[{\"type\":\"contour\",\"colorbar\":{\"outlinewidth\":0,\"ticks\":\"\"},\"colorscale\":[[0.0,\"#0d0887\"],[0.1111111111111111,\"#46039f\"],[0.2222222222222222,\"#7201a8\"],[0.3333333333333333,\"#9c179e\"],[0.4444444444444444,\"#bd3786\"],[0.5555555555555556,\"#d8576b\"],[0.6666666666666666,\"#ed7953\"],[0.7777777777777778,\"#fb9f3a\"],[0.8888888888888888,\"#fdca26\"],[1.0,\"#f0f921\"]]}],\"surface\":[{\"type\":\"surface\",\"colorbar\":{\"outlinewidth\":0,\"ticks\":\"\"},\"colorscale\":[[0.0,\"#0d0887\"],[0.1111111111111111,\"#46039f\"],[0.2222222222222222,\"#7201a8\"],[0.3333333333333333,\"#9c179e\"],[0.4444444444444444,\"#bd3786\"],[0.5555555555555556,\"#d8576b\"],[0.6666666666666666,\"#ed7953\"],[0.7777777777777778,\"#fb9f3a\"],[0.8888888888888888,\"#fdca26\"],[1.0,\"#f0f921\"]]}],\"mesh3d\":[{\"type\":\"mesh3d\",\"colorbar\":{\"outlinewidth\":0,\"ticks\":\"\"}}],\"scatter\":[{\"fillpattern\":{\"fillmode\":\"overlay\",\"size\":10,\"solidity\":0.2},\"type\":\"scatter\"}],\"parcoords\":[{\"type\":\"parcoords\",\"line\":{\"colorbar\":{\"outlinewidth\":0,\"ticks\":\"\"}}}],\"scatterpolargl\":[{\"type\":\"scatterpolargl\",\"marker\":{\"colorbar\":{\"outlinewidth\":0,\"ticks\":\"\"}}}],\"bar\":[{\"error_x\":{\"color\":\"#2a3f5f\"},\"error_y\":{\"color\":\"#2a3f5f\"},\"marker\":{\"line\":{\"color\":\"#E5ECF6\",\"width\":0.5},\"pattern\":{\"fillmode\":\"overlay\",\"size\":10,\"solidity\":0.2}},\"type\":\"bar\"}],\"scattergeo\":[{\"type\":\"scattergeo\",\"marker\":{\"colorbar\":{\"outlinewidth\":0,\"ticks\":\"\"}}}],\"scatterpolar\":[{\"type\":\"scatterpolar\",\"marker\":{\"colorbar\":{\"outlinewidth\":0,\"ticks\":\"\"}}}],\"histogram\":[{\"marker\":{\"pattern\":{\"fillmode\":\"overlay\",\"size\":10,\"solidity\":0.2}},\"type\":\"histogram\"}],\"scattergl\":[{\"type\":\"scattergl\",\"marker\":{\"colorbar\":{\"outlinewidth\":0,\"ticks\":\"\"}}}],\"scatter3d\":[{\"type\":\"scatter3d\",\"line\":{\"colorbar\":{\"outlinewidth\":0,\"ticks\":\"\"}},\"marker\":{\"colorbar\":{\"outlinewidth\":0,\"ticks\":\"\"}}}],\"scattermapbox\":[{\"type\":\"scattermapbox\",\"marker\":{\"colorbar\":{\"outlinewidth\":0,\"ticks\":\"\"}}}],\"scatterternary\":[{\"type\":\"scatterternary\",\"marker\":{\"colorbar\":{\"outlinewidth\":0,\"ticks\":\"\"}}}],\"scattercarpet\":[{\"type\":\"scattercarpet\",\"marker\":{\"colorbar\":{\"outlinewidth\":0,\"ticks\":\"\"}}}],\"carpet\":[{\"aaxis\":{\"endlinecolor\":\"#2a3f5f\",\"gridcolor\":\"white\",\"linecolor\":\"white\",\"minorgridcolor\":\"white\",\"startlinecolor\":\"#2a3f5f\"},\"baxis\":{\"endlinecolor\":\"#2a3f5f\",\"gridcolor\":\"white\",\"linecolor\":\"white\",\"minorgridcolor\":\"white\",\"startlinecolor\":\"#2a3f5f\"},\"type\":\"carpet\"}],\"table\":[{\"cells\":{\"fill\":{\"color\":\"#EBF0F8\"},\"line\":{\"color\":\"white\"}},\"header\":{\"fill\":{\"color\":\"#C8D4E3\"},\"line\":{\"color\":\"white\"}},\"type\":\"table\"}],\"barpolar\":[{\"marker\":{\"line\":{\"color\":\"#E5ECF6\",\"width\":0.5},\"pattern\":{\"fillmode\":\"overlay\",\"size\":10,\"solidity\":0.2}},\"type\":\"barpolar\"}],\"pie\":[{\"automargin\":true,\"type\":\"pie\"}]},\"layout\":{\"autotypenumbers\":\"strict\",\"colorway\":[\"#636efa\",\"#EF553B\",\"#00cc96\",\"#ab63fa\",\"#FFA15A\",\"#19d3f3\",\"#FF6692\",\"#B6E880\",\"#FF97FF\",\"#FECB52\"],\"font\":{\"color\":\"#2a3f5f\"},\"hovermode\":\"closest\",\"hoverlabel\":{\"align\":\"left\"},\"paper_bgcolor\":\"white\",\"plot_bgcolor\":\"#E5ECF6\",\"polar\":{\"bgcolor\":\"#E5ECF6\",\"angularaxis\":{\"gridcolor\":\"white\",\"linecolor\":\"white\",\"ticks\":\"\"},\"radialaxis\":{\"gridcolor\":\"white\",\"linecolor\":\"white\",\"ticks\":\"\"}},\"ternary\":{\"bgcolor\":\"#E5ECF6\",\"aaxis\":{\"gridcolor\":\"white\",\"linecolor\":\"white\",\"ticks\":\"\"},\"baxis\":{\"gridcolor\":\"white\",\"linecolor\":\"white\",\"ticks\":\"\"},\"caxis\":{\"gridcolor\":\"white\",\"linecolor\":\"white\",\"ticks\":\"\"}},\"coloraxis\":{\"colorbar\":{\"outlinewidth\":0,\"ticks\":\"\"}},\"colorscale\":{\"sequential\":[[0.0,\"#0d0887\"],[0.1111111111111111,\"#46039f\"],[0.2222222222222222,\"#7201a8\"],[0.3333333333333333,\"#9c179e\"],[0.4444444444444444,\"#bd3786\"],[0.5555555555555556,\"#d8576b\"],[0.6666666666666666,\"#ed7953\"],[0.7777777777777778,\"#fb9f3a\"],[0.8888888888888888,\"#fdca26\"],[1.0,\"#f0f921\"]],\"sequentialminus\":[[0.0,\"#0d0887\"],[0.1111111111111111,\"#46039f\"],[0.2222222222222222,\"#7201a8\"],[0.3333333333333333,\"#9c179e\"],[0.4444444444444444,\"#bd3786\"],[0.5555555555555556,\"#d8576b\"],[0.6666666666666666,\"#ed7953\"],[0.7777777777777778,\"#fb9f3a\"],[0.8888888888888888,\"#fdca26\"],[1.0,\"#f0f921\"]],\"diverging\":[[0,\"#8e0152\"],[0.1,\"#c51b7d\"],[0.2,\"#de77ae\"],[0.3,\"#f1b6da\"],[0.4,\"#fde0ef\"],[0.5,\"#f7f7f7\"],[0.6,\"#e6f5d0\"],[0.7,\"#b8e186\"],[0.8,\"#7fbc41\"],[0.9,\"#4d9221\"],[1,\"#276419\"]]},\"xaxis\":{\"gridcolor\":\"white\",\"linecolor\":\"white\",\"ticks\":\"\",\"title\":{\"standoff\":15},\"zerolinecolor\":\"white\",\"automargin\":true,\"zerolinewidth\":2},\"yaxis\":{\"gridcolor\":\"white\",\"linecolor\":\"white\",\"ticks\":\"\",\"title\":{\"standoff\":15},\"zerolinecolor\":\"white\",\"automargin\":true,\"zerolinewidth\":2},\"scene\":{\"xaxis\":{\"backgroundcolor\":\"#E5ECF6\",\"gridcolor\":\"white\",\"linecolor\":\"white\",\"showbackground\":true,\"ticks\":\"\",\"zerolinecolor\":\"white\",\"gridwidth\":2},\"yaxis\":{\"backgroundcolor\":\"#E5ECF6\",\"gridcolor\":\"white\",\"linecolor\":\"white\",\"showbackground\":true,\"ticks\":\"\",\"zerolinecolor\":\"white\",\"gridwidth\":2},\"zaxis\":{\"backgroundcolor\":\"#E5ECF6\",\"gridcolor\":\"white\",\"linecolor\":\"white\",\"showbackground\":true,\"ticks\":\"\",\"zerolinecolor\":\"white\",\"gridwidth\":2}},\"shapedefaults\":{\"line\":{\"color\":\"#2a3f5f\"}},\"annotationdefaults\":{\"arrowcolor\":\"#2a3f5f\",\"arrowhead\":0,\"arrowwidth\":1},\"geo\":{\"bgcolor\":\"white\",\"landcolor\":\"#E5ECF6\",\"subunitcolor\":\"white\",\"showland\":true,\"showlakes\":true,\"lakecolor\":\"white\"},\"title\":{\"x\":0.05},\"mapbox\":{\"style\":\"light\"}}},\"xaxis\":{\"anchor\":\"y\",\"domain\":[0.0,1.0],\"title\":{\"text\":\"food_name\"}},\"yaxis\":{\"anchor\":\"x\",\"domain\":[0.0,1.0],\"title\":{\"text\":\"food_id\"}},\"legend\":{\"title\":{\"text\":\"expiry_date\"},\"tracegroupgap\":0},\"title\":{\"text\":\"⚠ Items Close to Expiry\"},\"barmode\":\"relative\"},                        {\"responsive\": true}                    ).then(function(){\n",
              "                            \n",
              "var gd = document.getElementById('c2796646-4031-40a3-8420-a26be336a05b');\n",
              "var x = new MutationObserver(function (mutations, observer) {{\n",
              "        var display = window.getComputedStyle(gd).display;\n",
              "        if (!display || display === 'none') {{\n",
              "            console.log([gd, 'removed!']);\n",
              "            Plotly.purge(gd);\n",
              "            observer.disconnect();\n",
              "        }}\n",
              "}});\n",
              "\n",
              "// Listen for the removal of the full notebook cells\n",
              "var notebookContainer = gd.closest('#notebook-container');\n",
              "if (notebookContainer) {{\n",
              "    x.observe(notebookContainer, {childList: true});\n",
              "}}\n",
              "\n",
              "// Listen for the clearing of the current output cell\n",
              "var outputEl = gd.closest('.output');\n",
              "if (outputEl) {{\n",
              "    x.observe(outputEl, {childList: true});\n",
              "}}\n",
              "\n",
              "                        })                };                            </script>        </div>\n",
              "</body>\n",
              "</html>"
            ]
          },
          "metadata": {}
        }
      ]
    },
    {
      "cell_type": "markdown",
      "source": [
        "**1️⃣ What is the plot?**\n",
        "\n",
        "👉 This is a stacked bar chart showing different food items (Bread, Pasta, Salad, Fish, Soup, Vegetables, Chicken, Rice, Fruits, Dairy) on the x-axis, with expiry dates color-coded. The y-axis counts food items (food_id) nearing expiry.\n",
        "\n",
        "**2️⃣ Why this plot?**\n",
        "\n",
        "📊 The stacked bar chart allows easy comparison of which food categories are at higher risk of wastage and how expiry risk is spread across different upcoming dates. It’s chosen because expiry management is critical in food donation systems.\n",
        "\n",
        "**3️⃣ What the graph tells:**\n",
        "\n",
        "- 🍞 Bread, Pasta, Salad, Soup, and Dairy have the highest items nearing expiry → these categories are highly perishable.\n",
        "\n",
        "- 🐟 Fish and 🥗 Vegetables also show significant counts but slightly lower.\n",
        "\n",
        "- 🍚 Rice and 🍎 Fruits are comparatively stable with fewer expiry concerns.\n",
        "\n",
        "- 📅 Expiry is spread across mid-to-end March 2025, meaning continuous monitoring is needed daily to avoid wastage.\n",
        "\n",
        "- 🛑 Risk: Items like Dairy, Bread, and Salad will require priority redistribution due to short shelf life.\n",
        "\n",
        "- ✅ Positive: Helps clearly identify which food types need urgent action to minimize waste.\n",
        "- ⚠️ Negative: Very high perishable stock (Dairy, Bread, Salad) → if not claimed in time, large losses will occur."
      ],
      "metadata": {
        "id": "U3-vFakg7OUu"
      }
    },
    {
      "cell_type": "markdown",
      "source": [
        "#### 2. Bar Plot : Provider Reliability"
      ],
      "metadata": {
        "id": "dUHGueybqpvT"
      }
    },
    {
      "cell_type": "code",
      "source": [
        "# 📊 Provider Reliability\n",
        "df = pd.read_sql(\"\"\"\n",
        "SELECT provider_name,\n",
        "       SUM(CASE WHEN status='Completed' THEN 1 ELSE 0 END)*100.0/COUNT(*) AS success_rate\n",
        "FROM full_donation_chain\n",
        "GROUP BY provider_name\n",
        "ORDER BY success_rate DESC\n",
        "\"\"\", engine)"
      ],
      "metadata": {
        "id": "Mj8-v6oVqvZf"
      },
      "execution_count": null,
      "outputs": []
    },
    {
      "cell_type": "code",
      "source": [
        "fig = px.bar(df, x=\"provider_name\", y=\"success_rate\", title=\"📊 Provider Reliability\", color=\"success_rate\")\n",
        "fig.show()"
      ],
      "metadata": {
        "colab": {
          "base_uri": "https://localhost:8080/",
          "height": 542
        },
        "id": "ECbJTZ94qyCv",
        "outputId": "1b6763f5-18e0-48e9-d39d-bdc74fa83356"
      },
      "execution_count": null,
      "outputs": [
        {
          "output_type": "display_data",
          "data": {
            "text/html": [
              "<html>\n",
              "<head><meta charset=\"utf-8\" /></head>\n",
              "<body>\n",
              "    <div>            <script src=\"https://cdnjs.cloudflare.com/ajax/libs/mathjax/2.7.5/MathJax.js?config=TeX-AMS-MML_SVG\"></script><script type=\"text/javascript\">if (window.MathJax && window.MathJax.Hub && window.MathJax.Hub.Config) {window.MathJax.Hub.Config({SVG: {font: \"STIX-Web\"}});}</script>                <script type=\"text/javascript\">window.PlotlyConfig = {MathJaxConfig: 'local'};</script>\n",
              "        <script charset=\"utf-8\" src=\"https://cdn.plot.ly/plotly-2.35.2.min.js\"></script>                <div id=\"cff72ba1-8133-45ba-822c-cf6e85f5db59\" class=\"plotly-graph-div\" style=\"height:525px; width:100%;\"></div>            <script type=\"text/javascript\">                                    window.PLOTLYENV=window.PLOTLYENV || {};                                    if (document.getElementById(\"cff72ba1-8133-45ba-822c-cf6e85f5db59\")) {                    Plotly.newPlot(                        \"cff72ba1-8133-45ba-822c-cf6e85f5db59\",                        [{\"alignmentgroup\":\"True\",\"hovertemplate\":\"provider_name=%{x}\\u003cbr\\u003esuccess_rate=%{marker.color}\\u003cextra\\u003e\\u003c\\u002fextra\\u003e\",\"legendgroup\":\"\",\"marker\":{\"color\":[100.0,100.0,100.0,100.0,100.0,100.0,100.0,100.0,100.0,100.0,100.0,100.0,100.0,100.0,100.0,100.0,100.0,100.0,100.0,100.0,100.0,100.0,100.0,100.0,100.0,100.0,100.0,100.0,100.0,100.0,100.0,100.0,100.0,100.0,100.0,100.0,100.0,100.0,100.0,100.0,100.0,100.0,100.0,100.0,100.0,100.0,100.0,100.0,100.0,100.0,100.0,100.0,100.0,100.0,100.0,100.0,100.0,100.0,100.0,100.0,100.0,100.0,100.0,100.0,100.0,100.0,100.0,100.0,100.0,100.0,100.0,100.0,100.0,100.0,100.0,100.0,100.0,100.0,80.0,75.0,71.42857142857143,66.66666666666667,66.66666666666667,66.66666666666667,66.66666666666667,66.66666666666667,66.66666666666667,66.66666666666667,66.66666666666667,66.66666666666667,66.66666666666667,66.66666666666667,66.66666666666667,66.66666666666667,66.66666666666667,66.66666666666667,66.66666666666667,66.66666666666667,66.66666666666667,66.66666666666667,66.66666666666667,66.66666666666667,66.66666666666667,66.66666666666667,66.66666666666667,60.0,60.0,60.0,50.0,50.0,50.0,50.0,50.0,50.0,50.0,50.0,50.0,50.0,50.0,50.0,50.0,50.0,50.0,50.0,50.0,50.0,50.0,50.0,50.0,50.0,50.0,50.0,50.0,50.0,50.0,50.0,50.0,50.0,50.0,50.0,50.0,50.0,50.0,50.0,50.0,50.0,50.0,50.0,50.0,50.0,50.0,50.0,50.0,50.0,50.0,50.0,50.0,50.0,50.0,50.0,50.0,50.0,50.0,50.0,50.0,50.0,50.0,50.0,50.0,50.0,50.0,50.0,50.0,50.0,50.0,50.0,50.0,50.0,50.0,50.0,50.0,40.0,40.0,40.0,40.0,40.0,40.0,33.333333333333336,33.333333333333336,33.333333333333336,33.333333333333336,33.333333333333336,33.333333333333336,33.333333333333336,33.333333333333336,33.333333333333336,33.333333333333336,33.333333333333336,33.333333333333336,33.333333333333336,33.333333333333336,33.333333333333336,33.333333333333336,33.333333333333336,33.333333333333336,33.333333333333336,33.333333333333336,33.333333333333336,33.333333333333336,33.333333333333336,33.333333333333336,33.333333333333336,33.333333333333336,33.333333333333336,33.333333333333336,33.333333333333336,33.333333333333336,33.333333333333336,33.333333333333336,33.333333333333336,33.333333333333336,33.333333333333336,33.333333333333336,33.333333333333336,25.0,25.0,25.0,25.0,25.0,25.0,25.0,25.0,25.0,25.0,25.0,25.0,25.0,25.0,25.0,20.0,20.0,20.0,20.0,20.0,20.0,20.0,16.666666666666668,14.285714285714286,0.0,0.0,0.0,0.0,0.0,0.0,0.0,0.0,0.0,0.0,0.0,0.0,0.0,0.0,0.0,0.0,0.0,0.0,0.0,0.0,0.0,0.0,0.0,0.0,0.0,0.0,0.0,0.0,0.0,0.0,0.0,0.0,0.0,0.0,0.0,0.0,0.0,0.0,0.0,0.0,0.0,0.0,0.0,0.0,0.0,0.0,0.0,0.0,0.0,0.0,0.0,0.0,0.0,0.0,0.0,0.0,0.0,0.0,0.0,0.0,0.0,0.0,0.0,0.0,0.0,0.0,0.0,0.0,0.0,0.0,0.0,0.0,0.0,0.0,0.0,0.0,0.0,0.0,0.0,0.0,0.0,0.0,0.0,0.0,0.0,0.0,0.0,0.0,0.0,0.0,0.0,0.0,0.0,0.0,0.0,0.0,0.0,0.0,0.0,0.0,0.0,0.0,0.0,0.0,0.0,0.0,0.0,0.0,0.0,0.0,0.0,0.0,0.0,0.0,0.0,0.0,0.0,0.0,0.0,0.0,0.0,0.0,0.0,0.0,0.0,0.0,0.0,0.0,0.0,0.0,0.0,0.0,0.0,0.0,0.0,0.0,0.0,0.0,0.0,0.0,0.0,0.0,0.0,0.0,0.0,0.0,0.0,0.0,0.0,0.0,0.0,0.0,0.0,0.0,0.0,0.0,0.0,0.0,0.0,0.0,0.0,0.0,0.0,0.0,0.0,0.0,0.0,0.0,0.0,0.0,0.0,0.0,0.0,0.0,0.0,0.0,0.0,0.0,0.0,0.0,0.0,0.0,0.0,0.0,0.0,0.0,0.0,0.0,0.0,0.0,0.0,0.0,0.0,0.0,0.0,0.0,0.0,0.0,0.0,0.0,0.0,0.0,0.0,0.0,0.0,0.0,0.0,0.0,0.0,0.0,0.0,0.0,0.0,0.0,0.0,0.0,0.0,0.0],\"coloraxis\":\"coloraxis\",\"pattern\":{\"shape\":\"\"}},\"name\":\"\",\"offsetgroup\":\"\",\"orientation\":\"v\",\"showlegend\":false,\"textposition\":\"auto\",\"x\":[\"Yu-Rodriguez\",\"Wong-Wilson\",\"Wolfe, Hull and Richardson\",\"Williams-Boyle\",\"Williams and Sons\",\"Wilkerson and Sons\",\"Webb, Graves and Harrison\",\"Townsend Inc\",\"Thompson-Turner\",\"Steele Ltd\",\"Simmons-Mcdaniel\",\"Simmons Group\",\"Shields-Moore\",\"Scott, Lopez and Baldwin\",\"Schmidt Ltd\",\"Sanchez-Fisher\",\"Rollins-Mclaughlin\",\"Roberson, Marquez and Mcdowell\",\"Raymond, Kelly and Yates\",\"Pugh Group\",\"Pierce Group\",\"Petersen, Morrison and Woods\",\"Payne Inc\",\"Patel Ltd\",\"Owens-Johnson\",\"Osborne LLC\",\"Oconnor Ltd\",\"Nguyen Inc\",\"Myers, Kelley and Riley\",\"Morse-Hoffman\",\"Moore LLC\",\"Mitchell PLC\",\"Miller-Carter\",\"Lyons Inc\",\"Lambert-Wilson\",\"Lambert Ltd\",\"Knox and Sons\",\"King, Schneider and Banks\",\"Jones-Patterson\",\"Jones, Calderon and Finley\",\"Jones PLC\",\"Johnson-Ray\",\"Hudson, Spence and Perez\",\"House-Bates\",\"Hodge, Lee and Washington\",\"Henry-Terry\",\"Hayes Inc\",\"Harris, Mcdonald and Taylor\",\"Hanson, Wilkerson and Lee\",\"Hancock-Jackson\",\"Hall-Barnett\",\"Gutierrez, Anthony and Shannon\",\"Goodwin, Acosta and Chan\",\"Gamble-Davis\",\"Fuller, Vincent and Fernandez\",\"Freeman, Decker and Johnson\",\"Frazier-Sanders\",\"Figueroa-Soto\",\"Espinoza PLC\",\"Douglas-Colon\",\"Davis and Sons\",\"Cooper LLC\",\"Conway-Barr\",\"Chung, Morris and Craig\",\"Chase-Gross\",\"Carroll-Stanley\",\"Carey-Ramos\",\"Butler, Kennedy and Cowan\",\"Burns-Davis\",\"Bruce Inc\",\"Blair LLC\",\"Bates-Johnson\",\"Barry, Powers and White\",\"Baker LLC\",\"Atkins Group\",\"Arroyo-Henderson\",\"Anderson, Robinson and Phillips\",\"Abbott, Brooks and Moreno\",\"Barnes, Castro and Curtis\",\"Beck Inc\",\"Barry Group\",\"Wilson-Brown\",\"Smith-Turner\",\"Smith Inc\",\"Rowe-Arias\",\"Richardson Group\",\"Perry, Perez and Carter\",\"Obrien, King and Robinson\",\"Mitchell, Campbell and Jones\",\"Miller Inc\",\"Koch Inc\",\"Jones, Allison and Ellison\",\"Jenkins-Carpenter\",\"Jackson-Robinson\",\"Jackson Ltd\",\"Jackson LLC\",\"Ibarra LLC\",\"Harrison-Wilson\",\"Harper, Blake and Alexander\",\"Graham-Peters\",\"Flores-Wade\",\"Fernandez-Bridges\",\"Davila, Green and Avila\",\"Carey-Richardson\",\"Barnes and Sons\",\"Moore-Flowers\",\"Campbell LLC\",\"Bradford-Martinez\",\"Young-Luna\",\"Young, Townsend and Mccarthy\",\"Yoder-Murray\",\"Wright LLC\",\"Wilkerson-Woods\",\"Whitney-Fields\",\"Webster and Sons\",\"Warren Group\",\"Warner, White and Morris\",\"Walter, Gonzales and Potter\",\"Torres-Dunlap\",\"Taylor Group\",\"Sutton, Day and Brooks\",\"Smith-Morales\",\"Smith, James and Alvarado\",\"Small Ltd\",\"Shepherd Group\",\"Shaw Group\",\"Schwartz, Holland and Mccarthy\",\"Salazar PLC\",\"Rodriguez, Thomas and Foster\",\"Rodriguez Inc\",\"Rocha, Johnson and Dunlap\",\"Porter Inc\",\"Pollard, Yoder and Martin\",\"Pollard, Collins and Watson\",\"Phillips-Bradley\",\"Peterson, Lee and Moore\",\"Patterson, Harris and Kelly\",\"Parker Group\",\"Ortiz-Lee\",\"Novak Group\",\"Nguyen-Parsons\",\"Newman, Pearson and Mccarthy\",\"Munoz, Stone and Wallace\",\"Moore Group\",\"Mills, Smith and Martin\",\"Mckinney Ltd\",\"Maynard LLC\",\"Lewis, Preston and Price\",\"Jones-Edwards\",\"Jones, Ortega and Rubio\",\"Hunter, Ballard and Caldwell\",\"Hunt-Lee\",\"Hopkins, Mora and Green\",\"Hood, Hoffman and Wright\",\"Holland, Caldwell and Oliver\",\"Hodges and Sons\",\"Hodge-Leblanc\",\"Hicks Ltd\",\"Henderson Group\",\"Hammond LLC\",\"Grant-Davis\",\"Gonzalez Inc\",\"Galvan Ltd\",\"Gallagher-Brown\",\"Frederick LLC\",\"Fisher, Hernandez and Webster\",\"Dyer Group\",\"Davis, Bowen and Miller\",\"Daniels-Kim\",\"Cole LLC\",\"Clark-Estes\",\"Carpenter-Wright\",\"Brown and Sons\",\"Blanchard-Parsons\",\"Black, Montgomery and Hernandez\",\"Berry-Mack\",\"Baker-Mcdonald\",\"Avila Group\",\"Austin, Griffin and Ward\",\"Allen, Zimmerman and Harrington\",\"Alexander PLC\",\"White, Crawford and Pearson\",\"Ramos Group\",\"Jones, Rojas and Brown\",\"Holmes-Schaefer\",\"Hill, Davis and Stewart\",\"Bowman LLC\",\"Wong-Reese\",\"Stanley PLC\",\"Simpson, Mcguire and Brown\",\"Simmons-Davis\",\"Simmons PLC\",\"Sherman-Garza\",\"Rogers-Warren\",\"Rivera Ltd\",\"Phelps, Graham and Hayes\",\"Perez-Williams\",\"Nguyen, Chan and Brown\",\"Nelson LLC\",\"Morales, Wood and Cox\",\"Miller, Johnson and Fernandez\",\"Marshall Ltd\",\"Lewis-Deleon\",\"Kelly-Ware\",\"Jones-Miller\",\"Johnson-Green\",\"Johnson PLC\",\"Hines-Green\",\"Hansen Inc\",\"Hampton-Lee\",\"Gutierrez LLC\",\"Galloway, Hall and Oconnell\",\"Frey PLC\",\"Figueroa Inc\",\"Evans, Wright and Mitchell\",\"Coleman, Williams and Nichols\",\"Clark, Prince and Williams\",\"Chan-Elliott\",\"Chambers-Waters\",\"Butler-Richardson\",\"Blankenship-Lewis\",\"Black, Collins and Richard\",\"Ayala LLC\",\"Anderson, Nicholson and Bruce\",\"Young, Moran and Morris\",\"Wilson, Watkins and Moore\",\"Williams Inc\",\"Webb, Phillips and Garcia\",\"Simpson, Thomas and Smith\",\"Serrano-Lopez\",\"Scott and Sons\",\"Ortega-Webb\",\"Oliver, Ross and Johnson\",\"Obrien-Carr\",\"Kelly, Cummings and Ward\",\"Doyle LLC\",\"Cox LLC\",\"Carey PLC\",\"Caldwell PLC\",\"Spears, Anderson and Huffman\",\"Simmons Ltd\",\"Roy-Hancock\",\"Moody Ltd\",\"Martin, Tyler and Wilkerson\",\"Cooper, Osborn and Clark\",\"Carter-Jones\",\"Phillips, Wolfe and Martin\",\"Allen-Mccullough\",\"Zhang LLC\",\"Wright-Hogan\",\"Woodward-Jensen\",\"Wilson-Cook\",\"Wilson Group\",\"Williams-Strong\",\"Williams-Cox\",\"White, Hutchinson and Williams\",\"West, Martinez and Warren\",\"Wells-Davis\",\"Watson LLC\",\"Ward, Shepherd and Krause\",\"Villegas, Chen and Campos\",\"Villegas Inc\",\"Valencia, Floyd and Jordan\",\"Tran, Douglas and Harvey\",\"Torres Ltd\",\"Todd Group\",\"Thompson-Kerr\",\"Thompson Group\",\"Thomas-Flores\",\"Terry Inc\",\"Taylor-Matthews\",\"Stephens-Stephens\",\"Stephens-Braun\",\"Spencer, Gibson and Arias\",\"Sparks-Berry\",\"Snyder, Caldwell and Campbell\",\"Snyder Ltd\",\"Smith-Thomas\",\"Smith-Paul\",\"Smith PLC\",\"Sherman-Baker\",\"Shepherd and Sons\",\"Scott, Johnson and Villa\",\"Schwartz, Odonnell and Padilla\",\"Schmidt-Alexander\",\"Sanders-Hale\",\"Sanders and Sons\",\"Ruiz-Oneal\",\"Rose-Pearson\",\"Rosario-Porter\",\"Rojas-Cook\",\"Rogers-Shaw\",\"Rogers-Maldonado\",\"Rogers, Harmon and Gordon\",\"Rodriguez and Sons\",\"Robinson, Schaefer and Foster\",\"Robinson, Rodriguez and Reilly\",\"Roberts, Howard and Bender\",\"Roberts Group\",\"Roach-Wheeler\",\"Rios Group\",\"Reyes, Houston and Esparza\",\"Reed LLC\",\"Randolph-Bauer\",\"Randall-Wagner\",\"Ramirez LLC\",\"Preston-Smith\",\"Pratt Ltd\",\"Pierce, Walsh and Rogers\",\"Phillips PLC\",\"Phelps-Schmidt\",\"Phelps-Robbins\",\"Patterson-Collins\",\"Patterson Inc\",\"Patel and Sons\",\"Parsons and Sons\",\"Parsons Ltd\",\"Parker-Campbell\",\"Page, Smith and Davis\",\"Owens-Taylor\",\"Oliver, Cross and Gilbert\",\"Norris-Townsend\",\"Nielsen, Johnson and Fuller\",\"Nichols-Barnes\",\"Nelson-White\",\"Nelson PLC\",\"Murray Inc\",\"Murphy-Boyd\",\"Mullins Ltd\",\"Morrison LLC\",\"Morris, Mcpherson and Edwards\",\"Morris, Mcintyre and Austin\",\"Morris Ltd\",\"Morgan-Blackwell\",\"Moreno-Melton\",\"Moran, Mcmillan and Jones\",\"Moore, Perez and Young\",\"Montgomery, Dominguez and Hopkins\",\"Mitchell-Watson\",\"Miller, Conner and Clark\",\"Miller, Braun and Graham\",\"Miller Ltd\",\"Miller Group\",\"Meyer and Sons\",\"Mendoza LLC\",\"Mcmillan, Gallegos and Perry\",\"Mcdonald-Howell\",\"Martinez PLC\",\"Martin-Wright\",\"Martin, Richardson and Snow\",\"Maldonado-Davis\",\"Love-Montgomery\",\"Lopez, Roach and Roach\",\"Long-Alexander\",\"Livingston Inc\",\"Lewis, Wagner and Solis\",\"Lee, Walker and Woodward\",\"Lee PLC\",\"Lee LLC\",\"Lawrence-Clark\",\"Larson and Sons\",\"Larson Ltd\",\"Kennedy-Johnston\",\"Jordan LLC\",\"Jones-Burnett\",\"Jones Group\",\"Johnson, Harris and White\",\"Johnson Group\",\"Jimenez-Ramirez\",\"Jenkins-Carrillo\",\"James Group\",\"Jackson, Gonzalez and Smith\",\"Ibarra and Sons\",\"Hughes, Fuller and Sanchez\",\"Huber Group\",\"House, James and Miller\",\"Horn-House\",\"Horn, Johnson and Moore\",\"Holland and Sons\",\"Hogan-Oliver\",\"Hogan-Johnston\",\"Hill PLC\",\"Hester, Bowers and Carpenter\",\"Henry PLC\",\"Harris, Santos and Roberts\",\"Harrington, Jimenez and Carr\",\"Greene-Garcia\",\"Green LLC\",\"Gonzalez, Dunn and Oconnell\",\"Gonzales-Keith\",\"Gonzales-Cochran\",\"Gonzales Group\",\"Glover, Wilson and Hudson\",\"Glenn-York\",\"Giles, Weiss and Brown\",\"Gibson and Sons\",\"Garner PLC\",\"Garcia-Hunter\",\"Galloway-Henderson\",\"Freeman, Allen and Castaneda\",\"Foster Ltd\",\"Fisher PLC\",\"Ferguson, Henderson and Watson\",\"Farmer Ltd\",\"Evans-Harrison\",\"Elliott-Stephens\",\"Elliott-Jones\",\"Dunlap Inc\",\"Drake-Martinez\",\"Douglas and Sons\",\"Dixon LLC\",\"Dennis, Parker and Sanchez\",\"Decker Group\",\"Davis-Kennedy\",\"Davis-Hurley\",\"Davis, Vaughan and Shepherd\",\"Davis, Hughes and Leblanc\",\"Davis, Cruz and Schaefer\",\"Daniel, Schroeder and Morse\",\"Cruz-Davis\",\"Cruz, Murphy and Santos\",\"Crosby Group\",\"Crane LLC\",\"Cox-Mcintyre\",\"Cooper, Smith and King\",\"Cook, Jackson and Griffith\",\"Cook Ltd\",\"Cook Group\",\"Cole-Stein\",\"Clark, Evans and Navarro\",\"Chandler-Roberts\",\"Carlson-Mathis\",\"Callahan-Olsen\",\"Butler-Phillips\",\"Butler-Newman\",\"Buck-Carey\",\"Bryant, Jacobson and West\",\"Brown-Stephens\",\"Brown-Grimes\",\"Brown Ltd\",\"Brooks-Mccarty\",\"Brock, Newton and Mccormick\",\"Bray, Nguyen and Christensen\",\"Bowers, Gonzalez and Simmons\",\"Blair Group\",\"Bennett, Phillips and Green\",\"Bender, Jordan and Bennett\",\"Beck Group\",\"Barrera-Ward\",\"Barker, Gibbs and Lopez\",\"Barker LLC\",\"Barber Ltd\",\"Ballard, Stanley and Hill\",\"Ball-Church\",\"Baker, Gardner and Callahan\",\"Baker Group\",\"Baird PLC\",\"Avery PLC\",\"Austin-Yu\",\"Andrews-Wiley\",\"Anderson, Patrick and Scott\",\"Anderson, Adams and Roberts\",\"Alvarado LLC\",\"Allen, Ramsey and Cortez\",\"Alexander-Mendoza\",\"Aguilar-Frederick\"],\"xaxis\":\"x\",\"y\":[100.0,100.0,100.0,100.0,100.0,100.0,100.0,100.0,100.0,100.0,100.0,100.0,100.0,100.0,100.0,100.0,100.0,100.0,100.0,100.0,100.0,100.0,100.0,100.0,100.0,100.0,100.0,100.0,100.0,100.0,100.0,100.0,100.0,100.0,100.0,100.0,100.0,100.0,100.0,100.0,100.0,100.0,100.0,100.0,100.0,100.0,100.0,100.0,100.0,100.0,100.0,100.0,100.0,100.0,100.0,100.0,100.0,100.0,100.0,100.0,100.0,100.0,100.0,100.0,100.0,100.0,100.0,100.0,100.0,100.0,100.0,100.0,100.0,100.0,100.0,100.0,100.0,100.0,80.0,75.0,71.42857142857143,66.66666666666667,66.66666666666667,66.66666666666667,66.66666666666667,66.66666666666667,66.66666666666667,66.66666666666667,66.66666666666667,66.66666666666667,66.66666666666667,66.66666666666667,66.66666666666667,66.66666666666667,66.66666666666667,66.66666666666667,66.66666666666667,66.66666666666667,66.66666666666667,66.66666666666667,66.66666666666667,66.66666666666667,66.66666666666667,66.66666666666667,66.66666666666667,60.0,60.0,60.0,50.0,50.0,50.0,50.0,50.0,50.0,50.0,50.0,50.0,50.0,50.0,50.0,50.0,50.0,50.0,50.0,50.0,50.0,50.0,50.0,50.0,50.0,50.0,50.0,50.0,50.0,50.0,50.0,50.0,50.0,50.0,50.0,50.0,50.0,50.0,50.0,50.0,50.0,50.0,50.0,50.0,50.0,50.0,50.0,50.0,50.0,50.0,50.0,50.0,50.0,50.0,50.0,50.0,50.0,50.0,50.0,50.0,50.0,50.0,50.0,50.0,50.0,50.0,50.0,50.0,50.0,50.0,50.0,50.0,50.0,50.0,50.0,50.0,40.0,40.0,40.0,40.0,40.0,40.0,33.333333333333336,33.333333333333336,33.333333333333336,33.333333333333336,33.333333333333336,33.333333333333336,33.333333333333336,33.333333333333336,33.333333333333336,33.333333333333336,33.333333333333336,33.333333333333336,33.333333333333336,33.333333333333336,33.333333333333336,33.333333333333336,33.333333333333336,33.333333333333336,33.333333333333336,33.333333333333336,33.333333333333336,33.333333333333336,33.333333333333336,33.333333333333336,33.333333333333336,33.333333333333336,33.333333333333336,33.333333333333336,33.333333333333336,33.333333333333336,33.333333333333336,33.333333333333336,33.333333333333336,33.333333333333336,33.333333333333336,33.333333333333336,33.333333333333336,25.0,25.0,25.0,25.0,25.0,25.0,25.0,25.0,25.0,25.0,25.0,25.0,25.0,25.0,25.0,20.0,20.0,20.0,20.0,20.0,20.0,20.0,16.666666666666668,14.285714285714286,0.0,0.0,0.0,0.0,0.0,0.0,0.0,0.0,0.0,0.0,0.0,0.0,0.0,0.0,0.0,0.0,0.0,0.0,0.0,0.0,0.0,0.0,0.0,0.0,0.0,0.0,0.0,0.0,0.0,0.0,0.0,0.0,0.0,0.0,0.0,0.0,0.0,0.0,0.0,0.0,0.0,0.0,0.0,0.0,0.0,0.0,0.0,0.0,0.0,0.0,0.0,0.0,0.0,0.0,0.0,0.0,0.0,0.0,0.0,0.0,0.0,0.0,0.0,0.0,0.0,0.0,0.0,0.0,0.0,0.0,0.0,0.0,0.0,0.0,0.0,0.0,0.0,0.0,0.0,0.0,0.0,0.0,0.0,0.0,0.0,0.0,0.0,0.0,0.0,0.0,0.0,0.0,0.0,0.0,0.0,0.0,0.0,0.0,0.0,0.0,0.0,0.0,0.0,0.0,0.0,0.0,0.0,0.0,0.0,0.0,0.0,0.0,0.0,0.0,0.0,0.0,0.0,0.0,0.0,0.0,0.0,0.0,0.0,0.0,0.0,0.0,0.0,0.0,0.0,0.0,0.0,0.0,0.0,0.0,0.0,0.0,0.0,0.0,0.0,0.0,0.0,0.0,0.0,0.0,0.0,0.0,0.0,0.0,0.0,0.0,0.0,0.0,0.0,0.0,0.0,0.0,0.0,0.0,0.0,0.0,0.0,0.0,0.0,0.0,0.0,0.0,0.0,0.0,0.0,0.0,0.0,0.0,0.0,0.0,0.0,0.0,0.0,0.0,0.0,0.0,0.0,0.0,0.0,0.0,0.0,0.0,0.0,0.0,0.0,0.0,0.0,0.0,0.0,0.0,0.0,0.0,0.0,0.0,0.0,0.0,0.0,0.0,0.0,0.0,0.0,0.0,0.0,0.0,0.0,0.0,0.0,0.0,0.0,0.0,0.0,0.0,0.0,0.0],\"yaxis\":\"y\",\"type\":\"bar\"}],                        {\"template\":{\"data\":{\"histogram2dcontour\":[{\"type\":\"histogram2dcontour\",\"colorbar\":{\"outlinewidth\":0,\"ticks\":\"\"},\"colorscale\":[[0.0,\"#0d0887\"],[0.1111111111111111,\"#46039f\"],[0.2222222222222222,\"#7201a8\"],[0.3333333333333333,\"#9c179e\"],[0.4444444444444444,\"#bd3786\"],[0.5555555555555556,\"#d8576b\"],[0.6666666666666666,\"#ed7953\"],[0.7777777777777778,\"#fb9f3a\"],[0.8888888888888888,\"#fdca26\"],[1.0,\"#f0f921\"]]}],\"choropleth\":[{\"type\":\"choropleth\",\"colorbar\":{\"outlinewidth\":0,\"ticks\":\"\"}}],\"histogram2d\":[{\"type\":\"histogram2d\",\"colorbar\":{\"outlinewidth\":0,\"ticks\":\"\"},\"colorscale\":[[0.0,\"#0d0887\"],[0.1111111111111111,\"#46039f\"],[0.2222222222222222,\"#7201a8\"],[0.3333333333333333,\"#9c179e\"],[0.4444444444444444,\"#bd3786\"],[0.5555555555555556,\"#d8576b\"],[0.6666666666666666,\"#ed7953\"],[0.7777777777777778,\"#fb9f3a\"],[0.8888888888888888,\"#fdca26\"],[1.0,\"#f0f921\"]]}],\"heatmap\":[{\"type\":\"heatmap\",\"colorbar\":{\"outlinewidth\":0,\"ticks\":\"\"},\"colorscale\":[[0.0,\"#0d0887\"],[0.1111111111111111,\"#46039f\"],[0.2222222222222222,\"#7201a8\"],[0.3333333333333333,\"#9c179e\"],[0.4444444444444444,\"#bd3786\"],[0.5555555555555556,\"#d8576b\"],[0.6666666666666666,\"#ed7953\"],[0.7777777777777778,\"#fb9f3a\"],[0.8888888888888888,\"#fdca26\"],[1.0,\"#f0f921\"]]}],\"heatmapgl\":[{\"type\":\"heatmapgl\",\"colorbar\":{\"outlinewidth\":0,\"ticks\":\"\"},\"colorscale\":[[0.0,\"#0d0887\"],[0.1111111111111111,\"#46039f\"],[0.2222222222222222,\"#7201a8\"],[0.3333333333333333,\"#9c179e\"],[0.4444444444444444,\"#bd3786\"],[0.5555555555555556,\"#d8576b\"],[0.6666666666666666,\"#ed7953\"],[0.7777777777777778,\"#fb9f3a\"],[0.8888888888888888,\"#fdca26\"],[1.0,\"#f0f921\"]]}],\"contourcarpet\":[{\"type\":\"contourcarpet\",\"colorbar\":{\"outlinewidth\":0,\"ticks\":\"\"}}],\"contour\":[{\"type\":\"contour\",\"colorbar\":{\"outlinewidth\":0,\"ticks\":\"\"},\"colorscale\":[[0.0,\"#0d0887\"],[0.1111111111111111,\"#46039f\"],[0.2222222222222222,\"#7201a8\"],[0.3333333333333333,\"#9c179e\"],[0.4444444444444444,\"#bd3786\"],[0.5555555555555556,\"#d8576b\"],[0.6666666666666666,\"#ed7953\"],[0.7777777777777778,\"#fb9f3a\"],[0.8888888888888888,\"#fdca26\"],[1.0,\"#f0f921\"]]}],\"surface\":[{\"type\":\"surface\",\"colorbar\":{\"outlinewidth\":0,\"ticks\":\"\"},\"colorscale\":[[0.0,\"#0d0887\"],[0.1111111111111111,\"#46039f\"],[0.2222222222222222,\"#7201a8\"],[0.3333333333333333,\"#9c179e\"],[0.4444444444444444,\"#bd3786\"],[0.5555555555555556,\"#d8576b\"],[0.6666666666666666,\"#ed7953\"],[0.7777777777777778,\"#fb9f3a\"],[0.8888888888888888,\"#fdca26\"],[1.0,\"#f0f921\"]]}],\"mesh3d\":[{\"type\":\"mesh3d\",\"colorbar\":{\"outlinewidth\":0,\"ticks\":\"\"}}],\"scatter\":[{\"fillpattern\":{\"fillmode\":\"overlay\",\"size\":10,\"solidity\":0.2},\"type\":\"scatter\"}],\"parcoords\":[{\"type\":\"parcoords\",\"line\":{\"colorbar\":{\"outlinewidth\":0,\"ticks\":\"\"}}}],\"scatterpolargl\":[{\"type\":\"scatterpolargl\",\"marker\":{\"colorbar\":{\"outlinewidth\":0,\"ticks\":\"\"}}}],\"bar\":[{\"error_x\":{\"color\":\"#2a3f5f\"},\"error_y\":{\"color\":\"#2a3f5f\"},\"marker\":{\"line\":{\"color\":\"#E5ECF6\",\"width\":0.5},\"pattern\":{\"fillmode\":\"overlay\",\"size\":10,\"solidity\":0.2}},\"type\":\"bar\"}],\"scattergeo\":[{\"type\":\"scattergeo\",\"marker\":{\"colorbar\":{\"outlinewidth\":0,\"ticks\":\"\"}}}],\"scatterpolar\":[{\"type\":\"scatterpolar\",\"marker\":{\"colorbar\":{\"outlinewidth\":0,\"ticks\":\"\"}}}],\"histogram\":[{\"marker\":{\"pattern\":{\"fillmode\":\"overlay\",\"size\":10,\"solidity\":0.2}},\"type\":\"histogram\"}],\"scattergl\":[{\"type\":\"scattergl\",\"marker\":{\"colorbar\":{\"outlinewidth\":0,\"ticks\":\"\"}}}],\"scatter3d\":[{\"type\":\"scatter3d\",\"line\":{\"colorbar\":{\"outlinewidth\":0,\"ticks\":\"\"}},\"marker\":{\"colorbar\":{\"outlinewidth\":0,\"ticks\":\"\"}}}],\"scattermapbox\":[{\"type\":\"scattermapbox\",\"marker\":{\"colorbar\":{\"outlinewidth\":0,\"ticks\":\"\"}}}],\"scatterternary\":[{\"type\":\"scatterternary\",\"marker\":{\"colorbar\":{\"outlinewidth\":0,\"ticks\":\"\"}}}],\"scattercarpet\":[{\"type\":\"scattercarpet\",\"marker\":{\"colorbar\":{\"outlinewidth\":0,\"ticks\":\"\"}}}],\"carpet\":[{\"aaxis\":{\"endlinecolor\":\"#2a3f5f\",\"gridcolor\":\"white\",\"linecolor\":\"white\",\"minorgridcolor\":\"white\",\"startlinecolor\":\"#2a3f5f\"},\"baxis\":{\"endlinecolor\":\"#2a3f5f\",\"gridcolor\":\"white\",\"linecolor\":\"white\",\"minorgridcolor\":\"white\",\"startlinecolor\":\"#2a3f5f\"},\"type\":\"carpet\"}],\"table\":[{\"cells\":{\"fill\":{\"color\":\"#EBF0F8\"},\"line\":{\"color\":\"white\"}},\"header\":{\"fill\":{\"color\":\"#C8D4E3\"},\"line\":{\"color\":\"white\"}},\"type\":\"table\"}],\"barpolar\":[{\"marker\":{\"line\":{\"color\":\"#E5ECF6\",\"width\":0.5},\"pattern\":{\"fillmode\":\"overlay\",\"size\":10,\"solidity\":0.2}},\"type\":\"barpolar\"}],\"pie\":[{\"automargin\":true,\"type\":\"pie\"}]},\"layout\":{\"autotypenumbers\":\"strict\",\"colorway\":[\"#636efa\",\"#EF553B\",\"#00cc96\",\"#ab63fa\",\"#FFA15A\",\"#19d3f3\",\"#FF6692\",\"#B6E880\",\"#FF97FF\",\"#FECB52\"],\"font\":{\"color\":\"#2a3f5f\"},\"hovermode\":\"closest\",\"hoverlabel\":{\"align\":\"left\"},\"paper_bgcolor\":\"white\",\"plot_bgcolor\":\"#E5ECF6\",\"polar\":{\"bgcolor\":\"#E5ECF6\",\"angularaxis\":{\"gridcolor\":\"white\",\"linecolor\":\"white\",\"ticks\":\"\"},\"radialaxis\":{\"gridcolor\":\"white\",\"linecolor\":\"white\",\"ticks\":\"\"}},\"ternary\":{\"bgcolor\":\"#E5ECF6\",\"aaxis\":{\"gridcolor\":\"white\",\"linecolor\":\"white\",\"ticks\":\"\"},\"baxis\":{\"gridcolor\":\"white\",\"linecolor\":\"white\",\"ticks\":\"\"},\"caxis\":{\"gridcolor\":\"white\",\"linecolor\":\"white\",\"ticks\":\"\"}},\"coloraxis\":{\"colorbar\":{\"outlinewidth\":0,\"ticks\":\"\"}},\"colorscale\":{\"sequential\":[[0.0,\"#0d0887\"],[0.1111111111111111,\"#46039f\"],[0.2222222222222222,\"#7201a8\"],[0.3333333333333333,\"#9c179e\"],[0.4444444444444444,\"#bd3786\"],[0.5555555555555556,\"#d8576b\"],[0.6666666666666666,\"#ed7953\"],[0.7777777777777778,\"#fb9f3a\"],[0.8888888888888888,\"#fdca26\"],[1.0,\"#f0f921\"]],\"sequentialminus\":[[0.0,\"#0d0887\"],[0.1111111111111111,\"#46039f\"],[0.2222222222222222,\"#7201a8\"],[0.3333333333333333,\"#9c179e\"],[0.4444444444444444,\"#bd3786\"],[0.5555555555555556,\"#d8576b\"],[0.6666666666666666,\"#ed7953\"],[0.7777777777777778,\"#fb9f3a\"],[0.8888888888888888,\"#fdca26\"],[1.0,\"#f0f921\"]],\"diverging\":[[0,\"#8e0152\"],[0.1,\"#c51b7d\"],[0.2,\"#de77ae\"],[0.3,\"#f1b6da\"],[0.4,\"#fde0ef\"],[0.5,\"#f7f7f7\"],[0.6,\"#e6f5d0\"],[0.7,\"#b8e186\"],[0.8,\"#7fbc41\"],[0.9,\"#4d9221\"],[1,\"#276419\"]]},\"xaxis\":{\"gridcolor\":\"white\",\"linecolor\":\"white\",\"ticks\":\"\",\"title\":{\"standoff\":15},\"zerolinecolor\":\"white\",\"automargin\":true,\"zerolinewidth\":2},\"yaxis\":{\"gridcolor\":\"white\",\"linecolor\":\"white\",\"ticks\":\"\",\"title\":{\"standoff\":15},\"zerolinecolor\":\"white\",\"automargin\":true,\"zerolinewidth\":2},\"scene\":{\"xaxis\":{\"backgroundcolor\":\"#E5ECF6\",\"gridcolor\":\"white\",\"linecolor\":\"white\",\"showbackground\":true,\"ticks\":\"\",\"zerolinecolor\":\"white\",\"gridwidth\":2},\"yaxis\":{\"backgroundcolor\":\"#E5ECF6\",\"gridcolor\":\"white\",\"linecolor\":\"white\",\"showbackground\":true,\"ticks\":\"\",\"zerolinecolor\":\"white\",\"gridwidth\":2},\"zaxis\":{\"backgroundcolor\":\"#E5ECF6\",\"gridcolor\":\"white\",\"linecolor\":\"white\",\"showbackground\":true,\"ticks\":\"\",\"zerolinecolor\":\"white\",\"gridwidth\":2}},\"shapedefaults\":{\"line\":{\"color\":\"#2a3f5f\"}},\"annotationdefaults\":{\"arrowcolor\":\"#2a3f5f\",\"arrowhead\":0,\"arrowwidth\":1},\"geo\":{\"bgcolor\":\"white\",\"landcolor\":\"#E5ECF6\",\"subunitcolor\":\"white\",\"showland\":true,\"showlakes\":true,\"lakecolor\":\"white\"},\"title\":{\"x\":0.05},\"mapbox\":{\"style\":\"light\"}}},\"xaxis\":{\"anchor\":\"y\",\"domain\":[0.0,1.0],\"title\":{\"text\":\"provider_name\"}},\"yaxis\":{\"anchor\":\"x\",\"domain\":[0.0,1.0],\"title\":{\"text\":\"success_rate\"}},\"coloraxis\":{\"colorbar\":{\"title\":{\"text\":\"success_rate\"}},\"colorscale\":[[0.0,\"#0d0887\"],[0.1111111111111111,\"#46039f\"],[0.2222222222222222,\"#7201a8\"],[0.3333333333333333,\"#9c179e\"],[0.4444444444444444,\"#bd3786\"],[0.5555555555555556,\"#d8576b\"],[0.6666666666666666,\"#ed7953\"],[0.7777777777777778,\"#fb9f3a\"],[0.8888888888888888,\"#fdca26\"],[1.0,\"#f0f921\"]]},\"legend\":{\"tracegroupgap\":0},\"title\":{\"text\":\"📊 Provider Reliability\"},\"barmode\":\"relative\"},                        {\"responsive\": true}                    ).then(function(){\n",
              "                            \n",
              "var gd = document.getElementById('cff72ba1-8133-45ba-822c-cf6e85f5db59');\n",
              "var x = new MutationObserver(function (mutations, observer) {{\n",
              "        var display = window.getComputedStyle(gd).display;\n",
              "        if (!display || display === 'none') {{\n",
              "            console.log([gd, 'removed!']);\n",
              "            Plotly.purge(gd);\n",
              "            observer.disconnect();\n",
              "        }}\n",
              "}});\n",
              "\n",
              "// Listen for the removal of the full notebook cells\n",
              "var notebookContainer = gd.closest('#notebook-container');\n",
              "if (notebookContainer) {{\n",
              "    x.observe(notebookContainer, {childList: true});\n",
              "}}\n",
              "\n",
              "// Listen for the clearing of the current output cell\n",
              "var outputEl = gd.closest('.output');\n",
              "if (outputEl) {{\n",
              "    x.observe(outputEl, {childList: true});\n",
              "}}\n",
              "\n",
              "                        })                };                            </script>        </div>\n",
              "</body>\n",
              "</html>"
            ]
          },
          "metadata": {}
        }
      ]
    },
    {
      "cell_type": "markdown",
      "source": [
        "**1️⃣ What is the plot?**\n",
        "\n",
        "👉 This is a bar chart showing each provider’s reliability based on their success rate (%) of fulfilling claims. Bars are color-coded (yellow = high reliability, purple = low reliability).\n",
        "\n",
        "**2️⃣ Why this plot?**\n",
        "\n",
        "📊 Reliability is critical for trust in the food redistribution system. A bar chart allows us to easily spot which providers are most dependable and which ones frequently fail to deliver.\n",
        "\n",
        "**3️⃣ What the graph tells :**\n",
        "\n",
        "- 🌟 Many providers (left side, yellow bars) maintain a 100% success rate, meaning they are highly dependable partners.\n",
        "\n",
        "- ⚠️ A second group of providers (orange/pink zone) shows medium reliability (50–80%), meaning they sometimes fail to deliver.\n",
        "\n",
        "- ❌ The right side (purple bars) highlights providers with very low reliability (<30–40%), signaling a risk of unfulfilled claims.\n",
        "\n",
        "- 📉 The overall trend shows a sharp drop-off after the reliable set → indicating few top providers carry most of the consistency."
      ],
      "metadata": {
        "id": "S-PjdTuz7nZj"
      }
    },
    {
      "cell_type": "markdown",
      "source": [
        "#### 3. Claim Speed"
      ],
      "metadata": {
        "id": "E35Arg1dq3Px"
      }
    },
    {
      "cell_type": "code",
      "source": [
        "# ⏱ Claim Speed\n",
        "df = pd.read_sql(\"\"\"\n",
        "SELECT f.food_id, f.food_name, f.expiry_date, c.timestamp,\n",
        "       julianday(c.timestamp) - julianday(f.expiry_date) AS days_to_claim\n",
        "FROM claims c\n",
        "JOIN food_listings f ON c.food_id = f.food_id\n",
        "\"\"\", engine)"
      ],
      "metadata": {
        "id": "bGfvGHEYq8wl"
      },
      "execution_count": null,
      "outputs": []
    },
    {
      "cell_type": "code",
      "source": [
        "fig = px.scatter(df, x=\"food_name\", y=\"days_to_claim\", color=\"days_to_claim\",\n",
        "                 title=\"⏱ Claim Speed (Days Between Listing & Claim)\")\n",
        "fig.show()"
      ],
      "metadata": {
        "colab": {
          "base_uri": "https://localhost:8080/",
          "height": 542
        },
        "id": "9yo2lh28q-hm",
        "outputId": "2b874c40-b15d-4fa6-c2e2-ffe13c64dff9"
      },
      "execution_count": null,
      "outputs": [
        {
          "output_type": "display_data",
          "data": {
            "text/html": [
              "<html>\n",
              "<head><meta charset=\"utf-8\" /></head>\n",
              "<body>\n",
              "    <div>            <script src=\"https://cdnjs.cloudflare.com/ajax/libs/mathjax/2.7.5/MathJax.js?config=TeX-AMS-MML_SVG\"></script><script type=\"text/javascript\">if (window.MathJax && window.MathJax.Hub && window.MathJax.Hub.Config) {window.MathJax.Hub.Config({SVG: {font: \"STIX-Web\"}});}</script>                <script type=\"text/javascript\">window.PlotlyConfig = {MathJaxConfig: 'local'};</script>\n",
              "        <script charset=\"utf-8\" src=\"https://cdn.plot.ly/plotly-2.35.2.min.js\"></script>                <div id=\"2745b4c3-6e9d-4d67-8746-eeb890e366f7\" class=\"plotly-graph-div\" style=\"height:525px; width:100%;\"></div>            <script type=\"text/javascript\">                                    window.PLOTLYENV=window.PLOTLYENV || {};                                    if (document.getElementById(\"2745b4c3-6e9d-4d67-8746-eeb890e366f7\")) {                    Plotly.newPlot(                        \"2745b4c3-6e9d-4d67-8746-eeb890e366f7\",                        [{\"hovertemplate\":\"food_name=%{x}\\u003cbr\\u003edays_to_claim=%{marker.color}\\u003cextra\\u003e\\u003c\\u002fextra\\u003e\",\"legendgroup\":\"\",\"marker\":{\"color\":[-21.773611111100763,-17.566666666883975,-7.959027777891606,-17.61944444430992,-5.363194444216788,-13.881944444496185,-11.001388888806105,-14.703472222201526,-5.898611111100763,-20.168750000186265,-14.040972222108394,-20.086805555503815,-7.452777777798474,-13.327777777798474,-21.666666666511446,-12.738194444216788,-3.299305555410683,-18.913888888899237,-13.727777777705342,-9.489583333488554,-18.9798611109145,-10.867361111100763,-10.04513888899237,-12.964583333116025,-10.70138888899237,3.1902777776122093,-10.78680555569008,1.1770833334885538,-4.285416666883975,-13.82986111100763,-23.912500000093132,1.5395833333022892,-8.398611111100763,-7.946527777705342,-12.097222222015262,-3.8465277776122093,-2.8402777779847383,-2.771527777891606,-15.58541666669771,-18.8236111109145,-4.810416666790843,-12.484722222201526,-13.286111111287028,-15.456944444216788,-11.703472222201526,-8.895833333488554,-22.552083333488554,-19.032638888806105,-1.427777777891606,-4.445833333302289,-21.5423611109145,-10.376388888806105,-8.595138888806105,-23.927777777891606,-10.990972222294658,1.603472222108394,-12.094444444403052,-7.366666666697711,-24.02222222229466,-10.372916666790843,-16.120833333116025,-3.41180555569008,-19.104166666511446,-5.43194444430992,-11.375,-8.19305555569008,-7.276388888712972,-27.799305555410683,-7.739583333488554,-4.346527777612209,-26.351388888899237,-13.549305555410683,-16.012500000186265,-15.444444444496185,-21.5111111109145,-6.05694444430992,-21.043750000186265,-14.429861111100763,-16.949305555783212,0.08194444421678782,-21.61597222229466,-20.443750000093132,-3.1826388887129724,-16.90972222201526,-22.588888888712972,-18.60763888899237,-4.548611111007631,-22.88402777770534,-22.143055555410683,-14.296527777798474,-5.243055555503815,-9.533333333209157,-7.520833333488554,-2.788888888899237,-8.547222222201526,-9.669444444589317,-15.908333333209157,-2.4375,-21.902083333116025,-3.200694444589317,-18.90347222238779,-0.747916666790843,-9.495833333116025,-17.975000000093132,-11.03680555569008,-10.856250000186265,0.02777777798473835,-21.613194444216788,-8.313888888806105,-28.993749999906868,-13.51388888899237,-18.083333333488554,-20.03402777761221,-23.558333333116025,-18.986805555410683,-4.290277777705342,-17.9375,-17.794444444589317,-4.348611111287028,-15.018749999813735,-2.5111111109144986,-7.972222222015262,-2.423611111007631,1.2881944444961846,-9.097222222015262,-6.320138888899237,-4.333333333488554,-9.188194444403052,-21.34027777798474,-3.6312500000931323,-9.783333333209157,-10.886111110914499,-13.43472222238779,2.02569444430992,-21.174305555410683,-13.043055555783212,-21.859722222201526,-20.181249999906868,-17.952777777798474,-0.9451388888992369,-16.149305555503815,-11.583333333488554,-19.51666666660458,-12.412500000093132,-13.772222222294658,-16.92916666669771,-16.424999999813735,-11.797222222201526,-10.365972222294658,-15.432638888712972,-10.770833333488554,-20.839583333116025,-12.323611110914499,-1.4972222223877907,-6.647916666697711,-13.750694444403052,-13.407638888806105,-3.9756944444961846,-15.356250000186265,-4.1749999998137355,-9.043055555783212,-2.5618055555969477,-21.62222222238779,-24.85833333339542,-8.796527777798474,-26.038194444496185,-8.93194444430992,-21.32083333330229,-11.973611111287028,-14.18472222238779,-16.29027777770534,-0.9111111112870276,-11.72152777761221,-18.234722222201526,-15.106250000186265,-10.93472222238779,-19.13055555569008,-10.753472222015262,-14.609027777798474,-12.939583333209157,-2.611111111007631,-4.929861111100763,-11.47430555569008,-26.8326388890855,-3.829861111007631,-9.12222222238779,-14.475000000093132,-6.070138888899237,-10.602777777705342,-3.6104166666045785,-18.500694444403052,-17.57986111100763,-20.907638888806105,-7.594444444403052,-11.132638888899237,3.8173611112870276,-26.09652777761221,-11.946527777705342,-12.859722222201526,-12.091666666790843,-6.2020833333954215,-4.631944444496185,-10.452777777798474,-8.82638888899237,-7.8562500001862645,-9.304861111100763,-8.328472222201526,-7.6875,-15.024305555503815,-11.079166666604578,-19.493055555503815,-19.979166666511446,-19.611805555410683,-10.660416666883975,-18.515972222201526,-9.030555555596948,-15.663888888899237,-15.134722222108394,-15.628472222015262,-18.038194444496185,-22.015277777798474,-14.037500000093132,-16.194444444496185,-18.299999999813735,-2.1666666665114462,-7.375694444403052,-19.76388888899237,-14.578472222201526,3.986111111007631,-1.8256944445893168,-10.056249999906868,1.1965277777053416,-2.2451388887129724,-8.725694444496185,-12.347222222015262,-8.188194444403052,-13.981250000186265,-1.3583333333954215,-18.117361111100763,-15.459027777891606,-7.90069444430992,-15.447222222108394,-2.8875000001862645,-4.894444444216788,-11.322222222108394,-12.756944444496185,-13.68472222238779,-13.86666666669771,0.39513888908550143,-6.096527777612209,-14.363888889085501,-9.859722222201526,-16.544444444589317,-22.834027777891606,-9.270138889085501,-5.664583333302289,-17.89722222229466,-21.7388888890855,-20.4375,-13.367361111100763,-11.418055555783212,-3.9722222220152617,-4.59930555569008,-24.443750000093132,-4.681249999906868,-26.703472222201526,-10.9375,-7.501388888806105,-5.415972222108394,-11.609027777798474,-16.5,-0.8020833334885538,-10.976388888899237,-3.045138888992369,-27.51666666660458,-13.504166666883975,-14.483333333395422,-6.8624999998137355,-3.2881944444961846,-26.48541666660458,-16.279861111193895,-5.7041666666045785,-13.65902777761221,-0.6354166665114462,-5.394444444216788,-1.1354166665114462,-9.90625,-0.8965277778916061,-12.91458333330229,-11.490972222294658,-13.674305555410683,-8.14791666669771,-12.436805555596948,-11.71875,-8.222916666883975,-19.249305555596948,-9.288888888899237,-5.74444444430992,-19.872916666790843,-3.3187500000931323,-22.671527777798474,-24.21527777798474,-17.470833333209157,-4.965972222387791,-2.2118055555038154,-10.993749999906868,-16.114583333488554,-11.234027777798474,-9.90347222238779,-16.10763888899237,-12.109722222201526,-13.469444444403052,-17.578472222201526,-8.487499999813735,-18.07708333339542,-7.052777777891606,-7.763888888992369,-21.15902777761221,-19.768055555410683,-10.938194444403052,-10.240277777891606,-22.776388888712972,-8.418055555783212,-14.043750000186265,-5.413194444496185,-1.3881944445893168,-9.299305555410683,-22.344444444403052,-4.868749999906868,-22.73333333339542,-7.22430555569008,-13.88888888899237,-7.631944444496185,-7.272916666697711,-9.20138888899237,-9.507638888899237,-16.168055555783212,-1.8277777777984738,-22.031944444403052,-7.020138889085501,-11.384722222108394,-7.710416666697711,-5.36944444430992,-15.089583333116025,0.5201388890855014,-3.7458333331160247,-16.140972222201526,-11.774999999906868,-24.181249999906868,-8.231250000186265,-24.554861111100763,1.2916666665114462,-11.104861110914499,-18.35208333330229,-11.014583333395422,1.2548611112870276,-10.899305555503815,-20.461111111100763,-10.072916666511446,-20.973611111287028,-14.754166666883975,-26.62222222238779,-15.186805555596948,-14.092361111193895,-15.872916666790843,-20.2298611109145,-22.1763888890855,-13.500694444403052,-12.893055555410683,-4.28680555569008,4.155555555596948,-23.611805555410683,-9.549305555410683,-13.406944444403052,-12.881250000093132,-2.109027777798474,-17.761805555783212,-19.42361111100763,-2.03125,-11.22708333330229,-6.618749999906868,-7.759722222108394,-9.54513888899237,-12.00277777761221,-24.106250000186265,-11.600000000093132,3.890972222201526,-20.92847222229466,-18.202777777798474,-9.225000000093132,-14.13055555569008,-14.091666666790843,-5.989583333488554,-16.325000000186265,-10.487499999813735,-6.002777777612209,-19.376388888806105,-12.276388888712972,-12.189583333209157,-5.481944444589317,-10.980555555783212,-9.959027777891606,-26.637500000186265,-13.03958333330229,-0.8826388888992369,-16.655555555596948,-13.230555555783212,-10.62777777761221,-14.100000000093132,-25.3548611109145,2.703472222201526,-14.511111110914499,-10.131250000093132,-8.186805555596948,-6.434027777984738,-16.705555555410683,-6.695833333302289,-23.297222222201526,-7.596527777612209,-13.833333333488554,-13.38333333330229,-17.563194444403052,-0.7631944445893168,-14.458333333488554,-25.36597222229466,-4.688888888806105,-10.96319444430992,-16.36597222229466,-12.239583333488554,-22.918055555783212,-5.504861111287028,-2.4375,-1.4722222220152617,-4.115277777891606,-6.5499999998137355,-14.865972222294658,-0.8881944445893168,1.5416666665114462,-19.85277777770534,-11.120833333116025,-8.522222222294658,-3.3326388890855014,-19.461805555503815,-10.83541666669771,-5.628472222015262,-7.103472222108394,-4.882638888899237,-12.515972222201526,-2.7388888890855014,1.8354166666977108,-4.662500000093132,-8.330555555410683,-4.072222222108394,-3.779166666790843,-16.04513888899237,-24.302777777891606,-13.825694444589317,-10.865972222294658,-3.673611111007631,-22.15972222201526,-23.31805555569008,-20.12222222238779,-4.541666666511446,-28.85277777770534,-5.095138888806105,5.190277777612209,-2.3187500000931323,-3.2854166668839753,-2.699305555783212,-9.427777777891606,4.2020833333954215,-15.088888888712972,-8.514583333395422,-17.71041666669771,-10.56527777761221,-13.43472222238779,-14.44583333330229,-26.154166666790843,5.213888888712972,-1.0361111112870276,-7.80694444430992,-13.270833333488554,-3.357638888992369,-9.447916666511446,-11.257638888899237,-14.504166666883975,-15.172916666604578,-7.729166666511446,-10.719444444403052,-8.527777777984738,-8.697222222108394,-13.59652777761221,-10.78125,-7.681249999906868,-0.7999999998137355,-9.353472222108394,-15.839583333116025,-9.365972222294658,-21.886805555783212,-2.771527777891606,-5.484722222201526,-17.92847222229466,-2.103472222108394,-11.855555555783212,-15.211111111100763,-8.764583333395422,-2.4715277776122093,-22.82708333339542,1.6548611111938953,-10.600694444496185,-15.25,-14.168750000186265,-13.154861111193895,4.003472222015262,1.095833333209157,-14.584722222294658,-7.43194444430992,-17.140972222201526,-15.113888889085501,-12.58819444430992,-0.7368055554106832,0.8999999999068677,-3.5354166668839753,-7.7937500001862645,-5.819444444496185,-3.2145833331160247,-4.184027777984738,-7.427083333488554,-19.54791666660458,-14.86666666669771,-12.356250000186265,-16.893749999813735,-10.765277777798474,-12.342361111193895,-2.7763888887129724,-13.399999999906868,-1.6381944445893168,-18.82083333330229,-17.59652777761221,-16.825694444589317,-9.479861110914499,-4.046527777798474,-15.30694444430992,-2.8777777776122093,-7.745138888712972,-20.25347222201526,-10.4375,-10.124305555596948,-14.13055555569008,-10.878472222015262,-10.644444444216788,-13.626388888806105,-25.347916666883975,-24.695138888899237,-17.67291666660458,-10.236805555410683,-17.69305555569008,-22.705555555410683,-15.92013888899237,-18.720833333209157,-20.25555555569008,-27.61666666669771,-21.120833333116025,-12.4375,-5.805555555503815,-6.928472222294658,-9.026388888712972,-15.885416666511446,-19.341666666790843,-11.855555555783212,-20.743749999906868,-6.032638888806105,-9.343055555596948,-15.915277777705342,-23.037500000093132,-10.90902777761221,-8.104861110914499,0.28472222201526165,-2.5208333334885538,-16.802083333488554,-17.55902777798474,-23.71319444430992,-22.95416666660458,-28.49722222238779,-1.4444444444961846,0.2909722221083939,-7.939583333209157,-7.7666666666045785,-15.011111110914499,-4.6395833333954215,-4.75,-26.006944444496185,-17.004861111287028,-3.165972222108394,-20.362499999813735,-15.829166666604578,-16.757638888899237,-23.79513888899237,-0.22708333330228925,-1.2687499998137355,-3.8374999999068677,-8.702777777798474,-7.674305555410683,-10.106250000186265,-10.309027777984738,-12.93472222238779,-11.973611111287028,-7.773611111100763,-13.851388888899237,-8.362499999813735,-9.763194444589317,-6.113888889085501,-17.749305555596948,-7.425694444216788,-18.140972222201526,-3.329861111007631,-24.40069444430992,-25.861805555410683,-8.680555555503815,-5.524999999906868,-10.56527777761221,-7.199305555783212,-14.582638889085501,-13.325694444589317,-9.90625,0.11249999981373549,-12.933333333116025,-12.603472222108394,-12.970138888806105,-19.356944444589317,0.025694444309920073,-7.430555555503815,-12.447916666511446,-21.254166666883975,-16.933333333116025,-1.2777777779847383,-7.4541666666045785,-3.765277777798474,-19.436111111193895,2.0534722222946584,-21.98541666660458,4.8312499998137355,-16.223611111287028,-12.810416666790843,-7.859027777798474,-4.438194444403052,-4.254861111287028,-8.50277777761221,-20.273611111100763,-4.402083333116025,-4.05694444430992,-12.462499999906868,-20.54861111100763,2.038888888899237,-18.479166666511446,-15.323611110914499,-12.481944444589317,-26.09097222238779,-11.895138889085501,-19.54583333339542,-15.890972222201526,-5.997222222387791,-13.509027777705342,-9.73611111100763,-8.174305555410683,-11.623611111193895,-25.02291666669771,-19.618055555503815,-12.838888888712972,-7.227777777705342,-17.92847222229466,-10.595833333209157,-11.82986111100763,-15.990277777891606,-0.7097222222946584,-6.584722222294658,1.4868055554106832,-12.97708333330229,-6.93194444430992,-12.378472222015262,-7.604861110914499,-0.71875,-11.350000000093132,-6.645833333488554,-22.626388888806105,-14.61666666669771,-18.134722222108394,-3.9458333333022892,-14.853472222108394,-6.209722222294658,-13.904166666790843,-15.90625,-2.8368055555038154,-15.747916666790843,-12.11666666669771,-3.2861111112870276,-11.259722222108394,-24.964583333116025,-13.364583333488554,-8.200000000186265,-2.322222222108394,-16.04027777770534,-1.5437500001862645,-8.935416666790843,-12.683333333116025,-15.02847222238779,-21.572916666511446,-11.211805555503815,0.3826388888992369,-13.602777777705342,-13.684027777984738,-25.941666666883975,-8.739583333488554,5.0812499998137355,-2.4069444444030523,-20.890277777798474,-6.254861111287028,-14.00277777761221,-10.995833333116025,-3.730555555783212,-9.343055555596948,-11.625694444403052,-16.833333333488554,-4.908333333209157,-5.46875,-19.98263888899237,0.17361111100763083,-7.517361111007631,-12.461805555503815,-19.422222222201526,-10.052777777891606,-17.588888888712972,-3.0868055555038154,-0.32847222220152617,-6.713888888712972,-8.00555555569008,-10.243749999906868,-15.014583333395422,-13.270138889085501,3.2611111109144986,-0.6215277779847383,-3.3743055555969477,-20.363194444216788,-3.6979166665114462,0.7930555557832122,-5.449305555783212,-12.09930555569008,-21.1138888890855,-7.192361111287028,-3.8111111111938953,-3.794444444589317,-3.033333333209157,-12.336111111100763,2.3743055555969477,-14.865972222294658,-7.604861110914499,-14.194444444496185,0.08958333311602473,-3.5284722223877907,-10.333333333488554,-7.131250000093132,-5.998611111193895,-8.672916666604578,-5.797222222201526,-2.5909722223877907,-10.61111111100763,-20.226388888899237,0.6805555555038154,-13.940972222015262,-16.658333333209157,-5.947916666511446,-11.358333333395422,-10.582638889085501,-2.492361111100763,-19.00277777761221,-23.9798611109145,-5.592361111193895,-11.978472222108394,-4.230555555783212,-17.418055555783212,-18.398611111100763,-23.174305555410683,-2.2097222222946584,-7.054861111100763,-2.40069444430992,-19.449305555783212,-8.825000000186265,0.7305555557832122,-27.101388888899237,-10.457638889085501,-15.85208333330229,-4.2645833333954215,-24.11666666669771,-6.330555555410683,-24.09375,-4.972916666883975,-14.042361110914499,-13.577777777798474,-11.168750000186265,-7.003472222015262,-13.345833333209157,-0.6006944444961846,-9.393749999813735,5.258333333302289,-2.5361111112870276,-14.670833333395422,-18.288194444496185,-22.146527777891606,-15.871527777984738,-11.742361111100763,-18.722916666883975,-19.97222222201526,-26.069444444496185,-8.242361111100763,-5.631944444496185,-9.242361111100763,-17.319444444496185,-16.129166666883975,-20.933333333116025,-11.226388888899237,-16.856250000186265,-13.75,-17.09027777798474,-7.760416666511446,-9.688888888806105,-13.613888889085501,-5.440277777612209,-22.822916666511446,-7.095833333209157,-12.478472222108394,-8.511805555783212,1.353472222108394,-16.33541666669771,-10.990277777891606,-16.78958333330229,-7.990972222294658,-9.407638888806105,-16.87152777798474,-0.6576388888061047,-9.541666666511446,-21.984722222201526,-4.042361110914499,-16.932638888712972,-4.750694444403052,-6.524999999906868,1.5590277779847383,-17.683333333116025,-2.236805555410683,-3.7798611111938953,-15.33541666669771,-10.327777777798474,-3.581944444216788,-2.6159722222946584,-10.354166666511446,-17.066666666883975,-0.4451388888992369,-17.07638888899237,-13.703472222201526,-14.725000000093132,-19.61111111100763,-14.742361111100763,2.200694444589317,-6.058333333116025,-18.961805555503815,-8.34097222238779,-17.8951388890855,-6.707638889085501,-7.883333333302289,-13.038194444496185,-5.212499999906868,-21.27777777798474,-0.34236111119389534,-2.7763888887129724,-14.756944444496185,-2.43194444430992,-13.407638888806105,-18.031944444403052,-15.783333333209157,-23.924305555410683,-14.131944444496185,-9.189583333209157,-11.136111110914499,-8.46875,-7.3583333333954215,-10.001388888806105,-11.90625,-13.90347222238779,-10.938888888806105,-16.069444444496185,-8.66458333330229,1.2138888887129724,-14.381250000093132,-7.498611111193895,-16.52222222229466,-6.855555555783212,-2.738194444216788,-12.174999999813735,-3.6708333333954215,-5.7374999998137355,-25.120833333116025,-9.62222222238779,-25.26736111100763,-5.061111111193895,-11.08819444430992,-16.436805555596948,-6.548611111007631,-15.865972222294658,-17.45416666660458,-7.0145833333954215,-13.402083333116025,-13.627083333209157,2.65069444430992,-14.068750000093132,-8.456249999813735,-16.259722222108394,-4.865972222294658,-20.554861111100763,-8.584027777891606,-17.242361111100763,-4.307638888712972,-11.928472222294658,-8.96041666669771,-24.049305555410683,-10.311111111193895,-18.78125,-15.47430555569008,-5.434722222387791,-6.989583333488554,-17.96041666669771,-16.550694444216788,-15.92916666669771,-6.306249999906868,-26.73333333339542,-11.28680555569008,-7.689583333209157,-16.94652777770534,-14.56805555569008,-7.668055555783212,-11.336805555503815,-15.000694444403052,-12.238888889085501,-18.356944444589317,-24.970138888806105,-14.963888888712972,-2.0458333333954215,3.580555555410683,-15.157638888806105,-4.52569444430992,-19.629861111287028,-17.84027777798474,-2.954861111007631,-3.674305555410683,-11.159722222015262,-7.580555555410683,-13.029861111193895,-8.641666666604578,0.8645833334885538,-14.325694444589317,-11.472222222015262,-1.625,-9.788194444496185,-15.959027777891606,-13.722916666883975,-1.5534722222946584,-14.934027777984738,-6.024305555503815,-15.30416666669771,-10.965277777984738,0.1104166666045785,-12.878472222015262,-18.464583333116025,-22.808333333116025,-18.136805555783212,-19.202777777798474,-20.779166666790843,-18.46527777798474,-21.15902777761221,-17.742361111100763,-17.63958333339542,-7.517361111007631,-12.334722222294658,-4.897916666697711,1.7986111110076308,2.263194444589317,-4.061111111193895,-16.445138888899237,-19.439583333209157,-20.69583333330229,-8.456249999813735,-9.34652777761221,-9.840277777984738,-6.5458333333954215,-6.472222222015262,-21.074305555783212,-11.968055555596948,-11.180555555503815,-9.080555555410683,-2.25,-26.353472222108394,-15.464583333116025],\"coloraxis\":\"coloraxis\",\"symbol\":\"circle\"},\"mode\":\"markers\",\"name\":\"\",\"orientation\":\"v\",\"showlegend\":false,\"x\":[\"Dairy\",\"Fruits\",\"Salad\",\"Fruits\",\"Pasta\",\"Salad\",\"Fish\",\"Salad\",\"Soup\",\"Vegetables\",\"Dairy\",\"Bread\",\"Vegetables\",\"Bread\",\"Rice\",\"Vegetables\",\"Rice\",\"Pasta\",\"Fish\",\"Chicken\",\"Rice\",\"Pasta\",\"Vegetables\",\"Chicken\",\"Bread\",\"Pasta\",\"Pasta\",\"Vegetables\",\"Bread\",\"Pasta\",\"Bread\",\"Fish\",\"Bread\",\"Fish\",\"Salad\",\"Dairy\",\"Fish\",\"Dairy\",\"Pasta\",\"Dairy\",\"Vegetables\",\"Bread\",\"Vegetables\",\"Salad\",\"Soup\",\"Fish\",\"Bread\",\"Pasta\",\"Salad\",\"Dairy\",\"Fruits\",\"Chicken\",\"Fish\",\"Vegetables\",\"Dairy\",\"Fruits\",\"Fish\",\"Fish\",\"Dairy\",\"Soup\",\"Pasta\",\"Fish\",\"Bread\",\"Chicken\",\"Pasta\",\"Rice\",\"Chicken\",\"Rice\",\"Pasta\",\"Pasta\",\"Dairy\",\"Fruits\",\"Rice\",\"Fruits\",\"Fish\",\"Chicken\",\"Fruits\",\"Rice\",\"Soup\",\"Fish\",\"Rice\",\"Bread\",\"Chicken\",\"Salad\",\"Rice\",\"Chicken\",\"Dairy\",\"Fish\",\"Dairy\",\"Soup\",\"Dairy\",\"Bread\",\"Rice\",\"Pasta\",\"Rice\",\"Bread\",\"Pasta\",\"Fish\",\"Dairy\",\"Dairy\",\"Dairy\",\"Salad\",\"Soup\",\"Salad\",\"Chicken\",\"Vegetables\",\"Chicken\",\"Rice\",\"Rice\",\"Vegetables\",\"Soup\",\"Chicken\",\"Fruits\",\"Fish\",\"Dairy\",\"Pasta\",\"Soup\",\"Fruits\",\"Vegetables\",\"Fish\",\"Dairy\",\"Rice\",\"Soup\",\"Chicken\",\"Soup\",\"Dairy\",\"Soup\",\"Rice\",\"Pasta\",\"Salad\",\"Pasta\",\"Pasta\",\"Fruits\",\"Soup\",\"Rice\",\"Fish\",\"Pasta\",\"Rice\",\"Salad\",\"Fish\",\"Fish\",\"Rice\",\"Bread\",\"Soup\",\"Vegetables\",\"Chicken\",\"Dairy\",\"Chicken\",\"Fish\",\"Vegetables\",\"Bread\",\"Dairy\",\"Soup\",\"Pasta\",\"Salad\",\"Fish\",\"Vegetables\",\"Pasta\",\"Chicken\",\"Bread\",\"Dairy\",\"Soup\",\"Rice\",\"Dairy\",\"Fish\",\"Rice\",\"Rice\",\"Bread\",\"Soup\",\"Chicken\",\"Dairy\",\"Rice\",\"Rice\",\"Pasta\",\"Fish\",\"Rice\",\"Chicken\",\"Chicken\",\"Fish\",\"Bread\",\"Rice\",\"Dairy\",\"Chicken\",\"Dairy\",\"Chicken\",\"Fish\",\"Pasta\",\"Vegetables\",\"Fish\",\"Fish\",\"Rice\",\"Rice\",\"Salad\",\"Chicken\",\"Fruits\",\"Soup\",\"Vegetables\",\"Bread\",\"Fruits\",\"Rice\",\"Salad\",\"Vegetables\",\"Bread\",\"Bread\",\"Vegetables\",\"Rice\",\"Bread\",\"Soup\",\"Salad\",\"Fish\",\"Salad\",\"Rice\",\"Vegetables\",\"Salad\",\"Salad\",\"Fruits\",\"Fruits\",\"Salad\",\"Fish\",\"Chicken\",\"Soup\",\"Rice\",\"Chicken\",\"Fish\",\"Soup\",\"Dairy\",\"Salad\",\"Chicken\",\"Bread\",\"Vegetables\",\"Rice\",\"Bread\",\"Soup\",\"Fruits\",\"Rice\",\"Dairy\",\"Chicken\",\"Bread\",\"Rice\",\"Salad\",\"Chicken\",\"Soup\",\"Bread\",\"Bread\",\"Soup\",\"Salad\",\"Dairy\",\"Dairy\",\"Bread\",\"Pasta\",\"Fish\",\"Soup\",\"Dairy\",\"Fish\",\"Rice\",\"Dairy\",\"Salad\",\"Fish\",\"Dairy\",\"Pasta\",\"Chicken\",\"Soup\",\"Chicken\",\"Chicken\",\"Chicken\",\"Vegetables\",\"Fruits\",\"Fruits\",\"Soup\",\"Fruits\",\"Rice\",\"Soup\",\"Fish\",\"Fish\",\"Soup\",\"Rice\",\"Chicken\",\"Fish\",\"Salad\",\"Fish\",\"Vegetables\",\"Vegetables\",\"Rice\",\"Soup\",\"Rice\",\"Rice\",\"Pasta\",\"Salad\",\"Fish\",\"Bread\",\"Bread\",\"Salad\",\"Vegetables\",\"Soup\",\"Rice\",\"Fish\",\"Bread\",\"Dairy\",\"Fish\",\"Fruits\",\"Fish\",\"Salad\",\"Fruits\",\"Fish\",\"Fish\",\"Pasta\",\"Pasta\",\"Vegetables\",\"Vegetables\",\"Salad\",\"Bread\",\"Chicken\",\"Fish\",\"Rice\",\"Rice\",\"Vegetables\",\"Dairy\",\"Dairy\",\"Salad\",\"Fish\",\"Soup\",\"Rice\",\"Salad\",\"Fruits\",\"Fish\",\"Fruits\",\"Rice\",\"Bread\",\"Rice\",\"Fish\",\"Rice\",\"Dairy\",\"Rice\",\"Soup\",\"Fish\",\"Dairy\",\"Bread\",\"Bread\",\"Vegetables\",\"Pasta\",\"Salad\",\"Bread\",\"Salad\",\"Salad\",\"Bread\",\"Fish\",\"Fish\",\"Salad\",\"Dairy\",\"Fish\",\"Chicken\",\"Soup\",\"Soup\",\"Vegetables\",\"Dairy\",\"Dairy\",\"Rice\",\"Dairy\",\"Salad\",\"Chicken\",\"Salad\",\"Dairy\",\"Pasta\",\"Dairy\",\"Salad\",\"Fruits\",\"Dairy\",\"Fish\",\"Rice\",\"Rice\",\"Dairy\",\"Fruits\",\"Fish\",\"Dairy\",\"Vegetables\",\"Dairy\",\"Vegetables\",\"Soup\",\"Rice\",\"Soup\",\"Rice\",\"Rice\",\"Soup\",\"Vegetables\",\"Chicken\",\"Pasta\",\"Rice\",\"Dairy\",\"Chicken\",\"Dairy\",\"Salad\",\"Soup\",\"Soup\",\"Chicken\",\"Bread\",\"Salad\",\"Fish\",\"Fish\",\"Bread\",\"Rice\",\"Chicken\",\"Rice\",\"Dairy\",\"Pasta\",\"Fish\",\"Pasta\",\"Soup\",\"Soup\",\"Rice\",\"Vegetables\",\"Soup\",\"Dairy\",\"Vegetables\",\"Bread\",\"Salad\",\"Dairy\",\"Dairy\",\"Fruits\",\"Bread\",\"Chicken\",\"Bread\",\"Vegetables\",\"Vegetables\",\"Soup\",\"Dairy\",\"Dairy\",\"Chicken\",\"Fish\",\"Chicken\",\"Dairy\",\"Pasta\",\"Soup\",\"Chicken\",\"Fish\",\"Chicken\",\"Pasta\",\"Fruits\",\"Vegetables\",\"Pasta\",\"Fruits\",\"Rice\",\"Salad\",\"Chicken\",\"Rice\",\"Chicken\",\"Soup\",\"Chicken\",\"Salad\",\"Fish\",\"Bread\",\"Soup\",\"Fruits\",\"Salad\",\"Vegetables\",\"Chicken\",\"Fruits\",\"Rice\",\"Dairy\",\"Rice\",\"Soup\",\"Pasta\",\"Dairy\",\"Salad\",\"Vegetables\",\"Fruits\",\"Salad\",\"Vegetables\",\"Bread\",\"Salad\",\"Bread\",\"Pasta\",\"Soup\",\"Soup\",\"Pasta\",\"Fruits\",\"Soup\",\"Fruits\",\"Fish\",\"Vegetables\",\"Fish\",\"Bread\",\"Bread\",\"Vegetables\",\"Pasta\",\"Pasta\",\"Rice\",\"Bread\",\"Chicken\",\"Soup\",\"Chicken\",\"Bread\",\"Bread\",\"Chicken\",\"Soup\",\"Pasta\",\"Fruits\",\"Pasta\",\"Vegetables\",\"Chicken\",\"Bread\",\"Dairy\",\"Rice\",\"Salad\",\"Bread\",\"Soup\",\"Bread\",\"Soup\",\"Fish\",\"Rice\",\"Bread\",\"Vegetables\",\"Fish\",\"Soup\",\"Vegetables\",\"Chicken\",\"Bread\",\"Soup\",\"Fruits\",\"Salad\",\"Fish\",\"Soup\",\"Rice\",\"Fish\",\"Vegetables\",\"Chicken\",\"Chicken\",\"Fruits\",\"Bread\",\"Dairy\",\"Vegetables\",\"Rice\",\"Chicken\",\"Fish\",\"Salad\",\"Dairy\",\"Pasta\",\"Bread\",\"Pasta\",\"Soup\",\"Dairy\",\"Pasta\",\"Fruits\",\"Rice\",\"Dairy\",\"Soup\",\"Soup\",\"Dairy\",\"Fish\",\"Rice\",\"Pasta\",\"Soup\",\"Soup\",\"Bread\",\"Vegetables\",\"Rice\",\"Salad\",\"Soup\",\"Chicken\",\"Pasta\",\"Fruits\",\"Soup\",\"Soup\",\"Fish\",\"Bread\",\"Chicken\",\"Vegetables\",\"Fish\",\"Vegetables\",\"Vegetables\",\"Pasta\",\"Soup\",\"Fish\",\"Pasta\",\"Dairy\",\"Fish\",\"Pasta\",\"Chicken\",\"Vegetables\",\"Salad\",\"Dairy\",\"Vegetables\",\"Vegetables\",\"Salad\",\"Fruits\",\"Rice\",\"Fruits\",\"Fruits\",\"Chicken\",\"Pasta\",\"Pasta\",\"Pasta\",\"Chicken\",\"Salad\",\"Dairy\",\"Rice\",\"Fish\",\"Fruits\",\"Bread\",\"Chicken\",\"Salad\",\"Rice\",\"Bread\",\"Soup\",\"Rice\",\"Chicken\",\"Dairy\",\"Dairy\",\"Vegetables\",\"Bread\",\"Chicken\",\"Dairy\",\"Chicken\",\"Vegetables\",\"Soup\",\"Chicken\",\"Fruits\",\"Dairy\",\"Vegetables\",\"Chicken\",\"Salad\",\"Dairy\",\"Pasta\",\"Rice\",\"Dairy\",\"Soup\",\"Chicken\",\"Salad\",\"Soup\",\"Soup\",\"Pasta\",\"Dairy\",\"Bread\",\"Pasta\",\"Chicken\",\"Soup\",\"Soup\",\"Fruits\",\"Pasta\",\"Fish\",\"Pasta\",\"Dairy\",\"Soup\",\"Soup\",\"Soup\",\"Chicken\",\"Rice\",\"Rice\",\"Vegetables\",\"Fruits\",\"Dairy\",\"Fish\",\"Pasta\",\"Chicken\",\"Salad\",\"Bread\",\"Bread\",\"Vegetables\",\"Soup\",\"Salad\",\"Dairy\",\"Fish\",\"Rice\",\"Salad\",\"Fish\",\"Fish\",\"Salad\",\"Bread\",\"Soup\",\"Fruits\",\"Vegetables\",\"Pasta\",\"Rice\",\"Rice\",\"Dairy\",\"Chicken\",\"Rice\",\"Salad\",\"Vegetables\",\"Bread\",\"Pasta\",\"Bread\",\"Bread\",\"Vegetables\",\"Dairy\",\"Fish\",\"Soup\",\"Chicken\",\"Fish\",\"Salad\",\"Pasta\",\"Rice\",\"Pasta\",\"Salad\",\"Dairy\",\"Soup\",\"Bread\",\"Soup\",\"Salad\",\"Soup\",\"Salad\",\"Fruits\",\"Rice\",\"Salad\",\"Rice\",\"Chicken\",\"Fish\",\"Soup\",\"Pasta\",\"Rice\",\"Fruits\",\"Salad\",\"Bread\",\"Fruits\",\"Vegetables\",\"Rice\",\"Rice\",\"Vegetables\",\"Salad\",\"Fruits\",\"Dairy\",\"Soup\",\"Fish\",\"Rice\",\"Dairy\",\"Bread\",\"Salad\",\"Salad\",\"Salad\",\"Soup\",\"Soup\",\"Bread\",\"Vegetables\",\"Pasta\",\"Fruits\",\"Dairy\",\"Rice\",\"Fish\",\"Bread\",\"Fruits\",\"Vegetables\",\"Bread\",\"Soup\",\"Vegetables\",\"Rice\",\"Salad\",\"Pasta\",\"Rice\",\"Bread\",\"Pasta\",\"Vegetables\",\"Dairy\",\"Soup\",\"Soup\",\"Fish\",\"Bread\",\"Rice\",\"Vegetables\",\"Chicken\",\"Chicken\",\"Vegetables\",\"Dairy\",\"Pasta\",\"Fish\",\"Chicken\",\"Salad\",\"Vegetables\",\"Fish\",\"Rice\",\"Fish\",\"Soup\",\"Pasta\",\"Rice\",\"Rice\",\"Rice\",\"Soup\",\"Salad\",\"Bread\",\"Fish\",\"Dairy\",\"Dairy\",\"Soup\",\"Fruits\",\"Salad\",\"Salad\",\"Dairy\",\"Dairy\",\"Soup\",\"Rice\",\"Rice\",\"Soup\",\"Fruits\",\"Pasta\",\"Dairy\",\"Bread\",\"Salad\",\"Rice\",\"Pasta\",\"Bread\",\"Fruits\",\"Fruits\",\"Fish\",\"Vegetables\",\"Salad\",\"Salad\",\"Rice\",\"Dairy\",\"Salad\",\"Fruits\",\"Bread\",\"Chicken\",\"Chicken\",\"Fruits\",\"Salad\",\"Pasta\",\"Fruits\",\"Vegetables\",\"Soup\",\"Dairy\",\"Soup\",\"Bread\",\"Fruits\",\"Dairy\",\"Dairy\",\"Chicken\",\"Bread\",\"Soup\",\"Rice\",\"Rice\",\"Chicken\",\"Fruits\",\"Soup\",\"Rice\",\"Soup\",\"Rice\",\"Pasta\",\"Pasta\",\"Rice\",\"Dairy\",\"Vegetables\",\"Salad\",\"Pasta\",\"Bread\",\"Chicken\",\"Dairy\",\"Rice\",\"Rice\",\"Pasta\",\"Chicken\",\"Rice\",\"Fruits\",\"Fish\",\"Fish\",\"Dairy\",\"Soup\",\"Salad\",\"Bread\",\"Vegetables\",\"Rice\",\"Fruits\",\"Bread\",\"Salad\",\"Chicken\",\"Soup\",\"Soup\",\"Bread\",\"Pasta\",\"Bread\",\"Dairy\",\"Vegetables\",\"Vegetables\",\"Rice\",\"Fish\",\"Chicken\",\"Dairy\",\"Chicken\",\"Rice\",\"Soup\",\"Soup\",\"Dairy\",\"Chicken\",\"Chicken\",\"Pasta\",\"Fish\",\"Fish\",\"Dairy\",\"Bread\",\"Chicken\",\"Rice\",\"Fruits\",\"Rice\",\"Fruits\",\"Vegetables\",\"Salad\",\"Soup\",\"Vegetables\",\"Salad\",\"Bread\",\"Fruits\",\"Fruits\",\"Pasta\",\"Rice\",\"Fruits\",\"Salad\",\"Salad\",\"Soup\",\"Vegetables\",\"Dairy\",\"Soup\",\"Salad\",\"Salad\",\"Pasta\",\"Soup\",\"Fruits\",\"Pasta\",\"Fruits\",\"Salad\",\"Fruits\",\"Chicken\",\"Salad\",\"Chicken\",\"Bread\",\"Rice\",\"Rice\",\"Rice\",\"Salad\",\"Pasta\",\"Dairy\",\"Chicken\",\"Dairy\",\"Chicken\",\"Fish\",\"Rice\",\"Vegetables\",\"Salad\",\"Fish\",\"Dairy\",\"Fish\",\"Vegetables\",\"Fish\",\"Fish\",\"Bread\",\"Salad\",\"Chicken\",\"Dairy\",\"Bread\",\"Chicken\",\"Fish\",\"Fish\",\"Fish\",\"Dairy\",\"Soup\",\"Rice\",\"Fish\",\"Soup\",\"Pasta\",\"Chicken\",\"Fruits\",\"Vegetables\",\"Fish\",\"Chicken\",\"Soup\",\"Bread\",\"Salad\",\"Pasta\",\"Rice\",\"Chicken\",\"Chicken\",\"Chicken\",\"Salad\",\"Fish\",\"Fish\",\"Salad\",\"Vegetables\",\"Salad\",\"Rice\",\"Chicken\",\"Rice\",\"Fish\",\"Salad\",\"Salad\",\"Salad\",\"Salad\",\"Pasta\",\"Bread\",\"Soup\",\"Vegetables\",\"Dairy\",\"Vegetables\",\"Chicken\",\"Soup\",\"Dairy\",\"Dairy\",\"Pasta\",\"Salad\",\"Salad\",\"Salad\",\"Chicken\",\"Fish\",\"Soup\",\"Fish\"],\"xaxis\":\"x\",\"y\":[-21.773611111100763,-17.566666666883975,-7.959027777891606,-17.61944444430992,-5.363194444216788,-13.881944444496185,-11.001388888806105,-14.703472222201526,-5.898611111100763,-20.168750000186265,-14.040972222108394,-20.086805555503815,-7.452777777798474,-13.327777777798474,-21.666666666511446,-12.738194444216788,-3.299305555410683,-18.913888888899237,-13.727777777705342,-9.489583333488554,-18.9798611109145,-10.867361111100763,-10.04513888899237,-12.964583333116025,-10.70138888899237,3.1902777776122093,-10.78680555569008,1.1770833334885538,-4.285416666883975,-13.82986111100763,-23.912500000093132,1.5395833333022892,-8.398611111100763,-7.946527777705342,-12.097222222015262,-3.8465277776122093,-2.8402777779847383,-2.771527777891606,-15.58541666669771,-18.8236111109145,-4.810416666790843,-12.484722222201526,-13.286111111287028,-15.456944444216788,-11.703472222201526,-8.895833333488554,-22.552083333488554,-19.032638888806105,-1.427777777891606,-4.445833333302289,-21.5423611109145,-10.376388888806105,-8.595138888806105,-23.927777777891606,-10.990972222294658,1.603472222108394,-12.094444444403052,-7.366666666697711,-24.02222222229466,-10.372916666790843,-16.120833333116025,-3.41180555569008,-19.104166666511446,-5.43194444430992,-11.375,-8.19305555569008,-7.276388888712972,-27.799305555410683,-7.739583333488554,-4.346527777612209,-26.351388888899237,-13.549305555410683,-16.012500000186265,-15.444444444496185,-21.5111111109145,-6.05694444430992,-21.043750000186265,-14.429861111100763,-16.949305555783212,0.08194444421678782,-21.61597222229466,-20.443750000093132,-3.1826388887129724,-16.90972222201526,-22.588888888712972,-18.60763888899237,-4.548611111007631,-22.88402777770534,-22.143055555410683,-14.296527777798474,-5.243055555503815,-9.533333333209157,-7.520833333488554,-2.788888888899237,-8.547222222201526,-9.669444444589317,-15.908333333209157,-2.4375,-21.902083333116025,-3.200694444589317,-18.90347222238779,-0.747916666790843,-9.495833333116025,-17.975000000093132,-11.03680555569008,-10.856250000186265,0.02777777798473835,-21.613194444216788,-8.313888888806105,-28.993749999906868,-13.51388888899237,-18.083333333488554,-20.03402777761221,-23.558333333116025,-18.986805555410683,-4.290277777705342,-17.9375,-17.794444444589317,-4.348611111287028,-15.018749999813735,-2.5111111109144986,-7.972222222015262,-2.423611111007631,1.2881944444961846,-9.097222222015262,-6.320138888899237,-4.333333333488554,-9.188194444403052,-21.34027777798474,-3.6312500000931323,-9.783333333209157,-10.886111110914499,-13.43472222238779,2.02569444430992,-21.174305555410683,-13.043055555783212,-21.859722222201526,-20.181249999906868,-17.952777777798474,-0.9451388888992369,-16.149305555503815,-11.583333333488554,-19.51666666660458,-12.412500000093132,-13.772222222294658,-16.92916666669771,-16.424999999813735,-11.797222222201526,-10.365972222294658,-15.432638888712972,-10.770833333488554,-20.839583333116025,-12.323611110914499,-1.4972222223877907,-6.647916666697711,-13.750694444403052,-13.407638888806105,-3.9756944444961846,-15.356250000186265,-4.1749999998137355,-9.043055555783212,-2.5618055555969477,-21.62222222238779,-24.85833333339542,-8.796527777798474,-26.038194444496185,-8.93194444430992,-21.32083333330229,-11.973611111287028,-14.18472222238779,-16.29027777770534,-0.9111111112870276,-11.72152777761221,-18.234722222201526,-15.106250000186265,-10.93472222238779,-19.13055555569008,-10.753472222015262,-14.609027777798474,-12.939583333209157,-2.611111111007631,-4.929861111100763,-11.47430555569008,-26.8326388890855,-3.829861111007631,-9.12222222238779,-14.475000000093132,-6.070138888899237,-10.602777777705342,-3.6104166666045785,-18.500694444403052,-17.57986111100763,-20.907638888806105,-7.594444444403052,-11.132638888899237,3.8173611112870276,-26.09652777761221,-11.946527777705342,-12.859722222201526,-12.091666666790843,-6.2020833333954215,-4.631944444496185,-10.452777777798474,-8.82638888899237,-7.8562500001862645,-9.304861111100763,-8.328472222201526,-7.6875,-15.024305555503815,-11.079166666604578,-19.493055555503815,-19.979166666511446,-19.611805555410683,-10.660416666883975,-18.515972222201526,-9.030555555596948,-15.663888888899237,-15.134722222108394,-15.628472222015262,-18.038194444496185,-22.015277777798474,-14.037500000093132,-16.194444444496185,-18.299999999813735,-2.1666666665114462,-7.375694444403052,-19.76388888899237,-14.578472222201526,3.986111111007631,-1.8256944445893168,-10.056249999906868,1.1965277777053416,-2.2451388887129724,-8.725694444496185,-12.347222222015262,-8.188194444403052,-13.981250000186265,-1.3583333333954215,-18.117361111100763,-15.459027777891606,-7.90069444430992,-15.447222222108394,-2.8875000001862645,-4.894444444216788,-11.322222222108394,-12.756944444496185,-13.68472222238779,-13.86666666669771,0.39513888908550143,-6.096527777612209,-14.363888889085501,-9.859722222201526,-16.544444444589317,-22.834027777891606,-9.270138889085501,-5.664583333302289,-17.89722222229466,-21.7388888890855,-20.4375,-13.367361111100763,-11.418055555783212,-3.9722222220152617,-4.59930555569008,-24.443750000093132,-4.681249999906868,-26.703472222201526,-10.9375,-7.501388888806105,-5.415972222108394,-11.609027777798474,-16.5,-0.8020833334885538,-10.976388888899237,-3.045138888992369,-27.51666666660458,-13.504166666883975,-14.483333333395422,-6.8624999998137355,-3.2881944444961846,-26.48541666660458,-16.279861111193895,-5.7041666666045785,-13.65902777761221,-0.6354166665114462,-5.394444444216788,-1.1354166665114462,-9.90625,-0.8965277778916061,-12.91458333330229,-11.490972222294658,-13.674305555410683,-8.14791666669771,-12.436805555596948,-11.71875,-8.222916666883975,-19.249305555596948,-9.288888888899237,-5.74444444430992,-19.872916666790843,-3.3187500000931323,-22.671527777798474,-24.21527777798474,-17.470833333209157,-4.965972222387791,-2.2118055555038154,-10.993749999906868,-16.114583333488554,-11.234027777798474,-9.90347222238779,-16.10763888899237,-12.109722222201526,-13.469444444403052,-17.578472222201526,-8.487499999813735,-18.07708333339542,-7.052777777891606,-7.763888888992369,-21.15902777761221,-19.768055555410683,-10.938194444403052,-10.240277777891606,-22.776388888712972,-8.418055555783212,-14.043750000186265,-5.413194444496185,-1.3881944445893168,-9.299305555410683,-22.344444444403052,-4.868749999906868,-22.73333333339542,-7.22430555569008,-13.88888888899237,-7.631944444496185,-7.272916666697711,-9.20138888899237,-9.507638888899237,-16.168055555783212,-1.8277777777984738,-22.031944444403052,-7.020138889085501,-11.384722222108394,-7.710416666697711,-5.36944444430992,-15.089583333116025,0.5201388890855014,-3.7458333331160247,-16.140972222201526,-11.774999999906868,-24.181249999906868,-8.231250000186265,-24.554861111100763,1.2916666665114462,-11.104861110914499,-18.35208333330229,-11.014583333395422,1.2548611112870276,-10.899305555503815,-20.461111111100763,-10.072916666511446,-20.973611111287028,-14.754166666883975,-26.62222222238779,-15.186805555596948,-14.092361111193895,-15.872916666790843,-20.2298611109145,-22.1763888890855,-13.500694444403052,-12.893055555410683,-4.28680555569008,4.155555555596948,-23.611805555410683,-9.549305555410683,-13.406944444403052,-12.881250000093132,-2.109027777798474,-17.761805555783212,-19.42361111100763,-2.03125,-11.22708333330229,-6.618749999906868,-7.759722222108394,-9.54513888899237,-12.00277777761221,-24.106250000186265,-11.600000000093132,3.890972222201526,-20.92847222229466,-18.202777777798474,-9.225000000093132,-14.13055555569008,-14.091666666790843,-5.989583333488554,-16.325000000186265,-10.487499999813735,-6.002777777612209,-19.376388888806105,-12.276388888712972,-12.189583333209157,-5.481944444589317,-10.980555555783212,-9.959027777891606,-26.637500000186265,-13.03958333330229,-0.8826388888992369,-16.655555555596948,-13.230555555783212,-10.62777777761221,-14.100000000093132,-25.3548611109145,2.703472222201526,-14.511111110914499,-10.131250000093132,-8.186805555596948,-6.434027777984738,-16.705555555410683,-6.695833333302289,-23.297222222201526,-7.596527777612209,-13.833333333488554,-13.38333333330229,-17.563194444403052,-0.7631944445893168,-14.458333333488554,-25.36597222229466,-4.688888888806105,-10.96319444430992,-16.36597222229466,-12.239583333488554,-22.918055555783212,-5.504861111287028,-2.4375,-1.4722222220152617,-4.115277777891606,-6.5499999998137355,-14.865972222294658,-0.8881944445893168,1.5416666665114462,-19.85277777770534,-11.120833333116025,-8.522222222294658,-3.3326388890855014,-19.461805555503815,-10.83541666669771,-5.628472222015262,-7.103472222108394,-4.882638888899237,-12.515972222201526,-2.7388888890855014,1.8354166666977108,-4.662500000093132,-8.330555555410683,-4.072222222108394,-3.779166666790843,-16.04513888899237,-24.302777777891606,-13.825694444589317,-10.865972222294658,-3.673611111007631,-22.15972222201526,-23.31805555569008,-20.12222222238779,-4.541666666511446,-28.85277777770534,-5.095138888806105,5.190277777612209,-2.3187500000931323,-3.2854166668839753,-2.699305555783212,-9.427777777891606,4.2020833333954215,-15.088888888712972,-8.514583333395422,-17.71041666669771,-10.56527777761221,-13.43472222238779,-14.44583333330229,-26.154166666790843,5.213888888712972,-1.0361111112870276,-7.80694444430992,-13.270833333488554,-3.357638888992369,-9.447916666511446,-11.257638888899237,-14.504166666883975,-15.172916666604578,-7.729166666511446,-10.719444444403052,-8.527777777984738,-8.697222222108394,-13.59652777761221,-10.78125,-7.681249999906868,-0.7999999998137355,-9.353472222108394,-15.839583333116025,-9.365972222294658,-21.886805555783212,-2.771527777891606,-5.484722222201526,-17.92847222229466,-2.103472222108394,-11.855555555783212,-15.211111111100763,-8.764583333395422,-2.4715277776122093,-22.82708333339542,1.6548611111938953,-10.600694444496185,-15.25,-14.168750000186265,-13.154861111193895,4.003472222015262,1.095833333209157,-14.584722222294658,-7.43194444430992,-17.140972222201526,-15.113888889085501,-12.58819444430992,-0.7368055554106832,0.8999999999068677,-3.5354166668839753,-7.7937500001862645,-5.819444444496185,-3.2145833331160247,-4.184027777984738,-7.427083333488554,-19.54791666660458,-14.86666666669771,-12.356250000186265,-16.893749999813735,-10.765277777798474,-12.342361111193895,-2.7763888887129724,-13.399999999906868,-1.6381944445893168,-18.82083333330229,-17.59652777761221,-16.825694444589317,-9.479861110914499,-4.046527777798474,-15.30694444430992,-2.8777777776122093,-7.745138888712972,-20.25347222201526,-10.4375,-10.124305555596948,-14.13055555569008,-10.878472222015262,-10.644444444216788,-13.626388888806105,-25.347916666883975,-24.695138888899237,-17.67291666660458,-10.236805555410683,-17.69305555569008,-22.705555555410683,-15.92013888899237,-18.720833333209157,-20.25555555569008,-27.61666666669771,-21.120833333116025,-12.4375,-5.805555555503815,-6.928472222294658,-9.026388888712972,-15.885416666511446,-19.341666666790843,-11.855555555783212,-20.743749999906868,-6.032638888806105,-9.343055555596948,-15.915277777705342,-23.037500000093132,-10.90902777761221,-8.104861110914499,0.28472222201526165,-2.5208333334885538,-16.802083333488554,-17.55902777798474,-23.71319444430992,-22.95416666660458,-28.49722222238779,-1.4444444444961846,0.2909722221083939,-7.939583333209157,-7.7666666666045785,-15.011111110914499,-4.6395833333954215,-4.75,-26.006944444496185,-17.004861111287028,-3.165972222108394,-20.362499999813735,-15.829166666604578,-16.757638888899237,-23.79513888899237,-0.22708333330228925,-1.2687499998137355,-3.8374999999068677,-8.702777777798474,-7.674305555410683,-10.106250000186265,-10.309027777984738,-12.93472222238779,-11.973611111287028,-7.773611111100763,-13.851388888899237,-8.362499999813735,-9.763194444589317,-6.113888889085501,-17.749305555596948,-7.425694444216788,-18.140972222201526,-3.329861111007631,-24.40069444430992,-25.861805555410683,-8.680555555503815,-5.524999999906868,-10.56527777761221,-7.199305555783212,-14.582638889085501,-13.325694444589317,-9.90625,0.11249999981373549,-12.933333333116025,-12.603472222108394,-12.970138888806105,-19.356944444589317,0.025694444309920073,-7.430555555503815,-12.447916666511446,-21.254166666883975,-16.933333333116025,-1.2777777779847383,-7.4541666666045785,-3.765277777798474,-19.436111111193895,2.0534722222946584,-21.98541666660458,4.8312499998137355,-16.223611111287028,-12.810416666790843,-7.859027777798474,-4.438194444403052,-4.254861111287028,-8.50277777761221,-20.273611111100763,-4.402083333116025,-4.05694444430992,-12.462499999906868,-20.54861111100763,2.038888888899237,-18.479166666511446,-15.323611110914499,-12.481944444589317,-26.09097222238779,-11.895138889085501,-19.54583333339542,-15.890972222201526,-5.997222222387791,-13.509027777705342,-9.73611111100763,-8.174305555410683,-11.623611111193895,-25.02291666669771,-19.618055555503815,-12.838888888712972,-7.227777777705342,-17.92847222229466,-10.595833333209157,-11.82986111100763,-15.990277777891606,-0.7097222222946584,-6.584722222294658,1.4868055554106832,-12.97708333330229,-6.93194444430992,-12.378472222015262,-7.604861110914499,-0.71875,-11.350000000093132,-6.645833333488554,-22.626388888806105,-14.61666666669771,-18.134722222108394,-3.9458333333022892,-14.853472222108394,-6.209722222294658,-13.904166666790843,-15.90625,-2.8368055555038154,-15.747916666790843,-12.11666666669771,-3.2861111112870276,-11.259722222108394,-24.964583333116025,-13.364583333488554,-8.200000000186265,-2.322222222108394,-16.04027777770534,-1.5437500001862645,-8.935416666790843,-12.683333333116025,-15.02847222238779,-21.572916666511446,-11.211805555503815,0.3826388888992369,-13.602777777705342,-13.684027777984738,-25.941666666883975,-8.739583333488554,5.0812499998137355,-2.4069444444030523,-20.890277777798474,-6.254861111287028,-14.00277777761221,-10.995833333116025,-3.730555555783212,-9.343055555596948,-11.625694444403052,-16.833333333488554,-4.908333333209157,-5.46875,-19.98263888899237,0.17361111100763083,-7.517361111007631,-12.461805555503815,-19.422222222201526,-10.052777777891606,-17.588888888712972,-3.0868055555038154,-0.32847222220152617,-6.713888888712972,-8.00555555569008,-10.243749999906868,-15.014583333395422,-13.270138889085501,3.2611111109144986,-0.6215277779847383,-3.3743055555969477,-20.363194444216788,-3.6979166665114462,0.7930555557832122,-5.449305555783212,-12.09930555569008,-21.1138888890855,-7.192361111287028,-3.8111111111938953,-3.794444444589317,-3.033333333209157,-12.336111111100763,2.3743055555969477,-14.865972222294658,-7.604861110914499,-14.194444444496185,0.08958333311602473,-3.5284722223877907,-10.333333333488554,-7.131250000093132,-5.998611111193895,-8.672916666604578,-5.797222222201526,-2.5909722223877907,-10.61111111100763,-20.226388888899237,0.6805555555038154,-13.940972222015262,-16.658333333209157,-5.947916666511446,-11.358333333395422,-10.582638889085501,-2.492361111100763,-19.00277777761221,-23.9798611109145,-5.592361111193895,-11.978472222108394,-4.230555555783212,-17.418055555783212,-18.398611111100763,-23.174305555410683,-2.2097222222946584,-7.054861111100763,-2.40069444430992,-19.449305555783212,-8.825000000186265,0.7305555557832122,-27.101388888899237,-10.457638889085501,-15.85208333330229,-4.2645833333954215,-24.11666666669771,-6.330555555410683,-24.09375,-4.972916666883975,-14.042361110914499,-13.577777777798474,-11.168750000186265,-7.003472222015262,-13.345833333209157,-0.6006944444961846,-9.393749999813735,5.258333333302289,-2.5361111112870276,-14.670833333395422,-18.288194444496185,-22.146527777891606,-15.871527777984738,-11.742361111100763,-18.722916666883975,-19.97222222201526,-26.069444444496185,-8.242361111100763,-5.631944444496185,-9.242361111100763,-17.319444444496185,-16.129166666883975,-20.933333333116025,-11.226388888899237,-16.856250000186265,-13.75,-17.09027777798474,-7.760416666511446,-9.688888888806105,-13.613888889085501,-5.440277777612209,-22.822916666511446,-7.095833333209157,-12.478472222108394,-8.511805555783212,1.353472222108394,-16.33541666669771,-10.990277777891606,-16.78958333330229,-7.990972222294658,-9.407638888806105,-16.87152777798474,-0.6576388888061047,-9.541666666511446,-21.984722222201526,-4.042361110914499,-16.932638888712972,-4.750694444403052,-6.524999999906868,1.5590277779847383,-17.683333333116025,-2.236805555410683,-3.7798611111938953,-15.33541666669771,-10.327777777798474,-3.581944444216788,-2.6159722222946584,-10.354166666511446,-17.066666666883975,-0.4451388888992369,-17.07638888899237,-13.703472222201526,-14.725000000093132,-19.61111111100763,-14.742361111100763,2.200694444589317,-6.058333333116025,-18.961805555503815,-8.34097222238779,-17.8951388890855,-6.707638889085501,-7.883333333302289,-13.038194444496185,-5.212499999906868,-21.27777777798474,-0.34236111119389534,-2.7763888887129724,-14.756944444496185,-2.43194444430992,-13.407638888806105,-18.031944444403052,-15.783333333209157,-23.924305555410683,-14.131944444496185,-9.189583333209157,-11.136111110914499,-8.46875,-7.3583333333954215,-10.001388888806105,-11.90625,-13.90347222238779,-10.938888888806105,-16.069444444496185,-8.66458333330229,1.2138888887129724,-14.381250000093132,-7.498611111193895,-16.52222222229466,-6.855555555783212,-2.738194444216788,-12.174999999813735,-3.6708333333954215,-5.7374999998137355,-25.120833333116025,-9.62222222238779,-25.26736111100763,-5.061111111193895,-11.08819444430992,-16.436805555596948,-6.548611111007631,-15.865972222294658,-17.45416666660458,-7.0145833333954215,-13.402083333116025,-13.627083333209157,2.65069444430992,-14.068750000093132,-8.456249999813735,-16.259722222108394,-4.865972222294658,-20.554861111100763,-8.584027777891606,-17.242361111100763,-4.307638888712972,-11.928472222294658,-8.96041666669771,-24.049305555410683,-10.311111111193895,-18.78125,-15.47430555569008,-5.434722222387791,-6.989583333488554,-17.96041666669771,-16.550694444216788,-15.92916666669771,-6.306249999906868,-26.73333333339542,-11.28680555569008,-7.689583333209157,-16.94652777770534,-14.56805555569008,-7.668055555783212,-11.336805555503815,-15.000694444403052,-12.238888889085501,-18.356944444589317,-24.970138888806105,-14.963888888712972,-2.0458333333954215,3.580555555410683,-15.157638888806105,-4.52569444430992,-19.629861111287028,-17.84027777798474,-2.954861111007631,-3.674305555410683,-11.159722222015262,-7.580555555410683,-13.029861111193895,-8.641666666604578,0.8645833334885538,-14.325694444589317,-11.472222222015262,-1.625,-9.788194444496185,-15.959027777891606,-13.722916666883975,-1.5534722222946584,-14.934027777984738,-6.024305555503815,-15.30416666669771,-10.965277777984738,0.1104166666045785,-12.878472222015262,-18.464583333116025,-22.808333333116025,-18.136805555783212,-19.202777777798474,-20.779166666790843,-18.46527777798474,-21.15902777761221,-17.742361111100763,-17.63958333339542,-7.517361111007631,-12.334722222294658,-4.897916666697711,1.7986111110076308,2.263194444589317,-4.061111111193895,-16.445138888899237,-19.439583333209157,-20.69583333330229,-8.456249999813735,-9.34652777761221,-9.840277777984738,-6.5458333333954215,-6.472222222015262,-21.074305555783212,-11.968055555596948,-11.180555555503815,-9.080555555410683,-2.25,-26.353472222108394,-15.464583333116025],\"yaxis\":\"y\",\"type\":\"scatter\"}],                        {\"template\":{\"data\":{\"histogram2dcontour\":[{\"type\":\"histogram2dcontour\",\"colorbar\":{\"outlinewidth\":0,\"ticks\":\"\"},\"colorscale\":[[0.0,\"#0d0887\"],[0.1111111111111111,\"#46039f\"],[0.2222222222222222,\"#7201a8\"],[0.3333333333333333,\"#9c179e\"],[0.4444444444444444,\"#bd3786\"],[0.5555555555555556,\"#d8576b\"],[0.6666666666666666,\"#ed7953\"],[0.7777777777777778,\"#fb9f3a\"],[0.8888888888888888,\"#fdca26\"],[1.0,\"#f0f921\"]]}],\"choropleth\":[{\"type\":\"choropleth\",\"colorbar\":{\"outlinewidth\":0,\"ticks\":\"\"}}],\"histogram2d\":[{\"type\":\"histogram2d\",\"colorbar\":{\"outlinewidth\":0,\"ticks\":\"\"},\"colorscale\":[[0.0,\"#0d0887\"],[0.1111111111111111,\"#46039f\"],[0.2222222222222222,\"#7201a8\"],[0.3333333333333333,\"#9c179e\"],[0.4444444444444444,\"#bd3786\"],[0.5555555555555556,\"#d8576b\"],[0.6666666666666666,\"#ed7953\"],[0.7777777777777778,\"#fb9f3a\"],[0.8888888888888888,\"#fdca26\"],[1.0,\"#f0f921\"]]}],\"heatmap\":[{\"type\":\"heatmap\",\"colorbar\":{\"outlinewidth\":0,\"ticks\":\"\"},\"colorscale\":[[0.0,\"#0d0887\"],[0.1111111111111111,\"#46039f\"],[0.2222222222222222,\"#7201a8\"],[0.3333333333333333,\"#9c179e\"],[0.4444444444444444,\"#bd3786\"],[0.5555555555555556,\"#d8576b\"],[0.6666666666666666,\"#ed7953\"],[0.7777777777777778,\"#fb9f3a\"],[0.8888888888888888,\"#fdca26\"],[1.0,\"#f0f921\"]]}],\"heatmapgl\":[{\"type\":\"heatmapgl\",\"colorbar\":{\"outlinewidth\":0,\"ticks\":\"\"},\"colorscale\":[[0.0,\"#0d0887\"],[0.1111111111111111,\"#46039f\"],[0.2222222222222222,\"#7201a8\"],[0.3333333333333333,\"#9c179e\"],[0.4444444444444444,\"#bd3786\"],[0.5555555555555556,\"#d8576b\"],[0.6666666666666666,\"#ed7953\"],[0.7777777777777778,\"#fb9f3a\"],[0.8888888888888888,\"#fdca26\"],[1.0,\"#f0f921\"]]}],\"contourcarpet\":[{\"type\":\"contourcarpet\",\"colorbar\":{\"outlinewidth\":0,\"ticks\":\"\"}}],\"contour\":[{\"type\":\"contour\",\"colorbar\":{\"outlinewidth\":0,\"ticks\":\"\"},\"colorscale\":[[0.0,\"#0d0887\"],[0.1111111111111111,\"#46039f\"],[0.2222222222222222,\"#7201a8\"],[0.3333333333333333,\"#9c179e\"],[0.4444444444444444,\"#bd3786\"],[0.5555555555555556,\"#d8576b\"],[0.6666666666666666,\"#ed7953\"],[0.7777777777777778,\"#fb9f3a\"],[0.8888888888888888,\"#fdca26\"],[1.0,\"#f0f921\"]]}],\"surface\":[{\"type\":\"surface\",\"colorbar\":{\"outlinewidth\":0,\"ticks\":\"\"},\"colorscale\":[[0.0,\"#0d0887\"],[0.1111111111111111,\"#46039f\"],[0.2222222222222222,\"#7201a8\"],[0.3333333333333333,\"#9c179e\"],[0.4444444444444444,\"#bd3786\"],[0.5555555555555556,\"#d8576b\"],[0.6666666666666666,\"#ed7953\"],[0.7777777777777778,\"#fb9f3a\"],[0.8888888888888888,\"#fdca26\"],[1.0,\"#f0f921\"]]}],\"mesh3d\":[{\"type\":\"mesh3d\",\"colorbar\":{\"outlinewidth\":0,\"ticks\":\"\"}}],\"scatter\":[{\"fillpattern\":{\"fillmode\":\"overlay\",\"size\":10,\"solidity\":0.2},\"type\":\"scatter\"}],\"parcoords\":[{\"type\":\"parcoords\",\"line\":{\"colorbar\":{\"outlinewidth\":0,\"ticks\":\"\"}}}],\"scatterpolargl\":[{\"type\":\"scatterpolargl\",\"marker\":{\"colorbar\":{\"outlinewidth\":0,\"ticks\":\"\"}}}],\"bar\":[{\"error_x\":{\"color\":\"#2a3f5f\"},\"error_y\":{\"color\":\"#2a3f5f\"},\"marker\":{\"line\":{\"color\":\"#E5ECF6\",\"width\":0.5},\"pattern\":{\"fillmode\":\"overlay\",\"size\":10,\"solidity\":0.2}},\"type\":\"bar\"}],\"scattergeo\":[{\"type\":\"scattergeo\",\"marker\":{\"colorbar\":{\"outlinewidth\":0,\"ticks\":\"\"}}}],\"scatterpolar\":[{\"type\":\"scatterpolar\",\"marker\":{\"colorbar\":{\"outlinewidth\":0,\"ticks\":\"\"}}}],\"histogram\":[{\"marker\":{\"pattern\":{\"fillmode\":\"overlay\",\"size\":10,\"solidity\":0.2}},\"type\":\"histogram\"}],\"scattergl\":[{\"type\":\"scattergl\",\"marker\":{\"colorbar\":{\"outlinewidth\":0,\"ticks\":\"\"}}}],\"scatter3d\":[{\"type\":\"scatter3d\",\"line\":{\"colorbar\":{\"outlinewidth\":0,\"ticks\":\"\"}},\"marker\":{\"colorbar\":{\"outlinewidth\":0,\"ticks\":\"\"}}}],\"scattermapbox\":[{\"type\":\"scattermapbox\",\"marker\":{\"colorbar\":{\"outlinewidth\":0,\"ticks\":\"\"}}}],\"scatterternary\":[{\"type\":\"scatterternary\",\"marker\":{\"colorbar\":{\"outlinewidth\":0,\"ticks\":\"\"}}}],\"scattercarpet\":[{\"type\":\"scattercarpet\",\"marker\":{\"colorbar\":{\"outlinewidth\":0,\"ticks\":\"\"}}}],\"carpet\":[{\"aaxis\":{\"endlinecolor\":\"#2a3f5f\",\"gridcolor\":\"white\",\"linecolor\":\"white\",\"minorgridcolor\":\"white\",\"startlinecolor\":\"#2a3f5f\"},\"baxis\":{\"endlinecolor\":\"#2a3f5f\",\"gridcolor\":\"white\",\"linecolor\":\"white\",\"minorgridcolor\":\"white\",\"startlinecolor\":\"#2a3f5f\"},\"type\":\"carpet\"}],\"table\":[{\"cells\":{\"fill\":{\"color\":\"#EBF0F8\"},\"line\":{\"color\":\"white\"}},\"header\":{\"fill\":{\"color\":\"#C8D4E3\"},\"line\":{\"color\":\"white\"}},\"type\":\"table\"}],\"barpolar\":[{\"marker\":{\"line\":{\"color\":\"#E5ECF6\",\"width\":0.5},\"pattern\":{\"fillmode\":\"overlay\",\"size\":10,\"solidity\":0.2}},\"type\":\"barpolar\"}],\"pie\":[{\"automargin\":true,\"type\":\"pie\"}]},\"layout\":{\"autotypenumbers\":\"strict\",\"colorway\":[\"#636efa\",\"#EF553B\",\"#00cc96\",\"#ab63fa\",\"#FFA15A\",\"#19d3f3\",\"#FF6692\",\"#B6E880\",\"#FF97FF\",\"#FECB52\"],\"font\":{\"color\":\"#2a3f5f\"},\"hovermode\":\"closest\",\"hoverlabel\":{\"align\":\"left\"},\"paper_bgcolor\":\"white\",\"plot_bgcolor\":\"#E5ECF6\",\"polar\":{\"bgcolor\":\"#E5ECF6\",\"angularaxis\":{\"gridcolor\":\"white\",\"linecolor\":\"white\",\"ticks\":\"\"},\"radialaxis\":{\"gridcolor\":\"white\",\"linecolor\":\"white\",\"ticks\":\"\"}},\"ternary\":{\"bgcolor\":\"#E5ECF6\",\"aaxis\":{\"gridcolor\":\"white\",\"linecolor\":\"white\",\"ticks\":\"\"},\"baxis\":{\"gridcolor\":\"white\",\"linecolor\":\"white\",\"ticks\":\"\"},\"caxis\":{\"gridcolor\":\"white\",\"linecolor\":\"white\",\"ticks\":\"\"}},\"coloraxis\":{\"colorbar\":{\"outlinewidth\":0,\"ticks\":\"\"}},\"colorscale\":{\"sequential\":[[0.0,\"#0d0887\"],[0.1111111111111111,\"#46039f\"],[0.2222222222222222,\"#7201a8\"],[0.3333333333333333,\"#9c179e\"],[0.4444444444444444,\"#bd3786\"],[0.5555555555555556,\"#d8576b\"],[0.6666666666666666,\"#ed7953\"],[0.7777777777777778,\"#fb9f3a\"],[0.8888888888888888,\"#fdca26\"],[1.0,\"#f0f921\"]],\"sequentialminus\":[[0.0,\"#0d0887\"],[0.1111111111111111,\"#46039f\"],[0.2222222222222222,\"#7201a8\"],[0.3333333333333333,\"#9c179e\"],[0.4444444444444444,\"#bd3786\"],[0.5555555555555556,\"#d8576b\"],[0.6666666666666666,\"#ed7953\"],[0.7777777777777778,\"#fb9f3a\"],[0.8888888888888888,\"#fdca26\"],[1.0,\"#f0f921\"]],\"diverging\":[[0,\"#8e0152\"],[0.1,\"#c51b7d\"],[0.2,\"#de77ae\"],[0.3,\"#f1b6da\"],[0.4,\"#fde0ef\"],[0.5,\"#f7f7f7\"],[0.6,\"#e6f5d0\"],[0.7,\"#b8e186\"],[0.8,\"#7fbc41\"],[0.9,\"#4d9221\"],[1,\"#276419\"]]},\"xaxis\":{\"gridcolor\":\"white\",\"linecolor\":\"white\",\"ticks\":\"\",\"title\":{\"standoff\":15},\"zerolinecolor\":\"white\",\"automargin\":true,\"zerolinewidth\":2},\"yaxis\":{\"gridcolor\":\"white\",\"linecolor\":\"white\",\"ticks\":\"\",\"title\":{\"standoff\":15},\"zerolinecolor\":\"white\",\"automargin\":true,\"zerolinewidth\":2},\"scene\":{\"xaxis\":{\"backgroundcolor\":\"#E5ECF6\",\"gridcolor\":\"white\",\"linecolor\":\"white\",\"showbackground\":true,\"ticks\":\"\",\"zerolinecolor\":\"white\",\"gridwidth\":2},\"yaxis\":{\"backgroundcolor\":\"#E5ECF6\",\"gridcolor\":\"white\",\"linecolor\":\"white\",\"showbackground\":true,\"ticks\":\"\",\"zerolinecolor\":\"white\",\"gridwidth\":2},\"zaxis\":{\"backgroundcolor\":\"#E5ECF6\",\"gridcolor\":\"white\",\"linecolor\":\"white\",\"showbackground\":true,\"ticks\":\"\",\"zerolinecolor\":\"white\",\"gridwidth\":2}},\"shapedefaults\":{\"line\":{\"color\":\"#2a3f5f\"}},\"annotationdefaults\":{\"arrowcolor\":\"#2a3f5f\",\"arrowhead\":0,\"arrowwidth\":1},\"geo\":{\"bgcolor\":\"white\",\"landcolor\":\"#E5ECF6\",\"subunitcolor\":\"white\",\"showland\":true,\"showlakes\":true,\"lakecolor\":\"white\"},\"title\":{\"x\":0.05},\"mapbox\":{\"style\":\"light\"}}},\"xaxis\":{\"anchor\":\"y\",\"domain\":[0.0,1.0],\"title\":{\"text\":\"food_name\"}},\"yaxis\":{\"anchor\":\"x\",\"domain\":[0.0,1.0],\"title\":{\"text\":\"days_to_claim\"}},\"coloraxis\":{\"colorbar\":{\"title\":{\"text\":\"days_to_claim\"}},\"colorscale\":[[0.0,\"#0d0887\"],[0.1111111111111111,\"#46039f\"],[0.2222222222222222,\"#7201a8\"],[0.3333333333333333,\"#9c179e\"],[0.4444444444444444,\"#bd3786\"],[0.5555555555555556,\"#d8576b\"],[0.6666666666666666,\"#ed7953\"],[0.7777777777777778,\"#fb9f3a\"],[0.8888888888888888,\"#fdca26\"],[1.0,\"#f0f921\"]]},\"legend\":{\"tracegroupgap\":0},\"title\":{\"text\":\"⏱ Claim Speed (Days Between Listing & Claim)\"}},                        {\"responsive\": true}                    ).then(function(){\n",
              "                            \n",
              "var gd = document.getElementById('2745b4c3-6e9d-4d67-8746-eeb890e366f7');\n",
              "var x = new MutationObserver(function (mutations, observer) {{\n",
              "        var display = window.getComputedStyle(gd).display;\n",
              "        if (!display || display === 'none') {{\n",
              "            console.log([gd, 'removed!']);\n",
              "            Plotly.purge(gd);\n",
              "            observer.disconnect();\n",
              "        }}\n",
              "}});\n",
              "\n",
              "// Listen for the removal of the full notebook cells\n",
              "var notebookContainer = gd.closest('#notebook-container');\n",
              "if (notebookContainer) {{\n",
              "    x.observe(notebookContainer, {childList: true});\n",
              "}}\n",
              "\n",
              "// Listen for the clearing of the current output cell\n",
              "var outputEl = gd.closest('.output');\n",
              "if (outputEl) {{\n",
              "    x.observe(outputEl, {childList: true});\n",
              "}}\n",
              "\n",
              "                        })                };                            </script>        </div>\n",
              "</body>\n",
              "</html>"
            ]
          },
          "metadata": {}
        }
      ]
    },
    {
      "cell_type": "markdown",
      "source": [
        "**1️⃣ What is the plot?**\n",
        "\n",
        "👉 This is a strip (dot) plot showing the number of days it takes for each type of food item to be claimed after being listed.\n",
        "\n",
        "X-axis = Food categories (Dairy, Fruits, Bread, etc.)\n",
        "\n",
        "Y-axis = days_to_claim (positive values = slower claims, negative/near zero = faster claims).\n",
        "\n",
        "Color scale = claim speed gradient (yellow = slower, purple = faster).\n",
        "\n",
        "**2️⃣ Why this plot?**\n",
        "\n",
        "⚡ Speed of claim is crucial to reduce food waste. Perishable items should be claimed quickly, while non-perishables may take longer.\n",
        "This plot allows us to compare claim speeds across food types and identify which categories need intervention.\n",
        "\n",
        "\n",
        "**3️⃣ What the graph tells you (insights):**\n",
        "\n",
        "- 🍞 Bread, 🥛 Dairy, 🍗 Chicken, 🥗 Salad, and 🍎 Fruits → are claimed very fast (mostly clustering toward negative/low days).\n",
        "\n",
        "- 🍚 Rice, 🍝 Pasta, and 🥣 Soup → show slower claims, often taking longer to be picked up.\n",
        "\n",
        "- 🥦 Vegetables & 🐟 Fish → fall somewhere in between, with moderately fast claims.\n",
        "\n",
        "The overall spread shows that most items are claimed within a few days, but some outliers indicate delayed claims (5+ days)."
      ],
      "metadata": {
        "id": "78XSpab77-80"
      }
    },
    {
      "cell_type": "markdown",
      "source": [
        "#### 4. Food Type Wastage"
      ],
      "metadata": {
        "id": "Bt35tFnJrGNc"
      }
    },
    {
      "cell_type": "code",
      "source": [
        "# 🍽 Food Type Wastage\n",
        "df = pd.read_sql(\"\"\"\n",
        "SELECT food_type, COUNT(*) AS expired_count\n",
        "FROM food_listings\n",
        "WHERE DATE(expiry_date) < DATE('now')\n",
        "GROUP BY food_type\n",
        "ORDER BY expired_count DESC\n",
        "\"\"\", engine)"
      ],
      "metadata": {
        "id": "NIj7NBU-rJtY"
      },
      "execution_count": null,
      "outputs": []
    },
    {
      "cell_type": "code",
      "source": [
        "fig = px.bar(\n",
        "    df,\n",
        "    x=\"food_type\",\n",
        "    y=\"expired_count\",\n",
        "    title=\"🍽 Food Type Wastage\",\n",
        "    color=\"expired_count\",\n",
        "    text=\"expired_count\"  # show values on bars\n",
        ")\n",
        "\n",
        "fig.update_traces(\n",
        "    textposition=\"outside\",  # place text above bars\n",
        "    hovertemplate=\"Food Type: %{x}<br>Expired Count: %{y}\"\n",
        ")\n",
        "\n",
        "fig.update_layout(\n",
        "    xaxis=dict(tickangle=45),\n",
        "    title_x=0.5\n",
        ")\n",
        "\n",
        "fig.show()"
      ],
      "metadata": {
        "colab": {
          "base_uri": "https://localhost:8080/",
          "height": 542
        },
        "id": "CbWdPDX3rLby",
        "outputId": "eca8da9b-2772-4cb0-f832-833fc9fa1b1e"
      },
      "execution_count": null,
      "outputs": [
        {
          "output_type": "display_data",
          "data": {
            "text/html": [
              "<html>\n",
              "<head><meta charset=\"utf-8\" /></head>\n",
              "<body>\n",
              "    <div>            <script src=\"https://cdnjs.cloudflare.com/ajax/libs/mathjax/2.7.5/MathJax.js?config=TeX-AMS-MML_SVG\"></script><script type=\"text/javascript\">if (window.MathJax && window.MathJax.Hub && window.MathJax.Hub.Config) {window.MathJax.Hub.Config({SVG: {font: \"STIX-Web\"}});}</script>                <script type=\"text/javascript\">window.PlotlyConfig = {MathJaxConfig: 'local'};</script>\n",
              "        <script charset=\"utf-8\" src=\"https://cdn.plot.ly/plotly-2.35.2.min.js\"></script>                <div id=\"134b2f96-ea4f-4480-a172-7298b95b9340\" class=\"plotly-graph-div\" style=\"height:525px; width:100%;\"></div>            <script type=\"text/javascript\">                                    window.PLOTLYENV=window.PLOTLYENV || {};                                    if (document.getElementById(\"134b2f96-ea4f-4480-a172-7298b95b9340\")) {                    Plotly.newPlot(                        \"134b2f96-ea4f-4480-a172-7298b95b9340\",                        [{\"alignmentgroup\":\"True\",\"hovertemplate\":\"Food Type: %{x}\\u003cbr\\u003eExpired Count: %{y}\",\"legendgroup\":\"\",\"marker\":{\"color\":[336,334,330],\"coloraxis\":\"coloraxis\",\"pattern\":{\"shape\":\"\"}},\"name\":\"\",\"offsetgroup\":\"\",\"orientation\":\"v\",\"showlegend\":false,\"text\":[336.0,334.0,330.0],\"textposition\":\"outside\",\"x\":[\"Vegetarian\",\"Vegan\",\"Non-Vegetarian\"],\"xaxis\":\"x\",\"y\":[336,334,330],\"yaxis\":\"y\",\"type\":\"bar\"}],                        {\"template\":{\"data\":{\"histogram2dcontour\":[{\"type\":\"histogram2dcontour\",\"colorbar\":{\"outlinewidth\":0,\"ticks\":\"\"},\"colorscale\":[[0.0,\"#0d0887\"],[0.1111111111111111,\"#46039f\"],[0.2222222222222222,\"#7201a8\"],[0.3333333333333333,\"#9c179e\"],[0.4444444444444444,\"#bd3786\"],[0.5555555555555556,\"#d8576b\"],[0.6666666666666666,\"#ed7953\"],[0.7777777777777778,\"#fb9f3a\"],[0.8888888888888888,\"#fdca26\"],[1.0,\"#f0f921\"]]}],\"choropleth\":[{\"type\":\"choropleth\",\"colorbar\":{\"outlinewidth\":0,\"ticks\":\"\"}}],\"histogram2d\":[{\"type\":\"histogram2d\",\"colorbar\":{\"outlinewidth\":0,\"ticks\":\"\"},\"colorscale\":[[0.0,\"#0d0887\"],[0.1111111111111111,\"#46039f\"],[0.2222222222222222,\"#7201a8\"],[0.3333333333333333,\"#9c179e\"],[0.4444444444444444,\"#bd3786\"],[0.5555555555555556,\"#d8576b\"],[0.6666666666666666,\"#ed7953\"],[0.7777777777777778,\"#fb9f3a\"],[0.8888888888888888,\"#fdca26\"],[1.0,\"#f0f921\"]]}],\"heatmap\":[{\"type\":\"heatmap\",\"colorbar\":{\"outlinewidth\":0,\"ticks\":\"\"},\"colorscale\":[[0.0,\"#0d0887\"],[0.1111111111111111,\"#46039f\"],[0.2222222222222222,\"#7201a8\"],[0.3333333333333333,\"#9c179e\"],[0.4444444444444444,\"#bd3786\"],[0.5555555555555556,\"#d8576b\"],[0.6666666666666666,\"#ed7953\"],[0.7777777777777778,\"#fb9f3a\"],[0.8888888888888888,\"#fdca26\"],[1.0,\"#f0f921\"]]}],\"heatmapgl\":[{\"type\":\"heatmapgl\",\"colorbar\":{\"outlinewidth\":0,\"ticks\":\"\"},\"colorscale\":[[0.0,\"#0d0887\"],[0.1111111111111111,\"#46039f\"],[0.2222222222222222,\"#7201a8\"],[0.3333333333333333,\"#9c179e\"],[0.4444444444444444,\"#bd3786\"],[0.5555555555555556,\"#d8576b\"],[0.6666666666666666,\"#ed7953\"],[0.7777777777777778,\"#fb9f3a\"],[0.8888888888888888,\"#fdca26\"],[1.0,\"#f0f921\"]]}],\"contourcarpet\":[{\"type\":\"contourcarpet\",\"colorbar\":{\"outlinewidth\":0,\"ticks\":\"\"}}],\"contour\":[{\"type\":\"contour\",\"colorbar\":{\"outlinewidth\":0,\"ticks\":\"\"},\"colorscale\":[[0.0,\"#0d0887\"],[0.1111111111111111,\"#46039f\"],[0.2222222222222222,\"#7201a8\"],[0.3333333333333333,\"#9c179e\"],[0.4444444444444444,\"#bd3786\"],[0.5555555555555556,\"#d8576b\"],[0.6666666666666666,\"#ed7953\"],[0.7777777777777778,\"#fb9f3a\"],[0.8888888888888888,\"#fdca26\"],[1.0,\"#f0f921\"]]}],\"surface\":[{\"type\":\"surface\",\"colorbar\":{\"outlinewidth\":0,\"ticks\":\"\"},\"colorscale\":[[0.0,\"#0d0887\"],[0.1111111111111111,\"#46039f\"],[0.2222222222222222,\"#7201a8\"],[0.3333333333333333,\"#9c179e\"],[0.4444444444444444,\"#bd3786\"],[0.5555555555555556,\"#d8576b\"],[0.6666666666666666,\"#ed7953\"],[0.7777777777777778,\"#fb9f3a\"],[0.8888888888888888,\"#fdca26\"],[1.0,\"#f0f921\"]]}],\"mesh3d\":[{\"type\":\"mesh3d\",\"colorbar\":{\"outlinewidth\":0,\"ticks\":\"\"}}],\"scatter\":[{\"fillpattern\":{\"fillmode\":\"overlay\",\"size\":10,\"solidity\":0.2},\"type\":\"scatter\"}],\"parcoords\":[{\"type\":\"parcoords\",\"line\":{\"colorbar\":{\"outlinewidth\":0,\"ticks\":\"\"}}}],\"scatterpolargl\":[{\"type\":\"scatterpolargl\",\"marker\":{\"colorbar\":{\"outlinewidth\":0,\"ticks\":\"\"}}}],\"bar\":[{\"error_x\":{\"color\":\"#2a3f5f\"},\"error_y\":{\"color\":\"#2a3f5f\"},\"marker\":{\"line\":{\"color\":\"#E5ECF6\",\"width\":0.5},\"pattern\":{\"fillmode\":\"overlay\",\"size\":10,\"solidity\":0.2}},\"type\":\"bar\"}],\"scattergeo\":[{\"type\":\"scattergeo\",\"marker\":{\"colorbar\":{\"outlinewidth\":0,\"ticks\":\"\"}}}],\"scatterpolar\":[{\"type\":\"scatterpolar\",\"marker\":{\"colorbar\":{\"outlinewidth\":0,\"ticks\":\"\"}}}],\"histogram\":[{\"marker\":{\"pattern\":{\"fillmode\":\"overlay\",\"size\":10,\"solidity\":0.2}},\"type\":\"histogram\"}],\"scattergl\":[{\"type\":\"scattergl\",\"marker\":{\"colorbar\":{\"outlinewidth\":0,\"ticks\":\"\"}}}],\"scatter3d\":[{\"type\":\"scatter3d\",\"line\":{\"colorbar\":{\"outlinewidth\":0,\"ticks\":\"\"}},\"marker\":{\"colorbar\":{\"outlinewidth\":0,\"ticks\":\"\"}}}],\"scattermapbox\":[{\"type\":\"scattermapbox\",\"marker\":{\"colorbar\":{\"outlinewidth\":0,\"ticks\":\"\"}}}],\"scatterternary\":[{\"type\":\"scatterternary\",\"marker\":{\"colorbar\":{\"outlinewidth\":0,\"ticks\":\"\"}}}],\"scattercarpet\":[{\"type\":\"scattercarpet\",\"marker\":{\"colorbar\":{\"outlinewidth\":0,\"ticks\":\"\"}}}],\"carpet\":[{\"aaxis\":{\"endlinecolor\":\"#2a3f5f\",\"gridcolor\":\"white\",\"linecolor\":\"white\",\"minorgridcolor\":\"white\",\"startlinecolor\":\"#2a3f5f\"},\"baxis\":{\"endlinecolor\":\"#2a3f5f\",\"gridcolor\":\"white\",\"linecolor\":\"white\",\"minorgridcolor\":\"white\",\"startlinecolor\":\"#2a3f5f\"},\"type\":\"carpet\"}],\"table\":[{\"cells\":{\"fill\":{\"color\":\"#EBF0F8\"},\"line\":{\"color\":\"white\"}},\"header\":{\"fill\":{\"color\":\"#C8D4E3\"},\"line\":{\"color\":\"white\"}},\"type\":\"table\"}],\"barpolar\":[{\"marker\":{\"line\":{\"color\":\"#E5ECF6\",\"width\":0.5},\"pattern\":{\"fillmode\":\"overlay\",\"size\":10,\"solidity\":0.2}},\"type\":\"barpolar\"}],\"pie\":[{\"automargin\":true,\"type\":\"pie\"}]},\"layout\":{\"autotypenumbers\":\"strict\",\"colorway\":[\"#636efa\",\"#EF553B\",\"#00cc96\",\"#ab63fa\",\"#FFA15A\",\"#19d3f3\",\"#FF6692\",\"#B6E880\",\"#FF97FF\",\"#FECB52\"],\"font\":{\"color\":\"#2a3f5f\"},\"hovermode\":\"closest\",\"hoverlabel\":{\"align\":\"left\"},\"paper_bgcolor\":\"white\",\"plot_bgcolor\":\"#E5ECF6\",\"polar\":{\"bgcolor\":\"#E5ECF6\",\"angularaxis\":{\"gridcolor\":\"white\",\"linecolor\":\"white\",\"ticks\":\"\"},\"radialaxis\":{\"gridcolor\":\"white\",\"linecolor\":\"white\",\"ticks\":\"\"}},\"ternary\":{\"bgcolor\":\"#E5ECF6\",\"aaxis\":{\"gridcolor\":\"white\",\"linecolor\":\"white\",\"ticks\":\"\"},\"baxis\":{\"gridcolor\":\"white\",\"linecolor\":\"white\",\"ticks\":\"\"},\"caxis\":{\"gridcolor\":\"white\",\"linecolor\":\"white\",\"ticks\":\"\"}},\"coloraxis\":{\"colorbar\":{\"outlinewidth\":0,\"ticks\":\"\"}},\"colorscale\":{\"sequential\":[[0.0,\"#0d0887\"],[0.1111111111111111,\"#46039f\"],[0.2222222222222222,\"#7201a8\"],[0.3333333333333333,\"#9c179e\"],[0.4444444444444444,\"#bd3786\"],[0.5555555555555556,\"#d8576b\"],[0.6666666666666666,\"#ed7953\"],[0.7777777777777778,\"#fb9f3a\"],[0.8888888888888888,\"#fdca26\"],[1.0,\"#f0f921\"]],\"sequentialminus\":[[0.0,\"#0d0887\"],[0.1111111111111111,\"#46039f\"],[0.2222222222222222,\"#7201a8\"],[0.3333333333333333,\"#9c179e\"],[0.4444444444444444,\"#bd3786\"],[0.5555555555555556,\"#d8576b\"],[0.6666666666666666,\"#ed7953\"],[0.7777777777777778,\"#fb9f3a\"],[0.8888888888888888,\"#fdca26\"],[1.0,\"#f0f921\"]],\"diverging\":[[0,\"#8e0152\"],[0.1,\"#c51b7d\"],[0.2,\"#de77ae\"],[0.3,\"#f1b6da\"],[0.4,\"#fde0ef\"],[0.5,\"#f7f7f7\"],[0.6,\"#e6f5d0\"],[0.7,\"#b8e186\"],[0.8,\"#7fbc41\"],[0.9,\"#4d9221\"],[1,\"#276419\"]]},\"xaxis\":{\"gridcolor\":\"white\",\"linecolor\":\"white\",\"ticks\":\"\",\"title\":{\"standoff\":15},\"zerolinecolor\":\"white\",\"automargin\":true,\"zerolinewidth\":2},\"yaxis\":{\"gridcolor\":\"white\",\"linecolor\":\"white\",\"ticks\":\"\",\"title\":{\"standoff\":15},\"zerolinecolor\":\"white\",\"automargin\":true,\"zerolinewidth\":2},\"scene\":{\"xaxis\":{\"backgroundcolor\":\"#E5ECF6\",\"gridcolor\":\"white\",\"linecolor\":\"white\",\"showbackground\":true,\"ticks\":\"\",\"zerolinecolor\":\"white\",\"gridwidth\":2},\"yaxis\":{\"backgroundcolor\":\"#E5ECF6\",\"gridcolor\":\"white\",\"linecolor\":\"white\",\"showbackground\":true,\"ticks\":\"\",\"zerolinecolor\":\"white\",\"gridwidth\":2},\"zaxis\":{\"backgroundcolor\":\"#E5ECF6\",\"gridcolor\":\"white\",\"linecolor\":\"white\",\"showbackground\":true,\"ticks\":\"\",\"zerolinecolor\":\"white\",\"gridwidth\":2}},\"shapedefaults\":{\"line\":{\"color\":\"#2a3f5f\"}},\"annotationdefaults\":{\"arrowcolor\":\"#2a3f5f\",\"arrowhead\":0,\"arrowwidth\":1},\"geo\":{\"bgcolor\":\"white\",\"landcolor\":\"#E5ECF6\",\"subunitcolor\":\"white\",\"showland\":true,\"showlakes\":true,\"lakecolor\":\"white\"},\"title\":{\"x\":0.05},\"mapbox\":{\"style\":\"light\"}}},\"xaxis\":{\"anchor\":\"y\",\"domain\":[0.0,1.0],\"title\":{\"text\":\"food_type\"},\"tickangle\":45},\"yaxis\":{\"anchor\":\"x\",\"domain\":[0.0,1.0],\"title\":{\"text\":\"expired_count\"}},\"coloraxis\":{\"colorbar\":{\"title\":{\"text\":\"expired_count\"}},\"colorscale\":[[0.0,\"#0d0887\"],[0.1111111111111111,\"#46039f\"],[0.2222222222222222,\"#7201a8\"],[0.3333333333333333,\"#9c179e\"],[0.4444444444444444,\"#bd3786\"],[0.5555555555555556,\"#d8576b\"],[0.6666666666666666,\"#ed7953\"],[0.7777777777777778,\"#fb9f3a\"],[0.8888888888888888,\"#fdca26\"],[1.0,\"#f0f921\"]]},\"legend\":{\"tracegroupgap\":0},\"title\":{\"text\":\"🍽 Food Type Wastage\",\"x\":0.5},\"barmode\":\"relative\"},                        {\"responsive\": true}                    ).then(function(){\n",
              "                            \n",
              "var gd = document.getElementById('134b2f96-ea4f-4480-a172-7298b95b9340');\n",
              "var x = new MutationObserver(function (mutations, observer) {{\n",
              "        var display = window.getComputedStyle(gd).display;\n",
              "        if (!display || display === 'none') {{\n",
              "            console.log([gd, 'removed!']);\n",
              "            Plotly.purge(gd);\n",
              "            observer.disconnect();\n",
              "        }}\n",
              "}});\n",
              "\n",
              "// Listen for the removal of the full notebook cells\n",
              "var notebookContainer = gd.closest('#notebook-container');\n",
              "if (notebookContainer) {{\n",
              "    x.observe(notebookContainer, {childList: true});\n",
              "}}\n",
              "\n",
              "// Listen for the clearing of the current output cell\n",
              "var outputEl = gd.closest('.output');\n",
              "if (outputEl) {{\n",
              "    x.observe(outputEl, {childList: true});\n",
              "}}\n",
              "\n",
              "                        })                };                            </script>        </div>\n",
              "</body>\n",
              "</html>"
            ]
          },
          "metadata": {}
        }
      ]
    },
    {
      "cell_type": "markdown",
      "source": [
        "**1️⃣ What is the plot?**\n",
        "\n",
        "👉 This is a bar chart comparing the number of expired food items across Vegetarian, Vegan, and Non-Vegetarian categories.\n",
        "\n",
        "**2️⃣ Why this plot?**\n",
        "\n",
        "📊 The aim is to compare expiry risks across diet categories.\n",
        "This helps identify which type of food is more prone to wastage so targeted strategies (like faster claims, better storage, or donation urgency) can be applied.\n",
        "\n",
        "**3️⃣ What the graph tells you (insights):**\n",
        "\n",
        "- 🥦 Vegetarian food → 336 expiries (highest)\n",
        "\n",
        "- 🌱 Vegan food → 334 expiries (slightly lower)\n",
        "\n",
        "- 🍗 Non-Vegetarian food → 330 expiries (lowest)\n",
        "\n",
        "Overall, expiry rates are high across all categories, showing that waste is a broad issue, not just specific to one type.\n",
        "\n",
        "The difference between categories is small, meaning storage/claim delays affect all food equally."
      ],
      "metadata": {
        "id": "IA01nHZm8W-W"
      }
    },
    {
      "cell_type": "markdown",
      "source": [
        "## 7. CRUD Operations"
      ],
      "metadata": {
        "id": "zKQmhg9qW3cW"
      }
    },
    {
      "cell_type": "markdown",
      "source": [
        "**🛠 CRUD Operations Explained**\n",
        "\n",
        "**1️⃣ C – Create (Add new data)** 📥 ➕\n",
        "\n",
        "Means adding new records (like adding a new provider, receiver, or food listing).\n",
        "\n",
        "Example: \"A new restaurant joins as a provider 🍴 → you add their details into the database.\"\n",
        "\n",
        "\n",
        "---\n",
        "\n",
        "\n",
        "\n",
        "**2️⃣ R – Read (View data)** 📖 👀\n",
        "\n",
        "Means retrieving and displaying existing records without changing them.\n",
        "\n",
        "Example: \"Checking the list of receivers 📝 to see who claimed food yesterday.\"\n",
        "\n",
        "\n",
        "\n",
        "---\n",
        "\n",
        "\n",
        "\n",
        "**3️⃣ U – Update (Modify data)** ✏️ 🔄\n",
        "\n",
        "Means editing or updating existing records.\n",
        "\n",
        "Example: \"If a provider changes their contact number 📱, update it in the database.\"\n",
        "\n",
        "\n",
        "\n",
        "---\n",
        "\n",
        "\n",
        "\n",
        "**4️⃣ D – Delete (Remove data)** 🗑 ❌\n",
        "\n",
        "Means removing records permanently from the database.\n",
        "\n",
        "Example: \"A receiver organization shuts down 🏢, so their record is deleted.\"\n",
        "\n",
        "\n",
        "---\n",
        "\n",
        "✅ Together, CRUD = Create, Read, Update, Delete\n",
        "It’s the full lifecycle of managing data in any system 📊"
      ],
      "metadata": {
        "id": "hJNUG0py9aWE"
      }
    },
    {
      "cell_type": "code",
      "source": [
        "# 🔗 Connect to DB\n",
        "engine = create_engine(\"sqlite:///food_waste.db\")\n",
        "Session = sessionmaker(bind=engine)\n",
        "session = Session()\n",
        "\n",
        "# ================== CREATE FUNCTIONS ==================\n",
        "def create_record(table):\n",
        "    if table == \"providers\":\n",
        "        name = input(\"Name: \").title()\n",
        "        type_ = input(\"Type: \").title()\n",
        "        address = input(\"Address: \").strip()\n",
        "        city = input(\"City: \").title()\n",
        "        contact = input(\"Contact: \").strip()\n",
        "        provider = Provider(name=name, type=type_, address=address, city=city, contact=contact)\n",
        "        session.add(provider)\n",
        "\n",
        "    elif table == \"receivers\":\n",
        "        name = input(\"Name: \").title()\n",
        "        type_ = input(\"Type: \").title()\n",
        "        city = input(\"City: \").title()\n",
        "        contact = input(\"Contact: \").strip()\n",
        "        receiver = Receiver(name=name, type=type_, city=city, contact=contact)\n",
        "        session.add(receiver)\n",
        "\n",
        "    elif table == \"food_listings\":\n",
        "        food_name = input(\"Food Name: \").title()\n",
        "        quantity = int(input(\"Quantity: \"))\n",
        "        expiry_date = datetime.strptime(input(\"Expiry Date (YYYY-MM-DD): \"), \"%Y-%m-%d\").date()\n",
        "        provider_id = int(input(\"Provider ID: \"))\n",
        "        provider_type = input(\"Provider Type: \").title()\n",
        "        location = input(\"Location: \").title()\n",
        "        food_type = input(\"Food Type: \").title()\n",
        "        meal_type = input(\"Meal Type: \").title()\n",
        "        listing = FoodListing(food_name=food_name, quantity=quantity, expiry_date=expiry_date,\n",
        "                              provider_id=provider_id, provider_type=provider_type, location=location,\n",
        "                              food_type=food_type, meal_type=meal_type)\n",
        "        session.add(listing)\n",
        "\n",
        "    elif table == \"claims\":\n",
        "        food_id = int(input(\"Food ID: \"))\n",
        "        receiver_id = int(input(\"Receiver ID: \"))\n",
        "        status = input(\"Status: \").title()\n",
        "        timestamp = datetime.strptime(input(\"Timestamp (YYYY-MM-DD HH:MM:SS): \"), \"%Y-%m-%d %H:%M:%S\")\n",
        "        claim = Claim(food_id=food_id, receiver_id=receiver_id, status=status, timestamp=timestamp)\n",
        "        session.add(claim)\n",
        "\n",
        "    session.commit()\n",
        "    print(f\"✅ New record added to {table}!\")\n",
        "\n",
        "# ================== READ FUNCTION ==================\n",
        "def read_records(table, limit=5):\n",
        "    model = {\"providers\": Provider, \"receivers\": Receiver,\n",
        "             \"food_listings\": FoodListing, \"claims\": Claim}[table]\n",
        "    records = session.query(model).limit(limit).all()\n",
        "    print(f\"📄 Showing first {limit} records from {table}:\")\n",
        "    for r in records:\n",
        "        print(r.__dict__)\n",
        "\n",
        "# ================== UPDATE FUNCTION ==================\n",
        "def update_record(table, record_id):\n",
        "    model = {\"providers\": Provider, \"receivers\": Receiver,\n",
        "             \"food_listings\": FoodListing, \"claims\": Claim}[table]\n",
        "    record = session.query(model).filter_by(**{f\"{table[:-1]}_id\": record_id}).first()\n",
        "    if not record:\n",
        "        print(\"❌ Record not found!\")\n",
        "        return\n",
        "\n",
        "    for col in record.__table__.columns.keys():\n",
        "        if col != f\"{table[:-1]}_id\":\n",
        "            new_val = input(f\"New value for {col} (leave blank to keep current): \")\n",
        "            if new_val:\n",
        "                if \"date\" in col.lower():\n",
        "                    new_val = datetime.strptime(new_val, \"%Y-%m-%d\").date()\n",
        "                elif \"time\" in col.lower():\n",
        "                    new_val = datetime.strptime(new_val, \"%Y-%m-%d %H:%M:%S\")\n",
        "                elif new_val.isdigit():\n",
        "                    new_val = int(new_val)\n",
        "                setattr(record, col, new_val)\n",
        "\n",
        "    session.commit()\n",
        "    print(f\"✏️ Record ID {record_id} updated in {table}.\")\n",
        "\n",
        "# ================== DELETE FUNCTION ==================\n",
        "def delete_record(table, record_id):\n",
        "    model = {\"providers\": Provider, \"receivers\": Receiver,\n",
        "             \"food_listings\": FoodListing, \"claims\": Claim}[table]\n",
        "    record = session.query(model).filter_by(**{f\"{table[:-1]}_id\": record_id}).first()\n",
        "    if record:\n",
        "        session.delete(record)\n",
        "        session.commit()\n",
        "        print(f\"🗑 Record ID {record_id} deleted from {table}.\")\n",
        "    else:\n",
        "        print(\"❌ Record not found!\")\n",
        "\n",
        "# ================== MAIN CRUD MENU ==================\n",
        "def crud_menu():\n",
        "    while True:\n",
        "        print(\"\\n📌 CRUD MENU\")\n",
        "        print(\"1️⃣ Create\\n2️⃣ Read\\n3️⃣ Update\\n4️⃣ Delete\\n5️⃣ Exit\")\n",
        "        choice = input(\"Choose an option: \").strip()\n",
        "\n",
        "        if choice == \"5\":\n",
        "            print(\"👋 Exiting CRUD menu.\")\n",
        "            break\n",
        "\n",
        "        table = input(\"Enter table (providers, receivers, food_listings, claims): \").strip().lower()\n",
        "        if table not in [\"providers\", \"receivers\", \"food_listings\", \"claims\"]:\n",
        "            print(\"❌ Invalid table name!\")\n",
        "            continue\n",
        "\n",
        "        if choice == \"1\":\n",
        "            create_record(table)\n",
        "        elif choice == \"2\":\n",
        "            limit = int(input(\"How many records to view? \"))\n",
        "            read_records(table, limit)\n",
        "        elif choice == \"3\":\n",
        "            record_id = int(input(f\"Enter {table[:-1].title()} ID to update: \"))\n",
        "            update_record(table, record_id)\n",
        "        elif choice == \"4\":\n",
        "            record_id = int(input(f\"Enter {table[:-1].title()} ID to delete: \"))\n",
        "            delete_record(table, record_id)\n",
        "        else:\n",
        "            print(\"❌ Invalid choice!\")\n",
        "\n",
        "# ================== Run Menu ==================\n",
        "# crud_menu()"
      ],
      "metadata": {
        "id": "bR9ZpNMovi59"
      },
      "execution_count": null,
      "outputs": []
    },
    {
      "cell_type": "markdown",
      "source": [
        "## 8. Report on Wastage Trends"
      ],
      "metadata": {
        "id": "9nbiz_9WtUzV"
      }
    },
    {
      "cell_type": "code",
      "source": [
        "# 🛠 Step 1: Create Wastage Trends Report Table\n",
        "create_query = \"\"\"\n",
        "CREATE TABLE IF NOT EXISTS report_food_wastage_trends AS\n",
        "SELECT\n",
        "    fl.food_type,\n",
        "    fl.meal_type,\n",
        "    p.city AS provider_city,\n",
        "    COUNT(CASE WHEN DATE(fl.expiry_date) < DATE('now') THEN 1 END) AS expired_count,\n",
        "    COUNT(CASE WHEN DATE(fl.expiry_date) BETWEEN DATE('now') AND DATE('now', '+3 days') THEN 1 END) AS expiring_soon_count,\n",
        "    COUNT(*) AS total_items\n",
        "FROM food_listings fl\n",
        "JOIN providers p ON fl.provider_id = p.provider_id\n",
        "GROUP BY fl.food_type, fl.meal_type, p.city\n",
        "ORDER BY expired_count DESC, expiring_soon_count DESC;\n",
        "\"\"\"\n",
        "\n",
        "with engine.connect() as conn:\n",
        "    conn.execute(text(create_query))\n",
        "    print(\"📊 Food Wastage Trends table created successfully!\")\n",
        "\n",
        "# 📥 Step 2: Load the Report Table\n",
        "df = pd.read_sql(\"SELECT * FROM report_food_wastage_trends\", engine)\n",
        "\n",
        "# ================== 1️⃣ Stacked Bar Chart ==================\n",
        "fig1 = px.bar(\n",
        "    df,\n",
        "    x=\"provider_city\",\n",
        "    y=[\"expired_count\", \"expiring_soon_count\"],\n",
        "    title=\"📊 Food Wastage by City (Expired vs Expiring Soon)\",\n",
        "    labels={\"value\": \"Number of Items\", \"provider_city\": \"City\"},\n",
        "    barmode=\"stack\"\n",
        ")\n",
        "fig1.show()\n",
        "\n",
        "# ================== 2️⃣ Bar Plot ==================\n",
        "\n",
        "# Group and sort cities by expired_count\n",
        "city_wastage_ranked = (\n",
        "    df.groupby(\"provider_city\", as_index=False)\n",
        "      .agg(expired_count=(\"expired_count\", \"sum\"))\n",
        "      .sort_values(\"expired_count\", ascending=False)\n",
        "      .head(10)  # Top 10\n",
        ")\n",
        "\n",
        "fig2 = px.bar(\n",
        "    city_wastage_ranked,\n",
        "    x=\"provider_city\",\n",
        "    y=\"expired_count\",\n",
        "    title=\"🏙 Top Cities with Most Food Wastage\",\n",
        "    labels={\"provider_city\": \"City\", \"expired_count\": \"Expired Items\"},\n",
        "    text=\"expired_count\",\n",
        "    color=\"expired_count\",\n",
        "    color_continuous_scale=\"Reds\"\n",
        ")\n",
        "\n",
        "fig2.update_traces(textposition=\"outside\")\n",
        "fig2.show()\n",
        "\n",
        "\n",
        "# ================== 3️⃣ Heatmap: Food Type vs Meal Type ==================\n",
        "heat_data = df.groupby([\"food_type\", \"meal_type\"], as_index=False)[\"expired_count\"].sum()\n",
        "heat_pivot = heat_data.pivot(index=\"food_type\", columns=\"meal_type\", values=\"expired_count\").fillna(0)\n",
        "\n",
        "fig3 = px.imshow(\n",
        "    heat_pivot,\n",
        "    text_auto=True,\n",
        "    color_continuous_scale=\"Reds\",\n",
        "    title=\"🔥 Expired Food Count by Food Type & Meal Type\"\n",
        ")\n",
        "fig3.show()"
      ],
      "metadata": {
        "colab": {
          "base_uri": "https://localhost:8080/",
          "height": 1000
        },
        "id": "BtWxQYLrtZcK",
        "outputId": "1da57b85-7ada-48c4-9ef5-33461eb15e54"
      },
      "execution_count": null,
      "outputs": [
        {
          "output_type": "stream",
          "name": "stdout",
          "text": [
            "📊 Food Wastage Trends table created successfully!\n"
          ]
        },
        {
          "output_type": "display_data",
          "data": {
            "text/html": [
              "<html>\n",
              "<head><meta charset=\"utf-8\" /></head>\n",
              "<body>\n",
              "    <div>            <script src=\"https://cdnjs.cloudflare.com/ajax/libs/mathjax/2.7.5/MathJax.js?config=TeX-AMS-MML_SVG\"></script><script type=\"text/javascript\">if (window.MathJax && window.MathJax.Hub && window.MathJax.Hub.Config) {window.MathJax.Hub.Config({SVG: {font: \"STIX-Web\"}});}</script>                <script type=\"text/javascript\">window.PlotlyConfig = {MathJaxConfig: 'local'};</script>\n",
              "        <script charset=\"utf-8\" src=\"https://cdn.plot.ly/plotly-2.35.2.min.js\"></script>                <div id=\"02136002-41c4-4b36-b2b1-e0de01714175\" class=\"plotly-graph-div\" style=\"height:525px; width:100%;\"></div>            <script type=\"text/javascript\">                                    window.PLOTLYENV=window.PLOTLYENV || {};                                    if (document.getElementById(\"02136002-41c4-4b36-b2b1-e0de01714175\")) {                    Plotly.newPlot(                        \"02136002-41c4-4b36-b2b1-e0de01714175\",                        [{\"alignmentgroup\":\"True\",\"hovertemplate\":\"variable=expired_count\\u003cbr\\u003eCity=%{x}\\u003cbr\\u003eNumber of Items=%{y}\\u003cextra\\u003e\\u003c\\u002fextra\\u003e\",\"legendgroup\":\"expired_count\",\"marker\":{\"color\":\"#636efa\",\"pattern\":{\"shape\":\"\"}},\"name\":\"expired_count\",\"offsetgroup\":\"expired_count\",\"orientation\":\"v\",\"showlegend\":true,\"textposition\":\"auto\",\"x\":[\"Lake Karenfurt\",\"South Kathryn\",\"Timothychester\",\"Anneville\",\"East Andrewland\",\"Lake April\",\"Lake Michaelfurt\",\"Lake Mistyton\",\"Priceland\",\"Castilloport\",\"Lake Justin\",\"New Carol\",\"Brittanyside\",\"Davidville\",\"New Carol\",\"Phillipsfort\",\"Heatherview\",\"Markport\",\"West Kevin\",\"Bentleyburgh\",\"Paulmouth\",\"Port Melanie\",\"South Christopherborough\",\"Lake Michael\",\"North William\",\"South Thomasville\",\"Davidville\",\"East John\",\"Marcstad\",\"Marymouth\",\"Perezport\",\"Carolchester\",\"Clarkberg\",\"East Terrancemouth\",\"New Curtis\",\"New Denise\",\"South Kathryn\",\"Lake Amymouth\",\"New Jacob\",\"Zimmermanton\",\"Jordanhaven\",\"Michaelport\",\"West Adam\",\"Youngchester\",\"Bentonfurt\",\"Carlbury\",\"Christinamouth\",\"Clarkberg\",\"Davidland\",\"East Andrea\",\"East Austin\",\"East Candace\",\"East Heatherport\",\"East Jacobchester\",\"East Lori\",\"East Melissa\",\"East Roberthaven\",\"East Tammy\",\"Erikatown\",\"Frederickside\",\"Garzaville\",\"Ginaview\",\"Hawkinsmouth\",\"Jamesfurt\",\"Jamesport\",\"Jonestown\",\"Keithburgh\",\"Lake Amymouth\",\"Lake Donna\",\"Lake Traceyburgh\",\"Martinville\",\"Matthewbury\",\"Maynardstad\",\"Mendezmouth\",\"New Baileyfort\",\"New Dawnborough\",\"New Matthew\",\"New Thomasmouth\",\"North Destiny\",\"North Ianbury\",\"North Julieburgh\",\"North Katelynland\",\"North Kevinhaven\",\"North Lauren\",\"North Mary\",\"North Sharonburgh\",\"Pereztown\",\"Perkinsbury\",\"Petersonburgh\",\"Phillipsmouth\",\"Port Andre\",\"Port Andrea\",\"Port Connie\",\"Port Heidiland\",\"Port Marcland\",\"Port Patrick\",\"Port Peter\",\"Port Staceymouth\",\"Salastown\",\"Smithfort\",\"South Allisonburgh\",\"South Bradleyburgh\",\"South Jerryside\",\"South Jillshire\",\"South Kellyville\",\"South Kevinhaven\",\"South Lisaberg\",\"South Michaelberg\",\"South Thomasville\",\"South Tiffanyfort\",\"Torresshire\",\"Villaborough\",\"Watsonstad\",\"West Adam\",\"West Hunter\",\"West Juliabury\",\"West Kevin\",\"West Miaside\",\"West Michael\",\"West Omarside\",\"Andrewsmouth\",\"Blaketown\",\"Brownshire\",\"Carrport\",\"Chambersfort\",\"Charlesview\",\"Colemanton\",\"Davidborough\",\"East Garyton\",\"East Johnburgh\",\"East Lindsayville\",\"East Phillipton\",\"East Sandratown\",\"East Stephanie\",\"Edwardsbury\",\"Erikatown\",\"Garciatown\",\"Gutierrezshire\",\"Herbertbury\",\"Hollyhaven\",\"Jamesfurt\",\"Jasonmouth\",\"Johnport\",\"Jonathanhaven\",\"Kylehaven\",\"Lake Donna\",\"Lake Richardhaven\",\"Lake Stephen\",\"Lake Travis\",\"Laurietown\",\"Leslieville\",\"Lindseyland\",\"Longland\",\"Marymouth\",\"Mikaylachester\",\"Morriston\",\"Muellermouth\",\"New Billy\",\"New Joel\",\"New Ricky\",\"New Robertstad\",\"North Gary\",\"North Ianbury\",\"North Joseph\",\"North Kevinhaven\",\"North Lauren\",\"North Lindseychester\",\"North Nicholas\",\"North Tracy\",\"Padillatown\",\"Paulmouth\",\"Penabury\",\"Perezport\",\"Port David\",\"Port Dianaberg\",\"Port Eric\",\"Port Timothystad\",\"Port Victoria\",\"Roachhaven\",\"Rodriguezfurt\",\"Ruizmouth\",\"Samanthabury\",\"Shortfurt\",\"Smithfort\",\"Taylorchester\",\"Thorntonbury\",\"West Dawn\",\"West James\",\"West Larry\",\"West Lauraborough\",\"West Melissastad\",\"West Robert\",\"West Whitneymouth\",\"Westmouth\",\"Wilsonview\",\"Woodport\",\"Adambury\",\"Amberton\",\"Aprilberg\",\"Basstown\",\"Bellport\",\"Bentleyburgh\",\"Brandyberg\",\"Charlesmouth\",\"Davidport\",\"Deborahfurt\",\"Devinmouth\",\"East Courtneymouth\",\"East Craig\",\"East Emily\",\"East Garyton\",\"East Melissa\",\"East Sonyaport\",\"Frederickside\",\"Heatherview\",\"Hollyhaven\",\"Jeffreybury\",\"Jeffreyport\",\"Johnsonborough\",\"Joneshaven\",\"Lake Alicia\",\"Lake Andrewmouth\",\"Lake Benjamin\",\"Lake Cathy\",\"Lake Christopherburgh\",\"Lake Jamestown\",\"Lake Karenfurt\",\"Lake Kendramouth\",\"Lake Maria\",\"Lake Regina\",\"Lake Travis\",\"Leeburgh\",\"Louismouth\",\"Maysside\",\"New John\",\"New Richard\",\"North Catherine\",\"North Crystal\",\"North James\",\"North Keith\",\"North Kennethshire\",\"North Tom\",\"Patrickfort\",\"Phillipsfort\",\"Port Kendraborough\",\"Port Lance\",\"Port Richardshire\",\"Port Victoria\",\"Ramosville\",\"Scottchester\",\"South Bryan\",\"South Jeffreyburgh\",\"South Kellyberg\",\"South Randy\",\"South Stefanietown\",\"South William\",\"Steeleport\",\"Toddberg\",\"Valentineside\",\"Villastad\",\"Wadeville\",\"Watsonstad\",\"Weberfurt\",\"West Billborough\",\"West Hunter\",\"West Kelli\",\"West Stevenport\",\"West Tinamouth\",\"Westmouth\",\"Wilsonport\",\"Allenton\",\"Anthonyhaven\",\"Ashleyhaven\",\"Bradleyport\",\"Brittanyland\",\"Brittanyville\",\"Chelseaside\",\"Chelseyfort\",\"Cisnerostown\",\"Donnaborough\",\"East Aaron\",\"East Andrewland\",\"East Angela\",\"East Angelafort\",\"East Ashleyshire\",\"East Brittanyland\",\"East Edwinburgh\",\"East Elizabethberg\",\"East Heatherport\",\"East Nicholasbury\",\"Gaineschester\",\"Harrisonbury\",\"Henrychester\",\"Jasonstad\",\"Jeffreyshire\",\"Jimmyberg\",\"Johnstonhaven\",\"Jonathanstad\",\"Kellytown\",\"Lake Diane\",\"Lake Kendramouth\",\"Lake Travis\",\"Laurietown\",\"Leeburgh\",\"Michaelport\",\"Michaelton\",\"Mortonfort\",\"Murrayborough\",\"New Aaronberg\",\"New Amanda\",\"New Bobbytown\",\"New Calebberg\",\"New John\",\"New Rachel\",\"New Rodneyville\",\"North Aaron\",\"North Julieburgh\",\"North Katelyn\",\"North Katherineshire\",\"North Keith\",\"North Kevinhaven\",\"North Lindseychester\",\"North Mike\",\"North Sharonberg\",\"North Stevenbury\",\"Phillipsmouth\",\"Port Eric\",\"Port Karen\",\"Port Matthew\",\"Port Melissa\",\"Port Patrick\",\"Port Robin\",\"Richchester\",\"Samanthabury\",\"South Charles\",\"South Danielle\",\"South Jerryside\",\"South Kellyberg\",\"South Lisaberg\",\"Stevenchester\",\"Thorntonbury\",\"Toddstad\",\"Tyronebury\",\"Valdezborough\",\"West Adammouth\",\"West Brandon\",\"West Danielborough\",\"West Dawn\",\"Williamsfort\",\"Williamsonmouth\",\"Amandashire\",\"Brownchester\",\"Callahanside\",\"Carlbury\",\"Cisnerostown\",\"Danachester\",\"Deborahland\",\"East Andrea\",\"East Angela\",\"East Austin\",\"East Jacobchester\",\"East Kevin\",\"East Rossside\",\"Evansmouth\",\"Heatherside\",\"Hestermouth\",\"Jenniferville\",\"Jeremiahfort\",\"Jonathanhaven\",\"Kentland\",\"Kylehaven\",\"Lake Coryhaven\",\"Lake Justin\",\"Lake Kari\",\"Lake Lorrainefort\",\"Lake Regina\",\"Madisonfort\",\"Maysside\",\"Medinatown\",\"Meganshire\",\"Mendezmouth\",\"Mooneybury\",\"Mooreview\",\"New Amanda\",\"New Daniel\",\"New Jessica\",\"New Michaelmouth\",\"New Tiffanystad\",\"North Ashley\",\"North Chase\",\"North Garybury\",\"North Jamesberg\",\"North Mariahchester\",\"North Stevenbury\",\"Penabury\",\"Port Aaron\",\"Port Carrie\",\"Port Erin\",\"Port Lisamouth\",\"Port Michael\",\"Port Patrick\",\"Port Peter\",\"Port Robin\",\"Reidland\",\"Smithmouth\",\"Solisburgh\",\"South Alicia\",\"Spenceland\",\"Stevenchester\",\"Toddberg\",\"Walterton\",\"West Kara\",\"West Kevin\",\"West Vanessafort\",\"Wheelermouth\",\"Williamland\",\"Williamsonmouth\",\"Williamview\",\"Zimmermanville\",\"Allenborough\",\"Amberton\",\"Andreaborough\",\"Anthonyshire\",\"Brittanyville\",\"Brookeland\",\"Carlborough\",\"Carolchester\",\"Christinaland\",\"Christinetown\",\"Christopherstad\",\"Coleburgh\",\"Devinmouth\",\"East Deborah\",\"East Deniseborough\",\"East Elizabethberg\",\"East Kimberly\",\"East Robert\",\"East Sheena\",\"Garciaport\",\"Jasonmouth\",\"Jessicaland\",\"Jimmyberg\",\"Joneshaven\",\"Joshuastad\",\"Lake Christopherburgh\",\"Lake Raymondton\",\"Lake Vanessaland\",\"Leslieville\",\"Lewisberg\",\"Madelinechester\",\"Manningshire\",\"Maxwellburgh\",\"Mitchellmouth\",\"Murrayborough\",\"New Carol\",\"New Jessica\",\"New Leslieport\",\"New Michelle\",\"New Monicaside\",\"New Ninashire\",\"Nolanmouth\",\"North Amanda\",\"North Charlesside\",\"North Destiny\",\"North Ebony\",\"North Garybury\",\"North Melanie\",\"North Nathan\",\"Port Anita\",\"Port David\",\"Port Leahfurt\",\"Port Lisamouth\",\"Port Marissachester\",\"Samueltown\",\"South Alicia\",\"South Jessicachester\",\"South Russelltown\",\"South Tylerstad\",\"Strongmouth\",\"Tamaraside\",\"West Aliciabury\",\"West Lauraborough\",\"West Matthew\",\"West Robert\",\"West Sharonview\",\"West Whitneymouth\",\"Westbury\",\"Allenton\",\"Bartonborough\",\"Belindaville\",\"Brandyberg\",\"Brownberg\",\"Cameronside\",\"Cunninghambury\",\"Darrylchester\",\"East Amyfurt\",\"East Bernard\",\"East John\",\"East Lisa\",\"East Meganfort\",\"East Richardside\",\"Frederickside\",\"Garciaside\",\"Herbertbury\",\"Hollyhaven\",\"Huberstad\",\"Jamesfurt\",\"Jasonstad\",\"Jimmyberg\",\"Jonathanhaven\",\"Jonathanstad\",\"Joseville\",\"Katherinefurt\",\"Kellytown\",\"Lake Alicia\",\"Lake Christophermouth\",\"Lake George\",\"Lake Heather\",\"Lake Jason\",\"Lake Joseph\",\"Lake Rachael\",\"Lake Ryanbury\",\"Lewisberg\",\"Lindseybury\",\"Manningshire\",\"New Evanport\",\"North Brentbury\",\"North Caitlin\",\"North Edwinchester\",\"North Elizabeth\",\"North Julieburgh\",\"North Kennethshire\",\"North Kevinhaven\",\"North Lisaland\",\"North Michelle\",\"North Mike\",\"North Sherrimouth\",\"Olsenstad\",\"Pamelaberg\",\"Patrickmouth\",\"Perezport\",\"Pereztown\",\"Port Connie\",\"Port Melissa\",\"Port Michael\",\"Port Robin\",\"Port Rubenville\",\"Roystad\",\"Ruizmouth\",\"Sandrastad\",\"Sharonton\",\"Shirleyland\",\"Snyderton\",\"South Bradleyburgh\",\"South Crystalberg\",\"South Kathryn\",\"South Lisaberg\",\"Taylormouth\",\"Thomasville\",\"Villastad\",\"Wadeville\",\"Walkerfurt\",\"West Cherylfort\",\"Williamsmouth\",\"Anthonyton\",\"Bairdfort\",\"Bartonborough\",\"Benjaminstad\",\"Bradleyport\",\"Brendantown\",\"Browntown\",\"Cannonside\",\"Coleburgh\",\"Davisview\",\"Donnaborough\",\"East Angela\",\"East Austin\",\"East Craig\",\"East Laurashire\",\"East Michelle\",\"East Robert\",\"East Sandra\",\"East Sheena\",\"East Stephanie\",\"East Tammy\",\"East Terrancemouth\",\"Francisshire\",\"Garciamouth\",\"Heathermouth\",\"Janetborough\",\"Jefferyside\",\"Jennifertown\",\"Jordanborough\",\"Josephburgh\",\"Lake Andrewmouth\",\"Lake Christophermouth\",\"Lake James\",\"Lake Jeffreytown\",\"Lake Jessicamouth\",\"Lake Regina\",\"Lake Tamara\",\"Lake Travis\",\"Lesterstad\",\"Lewishaven\",\"Lindseybury\",\"Lisamouth\",\"Lopezport\",\"Louismouth\",\"Madisonfort\",\"Mendezmouth\",\"Michaelview\",\"Mortonfort\",\"Moseshaven\",\"New Connorfort\",\"New Evanport\",\"New Larry\",\"New Lisa\",\"New Rodneyville\",\"North Brooke\",\"North Charlesside\",\"North Nicholas\",\"North Sherrimouth\",\"North Susan\",\"North Tom\",\"Penabury\",\"Perezport\",\"Port Connie\",\"Port Ronaldshire\",\"Robertshire\",\"Rodriguezview\",\"Russellfurt\",\"Salinasville\",\"South Andrewport\",\"South Bryan\",\"South Christopherborough\",\"South Danielle\",\"South Donald\",\"South Johnshire\",\"South Marthahaven\",\"South Michaelberg\",\"Strongmouth\",\"Timothychester\",\"Velazquezview\",\"Walterborough\",\"Watsonstad\",\"West Amandafurt\",\"West Brandon\",\"West Corey\",\"West Danielborough\",\"West Juliabury\",\"West Samuelfurt\",\"West Sharonview\",\"West Whitneymouth\",\"Williamsfort\",\"Williamsmouth\",\"Yatesside\",\"Allenton\",\"Andersonmouth\",\"Basstown\",\"Belindaville\",\"Bonillahaven\",\"Brittanyport\",\"Cameronside\",\"Coleburgh\",\"East Angelafort\",\"East Ashleyshire\",\"East Candace\",\"East Christophertown\",\"East Craig\",\"East Cynthia\",\"East Edwinburgh\",\"East Emilyburgh\",\"East Heatherport\",\"East Shanestad\",\"East Timothy\",\"Francisshire\",\"Gibsonfort\",\"Harrishaven\",\"Jasonland\",\"Jefferyside\",\"Johnton\",\"Jonathanmouth\",\"Jonathanstad\",\"Lake Anthonyport\",\"Lake Christopherburgh\",\"Lake Deborah\",\"Lake Jamestown\",\"Lake Jason\",\"Lake Latasha\",\"Lake Rachael\",\"Lake Stephen\",\"Lake Theresa\",\"Latoyaberg\",\"Lindseybury\",\"Manningshire\",\"Markport\",\"Marthaside\",\"Maxwellburgh\",\"Meghanfurt\",\"Millerview\",\"New Amanda\",\"New Bobbytown\",\"New Carol\",\"New Curtis\",\"New Erica\",\"New Jamesburgh\",\"New Joel\",\"New John\",\"New Travisshire\",\"Nicoletown\",\"North Aaron\",\"North Amanda\",\"North Ebony\",\"North James\",\"North Keith\",\"Port Andrea\",\"Port Bryce\",\"Port Donnaton\",\"Port Dustin\",\"Port Emily\",\"Port Jacob\",\"Port Jeffrey\",\"Port Troychester\",\"Raybury\",\"Rebeccaburgh\",\"Riceshire\",\"Rogersmouth\",\"Sarahland\",\"Sharonton\",\"South Jacobport\",\"South Jerryside\",\"South Justinborough\",\"South Kathryn\",\"South Stefanietown\",\"South Thomasville\",\"South Tiffanyfort\",\"Tinamouth\",\"West Karen\",\"West Lisamouth\",\"West Lucasville\",\"Zimmermanville\",\"Alexanderchester\",\"Brittanyland\",\"Chelseyfort\",\"Colemanton\",\"Collinsmouth\",\"Cordovaborough\",\"Davidborough\",\"Donnaborough\",\"East Aaron\",\"East Andrea\",\"East Angela\",\"East Lisa\",\"East Robert\",\"East Samantha\",\"East Sandratown\",\"East Stephanie\",\"Gardnerfort\",\"Grahamside\",\"Jamesport\",\"Jessicaland\",\"Jimmyberg\",\"Johnsonborough\",\"Johnsonside\",\"Jonathanstad\",\"Jordanborough\",\"Justinhaven\",\"Kevinfort\",\"Lake Benjamin\",\"Lake Jasmin\",\"Lake Lauraton\",\"Lake Lorrainefort\",\"Lake Nathan\",\"Lake Shelby\",\"Laurietown\",\"Lindseyland\",\"Manningshire\",\"Manuelhaven\",\"Maxwellburgh\",\"Maynardstad\",\"Medinatown\",\"New Douglas\",\"New Ginaborough\",\"New Hannah\",\"New Travisshire\",\"New Zachary\",\"North Brendaborough\",\"North Douglasfurt\",\"North Gary\",\"North Ianbury\",\"North Keith\",\"North Kylestad\",\"North Ryan\",\"North Victoriastad\",\"Pearsonchester\",\"Port Davidshire\",\"Port Emilyburgh\",\"Port Gregton\",\"Port Jeffrey\",\"Port Lesliebury\",\"Port Markview\",\"Port Patrick\",\"Port Richardshire\",\"Port Robertport\",\"Ramseyfort\",\"Reyesshire\",\"Richardsonhaven\",\"Rodriguezview\",\"Saraburgh\",\"Sarahland\",\"Shortfurt\",\"Snyderton\",\"South Andrewport\",\"South Anne\",\"South Douglashaven\",\"South Edwardtown\",\"South Michellechester\",\"South Nicole\",\"Sylviabury\",\"Thomasville\",\"Timothyview\",\"Vazquezshire\",\"West Sharonview\",\"West Whitneymouth\",\"Annahaven\",\"Anneville\",\"Blaketown\",\"Boylechester\",\"Bradleyport\",\"Brianside\",\"Brittanyside\",\"Castilloport\",\"Christopherton\",\"Cisnerostown\",\"Connieside\",\"Derekport\",\"Devinmouth\",\"East Angela\",\"East Anthony\",\"East Heatherport\",\"East Melissa\",\"East Williamshire\",\"Garciatown\",\"Gardnerfort\",\"Harrishaven\",\"Jeffreyshire\",\"Jimmyberg\",\"Jonathanmouth\",\"Jordanborough\",\"Lake Andrewmouth\",\"Lake Diane\",\"Lake Kristentown\",\"Lake Vanessa\",\"Leslieville\",\"Linchester\",\"Michaelton\",\"Millerview\",\"Moralesside\",\"Morganhaven\",\"Muellermouth\",\"New Amanda\",\"New Richard\",\"North Amanda\",\"North Carolfurt\",\"North Chase\",\"North Douglasfurt\",\"North Ianbury\",\"North Mike\",\"North Steven\",\"Pamelaberg\",\"Pereztown\",\"Port Bryce\",\"Port Daniellechester\",\"Port Melanie\",\"Port Tanyaburgh\",\"Randallchester\",\"Russellfurt\",\"Sandrastad\",\"Solisburgh\",\"South Bryan\",\"South Christopherborough\",\"South Robert\",\"Steveport\",\"Tammyside\",\"Watsonton\",\"West Catherine\",\"West Corey\",\"West Dannyland\",\"West James\",\"West Juliabury\",\"West Lauraborough\",\"West Melissa\",\"West Samuelfurt\",\"Woodport\",\"Zimmermanville\",\"Andersonville\",\"Andreaborough\",\"Anthonyborough\",\"Batesstad\",\"Bellport\",\"Brookeland\",\"Crystalborough\",\"Darrylchester\",\"Deckermouth\",\"East Anthony\",\"East Brittanyland\",\"East Elizabeth\",\"East Elizabethberg\",\"East Richardside\",\"East Sandratown\",\"East Stephanie\",\"Elliottberg\",\"Floresville\",\"Fowlerbury\",\"Frederickside\",\"Gaineschester\",\"Gardnerfort\",\"Gutierrezshire\",\"Jasmineberg\",\"Jeffreybury\",\"Lake Andrewmouth\",\"Madisonfort\",\"Manuelhaven\",\"Marissaville\",\"Mcclainfurt\",\"Mooremouth\",\"Moralesside\",\"New Calebberg\",\"New Denise\",\"New Hollyfurt\",\"North Katelynland\",\"North Lindseychester\",\"North Sherrimouth\",\"Padillatown\",\"Pamelaberg\",\"Port Amandamouth\",\"Port Kevinburgh\",\"Port Michaelshire\",\"Sheenashire\",\"Sheilaburgh\",\"South Brenda\",\"South Davidside\",\"South Edwardtown\",\"South Karen\",\"South Nicholasville\",\"South Richard\",\"South Richardhaven\",\"Stephanieberg\",\"Thomasville\",\"Torresshire\",\"Valentineside\",\"Walterborough\",\"West Anthonymouth\",\"West Miaside\",\"West Samantha\",\"Williamsonmouth\"],\"xaxis\":\"x\",\"y\":[2,2,2,2,2,2,2,2,2,2,2,2,2,2,2,2,2,2,2,2,2,2,2,2,2,2,2,2,2,2,2,2,2,2,2,2,2,2,2,2,2,2,2,2,1,1,1,1,1,1,1,1,1,1,1,1,1,1,1,1,1,1,1,1,1,1,1,1,1,1,1,1,1,1,1,1,1,1,1,1,1,1,1,1,1,1,1,1,1,1,1,1,1,1,1,1,1,1,1,1,1,1,1,1,1,1,1,1,1,1,1,1,1,1,1,1,1,1,1,1,1,1,1,1,1,1,1,1,1,1,1,1,1,1,1,1,1,1,1,1,1,1,1,1,1,1,1,1,1,1,1,1,1,1,1,1,1,1,1,1,1,1,1,1,1,1,1,1,1,1,1,1,1,1,1,1,1,1,1,1,1,1,1,1,1,1,1,1,1,1,1,1,1,1,1,1,1,1,1,1,1,1,1,1,1,1,1,1,1,1,1,1,1,1,1,1,1,1,1,1,1,1,1,1,1,1,1,1,1,1,1,1,1,1,1,1,1,1,1,1,1,1,1,1,1,1,1,1,1,1,1,1,1,1,1,1,1,1,1,1,1,1,1,1,1,1,1,1,1,1,1,1,1,1,1,1,1,1,1,1,1,1,1,1,1,1,1,1,1,1,1,1,1,1,1,1,1,1,1,1,1,1,1,1,1,1,1,1,1,1,1,1,1,1,1,1,1,1,1,1,1,1,1,1,1,1,1,1,1,1,1,1,1,1,1,1,1,1,1,1,1,1,1,1,1,1,1,1,1,1,1,1,1,1,1,1,1,1,1,1,1,1,1,1,1,1,1,1,1,1,1,1,1,1,1,1,1,1,1,1,1,1,1,1,1,1,1,1,1,1,1,1,1,1,1,1,1,1,1,1,1,1,1,1,1,1,1,1,1,1,1,1,1,1,1,1,1,1,1,1,1,1,1,1,1,1,1,1,1,1,1,1,1,1,1,1,1,1,1,1,1,1,1,1,1,1,1,1,1,1,1,1,1,1,1,1,1,1,1,1,1,1,1,1,1,1,1,1,1,1,1,1,1,1,1,1,1,1,1,1,1,1,1,1,1,1,1,1,1,1,1,1,1,1,1,1,1,1,1,1,1,1,1,1,1,1,1,1,1,1,1,1,1,1,1,1,1,1,1,1,1,1,1,1,1,1,1,1,1,1,1,1,1,1,1,1,1,1,1,1,1,1,1,1,1,1,1,1,1,1,1,1,1,1,1,1,1,1,1,1,1,1,1,1,1,1,1,1,1,1,1,1,1,1,1,1,1,1,1,1,1,1,1,1,1,1,1,1,1,1,1,1,1,1,1,1,1,1,1,1,1,1,1,1,1,1,1,1,1,1,1,1,1,1,1,1,1,1,1,1,1,1,1,1,1,1,1,1,1,1,1,1,1,1,1,1,1,1,1,1,1,1,1,1,1,1,1,1,1,1,1,1,1,1,1,1,1,1,1,1,1,1,1,1,1,1,1,1,1,1,1,1,1,1,1,1,1,1,1,1,1,1,1,1,1,1,1,1,1,1,1,1,1,1,1,1,1,1,1,1,1,1,1,1,1,1,1,1,1,1,1,1,1,1,1,1,1,1,1,1,1,1,1,1,1,1,1,1,1,1,1,1,1,1,1,1,1,1,1,1,1,1,1,1,1,1,1,1,1,1,1,1,1,1,1,1,1,1,1,1,1,1,1,1,1,1,1,1,1,1,1,1,1,1,1,1,1,1,1,1,1,1,1,1,1,1,1,1,1,1,1,1,1,1,1,1,1,1,1,1,1,1,1,1,1,1,1,1,1,1,1,1,1,1,1,1,1,1,1,1,1,1,1,1,1,1,1,1,1,1,1,1,1,1,1,1,1,1,1,1,1,1,1,1,1,1,1,1,1,1,1,1,1,1,1,1,1,1,1,1,1,1,1,1,1,1,1,1,1,1,1,1,1,1,1,1,1,1,1,1,1,1,1,1,1,1,1,1,1,1,1,1,1,1,1,1,1,1,1,1,1,1,1,1,1,1,1,1,1,1,1,1,1,1,1,1,1,1,1,1,1,1,1,1,1,1,1,1,1,1,1,1,1,1,1,1,1,1,1,1,1,1,1,1,1,1,1,1,1,1,1,1,1,1,1,1],\"yaxis\":\"y\",\"type\":\"bar\"},{\"alignmentgroup\":\"True\",\"hovertemplate\":\"variable=expiring_soon_count\\u003cbr\\u003eCity=%{x}\\u003cbr\\u003eNumber of Items=%{y}\\u003cextra\\u003e\\u003c\\u002fextra\\u003e\",\"legendgroup\":\"expiring_soon_count\",\"marker\":{\"color\":\"#EF553B\",\"pattern\":{\"shape\":\"\"}},\"name\":\"expiring_soon_count\",\"offsetgroup\":\"expiring_soon_count\",\"orientation\":\"v\",\"showlegend\":true,\"textposition\":\"auto\",\"x\":[\"Lake Karenfurt\",\"South Kathryn\",\"Timothychester\",\"Anneville\",\"East Andrewland\",\"Lake April\",\"Lake Michaelfurt\",\"Lake Mistyton\",\"Priceland\",\"Castilloport\",\"Lake Justin\",\"New Carol\",\"Brittanyside\",\"Davidville\",\"New Carol\",\"Phillipsfort\",\"Heatherview\",\"Markport\",\"West Kevin\",\"Bentleyburgh\",\"Paulmouth\",\"Port Melanie\",\"South Christopherborough\",\"Lake Michael\",\"North William\",\"South Thomasville\",\"Davidville\",\"East John\",\"Marcstad\",\"Marymouth\",\"Perezport\",\"Carolchester\",\"Clarkberg\",\"East Terrancemouth\",\"New Curtis\",\"New Denise\",\"South Kathryn\",\"Lake Amymouth\",\"New Jacob\",\"Zimmermanton\",\"Jordanhaven\",\"Michaelport\",\"West Adam\",\"Youngchester\",\"Bentonfurt\",\"Carlbury\",\"Christinamouth\",\"Clarkberg\",\"Davidland\",\"East Andrea\",\"East Austin\",\"East Candace\",\"East Heatherport\",\"East Jacobchester\",\"East Lori\",\"East Melissa\",\"East Roberthaven\",\"East Tammy\",\"Erikatown\",\"Frederickside\",\"Garzaville\",\"Ginaview\",\"Hawkinsmouth\",\"Jamesfurt\",\"Jamesport\",\"Jonestown\",\"Keithburgh\",\"Lake Amymouth\",\"Lake Donna\",\"Lake Traceyburgh\",\"Martinville\",\"Matthewbury\",\"Maynardstad\",\"Mendezmouth\",\"New Baileyfort\",\"New Dawnborough\",\"New Matthew\",\"New Thomasmouth\",\"North Destiny\",\"North Ianbury\",\"North Julieburgh\",\"North Katelynland\",\"North Kevinhaven\",\"North Lauren\",\"North Mary\",\"North Sharonburgh\",\"Pereztown\",\"Perkinsbury\",\"Petersonburgh\",\"Phillipsmouth\",\"Port Andre\",\"Port Andrea\",\"Port Connie\",\"Port Heidiland\",\"Port Marcland\",\"Port Patrick\",\"Port Peter\",\"Port Staceymouth\",\"Salastown\",\"Smithfort\",\"South Allisonburgh\",\"South Bradleyburgh\",\"South Jerryside\",\"South Jillshire\",\"South Kellyville\",\"South Kevinhaven\",\"South Lisaberg\",\"South Michaelberg\",\"South Thomasville\",\"South Tiffanyfort\",\"Torresshire\",\"Villaborough\",\"Watsonstad\",\"West Adam\",\"West Hunter\",\"West Juliabury\",\"West Kevin\",\"West Miaside\",\"West Michael\",\"West Omarside\",\"Andrewsmouth\",\"Blaketown\",\"Brownshire\",\"Carrport\",\"Chambersfort\",\"Charlesview\",\"Colemanton\",\"Davidborough\",\"East Garyton\",\"East Johnburgh\",\"East Lindsayville\",\"East Phillipton\",\"East Sandratown\",\"East Stephanie\",\"Edwardsbury\",\"Erikatown\",\"Garciatown\",\"Gutierrezshire\",\"Herbertbury\",\"Hollyhaven\",\"Jamesfurt\",\"Jasonmouth\",\"Johnport\",\"Jonathanhaven\",\"Kylehaven\",\"Lake Donna\",\"Lake Richardhaven\",\"Lake Stephen\",\"Lake Travis\",\"Laurietown\",\"Leslieville\",\"Lindseyland\",\"Longland\",\"Marymouth\",\"Mikaylachester\",\"Morriston\",\"Muellermouth\",\"New Billy\",\"New Joel\",\"New Ricky\",\"New Robertstad\",\"North Gary\",\"North Ianbury\",\"North Joseph\",\"North Kevinhaven\",\"North Lauren\",\"North Lindseychester\",\"North Nicholas\",\"North Tracy\",\"Padillatown\",\"Paulmouth\",\"Penabury\",\"Perezport\",\"Port David\",\"Port Dianaberg\",\"Port Eric\",\"Port Timothystad\",\"Port Victoria\",\"Roachhaven\",\"Rodriguezfurt\",\"Ruizmouth\",\"Samanthabury\",\"Shortfurt\",\"Smithfort\",\"Taylorchester\",\"Thorntonbury\",\"West Dawn\",\"West James\",\"West Larry\",\"West Lauraborough\",\"West Melissastad\",\"West Robert\",\"West Whitneymouth\",\"Westmouth\",\"Wilsonview\",\"Woodport\",\"Adambury\",\"Amberton\",\"Aprilberg\",\"Basstown\",\"Bellport\",\"Bentleyburgh\",\"Brandyberg\",\"Charlesmouth\",\"Davidport\",\"Deborahfurt\",\"Devinmouth\",\"East Courtneymouth\",\"East Craig\",\"East Emily\",\"East Garyton\",\"East Melissa\",\"East Sonyaport\",\"Frederickside\",\"Heatherview\",\"Hollyhaven\",\"Jeffreybury\",\"Jeffreyport\",\"Johnsonborough\",\"Joneshaven\",\"Lake Alicia\",\"Lake Andrewmouth\",\"Lake Benjamin\",\"Lake Cathy\",\"Lake Christopherburgh\",\"Lake Jamestown\",\"Lake Karenfurt\",\"Lake Kendramouth\",\"Lake Maria\",\"Lake Regina\",\"Lake Travis\",\"Leeburgh\",\"Louismouth\",\"Maysside\",\"New John\",\"New Richard\",\"North Catherine\",\"North Crystal\",\"North James\",\"North Keith\",\"North Kennethshire\",\"North Tom\",\"Patrickfort\",\"Phillipsfort\",\"Port Kendraborough\",\"Port Lance\",\"Port Richardshire\",\"Port Victoria\",\"Ramosville\",\"Scottchester\",\"South Bryan\",\"South Jeffreyburgh\",\"South Kellyberg\",\"South Randy\",\"South Stefanietown\",\"South William\",\"Steeleport\",\"Toddberg\",\"Valentineside\",\"Villastad\",\"Wadeville\",\"Watsonstad\",\"Weberfurt\",\"West Billborough\",\"West Hunter\",\"West Kelli\",\"West Stevenport\",\"West Tinamouth\",\"Westmouth\",\"Wilsonport\",\"Allenton\",\"Anthonyhaven\",\"Ashleyhaven\",\"Bradleyport\",\"Brittanyland\",\"Brittanyville\",\"Chelseaside\",\"Chelseyfort\",\"Cisnerostown\",\"Donnaborough\",\"East Aaron\",\"East Andrewland\",\"East Angela\",\"East Angelafort\",\"East Ashleyshire\",\"East Brittanyland\",\"East Edwinburgh\",\"East Elizabethberg\",\"East Heatherport\",\"East Nicholasbury\",\"Gaineschester\",\"Harrisonbury\",\"Henrychester\",\"Jasonstad\",\"Jeffreyshire\",\"Jimmyberg\",\"Johnstonhaven\",\"Jonathanstad\",\"Kellytown\",\"Lake Diane\",\"Lake Kendramouth\",\"Lake Travis\",\"Laurietown\",\"Leeburgh\",\"Michaelport\",\"Michaelton\",\"Mortonfort\",\"Murrayborough\",\"New Aaronberg\",\"New Amanda\",\"New Bobbytown\",\"New Calebberg\",\"New John\",\"New Rachel\",\"New Rodneyville\",\"North Aaron\",\"North Julieburgh\",\"North Katelyn\",\"North Katherineshire\",\"North Keith\",\"North Kevinhaven\",\"North Lindseychester\",\"North Mike\",\"North Sharonberg\",\"North Stevenbury\",\"Phillipsmouth\",\"Port Eric\",\"Port Karen\",\"Port Matthew\",\"Port Melissa\",\"Port Patrick\",\"Port Robin\",\"Richchester\",\"Samanthabury\",\"South Charles\",\"South Danielle\",\"South Jerryside\",\"South Kellyberg\",\"South Lisaberg\",\"Stevenchester\",\"Thorntonbury\",\"Toddstad\",\"Tyronebury\",\"Valdezborough\",\"West Adammouth\",\"West Brandon\",\"West Danielborough\",\"West Dawn\",\"Williamsfort\",\"Williamsonmouth\",\"Amandashire\",\"Brownchester\",\"Callahanside\",\"Carlbury\",\"Cisnerostown\",\"Danachester\",\"Deborahland\",\"East Andrea\",\"East Angela\",\"East Austin\",\"East Jacobchester\",\"East Kevin\",\"East Rossside\",\"Evansmouth\",\"Heatherside\",\"Hestermouth\",\"Jenniferville\",\"Jeremiahfort\",\"Jonathanhaven\",\"Kentland\",\"Kylehaven\",\"Lake Coryhaven\",\"Lake Justin\",\"Lake Kari\",\"Lake Lorrainefort\",\"Lake Regina\",\"Madisonfort\",\"Maysside\",\"Medinatown\",\"Meganshire\",\"Mendezmouth\",\"Mooneybury\",\"Mooreview\",\"New Amanda\",\"New Daniel\",\"New Jessica\",\"New Michaelmouth\",\"New Tiffanystad\",\"North Ashley\",\"North Chase\",\"North Garybury\",\"North Jamesberg\",\"North Mariahchester\",\"North Stevenbury\",\"Penabury\",\"Port Aaron\",\"Port Carrie\",\"Port Erin\",\"Port Lisamouth\",\"Port Michael\",\"Port Patrick\",\"Port Peter\",\"Port Robin\",\"Reidland\",\"Smithmouth\",\"Solisburgh\",\"South Alicia\",\"Spenceland\",\"Stevenchester\",\"Toddberg\",\"Walterton\",\"West Kara\",\"West Kevin\",\"West Vanessafort\",\"Wheelermouth\",\"Williamland\",\"Williamsonmouth\",\"Williamview\",\"Zimmermanville\",\"Allenborough\",\"Amberton\",\"Andreaborough\",\"Anthonyshire\",\"Brittanyville\",\"Brookeland\",\"Carlborough\",\"Carolchester\",\"Christinaland\",\"Christinetown\",\"Christopherstad\",\"Coleburgh\",\"Devinmouth\",\"East Deborah\",\"East Deniseborough\",\"East Elizabethberg\",\"East Kimberly\",\"East Robert\",\"East Sheena\",\"Garciaport\",\"Jasonmouth\",\"Jessicaland\",\"Jimmyberg\",\"Joneshaven\",\"Joshuastad\",\"Lake Christopherburgh\",\"Lake Raymondton\",\"Lake Vanessaland\",\"Leslieville\",\"Lewisberg\",\"Madelinechester\",\"Manningshire\",\"Maxwellburgh\",\"Mitchellmouth\",\"Murrayborough\",\"New Carol\",\"New Jessica\",\"New Leslieport\",\"New Michelle\",\"New Monicaside\",\"New Ninashire\",\"Nolanmouth\",\"North Amanda\",\"North Charlesside\",\"North Destiny\",\"North Ebony\",\"North Garybury\",\"North Melanie\",\"North Nathan\",\"Port Anita\",\"Port David\",\"Port Leahfurt\",\"Port Lisamouth\",\"Port Marissachester\",\"Samueltown\",\"South Alicia\",\"South Jessicachester\",\"South Russelltown\",\"South Tylerstad\",\"Strongmouth\",\"Tamaraside\",\"West Aliciabury\",\"West Lauraborough\",\"West Matthew\",\"West Robert\",\"West Sharonview\",\"West Whitneymouth\",\"Westbury\",\"Allenton\",\"Bartonborough\",\"Belindaville\",\"Brandyberg\",\"Brownberg\",\"Cameronside\",\"Cunninghambury\",\"Darrylchester\",\"East Amyfurt\",\"East Bernard\",\"East John\",\"East Lisa\",\"East Meganfort\",\"East Richardside\",\"Frederickside\",\"Garciaside\",\"Herbertbury\",\"Hollyhaven\",\"Huberstad\",\"Jamesfurt\",\"Jasonstad\",\"Jimmyberg\",\"Jonathanhaven\",\"Jonathanstad\",\"Joseville\",\"Katherinefurt\",\"Kellytown\",\"Lake Alicia\",\"Lake Christophermouth\",\"Lake George\",\"Lake Heather\",\"Lake Jason\",\"Lake Joseph\",\"Lake Rachael\",\"Lake Ryanbury\",\"Lewisberg\",\"Lindseybury\",\"Manningshire\",\"New Evanport\",\"North Brentbury\",\"North Caitlin\",\"North Edwinchester\",\"North Elizabeth\",\"North Julieburgh\",\"North Kennethshire\",\"North Kevinhaven\",\"North Lisaland\",\"North Michelle\",\"North Mike\",\"North Sherrimouth\",\"Olsenstad\",\"Pamelaberg\",\"Patrickmouth\",\"Perezport\",\"Pereztown\",\"Port Connie\",\"Port Melissa\",\"Port Michael\",\"Port Robin\",\"Port Rubenville\",\"Roystad\",\"Ruizmouth\",\"Sandrastad\",\"Sharonton\",\"Shirleyland\",\"Snyderton\",\"South Bradleyburgh\",\"South Crystalberg\",\"South Kathryn\",\"South Lisaberg\",\"Taylormouth\",\"Thomasville\",\"Villastad\",\"Wadeville\",\"Walkerfurt\",\"West Cherylfort\",\"Williamsmouth\",\"Anthonyton\",\"Bairdfort\",\"Bartonborough\",\"Benjaminstad\",\"Bradleyport\",\"Brendantown\",\"Browntown\",\"Cannonside\",\"Coleburgh\",\"Davisview\",\"Donnaborough\",\"East Angela\",\"East Austin\",\"East Craig\",\"East Laurashire\",\"East Michelle\",\"East Robert\",\"East Sandra\",\"East Sheena\",\"East Stephanie\",\"East Tammy\",\"East Terrancemouth\",\"Francisshire\",\"Garciamouth\",\"Heathermouth\",\"Janetborough\",\"Jefferyside\",\"Jennifertown\",\"Jordanborough\",\"Josephburgh\",\"Lake Andrewmouth\",\"Lake Christophermouth\",\"Lake James\",\"Lake Jeffreytown\",\"Lake Jessicamouth\",\"Lake Regina\",\"Lake Tamara\",\"Lake Travis\",\"Lesterstad\",\"Lewishaven\",\"Lindseybury\",\"Lisamouth\",\"Lopezport\",\"Louismouth\",\"Madisonfort\",\"Mendezmouth\",\"Michaelview\",\"Mortonfort\",\"Moseshaven\",\"New Connorfort\",\"New Evanport\",\"New Larry\",\"New Lisa\",\"New Rodneyville\",\"North Brooke\",\"North Charlesside\",\"North Nicholas\",\"North Sherrimouth\",\"North Susan\",\"North Tom\",\"Penabury\",\"Perezport\",\"Port Connie\",\"Port Ronaldshire\",\"Robertshire\",\"Rodriguezview\",\"Russellfurt\",\"Salinasville\",\"South Andrewport\",\"South Bryan\",\"South Christopherborough\",\"South Danielle\",\"South Donald\",\"South Johnshire\",\"South Marthahaven\",\"South Michaelberg\",\"Strongmouth\",\"Timothychester\",\"Velazquezview\",\"Walterborough\",\"Watsonstad\",\"West Amandafurt\",\"West Brandon\",\"West Corey\",\"West Danielborough\",\"West Juliabury\",\"West Samuelfurt\",\"West Sharonview\",\"West Whitneymouth\",\"Williamsfort\",\"Williamsmouth\",\"Yatesside\",\"Allenton\",\"Andersonmouth\",\"Basstown\",\"Belindaville\",\"Bonillahaven\",\"Brittanyport\",\"Cameronside\",\"Coleburgh\",\"East Angelafort\",\"East Ashleyshire\",\"East Candace\",\"East Christophertown\",\"East Craig\",\"East Cynthia\",\"East Edwinburgh\",\"East Emilyburgh\",\"East Heatherport\",\"East Shanestad\",\"East Timothy\",\"Francisshire\",\"Gibsonfort\",\"Harrishaven\",\"Jasonland\",\"Jefferyside\",\"Johnton\",\"Jonathanmouth\",\"Jonathanstad\",\"Lake Anthonyport\",\"Lake Christopherburgh\",\"Lake Deborah\",\"Lake Jamestown\",\"Lake Jason\",\"Lake Latasha\",\"Lake Rachael\",\"Lake Stephen\",\"Lake Theresa\",\"Latoyaberg\",\"Lindseybury\",\"Manningshire\",\"Markport\",\"Marthaside\",\"Maxwellburgh\",\"Meghanfurt\",\"Millerview\",\"New Amanda\",\"New Bobbytown\",\"New Carol\",\"New Curtis\",\"New Erica\",\"New Jamesburgh\",\"New Joel\",\"New John\",\"New Travisshire\",\"Nicoletown\",\"North Aaron\",\"North Amanda\",\"North Ebony\",\"North James\",\"North Keith\",\"Port Andrea\",\"Port Bryce\",\"Port Donnaton\",\"Port Dustin\",\"Port Emily\",\"Port Jacob\",\"Port Jeffrey\",\"Port Troychester\",\"Raybury\",\"Rebeccaburgh\",\"Riceshire\",\"Rogersmouth\",\"Sarahland\",\"Sharonton\",\"South Jacobport\",\"South Jerryside\",\"South Justinborough\",\"South Kathryn\",\"South Stefanietown\",\"South Thomasville\",\"South Tiffanyfort\",\"Tinamouth\",\"West Karen\",\"West Lisamouth\",\"West Lucasville\",\"Zimmermanville\",\"Alexanderchester\",\"Brittanyland\",\"Chelseyfort\",\"Colemanton\",\"Collinsmouth\",\"Cordovaborough\",\"Davidborough\",\"Donnaborough\",\"East Aaron\",\"East Andrea\",\"East Angela\",\"East Lisa\",\"East Robert\",\"East Samantha\",\"East Sandratown\",\"East Stephanie\",\"Gardnerfort\",\"Grahamside\",\"Jamesport\",\"Jessicaland\",\"Jimmyberg\",\"Johnsonborough\",\"Johnsonside\",\"Jonathanstad\",\"Jordanborough\",\"Justinhaven\",\"Kevinfort\",\"Lake Benjamin\",\"Lake Jasmin\",\"Lake Lauraton\",\"Lake Lorrainefort\",\"Lake Nathan\",\"Lake Shelby\",\"Laurietown\",\"Lindseyland\",\"Manningshire\",\"Manuelhaven\",\"Maxwellburgh\",\"Maynardstad\",\"Medinatown\",\"New Douglas\",\"New Ginaborough\",\"New Hannah\",\"New Travisshire\",\"New Zachary\",\"North Brendaborough\",\"North Douglasfurt\",\"North Gary\",\"North Ianbury\",\"North Keith\",\"North Kylestad\",\"North Ryan\",\"North Victoriastad\",\"Pearsonchester\",\"Port Davidshire\",\"Port Emilyburgh\",\"Port Gregton\",\"Port Jeffrey\",\"Port Lesliebury\",\"Port Markview\",\"Port Patrick\",\"Port Richardshire\",\"Port Robertport\",\"Ramseyfort\",\"Reyesshire\",\"Richardsonhaven\",\"Rodriguezview\",\"Saraburgh\",\"Sarahland\",\"Shortfurt\",\"Snyderton\",\"South Andrewport\",\"South Anne\",\"South Douglashaven\",\"South Edwardtown\",\"South Michellechester\",\"South Nicole\",\"Sylviabury\",\"Thomasville\",\"Timothyview\",\"Vazquezshire\",\"West Sharonview\",\"West Whitneymouth\",\"Annahaven\",\"Anneville\",\"Blaketown\",\"Boylechester\",\"Bradleyport\",\"Brianside\",\"Brittanyside\",\"Castilloport\",\"Christopherton\",\"Cisnerostown\",\"Connieside\",\"Derekport\",\"Devinmouth\",\"East Angela\",\"East Anthony\",\"East Heatherport\",\"East Melissa\",\"East Williamshire\",\"Garciatown\",\"Gardnerfort\",\"Harrishaven\",\"Jeffreyshire\",\"Jimmyberg\",\"Jonathanmouth\",\"Jordanborough\",\"Lake Andrewmouth\",\"Lake Diane\",\"Lake Kristentown\",\"Lake Vanessa\",\"Leslieville\",\"Linchester\",\"Michaelton\",\"Millerview\",\"Moralesside\",\"Morganhaven\",\"Muellermouth\",\"New Amanda\",\"New Richard\",\"North Amanda\",\"North Carolfurt\",\"North Chase\",\"North Douglasfurt\",\"North Ianbury\",\"North Mike\",\"North Steven\",\"Pamelaberg\",\"Pereztown\",\"Port Bryce\",\"Port Daniellechester\",\"Port Melanie\",\"Port Tanyaburgh\",\"Randallchester\",\"Russellfurt\",\"Sandrastad\",\"Solisburgh\",\"South Bryan\",\"South Christopherborough\",\"South Robert\",\"Steveport\",\"Tammyside\",\"Watsonton\",\"West Catherine\",\"West Corey\",\"West Dannyland\",\"West James\",\"West Juliabury\",\"West Lauraborough\",\"West Melissa\",\"West Samuelfurt\",\"Woodport\",\"Zimmermanville\",\"Andersonville\",\"Andreaborough\",\"Anthonyborough\",\"Batesstad\",\"Bellport\",\"Brookeland\",\"Crystalborough\",\"Darrylchester\",\"Deckermouth\",\"East Anthony\",\"East Brittanyland\",\"East Elizabeth\",\"East Elizabethberg\",\"East Richardside\",\"East Sandratown\",\"East Stephanie\",\"Elliottberg\",\"Floresville\",\"Fowlerbury\",\"Frederickside\",\"Gaineschester\",\"Gardnerfort\",\"Gutierrezshire\",\"Jasmineberg\",\"Jeffreybury\",\"Lake Andrewmouth\",\"Madisonfort\",\"Manuelhaven\",\"Marissaville\",\"Mcclainfurt\",\"Mooremouth\",\"Moralesside\",\"New Calebberg\",\"New Denise\",\"New Hollyfurt\",\"North Katelynland\",\"North Lindseychester\",\"North Sherrimouth\",\"Padillatown\",\"Pamelaberg\",\"Port Amandamouth\",\"Port Kevinburgh\",\"Port Michaelshire\",\"Sheenashire\",\"Sheilaburgh\",\"South Brenda\",\"South Davidside\",\"South Edwardtown\",\"South Karen\",\"South Nicholasville\",\"South Richard\",\"South Richardhaven\",\"Stephanieberg\",\"Thomasville\",\"Torresshire\",\"Valentineside\",\"Walterborough\",\"West Anthonymouth\",\"West Miaside\",\"West Samantha\",\"Williamsonmouth\"],\"xaxis\":\"x\",\"y\":[0,0,0,0,0,0,0,0,0,0,0,0,0,0,0,0,0,0,0,0,0,0,0,0,0,0,0,0,0,0,0,0,0,0,0,0,0,0,0,0,0,0,0,0,0,0,0,0,0,0,0,0,0,0,0,0,0,0,0,0,0,0,0,0,0,0,0,0,0,0,0,0,0,0,0,0,0,0,0,0,0,0,0,0,0,0,0,0,0,0,0,0,0,0,0,0,0,0,0,0,0,0,0,0,0,0,0,0,0,0,0,0,0,0,0,0,0,0,0,0,0,0,0,0,0,0,0,0,0,0,0,0,0,0,0,0,0,0,0,0,0,0,0,0,0,0,0,0,0,0,0,0,0,0,0,0,0,0,0,0,0,0,0,0,0,0,0,0,0,0,0,0,0,0,0,0,0,0,0,0,0,0,0,0,0,0,0,0,0,0,0,0,0,0,0,0,0,0,0,0,0,0,0,0,0,0,0,0,0,0,0,0,0,0,0,0,0,0,0,0,0,0,0,0,0,0,0,0,0,0,0,0,0,0,0,0,0,0,0,0,0,0,0,0,0,0,0,0,0,0,0,0,0,0,0,0,0,0,0,0,0,0,0,0,0,0,0,0,0,0,0,0,0,0,0,0,0,0,0,0,0,0,0,0,0,0,0,0,0,0,0,0,0,0,0,0,0,0,0,0,0,0,0,0,0,0,0,0,0,0,0,0,0,0,0,0,0,0,0,0,0,0,0,0,0,0,0,0,0,0,0,0,0,0,0,0,0,0,0,0,0,0,0,0,0,0,0,0,0,0,0,0,0,0,0,0,0,0,0,0,0,0,0,0,0,0,0,0,0,0,0,0,0,0,0,0,0,0,0,0,0,0,0,0,0,0,0,0,0,0,0,0,0,0,0,0,0,0,0,0,0,0,0,0,0,0,0,0,0,0,0,0,0,0,0,0,0,0,0,0,0,0,0,0,0,0,0,0,0,0,0,0,0,0,0,0,0,0,0,0,0,0,0,0,0,0,0,0,0,0,0,0,0,0,0,0,0,0,0,0,0,0,0,0,0,0,0,0,0,0,0,0,0,0,0,0,0,0,0,0,0,0,0,0,0,0,0,0,0,0,0,0,0,0,0,0,0,0,0,0,0,0,0,0,0,0,0,0,0,0,0,0,0,0,0,0,0,0,0,0,0,0,0,0,0,0,0,0,0,0,0,0,0,0,0,0,0,0,0,0,0,0,0,0,0,0,0,0,0,0,0,0,0,0,0,0,0,0,0,0,0,0,0,0,0,0,0,0,0,0,0,0,0,0,0,0,0,0,0,0,0,0,0,0,0,0,0,0,0,0,0,0,0,0,0,0,0,0,0,0,0,0,0,0,0,0,0,0,0,0,0,0,0,0,0,0,0,0,0,0,0,0,0,0,0,0,0,0,0,0,0,0,0,0,0,0,0,0,0,0,0,0,0,0,0,0,0,0,0,0,0,0,0,0,0,0,0,0,0,0,0,0,0,0,0,0,0,0,0,0,0,0,0,0,0,0,0,0,0,0,0,0,0,0,0,0,0,0,0,0,0,0,0,0,0,0,0,0,0,0,0,0,0,0,0,0,0,0,0,0,0,0,0,0,0,0,0,0,0,0,0,0,0,0,0,0,0,0,0,0,0,0,0,0,0,0,0,0,0,0,0,0,0,0,0,0,0,0,0,0,0,0,0,0,0,0,0,0,0,0,0,0,0,0,0,0,0,0,0,0,0,0,0,0,0,0,0,0,0,0,0,0,0,0,0,0,0,0,0,0,0,0,0,0,0,0,0,0,0,0,0,0,0,0,0,0,0,0,0,0,0,0,0,0,0,0,0,0,0,0,0,0,0,0,0,0,0,0,0,0,0,0,0,0,0,0,0,0,0,0,0,0,0,0,0,0,0,0,0,0,0,0,0,0,0,0,0,0,0,0,0,0,0,0,0,0,0,0,0,0,0,0,0,0,0,0,0,0,0,0,0,0,0,0,0,0,0,0,0,0,0,0,0,0,0,0,0,0,0,0,0,0,0,0,0,0,0,0,0,0,0,0,0,0,0,0,0,0,0,0,0,0,0,0,0,0,0,0,0,0,0,0,0,0,0,0,0,0,0,0,0,0,0,0,0,0,0,0,0,0,0,0,0,0,0,0],\"yaxis\":\"y\",\"type\":\"bar\"}],                        {\"template\":{\"data\":{\"histogram2dcontour\":[{\"type\":\"histogram2dcontour\",\"colorbar\":{\"outlinewidth\":0,\"ticks\":\"\"},\"colorscale\":[[0.0,\"#0d0887\"],[0.1111111111111111,\"#46039f\"],[0.2222222222222222,\"#7201a8\"],[0.3333333333333333,\"#9c179e\"],[0.4444444444444444,\"#bd3786\"],[0.5555555555555556,\"#d8576b\"],[0.6666666666666666,\"#ed7953\"],[0.7777777777777778,\"#fb9f3a\"],[0.8888888888888888,\"#fdca26\"],[1.0,\"#f0f921\"]]}],\"choropleth\":[{\"type\":\"choropleth\",\"colorbar\":{\"outlinewidth\":0,\"ticks\":\"\"}}],\"histogram2d\":[{\"type\":\"histogram2d\",\"colorbar\":{\"outlinewidth\":0,\"ticks\":\"\"},\"colorscale\":[[0.0,\"#0d0887\"],[0.1111111111111111,\"#46039f\"],[0.2222222222222222,\"#7201a8\"],[0.3333333333333333,\"#9c179e\"],[0.4444444444444444,\"#bd3786\"],[0.5555555555555556,\"#d8576b\"],[0.6666666666666666,\"#ed7953\"],[0.7777777777777778,\"#fb9f3a\"],[0.8888888888888888,\"#fdca26\"],[1.0,\"#f0f921\"]]}],\"heatmap\":[{\"type\":\"heatmap\",\"colorbar\":{\"outlinewidth\":0,\"ticks\":\"\"},\"colorscale\":[[0.0,\"#0d0887\"],[0.1111111111111111,\"#46039f\"],[0.2222222222222222,\"#7201a8\"],[0.3333333333333333,\"#9c179e\"],[0.4444444444444444,\"#bd3786\"],[0.5555555555555556,\"#d8576b\"],[0.6666666666666666,\"#ed7953\"],[0.7777777777777778,\"#fb9f3a\"],[0.8888888888888888,\"#fdca26\"],[1.0,\"#f0f921\"]]}],\"heatmapgl\":[{\"type\":\"heatmapgl\",\"colorbar\":{\"outlinewidth\":0,\"ticks\":\"\"},\"colorscale\":[[0.0,\"#0d0887\"],[0.1111111111111111,\"#46039f\"],[0.2222222222222222,\"#7201a8\"],[0.3333333333333333,\"#9c179e\"],[0.4444444444444444,\"#bd3786\"],[0.5555555555555556,\"#d8576b\"],[0.6666666666666666,\"#ed7953\"],[0.7777777777777778,\"#fb9f3a\"],[0.8888888888888888,\"#fdca26\"],[1.0,\"#f0f921\"]]}],\"contourcarpet\":[{\"type\":\"contourcarpet\",\"colorbar\":{\"outlinewidth\":0,\"ticks\":\"\"}}],\"contour\":[{\"type\":\"contour\",\"colorbar\":{\"outlinewidth\":0,\"ticks\":\"\"},\"colorscale\":[[0.0,\"#0d0887\"],[0.1111111111111111,\"#46039f\"],[0.2222222222222222,\"#7201a8\"],[0.3333333333333333,\"#9c179e\"],[0.4444444444444444,\"#bd3786\"],[0.5555555555555556,\"#d8576b\"],[0.6666666666666666,\"#ed7953\"],[0.7777777777777778,\"#fb9f3a\"],[0.8888888888888888,\"#fdca26\"],[1.0,\"#f0f921\"]]}],\"surface\":[{\"type\":\"surface\",\"colorbar\":{\"outlinewidth\":0,\"ticks\":\"\"},\"colorscale\":[[0.0,\"#0d0887\"],[0.1111111111111111,\"#46039f\"],[0.2222222222222222,\"#7201a8\"],[0.3333333333333333,\"#9c179e\"],[0.4444444444444444,\"#bd3786\"],[0.5555555555555556,\"#d8576b\"],[0.6666666666666666,\"#ed7953\"],[0.7777777777777778,\"#fb9f3a\"],[0.8888888888888888,\"#fdca26\"],[1.0,\"#f0f921\"]]}],\"mesh3d\":[{\"type\":\"mesh3d\",\"colorbar\":{\"outlinewidth\":0,\"ticks\":\"\"}}],\"scatter\":[{\"fillpattern\":{\"fillmode\":\"overlay\",\"size\":10,\"solidity\":0.2},\"type\":\"scatter\"}],\"parcoords\":[{\"type\":\"parcoords\",\"line\":{\"colorbar\":{\"outlinewidth\":0,\"ticks\":\"\"}}}],\"scatterpolargl\":[{\"type\":\"scatterpolargl\",\"marker\":{\"colorbar\":{\"outlinewidth\":0,\"ticks\":\"\"}}}],\"bar\":[{\"error_x\":{\"color\":\"#2a3f5f\"},\"error_y\":{\"color\":\"#2a3f5f\"},\"marker\":{\"line\":{\"color\":\"#E5ECF6\",\"width\":0.5},\"pattern\":{\"fillmode\":\"overlay\",\"size\":10,\"solidity\":0.2}},\"type\":\"bar\"}],\"scattergeo\":[{\"type\":\"scattergeo\",\"marker\":{\"colorbar\":{\"outlinewidth\":0,\"ticks\":\"\"}}}],\"scatterpolar\":[{\"type\":\"scatterpolar\",\"marker\":{\"colorbar\":{\"outlinewidth\":0,\"ticks\":\"\"}}}],\"histogram\":[{\"marker\":{\"pattern\":{\"fillmode\":\"overlay\",\"size\":10,\"solidity\":0.2}},\"type\":\"histogram\"}],\"scattergl\":[{\"type\":\"scattergl\",\"marker\":{\"colorbar\":{\"outlinewidth\":0,\"ticks\":\"\"}}}],\"scatter3d\":[{\"type\":\"scatter3d\",\"line\":{\"colorbar\":{\"outlinewidth\":0,\"ticks\":\"\"}},\"marker\":{\"colorbar\":{\"outlinewidth\":0,\"ticks\":\"\"}}}],\"scattermapbox\":[{\"type\":\"scattermapbox\",\"marker\":{\"colorbar\":{\"outlinewidth\":0,\"ticks\":\"\"}}}],\"scatterternary\":[{\"type\":\"scatterternary\",\"marker\":{\"colorbar\":{\"outlinewidth\":0,\"ticks\":\"\"}}}],\"scattercarpet\":[{\"type\":\"scattercarpet\",\"marker\":{\"colorbar\":{\"outlinewidth\":0,\"ticks\":\"\"}}}],\"carpet\":[{\"aaxis\":{\"endlinecolor\":\"#2a3f5f\",\"gridcolor\":\"white\",\"linecolor\":\"white\",\"minorgridcolor\":\"white\",\"startlinecolor\":\"#2a3f5f\"},\"baxis\":{\"endlinecolor\":\"#2a3f5f\",\"gridcolor\":\"white\",\"linecolor\":\"white\",\"minorgridcolor\":\"white\",\"startlinecolor\":\"#2a3f5f\"},\"type\":\"carpet\"}],\"table\":[{\"cells\":{\"fill\":{\"color\":\"#EBF0F8\"},\"line\":{\"color\":\"white\"}},\"header\":{\"fill\":{\"color\":\"#C8D4E3\"},\"line\":{\"color\":\"white\"}},\"type\":\"table\"}],\"barpolar\":[{\"marker\":{\"line\":{\"color\":\"#E5ECF6\",\"width\":0.5},\"pattern\":{\"fillmode\":\"overlay\",\"size\":10,\"solidity\":0.2}},\"type\":\"barpolar\"}],\"pie\":[{\"automargin\":true,\"type\":\"pie\"}]},\"layout\":{\"autotypenumbers\":\"strict\",\"colorway\":[\"#636efa\",\"#EF553B\",\"#00cc96\",\"#ab63fa\",\"#FFA15A\",\"#19d3f3\",\"#FF6692\",\"#B6E880\",\"#FF97FF\",\"#FECB52\"],\"font\":{\"color\":\"#2a3f5f\"},\"hovermode\":\"closest\",\"hoverlabel\":{\"align\":\"left\"},\"paper_bgcolor\":\"white\",\"plot_bgcolor\":\"#E5ECF6\",\"polar\":{\"bgcolor\":\"#E5ECF6\",\"angularaxis\":{\"gridcolor\":\"white\",\"linecolor\":\"white\",\"ticks\":\"\"},\"radialaxis\":{\"gridcolor\":\"white\",\"linecolor\":\"white\",\"ticks\":\"\"}},\"ternary\":{\"bgcolor\":\"#E5ECF6\",\"aaxis\":{\"gridcolor\":\"white\",\"linecolor\":\"white\",\"ticks\":\"\"},\"baxis\":{\"gridcolor\":\"white\",\"linecolor\":\"white\",\"ticks\":\"\"},\"caxis\":{\"gridcolor\":\"white\",\"linecolor\":\"white\",\"ticks\":\"\"}},\"coloraxis\":{\"colorbar\":{\"outlinewidth\":0,\"ticks\":\"\"}},\"colorscale\":{\"sequential\":[[0.0,\"#0d0887\"],[0.1111111111111111,\"#46039f\"],[0.2222222222222222,\"#7201a8\"],[0.3333333333333333,\"#9c179e\"],[0.4444444444444444,\"#bd3786\"],[0.5555555555555556,\"#d8576b\"],[0.6666666666666666,\"#ed7953\"],[0.7777777777777778,\"#fb9f3a\"],[0.8888888888888888,\"#fdca26\"],[1.0,\"#f0f921\"]],\"sequentialminus\":[[0.0,\"#0d0887\"],[0.1111111111111111,\"#46039f\"],[0.2222222222222222,\"#7201a8\"],[0.3333333333333333,\"#9c179e\"],[0.4444444444444444,\"#bd3786\"],[0.5555555555555556,\"#d8576b\"],[0.6666666666666666,\"#ed7953\"],[0.7777777777777778,\"#fb9f3a\"],[0.8888888888888888,\"#fdca26\"],[1.0,\"#f0f921\"]],\"diverging\":[[0,\"#8e0152\"],[0.1,\"#c51b7d\"],[0.2,\"#de77ae\"],[0.3,\"#f1b6da\"],[0.4,\"#fde0ef\"],[0.5,\"#f7f7f7\"],[0.6,\"#e6f5d0\"],[0.7,\"#b8e186\"],[0.8,\"#7fbc41\"],[0.9,\"#4d9221\"],[1,\"#276419\"]]},\"xaxis\":{\"gridcolor\":\"white\",\"linecolor\":\"white\",\"ticks\":\"\",\"title\":{\"standoff\":15},\"zerolinecolor\":\"white\",\"automargin\":true,\"zerolinewidth\":2},\"yaxis\":{\"gridcolor\":\"white\",\"linecolor\":\"white\",\"ticks\":\"\",\"title\":{\"standoff\":15},\"zerolinecolor\":\"white\",\"automargin\":true,\"zerolinewidth\":2},\"scene\":{\"xaxis\":{\"backgroundcolor\":\"#E5ECF6\",\"gridcolor\":\"white\",\"linecolor\":\"white\",\"showbackground\":true,\"ticks\":\"\",\"zerolinecolor\":\"white\",\"gridwidth\":2},\"yaxis\":{\"backgroundcolor\":\"#E5ECF6\",\"gridcolor\":\"white\",\"linecolor\":\"white\",\"showbackground\":true,\"ticks\":\"\",\"zerolinecolor\":\"white\",\"gridwidth\":2},\"zaxis\":{\"backgroundcolor\":\"#E5ECF6\",\"gridcolor\":\"white\",\"linecolor\":\"white\",\"showbackground\":true,\"ticks\":\"\",\"zerolinecolor\":\"white\",\"gridwidth\":2}},\"shapedefaults\":{\"line\":{\"color\":\"#2a3f5f\"}},\"annotationdefaults\":{\"arrowcolor\":\"#2a3f5f\",\"arrowhead\":0,\"arrowwidth\":1},\"geo\":{\"bgcolor\":\"white\",\"landcolor\":\"#E5ECF6\",\"subunitcolor\":\"white\",\"showland\":true,\"showlakes\":true,\"lakecolor\":\"white\"},\"title\":{\"x\":0.05},\"mapbox\":{\"style\":\"light\"}}},\"xaxis\":{\"anchor\":\"y\",\"domain\":[0.0,1.0],\"title\":{\"text\":\"City\"}},\"yaxis\":{\"anchor\":\"x\",\"domain\":[0.0,1.0],\"title\":{\"text\":\"Number of Items\"}},\"legend\":{\"title\":{\"text\":\"variable\"},\"tracegroupgap\":0},\"title\":{\"text\":\"📊 Food Wastage by City (Expired vs Expiring Soon)\"},\"barmode\":\"stack\"},                        {\"responsive\": true}                    ).then(function(){\n",
              "                            \n",
              "var gd = document.getElementById('02136002-41c4-4b36-b2b1-e0de01714175');\n",
              "var x = new MutationObserver(function (mutations, observer) {{\n",
              "        var display = window.getComputedStyle(gd).display;\n",
              "        if (!display || display === 'none') {{\n",
              "            console.log([gd, 'removed!']);\n",
              "            Plotly.purge(gd);\n",
              "            observer.disconnect();\n",
              "        }}\n",
              "}});\n",
              "\n",
              "// Listen for the removal of the full notebook cells\n",
              "var notebookContainer = gd.closest('#notebook-container');\n",
              "if (notebookContainer) {{\n",
              "    x.observe(notebookContainer, {childList: true});\n",
              "}}\n",
              "\n",
              "// Listen for the clearing of the current output cell\n",
              "var outputEl = gd.closest('.output');\n",
              "if (outputEl) {{\n",
              "    x.observe(outputEl, {childList: true});\n",
              "}}\n",
              "\n",
              "                        })                };                            </script>        </div>\n",
              "</body>\n",
              "</html>"
            ]
          },
          "metadata": {}
        },
        {
          "output_type": "display_data",
          "data": {
            "text/html": [
              "<html>\n",
              "<head><meta charset=\"utf-8\" /></head>\n",
              "<body>\n",
              "    <div>            <script src=\"https://cdnjs.cloudflare.com/ajax/libs/mathjax/2.7.5/MathJax.js?config=TeX-AMS-MML_SVG\"></script><script type=\"text/javascript\">if (window.MathJax && window.MathJax.Hub && window.MathJax.Hub.Config) {window.MathJax.Hub.Config({SVG: {font: \"STIX-Web\"}});}</script>                <script type=\"text/javascript\">window.PlotlyConfig = {MathJaxConfig: 'local'};</script>\n",
              "        <script charset=\"utf-8\" src=\"https://cdn.plot.ly/plotly-2.35.2.min.js\"></script>                <div id=\"6e2cb9c2-32ca-4403-8036-7f61da7ea655\" class=\"plotly-graph-div\" style=\"height:525px; width:100%;\"></div>            <script type=\"text/javascript\">                                    window.PLOTLYENV=window.PLOTLYENV || {};                                    if (document.getElementById(\"6e2cb9c2-32ca-4403-8036-7f61da7ea655\")) {                    Plotly.newPlot(                        \"6e2cb9c2-32ca-4403-8036-7f61da7ea655\",                        [{\"alignmentgroup\":\"True\",\"hovertemplate\":\"City=%{x}\\u003cbr\\u003eExpired Items=%{marker.color}\\u003cextra\\u003e\\u003c\\u002fextra\\u003e\",\"legendgroup\":\"\",\"marker\":{\"color\":[6,6,5,5,5,4,4,4,4,4],\"coloraxis\":\"coloraxis\",\"pattern\":{\"shape\":\"\"}},\"name\":\"\",\"offsetgroup\":\"\",\"orientation\":\"v\",\"showlegend\":false,\"text\":[6.0,6.0,5.0,5.0,5.0,4.0,4.0,4.0,4.0,4.0],\"textposition\":\"outside\",\"x\":[\"South Kathryn\",\"New Carol\",\"Jimmyberg\",\"Perezport\",\"East Angela\",\"South Christopherborough\",\"Davidville\",\"Lake Travis\",\"North Keith\",\"Port Patrick\"],\"xaxis\":\"x\",\"y\":[6,6,5,5,5,4,4,4,4,4],\"yaxis\":\"y\",\"type\":\"bar\"}],                        {\"template\":{\"data\":{\"histogram2dcontour\":[{\"type\":\"histogram2dcontour\",\"colorbar\":{\"outlinewidth\":0,\"ticks\":\"\"},\"colorscale\":[[0.0,\"#0d0887\"],[0.1111111111111111,\"#46039f\"],[0.2222222222222222,\"#7201a8\"],[0.3333333333333333,\"#9c179e\"],[0.4444444444444444,\"#bd3786\"],[0.5555555555555556,\"#d8576b\"],[0.6666666666666666,\"#ed7953\"],[0.7777777777777778,\"#fb9f3a\"],[0.8888888888888888,\"#fdca26\"],[1.0,\"#f0f921\"]]}],\"choropleth\":[{\"type\":\"choropleth\",\"colorbar\":{\"outlinewidth\":0,\"ticks\":\"\"}}],\"histogram2d\":[{\"type\":\"histogram2d\",\"colorbar\":{\"outlinewidth\":0,\"ticks\":\"\"},\"colorscale\":[[0.0,\"#0d0887\"],[0.1111111111111111,\"#46039f\"],[0.2222222222222222,\"#7201a8\"],[0.3333333333333333,\"#9c179e\"],[0.4444444444444444,\"#bd3786\"],[0.5555555555555556,\"#d8576b\"],[0.6666666666666666,\"#ed7953\"],[0.7777777777777778,\"#fb9f3a\"],[0.8888888888888888,\"#fdca26\"],[1.0,\"#f0f921\"]]}],\"heatmap\":[{\"type\":\"heatmap\",\"colorbar\":{\"outlinewidth\":0,\"ticks\":\"\"},\"colorscale\":[[0.0,\"#0d0887\"],[0.1111111111111111,\"#46039f\"],[0.2222222222222222,\"#7201a8\"],[0.3333333333333333,\"#9c179e\"],[0.4444444444444444,\"#bd3786\"],[0.5555555555555556,\"#d8576b\"],[0.6666666666666666,\"#ed7953\"],[0.7777777777777778,\"#fb9f3a\"],[0.8888888888888888,\"#fdca26\"],[1.0,\"#f0f921\"]]}],\"heatmapgl\":[{\"type\":\"heatmapgl\",\"colorbar\":{\"outlinewidth\":0,\"ticks\":\"\"},\"colorscale\":[[0.0,\"#0d0887\"],[0.1111111111111111,\"#46039f\"],[0.2222222222222222,\"#7201a8\"],[0.3333333333333333,\"#9c179e\"],[0.4444444444444444,\"#bd3786\"],[0.5555555555555556,\"#d8576b\"],[0.6666666666666666,\"#ed7953\"],[0.7777777777777778,\"#fb9f3a\"],[0.8888888888888888,\"#fdca26\"],[1.0,\"#f0f921\"]]}],\"contourcarpet\":[{\"type\":\"contourcarpet\",\"colorbar\":{\"outlinewidth\":0,\"ticks\":\"\"}}],\"contour\":[{\"type\":\"contour\",\"colorbar\":{\"outlinewidth\":0,\"ticks\":\"\"},\"colorscale\":[[0.0,\"#0d0887\"],[0.1111111111111111,\"#46039f\"],[0.2222222222222222,\"#7201a8\"],[0.3333333333333333,\"#9c179e\"],[0.4444444444444444,\"#bd3786\"],[0.5555555555555556,\"#d8576b\"],[0.6666666666666666,\"#ed7953\"],[0.7777777777777778,\"#fb9f3a\"],[0.8888888888888888,\"#fdca26\"],[1.0,\"#f0f921\"]]}],\"surface\":[{\"type\":\"surface\",\"colorbar\":{\"outlinewidth\":0,\"ticks\":\"\"},\"colorscale\":[[0.0,\"#0d0887\"],[0.1111111111111111,\"#46039f\"],[0.2222222222222222,\"#7201a8\"],[0.3333333333333333,\"#9c179e\"],[0.4444444444444444,\"#bd3786\"],[0.5555555555555556,\"#d8576b\"],[0.6666666666666666,\"#ed7953\"],[0.7777777777777778,\"#fb9f3a\"],[0.8888888888888888,\"#fdca26\"],[1.0,\"#f0f921\"]]}],\"mesh3d\":[{\"type\":\"mesh3d\",\"colorbar\":{\"outlinewidth\":0,\"ticks\":\"\"}}],\"scatter\":[{\"fillpattern\":{\"fillmode\":\"overlay\",\"size\":10,\"solidity\":0.2},\"type\":\"scatter\"}],\"parcoords\":[{\"type\":\"parcoords\",\"line\":{\"colorbar\":{\"outlinewidth\":0,\"ticks\":\"\"}}}],\"scatterpolargl\":[{\"type\":\"scatterpolargl\",\"marker\":{\"colorbar\":{\"outlinewidth\":0,\"ticks\":\"\"}}}],\"bar\":[{\"error_x\":{\"color\":\"#2a3f5f\"},\"error_y\":{\"color\":\"#2a3f5f\"},\"marker\":{\"line\":{\"color\":\"#E5ECF6\",\"width\":0.5},\"pattern\":{\"fillmode\":\"overlay\",\"size\":10,\"solidity\":0.2}},\"type\":\"bar\"}],\"scattergeo\":[{\"type\":\"scattergeo\",\"marker\":{\"colorbar\":{\"outlinewidth\":0,\"ticks\":\"\"}}}],\"scatterpolar\":[{\"type\":\"scatterpolar\",\"marker\":{\"colorbar\":{\"outlinewidth\":0,\"ticks\":\"\"}}}],\"histogram\":[{\"marker\":{\"pattern\":{\"fillmode\":\"overlay\",\"size\":10,\"solidity\":0.2}},\"type\":\"histogram\"}],\"scattergl\":[{\"type\":\"scattergl\",\"marker\":{\"colorbar\":{\"outlinewidth\":0,\"ticks\":\"\"}}}],\"scatter3d\":[{\"type\":\"scatter3d\",\"line\":{\"colorbar\":{\"outlinewidth\":0,\"ticks\":\"\"}},\"marker\":{\"colorbar\":{\"outlinewidth\":0,\"ticks\":\"\"}}}],\"scattermapbox\":[{\"type\":\"scattermapbox\",\"marker\":{\"colorbar\":{\"outlinewidth\":0,\"ticks\":\"\"}}}],\"scatterternary\":[{\"type\":\"scatterternary\",\"marker\":{\"colorbar\":{\"outlinewidth\":0,\"ticks\":\"\"}}}],\"scattercarpet\":[{\"type\":\"scattercarpet\",\"marker\":{\"colorbar\":{\"outlinewidth\":0,\"ticks\":\"\"}}}],\"carpet\":[{\"aaxis\":{\"endlinecolor\":\"#2a3f5f\",\"gridcolor\":\"white\",\"linecolor\":\"white\",\"minorgridcolor\":\"white\",\"startlinecolor\":\"#2a3f5f\"},\"baxis\":{\"endlinecolor\":\"#2a3f5f\",\"gridcolor\":\"white\",\"linecolor\":\"white\",\"minorgridcolor\":\"white\",\"startlinecolor\":\"#2a3f5f\"},\"type\":\"carpet\"}],\"table\":[{\"cells\":{\"fill\":{\"color\":\"#EBF0F8\"},\"line\":{\"color\":\"white\"}},\"header\":{\"fill\":{\"color\":\"#C8D4E3\"},\"line\":{\"color\":\"white\"}},\"type\":\"table\"}],\"barpolar\":[{\"marker\":{\"line\":{\"color\":\"#E5ECF6\",\"width\":0.5},\"pattern\":{\"fillmode\":\"overlay\",\"size\":10,\"solidity\":0.2}},\"type\":\"barpolar\"}],\"pie\":[{\"automargin\":true,\"type\":\"pie\"}]},\"layout\":{\"autotypenumbers\":\"strict\",\"colorway\":[\"#636efa\",\"#EF553B\",\"#00cc96\",\"#ab63fa\",\"#FFA15A\",\"#19d3f3\",\"#FF6692\",\"#B6E880\",\"#FF97FF\",\"#FECB52\"],\"font\":{\"color\":\"#2a3f5f\"},\"hovermode\":\"closest\",\"hoverlabel\":{\"align\":\"left\"},\"paper_bgcolor\":\"white\",\"plot_bgcolor\":\"#E5ECF6\",\"polar\":{\"bgcolor\":\"#E5ECF6\",\"angularaxis\":{\"gridcolor\":\"white\",\"linecolor\":\"white\",\"ticks\":\"\"},\"radialaxis\":{\"gridcolor\":\"white\",\"linecolor\":\"white\",\"ticks\":\"\"}},\"ternary\":{\"bgcolor\":\"#E5ECF6\",\"aaxis\":{\"gridcolor\":\"white\",\"linecolor\":\"white\",\"ticks\":\"\"},\"baxis\":{\"gridcolor\":\"white\",\"linecolor\":\"white\",\"ticks\":\"\"},\"caxis\":{\"gridcolor\":\"white\",\"linecolor\":\"white\",\"ticks\":\"\"}},\"coloraxis\":{\"colorbar\":{\"outlinewidth\":0,\"ticks\":\"\"}},\"colorscale\":{\"sequential\":[[0.0,\"#0d0887\"],[0.1111111111111111,\"#46039f\"],[0.2222222222222222,\"#7201a8\"],[0.3333333333333333,\"#9c179e\"],[0.4444444444444444,\"#bd3786\"],[0.5555555555555556,\"#d8576b\"],[0.6666666666666666,\"#ed7953\"],[0.7777777777777778,\"#fb9f3a\"],[0.8888888888888888,\"#fdca26\"],[1.0,\"#f0f921\"]],\"sequentialminus\":[[0.0,\"#0d0887\"],[0.1111111111111111,\"#46039f\"],[0.2222222222222222,\"#7201a8\"],[0.3333333333333333,\"#9c179e\"],[0.4444444444444444,\"#bd3786\"],[0.5555555555555556,\"#d8576b\"],[0.6666666666666666,\"#ed7953\"],[0.7777777777777778,\"#fb9f3a\"],[0.8888888888888888,\"#fdca26\"],[1.0,\"#f0f921\"]],\"diverging\":[[0,\"#8e0152\"],[0.1,\"#c51b7d\"],[0.2,\"#de77ae\"],[0.3,\"#f1b6da\"],[0.4,\"#fde0ef\"],[0.5,\"#f7f7f7\"],[0.6,\"#e6f5d0\"],[0.7,\"#b8e186\"],[0.8,\"#7fbc41\"],[0.9,\"#4d9221\"],[1,\"#276419\"]]},\"xaxis\":{\"gridcolor\":\"white\",\"linecolor\":\"white\",\"ticks\":\"\",\"title\":{\"standoff\":15},\"zerolinecolor\":\"white\",\"automargin\":true,\"zerolinewidth\":2},\"yaxis\":{\"gridcolor\":\"white\",\"linecolor\":\"white\",\"ticks\":\"\",\"title\":{\"standoff\":15},\"zerolinecolor\":\"white\",\"automargin\":true,\"zerolinewidth\":2},\"scene\":{\"xaxis\":{\"backgroundcolor\":\"#E5ECF6\",\"gridcolor\":\"white\",\"linecolor\":\"white\",\"showbackground\":true,\"ticks\":\"\",\"zerolinecolor\":\"white\",\"gridwidth\":2},\"yaxis\":{\"backgroundcolor\":\"#E5ECF6\",\"gridcolor\":\"white\",\"linecolor\":\"white\",\"showbackground\":true,\"ticks\":\"\",\"zerolinecolor\":\"white\",\"gridwidth\":2},\"zaxis\":{\"backgroundcolor\":\"#E5ECF6\",\"gridcolor\":\"white\",\"linecolor\":\"white\",\"showbackground\":true,\"ticks\":\"\",\"zerolinecolor\":\"white\",\"gridwidth\":2}},\"shapedefaults\":{\"line\":{\"color\":\"#2a3f5f\"}},\"annotationdefaults\":{\"arrowcolor\":\"#2a3f5f\",\"arrowhead\":0,\"arrowwidth\":1},\"geo\":{\"bgcolor\":\"white\",\"landcolor\":\"#E5ECF6\",\"subunitcolor\":\"white\",\"showland\":true,\"showlakes\":true,\"lakecolor\":\"white\"},\"title\":{\"x\":0.05},\"mapbox\":{\"style\":\"light\"}}},\"xaxis\":{\"anchor\":\"y\",\"domain\":[0.0,1.0],\"title\":{\"text\":\"City\"}},\"yaxis\":{\"anchor\":\"x\",\"domain\":[0.0,1.0],\"title\":{\"text\":\"Expired Items\"}},\"coloraxis\":{\"colorbar\":{\"title\":{\"text\":\"Expired Items\"}},\"colorscale\":[[0.0,\"rgb(255,245,240)\"],[0.125,\"rgb(254,224,210)\"],[0.25,\"rgb(252,187,161)\"],[0.375,\"rgb(252,146,114)\"],[0.5,\"rgb(251,106,74)\"],[0.625,\"rgb(239,59,44)\"],[0.75,\"rgb(203,24,29)\"],[0.875,\"rgb(165,15,21)\"],[1.0,\"rgb(103,0,13)\"]]},\"legend\":{\"tracegroupgap\":0},\"title\":{\"text\":\"🏙 Top Cities with Most Food Wastage\"},\"barmode\":\"relative\"},                        {\"responsive\": true}                    ).then(function(){\n",
              "                            \n",
              "var gd = document.getElementById('6e2cb9c2-32ca-4403-8036-7f61da7ea655');\n",
              "var x = new MutationObserver(function (mutations, observer) {{\n",
              "        var display = window.getComputedStyle(gd).display;\n",
              "        if (!display || display === 'none') {{\n",
              "            console.log([gd, 'removed!']);\n",
              "            Plotly.purge(gd);\n",
              "            observer.disconnect();\n",
              "        }}\n",
              "}});\n",
              "\n",
              "// Listen for the removal of the full notebook cells\n",
              "var notebookContainer = gd.closest('#notebook-container');\n",
              "if (notebookContainer) {{\n",
              "    x.observe(notebookContainer, {childList: true});\n",
              "}}\n",
              "\n",
              "// Listen for the clearing of the current output cell\n",
              "var outputEl = gd.closest('.output');\n",
              "if (outputEl) {{\n",
              "    x.observe(outputEl, {childList: true});\n",
              "}}\n",
              "\n",
              "                        })                };                            </script>        </div>\n",
              "</body>\n",
              "</html>"
            ]
          },
          "metadata": {}
        },
        {
          "output_type": "display_data",
          "data": {
            "text/html": [
              "<html>\n",
              "<head><meta charset=\"utf-8\" /></head>\n",
              "<body>\n",
              "    <div>            <script src=\"https://cdnjs.cloudflare.com/ajax/libs/mathjax/2.7.5/MathJax.js?config=TeX-AMS-MML_SVG\"></script><script type=\"text/javascript\">if (window.MathJax && window.MathJax.Hub && window.MathJax.Hub.Config) {window.MathJax.Hub.Config({SVG: {font: \"STIX-Web\"}});}</script>                <script type=\"text/javascript\">window.PlotlyConfig = {MathJaxConfig: 'local'};</script>\n",
              "        <script charset=\"utf-8\" src=\"https://cdn.plot.ly/plotly-2.35.2.min.js\"></script>                <div id=\"a1044f3b-e55e-4728-ac8e-ee887e2fd465\" class=\"plotly-graph-div\" style=\"height:525px; width:100%;\"></div>            <script type=\"text/javascript\">                                    window.PLOTLYENV=window.PLOTLYENV || {};                                    if (document.getElementById(\"a1044f3b-e55e-4728-ac8e-ee887e2fd465\")) {                    Plotly.newPlot(                        \"a1044f3b-e55e-4728-ac8e-ee887e2fd465\",                        [{\"coloraxis\":\"coloraxis\",\"name\":\"0\",\"texttemplate\":\"%{z}\",\"x\":[\"Breakfast\",\"Dinner\",\"Lunch\",\"Snacks\"],\"y\":[\"Non-Vegetarian\",\"Vegan\",\"Vegetarian\"],\"z\":[[82,76,86,86],[77,74,85,98],[95,95,77,69]],\"type\":\"heatmap\",\"xaxis\":\"x\",\"yaxis\":\"y\",\"hovertemplate\":\"meal_type: %{x}\\u003cbr\\u003efood_type: %{y}\\u003cbr\\u003ecolor: %{z}\\u003cextra\\u003e\\u003c\\u002fextra\\u003e\"}],                        {\"template\":{\"data\":{\"histogram2dcontour\":[{\"type\":\"histogram2dcontour\",\"colorbar\":{\"outlinewidth\":0,\"ticks\":\"\"},\"colorscale\":[[0.0,\"#0d0887\"],[0.1111111111111111,\"#46039f\"],[0.2222222222222222,\"#7201a8\"],[0.3333333333333333,\"#9c179e\"],[0.4444444444444444,\"#bd3786\"],[0.5555555555555556,\"#d8576b\"],[0.6666666666666666,\"#ed7953\"],[0.7777777777777778,\"#fb9f3a\"],[0.8888888888888888,\"#fdca26\"],[1.0,\"#f0f921\"]]}],\"choropleth\":[{\"type\":\"choropleth\",\"colorbar\":{\"outlinewidth\":0,\"ticks\":\"\"}}],\"histogram2d\":[{\"type\":\"histogram2d\",\"colorbar\":{\"outlinewidth\":0,\"ticks\":\"\"},\"colorscale\":[[0.0,\"#0d0887\"],[0.1111111111111111,\"#46039f\"],[0.2222222222222222,\"#7201a8\"],[0.3333333333333333,\"#9c179e\"],[0.4444444444444444,\"#bd3786\"],[0.5555555555555556,\"#d8576b\"],[0.6666666666666666,\"#ed7953\"],[0.7777777777777778,\"#fb9f3a\"],[0.8888888888888888,\"#fdca26\"],[1.0,\"#f0f921\"]]}],\"heatmap\":[{\"type\":\"heatmap\",\"colorbar\":{\"outlinewidth\":0,\"ticks\":\"\"},\"colorscale\":[[0.0,\"#0d0887\"],[0.1111111111111111,\"#46039f\"],[0.2222222222222222,\"#7201a8\"],[0.3333333333333333,\"#9c179e\"],[0.4444444444444444,\"#bd3786\"],[0.5555555555555556,\"#d8576b\"],[0.6666666666666666,\"#ed7953\"],[0.7777777777777778,\"#fb9f3a\"],[0.8888888888888888,\"#fdca26\"],[1.0,\"#f0f921\"]]}],\"heatmapgl\":[{\"type\":\"heatmapgl\",\"colorbar\":{\"outlinewidth\":0,\"ticks\":\"\"},\"colorscale\":[[0.0,\"#0d0887\"],[0.1111111111111111,\"#46039f\"],[0.2222222222222222,\"#7201a8\"],[0.3333333333333333,\"#9c179e\"],[0.4444444444444444,\"#bd3786\"],[0.5555555555555556,\"#d8576b\"],[0.6666666666666666,\"#ed7953\"],[0.7777777777777778,\"#fb9f3a\"],[0.8888888888888888,\"#fdca26\"],[1.0,\"#f0f921\"]]}],\"contourcarpet\":[{\"type\":\"contourcarpet\",\"colorbar\":{\"outlinewidth\":0,\"ticks\":\"\"}}],\"contour\":[{\"type\":\"contour\",\"colorbar\":{\"outlinewidth\":0,\"ticks\":\"\"},\"colorscale\":[[0.0,\"#0d0887\"],[0.1111111111111111,\"#46039f\"],[0.2222222222222222,\"#7201a8\"],[0.3333333333333333,\"#9c179e\"],[0.4444444444444444,\"#bd3786\"],[0.5555555555555556,\"#d8576b\"],[0.6666666666666666,\"#ed7953\"],[0.7777777777777778,\"#fb9f3a\"],[0.8888888888888888,\"#fdca26\"],[1.0,\"#f0f921\"]]}],\"surface\":[{\"type\":\"surface\",\"colorbar\":{\"outlinewidth\":0,\"ticks\":\"\"},\"colorscale\":[[0.0,\"#0d0887\"],[0.1111111111111111,\"#46039f\"],[0.2222222222222222,\"#7201a8\"],[0.3333333333333333,\"#9c179e\"],[0.4444444444444444,\"#bd3786\"],[0.5555555555555556,\"#d8576b\"],[0.6666666666666666,\"#ed7953\"],[0.7777777777777778,\"#fb9f3a\"],[0.8888888888888888,\"#fdca26\"],[1.0,\"#f0f921\"]]}],\"mesh3d\":[{\"type\":\"mesh3d\",\"colorbar\":{\"outlinewidth\":0,\"ticks\":\"\"}}],\"scatter\":[{\"fillpattern\":{\"fillmode\":\"overlay\",\"size\":10,\"solidity\":0.2},\"type\":\"scatter\"}],\"parcoords\":[{\"type\":\"parcoords\",\"line\":{\"colorbar\":{\"outlinewidth\":0,\"ticks\":\"\"}}}],\"scatterpolargl\":[{\"type\":\"scatterpolargl\",\"marker\":{\"colorbar\":{\"outlinewidth\":0,\"ticks\":\"\"}}}],\"bar\":[{\"error_x\":{\"color\":\"#2a3f5f\"},\"error_y\":{\"color\":\"#2a3f5f\"},\"marker\":{\"line\":{\"color\":\"#E5ECF6\",\"width\":0.5},\"pattern\":{\"fillmode\":\"overlay\",\"size\":10,\"solidity\":0.2}},\"type\":\"bar\"}],\"scattergeo\":[{\"type\":\"scattergeo\",\"marker\":{\"colorbar\":{\"outlinewidth\":0,\"ticks\":\"\"}}}],\"scatterpolar\":[{\"type\":\"scatterpolar\",\"marker\":{\"colorbar\":{\"outlinewidth\":0,\"ticks\":\"\"}}}],\"histogram\":[{\"marker\":{\"pattern\":{\"fillmode\":\"overlay\",\"size\":10,\"solidity\":0.2}},\"type\":\"histogram\"}],\"scattergl\":[{\"type\":\"scattergl\",\"marker\":{\"colorbar\":{\"outlinewidth\":0,\"ticks\":\"\"}}}],\"scatter3d\":[{\"type\":\"scatter3d\",\"line\":{\"colorbar\":{\"outlinewidth\":0,\"ticks\":\"\"}},\"marker\":{\"colorbar\":{\"outlinewidth\":0,\"ticks\":\"\"}}}],\"scattermapbox\":[{\"type\":\"scattermapbox\",\"marker\":{\"colorbar\":{\"outlinewidth\":0,\"ticks\":\"\"}}}],\"scatterternary\":[{\"type\":\"scatterternary\",\"marker\":{\"colorbar\":{\"outlinewidth\":0,\"ticks\":\"\"}}}],\"scattercarpet\":[{\"type\":\"scattercarpet\",\"marker\":{\"colorbar\":{\"outlinewidth\":0,\"ticks\":\"\"}}}],\"carpet\":[{\"aaxis\":{\"endlinecolor\":\"#2a3f5f\",\"gridcolor\":\"white\",\"linecolor\":\"white\",\"minorgridcolor\":\"white\",\"startlinecolor\":\"#2a3f5f\"},\"baxis\":{\"endlinecolor\":\"#2a3f5f\",\"gridcolor\":\"white\",\"linecolor\":\"white\",\"minorgridcolor\":\"white\",\"startlinecolor\":\"#2a3f5f\"},\"type\":\"carpet\"}],\"table\":[{\"cells\":{\"fill\":{\"color\":\"#EBF0F8\"},\"line\":{\"color\":\"white\"}},\"header\":{\"fill\":{\"color\":\"#C8D4E3\"},\"line\":{\"color\":\"white\"}},\"type\":\"table\"}],\"barpolar\":[{\"marker\":{\"line\":{\"color\":\"#E5ECF6\",\"width\":0.5},\"pattern\":{\"fillmode\":\"overlay\",\"size\":10,\"solidity\":0.2}},\"type\":\"barpolar\"}],\"pie\":[{\"automargin\":true,\"type\":\"pie\"}]},\"layout\":{\"autotypenumbers\":\"strict\",\"colorway\":[\"#636efa\",\"#EF553B\",\"#00cc96\",\"#ab63fa\",\"#FFA15A\",\"#19d3f3\",\"#FF6692\",\"#B6E880\",\"#FF97FF\",\"#FECB52\"],\"font\":{\"color\":\"#2a3f5f\"},\"hovermode\":\"closest\",\"hoverlabel\":{\"align\":\"left\"},\"paper_bgcolor\":\"white\",\"plot_bgcolor\":\"#E5ECF6\",\"polar\":{\"bgcolor\":\"#E5ECF6\",\"angularaxis\":{\"gridcolor\":\"white\",\"linecolor\":\"white\",\"ticks\":\"\"},\"radialaxis\":{\"gridcolor\":\"white\",\"linecolor\":\"white\",\"ticks\":\"\"}},\"ternary\":{\"bgcolor\":\"#E5ECF6\",\"aaxis\":{\"gridcolor\":\"white\",\"linecolor\":\"white\",\"ticks\":\"\"},\"baxis\":{\"gridcolor\":\"white\",\"linecolor\":\"white\",\"ticks\":\"\"},\"caxis\":{\"gridcolor\":\"white\",\"linecolor\":\"white\",\"ticks\":\"\"}},\"coloraxis\":{\"colorbar\":{\"outlinewidth\":0,\"ticks\":\"\"}},\"colorscale\":{\"sequential\":[[0.0,\"#0d0887\"],[0.1111111111111111,\"#46039f\"],[0.2222222222222222,\"#7201a8\"],[0.3333333333333333,\"#9c179e\"],[0.4444444444444444,\"#bd3786\"],[0.5555555555555556,\"#d8576b\"],[0.6666666666666666,\"#ed7953\"],[0.7777777777777778,\"#fb9f3a\"],[0.8888888888888888,\"#fdca26\"],[1.0,\"#f0f921\"]],\"sequentialminus\":[[0.0,\"#0d0887\"],[0.1111111111111111,\"#46039f\"],[0.2222222222222222,\"#7201a8\"],[0.3333333333333333,\"#9c179e\"],[0.4444444444444444,\"#bd3786\"],[0.5555555555555556,\"#d8576b\"],[0.6666666666666666,\"#ed7953\"],[0.7777777777777778,\"#fb9f3a\"],[0.8888888888888888,\"#fdca26\"],[1.0,\"#f0f921\"]],\"diverging\":[[0,\"#8e0152\"],[0.1,\"#c51b7d\"],[0.2,\"#de77ae\"],[0.3,\"#f1b6da\"],[0.4,\"#fde0ef\"],[0.5,\"#f7f7f7\"],[0.6,\"#e6f5d0\"],[0.7,\"#b8e186\"],[0.8,\"#7fbc41\"],[0.9,\"#4d9221\"],[1,\"#276419\"]]},\"xaxis\":{\"gridcolor\":\"white\",\"linecolor\":\"white\",\"ticks\":\"\",\"title\":{\"standoff\":15},\"zerolinecolor\":\"white\",\"automargin\":true,\"zerolinewidth\":2},\"yaxis\":{\"gridcolor\":\"white\",\"linecolor\":\"white\",\"ticks\":\"\",\"title\":{\"standoff\":15},\"zerolinecolor\":\"white\",\"automargin\":true,\"zerolinewidth\":2},\"scene\":{\"xaxis\":{\"backgroundcolor\":\"#E5ECF6\",\"gridcolor\":\"white\",\"linecolor\":\"white\",\"showbackground\":true,\"ticks\":\"\",\"zerolinecolor\":\"white\",\"gridwidth\":2},\"yaxis\":{\"backgroundcolor\":\"#E5ECF6\",\"gridcolor\":\"white\",\"linecolor\":\"white\",\"showbackground\":true,\"ticks\":\"\",\"zerolinecolor\":\"white\",\"gridwidth\":2},\"zaxis\":{\"backgroundcolor\":\"#E5ECF6\",\"gridcolor\":\"white\",\"linecolor\":\"white\",\"showbackground\":true,\"ticks\":\"\",\"zerolinecolor\":\"white\",\"gridwidth\":2}},\"shapedefaults\":{\"line\":{\"color\":\"#2a3f5f\"}},\"annotationdefaults\":{\"arrowcolor\":\"#2a3f5f\",\"arrowhead\":0,\"arrowwidth\":1},\"geo\":{\"bgcolor\":\"white\",\"landcolor\":\"#E5ECF6\",\"subunitcolor\":\"white\",\"showland\":true,\"showlakes\":true,\"lakecolor\":\"white\"},\"title\":{\"x\":0.05},\"mapbox\":{\"style\":\"light\"}}},\"xaxis\":{\"anchor\":\"y\",\"domain\":[0.0,1.0],\"scaleanchor\":\"y\",\"constrain\":\"domain\",\"title\":{\"text\":\"meal_type\"}},\"yaxis\":{\"anchor\":\"x\",\"domain\":[0.0,1.0],\"autorange\":\"reversed\",\"constrain\":\"domain\",\"title\":{\"text\":\"food_type\"}},\"coloraxis\":{\"colorscale\":[[0.0,\"rgb(255,245,240)\"],[0.125,\"rgb(254,224,210)\"],[0.25,\"rgb(252,187,161)\"],[0.375,\"rgb(252,146,114)\"],[0.5,\"rgb(251,106,74)\"],[0.625,\"rgb(239,59,44)\"],[0.75,\"rgb(203,24,29)\"],[0.875,\"rgb(165,15,21)\"],[1.0,\"rgb(103,0,13)\"]]},\"title\":{\"text\":\"🔥 Expired Food Count by Food Type & Meal Type\"}},                        {\"responsive\": true}                    ).then(function(){\n",
              "                            \n",
              "var gd = document.getElementById('a1044f3b-e55e-4728-ac8e-ee887e2fd465');\n",
              "var x = new MutationObserver(function (mutations, observer) {{\n",
              "        var display = window.getComputedStyle(gd).display;\n",
              "        if (!display || display === 'none') {{\n",
              "            console.log([gd, 'removed!']);\n",
              "            Plotly.purge(gd);\n",
              "            observer.disconnect();\n",
              "        }}\n",
              "}});\n",
              "\n",
              "// Listen for the removal of the full notebook cells\n",
              "var notebookContainer = gd.closest('#notebook-container');\n",
              "if (notebookContainer) {{\n",
              "    x.observe(notebookContainer, {childList: true});\n",
              "}}\n",
              "\n",
              "// Listen for the clearing of the current output cell\n",
              "var outputEl = gd.closest('.output');\n",
              "if (outputEl) {{\n",
              "    x.observe(outputEl, {childList: true});\n",
              "}}\n",
              "\n",
              "                        })                };                            </script>        </div>\n",
              "</body>\n",
              "</html>"
            ]
          },
          "metadata": {}
        }
      ]
    },
    {
      "cell_type": "markdown",
      "source": [
        "\n",
        "\n",
        "---\n",
        "\n",
        "\n",
        "📝 Food Wastage Trends Report\n",
        "\n",
        "\n",
        "\n",
        "---\n",
        "\n",
        "\n",
        "**1️⃣ 📊 Food Wastage by City (Expired vs Expiring Soon)**\n",
        "\n",
        "*🔹 Insights:*\n",
        "\n",
        "- The stacked bar chart compares expired items (already wasted) with items expiring soon (still salvageable).\n",
        "\n",
        "- Many cities show more expired items than “expiring soon,” which signals late claims and delayed redistribution.\n",
        "\n",
        "- Cities with a balanced stack (near-equal expired & expiring soon) are doing slightly better in responding to listings.\n",
        "\n",
        "- Some cities show very small expiring soon counts → indicating poor monitoring or last-minute claims aren’t happening effectively.\n",
        "\n",
        "*✅ Positives:*\n",
        "\n",
        "- Provides a clear city-wise breakdown for targeted intervention.\n",
        "\n",
        "- Expiring soon category highlights preventable wastage if action is taken quickly.\n",
        "\n",
        "*⚠️ Negatives:*\n",
        "\n",
        "- Expired counts are still significantly higher across many cities, which points to inefficiencies in claim/redistribution.\n",
        "\n",
        "\n",
        "---\n",
        "\n",
        "\n",
        "\n",
        "**2️⃣ 🏙 Top Cities with Most Food Wastage**\n",
        "\n",
        "*🔹 Insights:*\n",
        "\n",
        "- South Kathryn and New Carol rank the highest with 6 expired items each → hotspots of wastage.\n",
        "\n",
        "- Jimmyberg, Perezport, and East Angela follow closely with 5 expired items each.\n",
        "\n",
        "- Other cities show lower but consistent wastage, indicating that wastage is not isolated—it’s a widespread issue.\n",
        "\n",
        "*✅ Positives:*\n",
        "\n",
        "- The ranking quickly identifies priority cities for improvement campaigns.\n",
        "\n",
        "- Highlights where awareness drives or logistics support should be concentrated.\n",
        "\n",
        "*⚠️ Negatives:*\n",
        "\n",
        "- Even the best cities in this chart still show 4 expired items, meaning no city is fully efficient.\n",
        "\n",
        "- These figures may scale up significantly in real-world larger datasets.\n",
        "\n",
        "---\n",
        "\n",
        "**3️⃣ 🔥 Expired Food Count by Food Type & Meal Type**\n",
        "\n",
        "*🔹 Insights:*\n",
        "\n",
        "- Vegetarian → Breakfast & Dinner have 95 expired items each → highest wastage clusters.\n",
        "\n",
        "- Vegan Snacks show 98 expired items, indicating snacks are not claimed/consumed in time.\n",
        "\n",
        "- Vegetarian Snacks have the lowest count (69), meaning they are claimed/consumed faster than others.\n",
        "\n",
        "- Lunch items (Non-Veg & Vegan) are moderately wasted (85–86 items).\n",
        "\n",
        "*✅ Positives:*\n",
        "\n",
        "- Identifies critical meal-time gaps (e.g., Dinner/Breakfast for Veg, Snacks for Vegan).\n",
        "\n",
        "- Helps providers adjust quantity listings or receivers target specific categories.\n",
        "\n",
        "*⚠️ Negatives:*\n",
        "\n",
        "- High wastage across all categories suggests structural issues (timing, transport, claim awareness) rather than food preference alone.\n",
        "\n",
        "- Breakfast/Dinner wastage could indicate large-scale preparation leftovers that aren’t reaching receivers in time.\n",
        "\n",
        "---"
      ],
      "metadata": {
        "id": "TczNJf4n-DdO"
      }
    },
    {
      "cell_type": "markdown",
      "source": [
        "**Saving the Database**"
      ],
      "metadata": {
        "id": "RCj2QCF7adNY"
      }
    },
    {
      "cell_type": "code",
      "source": [
        "import os\n",
        "import shutil\n",
        "\n",
        "# Define your target directory\n",
        "target_dir = \"/content/my_project/data\"\n",
        "os.makedirs(target_dir, exist_ok=True)  # Create directory if it doesn't exist\n",
        "\n",
        "# Path to your database in Colab\n",
        "source_db = \"food_waste.db\"  # If it's in the current working directory\n",
        "target_db = os.path.join(target_dir, \"food_waste.db\")\n",
        "\n",
        "# Check if database already exists and remove it if it does\n",
        "if os.path.exists(target_db):\n",
        "    os.remove(target_db)\n",
        "    print(f\"🗑️ Existing database removed from: {target_db}\")\n",
        "\n",
        "# Move (or copy) the database\n",
        "try:\n",
        "    shutil.copy2(source_db, target_db)  # use shutil.move() if you want to move instead of copy\n",
        "    print(f\"✅ Database saved to: {target_db}\")\n",
        "except FileNotFoundError:\n",
        "    print(f\"❌ Source database '{source_db}' not found in current directory\")\n",
        "    print(f\"Current working directory: {os.getcwd()}\")\n",
        "    print(\"Files in current directory:\")\n",
        "    for file in os.listdir():\n",
        "        print(f\"  - {file}\")"
      ],
      "metadata": {
        "id": "1ezkIu3ItUWb",
        "colab": {
          "base_uri": "https://localhost:8080/"
        },
        "outputId": "ff196ec1-45b1-4184-fa9e-be06df041633"
      },
      "execution_count": null,
      "outputs": [
        {
          "output_type": "stream",
          "name": "stdout",
          "text": [
            "✅ Database saved to: /content/my_project/data/food_waste.db\n"
          ]
        }
      ]
    },
    {
      "cell_type": "markdown",
      "source": [
        "**Downloading Database**"
      ],
      "metadata": {
        "id": "Tw-rmnMrbC4z"
      }
    },
    {
      "cell_type": "code",
      "source": [
        "from google.colab import files\n",
        "files.download('/content/drive/MyDrive/Waste Man. SQL/food_waste.db')"
      ],
      "metadata": {
        "colab": {
          "base_uri": "https://localhost:8080/",
          "height": 17
        },
        "id": "NiBp-TVUa0Nv",
        "outputId": "a9c4fe56-6dc8-464e-f195-ceb70c8ae284"
      },
      "execution_count": null,
      "outputs": [
        {
          "output_type": "display_data",
          "data": {
            "text/plain": [
              "<IPython.core.display.Javascript object>"
            ],
            "application/javascript": [
              "\n",
              "    async function download(id, filename, size) {\n",
              "      if (!google.colab.kernel.accessAllowed) {\n",
              "        return;\n",
              "      }\n",
              "      const div = document.createElement('div');\n",
              "      const label = document.createElement('label');\n",
              "      label.textContent = `Downloading \"${filename}\": `;\n",
              "      div.appendChild(label);\n",
              "      const progress = document.createElement('progress');\n",
              "      progress.max = size;\n",
              "      div.appendChild(progress);\n",
              "      document.body.appendChild(div);\n",
              "\n",
              "      const buffers = [];\n",
              "      let downloaded = 0;\n",
              "\n",
              "      const channel = await google.colab.kernel.comms.open(id);\n",
              "      // Send a message to notify the kernel that we're ready.\n",
              "      channel.send({})\n",
              "\n",
              "      for await (const message of channel.messages) {\n",
              "        // Send a message to notify the kernel that we're ready.\n",
              "        channel.send({})\n",
              "        if (message.buffers) {\n",
              "          for (const buffer of message.buffers) {\n",
              "            buffers.push(buffer);\n",
              "            downloaded += buffer.byteLength;\n",
              "            progress.value = downloaded;\n",
              "          }\n",
              "        }\n",
              "      }\n",
              "      const blob = new Blob(buffers, {type: 'application/binary'});\n",
              "      const a = document.createElement('a');\n",
              "      a.href = window.URL.createObjectURL(blob);\n",
              "      a.download = filename;\n",
              "      div.appendChild(a);\n",
              "      a.click();\n",
              "      div.remove();\n",
              "    }\n",
              "  "
            ]
          },
          "metadata": {}
        },
        {
          "output_type": "display_data",
          "data": {
            "text/plain": [
              "<IPython.core.display.Javascript object>"
            ],
            "application/javascript": [
              "download(\"download_86a38bc8-5fd5-4ef6-8e75-18fc0ceff142\", \"food_waste.db\", 532480)"
            ]
          },
          "metadata": {}
        }
      ]
    },
    {
      "cell_type": "markdown",
      "source": [
        "## 9. SQL Queries"
      ],
      "metadata": {
        "id": "6vknbUx9Y5_s"
      }
    },
    {
      "cell_type": "markdown",
      "source": [
        "---\n",
        "**👥 Providers & Receivers**\n",
        "\n",
        "1️⃣ 🏙 How many providers and receivers are there in each city?\n",
        "\n",
        "2️⃣ 🏢 Which provider type has the most providers?\n",
        "\n",
        "3️⃣ 📇 What are the contact details of providers in a given city?\n",
        "\n",
        "4️⃣ 🏆 Which receivers have made the most claims, and how much quantity did they claim?\n",
        "\n",
        "---\n",
        "\n",
        "**🍲 Food Listings & Availability**\n",
        "\n",
        "5️⃣ 📦 What is the total quantity of food available?\n",
        "\n",
        "6️⃣ 🌍 Which city has the most food listings?\n",
        "\n",
        "7️⃣ 🍱 What are the most common food types listed?\n",
        "\n",
        "---\n",
        "\n",
        "**📤 Claims & Distribution**\n",
        "\n",
        "8️⃣ 🍽 How many claims has each food item received?\n",
        "\n",
        "9️⃣ 🤝 Which provider has the most successful (completed) claims?\n",
        "\n",
        "🔟 📊 What is the percentage distribution of claim statuses (completed, pending, etc.)?\n",
        "\n",
        "---\n",
        "\n",
        "**📈 Analysis & Insights**\n",
        "\n",
        "1️⃣1️⃣ ⚖️ What is the average quantity claimed per receiver?\n",
        "\n",
        "1️⃣2️⃣ 🥗 Which meal type (breakfast, lunch, dinner, snacks) is claimed the most?\n",
        "\n",
        "1️⃣3️⃣ 🎁 How much total quantity has each provider donated?\n",
        "\n",
        "---\n",
        "\n",
        "**🛑 Advanced Queries (Expiry & Wastage)**\n",
        "\n",
        "1️⃣4️⃣ ⏳ Which items are expiring in the next 3 days?\n",
        "\n",
        "1️⃣5️⃣ ⭐ What is each provider’s reliability (% of completed claims)?\n",
        "\n",
        "1️⃣6️⃣ 🗑 What percentage of food is wasted for each food type?\n",
        "\n",
        "1️⃣7️⃣ 📅 How many claims are made per day (time series)?\n",
        "\n",
        "1️⃣8️⃣ 🏙🔥 Which are the top 10 cities with the most food wastage (expired items)?\n",
        "\n",
        "---\n",
        "\n",
        "\n",
        "**🎯 Extra Queries (Deep Insights)**\n",
        "\n",
        "🔹 👨‍🍳 Who are the most frequent food providers, and how much do they\n",
        "contribute?\n",
        "\n",
        "🔹 📍 Which locations (cities) have the highest demand by claims?\n",
        "\n",
        "🔹 📉 What are the trends in food wastage over time (month by month)?\n",
        "\n",
        "---"
      ],
      "metadata": {
        "id": "gKU8WnDLAabM"
      }
    },
    {
      "cell_type": "code",
      "source": [
        "# sql_queries.py\n",
        "SQL_QUERIES = {\n",
        "    # Food Providers & Receivers\n",
        "    \"1. Providers & Receivers per City\": \"\"\"\n",
        "        SELECT city,\n",
        "               (SELECT COUNT(*) FROM providers p2 WHERE p2.city = city) AS providers,\n",
        "               (SELECT COUNT(*) FROM receivers r2 WHERE r2.city = city) AS receivers\n",
        "        FROM (\n",
        "            SELECT city FROM providers\n",
        "            UNION\n",
        "            SELECT city FROM receivers\n",
        "        ) AS cities\n",
        "        GROUP BY city;\n",
        "    \"\"\",\n",
        "\n",
        "    \"2. Top Provider Type (by #providers)\": \"\"\"\n",
        "        SELECT type AS provider_type, COUNT(*) AS count\n",
        "        FROM providers\n",
        "        GROUP BY type\n",
        "        ORDER BY count DESC;\n",
        "    \"\"\",\n",
        "\n",
        "    \"3. Provider Contacts in City\": \"\"\"\n",
        "        SELECT name, contact, address, city\n",
        "        FROM providers\n",
        "        WHERE city = :city;\n",
        "    \"\"\",\n",
        "\n",
        "    \"4. Receivers with Most Claims\": \"\"\"\n",
        "        SELECT r.receiver_id, r.name, COUNT(c.claim_id) AS total_claims, COALESCE(SUM(f.quantity),0) AS total_quantity\n",
        "        FROM claims c\n",
        "        JOIN receivers r ON c.receiver_id = r.receiver_id\n",
        "        LEFT JOIN food_listings f ON c.food_id = f.food_id\n",
        "        GROUP BY r.receiver_id\n",
        "        ORDER BY total_claims DESC;\n",
        "    \"\"\",\n",
        "\n",
        "    # Food Listings & Availability\n",
        "    \"5. Total Quantity Available\": \"\"\"\n",
        "        SELECT COALESCE(SUM(quantity),0) AS total_quantity FROM food_listings;\n",
        "    \"\"\",\n",
        "\n",
        "    \"6. City with Most Listings\": \"\"\"\n",
        "        SELECT p.city, COUNT(*) AS listings\n",
        "        FROM food_listings f\n",
        "        JOIN providers p ON f.provider_id = p.provider_id\n",
        "        GROUP BY p.city\n",
        "        ORDER BY listings DESC;\n",
        "    \"\"\",\n",
        "\n",
        "    \"7. Most Common Food Types\": \"\"\"\n",
        "        SELECT food_type, COUNT(*) AS occurrences\n",
        "        FROM food_listings\n",
        "        GROUP BY food_type\n",
        "        ORDER BY occurrences DESC;\n",
        "    \"\"\",\n",
        "\n",
        "    # Claims & Distribution\n",
        "    \"8. Claims per Food Item\": \"\"\"\n",
        "        SELECT f.food_id, f.food_name, COUNT(c.claim_id) AS claims_count\n",
        "        FROM food_listings f\n",
        "        LEFT JOIN claims c ON f.food_id = c.food_id\n",
        "        GROUP BY f.food_id\n",
        "        ORDER BY claims_count DESC;\n",
        "    \"\"\",\n",
        "\n",
        "    \"9. Provider with Most Successful Claims\": \"\"\"\n",
        "        SELECT p.provider_id, p.name, COUNT(*) AS successful_claims\n",
        "        FROM claims c\n",
        "        JOIN food_listings f ON c.food_id = f.food_id\n",
        "        JOIN providers p ON f.provider_id = p.provider_id\n",
        "        WHERE LOWER(c.status) = 'completed'\n",
        "        GROUP BY p.provider_id\n",
        "        ORDER BY successful_claims DESC;\n",
        "    \"\"\",\n",
        "\n",
        "    \"10. Claim Status Percentage\": \"\"\"\n",
        "        SELECT status, ROUND(100.0 * COUNT(*) / (SELECT COUNT(*) FROM claims),2) AS pct\n",
        "        FROM claims\n",
        "        GROUP BY status;\n",
        "    \"\"\",\n",
        "\n",
        "    # Analysis & Insights\n",
        "    \"11. Avg Quantity Claimed per Receiver\": \"\"\"\n",
        "        SELECT r.receiver_id, r.name, ROUND(AVG(f.quantity),2) AS avg_quantity_claimed\n",
        "        FROM claims c\n",
        "        JOIN receivers r ON c.receiver_id = r.receiver_id\n",
        "        JOIN food_listings f ON c.food_id = f.food_id\n",
        "        GROUP BY r.receiver_id\n",
        "        ORDER BY avg_quantity_claimed DESC;\n",
        "    \"\"\",\n",
        "\n",
        "    \"12. Most Claimed Meal Type\": \"\"\"\n",
        "        SELECT f.meal_type, COUNT(c.claim_id) AS claims_count\n",
        "        FROM claims c\n",
        "        JOIN food_listings f ON c.food_id = f.food_id\n",
        "        GROUP BY f.meal_type\n",
        "        ORDER BY claims_count DESC;\n",
        "    \"\"\",\n",
        "\n",
        "    \"13. Total Quantity Donated per Provider\": \"\"\"\n",
        "        SELECT p.provider_id, p.name, COALESCE(SUM(f.quantity),0) AS total_quantity\n",
        "        FROM providers p\n",
        "        LEFT JOIN food_listings f ON p.provider_id = f.provider_id\n",
        "        GROUP BY p.provider_id\n",
        "        ORDER BY total_quantity DESC;\n",
        "    \"\"\",\n",
        "\n",
        "    # Advanced queries (5)\n",
        "    \"14. Expiry Risk — Items Expiring in Next 3 Days\": \"\"\"\n",
        "        SELECT food_id, food_name, expiry_date, quantity, provider_id\n",
        "        FROM food_listings\n",
        "        WHERE DATE(expiry_date) BETWEEN DATE('now') AND DATE('now', '+3 days')\n",
        "        ORDER BY expiry_date;\n",
        "    \"\"\",\n",
        "\n",
        "    \"15. Provider Reliability (percent completed claims)\": \"\"\"\n",
        "        SELECT p.provider_id, p.name,\n",
        "               ROUND(100.0 * SUM(CASE WHEN LOWER(c.status) = 'completed' THEN 1 ELSE 0 END) /\n",
        "                     NULLIF(COUNT(c.claim_id),0),2) AS reliability_pct\n",
        "        FROM claims c\n",
        "        JOIN food_listings f ON c.food_id = f.food_id\n",
        "        JOIN providers p ON f.provider_id = p.provider_id\n",
        "        GROUP BY p.provider_id\n",
        "        ORDER BY reliability_pct DESC;\n",
        "    \"\"\",\n",
        "\n",
        "    \"16. Food Type Wastage %\": \"\"\"\n",
        "        SELECT food_type,\n",
        "               ROUND(100.0 * SUM(CASE WHEN DATE(expiry_date) < DATE('now') THEN quantity ELSE 0 END) /\n",
        "                     NULLIF(SUM(quantity),0),2) AS wastage_pct\n",
        "        FROM food_listings\n",
        "        GROUP BY food_type\n",
        "        ORDER BY wastage_pct DESC;\n",
        "    \"\"\",\n",
        "\n",
        "    \"17. Claims per Day (time series)\": \"\"\"\n",
        "        SELECT DATE(timestamp) AS claim_date, COUNT(*) AS claim_count\n",
        "        FROM claims\n",
        "        GROUP BY claim_date\n",
        "        ORDER BY claim_date;\n",
        "    \"\"\",\n",
        "\n",
        "    \"18. Top 10 Cities by Wastage (expired items)\": \"\"\"\n",
        "        SELECT p.city,\n",
        "               SUM(CASE WHEN DATE(f.expiry_date) < DATE('now') THEN 1 ELSE 0 END) AS wasted_items\n",
        "        FROM food_listings f\n",
        "        JOIN providers p ON f.provider_id = p.provider_id\n",
        "        GROUP BY p.city\n",
        "        ORDER BY wasted_items DESC\n",
        "        LIMIT 10;\n",
        "    \"\"\",\n",
        "\n",
        "    # The three extra queries you asked to ensure presence (most frequent providers, highest demand locations, wastage trends)\n",
        "    \"Most Frequent Food Providers & Their Contributions\": \"\"\"\n",
        "        SELECT p.name AS provider_name,\n",
        "               COUNT(f.food_id) AS total_listings,\n",
        "               COALESCE(SUM(f.quantity),0) AS total_quantity\n",
        "        FROM food_listings f\n",
        "        JOIN providers p ON f.provider_id = p.provider_id\n",
        "        GROUP BY p.name\n",
        "        ORDER BY total_listings DESC\n",
        "        LIMIT 10;\n",
        "    \"\"\",\n",
        "\n",
        "    \"Highest Demand Locations by Claims\": \"\"\"\n",
        "        SELECT p.city AS location,\n",
        "               COUNT(c.claim_id) AS total_claims\n",
        "        FROM claims c\n",
        "        JOIN food_listings f ON c.food_id = f.food_id\n",
        "        JOIN providers p ON f.provider_id = p.provider_id\n",
        "        GROUP BY p.city\n",
        "        ORDER BY total_claims DESC\n",
        "        LIMIT 10;\n",
        "    \"\"\",\n",
        "\n",
        "    \"Trends in Food Wastage Over Time\": \"\"\"\n",
        "        SELECT STRFTIME('%Y-%m', expiry_date) AS month,\n",
        "               SUM(CASE WHEN DATE(expiry_date) < DATE('now') THEN quantity ELSE 0 END) AS wasted_quantity\n",
        "        FROM food_listings\n",
        "        GROUP BY month\n",
        "        ORDER BY month;\n",
        "    \"\"\"\n",
        "}"
      ],
      "metadata": {
        "id": "GcigxaSKY8ca"
      },
      "execution_count": null,
      "outputs": []
    },
    {
      "cell_type": "markdown",
      "source": [
        "# <span style=\"font-size:26px; color:#4CAF50;\">🚀 Deployment Summary: Food Wastage Management System 🍽️</span>\n",
        "\n",
        "## ⚡ What We Deployed\n",
        "We deployed the **Food Wastage Management System** on **Hugging Face Spaces** using **Streamlit**.  \n",
        "This interactive web app provides:  \n",
        "- 📝 CRUD operations for Providers, Receivers, Food Listings & Claims  \n",
        "- 📊 SQL-powered insights into food supply, demand & wastage  \n",
        "- 📈 Real-time dashboards with time-series trends & analytics  \n",
        "\n",
        "---\n",
        "\n",
        "## 🎯 Why We Used Hugging Face Spaces + Streamlit\n",
        "Compared to other deployment options (like Heroku, AWS, or local hosting),  \n",
        "**Hugging Face Spaces with Streamlit** offers:  \n",
        "- 🌍 **Free & Cloud-based** – No server setup required, instantly accessible online  \n",
        "- ⚡ **Seamless Streamlit Support** – Directly runs `.py` apps without extra config  \n",
        "- 🔗 **Easy Sharing** – Public link generated automatically for anyone to try  \n",
        "- 🔄 **Auto Updates** – Syncs with GitHub repo, redeploys on every commit  \n",
        "- 🤝 **Community Driven** – Hugging Face ecosystem makes it easy to showcase & collaborate  \n",
        "\n",
        "---\n",
        "\n",
        "## 🔗 Deployment Link\n",
        "👉 [Click here to access the deployed app](https://huggingface.co/spaces/thedynasty23)  \n",
        "\n",
        "---\n",
        "\n",
        "## 👤 Author Profile\n",
        "📌 [View my profile](https://huggingface.co/spaces/thedynasty23/Food_Management_System)  \n",
        "\n",
        "---\n",
        "\n",
        "✨ <b style=\"color:#673AB7;\">Project successfully deployed on Hugging Face Spaces & ready to use! 🚀</b>\n"
      ],
      "metadata": {
        "id": "AqslnrmyOSc3"
      }
    }
  ]
}